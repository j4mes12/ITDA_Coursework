{
 "cells": [
  {
   "cell_type": "markdown",
   "metadata": {},
   "source": [
    "# Task 1 - Sentiment Model"
   ]
  },
  {
   "cell_type": "markdown",
   "metadata": {},
   "source": [
    "## Data Extraction - code from data_loader_demo.ipynb"
   ]
  },
  {
   "cell_type": "code",
   "execution_count": 1,
   "id": "annoying-ethiopia",
   "metadata": {},
   "outputs": [],
   "source": [
    "%load_ext autoreload\n",
    "%autoreload 2\n",
    "\n",
    "import warnings\n",
    "import joblib\n",
    "\n",
    "# Exploration\n",
    "import matplotlib.pyplot as plt\n",
    "import seaborn as sns\n",
    "\n",
    "# Feature Engineering\n",
    "import numpy as np\n",
    "import pandas as pd\n",
    "\n",
    "import nltk\n",
    "import re\n",
    "from sklearn.feature_extraction.text import CountVectorizer, TfidfTransformer\n",
    "from nltk.sentiment.vader import SentimentIntensityAnalyzer\n",
    "from scipy.sparse import hstack\n",
    "\n",
    "# Modelling\n",
    "import params as p\n",
    "import functions as f\n",
    "\n",
    "\n",
    "from sklearn.linear_model import LogisticRegression\n",
    "from sklearn.metrics import plot_confusion_matrix, classification_report\n",
    "\n",
    "import optuna\n",
    "\n",
    "import sys\n",
    "sys.path.append('..')\n",
    "\n",
    "import data_loader"
   ]
  },
  {
   "cell_type": "code",
   "execution_count": 2,
   "metadata": {},
   "outputs": [
    {
     "name": "stderr",
     "output_type": "stream",
     "text": [
      "[nltk_data] Downloading package wordnet to\n",
      "[nltk_data]     /Users/jamesstephenson/nltk_data...\n",
      "[nltk_data]   Package wordnet is already up-to-date!\n",
      "[nltk_data] Downloading package averaged_perceptron_tagger to\n",
      "[nltk_data]     /Users/jamesstephenson/nltk_data...\n",
      "[nltk_data]   Package averaged_perceptron_tagger is already up-to-\n",
      "[nltk_data]       date!\n",
      "[nltk_data] Downloading package vader_lexicon to\n",
      "[nltk_data]     /Users/jamesstephenson/nltk_data...\n",
      "[nltk_data]   Package vader_lexicon is already up-to-date!\n"
     ]
    },
    {
     "data": {
      "text/plain": [
       "True"
      ]
     },
     "execution_count": 2,
     "metadata": {},
     "output_type": "execute_result"
    }
   ],
   "source": [
    "nltk.download('wordnet')\n",
    "nltk.download('averaged_perceptron_tagger')\n",
    "nltk.download('vader_lexicon')"
   ]
  },
  {
   "cell_type": "markdown",
   "metadata": {},
   "source": [
    "### Settings"
   ]
  },
  {
   "cell_type": "code",
   "execution_count": 3,
   "metadata": {},
   "outputs": [],
   "source": [
    "warnings.simplefilter(action='ignore', category=FutureWarning)\n",
    "warnings.simplefilter(action='ignore', category=UserWarning)"
   ]
  },
  {
   "cell_type": "markdown",
   "metadata": {},
   "source": [
    "### Import Data"
   ]
  },
  {
   "cell_type": "code",
   "execution_count": 4,
   "metadata": {},
   "outputs": [
    {
     "name": "stderr",
     "output_type": "stream",
     "text": [
      "Reusing dataset financial_phrasebank (/Users/jamesstephenson/.cache/huggingface/datasets/financial_phrasebank/sentences_50agree/1.0.0/a6d468761d4e0c8ae215c77367e1092bead39deb08fbf4bffd7c0a6991febbf0)\n",
      "100%|██████████| 1/1 [00:00<00:00, 45.71it/s]"
     ]
    },
    {
     "name": "stdout",
     "output_type": "stream",
     "text": [
      "The dataset is a dictionary with two splits: \n",
      "\n",
      "DatasetDict({\n",
      "    train: Dataset({\n",
      "        features: ['sentence', 'label'],\n",
      "        num_rows: 4846\n",
      "    })\n",
      "})\n",
      "How many instances in the train dataset? \n",
      "\n",
      "3876\n",
      "\n",
      "What does one instance look like? \n",
      "\n",
      "Pharmaceuticals - Spain This brand-new market analysis gives a clear overview of the actual situation and future outlook of the pharmaceutical market in Spain .\n",
      "instances in the validation dataset \n",
      "\n",
      "969\n",
      "\n",
      "instances in the test dataset \n",
      "\n",
      "970\n"
     ]
    },
    {
     "name": "stderr",
     "output_type": "stream",
     "text": [
      "\n"
     ]
    }
   ],
   "source": [
    "(\n",
    "    train_sentences, test_sentences, val_sentences, train_labels, test_labels, val_labels,\n",
    "    ) = data_loader.import_task1_data()"
   ]
  },
  {
   "cell_type": "markdown",
   "metadata": {},
   "source": [
    "## Data Exploration"
   ]
  },
  {
   "cell_type": "code",
   "execution_count": 5,
   "metadata": {},
   "outputs": [],
   "source": [
    "train = pd.DataFrame({'sentences' : train_sentences, 'labels' : train_labels})"
   ]
  },
  {
   "cell_type": "markdown",
   "metadata": {},
   "source": [
    "### Very Brief Response Analysis"
   ]
  },
  {
   "cell_type": "markdown",
   "metadata": {},
   "source": [
    "Should only need to do this for train due to random split. So would expect to see the same structure for test and val"
   ]
  },
  {
   "cell_type": "code",
   "execution_count": 6,
   "metadata": {},
   "outputs": [
    {
     "data": {
      "image/png": "[encoded data removed]",
      "text/plain": [
       "<Figure size 1080x576 with 1 Axes>"
      ]
     },
     "metadata": {
      "needs_background": "light"
     },
     "output_type": "display_data"
    }
   ],
   "source": [
    "# Make figure and axis\n",
    "fig, ax = plt.subplots(nrows = 1, ncols = 1, figsize = (15, 8))\n",
    "\n",
    "# Create plot of label counts\n",
    "ax = sns.countplot(data = train, x = 'labels').set(title = 'Label Counts for Train Data')\n",
    "\n",
    "# Edit plot to show correct labels\n",
    "plt.xlabel(\"Labels\")\n",
    "plt.ylabel(\"Frequency\")\n",
    "plt.xticks(rotation = 0)\n",
    "\n",
    "# Show Plot\n",
    "plt.show()"
   ]
  },
  {
   "cell_type": "markdown",
   "metadata": {},
   "source": [
    "There is a slight imbalance in labels, but nothing that should be an issue. If we find this is an issue later on, we can perform some over or under sampling."
   ]
  },
  {
   "cell_type": "markdown",
   "metadata": {},
   "source": [
    "# Featuring Engineering"
   ]
  },
  {
   "cell_type": "markdown",
   "metadata": {},
   "source": [
    "### Sentence Processing"
   ]
  },
  {
   "cell_type": "code",
   "execution_count": 7,
   "metadata": {},
   "outputs": [],
   "source": [
    "# Define a function to get the position tag for each word - this helps to lemmatize words correctly with context\n",
    "def get_wordnet_pos(word: str):\n",
    "        '''Map POS tag to first character lemmatize() accepts\n",
    "        \n",
    "        Arguments:\n",
    "            word (str): word to find wordnet position tag for'''\n",
    "        \n",
    "        # Get first letter of pos_tag\n",
    "        tag = nltk.pos_tag([word])[0][1][0].upper()\n",
    "\n",
    "        # Translate letter into wordnet position tag\n",
    "        tag_dict = {\n",
    "            'J': nltk.corpus.wordnet.ADJ,\n",
    "            'N': nltk.corpus.wordnet.NOUN,\n",
    "            'V': nltk.corpus.wordnet.VERB,\n",
    "            'R': nltk.corpus.wordnet.ADV\n",
    "            }\n",
    "\n",
    "        return tag_dict.get(tag, nltk.corpus.wordnet.NOUN)\n",
    "\n",
    "def text_preprocess(sentence: str):\n",
    "    '''Preprocesses the inputted sentence and does the following: sets to lowercase,\n",
    "    removes unwanted characters, lemmatizes and removes stopwords\n",
    "    \n",
    "    Arguments:\n",
    "        sentence (str): sentence to be processed\n",
    "\n",
    "    Returns:\n",
    "        sentence (str): processed sentence'''\n",
    "\n",
    "    # Set to lower case\n",
    "    sentence = str(sentence).lower()\n",
    "    \n",
    "    # Remove non-letter characters and replace the abbreviation 'mn' for million\n",
    "    sentence = re.sub(r'[^a-zA-Z\\s]',r'', sentence)\n",
    "    sentence = re.sub('mn', 'million', sentence)\n",
    "\n",
    "    # Load up a WordNet Lemmatizer\n",
    "    wnl = nltk.stem.WordNetLemmatizer()\n",
    "\n",
    "    # Remove some stopwords to capture negation in n-grams if possible\n",
    "    stop_words = nltk.corpus.stopwords.words('english')\n",
    "    stop_words.remove('no')\n",
    "    stop_words.remove('not')\n",
    "    stop_words.remove('but')\n",
    "\n",
    "    # Wordnet lemmatizer with position tagging to give context\n",
    "    sentence = ' '.join([wnl.lemmatize(word, get_wordnet_pos(word)) for word in nltk.word_tokenize(sentence)])\n",
    "    \n",
    "    # Removal of Stopwords\n",
    "    sentence = ' '.join([word for word in nltk.word_tokenize(sentence) if word not in stop_words])\n",
    "    \n",
    "    return sentence\n",
    "\n",
    "# Turn the above function into a vectorized function to work on columns for sentences\n",
    "vect_text_preprocess = np.vectorize(text_preprocess)"
   ]
  },
  {
   "cell_type": "markdown",
   "metadata": {},
   "source": [
    "### Create Modelling Features"
   ]
  },
  {
   "cell_type": "code",
   "execution_count": 8,
   "metadata": {},
   "outputs": [],
   "source": [
    "def get_lexicon_scores(cvec: CountVectorizer):\n",
    "\n",
    "    sia = SentimentIntensityAnalyzer()\n",
    "\n",
    "    vocab = cvec.vocabulary_\n",
    "\n",
    "    lex_pos_scores = np.zeros((1, len(vocab)))\n",
    "    lex_neg_scores = np.zeros((1, len(vocab)))\n",
    "\n",
    "    for i, word in enumerate(vocab):\n",
    "        if word in sia.lexicon and sia.lexicon[word] > 0:\n",
    "            lex_pos_scores[0, i] = 1\n",
    "        elif word in sia.lexicon and sia.lexicon[word] < 0:\n",
    "            lex_neg_scores[0, i] = 1\n",
    "\n",
    "    return lex_pos_scores, lex_neg_scores\n",
    "\n",
    "\n",
    "def create_lexicon_feature(data, cvec):\n",
    "\n",
    "    lex_pos_scores, lex_neg_scores = get_lexicon_scores(cvec)\n",
    "\n",
    "    lex_pos = np.sum(data.multiply(lex_pos_scores), axis=1)\n",
    "    lex_neg = np.sum(data.multiply(lex_neg_scores), axis=1)\n",
    "\n",
    "    return np.concatenate((lex_pos, lex_neg), axis = 1)\n",
    "\n",
    "def generate_data_columns(cvec: CountVectorizer):\n",
    "\n",
    "    opt = cvec.get_feature_names()\n",
    "    opt.append('negative_lexicon')\n",
    "    opt.append('positive_lexicon')\n",
    "\n",
    "    return opt\n",
    "\n",
    "\n",
    "def create_modelling_feature(train, test, val):\n",
    "\n",
    "    cvec = CountVectorizer(ngram_range = (1, 2), )\n",
    "\n",
    "    cvec_train = cvec.fit_transform(train)\n",
    "    cvec_test = cvec.transform(test)\n",
    "    cvec_val = cvec.transform(val)\n",
    "\n",
    "    tfidf = TfidfTransformer()\n",
    "\n",
    "    tfidf_train = tfidf.fit_transform(cvec_train)\n",
    "    tfidf_test = tfidf.transform(cvec_test)\n",
    "    tfidf_val = tfidf.transform(cvec_val)\n",
    "\n",
    "    lex_train = create_lexicon_feature(cvec_train, cvec)\n",
    "    lex_test = create_lexicon_feature(cvec_test, cvec)\n",
    "    lex_val = create_lexicon_feature(cvec_val, cvec)\n",
    "\n",
    "    X_train = hstack((tfidf_train, lex_train))\n",
    "    X_test = hstack((tfidf_test, lex_test))\n",
    "    X_val = hstack((tfidf_val, lex_val))\n",
    "\n",
    "    Xcols = generate_data_columns(cvec)\n",
    "\n",
    "    print(X_train.shape, X_test.shape, X_val.shape)\n",
    "\n",
    "    return X_train, X_test, X_val, Xcols"
   ]
  },
  {
   "cell_type": "code",
   "execution_count": 9,
   "metadata": {},
   "outputs": [
    {
     "name": "stdout",
     "output_type": "stream",
     "text": [
      "(2907, 29602) (970, 29602) (969, 29602)\n"
     ]
    }
   ],
   "source": [
    "# Clean train, test and validation sentences using the vectorized text_processor\n",
    "clean_train_sentences = vect_text_preprocess(train_sentences)\n",
    "clean_test_sentences = vect_text_preprocess(test_sentences)\n",
    "clean_val_sentences = vect_text_preprocess(val_sentences)\n",
    "\n",
    "# Create \n",
    "X_train, X_test, X_val, Xcols = create_modelling_feature(\n",
    "    clean_train_sentences,\n",
    "    clean_test_sentences,\n",
    "    clean_val_sentences\n",
    "    )"
   ]
  },
  {
   "cell_type": "markdown",
   "metadata": {},
   "source": [
    "## Modelling\n",
    "\n",
    "We will be using the ROC AUC Score as our evaluation metric since is provides a good balance between True Negative and False Positives in one score. This is preferred to Accuracy due to our imbalance and Precision and Recall since we require a balance of the both to get a good model. Since ROC score uses predicted probabilities as its input, we don't have to tune the threshold."
   ]
  },
  {
   "cell_type": "markdown",
   "metadata": {},
   "source": [
    "### Baseline Model - Linear Regression and a TF-IDF Vectorizer\n",
    "\n",
    "We are using a Logistic Regressor since it is a robust model across a wide state space so should be able to deal with our sentences effectively. We will be using a TF-IDF Vectorizer to vectorize our sentences before modelling."
   ]
  },
  {
   "cell_type": "code",
   "execution_count": 10,
   "metadata": {},
   "outputs": [],
   "source": [
    "# Make a dictionary for each train, test and validation to make fitting and evaluation cleaner.\n",
    "train_data = {'X' : X_train.tocsr(), 'y' : train_labels}\n",
    "test_data = {'X' : X_test.tocsr(), 'y' : test_labels}\n",
    "val_data = {'X' : X_val.tocsr(), 'y' : val_labels}\n",
    "\n",
    "datasets = {\n",
    "    'train' : train_data,\n",
    "    'test' : test_data,\n",
    "    'val' : val_data\n",
    "    }"
   ]
  },
  {
   "cell_type": "code",
   "execution_count": 14,
   "metadata": {},
   "outputs": [
    {
     "name": "stdout",
     "output_type": "stream",
     "text": [
      "--- Model Metrics for Datasets --- \n"
     ]
    },
    {
     "data": {
      "text/html": [
       "<div>\n",
       "<style scoped>\n",
       "    .dataframe tbody tr th:only-of-type {\n",
       "        vertical-align: middle;\n",
       "    }\n",
       "\n",
       "    .dataframe tbody tr th {\n",
       "        vertical-align: top;\n",
       "    }\n",
       "\n",
       "    .dataframe thead th {\n",
       "        text-align: right;\n",
       "    }\n",
       "</style>\n",
       "<table border=\"1\" class=\"dataframe\">\n",
       "  <thead>\n",
       "    <tr style=\"text-align: right;\">\n",
       "      <th></th>\n",
       "      <th>ROC</th>\n",
       "      <th>Accuracy</th>\n",
       "      <th>Precision</th>\n",
       "      <th>Recall</th>\n",
       "    </tr>\n",
       "  </thead>\n",
       "  <tbody>\n",
       "    <tr>\n",
       "      <th>Train</th>\n",
       "      <td>0.993052</td>\n",
       "      <td>0.864809</td>\n",
       "      <td>0.906456</td>\n",
       "      <td>0.746392</td>\n",
       "    </tr>\n",
       "    <tr>\n",
       "      <th>Validation</th>\n",
       "      <td>0.848808</td>\n",
       "      <td>0.731682</td>\n",
       "      <td>0.756208</td>\n",
       "      <td>0.561903</td>\n",
       "    </tr>\n",
       "  </tbody>\n",
       "</table>\n",
       "</div>"
      ],
      "text/plain": [
       "                 ROC  Accuracy  Precision    Recall\n",
       "Train       0.993052  0.864809   0.906456  0.746392\n",
       "Validation  0.848808  0.731682   0.756208  0.561903"
      ]
     },
     "execution_count": 14,
     "metadata": {},
     "output_type": "execute_result"
    }
   ],
   "source": [
    "baseline_lr = LogisticRegression()\n",
    "\n",
    "baseline_lr.fit(**train_data)\n",
    "\n",
    "f.evaluate_model_on_ttv(baseline_lr, datasets)"
   ]
  },
  {
   "cell_type": "markdown",
   "metadata": {},
   "source": [
    "### Model Tuning - Logistic Regression"
   ]
  },
  {
   "cell_type": "code",
   "execution_count": 15,
   "metadata": {},
   "outputs": [
    {
     "name": "stderr",
     "output_type": "stream",
     "text": [
      "\u001b[32m[I 2022-04-29 10:52:36,894]\u001b[0m A new study created in memory with name: T1_HyperParam_CV\u001b[0m\n",
      "/var/folders/2f/cwgmhyzx4fn5cwp5j_dpmsd00000gn/T/ipykernel_36094/3449259455.py:16: ExperimentalWarning: OptunaSearchCV is experimental (supported from v0.17.0). The interface can change in the future.\n",
      "  oscv = optuna.integration.OptunaSearchCV(\n",
      "\u001b[32m[I 2022-04-29 10:52:36,908]\u001b[0m Searching the best hyperparameters using 2907 samples...\u001b[0m\n",
      "\u001b[32m[I 2022-04-29 10:52:37,534]\u001b[0m Trial 5 finished with value: 0.5 and parameters: {'C': 0.00044011744961262297}. Best is trial 5 with value: 0.5.\u001b[0m\n",
      "\u001b[32m[I 2022-04-29 10:52:37,536]\u001b[0m Trial 3 finished with value: 0.5 and parameters: {'C': 0.0026599720629917616}. Best is trial 5 with value: 0.5.\u001b[0m\n",
      "\u001b[32m[I 2022-04-29 10:52:37,548]\u001b[0m Trial 1 finished with value: 0.5 and parameters: {'C': 0.009019282162882308}. Best is trial 5 with value: 0.5.\u001b[0m\n",
      "\u001b[32m[I 2022-04-29 10:52:37,552]\u001b[0m Trial 6 finished with value: 0.5 and parameters: {'C': 0.00037026728897607015}. Best is trial 5 with value: 0.5.\u001b[0m\n",
      "\u001b[32m[I 2022-04-29 10:52:37,591]\u001b[0m Trial 0 finished with value: 0.5 and parameters: {'C': 0.006668057366057333}. Best is trial 5 with value: 0.5.\u001b[0m\n",
      "\u001b[32m[I 2022-04-29 10:52:37,672]\u001b[0m Trial 7 finished with value: 0.5 and parameters: {'C': 0.02846122002363032}. Best is trial 5 with value: 0.5.\u001b[0m\n",
      "\u001b[32m[I 2022-04-29 10:52:37,902]\u001b[0m Trial 9 finished with value: 0.5 and parameters: {'C': 0.00047769684338227597}. Best is trial 5 with value: 0.5.\u001b[0m\n",
      "\u001b[32m[I 2022-04-29 10:52:38,063]\u001b[0m Trial 4 finished with value: 0.6001417317704059 and parameters: {'C': 0.05408777907050748}. Best is trial 4 with value: 0.6001417317704059.\u001b[0m\n",
      "\u001b[32m[I 2022-04-29 10:52:38,260]\u001b[0m Trial 11 finished with value: 0.5 and parameters: {'C': 0.02186568567683032}. Best is trial 4 with value: 0.6001417317704059.\u001b[0m\n",
      "\u001b[32m[I 2022-04-29 10:52:38,460]\u001b[0m Trial 14 finished with value: 0.5 and parameters: {'C': 0.008044446620244684}. Best is trial 4 with value: 0.6001417317704059.\u001b[0m\n",
      "\u001b[32m[I 2022-04-29 10:52:38,469]\u001b[0m Trial 2 finished with value: 0.6024684705636466 and parameters: {'C': 0.07641048642988608}. Best is trial 2 with value: 0.6024684705636466.\u001b[0m\n",
      "\u001b[32m[I 2022-04-29 10:52:38,474]\u001b[0m Trial 13 finished with value: 0.5 and parameters: {'C': 0.03281465118799865}. Best is trial 2 with value: 0.6024684705636466.\u001b[0m\n",
      "\u001b[32m[I 2022-04-29 10:52:38,636]\u001b[0m Trial 15 finished with value: 0.5 and parameters: {'C': 0.005199548432184683}. Best is trial 2 with value: 0.6024684705636466.\u001b[0m\n",
      "\u001b[32m[I 2022-04-29 10:52:38,684]\u001b[0m Trial 16 finished with value: 0.5 and parameters: {'C': 0.0004272331434569008}. Best is trial 2 with value: 0.6024684705636466.\u001b[0m\n",
      "\u001b[32m[I 2022-04-29 10:52:38,872]\u001b[0m Trial 10 finished with value: 0.6033892161948582 and parameters: {'C': 0.11153042818959463}. Best is trial 10 with value: 0.6033892161948582.\u001b[0m\n",
      "\u001b[32m[I 2022-04-29 10:52:39,945]\u001b[0m Trial 8 finished with value: 0.5903900426785347 and parameters: {'C': 0.04305734946135881}. Best is trial 10 with value: 0.6033892161948582.\u001b[0m\n",
      "\u001b[32m[I 2022-04-29 10:52:42,007]\u001b[0m Trial 12 finished with value: 0.6728703025511674 and parameters: {'C': 0.2479666696193455}. Best is trial 12 with value: 0.6728703025511674.\u001b[0m\n",
      "\u001b[32m[I 2022-04-29 10:52:44,409]\u001b[0m Trial 21 finished with value: 0.7130448984730109 and parameters: {'C': 0.3486570373718207}. Best is trial 21 with value: 0.7130448984730109.\u001b[0m\n",
      "\u001b[32m[I 2022-04-29 10:52:45,162]\u001b[0m Trial 19 finished with value: 0.7355710739993876 and parameters: {'C': 0.4282413154165047}. Best is trial 19 with value: 0.7355710739993876.\u001b[0m\n",
      "\u001b[32m[I 2022-04-29 10:52:45,925]\u001b[0m Trial 23 finished with value: 0.7096985902103847 and parameters: {'C': 0.33923012190956825}. Best is trial 19 with value: 0.7355710739993876.\u001b[0m\n",
      "\u001b[32m[I 2022-04-29 10:52:46,105]\u001b[0m Trial 20 finished with value: 0.7437502641331564 and parameters: {'C': 0.4555109910756108}. Best is trial 20 with value: 0.7437502641331564.\u001b[0m\n",
      "\u001b[32m[I 2022-04-29 10:52:46,560]\u001b[0m Trial 17 finished with value: 0.7495083341533945 and parameters: {'C': 0.47611426460880135}. Best is trial 17 with value: 0.7495083341533945.\u001b[0m\n",
      "\u001b[32m[I 2022-04-29 10:52:52,970]\u001b[0m Trial 24 finished with value: 0.7612982944311785 and parameters: {'C': 0.537202152975644}. Best is trial 24 with value: 0.7612982944311785.\u001b[0m\n",
      "\u001b[32m[I 2022-04-29 10:52:55,651]\u001b[0m Trial 30 finished with value: 0.614215970947708 and parameters: {'C': 0.14863202439346146}. Best is trial 24 with value: 0.7612982944311785.\u001b[0m\n",
      "\u001b[32m[I 2022-04-29 10:52:55,665]\u001b[0m Trial 18 finished with value: 0.781030168793039 and parameters: {'C': 0.6435558467323846}. Best is trial 18 with value: 0.781030168793039.\u001b[0m\n",
      "\u001b[32m[I 2022-04-29 10:53:00,942]\u001b[0m Trial 22 finished with value: 0.7839674892258406 and parameters: {'C': 0.6602278075448593}. Best is trial 22 with value: 0.7839674892258406.\u001b[0m\n",
      "\u001b[32m[I 2022-04-29 10:53:04,383]\u001b[0m Trial 28 finished with value: 0.777361543595785 and parameters: {'C': 0.6280992684661585}. Best is trial 22 with value: 0.7839674892258406.\u001b[0m\n",
      "\u001b[32m[I 2022-04-29 10:53:11,483]\u001b[0m Trial 27 finished with value: 0.8178823687656248 and parameters: {'C': 0.9189118315811297}. Best is trial 27 with value: 0.8178823687656248.\u001b[0m\n",
      "\u001b[32m[I 2022-04-29 10:53:12,388]\u001b[0m Trial 25 finished with value: 0.8231590488650943 and parameters: {'C': 0.9850179273853454}. Best is trial 25 with value: 0.8231590488650943.\u001b[0m\n",
      "\u001b[32m[I 2022-04-29 10:53:12,867]\u001b[0m Trial 26 finished with value: 0.8060618772145658 and parameters: {'C': 0.80439209763765}. Best is trial 25 with value: 0.8231590488650943.\u001b[0m\n",
      "\u001b[32m[I 2022-04-29 10:53:14,567]\u001b[0m Trial 29 finished with value: 0.8196219415552021 and parameters: {'C': 0.9389473194223406}. Best is trial 25 with value: 0.8231590488650943.\u001b[0m\n",
      "\u001b[32m[I 2022-04-29 10:53:18,500]\u001b[0m Trial 32 finished with value: 0.7814441107825586 and parameters: {'C': 0.6464118344409697}. Best is trial 25 with value: 0.8231590488650943.\u001b[0m\n",
      "\u001b[32m[I 2022-04-29 10:53:22,843]\u001b[0m Trial 31 finished with value: 0.808326223352735 and parameters: {'C': 0.822653513180916}. Best is trial 25 with value: 0.8231590488650943.\u001b[0m\n",
      "\u001b[32m[I 2022-04-29 10:53:28,693]\u001b[0m Trial 33 finished with value: 0.8195353238096541 and parameters: {'C': 0.9376381841665532}. Best is trial 25 with value: 0.8231590488650943.\u001b[0m\n",
      "\u001b[32m[I 2022-04-29 10:53:34,186]\u001b[0m Trial 34 finished with value: 0.795345423534198 and parameters: {'C': 0.7283966028739652}. Best is trial 25 with value: 0.8231590488650943.\u001b[0m\n",
      "\u001b[32m[I 2022-04-29 10:53:34,743]\u001b[0m Trial 41 finished with value: 0.6419590546211339 and parameters: {'C': 0.18846708737748585}. Best is trial 25 with value: 0.8231590488650943.\u001b[0m\n",
      "\u001b[32m[I 2022-04-29 10:53:38,390]\u001b[0m Trial 43 finished with value: 0.603439749512398 and parameters: {'C': 0.09794941105800645}. Best is trial 25 with value: 0.8231590488650943.\u001b[0m\n",
      "\u001b[32m[I 2022-04-29 10:53:40,976]\u001b[0m Trial 42 finished with value: 0.6361897104014422 and parameters: {'C': 0.17427418136936929}. Best is trial 25 with value: 0.8231590488650943.\u001b[0m\n",
      "\u001b[32m[I 2022-04-29 10:53:41,216]\u001b[0m Trial 45 finished with value: 0.5 and parameters: {'C': 0.0012921675696594512}. Best is trial 25 with value: 0.8231590488650943.\u001b[0m\n",
      "\u001b[32m[I 2022-04-29 10:53:41,459]\u001b[0m Trial 46 finished with value: 0.5 and parameters: {'C': 0.00012599980445669463}. Best is trial 25 with value: 0.8231590488650943.\u001b[0m\n",
      "\u001b[32m[I 2022-04-29 10:53:43,289]\u001b[0m Trial 35 finished with value: 0.8157660263360172 and parameters: {'C': 0.8959180660939959}. Best is trial 25 with value: 0.8231590488650943.\u001b[0m\n",
      "\u001b[32m[I 2022-04-29 10:53:44,524]\u001b[0m Trial 44 finished with value: 0.6553222867859972 and parameters: {'C': 0.22142894226074347}. Best is trial 25 with value: 0.8231590488650943.\u001b[0m\n",
      "\u001b[32m[I 2022-04-29 10:53:44,716]\u001b[0m Trial 37 finished with value: 0.8197008047127957 and parameters: {'C': 0.9398251403273344}. Best is trial 25 with value: 0.8231590488650943.\u001b[0m\n",
      "\u001b[32m[I 2022-04-29 10:53:45,799]\u001b[0m Trial 36 finished with value: 0.8217245182524906 and parameters: {'C': 0.965000966699347}. Best is trial 25 with value: 0.8231590488650943.\u001b[0m\n",
      "\u001b[32m[I 2022-04-29 10:53:46,945]\u001b[0m Trial 51 finished with value: 0.6013212681965826 and parameters: {'C': 0.06337525017174937}. Best is trial 25 with value: 0.8231590488650943.\u001b[0m\n",
      "\u001b[32m[I 2022-04-29 10:53:47,825]\u001b[0m Trial 38 finished with value: 0.8231659523157463 and parameters: {'C': 0.9848418184248215}. Best is trial 38 with value: 0.8231659523157463.\u001b[0m\n",
      "\u001b[32m[I 2022-04-29 10:53:51,612]\u001b[0m Trial 39 finished with value: 0.8231177510118293 and parameters: {'C': 0.9828513060467019}. Best is trial 38 with value: 0.8231659523157463.\u001b[0m\n",
      "\u001b[32m[I 2022-04-29 10:53:53,445]\u001b[0m Trial 52 finished with value: 0.6823755027297226 and parameters: {'C': 0.2616842113916503}. Best is trial 38 with value: 0.8231659523157463.\u001b[0m\n",
      "\u001b[32m[I 2022-04-29 10:53:56,116]\u001b[0m Trial 53 finished with value: 0.6984988814268155 and parameters: {'C': 0.29650142153411785}. Best is trial 38 with value: 0.8231659523157463.\u001b[0m\n",
      "\u001b[32m[I 2022-04-29 10:53:56,360]\u001b[0m Trial 40 finished with value: 0.8191869463588702 and parameters: {'C': 0.9337246270702887}. Best is trial 38 with value: 0.8231659523157463.\u001b[0m\n",
      "\u001b[32m[I 2022-04-29 10:53:56,629]\u001b[0m Trial 56 finished with value: 0.5 and parameters: {'C': 0.020677090293501094}. Best is trial 38 with value: 0.8231659523157463.\u001b[0m\n",
      "\u001b[32m[I 2022-04-29 10:53:56,918]\u001b[0m Trial 57 finished with value: 0.5 and parameters: {'C': 0.02000961913141809}. Best is trial 38 with value: 0.8231659523157463.\u001b[0m\n",
      "\u001b[32m[I 2022-04-29 10:53:59,848]\u001b[0m Trial 54 finished with value: 0.6920237665842477 and parameters: {'C': 0.27916565413902455}. Best is trial 38 with value: 0.8231659523157463.\u001b[0m\n",
      "\u001b[32m[I 2022-04-29 10:54:01,893]\u001b[0m Trial 55 finished with value: 0.7053934656378709 and parameters: {'C': 0.3187307195164447}. Best is trial 38 with value: 0.8231659523157463.\u001b[0m\n",
      "\u001b[32m[I 2022-04-29 10:54:05,262]\u001b[0m Trial 59 finished with value: 0.7260182983923851 and parameters: {'C': 0.39518546978329594}. Best is trial 38 with value: 0.8231659523157463.\u001b[0m\n",
      "\u001b[32m[I 2022-04-29 10:54:05,827]\u001b[0m Trial 58 finished with value: 0.730459682948809 and parameters: {'C': 0.41332995654796517}. Best is trial 38 with value: 0.8231659523157463.\u001b[0m\n",
      "\u001b[32m[I 2022-04-29 10:54:08,273]\u001b[0m Trial 63 finished with value: 0.6032548665445755 and parameters: {'C': 0.12539740989152218}. Best is trial 38 with value: 0.8231659523157463.\u001b[0m\n",
      "\u001b[32m[I 2022-04-29 10:54:12,413]\u001b[0m Trial 60 finished with value: 0.7518777571069271 and parameters: {'C': 0.4860546133887748}. Best is trial 38 with value: 0.8231659523157463.\u001b[0m\n",
      "\u001b[32m[I 2022-04-29 10:54:12,643]\u001b[0m Trial 61 finished with value: 0.7398770194816581 and parameters: {'C': 0.440133899870784}. Best is trial 38 with value: 0.8231659523157463.\u001b[0m\n",
      "\u001b[32m[I 2022-04-29 10:54:12,815]\u001b[0m Trial 65 finished with value: 0.5 and parameters: {'C': 0.002603572206326831}. Best is trial 38 with value: 0.8231659523157463.\u001b[0m\n",
      "\u001b[32m[I 2022-04-29 10:54:12,898]\u001b[0m Trial 66 finished with value: 0.5 and parameters: {'C': 0.001725665770997627}. Best is trial 38 with value: 0.8231659523157463.\u001b[0m\n",
      "\u001b[32m[I 2022-04-29 10:54:12,955]\u001b[0m Trial 48 finished with value: 0.8184034912618385 and parameters: {'C': 0.9263108268311016}. Best is trial 38 with value: 0.8231659523157463.\u001b[0m\n",
      "\u001b[32m[I 2022-04-29 10:54:13,615]\u001b[0m Trial 47 finished with value: 0.8229148235618335 and parameters: {'C': 0.9789852013278488}. Best is trial 38 with value: 0.8231659523157463.\u001b[0m\n",
      "\u001b[32m[I 2022-04-29 10:54:16,166]\u001b[0m Trial 49 finished with value: 0.822225491220166 and parameters: {'C': 0.9702487842074832}. Best is trial 38 with value: 0.8231659523157463.\u001b[0m\n",
      "\u001b[32m[I 2022-04-29 10:54:16,388]\u001b[0m Trial 50 finished with value: 0.8233214817111515 and parameters: {'C': 0.9881749142480316}. Best is trial 50 with value: 0.8233214817111515.\u001b[0m\n",
      "\u001b[32m[I 2022-04-29 10:54:18,633]\u001b[0m Trial 62 finished with value: 0.7523340201174988 and parameters: {'C': 0.4900848203779634}. Best is trial 50 with value: 0.8233214817111515.\u001b[0m\n",
      "\u001b[32m[I 2022-04-29 10:54:23,421]\u001b[0m Trial 64 finished with value: 0.7643443408918131 and parameters: {'C': 0.5535916428071732}. Best is trial 50 with value: 0.8233214817111515.\u001b[0m\n",
      "\u001b[32m[I 2022-04-29 10:54:28,945]\u001b[0m Trial 68 finished with value: 0.7686445638053645 and parameters: {'C': 0.5808577317326585}. Best is trial 50 with value: 0.8233214817111515.\u001b[0m\n",
      "\u001b[32m[I 2022-04-29 10:54:30,682]\u001b[0m Trial 70 finished with value: 0.7731759289712382 and parameters: {'C': 0.6068115800248507}. Best is trial 50 with value: 0.8233214817111515.\u001b[0m\n",
      "\u001b[32m[I 2022-04-29 10:54:31,786]\u001b[0m Trial 72 finished with value: 0.7677735103105106 and parameters: {'C': 0.5745593317564923}. Best is trial 50 with value: 0.8233214817111515.\u001b[0m\n",
      "\u001b[32m[I 2022-04-29 10:54:32,175]\u001b[0m Trial 77 finished with value: 0.5 and parameters: {'C': 0.01407157599802258}. Best is trial 50 with value: 0.8233214817111515.\u001b[0m\n",
      "\u001b[32m[I 2022-04-29 10:54:32,260]\u001b[0m Trial 71 finished with value: 0.7690992932948858 and parameters: {'C': 0.5840499485567555}. Best is trial 50 with value: 0.8233214817111515.\u001b[0m\n",
      "\u001b[32m[I 2022-04-29 10:54:34,996]\u001b[0m Trial 73 finished with value: 0.7710758904834065 and parameters: {'C': 0.5955293362561421}. Best is trial 50 with value: 0.8233214817111515.\u001b[0m\n",
      "\u001b[32m[I 2022-04-29 10:54:37,082]\u001b[0m Trial 69 finished with value: 0.7817945243744074 and parameters: {'C': 0.6491803466619698}. Best is trial 50 with value: 0.8233214817111515.\u001b[0m\n",
      "\u001b[32m[I 2022-04-29 10:54:43,240]\u001b[0m Trial 74 finished with value: 0.7771444298545933 and parameters: {'C': 0.62684953473839}. Best is trial 50 with value: 0.8233214817111515.\u001b[0m\n",
      "\u001b[32m[I 2022-04-29 10:54:44,477]\u001b[0m Trial 67 finished with value: 0.8241868608390266 and parameters: {'C': 0.997627951863553}. Best is trial 67 with value: 0.8241868608390266.\u001b[0m\n",
      "\u001b[32m[I 2022-04-29 10:54:58,251]\u001b[0m Trial 75 finished with value: 0.7863087802990352 and parameters: {'C': 0.6727500741011535}. Best is trial 67 with value: 0.8241868608390266.\u001b[0m\n",
      "\u001b[32m[I 2022-04-29 10:54:59,095]\u001b[0m Trial 76 finished with value: 0.7851105577729509 and parameters: {'C': 0.6669847532977504}. Best is trial 67 with value: 0.8241868608390266.\u001b[0m\n",
      "\u001b[32m[I 2022-04-29 10:55:02,309]\u001b[0m Trial 78 finished with value: 0.8051474924662875 and parameters: {'C': 0.7962851341346342}. Best is trial 67 with value: 0.8241868608390266.\u001b[0m\n",
      "\u001b[32m[I 2022-04-29 10:55:03,239]\u001b[0m Trial 79 finished with value: 0.7951152521467937 and parameters: {'C': 0.7264349163952658}. Best is trial 67 with value: 0.8241868608390266.\u001b[0m\n",
      "\u001b[32m[I 2022-04-29 10:55:05,779]\u001b[0m Trial 84 finished with value: 0.7148416678696229 and parameters: {'C': 0.3555042876199005}. Best is trial 67 with value: 0.8241868608390266.\u001b[0m\n",
      "\u001b[32m[I 2022-04-29 10:55:05,941]\u001b[0m Trial 80 finished with value: 0.7938902031229387 and parameters: {'C': 0.718997255372682}. Best is trial 67 with value: 0.8241868608390266.\u001b[0m\n",
      "\u001b[32m[I 2022-04-29 10:55:07,276]\u001b[0m Trial 81 finished with value: 0.803720772627942 and parameters: {'C': 0.7867643847185501}. Best is trial 67 with value: 0.8241868608390266.\u001b[0m\n",
      "\u001b[32m[I 2022-04-29 10:55:10,130]\u001b[0m Trial 86 finished with value: 0.7144131406227596 and parameters: {'C': 0.3534634051438988}. Best is trial 67 with value: 0.8241868608390266.\u001b[0m\n",
      "\u001b[32m[I 2022-04-29 10:55:10,710]\u001b[0m Trial 87 finished with value: 0.7150965823447132 and parameters: {'C': 0.3571681594343474}. Best is trial 67 with value: 0.8241868608390266.\u001b[0m\n",
      "\u001b[32m[I 2022-04-29 10:55:12,538]\u001b[0m Trial 82 finished with value: 0.8036843537737994 and parameters: {'C': 0.7860495683091964}. Best is trial 67 with value: 0.8241868608390266.\u001b[0m\n",
      "\u001b[32m[I 2022-04-29 10:55:14,339]\u001b[0m Trial 83 finished with value: 0.8052951607484472 and parameters: {'C': 0.7979700658112714}. Best is trial 67 with value: 0.8241868608390266.\u001b[0m\n",
      "\u001b[32m[I 2022-04-29 10:55:28,170]\u001b[0m Trial 85 finished with value: 0.8230848366608765 and parameters: {'C': 0.9825666972484162}. Best is trial 67 with value: 0.8241868608390266.\u001b[0m\n",
      "\u001b[32m[I 2022-04-29 10:55:34,256]\u001b[0m Trial 89 finished with value: 0.8207536009184973 and parameters: {'C': 0.9532582998164214}. Best is trial 67 with value: 0.8241868608390266.\u001b[0m\n",
      "\u001b[32m[I 2022-04-29 10:55:34,360]\u001b[0m Trial 88 finished with value: 0.8241657574003998 and parameters: {'C': 0.999303468637687}. Best is trial 67 with value: 0.8241868608390266.\u001b[0m\n",
      "\u001b[32m[I 2022-04-29 10:55:35,302]\u001b[0m Trial 90 finished with value: 0.8222211932638951 and parameters: {'C': 0.9700904481566994}. Best is trial 67 with value: 0.8241868608390266.\u001b[0m\n",
      "\u001b[32m[I 2022-04-29 10:55:38,210]\u001b[0m Trial 92 finished with value: 0.8225669358669506 and parameters: {'C': 0.9748032940080367}. Best is trial 67 with value: 0.8241868608390266.\u001b[0m\n",
      "\u001b[32m[I 2022-04-29 10:55:38,528]\u001b[0m Trial 91 finished with value: 0.823901632353046 and parameters: {'C': 0.9958228032867104}. Best is trial 67 with value: 0.8241868608390266.\u001b[0m\n",
      "\u001b[32m[I 2022-04-29 10:55:38,634]\u001b[0m Trial 96 finished with value: 0.6441290001058545 and parameters: {'C': 0.19527958630493783}. Best is trial 67 with value: 0.8241868608390266.\u001b[0m\n",
      "\u001b[32m[I 2022-04-29 10:55:38,841]\u001b[0m Trial 97 finished with value: 0.6462105554316524 and parameters: {'C': 0.19961030641202115}. Best is trial 67 with value: 0.8241868608390266.\u001b[0m\n",
      "\u001b[32m[I 2022-04-29 10:55:39,177]\u001b[0m Trial 93 finished with value: 0.8200147966584799 and parameters: {'C': 0.9445949487589184}. Best is trial 67 with value: 0.8241868608390266.\u001b[0m\n",
      "\u001b[32m[I 2022-04-29 10:55:41,074]\u001b[0m Trial 94 finished with value: 0.8209174892907765 and parameters: {'C': 0.9558866119435534}. Best is trial 67 with value: 0.8241868608390266.\u001b[0m\n",
      "\u001b[32m[I 2022-04-29 10:55:41,742]\u001b[0m Trial 99 finished with value: 0.6601846974021615 and parameters: {'C': 0.23209371637554438}. Best is trial 67 with value: 0.8241868608390266.\u001b[0m\n",
      "\u001b[32m[I 2022-04-29 10:55:42,476]\u001b[0m Trial 98 finished with value: 0.7419215059204237 and parameters: {'C': 0.44948076091568945}. Best is trial 67 with value: 0.8241868608390266.\u001b[0m\n",
      "\u001b[32m[I 2022-04-29 10:55:47,078]\u001b[0m Trial 95 finished with value: 0.8235489614725602 and parameters: {'C': 0.9915072105415684}. Best is trial 67 with value: 0.8241868608390266.\u001b[0m\n",
      "\u001b[32m[I 2022-04-29 10:55:47,081]\u001b[0m Finished hyperparemeter search!\u001b[0m\n",
      "\u001b[32m[I 2022-04-29 10:55:47,082]\u001b[0m Refitting the estimator using 2907 samples...\u001b[0m\n",
      "\u001b[32m[I 2022-04-29 10:55:48,310]\u001b[0m Finished refitting! (elapsed time: 1.225 sec.)\u001b[0m\n"
     ]
    },
    {
     "data": {
      "text/plain": [
       "OptunaSearchCV(cv=10,\n",
       "               estimator=LogisticRegression(max_iter=100000, penalty='l1',\n",
       "                                            random_state=73, solver='saga'),\n",
       "               n_jobs=-1, n_trials=100,\n",
       "               param_distributions={'C': LogUniformDistribution(high=1.0, low=0.0001)},\n",
       "               random_state=73, scoring='roc_auc_ovr',\n",
       "               study=<optuna.study.study.Study object at 0x17fd383d0>,\n",
       "               verbose=1)"
      ]
     },
     "execution_count": 15,
     "metadata": {},
     "output_type": "execute_result"
    }
   ],
   "source": [
    "sampler = optuna.samplers.TPESampler(seed=p.RANDOM_STATE)\n",
    "study = optuna.create_study(sampler = sampler, direction = 'maximize', study_name = 'T1_HyperParam_CV')\n",
    "\n",
    "\n",
    "oscv_base_params = {\n",
    "    'random_state' : p.RANDOM_STATE,\n",
    "    'solver' : 'saga',\n",
    "    'penalty' : 'l1',\n",
    "    'max_iter' : 100000\n",
    "}\n",
    "\n",
    "oscv_params = {\n",
    "    'C': optuna.distributions.LogUniformDistribution(1e-4, 1),\n",
    "}\n",
    "\n",
    "oscv = optuna.integration.OptunaSearchCV(\n",
    "    study = study,\n",
    "    estimator = LogisticRegression(**oscv_base_params),\n",
    "    param_distributions = oscv_params,\n",
    "    cv = 10,\n",
    "    n_jobs = -1,\n",
    "    n_trials = 100,\n",
    "    random_state = p.RANDOM_STATE,\n",
    "    refit = True,\n",
    "    scoring = 'roc_auc_ovr',\n",
    "    verbose = 1\n",
    ")\n",
    "\n",
    "oscv.fit(**train_data)"
   ]
  },
  {
   "cell_type": "code",
   "execution_count": 16,
   "metadata": {},
   "outputs": [
    {
     "name": "stdout",
     "output_type": "stream",
     "text": [
      "--- Model Metrics for Datasets --- \n"
     ]
    },
    {
     "data": {
      "text/html": [
       "<div>\n",
       "<style scoped>\n",
       "    .dataframe tbody tr th:only-of-type {\n",
       "        vertical-align: middle;\n",
       "    }\n",
       "\n",
       "    .dataframe tbody tr th {\n",
       "        vertical-align: top;\n",
       "    }\n",
       "\n",
       "    .dataframe thead th {\n",
       "        text-align: right;\n",
       "    }\n",
       "</style>\n",
       "<table border=\"1\" class=\"dataframe\">\n",
       "  <thead>\n",
       "    <tr style=\"text-align: right;\">\n",
       "      <th></th>\n",
       "      <th>ROC</th>\n",
       "      <th>Accuracy</th>\n",
       "      <th>Precision</th>\n",
       "      <th>Recall</th>\n",
       "    </tr>\n",
       "  </thead>\n",
       "  <tbody>\n",
       "    <tr>\n",
       "      <th>Train</th>\n",
       "      <td>0.863238</td>\n",
       "      <td>0.740282</td>\n",
       "      <td>0.773541</td>\n",
       "      <td>0.594807</td>\n",
       "    </tr>\n",
       "    <tr>\n",
       "      <th>Validation</th>\n",
       "      <td>0.831401</td>\n",
       "      <td>0.744066</td>\n",
       "      <td>0.741331</td>\n",
       "      <td>0.605721</td>\n",
       "    </tr>\n",
       "  </tbody>\n",
       "</table>\n",
       "</div>"
      ],
      "text/plain": [
       "                 ROC  Accuracy  Precision    Recall\n",
       "Train       0.863238  0.740282   0.773541  0.594807\n",
       "Validation  0.831401  0.744066   0.741331  0.605721"
      ]
     },
     "execution_count": 16,
     "metadata": {},
     "output_type": "execute_result"
    }
   ],
   "source": [
    "f.evaluate_model_on_ttv(oscv.best_estimator_, datasets)"
   ]
  },
  {
   "cell_type": "code",
   "execution_count": 17,
   "metadata": {},
   "outputs": [],
   "source": [
    "# Create tuned LR model\n",
    "lr_tuned = oscv.best_estimator_"
   ]
  },
  {
   "cell_type": "code",
   "execution_count": 18,
   "metadata": {},
   "outputs": [
    {
     "data": {
      "text/plain": [
       "{'C': 0.997627951863553}"
      ]
     },
     "execution_count": 18,
     "metadata": {},
     "output_type": "execute_result"
    }
   ],
   "source": [
    "oscv.best_params_"
   ]
  },
  {
   "cell_type": "code",
   "execution_count": 19,
   "metadata": {},
   "outputs": [
    {
     "data": {
      "text/plain": [
       "['xgb_model.pkl']"
      ]
     },
     "execution_count": 19,
     "metadata": {},
     "output_type": "execute_result"
    }
   ],
   "source": [
    "joblib.dump(oscv.best_estimator_, 'xgb_model.pkl')"
   ]
  },
  {
   "cell_type": "markdown",
   "metadata": {},
   "source": [
    "#### Overall Evaluation"
   ]
  },
  {
   "cell_type": "code",
   "execution_count": 20,
   "metadata": {},
   "outputs": [],
   "source": [
    "best_model = joblib.load('xgb_model.pkl')"
   ]
  },
  {
   "cell_type": "code",
   "execution_count": 21,
   "metadata": {},
   "outputs": [
    {
     "data": {
      "text/html": [
       "<div>\n",
       "<style scoped>\n",
       "    .dataframe tbody tr th:only-of-type {\n",
       "        vertical-align: middle;\n",
       "    }\n",
       "\n",
       "    .dataframe tbody tr th {\n",
       "        vertical-align: top;\n",
       "    }\n",
       "\n",
       "    .dataframe thead th {\n",
       "        text-align: right;\n",
       "    }\n",
       "</style>\n",
       "<table border=\"1\" class=\"dataframe\">\n",
       "  <thead>\n",
       "    <tr style=\"text-align: right;\">\n",
       "      <th></th>\n",
       "      <th>ROC</th>\n",
       "      <th>Accuracy</th>\n",
       "      <th>Precision</th>\n",
       "      <th>Recall</th>\n",
       "    </tr>\n",
       "  </thead>\n",
       "  <tbody>\n",
       "    <tr>\n",
       "      <th>Train</th>\n",
       "      <td>0.863238</td>\n",
       "      <td>0.740282</td>\n",
       "      <td>0.773541</td>\n",
       "      <td>0.594807</td>\n",
       "    </tr>\n",
       "    <tr>\n",
       "      <th>Validation</th>\n",
       "      <td>0.831401</td>\n",
       "      <td>0.744066</td>\n",
       "      <td>0.741331</td>\n",
       "      <td>0.605721</td>\n",
       "    </tr>\n",
       "    <tr>\n",
       "      <th>Test</th>\n",
       "      <td>0.826221</td>\n",
       "      <td>0.729897</td>\n",
       "      <td>0.703080</td>\n",
       "      <td>0.604098</td>\n",
       "    </tr>\n",
       "  </tbody>\n",
       "</table>\n",
       "</div>"
      ],
      "text/plain": [
       "                 ROC  Accuracy  Precision    Recall\n",
       "Train       0.863238  0.740282   0.773541  0.594807\n",
       "Validation  0.831401  0.744066   0.741331  0.605721\n",
       "Test        0.826221  0.729897   0.703080  0.604098"
      ]
     },
     "execution_count": 21,
     "metadata": {},
     "output_type": "execute_result"
    }
   ],
   "source": [
    "# Calculate model metrics for each dataset\n",
    "model_metrics = {\n",
    "    'Train' : f.evaluate_model(best_model, **train_data),\n",
    "    'Validation' : f.evaluate_model(best_model, **val_data),\n",
    "    'Test' : f.evaluate_model(best_model, **test_data)\n",
    "}\n",
    "\n",
    "# Display metrics in a dataframe\n",
    "pd_model_metrics = pd.DataFrame(model_metrics).T\n",
    "pd_model_metrics"
   ]
  },
  {
   "cell_type": "code",
   "execution_count": 22,
   "metadata": {},
   "outputs": [
    {
     "data": {
      "image/png": "[encoded data removed]",
      "text/plain": [
       "<Figure size 1080x576 with 1 Axes>"
      ]
     },
     "metadata": {
      "needs_background": "light"
     },
     "output_type": "display_data"
    }
   ],
   "source": [
    "fig, ax = plt.subplots(1,1, figsize = (15, 8))\n",
    "\n",
    "sns.barplot(data = pd_model_metrics, x = pd_model_metrics.index, y = 'ROC', ax = ax, color = 'k')\n",
    "plt.xlabel('Dataset')\n",
    "plt.ylabel('ROC AUC Score')\n",
    "plt.ylim(0.7, 0.9)\n",
    "plt.title('Figure 1: Bar Chart to show ROC AUC Score for each dataset')\n",
    "plt.savefig('final_model_bar_chart.png')\n",
    "plt.show()"
   ]
  },
  {
   "cell_type": "markdown",
   "metadata": {},
   "source": [
    "### Confusion Matrix"
   ]
  },
  {
   "cell_type": "code",
   "execution_count": 20,
   "metadata": {},
   "outputs": [
    {
     "name": "stdout",
     "output_type": "stream",
     "text": [
      "              precision    recall  f1-score   support\n",
      "\n",
      "           0       0.75      0.41      0.53       121\n",
      "           1       0.74      0.91      0.82       576\n",
      "           2       0.68      0.49      0.57       273\n",
      "\n",
      "    accuracy                           0.73       970\n",
      "   macro avg       0.72      0.61      0.64       970\n",
      "weighted avg       0.72      0.73      0.71       970\n",
      "\n"
     ]
    }
   ],
   "source": [
    "print(classification_report(y_true = test_labels, y_pred = best_model.predict(X_test)))"
   ]
  },
  {
   "cell_type": "code",
   "execution_count": 23,
   "metadata": {},
   "outputs": [
    {
     "data": {
      "image/png": "[encoded data removed]",
      "text/plain": [
       "<Figure size 576x576 with 2 Axes>"
      ]
     },
     "metadata": {
      "needs_background": "light"
     },
     "output_type": "display_data"
    }
   ],
   "source": [
    "def create_confusion_matrix(model, model_name: str):\n",
    "    \"\"\"Calculates and displays a confusion matrix for model\n",
    "\n",
    "    Args:\n",
    "        model: model to evaluate\n",
    "        model_name (str): name of model\n",
    "    \"\"\"\n",
    "\n",
    "    # Create figure and axis to display plot\n",
    "    fig, ax = plt.subplots(1, 1, figsize=(8, 8))\n",
    "\n",
    "    # Calculates confusion matrix\n",
    "    plot_confusion_matrix(model, X_test, test_labels, cmap = \"Greys\", ax = ax, display_labels = ['Negative', \"Neutral\", 'Positive'])\n",
    "\n",
    "    # Sets title for plot\n",
    "    plt.title(f\"Figure 2: Confusion Matrix for\\n {model_name} Model\", fontdict= {'fontsize' : 14})\n",
    "\n",
    "    plt.savefig('Confusion Matrix.png')\n",
    "\n",
    "    # Shows plot\n",
    "    plt.show()\n",
    "\n",
    "# Calculate confusion matrix for Tuned LR model\n",
    "create_confusion_matrix(best_model, \"Tuned Linear Regression\")"
   ]
  },
  {
   "cell_type": "markdown",
   "metadata": {},
   "source": [
    "### Feature Importances"
   ]
  },
  {
   "cell_type": "code",
   "execution_count": 31,
   "metadata": {},
   "outputs": [
    {
     "data": {
      "image/png": "[encoded data removed]",
      "text/plain": [
       "<Figure size 720x864 with 3 Axes>"
      ]
     },
     "metadata": {
      "needs_background": "light"
     },
     "output_type": "display_data"
    }
   ],
   "source": [
    "def plot_feature_importance(model, top_n: int = 5):\n",
    "    \"\"\"Plots feature importances for the specified class label\n",
    "\n",
    "    Args:\n",
    "        model: model we want importances for\n",
    "        model_name (str): name of model\n",
    "        class_label (int): class we want to analyse (one of 0, 1 or 2)\n",
    "    \"\"\"\n",
    "\n",
    "    class_dict = {0 : 'Negative', 1 : 'Neutral', 2 : 'Positive'}\n",
    "\n",
    "    # Create figure and axis to display plot\n",
    "    fig, ax = plt.subplots(nrows = 3, ncols = 1, figsize=(10, 12))\n",
    "\n",
    "    for idx, cl in enumerate([0, 1, 2]):\n",
    "        # Retrive feature coefficients from model for class label\n",
    "        coefs = model.coef_[cl]\n",
    "\n",
    "        # Plot coefficients as a horizontal bar plot\n",
    "        pd.Series(coefs, index=Xcols).nlargest(top_n).sort_values(ascending=True).plot(\n",
    "            kind=\"barh\", ax=ax[idx], title=f\"Group {cl}, {class_dict[cl]}\", color = \"k\"\n",
    "        )\n",
    "\n",
    "    plt.suptitle(f'Figure 3: Most Influential Words On Our Model (Top {top_n})')\n",
    "\n",
    "    plt.savefig(f'feature_importance_top{top_n}.png')\n",
    "\n",
    "    # Show plot\n",
    "    plt.show()\n",
    "\n",
    "\n",
    "# Call function for Tuned LR model\n",
    "plot_feature_importance(best_model, 4)"
   ]
  },
  {
   "cell_type": "code",
   "execution_count": null,
   "metadata": {},
   "outputs": [],
   "source": []
  }
 ],
 "metadata": {
  "interpreter": {
   "hash": "1c31da5edd4aad8fb53d12d73a780cc43060c0f39f08ff1fc327c1bcdbfa7e83"
  },
  "kernelspec": {
   "display_name": "Python 3.9.10 ('data_analytics')",
   "language": "python",
   "name": "python3"
  },
  "language_info": {
   "codemirror_mode": {
    "name": "ipython",
    "version": 3
   },
   "file_extension": ".py",
   "mimetype": "text/x-python",
   "name": "python",
   "nbconvert_exporter": "python",
   "pygments_lexer": "ipython3",
   "version": "3.9.10"
  },
  "orig_nbformat": 4
 },
 "nbformat": 4,
 "nbformat_minor": 2
}
