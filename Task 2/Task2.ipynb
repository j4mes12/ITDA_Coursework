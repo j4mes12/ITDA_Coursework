{
 "cells": [
  {
   "cell_type": "markdown",
   "id": "7a2ee115-d861-43eb-8006-f4728256c5c4",
   "metadata": {},
   "source": [
    "# SEC Filings"
   ]
  },
  {
   "cell_type": "markdown",
   "id": "7d151a51-ff84-4583-b58b-87d9bbac18f9",
   "metadata": {},
   "source": [
    "The data is provided in zipped text files. Unzip the file and place the 'SEC-filings' directory into the './data' directory. \n",
    "\n",
    "A related dataset in similar format is the conll2003 dataset, available from [HuggingFace](https://huggingface.co/datasets/conll2003). This could be used as a source of additional training data, but note it contains a different kind of text (different 'domain'). "
   ]
  },
  {
   "cell_type": "code",
   "execution_count": 61,
   "metadata": {},
   "outputs": [
    {
     "name": "stdout",
     "output_type": "stream",
     "text": [
      "The autoreload extension is already loaded. To reload it, use:\n",
      "  %reload_ext autoreload\n"
     ]
    }
   ],
   "source": [
    "%load_ext autoreload\n",
    "%autoreload 2\n",
    "\n",
    "# Data Extraction\n",
    "import sys\n",
    "sys.path.append('..')\n",
    "\n",
    "import data_loader\n",
    "import warnings\n",
    "import functions as f\n",
    "import params as p\n",
    "import eli5\n",
    "import seaborn as sns\n",
    "\n",
    "# Other\n",
    "import matplotlib.pyplot as plt\n",
    "import nltk\n",
    "from sklearn.exceptions import UndefinedMetricWarning\n",
    "from sklearn_crfsuite import CRF\n",
    "from sklearn_crfsuite.metrics import flat_classification_report, flat_f1_score\n",
    "from sklearn.metrics import make_scorer, confusion_matrix, ConfusionMatrixDisplay\n",
    "from sklearn.model_selection import RandomizedSearchCV\n",
    "from collections import Counter\n",
    "\n",
    "import optuna"
   ]
  },
  {
   "cell_type": "markdown",
   "metadata": {},
   "source": [
    "## Settings"
   ]
  },
  {
   "cell_type": "code",
   "execution_count": 2,
   "metadata": {},
   "outputs": [],
   "source": [
    "warnings.simplefilter(action='ignore', category=FutureWarning)\n",
    "warnings.simplefilter(action = 'ignore', category = UndefinedMetricWarning)"
   ]
  },
  {
   "cell_type": "markdown",
   "metadata": {},
   "source": [
    "## Import Data"
   ]
  },
  {
   "cell_type": "code",
   "execution_count": 3,
   "metadata": {},
   "outputs": [
    {
     "name": "stdout",
     "output_type": "stream",
     "text": [
      "Loading the original training set: \n",
      "Number of sentences loaded = 1152\n",
      "Number of unique labels: ['I-LOC' 'I-MISC' 'I-ORG' 'I-PER' 'O']\n",
      "\n",
      "Loading the test set: \n",
      "Number of sentences loaded = 303\n",
      "Number of unique labels: ['I-LOC' 'I-MISC' 'I-ORG' 'I-PER' 'O']\n"
     ]
    }
   ],
   "source": [
    "(\n",
    "    train_sentences_ner, train_labels_ner, test_sentences_ner, test_labels_ner, val_sentences_ner, val_labels_ner,\n",
    "    ) = data_loader.import_task2_data()"
   ]
  },
  {
   "cell_type": "markdown",
   "metadata": {},
   "source": [
    "# Task 2 Answer"
   ]
  },
  {
   "cell_type": "markdown",
   "metadata": {},
   "source": [
    "### Clean Data"
   ]
  },
  {
   "cell_type": "code",
   "execution_count": 4,
   "metadata": {},
   "outputs": [],
   "source": [
    "def crf_word_preprocessing(word, ref):\n",
    "\n",
    "    word_features = {\n",
    "        'bias' : 1.0,\n",
    "        f'word_{ref}_lower' : word.lower(),\n",
    "        f'word_{ref}_end3' : word[-3:],\n",
    "        f'word_{ref}_end2' : word[-2:],\n",
    "        f'word_{ref}_beg' : word[:3],\n",
    "        f'word_{ref}_isupper' : word.isupper(),\n",
    "        f'word_{ref}_istitle' : word.istitle(),\n",
    "        f'word_{ref}_isdigit' : word.isdigit(),\n",
    "        f'word_{ref}_postag' : nltk.pos_tag([word])[0][1]\n",
    "        }\n",
    "\n",
    "    return word_features"
   ]
  },
  {
   "cell_type": "code",
   "execution_count": 5,
   "metadata": {},
   "outputs": [],
   "source": [
    "def crf_sentence_preprocessing(sentence):\n",
    "\n",
    "    sentence_features = []\n",
    "\n",
    "    for idx in range(len(sentence)):\n",
    "\n",
    "        word = sentence[idx]\n",
    "\n",
    "        word_features = crf_word_preprocessing(word, 0)\n",
    "\n",
    "        if idx > 0:\n",
    "            word_features = {\n",
    "                **word_features,\n",
    "                **crf_word_preprocessing(sentence[idx - 1], -1)\n",
    "                }\n",
    "        else:\n",
    "            word_features['BOS'] = True\n",
    "\n",
    "        if idx < len(sentence) - 1:\n",
    "            word_features = {\n",
    "                **word_features,\n",
    "                **crf_word_preprocessing(sentence[idx + 1], +1)\n",
    "            }\n",
    "        else:\n",
    "            word_features['EOS'] = True\n",
    "\n",
    "        sentence_features.append(word_features)\n",
    "\n",
    "    return sentence_features"
   ]
  },
  {
   "cell_type": "code",
   "execution_count": 6,
   "metadata": {},
   "outputs": [],
   "source": [
    "def crf_data_preprocessing(data):\n",
    "    opt = [crf_sentence_preprocessing(sentence) for sentence in data]\n",
    "    print('data:', len(data), 'out:', len(opt))\n",
    "    return opt"
   ]
  },
  {
   "cell_type": "markdown",
   "metadata": {},
   "source": [
    "### Preprocess Data"
   ]
  },
  {
   "cell_type": "code",
   "execution_count": 7,
   "metadata": {},
   "outputs": [
    {
     "name": "stdout",
     "output_type": "stream",
     "text": [
      "data: 864 out: 864\n",
      "data: 303 out: 303\n",
      "data: 288 out: 288\n"
     ]
    }
   ],
   "source": [
    "X_train = crf_data_preprocessing(train_sentences_ner)\n",
    "X_test = crf_data_preprocessing(test_sentences_ner)\n",
    "X_val = crf_data_preprocessing(val_sentences_ner)"
   ]
  },
  {
   "cell_type": "markdown",
   "metadata": {},
   "source": [
    "### NER Modelling"
   ]
  },
  {
   "cell_type": "code",
   "execution_count": 8,
   "metadata": {},
   "outputs": [
    {
     "data": {
      "text/plain": [
       "CRF(keep_tempfiles=None)"
      ]
     },
     "execution_count": 8,
     "metadata": {},
     "output_type": "execute_result"
    }
   ],
   "source": [
    "tagger = CRF()\n",
    "tagger.fit(\n",
    "    X = X_train,\n",
    "    y = train_labels_ner,\n",
    ")"
   ]
  },
  {
   "cell_type": "code",
   "execution_count": 32,
   "metadata": {},
   "outputs": [
    {
     "data": {
      "text/html": [
       "<div>\n",
       "<style scoped>\n",
       "    .dataframe tbody tr th:only-of-type {\n",
       "        vertical-align: middle;\n",
       "    }\n",
       "\n",
       "    .dataframe tbody tr th {\n",
       "        vertical-align: top;\n",
       "    }\n",
       "\n",
       "    .dataframe thead th {\n",
       "        text-align: right;\n",
       "    }\n",
       "</style>\n",
       "<table border=\"1\" class=\"dataframe\">\n",
       "  <thead>\n",
       "    <tr style=\"text-align: right;\">\n",
       "      <th></th>\n",
       "      <th>F1 Score</th>\n",
       "      <th>Accuracy</th>\n",
       "      <th>Precision</th>\n",
       "      <th>Recall</th>\n",
       "    </tr>\n",
       "  </thead>\n",
       "  <tbody>\n",
       "    <tr>\n",
       "      <th>train</th>\n",
       "      <td>0.972331</td>\n",
       "      <td>0.998077</td>\n",
       "      <td>0.998074</td>\n",
       "      <td>0.998077</td>\n",
       "    </tr>\n",
       "    <tr>\n",
       "      <th>validation</th>\n",
       "      <td>0.803806</td>\n",
       "      <td>0.986892</td>\n",
       "      <td>0.986346</td>\n",
       "      <td>0.986892</td>\n",
       "    </tr>\n",
       "  </tbody>\n",
       "</table>\n",
       "</div>"
      ],
      "text/plain": [
       "            F1 Score  Accuracy  Precision    Recall\n",
       "train       0.972331  0.998077   0.998074  0.998077\n",
       "validation  0.803806  0.986892   0.986346  0.986892"
      ]
     },
     "execution_count": 32,
     "metadata": {},
     "output_type": "execute_result"
    }
   ],
   "source": [
    "f.evaluate_model(\n",
    "    tagger,\n",
    "    X_train = X_train,\n",
    "    X_val = X_val,\n",
    "    y_train = train_labels_ner,\n",
    "    y_val=val_labels_ner,)"
   ]
  },
  {
   "cell_type": "code",
   "execution_count": 10,
   "metadata": {},
   "outputs": [],
   "source": [
    "y_pred = tagger.predict(X_val)"
   ]
  },
  {
   "cell_type": "code",
   "execution_count": 11,
   "metadata": {},
   "outputs": [
    {
     "data": {
      "text/plain": [
       "['I-PER', 'I-ORG', 'I-LOC', 'I-MISC']"
      ]
     },
     "execution_count": 11,
     "metadata": {},
     "output_type": "execute_result"
    }
   ],
   "source": [
    "labels = list(tagger.classes_)\n",
    "labels.remove('O')\n",
    "labels"
   ]
  },
  {
   "cell_type": "code",
   "execution_count": 12,
   "metadata": {},
   "outputs": [
    {
     "name": "stdout",
     "output_type": "stream",
     "text": [
      "F1 Score (train): 0.9723312699037894\n",
      "F1 Score (validation): 0.803805870709054\n"
     ]
    }
   ],
   "source": [
    "print('F1 Score (train):', flat_f1_score(train_labels_ner, tagger.predict(X_train), average='weighted', labels=labels))\n",
    "print('F1 Score (validation):', flat_f1_score(val_labels_ner, tagger.predict(X_val), average='weighted', labels=labels))"
   ]
  },
  {
   "cell_type": "markdown",
   "metadata": {},
   "source": [
    "### Tuning"
   ]
  },
  {
   "cell_type": "code",
   "execution_count": 13,
   "metadata": {},
   "outputs": [],
   "source": [
    "# sampler = optuna.samplers.TPESampler(seed=p.RANDOM_STATE)\n",
    "# study = optuna.create_study(sampler = sampler, direction = 'maximize', study_name = 'NER_HyperParam_CV')\n",
    "\n",
    "# oscv_params = {\n",
    "#     'c2' : optuna.distributions.LogUniformDistribution(1e-4, 1)\n",
    "# }\n",
    "\n",
    "# # use the same metric for evaluation\n",
    "# f1_scorer = make_scorer(\n",
    "#     score_func = flat_f1_score,\n",
    "#     average = 'weighted',\n",
    "#     labels = labels\n",
    "#     )\n",
    "\n",
    "# oscv = optuna.integration.OptunaSearchCV(\n",
    "#     study = study,\n",
    "#     estimator = CRF(c1 = 1),\n",
    "#     param_distributions = oscv_params,\n",
    "#     cv = 10,\n",
    "#     n_jobs = -1,\n",
    "#     n_trials = 100,\n",
    "#     random_state = p.RANDOM_STATE,\n",
    "#     refit = True,\n",
    "#     scoring = f1_scorer,\n",
    "#     verbose = 1\n",
    "# )\n",
    "\n",
    "# oscv.fit(X_train, train_labels_ner)"
   ]
  },
  {
   "cell_type": "code",
   "execution_count": 14,
   "metadata": {},
   "outputs": [],
   "source": [
    "# tuned_crf = oscv.best_estimator_"
   ]
  },
  {
   "cell_type": "code",
   "execution_count": 37,
   "metadata": {},
   "outputs": [
    {
     "data": {
      "text/plain": [
       "CRF(c1=1, c2=0.0001, keep_tempfiles=None)"
      ]
     },
     "execution_count": 37,
     "metadata": {},
     "output_type": "execute_result"
    }
   ],
   "source": [
    "tuned_crf = CRF(\n",
    "    c1 = 1,\n",
    "    c2 = 0.0001\n",
    ")\n",
    "\n",
    "tuned_crf.fit(X_train, train_labels_ner)"
   ]
  },
  {
   "cell_type": "code",
   "execution_count": 96,
   "metadata": {},
   "outputs": [
    {
     "data": {
      "text/html": [
       "<div>\n",
       "<style scoped>\n",
       "    .dataframe tbody tr th:only-of-type {\n",
       "        vertical-align: middle;\n",
       "    }\n",
       "\n",
       "    .dataframe tbody tr th {\n",
       "        vertical-align: top;\n",
       "    }\n",
       "\n",
       "    .dataframe thead th {\n",
       "        text-align: right;\n",
       "    }\n",
       "</style>\n",
       "<table border=\"1\" class=\"dataframe\">\n",
       "  <thead>\n",
       "    <tr style=\"text-align: right;\">\n",
       "      <th></th>\n",
       "      <th>F1 Score</th>\n",
       "      <th>Accuracy</th>\n",
       "      <th>Precision</th>\n",
       "      <th>Recall</th>\n",
       "    </tr>\n",
       "  </thead>\n",
       "  <tbody>\n",
       "    <tr>\n",
       "      <th>Train</th>\n",
       "      <td>0.915037</td>\n",
       "      <td>0.994772</td>\n",
       "      <td>0.977533</td>\n",
       "      <td>0.865922</td>\n",
       "    </tr>\n",
       "    <tr>\n",
       "      <th>Validation</th>\n",
       "      <td>0.801679</td>\n",
       "      <td>0.986804</td>\n",
       "      <td>0.882427</td>\n",
       "      <td>0.747807</td>\n",
       "    </tr>\n",
       "    <tr>\n",
       "      <th>Test</th>\n",
       "      <td>0.694741</td>\n",
       "      <td>0.985281</td>\n",
       "      <td>0.828885</td>\n",
       "      <td>0.616972</td>\n",
       "    </tr>\n",
       "  </tbody>\n",
       "</table>\n",
       "</div>"
      ],
      "text/plain": [
       "            F1 Score  Accuracy  Precision    Recall\n",
       "Train       0.915037  0.994772   0.977533  0.865922\n",
       "Validation  0.801679  0.986804   0.882427  0.747807\n",
       "Test        0.694741  0.985281   0.828885  0.616972"
      ]
     },
     "execution_count": 96,
     "metadata": {},
     "output_type": "execute_result"
    }
   ],
   "source": [
    "eval_results = f.evaluate_model(\n",
    "    tuned_crf,\n",
    "    X_train = X_train,\n",
    "    X_val = X_val,\n",
    "    y_train = train_labels_ner,\n",
    "    y_val = val_labels_ner,\n",
    "    X_test = X_test,\n",
    "    y_test = test_labels_ner)\n",
    "\n",
    "eval_results"
   ]
  },
  {
   "cell_type": "code",
   "execution_count": 101,
   "metadata": {},
   "outputs": [
    {
     "data": {
      "image/png": "[encoded data removed]",
      "text/plain": [
       "<Figure size 1080x576 with 1 Axes>"
      ]
     },
     "metadata": {
      "needs_background": "light"
     },
     "output_type": "display_data"
    }
   ],
   "source": [
    "melt_data = eval_results.reset_index().melt(id_vars = 'index')\n",
    "\n",
    "fig, ax = plt.subplots(1,1,figsize=(15, 8))\n",
    "\n",
    "sns.barplot(\n",
    "    ax = ax,\n",
    "    data = melt_data,\n",
    "    x = 'variable',\n",
    "    y = 'value',\n",
    "    hue = 'index'\n",
    ").set(label = 'Datasets')\n",
    "\n",
    "plt.legend(loc = 'upper right')\n",
    "plt.xlabel('Performance Metric')\n",
    "plt.ylabel('Value')\n",
    "plt.ylim(0.6, 1)\n",
    "plt.title('Figure 1: Performance Metrics for each Dataset', fontsize = 16)\n",
    "plt.savefig('./final_metrics.png')\n",
    "plt.show()"
   ]
  },
  {
   "cell_type": "markdown",
   "metadata": {},
   "source": [
    "### Displaying Results"
   ]
  },
  {
   "cell_type": "code",
   "execution_count": 113,
   "metadata": {},
   "outputs": [
    {
     "data": {
      "image/png": "[encoded data removed]",
      "text/plain": [
       "<Figure size 576x576 with 2 Axes>"
      ]
     },
     "metadata": {
      "needs_background": "light"
     },
     "output_type": "display_data"
    }
   ],
   "source": [
    "def create_confusion_matrix(y_true, y_pred, ner_labels):\n",
    "\n",
    "    ner_labels.append('O')\n",
    "\n",
    "    fig, ax = plt.subplots(1, 1, figsize = (8, 8))\n",
    "\n",
    "    true = [label for sent_list in y_true for label in sent_list]\n",
    "    pred = [label for sent_list in y_pred for label in sent_list]\n",
    "\n",
    "    cm = confusion_matrix(true, pred, ner_labels)\n",
    "\n",
    "    disp = ConfusionMatrixDisplay(confusion_matrix=cm, display_labels=ner_labels)\n",
    "    disp.plot(cmap = 'Blues', ax = ax)\n",
    "\n",
    "    plt.title('Figure 2: Tuned CRF Tagger\\nConfusion Matrix', fontdict={'fontsize' : 18})\n",
    "\n",
    "    plt.savefig('./crf_confusion_matrix.png')\n",
    "\n",
    "    plt.show()\n",
    "\n",
    "create_confusion_matrix(\n",
    "    y_pred = tuned_crf.predict(X_test),\n",
    "    y_true = test_labels_ner,\n",
    "    ner_labels = labels\n",
    ")"
   ]
  },
  {
   "cell_type": "code",
   "execution_count": 103,
   "metadata": {},
   "outputs": [
    {
     "name": "stdout",
     "output_type": "stream",
     "text": [
      "              precision    recall  f1-score   support\n",
      "\n",
      "       I-PER       1.00      0.87      0.93       236\n",
      "       I-ORG       0.53      0.24      0.33       114\n",
      "       I-LOC       0.73      0.46      0.56        79\n",
      "      I-MISC       1.00      0.14      0.25         7\n",
      "\n",
      "   micro avg       0.88      0.62      0.73       436\n",
      "   macro avg       0.82      0.43      0.52       436\n",
      "weighted avg       0.83      0.62      0.69       436\n",
      "\n"
     ]
    }
   ],
   "source": [
    "print(flat_classification_report(\n",
    "    y_true=test_labels_ner,\n",
    "    y_pred=tuned_crf.predict(X_test),\n",
    "    labels = labels\n",
    "))"
   ]
  },
  {
   "cell_type": "markdown",
   "metadata": {},
   "source": [
    "### Eli5"
   ]
  },
  {
   "cell_type": "code",
   "execution_count": 81,
   "metadata": {},
   "outputs": [
    {
     "data": {
      "text/html": [
       "<div>\n",
       "<style scoped>\n",
       "    .dataframe tbody tr th:only-of-type {\n",
       "        vertical-align: middle;\n",
       "    }\n",
       "\n",
       "    .dataframe tbody tr th {\n",
       "        vertical-align: top;\n",
       "    }\n",
       "\n",
       "    .dataframe thead th {\n",
       "        text-align: right;\n",
       "    }\n",
       "</style>\n",
       "<table border=\"1\" class=\"dataframe\">\n",
       "  <thead>\n",
       "    <tr style=\"text-align: right;\">\n",
       "      <th>to</th>\n",
       "      <th>I-LOC</th>\n",
       "      <th>I-MISC</th>\n",
       "      <th>I-ORG</th>\n",
       "      <th>I-PER</th>\n",
       "      <th>O</th>\n",
       "    </tr>\n",
       "    <tr>\n",
       "      <th>from</th>\n",
       "      <th></th>\n",
       "      <th></th>\n",
       "      <th></th>\n",
       "      <th></th>\n",
       "      <th></th>\n",
       "    </tr>\n",
       "  </thead>\n",
       "  <tbody>\n",
       "    <tr>\n",
       "      <th>I-LOC</th>\n",
       "      <td>5.675753</td>\n",
       "      <td>0.0</td>\n",
       "      <td>0.000000</td>\n",
       "      <td>0.000000</td>\n",
       "      <td>-0.005966</td>\n",
       "    </tr>\n",
       "    <tr>\n",
       "      <th>I-MISC</th>\n",
       "      <td>0.000000</td>\n",
       "      <td>0.0</td>\n",
       "      <td>0.000000</td>\n",
       "      <td>0.000000</td>\n",
       "      <td>0.000000</td>\n",
       "    </tr>\n",
       "    <tr>\n",
       "      <th>I-ORG</th>\n",
       "      <td>0.000000</td>\n",
       "      <td>0.0</td>\n",
       "      <td>5.632606</td>\n",
       "      <td>0.000000</td>\n",
       "      <td>0.032823</td>\n",
       "    </tr>\n",
       "    <tr>\n",
       "      <th>I-PER</th>\n",
       "      <td>0.000000</td>\n",
       "      <td>0.0</td>\n",
       "      <td>0.000000</td>\n",
       "      <td>3.533529</td>\n",
       "      <td>0.000000</td>\n",
       "    </tr>\n",
       "    <tr>\n",
       "      <th>O</th>\n",
       "      <td>0.000000</td>\n",
       "      <td>0.0</td>\n",
       "      <td>0.000000</td>\n",
       "      <td>0.000000</td>\n",
       "      <td>2.320883</td>\n",
       "    </tr>\n",
       "  </tbody>\n",
       "</table>\n",
       "</div>"
      ],
      "text/plain": [
       "to         I-LOC  I-MISC     I-ORG     I-PER         O\n",
       "from                                                  \n",
       "I-LOC   5.675753     0.0  0.000000  0.000000 -0.005966\n",
       "I-MISC  0.000000     0.0  0.000000  0.000000  0.000000\n",
       "I-ORG   0.000000     0.0  5.632606  0.000000  0.032823\n",
       "I-PER   0.000000     0.0  0.000000  3.533529  0.000000\n",
       "O       0.000000     0.0  0.000000  0.000000  2.320883"
      ]
     },
     "execution_count": 81,
     "metadata": {},
     "output_type": "execute_result"
    }
   ],
   "source": [
    "weights_df = eli5.formatters.explain_weights_dfs(tuned_crf, top=5)['transition_features']\n",
    "weights_df.pivot(\"from\", \"to\", \"coef\")"
   ]
  },
  {
   "cell_type": "code",
   "execution_count": 90,
   "metadata": {},
   "outputs": [
    {
     "data": {
      "image/png": "[encoded data removed]",
      "text/plain": [
       "<Figure size 576x432 with 2 Axes>"
      ]
     },
     "metadata": {
      "needs_background": "light"
     },
     "output_type": "display_data"
    }
   ],
   "source": [
    "fig, ax = plt.subplots(1,1, figsize =(8,6))\n",
    "sns.heatmap(ax=ax, data = weights_df.pivot(\"from\", \"to\", \"coef\"), annot= True, cmap='Blues')\n",
    "plt.show()"
   ]
  },
  {
   "cell_type": "markdown",
   "metadata": {},
   "source": [
    "### Feature Importance"
   ]
  },
  {
   "cell_type": "code",
   "execution_count": 1,
   "metadata": {},
   "outputs": [
    {
     "name": "stdout",
     "output_type": "stream",
     "text": [
      "Top positive:\n"
     ]
    },
    {
     "ename": "NameError",
     "evalue": "name 'Counter' is not defined",
     "output_type": "error",
     "traceback": [
      "\u001b[0;31m---------------------------------------------------------------------------\u001b[0m",
      "\u001b[0;31mNameError\u001b[0m                                 Traceback (most recent call last)",
      "\u001b[1;32m/Users/jamesstephenson/Documents/University:Work/Data Science MSc/ITDA/Coursework/ITDA_Coursework/Task 2/Task2.ipynb Cell 34'\u001b[0m in \u001b[0;36m<cell line: 6>\u001b[0;34m()\u001b[0m\n\u001b[1;32m      <a href='vscode-notebook-cell:/Users/jamesstephenson/Documents/University%3AWork/Data%20Science%20MSc/ITDA/Coursework/ITDA_Coursework/Task%202/Task2.ipynb#ch0000033?line=2'>3</a>\u001b[0m         \u001b[39mprint\u001b[39m(\u001b[39m\"\u001b[39m\u001b[39m%0.6f\u001b[39;00m\u001b[39m \u001b[39m\u001b[39m%-8s\u001b[39;00m\u001b[39m \u001b[39m\u001b[39m%s\u001b[39;00m\u001b[39m\"\u001b[39m \u001b[39m%\u001b[39m (weight, label, attr))\n\u001b[1;32m      <a href='vscode-notebook-cell:/Users/jamesstephenson/Documents/University%3AWork/Data%20Science%20MSc/ITDA/Coursework/ITDA_Coursework/Task%202/Task2.ipynb#ch0000033?line=4'>5</a>\u001b[0m \u001b[39mprint\u001b[39m(\u001b[39m\"\u001b[39m\u001b[39mTop positive:\u001b[39m\u001b[39m\"\u001b[39m)\n\u001b[0;32m----> <a href='vscode-notebook-cell:/Users/jamesstephenson/Documents/University%3AWork/Data%20Science%20MSc/ITDA/Coursework/ITDA_Coursework/Task%202/Task2.ipynb#ch0000033?line=5'>6</a>\u001b[0m print_state_features(Counter(tuned_crf\u001b[39m.\u001b[39mstate_features_)\u001b[39m.\u001b[39mmost_common(\u001b[39m10\u001b[39m))\n\u001b[1;32m      <a href='vscode-notebook-cell:/Users/jamesstephenson/Documents/University%3AWork/Data%20Science%20MSc/ITDA/Coursework/ITDA_Coursework/Task%202/Task2.ipynb#ch0000033?line=7'>8</a>\u001b[0m \u001b[39mprint\u001b[39m(\u001b[39m\"\u001b[39m\u001b[39m\\n\u001b[39;00m\u001b[39mTop negative:\u001b[39m\u001b[39m\"\u001b[39m)\n\u001b[1;32m      <a href='vscode-notebook-cell:/Users/jamesstephenson/Documents/University%3AWork/Data%20Science%20MSc/ITDA/Coursework/ITDA_Coursework/Task%202/Task2.ipynb#ch0000033?line=8'>9</a>\u001b[0m print_state_features(Counter(tuned_crf\u001b[39m.\u001b[39mstate_features_)\u001b[39m.\u001b[39mmost_common()[\u001b[39m-\u001b[39m\u001b[39m10\u001b[39m:])\n",
      "\u001b[0;31mNameError\u001b[0m: name 'Counter' is not defined"
     ]
    }
   ],
   "source": [
    "def print_state_features(state_features):\n",
    "    for (attr, label), weight in state_features:\n",
    "        print(\"%0.6f %-8s %s\" % (weight, label, attr))\n",
    "\n",
    "print(\"Top positive:\")\n",
    "print_state_features(Counter(tuned_crf.state_features_).most_common(10))\n",
    "\n",
    "print(\"\\nTop negative:\")\n",
    "print_state_features(Counter(tuned_crf.state_features_).most_common()[-10:])"
   ]
  },
  {
   "cell_type": "markdown",
   "metadata": {},
   "source": [
    "## Financial Phrasebank"
   ]
  },
  {
   "cell_type": "code",
   "execution_count": 19,
   "metadata": {},
   "outputs": [
    {
     "name": "stderr",
     "output_type": "stream",
     "text": [
      "Reusing dataset financial_phrasebank (/Users/jamesstephenson/.cache/huggingface/datasets/financial_phrasebank/sentences_50agree/1.0.0/a6d468761d4e0c8ae215c77367e1092bead39deb08fbf4bffd7c0a6991febbf0)\n",
      "100%|██████████| 1/1 [00:00<00:00, 30.42it/s]"
     ]
    },
    {
     "name": "stdout",
     "output_type": "stream",
     "text": [
      "The dataset is a dictionary with two splits: \n",
      "\n",
      "DatasetDict({\n",
      "    train: Dataset({\n",
      "        features: ['sentence', 'label'],\n",
      "        num_rows: 4846\n",
      "    })\n",
      "})\n",
      "How many instances in the train dataset? \n",
      "\n",
      "3876\n",
      "\n",
      "What does one instance look like? \n",
      "\n",
      "`` P&O Ferries now has a very efficient and powerful vessel for its Dover to Calais route , '' head of the shipbuilder 's Rauma yard , Timo Suistio , said .\n",
      "instances in the validation dataset \n",
      "\n",
      "969\n",
      "\n",
      "instances in the test dataset \n",
      "\n",
      "970\n"
     ]
    },
    {
     "name": "stderr",
     "output_type": "stream",
     "text": [
      "\n"
     ]
    }
   ],
   "source": [
    "(train_sentences_fp, test_sentences_fp, val_sentences_fp, train_labels_fp, test_labels_fp, val_labels_fp,\n",
    "    ) = data_loader.import_task1_data()\n",
    "\n",
    "sentences_fp = train_sentences_fp + test_sentences_fp + val_sentences_fp\n",
    "labels_fp = train_labels_fp + test_labels_fp + val_labels_fp"
   ]
  },
  {
   "cell_type": "markdown",
   "metadata": {},
   "source": [
    "### Process Data"
   ]
  },
  {
   "cell_type": "code",
   "execution_count": 20,
   "metadata": {},
   "outputs": [],
   "source": [
    "def vectorise_data(lst):\n",
    "\n",
    "    return [nltk.word_tokenize(sentence) for sentence in lst]"
   ]
  },
  {
   "cell_type": "code",
   "execution_count": 21,
   "metadata": {},
   "outputs": [],
   "source": [
    "sentences_fp = vectorise_data(sentences_fp)"
   ]
  },
  {
   "cell_type": "code",
   "execution_count": 22,
   "metadata": {},
   "outputs": [],
   "source": [
    "labels_sent_scores = list(map(lambda x: {0: -1, 1: 0, 2: 1}[x], labels_fp))"
   ]
  },
  {
   "cell_type": "code",
   "execution_count": 23,
   "metadata": {},
   "outputs": [
    {
     "name": "stdout",
     "output_type": "stream",
     "text": [
      "data: 4846 out: 4846\n"
     ]
    }
   ],
   "source": [
    "sentences_fp_pp = crf_data_preprocessing(sentences_fp)"
   ]
  },
  {
   "cell_type": "code",
   "execution_count": 24,
   "metadata": {},
   "outputs": [],
   "source": [
    "fp_preds = tuned_crf.predict(sentences_fp_pp)"
   ]
  },
  {
   "cell_type": "code",
   "execution_count": 25,
   "metadata": {},
   "outputs": [
    {
     "data": {
      "text/plain": [
       "['O', 'I-LOC', 'I-PER', 'I-ORG', 'I-MISC']"
      ]
     },
     "execution_count": 25,
     "metadata": {},
     "output_type": "execute_result"
    }
   ],
   "source": [
    "labels = tuned_crf.classes_\n",
    "labels"
   ]
  }
 ],
 "metadata": {
  "interpreter": {
   "hash": "1c31da5edd4aad8fb53d12d73a780cc43060c0f39f08ff1fc327c1bcdbfa7e83"
  },
  "kernelspec": {
   "display_name": "Python 3.9.10 ('data_analytics')",
   "language": "python",
   "name": "python3"
  },
  "language_info": {
   "codemirror_mode": {
    "name": "ipython",
    "version": 3
   },
   "file_extension": ".py",
   "mimetype": "text/x-python",
   "name": "python",
   "nbconvert_exporter": "python",
   "pygments_lexer": "ipython3",
   "version": "3.9.10"
  },
  "orig_nbformat": 4
 },
 "nbformat": 4,
 "nbformat_minor": 2
}
