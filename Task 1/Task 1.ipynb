{
 "cells": [
  {
   "cell_type": "markdown",
   "metadata": {},
   "source": [
    "# Task 1 - Sentiment Model"
   ]
  },
  {
   "cell_type": "markdown",
   "metadata": {},
   "source": [
    "## Data Extraction - code from data_loader_demo.ipynb"
   ]
  },
  {
   "cell_type": "code",
   "execution_count": 2,
   "id": "annoying-ethiopia",
   "metadata": {},
   "outputs": [],
   "source": [
    "%load_ext autoreload\n",
    "%autoreload 2\n",
    "\n",
    "import warnings\n",
    "\n",
    "# Use HuggingFace's datasets library to access the financial_phrasebank dataset\n",
    "from datasets import load_dataset\n",
    "from sklearn.model_selection import train_test_split\n",
    "\n",
    "# Exploration\n",
    "import matplotlib.pyplot as plt\n",
    "import seaborn as sns\n",
    "\n",
    "# Feature Engineering\n",
    "import numpy as np\n",
    "import pandas as pd\n",
    "\n",
    "import nltk\n",
    "import re\n",
    "from sklearn.feature_extraction.text import TfidfVectorizer\n",
    "\n",
    "# Modelling\n",
    "import params as p\n",
    "import functions as f\n",
    "\n",
    "from sklearn.linear_model import LogisticRegression\n",
    "from sklearn.naive_bayes import MultinomialNB\n",
    "from sklearn.metrics import roc_auc_score, plot_confusion_matrix\n",
    "\n",
    "import optuna"
   ]
  },
  {
   "cell_type": "code",
   "execution_count": 3,
   "metadata": {},
   "outputs": [
    {
     "name": "stderr",
     "output_type": "stream",
     "text": [
      "[nltk_data] Downloading package wordnet to\n",
      "[nltk_data]     /Users/jamesstephenson/nltk_data...\n",
      "[nltk_data]   Package wordnet is already up-to-date!\n",
      "[nltk_data] Downloading package averaged_perceptron_tagger to\n",
      "[nltk_data]     /Users/jamesstephenson/nltk_data...\n",
      "[nltk_data]   Package averaged_perceptron_tagger is already up-to-\n",
      "[nltk_data]       date!\n"
     ]
    },
    {
     "data": {
      "text/plain": [
       "True"
      ]
     },
     "execution_count": 3,
     "metadata": {},
     "output_type": "execute_result"
    }
   ],
   "source": [
    "nltk.download('wordnet')\n",
    "nltk.download('averaged_perceptron_tagger')"
   ]
  },
  {
   "cell_type": "markdown",
   "metadata": {},
   "source": [
    "### Settings"
   ]
  },
  {
   "cell_type": "code",
   "execution_count": 4,
   "metadata": {},
   "outputs": [],
   "source": [
    "warnings.simplefilter(action='ignore', category=FutureWarning)"
   ]
  },
  {
   "cell_type": "markdown",
   "metadata": {},
   "source": [
    "### Import Data"
   ]
  },
  {
   "cell_type": "code",
   "execution_count": 5,
   "id": "a8502fa6",
   "metadata": {},
   "outputs": [
    {
     "name": "stderr",
     "output_type": "stream",
     "text": [
      "Reusing dataset financial_phrasebank (/Users/jamesstephenson/.cache/huggingface/datasets/financial_phrasebank/sentences_50agree/1.0.0/a6d468761d4e0c8ae215c77367e1092bead39deb08fbf4bffd7c0a6991febbf0)\n",
      "100%|██████████| 1/1 [00:00<00:00, 63.87it/s]"
     ]
    },
    {
     "name": "stdout",
     "output_type": "stream",
     "text": [
      "The dataset is a dictionary with two splits: \n",
      "\n",
      "DatasetDict({\n",
      "    train: Dataset({\n",
      "        features: ['sentence', 'label'],\n",
      "        num_rows: 4846\n",
      "    })\n",
      "})\n"
     ]
    },
    {
     "name": "stderr",
     "output_type": "stream",
     "text": [
      "\n"
     ]
    }
   ],
   "source": [
    "# The financial_phrasebank dataset is available in four variations. It has no predefined train/validation/test splits.\n",
    "# Each data point was annotated by 5-8 people, then their annotations were combined. \n",
    "# Each variation of the dataset contains examples with different levels of agreement. \n",
    "# Let's use the one containing all data points where at least 50% of the annotators agreed on the label.\n",
    "dataset = load_dataset(\n",
    "    \"financial_phrasebank\", \n",
    "    'sentences_50agree' # Select variation of the dataset\n",
    ")\n",
    "\n",
    "print(f'The dataset is a dictionary with two splits: \\n\\n{dataset}')"
   ]
  },
  {
   "cell_type": "code",
   "execution_count": 6,
   "id": "ca009bab",
   "metadata": {},
   "outputs": [],
   "source": [
    "# Split test data from training data\n",
    "train_sentences, test_sentences, train_labels, test_labels = train_test_split(\n",
    "    dataset[\"train\"]['sentence'], \n",
    "    dataset[\"train\"]['label'], \n",
    "    test_size=0.2, \n",
    "    stratify=dataset[\"train\"]['label']  # make sure the same proportion of labels is in the test set and training set\n",
    ")"
   ]
  },
  {
   "cell_type": "code",
   "execution_count": 7,
   "id": "7b3af369",
   "metadata": {},
   "outputs": [
    {
     "name": "stdout",
     "output_type": "stream",
     "text": [
      "How many instances in the train dataset? \n",
      "\n",
      "3876\n",
      "\n",
      "What does one instance look like? \n",
      "\n",
      "The Elcoteq group recently announced that the last three months of the previous year brought to it a major loss of more than half a billion kroons ( EUR 32 mln ) for the fifth quarter running .\n"
     ]
    }
   ],
   "source": [
    "# label 0 = negative, 1 = neutral, 2 = positive\n",
    "print(f'How many instances in the train dataset? \\n\\n{len(train_sentences)}')\n",
    "print('')\n",
    "print(f'What does one instance look like? \\n\\n{train_sentences[234]}')"
   ]
  },
  {
   "cell_type": "markdown",
   "id": "b58ea906-8488-43a9-90dd-94695d700d19",
   "metadata": {},
   "source": [
    "It may also be necessary to create a _validation_ set (also called 'development' set or 'devset'). The validation set can be used to compute performance of your model when tuning hyperparameters,  optimising combinations of features, or looking at the errors your model makes before improving it. This allows you to hold out the test set to give a fair evaluation of the model and how well it generalises to new examples. This avoids tuning the model to specifso it gets good performance on the test set examples. "
   ]
  },
  {
   "cell_type": "code",
   "execution_count": 8,
   "id": "3c873dbe-b6a6-41ed-9f03-b52a5e0a85c7",
   "metadata": {},
   "outputs": [],
   "source": [
    "train_sentences, val_sentences, train_labels, val_labels = train_test_split(train_sentences, train_labels, test_size=0.25, stratify=train_labels)\n"
   ]
  },
  {
   "cell_type": "code",
   "execution_count": 9,
   "id": "57d10fa5",
   "metadata": {},
   "outputs": [
    {
     "name": "stdout",
     "output_type": "stream",
     "text": [
      "How many instances in the validation dataset? \n",
      "\n",
      "969\n",
      "\n",
      "How many instances in the test dataset? \n",
      "\n",
      "970\n"
     ]
    }
   ],
   "source": [
    "print(f'How many instances in the validation dataset? \\n\\n{len(val_sentences)}\\n')\n",
    "print(f'How many instances in the test dataset? \\n\\n{len(test_sentences)}')"
   ]
  },
  {
   "cell_type": "markdown",
   "metadata": {},
   "source": [
    "## Data Exploration"
   ]
  },
  {
   "cell_type": "code",
   "execution_count": 10,
   "metadata": {},
   "outputs": [],
   "source": [
    "train = pd.DataFrame({'sentences' : train_sentences, 'labels' : train_labels})"
   ]
  },
  {
   "cell_type": "markdown",
   "metadata": {},
   "source": [
    "### Very Brief Response Analysis"
   ]
  },
  {
   "cell_type": "markdown",
   "metadata": {},
   "source": [
    "Should only need to do this for train due to random split. So would expect to see the same structure for test and val"
   ]
  },
  {
   "cell_type": "code",
   "execution_count": 11,
   "metadata": {},
   "outputs": [
    {
     "data": {
      "image/png": "[encoded data removed]",
      "text/plain": [
       "<Figure size 1080x576 with 1 Axes>"
      ]
     },
     "metadata": {
      "needs_background": "light"
     },
     "output_type": "display_data"
    }
   ],
   "source": [
    "# Make figure and axis\n",
    "fig, ax = plt.subplots(nrows = 1, ncols = 1, figsize = (15, 8))\n",
    "\n",
    "# Create plot of label counts\n",
    "ax = sns.countplot(data = train, x = 'labels').set(title = 'Label Counts for Train Data')\n",
    "\n",
    "# Edit plot to show correct labels\n",
    "plt.xlabel(\"Labels\")\n",
    "plt.ylabel(\"Frequency\")\n",
    "plt.xticks(rotation = 0)\n",
    "\n",
    "# Show Plot\n",
    "plt.show()"
   ]
  },
  {
   "cell_type": "markdown",
   "metadata": {},
   "source": [
    "There is a slight imbalance in labels, but nothing that should be an issue. If we find this is an issue later on, we can perform some over or under sampling."
   ]
  },
  {
   "cell_type": "markdown",
   "metadata": {},
   "source": [
    "# Featuring Engineering"
   ]
  },
  {
   "cell_type": "markdown",
   "metadata": {},
   "source": [
    "### Sentence Processing"
   ]
  },
  {
   "cell_type": "code",
   "execution_count": 75,
   "metadata": {},
   "outputs": [],
   "source": [
    "# Remove some stopwords to capture negation in n-grams if possible\n",
    "stop_words = nltk.corpus.stopwords.words('english')\n",
    "stop_words.remove('no')\n",
    "stop_words.remove('not')\n",
    "stop_words.remove('but')\n",
    "\n",
    "# Load up a WordNet Lemmatizer\n",
    "wnl = nltk.stem.WordNetLemmatizer()\n",
    "\n",
    "# Define a function to get the position tag for each word - this helps to lemmatize words correctly with context\n",
    "def get_wordnet_pos(word: str):\n",
    "        '''Map POS tag to first character lemmatize() accepts\n",
    "        \n",
    "        Arguments:\n",
    "            word (str): word to find wordnet position tag for'''\n",
    "        \n",
    "        # Get first letter of pos_tag\n",
    "        tag = nltk.pos_tag([word])[0][1][0].upper()\n",
    "\n",
    "        # Translate letter into wordnet position tag\n",
    "        tag_dict = {\n",
    "            'J': nltk.corpus.wordnet.ADJ,\n",
    "            'N': nltk.corpus.wordnet.NOUN,\n",
    "            'V': nltk.corpus.wordnet.VERB,\n",
    "            'R': nltk.corpus.wordnet.ADV\n",
    "            }\n",
    "\n",
    "        return tag_dict.get(tag, nltk.corpus.wordnet.NOUN)\n",
    "\n",
    "def text_preprocess(sentence: str):\n",
    "    '''Preprocesses the inputted sentence and does the following: sets to lowercase,\n",
    "    removes unwanted characters, lemmatizes and removes stopwords\n",
    "    \n",
    "    Arguments:\n",
    "        sentence (str): sentence to be processed\n",
    "\n",
    "    Returns:\n",
    "        sentence (str): processed sentence'''\n",
    "\n",
    "    # Set to lower case\n",
    "    sentence = str(sentence).lower()\n",
    "    \n",
    "    # Remove non-letter characters and replace the abbreviation 'mn' for million\n",
    "    sentence = re.sub(r'[^a-zA-Z]',r' ', sentence)\n",
    "    sentence = re.sub('mn', 'million', sentence)\n",
    "\n",
    "    # Wordnet lemmatizer with position tagging to give context\n",
    "    sentence = ' '.join([wnl.lemmatize(word, get_wordnet_pos(word)) for word in nltk.word_tokenize(sentence)])\n",
    "    \n",
    "    # Removal of Stopwords\n",
    "    sentence = ' '.join([word for word in nltk.word_tokenize(sentence) if word not in stop_words])\n",
    "    \n",
    "    return sentence\n",
    "\n",
    "# Turn the above function into a vectorized function to work on columns for sentences\n",
    "vect_text_preprocess = np.vectorize(text_preprocess)"
   ]
  },
  {
   "cell_type": "code",
   "execution_count": 76,
   "metadata": {},
   "outputs": [],
   "source": [
    "# Clean train, test and validation sentences using the vectorized text_processor\n",
    "clean_train_sentences = vect_text_preprocess(train_sentences)\n",
    "clean_test_sentences = vect_text_preprocess(test_sentences)\n",
    "clean_val_sentences = vect_text_preprocess(val_sentences)"
   ]
  },
  {
   "cell_type": "markdown",
   "metadata": {},
   "source": [
    "#### TF-IDF Vectorizer\n",
    "\n",
    "We will be using a TF-IDF Vectorizer to vectorize our sentences before modelling. We will be setting the `ngram_range = (1, 1)` so we can also build columns for bi-grams."
   ]
  },
  {
   "cell_type": "code",
   "execution_count": 77,
   "metadata": {},
   "outputs": [],
   "source": [
    "# Define TFIDF Vectorizer\n",
    "tfidf = TfidfVectorizer(min_df = 0.0, max_df = 1.0, ngram_range = (1, 1))"
   ]
  },
  {
   "cell_type": "code",
   "execution_count": 78,
   "metadata": {},
   "outputs": [],
   "source": [
    "# Fit and transform the clean sentences to the TFIDF Vectorizer for each train, test and validation\n",
    "X_train = tfidf.fit_transform(clean_train_sentences).toarray()\n",
    "X_train = pd.DataFrame(X_train, columns = tfidf.get_feature_names_out())\n",
    "\n",
    "X_test = tfidf.transform(clean_test_sentences).toarray()\n",
    "X_test = pd.DataFrame(X_test, columns = tfidf.get_feature_names_out())\n",
    "\n",
    "X_val = tfidf.transform(clean_val_sentences).toarray()\n",
    "X_val = pd.DataFrame(X_val, columns = tfidf.get_feature_names_out())"
   ]
  },
  {
   "cell_type": "markdown",
   "metadata": {},
   "source": [
    "## Modelling\n",
    "\n",
    "We will be using the ROC AUC Score as our evaluation metric since is provides a good balance between True Negative and False Positives in one score. This is preferred to Accuracy due to our imbalance and Precision and Recall since we require a balance of the both to get a good model. Since ROC score uses predicted probabilities as its input, we don't have to tune the threshold."
   ]
  },
  {
   "cell_type": "code",
   "execution_count": 79,
   "metadata": {},
   "outputs": [],
   "source": [
    "# Assign train, text and validation labels to the y variable\n",
    "y_train = train_labels\n",
    "y_test = test_labels\n",
    "y_val = val_labels"
   ]
  },
  {
   "cell_type": "code",
   "execution_count": 80,
   "metadata": {},
   "outputs": [],
   "source": [
    "# Make a dictionary for each train, tes and validation to make fitting and evaluation cleaner.\n",
    "train_data = {'X' : X_train, 'y' : y_train}\n",
    "test_data = {'X' : X_test, 'y' : y_test}\n",
    "val_data = {'X' : X_val, 'y' : y_val}"
   ]
  },
  {
   "cell_type": "markdown",
   "metadata": {},
   "source": [
    "### Baseline Model - Linear Regression\n",
    "\n",
    "We are using a Logistic Regressor since it is a robust model across a wide state space so should be able to deal with our sentences effectively."
   ]
  },
  {
   "cell_type": "code",
   "execution_count": 81,
   "metadata": {},
   "outputs": [
    {
     "name": "stdout",
     "output_type": "stream",
     "text": [
      " --- Classification Report --- \n",
      "              precision    recall  f1-score   support\n",
      "\n",
      "           0       0.83      0.40      0.54       121\n",
      "           1       0.73      0.95      0.83       576\n",
      "           2       0.72      0.45      0.55       273\n",
      "\n",
      "    accuracy                           0.74       970\n",
      "   macro avg       0.76      0.60      0.64       970\n",
      "weighted avg       0.74      0.74      0.71       970\n",
      "\n",
      "\n",
      " --- MACRO METRICS --- \n",
      "ROC: 0.86111\n",
      "ACCURACY: 0.73711\n",
      "PRECISION: 0.761\n",
      "RECALL: 0.59659\n"
     ]
    }
   ],
   "source": [
    "baseline_model = LogisticRegression().fit(**train_data)\n",
    "f.evaluate_model(baseline_model, **test_data, c_report = True, print_metrics = True)"
   ]
  },
  {
   "cell_type": "markdown",
   "metadata": {},
   "source": [
    "### Model Tuning - Naive Bayes"
   ]
  },
  {
   "cell_type": "code",
   "execution_count": 82,
   "metadata": {},
   "outputs": [],
   "source": [
    "warnings.simplefilter(action='ignore', category=UserWarning)"
   ]
  },
  {
   "cell_type": "code",
   "execution_count": 83,
   "metadata": {},
   "outputs": [
    {
     "name": "stderr",
     "output_type": "stream",
     "text": [
      "\u001b[32m[I 2022-03-29 21:42:04,646]\u001b[0m A new study created in memory with name: no-name-88df6a52-6318-40e8-98fc-615c2f7b0636\u001b[0m\n",
      "\u001b[32m[I 2022-03-29 21:42:15,754]\u001b[0m Trial 0 finished with value: 0.8638181933603367 and parameters: {'penalty': 'l2', 'C': 4.62952801966031}. Best is trial 0 with value: 0.8638181933603367.\u001b[0m\n",
      "\u001b[32m[I 2022-03-29 21:42:16,386]\u001b[0m Trial 3 finished with value: 0.8634487140033481 and parameters: {'penalty': 'l2', 'C': 5.15807747441389}. Best is trial 0 with value: 0.8638181933603367.\u001b[0m\n",
      "\u001b[32m[I 2022-03-29 21:42:18,592]\u001b[0m Trial 6 finished with value: 0.862102225641884 and parameters: {'penalty': 'l2', 'C': 6.5888803479553815}. Best is trial 0 with value: 0.8638181933603367.\u001b[0m\n",
      "\u001b[32m[I 2022-03-29 21:42:19,067]\u001b[0m Trial 7 finished with value: 0.862159390199504 and parameters: {'penalty': 'l2', 'C': 6.529104394953695}. Best is trial 0 with value: 0.8638181933603367.\u001b[0m\n",
      "\u001b[32m[I 2022-03-29 21:42:23,055]\u001b[0m Trial 1 finished with value: 0.8695601911804075 and parameters: {'penalty': 'elasticnet', 'l1_ratio': 0.5023071692981064, 'C': 2.1329013618128725}. Best is trial 1 with value: 0.8695601911804075.\u001b[0m\n",
      "\u001b[32m[I 2022-03-29 21:42:29,550]\u001b[0m Trial 9 finished with value: 0.8639748847899323 and parameters: {'penalty': 'l2', 'C': 4.489299626332669}. Best is trial 1 with value: 0.8695601911804075.\u001b[0m\n",
      "\u001b[32m[I 2022-03-29 21:42:30,135]\u001b[0m Trial 5 finished with value: 0.8683248360125561 and parameters: {'penalty': 'elasticnet', 'l1_ratio': 0.27563169018239764, 'C': 3.1593971475175806}. Best is trial 1 with value: 0.8695601911804075.\u001b[0m\n",
      "\u001b[32m[I 2022-03-29 21:42:41,034]\u001b[0m Trial 2 finished with value: 0.8392412925952231 and parameters: {'penalty': 'none', 'C': 6.427552310082484}. Best is trial 1 with value: 0.8695601911804075.\u001b[0m\n",
      "\u001b[32m[I 2022-03-29 21:42:41,460]\u001b[0m Trial 11 finished with value: 0.8686444242411021 and parameters: {'penalty': 'elasticnet', 'l1_ratio': 0.6729318148289366, 'C': 1.982186106108447}. Best is trial 1 with value: 0.8695601911804075.\u001b[0m\n",
      "\u001b[32m[I 2022-03-29 21:42:42,714]\u001b[0m Trial 12 finished with value: 0.8640508478919803 and parameters: {'penalty': 'elasticnet', 'l1_ratio': 0.005818428632257788, 'C': 4.526074377657338}. Best is trial 1 with value: 0.8695601911804075.\u001b[0m\n",
      "\u001b[32m[I 2022-03-29 21:42:48,458]\u001b[0m Trial 14 finished with value: 0.8618077951431337 and parameters: {'penalty': 'l2', 'C': 6.904784074200353}. Best is trial 1 with value: 0.8695601911804075.\u001b[0m\n",
      "\u001b[32m[I 2022-03-29 21:42:51,837]\u001b[0m Trial 16 finished with value: 0.8595844742824741 and parameters: {'penalty': 'l2', 'C': 0.8636685425723608}. Best is trial 1 with value: 0.8695601911804075.\u001b[0m\n",
      "\u001b[32m[I 2022-03-29 21:42:55,147]\u001b[0m Trial 17 finished with value: 0.7117869618680753 and parameters: {'penalty': 'l1', 'C': 0.1680844092574767}. Best is trial 1 with value: 0.8695601911804075.\u001b[0m\n",
      "\u001b[32m[I 2022-03-29 21:42:55,847]\u001b[0m Trial 4 finished with value: 0.8648992084504066 and parameters: {'penalty': 'l1', 'C': 2.6925977599661706}. Best is trial 1 with value: 0.8695601911804075.\u001b[0m\n",
      "\u001b[32m[I 2022-03-29 21:42:58,137]\u001b[0m Trial 10 finished with value: 0.8392412925952231 and parameters: {'penalty': 'none', 'C': 2.412784737954739}. Best is trial 1 with value: 0.8695601911804075.\u001b[0m\n",
      "\u001b[32m[I 2022-03-29 21:42:59,657]\u001b[0m Trial 15 finished with value: 0.8620937254732279 and parameters: {'penalty': 'l2', 'C': 6.6015964916002465}. Best is trial 1 with value: 0.8695601911804075.\u001b[0m\n",
      "\u001b[32m[I 2022-03-29 21:43:09,756]\u001b[0m Trial 13 finished with value: 0.8392412925952231 and parameters: {'penalty': 'none', 'C': 2.721643975332999}. Best is trial 1 with value: 0.8695601911804075.\u001b[0m\n",
      "\u001b[32m[I 2022-03-29 21:43:12,338]\u001b[0m Trial 8 finished with value: 0.8580489562592774 and parameters: {'penalty': 'l1', 'C': 6.1702568921709045}. Best is trial 1 with value: 0.8695601911804075.\u001b[0m\n",
      "\u001b[32m[I 2022-03-29 21:43:19,793]\u001b[0m Trial 19 finished with value: 0.8659665523595589 and parameters: {'penalty': 'elasticnet', 'l1_ratio': 0.7749259289813288, 'C': 1.7536035295815235}. Best is trial 1 with value: 0.8695601911804075.\u001b[0m\n",
      "\u001b[32m[I 2022-03-29 21:43:22,751]\u001b[0m Trial 18 finished with value: 0.8514327110915696 and parameters: {'penalty': 'l1', 'C': 0.9881164151264339}. Best is trial 1 with value: 0.8695601911804075.\u001b[0m\n",
      "\u001b[32m[I 2022-03-29 21:43:24,782]\u001b[0m Trial 21 finished with value: 0.8667107489146751 and parameters: {'penalty': 'elasticnet', 'l1_ratio': 0.7731457797570811, 'C': 1.8583545130789465}. Best is trial 1 with value: 0.8695601911804075.\u001b[0m\n",
      "\u001b[32m[I 2022-03-29 21:43:28,756]\u001b[0m Trial 22 finished with value: 0.8659511471745973 and parameters: {'penalty': 'elasticnet', 'l1_ratio': 0.7929372528758284, 'C': 1.7872551789352376}. Best is trial 1 with value: 0.8695601911804075.\u001b[0m\n",
      "\u001b[32m[I 2022-03-29 21:43:28,987]\u001b[0m Trial 23 finished with value: 0.8647329228398436 and parameters: {'penalty': 'elasticnet', 'l1_ratio': 0.797286984960524, 'C': 1.6361344365782287}. Best is trial 1 with value: 0.8695601911804075.\u001b[0m\n",
      "\u001b[32m[I 2022-03-29 21:43:30,835]\u001b[0m Trial 20 finished with value: 0.8660853959581196 and parameters: {'penalty': 'elasticnet', 'l1_ratio': 0.823558041142934, 'C': 1.8639468984048149}. Best is trial 1 with value: 0.8695601911804075.\u001b[0m\n",
      "\u001b[32m[I 2022-03-29 21:43:39,679]\u001b[0m Trial 26 finished with value: 0.8622136339917198 and parameters: {'penalty': 'elasticnet', 'l1_ratio': 0.6568886627904175, 'C': 1.3075229216182849}. Best is trial 1 with value: 0.8695601911804075.\u001b[0m\n",
      "\u001b[32m[I 2022-03-29 21:43:40,258]\u001b[0m Trial 25 finished with value: 0.8635624883411689 and parameters: {'penalty': 'elasticnet', 'l1_ratio': 0.7760574969958505, 'C': 1.4987432247238195}. Best is trial 1 with value: 0.8695601911804075.\u001b[0m\n",
      "\u001b[32m[I 2022-03-29 21:43:44,999]\u001b[0m Trial 24 finished with value: 0.8628484031314109 and parameters: {'penalty': 'elasticnet', 'l1_ratio': 0.8379157469021201, 'C': 1.5146188325400889}. Best is trial 1 with value: 0.8695601911804075.\u001b[0m\n",
      "\u001b[32m[I 2022-03-29 21:43:46,946]\u001b[0m Trial 27 finished with value: 0.8664811322188263 and parameters: {'penalty': 'elasticnet', 'l1_ratio': 0.6580539680856723, 'C': 1.7080231396284882}. Best is trial 1 with value: 0.8695601911804075.\u001b[0m\n",
      "\u001b[32m[I 2022-03-29 21:43:57,783]\u001b[0m Trial 28 finished with value: 0.8683807532214299 and parameters: {'penalty': 'elasticnet', 'l1_ratio': 0.36450992137886085, 'C': 3.4639663401982865}. Best is trial 1 with value: 0.8695601911804075.\u001b[0m\n",
      "\u001b[32m[I 2022-03-29 21:44:01,803]\u001b[0m Trial 30 finished with value: 0.8686325243901615 and parameters: {'penalty': 'elasticnet', 'l1_ratio': 0.38548742458028873, 'C': 3.282603413429139}. Best is trial 1 with value: 0.8695601911804075.\u001b[0m\n",
      "\u001b[32m[I 2022-03-29 21:44:04,752]\u001b[0m Trial 29 finished with value: 0.8683508934604754 and parameters: {'penalty': 'elasticnet', 'l1_ratio': 0.3804982351470275, 'C': 3.584237762705292}. Best is trial 1 with value: 0.8695601911804075.\u001b[0m\n",
      "\u001b[32m[I 2022-03-29 21:44:05,265]\u001b[0m Trial 31 finished with value: 0.8685998735039352 and parameters: {'penalty': 'elasticnet', 'l1_ratio': 0.3970630599996107, 'C': 3.4643730349537307}. Best is trial 1 with value: 0.8695601911804075.\u001b[0m\n",
      "\u001b[32m[I 2022-03-29 21:44:12,807]\u001b[0m Trial 33 finished with value: 0.8683867432869606 and parameters: {'penalty': 'elasticnet', 'l1_ratio': 0.3384070162273647, 'C': 3.3117467721747373}. Best is trial 1 with value: 0.8695601911804075.\u001b[0m\n",
      "\u001b[32m[I 2022-03-29 21:44:13,207]\u001b[0m Trial 32 finished with value: 0.8684703098581722 and parameters: {'penalty': 'elasticnet', 'l1_ratio': 0.3602461030506237, 'C': 3.393811076048148}. Best is trial 1 with value: 0.8695601911804075.\u001b[0m\n",
      "\u001b[32m[I 2022-03-29 21:44:17,730]\u001b[0m Trial 34 finished with value: 0.8684330045457699 and parameters: {'penalty': 'elasticnet', 'l1_ratio': 0.3530345308355479, 'C': 3.3667419162740497}. Best is trial 1 with value: 0.8695601911804075.\u001b[0m\n",
      "\u001b[32m[I 2022-03-29 21:44:19,118]\u001b[0m Trial 35 finished with value: 0.8685771545069771 and parameters: {'penalty': 'elasticnet', 'l1_ratio': 0.34554846892684926, 'C': 3.191110090983717}. Best is trial 1 with value: 0.8695601911804075.\u001b[0m\n",
      "\u001b[32m[I 2022-03-29 21:44:33,654]\u001b[0m Trial 36 finished with value: 0.8685189367450059 and parameters: {'penalty': 'elasticnet', 'l1_ratio': 0.4190932166444214, 'C': 3.6317209637165595}. Best is trial 1 with value: 0.8695601911804075.\u001b[0m\n",
      "\u001b[32m[I 2022-03-29 21:44:39,663]\u001b[0m Trial 37 finished with value: 0.8684117741409466 and parameters: {'penalty': 'elasticnet', 'l1_ratio': 0.4732818328085393, 'C': 3.891253713603497}. Best is trial 1 with value: 0.8695601911804075.\u001b[0m\n",
      "\u001b[32m[I 2022-03-29 21:44:41,237]\u001b[0m Trial 38 finished with value: 0.8685103774281999 and parameters: {'penalty': 'elasticnet', 'l1_ratio': 0.4543277177426325, 'C': 3.7955101296035423}. Best is trial 1 with value: 0.8695601911804075.\u001b[0m\n",
      "\u001b[32m[I 2022-03-29 21:44:41,983]\u001b[0m Trial 39 finished with value: 0.8691059876435759 and parameters: {'penalty': 'elasticnet', 'l1_ratio': 0.5227060118778885, 'C': 3.5557524111434864}. Best is trial 1 with value: 0.8695601911804075.\u001b[0m\n",
      "\u001b[32m[I 2022-03-29 21:44:58,081]\u001b[0m Trial 41 finished with value: 0.8392412925952231 and parameters: {'penalty': 'none', 'C': 4.007079575233913}. Best is trial 1 with value: 0.8695601911804075.\u001b[0m\n",
      "\u001b[32m[I 2022-03-29 21:44:58,702]\u001b[0m Trial 40 finished with value: 0.8392412925952231 and parameters: {'penalty': 'none', 'C': 4.157971879254273}. Best is trial 1 with value: 0.8695601911804075.\u001b[0m\n",
      "\u001b[32m[I 2022-03-29 21:45:03,209]\u001b[0m Trial 42 finished with value: 0.8392412925952231 and parameters: {'penalty': 'none', 'C': 3.9384855316036536}. Best is trial 1 with value: 0.8695601911804075.\u001b[0m\n",
      "\u001b[32m[I 2022-03-29 21:45:04,710]\u001b[0m Trial 43 finished with value: 0.8392412925952231 and parameters: {'penalty': 'none', 'C': 3.870481271601366}. Best is trial 1 with value: 0.8695601911804075.\u001b[0m\n",
      "\u001b[32m[I 2022-03-29 21:45:17,428]\u001b[0m Trial 44 finished with value: 0.8392412925952231 and parameters: {'penalty': 'none', 'C': 4.051723512196958}. Best is trial 1 with value: 0.8695601911804075.\u001b[0m\n",
      "\u001b[32m[I 2022-03-29 21:45:23,898]\u001b[0m Trial 45 finished with value: 0.8392412925952231 and parameters: {'penalty': 'none', 'C': 2.299489438421533}. Best is trial 1 with value: 0.8695601911804075.\u001b[0m\n",
      "\u001b[32m[I 2022-03-29 21:45:25,481]\u001b[0m Trial 46 finished with value: 0.8392412925952231 and parameters: {'penalty': 'none', 'C': 2.34046162968082}. Best is trial 1 with value: 0.8695601911804075.\u001b[0m\n",
      "\u001b[32m[I 2022-03-29 21:45:25,677]\u001b[0m Trial 48 finished with value: 0.870377505233801 and parameters: {'penalty': 'elasticnet', 'l1_ratio': 0.5654858448006999, 'C': 2.5521352613675816}. Best is trial 48 with value: 0.870377505233801.\u001b[0m\n",
      "\u001b[32m[I 2022-03-29 21:45:25,941]\u001b[0m Trial 47 finished with value: 0.8392412925952231 and parameters: {'penalty': 'none', 'C': 2.3723080815285083}. Best is trial 48 with value: 0.870377505233801.\u001b[0m\n",
      "\u001b[32m[I 2022-03-29 21:45:54,606]\u001b[0m Trial 49 finished with value: 0.8649174617884303 and parameters: {'penalty': 'l1', 'C': 2.7117679703363775}. Best is trial 48 with value: 0.870377505233801.\u001b[0m\n",
      "\u001b[32m[I 2022-03-29 21:45:59,202]\u001b[0m Trial 50 finished with value: 0.864434965738801 and parameters: {'penalty': 'l1', 'C': 2.390885457153819}. Best is trial 48 with value: 0.870377505233801.\u001b[0m\n",
      "\u001b[32m[I 2022-03-29 21:46:03,938]\u001b[0m Trial 51 finished with value: 0.8604251080938194 and parameters: {'penalty': 'l1', 'C': 5.04093337610357}. Best is trial 48 with value: 0.870377505233801.\u001b[0m\n",
      "\u001b[32m[I 2022-03-29 21:46:14,808]\u001b[0m Trial 52 finished with value: 0.8648979561561235 and parameters: {'penalty': 'l1', 'C': 2.6472629976693263}. Best is trial 48 with value: 0.870377505233801.\u001b[0m\n",
      "\u001b[32m[I 2022-03-29 21:46:22,745]\u001b[0m Trial 55 finished with value: 0.8647842144196053 and parameters: {'penalty': 'l1', 'C': 2.8282136275756824}. Best is trial 48 with value: 0.870377505233801.\u001b[0m\n",
      "\u001b[32m[I 2022-03-29 21:46:23,845]\u001b[0m Trial 56 finished with value: 0.8647363580079089 and parameters: {'penalty': 'l1', 'C': 2.8744597332043265}. Best is trial 48 with value: 0.870377505233801.\u001b[0m\n",
      "\u001b[32m[I 2022-03-29 21:46:24,692]\u001b[0m Trial 53 finished with value: 0.8597516280277219 and parameters: {'penalty': 'l1', 'C': 5.3412856948764444}. Best is trial 48 with value: 0.870377505233801.\u001b[0m\n",
      "\u001b[32m[I 2022-03-29 21:46:25,784]\u001b[0m Trial 54 finished with value: 0.8602810771353401 and parameters: {'penalty': 'l1', 'C': 5.1176603438350705}. Best is trial 48 with value: 0.870377505233801.\u001b[0m\n",
      "\u001b[32m[I 2022-03-29 21:46:35,551]\u001b[0m Trial 59 finished with value: 0.8702329604874665 and parameters: {'penalty': 'elasticnet', 'l1_ratio': 0.5751291719703917, 'C': 2.8922693437581857}. Best is trial 48 with value: 0.870377505233801.\u001b[0m\n",
      "\u001b[32m[I 2022-03-29 21:46:45,490]\u001b[0m Trial 57 finished with value: 0.8671860804021438 and parameters: {'penalty': 'elasticnet', 'l1_ratio': 0.5969321118389244, 'C': 5.071524009044931}. Best is trial 48 with value: 0.870377505233801.\u001b[0m\n",
      "\u001b[32m[I 2022-03-29 21:46:46,629]\u001b[0m Trial 58 finished with value: 0.8673547230951545 and parameters: {'penalty': 'elasticnet', 'l1_ratio': 0.5672922947094838, 'C': 4.944668378256073}. Best is trial 48 with value: 0.870377505233801.\u001b[0m\n",
      "\u001b[32m[I 2022-03-29 21:46:46,792]\u001b[0m Trial 61 finished with value: 0.8694829868131954 and parameters: {'penalty': 'elasticnet', 'l1_ratio': 0.5936893781485095, 'C': 2.074106898879409}. Best is trial 48 with value: 0.870377505233801.\u001b[0m\n",
      "\u001b[32m[I 2022-03-29 21:46:46,987]\u001b[0m Trial 60 finished with value: 0.869999679386764 and parameters: {'penalty': 'elasticnet', 'l1_ratio': 0.5776850461314473, 'C': 3.0994604053309835}. Best is trial 48 with value: 0.870377505233801.\u001b[0m\n",
      "\u001b[32m[I 2022-03-29 21:46:47,517]\u001b[0m Trial 62 finished with value: 0.869526944280438 and parameters: {'penalty': 'elasticnet', 'l1_ratio': 0.584156163431369, 'C': 2.0914778956975355}. Best is trial 48 with value: 0.870377505233801.\u001b[0m\n",
      "\u001b[32m[I 2022-03-29 21:46:49,766]\u001b[0m Trial 64 finished with value: 0.8697223143013271 and parameters: {'penalty': 'elasticnet', 'l1_ratio': 0.5782030913306894, 'C': 2.150841660188868}. Best is trial 48 with value: 0.870377505233801.\u001b[0m\n",
      "\u001b[32m[I 2022-03-29 21:46:54,763]\u001b[0m Trial 63 finished with value: 0.8700166609043078 and parameters: {'penalty': 'elasticnet', 'l1_ratio': 0.5659373220562538, 'C': 2.9927013897759998}. Best is trial 48 with value: 0.870377505233801.\u001b[0m\n",
      "\u001b[32m[I 2022-03-29 21:46:59,475]\u001b[0m Trial 67 finished with value: 0.8652137904293914 and parameters: {'penalty': 'l2', 'C': 2.07257406469254}. Best is trial 48 with value: 0.870377505233801.\u001b[0m\n",
      "\u001b[32m[I 2022-03-29 21:46:59,727]\u001b[0m Trial 65 finished with value: 0.869711477509699 and parameters: {'penalty': 'elasticnet', 'l1_ratio': 0.5724588640974743, 'C': 2.147142560795963}. Best is trial 48 with value: 0.870377505233801.\u001b[0m\n",
      "\u001b[32m[I 2022-03-29 21:47:00,178]\u001b[0m Trial 70 finished with value: 0.8652215740313127 and parameters: {'penalty': 'l2', 'C': 2.0407805692242027}. Best is trial 48 with value: 0.870377505233801.\u001b[0m\n",
      "\u001b[32m[I 2022-03-29 21:47:00,661]\u001b[0m Trial 66 finished with value: 0.8641374924188429 and parameters: {'penalty': 'l2', 'C': 4.327589670605957}. Best is trial 48 with value: 0.870377505233801.\u001b[0m\n",
      "\u001b[32m[I 2022-03-29 21:47:02,881]\u001b[0m Trial 71 finished with value: 0.8652058320718655 and parameters: {'penalty': 'l2', 'C': 2.0718370379101922}. Best is trial 48 with value: 0.870377505233801.\u001b[0m\n",
      "\u001b[32m[I 2022-03-29 21:47:08,185]\u001b[0m Trial 72 finished with value: 0.8650965554241853 and parameters: {'penalty': 'l2', 'C': 3.0492933700904734}. Best is trial 48 with value: 0.870377505233801.\u001b[0m\n",
      "\u001b[32m[I 2022-03-29 21:47:09,728]\u001b[0m Trial 69 finished with value: 0.8694434235521674 and parameters: {'penalty': 'elasticnet', 'l1_ratio': 0.5605601789183251, 'C': 2.0181270516939596}. Best is trial 48 with value: 0.870377505233801.\u001b[0m\n",
      "\u001b[32m[I 2022-03-29 21:47:10,404]\u001b[0m Trial 68 finished with value: 0.8697480103650844 and parameters: {'penalty': 'elasticnet', 'l1_ratio': 0.538294808224715, 'C': 2.136569857787273}. Best is trial 48 with value: 0.870377505233801.\u001b[0m\n",
      "\u001b[32m[I 2022-03-29 21:47:30,116]\u001b[0m Trial 75 finished with value: 0.8697906847063056 and parameters: {'penalty': 'elasticnet', 'l1_ratio': 0.5192842139387065, 'C': 2.9435497655781093}. Best is trial 48 with value: 0.870377505233801.\u001b[0m\n",
      "\u001b[32m[I 2022-03-29 21:47:30,704]\u001b[0m Trial 76 finished with value: 0.8696830043506317 and parameters: {'penalty': 'elasticnet', 'l1_ratio': 0.510970967605303, 'C': 3.005420542733948}. Best is trial 48 with value: 0.870377505233801.\u001b[0m\n",
      "\u001b[32m[I 2022-03-29 21:47:30,737]\u001b[0m Trial 74 finished with value: 0.8697040312696102 and parameters: {'penalty': 'elasticnet', 'l1_ratio': 0.5177986066115164, 'C': 3.0376666146683933}. Best is trial 48 with value: 0.870377505233801.\u001b[0m\n",
      "\u001b[32m[I 2022-03-29 21:47:30,982]\u001b[0m Trial 73 finished with value: 0.8697540199745996 and parameters: {'penalty': 'elasticnet', 'l1_ratio': 0.5272423868812754, 'C': 3.0539036679055567}. Best is trial 48 with value: 0.870377505233801.\u001b[0m\n",
      "\u001b[32m[I 2022-03-29 21:47:33,473]\u001b[0m Trial 77 finished with value: 0.8697944376248586 and parameters: {'penalty': 'elasticnet', 'l1_ratio': 0.5264078347182719, 'C': 3.024764047455235}. Best is trial 48 with value: 0.870377505233801.\u001b[0m\n",
      "\u001b[32m[I 2022-03-29 21:47:36,142]\u001b[0m Trial 79 finished with value: 0.8697974864197265 and parameters: {'penalty': 'elasticnet', 'l1_ratio': 0.5176349270090908, 'C': 2.5758263807700263}. Best is trial 48 with value: 0.870377505233801.\u001b[0m\n",
      "\u001b[32m[I 2022-03-29 21:47:37,028]\u001b[0m Trial 80 finished with value: 0.8697581147521917 and parameters: {'penalty': 'elasticnet', 'l1_ratio': 0.5090661242429095, 'C': 2.545500142087265}. Best is trial 48 with value: 0.870377505233801.\u001b[0m\n",
      "\u001b[32m[I 2022-03-29 21:47:39,776]\u001b[0m Trial 78 finished with value: 0.8698468005928937 and parameters: {'penalty': 'elasticnet', 'l1_ratio': 0.5353433300802299, 'C': 3.015780814735507}. Best is trial 48 with value: 0.870377505233801.\u001b[0m\n",
      "\u001b[32m[I 2022-03-29 21:47:48,902]\u001b[0m Trial 82 finished with value: 0.8604477192416189 and parameters: {'penalty': 'elasticnet', 'l1_ratio': 0.6385772044940038, 'C': 1.2041350907032848}. Best is trial 48 with value: 0.870377505233801.\u001b[0m\n",
      "\u001b[32m[I 2022-03-29 21:48:00,818]\u001b[0m Trial 84 finished with value: 0.8703437568510828 and parameters: {'penalty': 'elasticnet', 'l1_ratio': 0.6649957457924882, 'C': 2.47873863503746}. Best is trial 48 with value: 0.870377505233801.\u001b[0m\n",
      "\u001b[32m[I 2022-03-29 21:48:00,986]\u001b[0m Trial 81 finished with value: 0.8696987106524222 and parameters: {'penalty': 'elasticnet', 'l1_ratio': 0.5150390454353492, 'C': 3.0569286971175322}. Best is trial 48 with value: 0.870377505233801.\u001b[0m\n",
      "\u001b[32m[I 2022-03-29 21:48:03,832]\u001b[0m Trial 83 finished with value: 0.8703241315090823 and parameters: {'penalty': 'elasticnet', 'l1_ratio': 0.6980876431815245, 'C': 2.578764182091721}. Best is trial 48 with value: 0.870377505233801.\u001b[0m\n",
      "\u001b[32m[I 2022-03-29 21:48:05,424]\u001b[0m Trial 85 finished with value: 0.8705123920471175 and parameters: {'penalty': 'elasticnet', 'l1_ratio': 0.6784801644266962, 'C': 2.677849493180455}. Best is trial 85 with value: 0.8705123920471175.\u001b[0m\n",
      "\u001b[32m[I 2022-03-29 21:48:07,640]\u001b[0m Trial 86 finished with value: 0.8703999802791267 and parameters: {'penalty': 'elasticnet', 'l1_ratio': 0.6859190470550112, 'C': 2.5627292255135097}. Best is trial 85 with value: 0.8705123920471175.\u001b[0m\n",
      "\u001b[32m[I 2022-03-29 21:48:08,959]\u001b[0m Trial 88 finished with value: 0.8704921886683811 and parameters: {'penalty': 'elasticnet', 'l1_ratio': 0.6347966856181451, 'C': 2.5322701123200204}. Best is trial 85 with value: 0.8705123920471175.\u001b[0m\n",
      "\u001b[32m[I 2022-03-29 21:48:10,128]\u001b[0m Trial 87 finished with value: 0.870301670750206 and parameters: {'penalty': 'elasticnet', 'l1_ratio': 0.7032240422957093, 'C': 2.596312738064658}. Best is trial 85 with value: 0.8705123920471175.\u001b[0m\n",
      "\u001b[32m[I 2022-03-29 21:48:24,271]\u001b[0m Trial 89 finished with value: 0.8702752633594614 and parameters: {'penalty': 'elasticnet', 'l1_ratio': 0.7264218168927021, 'C': 2.707333203687943}. Best is trial 85 with value: 0.8705123920471175.\u001b[0m\n",
      "\u001b[32m[I 2022-03-29 21:48:31,752]\u001b[0m Trial 91 finished with value: 0.8703228059176059 and parameters: {'penalty': 'elasticnet', 'l1_ratio': 0.6905457624221394, 'C': 2.5561072896539896}. Best is trial 85 with value: 0.8705123920471175.\u001b[0m\n",
      "\u001b[32m[I 2022-03-29 21:48:34,089]\u001b[0m Trial 90 finished with value: 0.8700321741803497 and parameters: {'penalty': 'elasticnet', 'l1_ratio': 0.7261713914864729, 'C': 2.544952802187299}. Best is trial 85 with value: 0.8705123920471175.\u001b[0m\n",
      "\u001b[32m[I 2022-03-29 21:48:39,101]\u001b[0m Trial 92 finished with value: 0.869968531517065 and parameters: {'penalty': 'elasticnet', 'l1_ratio': 0.7404551283870198, 'C': 2.54440593085368}. Best is trial 85 with value: 0.8705123920471175.\u001b[0m\n",
      "\u001b[32m[I 2022-03-29 21:48:39,198]\u001b[0m Trial 93 finished with value: 0.8699807645090546 and parameters: {'penalty': 'elasticnet', 'l1_ratio': 0.7349619792220458, 'C': 2.5464947964106504}. Best is trial 85 with value: 0.8705123920471175.\u001b[0m\n",
      "\u001b[32m[I 2022-03-29 21:48:39,944]\u001b[0m Trial 94 finished with value: 0.8701175226898107 and parameters: {'penalty': 'elasticnet', 'l1_ratio': 0.7141756464534084, 'C': 2.553385538454749}. Best is trial 85 with value: 0.8705123920471175.\u001b[0m\n",
      "\u001b[32m[I 2022-03-29 21:48:41,577]\u001b[0m Trial 95 finished with value: 0.8700652579228562 and parameters: {'penalty': 'elasticnet', 'l1_ratio': 0.7121179043011671, 'C': 2.535293526418924}. Best is trial 85 with value: 0.8705123920471175.\u001b[0m\n",
      "\u001b[32m[I 2022-03-29 21:48:42,346]\u001b[0m Trial 96 finished with value: 0.8700893192117731 and parameters: {'penalty': 'elasticnet', 'l1_ratio': 0.7096335625954845, 'C': 2.541657254195094}. Best is trial 85 with value: 0.8705123920471175.\u001b[0m\n",
      "\u001b[32m[I 2022-03-29 21:49:00,629]\u001b[0m Trial 97 finished with value: 0.8702837762643038 and parameters: {'penalty': 'elasticnet', 'l1_ratio': 0.7225310457225116, 'C': 2.7169721325990914}. Best is trial 85 with value: 0.8705123920471175.\u001b[0m\n",
      "\u001b[32m[I 2022-03-29 21:49:06,903]\u001b[0m Trial 98 finished with value: 0.8699670627259387 and parameters: {'penalty': 'elasticnet', 'l1_ratio': 0.7315869952880157, 'C': 2.5209519075244606}. Best is trial 85 with value: 0.8705123920471175.\u001b[0m\n",
      "\u001b[32m[I 2022-03-29 21:49:10,318]\u001b[0m Trial 99 finished with value: 0.8702931369057728 and parameters: {'penalty': 'elasticnet', 'l1_ratio': 0.7199283203528182, 'C': 2.693922612149775}. Best is trial 85 with value: 0.8705123920471175.\u001b[0m\n",
      "\u001b[32m[I 2022-03-29 21:49:13,845]\u001b[0m Trial 100 finished with value: 0.8704819944387917 and parameters: {'penalty': 'elasticnet', 'l1_ratio': 0.7005036705999993, 'C': 2.7579280267079884}. Best is trial 85 with value: 0.8705123920471175.\u001b[0m\n",
      "\u001b[32m[I 2022-03-29 21:49:14,647]\u001b[0m Trial 101 finished with value: 0.8704822955561573 and parameters: {'penalty': 'elasticnet', 'l1_ratio': 0.6987379667957995, 'C': 2.7702511646493955}. Best is trial 85 with value: 0.8705123920471175.\u001b[0m\n",
      "\u001b[32m[I 2022-03-29 21:49:14,866]\u001b[0m Trial 102 finished with value: 0.8704727413393156 and parameters: {'penalty': 'elasticnet', 'l1_ratio': 0.6876450653688613, 'C': 2.7807128928567995}. Best is trial 85 with value: 0.8705123920471175.\u001b[0m\n",
      "\u001b[32m[I 2022-03-29 21:49:32,727]\u001b[0m Trial 105 finished with value: 0.8705065927312452 and parameters: {'penalty': 'elasticnet', 'l1_ratio': 0.6360134141200622, 'C': 2.777177950156857}. Best is trial 85 with value: 0.8705123920471175.\u001b[0m\n",
      "\u001b[32m[I 2022-03-29 21:49:37,532]\u001b[0m Trial 107 finished with value: 0.8699427944195713 and parameters: {'penalty': 'elasticnet', 'l1_ratio': 0.6413924935796473, 'C': 2.27985050142513}. Best is trial 85 with value: 0.8705123920471175.\u001b[0m\n",
      "\u001b[32m[I 2022-03-29 21:49:40,836]\u001b[0m Trial 108 finished with value: 0.8699739777901226 and parameters: {'penalty': 'elasticnet', 'l1_ratio': 0.6342804811517619, 'C': 2.2857444586916227}. Best is trial 85 with value: 0.8705123920471175.\u001b[0m\n",
      "\u001b[32m[I 2022-03-29 21:49:42,818]\u001b[0m Trial 103 finished with value: 0.8684063848584932 and parameters: {'penalty': 'elasticnet', 'l1_ratio': 0.8734850915003782, 'C': 2.7735909471920546}. Best is trial 85 with value: 0.8705123920471175.\u001b[0m\n",
      "\u001b[32m[I 2022-03-29 21:49:43,539]\u001b[0m Trial 110 finished with value: 0.8698446072881157 and parameters: {'penalty': 'elasticnet', 'l1_ratio': 0.6810683918175341, 'C': 2.299802727868546}. Best is trial 85 with value: 0.8705123920471175.\u001b[0m\n",
      "\u001b[32m[I 2022-03-29 21:49:43,718]\u001b[0m Trial 104 finished with value: 0.867970827445145 and parameters: {'penalty': 'elasticnet', 'l1_ratio': 0.8941677356409736, 'C': 2.7693137607953773}. Best is trial 85 with value: 0.8705123920471175.\u001b[0m\n",
      "\u001b[32m[I 2022-03-29 21:50:05,115]\u001b[0m Trial 113 finished with value: 0.8678607439436762 and parameters: {'penalty': 'elasticnet', 'l1_ratio': 0.6755107409138136, 'C': 1.8788716692704903}. Best is trial 85 with value: 0.8705123920471175.\u001b[0m\n",
      "\u001b[32m[I 2022-03-29 21:50:05,597]\u001b[0m Trial 106 finished with value: 0.8653622239747721 and parameters: {'penalty': 'elasticnet', 'l1_ratio': 0.9604208594811052, 'C': 2.277126211273402}. Best is trial 85 with value: 0.8705123920471175.\u001b[0m\n",
      "\u001b[32m[I 2022-03-29 21:50:08,627]\u001b[0m Trial 116 finished with value: 0.8681027562905377 and parameters: {'penalty': 'elasticnet', 'l1_ratio': 0.6770688024690639, 'C': 1.9264439257059616}. Best is trial 85 with value: 0.8705123920471175.\u001b[0m\n",
      "\u001b[32m[I 2022-03-29 21:50:13,769]\u001b[0m Trial 109 finished with value: 0.867110065246406 and parameters: {'penalty': 'elasticnet', 'l1_ratio': 0.8900976679629986, 'C': 2.2833146020923976}. Best is trial 85 with value: 0.8705123920471175.\u001b[0m\n",
      "\u001b[32m[I 2022-03-29 21:50:14,579]\u001b[0m Trial 112 finished with value: 0.8701325838964477 and parameters: {'penalty': 'elasticnet', 'l1_ratio': 0.6727783442299207, 'C': 3.230929219462486}. Best is trial 85 with value: 0.8705123920471175.\u001b[0m\n",
      "\u001b[32m[I 2022-03-29 21:50:19,866]\u001b[0m Trial 114 finished with value: 0.8701520882533034 and parameters: {'penalty': 'elasticnet', 'l1_ratio': 0.6754201436035951, 'C': 3.2298044847365466}. Best is trial 85 with value: 0.8705123920471175.\u001b[0m\n",
      "\u001b[32m[I 2022-03-29 21:50:20,949]\u001b[0m Trial 115 finished with value: 0.8700859892578897 and parameters: {'penalty': 'elasticnet', 'l1_ratio': 0.6719475330168764, 'C': 3.2648395096440783}. Best is trial 85 with value: 0.8705123920471175.\u001b[0m\n",
      "\u001b[32m[I 2022-03-29 21:50:35,491]\u001b[0m Trial 111 finished with value: 0.8676049131027005 and parameters: {'penalty': 'elasticnet', 'l1_ratio': 0.8907437660398458, 'C': 3.2750684873987606}. Best is trial 85 with value: 0.8705123920471175.\u001b[0m\n",
      "\u001b[32m[I 2022-03-29 21:50:36,112]\u001b[0m Trial 121 finished with value: 0.8659428232460589 and parameters: {'penalty': 'elasticnet', 'l1_ratio': 0.6171392002781032, 'C': 1.589672018516704}. Best is trial 85 with value: 0.8705123920471175.\u001b[0m\n",
      "\u001b[32m[I 2022-03-29 21:50:41,212]\u001b[0m Trial 117 finished with value: 0.8699269348891147 and parameters: {'penalty': 'elasticnet', 'l1_ratio': 0.6181302065567319, 'C': 3.296615421665696}. Best is trial 85 with value: 0.8705123920471175.\u001b[0m\n",
      "\u001b[32m[I 2022-03-29 21:50:41,245]\u001b[0m Trial 118 finished with value: 0.8699640351654093 and parameters: {'penalty': 'elasticnet', 'l1_ratio': 0.6187172193763283, 'C': 3.2482560860561334}. Best is trial 85 with value: 0.8705123920471175.\u001b[0m\n",
      "\u001b[32m[I 2022-03-29 21:50:42,331]\u001b[0m Trial 119 finished with value: 0.8703957120224554 and parameters: {'penalty': 'elasticnet', 'l1_ratio': 0.6194763690463991, 'C': 2.8448226148162745}. Best is trial 85 with value: 0.8705123920471175.\u001b[0m\n",
      "\u001b[32m[I 2022-03-29 21:50:49,586]\u001b[0m Trial 120 finished with value: 0.8699836235737649 and parameters: {'penalty': 'elasticnet', 'l1_ratio': 0.6154363850004209, 'C': 3.1801340379772465}. Best is trial 85 with value: 0.8705123920471175.\u001b[0m\n",
      "\u001b[32m[I 2022-03-29 21:50:49,723]\u001b[0m Trial 122 finished with value: 0.8702764095256824 and parameters: {'penalty': 'elasticnet', 'l1_ratio': 0.615724916320159, 'C': 2.39925219091125}. Best is trial 85 with value: 0.8705123920471175.\u001b[0m\n",
      "\u001b[32m[I 2022-03-29 21:51:01,306]\u001b[0m Trial 123 finished with value: 0.8694889131967204 and parameters: {'penalty': 'elasticnet', 'l1_ratio': 0.7703982363015408, 'C': 2.4162820730066263}. Best is trial 85 with value: 0.8705123920471175.\u001b[0m\n",
      "\u001b[32m[I 2022-03-29 21:51:09,495]\u001b[0m Trial 124 finished with value: 0.8703784951882999 and parameters: {'penalty': 'elasticnet', 'l1_ratio': 0.609278830875298, 'C': 2.846943107732436}. Best is trial 85 with value: 0.8705123920471175.\u001b[0m\n",
      "\u001b[32m[I 2022-03-29 21:51:16,022]\u001b[0m Trial 125 finished with value: 0.8695982987981768 and parameters: {'penalty': 'elasticnet', 'l1_ratio': 0.7599501507377655, 'C': 2.4175189274298963}. Best is trial 85 with value: 0.8705123920471175.\u001b[0m\n",
      "\u001b[32m[I 2022-03-29 21:51:26,774]\u001b[0m Trial 127 finished with value: 0.8699091874098169 and parameters: {'penalty': 'elasticnet', 'l1_ratio': 0.7678282427627219, 'C': 2.837531226566221}. Best is trial 85 with value: 0.8705123920471175.\u001b[0m\n",
      "\u001b[32m[I 2022-03-29 21:51:28,376]\u001b[0m Trial 126 finished with value: 0.8697953174670637 and parameters: {'penalty': 'elasticnet', 'l1_ratio': 0.7732334629513381, 'C': 2.8479620683642213}. Best is trial 85 with value: 0.8705123920471175.\u001b[0m\n",
      "\u001b[32m[I 2022-03-29 21:51:28,886]\u001b[0m Trial 131 finished with value: 0.8664329217173563 and parameters: {'penalty': 'elasticnet', 'l1_ratio': 0.05640406765485095, 'C': 2.871243873872582}. Best is trial 85 with value: 0.8705123920471175.\u001b[0m\n",
      "\u001b[32m[I 2022-03-29 21:51:35,114]\u001b[0m Trial 130 finished with value: 0.8699406652451293 and parameters: {'penalty': 'elasticnet', 'l1_ratio': 0.7645578279521663, 'C': 2.871290494846565}. Best is trial 85 with value: 0.8705123920471175.\u001b[0m\n",
      "\u001b[32m[I 2022-03-29 21:51:37,450]\u001b[0m Trial 132 finished with value: 0.866934644770707 and parameters: {'penalty': 'elasticnet', 'l1_ratio': 0.08495722241420672, 'C': 2.8562186968416645}. Best is trial 85 with value: 0.8705123920471175.\u001b[0m\n",
      "\u001b[32m[I 2022-03-29 21:51:37,753]\u001b[0m Trial 129 finished with value: 0.8696592267527707 and parameters: {'penalty': 'elasticnet', 'l1_ratio': 0.7853948050797117, 'C': 2.8474445988892954}. Best is trial 85 with value: 0.8705123920471175.\u001b[0m\n",
      "\u001b[32m[I 2022-03-29 21:51:41,671]\u001b[0m Trial 128 finished with value: 0.8687708455794295 and parameters: {'penalty': 'elasticnet', 'l1_ratio': 0.7891219905064, 'C': 3.691878337649674}. Best is trial 85 with value: 0.8705123920471175.\u001b[0m\n",
      "\u001b[32m[I 2022-03-29 21:51:49,083]\u001b[0m Trial 133 finished with value: 0.8704583215766082 and parameters: {'penalty': 'elasticnet', 'l1_ratio': 0.6502319085911414, 'C': 2.816223827551}. Best is trial 85 with value: 0.8705123920471175.\u001b[0m\n",
      "\u001b[32m[I 2022-03-29 21:51:53,733]\u001b[0m Trial 134 finished with value: 0.8677075982131323 and parameters: {'penalty': 'elasticnet', 'l1_ratio': 0.13456062849961076, 'C': 2.90291131235291}. Best is trial 85 with value: 0.8705123920471175.\u001b[0m\n",
      "\u001b[32m[I 2022-03-29 21:52:08,259]\u001b[0m Trial 136 finished with value: 0.8697516882971641 and parameters: {'penalty': 'elasticnet', 'l1_ratio': 0.6488235320634574, 'C': 3.4410197818571415}. Best is trial 85 with value: 0.8705123920471175.\u001b[0m\n",
      "\u001b[32m[I 2022-03-29 21:52:11,050]\u001b[0m Trial 138 finished with value: 0.8704214332638379 and parameters: {'penalty': 'elasticnet', 'l1_ratio': 0.6960954151683871, 'C': 2.6553345666707995}. Best is trial 85 with value: 0.8705123920471175.\u001b[0m\n",
      "\u001b[32m[I 2022-03-29 21:52:11,723]\u001b[0m Trial 139 finished with value: 0.8704483346408921 and parameters: {'penalty': 'elasticnet', 'l1_ratio': 0.6918669931578001, 'C': 2.669119570116778}. Best is trial 85 with value: 0.8705123920471175.\u001b[0m\n",
      "\u001b[32m[I 2022-03-29 21:52:14,557]\u001b[0m Trial 140 finished with value: 0.8705335594774373 and parameters: {'penalty': 'elasticnet', 'l1_ratio': 0.6507787244533247, 'C': 2.671023931664704}. Best is trial 140 with value: 0.8705335594774373.\u001b[0m\n",
      "\u001b[32m[I 2022-03-29 21:52:19,454]\u001b[0m Trial 137 finished with value: 0.8392412925952231 and parameters: {'penalty': 'none', 'C': 3.6364447934991344}. Best is trial 140 with value: 0.8705335594774373.\u001b[0m\n",
      "\u001b[32m[I 2022-03-29 21:52:19,912]\u001b[0m Trial 135 finished with value: 0.8692437773444035 and parameters: {'penalty': 'elasticnet', 'l1_ratio': 0.8132226883074815, 'C': 2.8724613014022222}. Best is trial 140 with value: 0.8705335594774373.\u001b[0m\n",
      "\u001b[32m[I 2022-03-29 21:52:33,144]\u001b[0m Trial 141 finished with value: 0.8392412925952231 and parameters: {'penalty': 'none', 'C': 3.4434449913562863}. Best is trial 140 with value: 0.8705335594774373.\u001b[0m\n",
      "\u001b[32m[I 2022-03-29 21:52:37,218]\u001b[0m Trial 147 finished with value: 0.8627367179338609 and parameters: {'penalty': 'l2', 'C': 5.9429576772816}. Best is trial 140 with value: 0.8705335594774373.\u001b[0m\n",
      "\u001b[32m[I 2022-03-29 21:52:38,247]\u001b[0m Trial 142 finished with value: 0.8392412925952231 and parameters: {'penalty': 'none', 'C': 3.420554337142292}. Best is trial 140 with value: 0.8705335594774373.\u001b[0m\n",
      "\u001b[32m[I 2022-03-29 21:52:44,001]\u001b[0m Trial 149 finished with value: 0.8165829987805245 and parameters: {'penalty': 'elasticnet', 'l1_ratio': 0.6557525522279978, 'C': 0.44383830313229966}. Best is trial 140 with value: 0.8705335594774373.\u001b[0m\n",
      "\u001b[32m[I 2022-03-29 21:52:48,273]\u001b[0m Trial 148 finished with value: 0.8703092573820181 and parameters: {'penalty': 'elasticnet', 'l1_ratio': 0.6466333025469864, 'C': 2.439911769044864}. Best is trial 140 with value: 0.8705335594774373.\u001b[0m\n",
      "\u001b[32m[I 2022-03-29 21:52:51,690]\u001b[0m Trial 143 finished with value: 0.8392412925952231 and parameters: {'penalty': 'none', 'C': 2.6689739941498694}. Best is trial 140 with value: 0.8705335594774373.\u001b[0m\n",
      "\u001b[32m[I 2022-03-29 21:52:54,316]\u001b[0m Trial 144 finished with value: 0.8392412925952231 and parameters: {'penalty': 'none', 'C': 2.653060665785004}. Best is trial 140 with value: 0.8705335594774373.\u001b[0m\n",
      "\u001b[32m[I 2022-03-29 21:52:55,017]\u001b[0m Trial 145 finished with value: 0.8392412925952231 and parameters: {'penalty': 'none', 'C': 2.7095218661004643}. Best is trial 140 with value: 0.8705335594774373.\u001b[0m\n",
      "\u001b[32m[I 2022-03-29 21:52:57,564]\u001b[0m Trial 146 finished with value: 0.8392412925952231 and parameters: {'penalty': 'none', 'C': 2.7014032142859072}. Best is trial 140 with value: 0.8705335594774373.\u001b[0m\n",
      "\u001b[32m[I 2022-03-29 21:53:08,844]\u001b[0m Trial 150 finished with value: 0.8705194314906457 and parameters: {'penalty': 'elasticnet', 'l1_ratio': 0.6519389610942374, 'C': 2.678310698156386}. Best is trial 140 with value: 0.8705335594774373.\u001b[0m\n",
      "\u001b[32m[I 2022-03-29 21:53:10,426]\u001b[0m Trial 151 finished with value: 0.8705084050874041 and parameters: {'penalty': 'elasticnet', 'l1_ratio': 0.6575228685207531, 'C': 2.724002941453532}. Best is trial 140 with value: 0.8705335594774373.\u001b[0m\n",
      "\u001b[32m[I 2022-03-29 21:53:12,835]\u001b[0m Trial 152 finished with value: 0.8705001918870704 and parameters: {'penalty': 'elasticnet', 'l1_ratio': 0.5964561287260588, 'C': 2.7116662180616737}. Best is trial 140 with value: 0.8705335594774373.\u001b[0m\n",
      "\u001b[32m[I 2022-03-29 21:53:17,539]\u001b[0m Trial 153 finished with value: 0.8704500210674436 and parameters: {'penalty': 'elasticnet', 'l1_ratio': 0.5962497273379637, 'C': 2.735787748278887}. Best is trial 140 with value: 0.8705335594774373.\u001b[0m\n",
      "\u001b[32m[I 2022-03-29 21:53:19,715]\u001b[0m Trial 155 finished with value: 0.8697857882925891 and parameters: {'penalty': 'elasticnet', 'l1_ratio': 0.6004750222529741, 'C': 2.1916885108402995}. Best is trial 140 with value: 0.8705335594774373.\u001b[0m\n",
      "\u001b[32m[I 2022-03-29 21:53:21,434]\u001b[0m Trial 154 finished with value: 0.8705249381867673 and parameters: {'penalty': 'elasticnet', 'l1_ratio': 0.5987686683827627, 'C': 2.704214830801061}. Best is trial 140 with value: 0.8705335594774373.\u001b[0m\n",
      "\u001b[32m[I 2022-03-29 21:53:22,750]\u001b[0m Trial 157 finished with value: 0.8698217692889664 and parameters: {'penalty': 'elasticnet', 'l1_ratio': 0.5962912374584307, 'C': 2.215309072304298}. Best is trial 140 with value: 0.8705335594774373.\u001b[0m\n",
      "\u001b[32m[I 2022-03-29 21:53:24,325]\u001b[0m Trial 156 finished with value: 0.8704347913450518 and parameters: {'penalty': 'elasticnet', 'l1_ratio': 0.5949997470238566, 'C': 2.7394583533483536}. Best is trial 140 with value: 0.8705335594774373.\u001b[0m\n",
      "\u001b[32m[I 2022-03-29 21:53:33,936]\u001b[0m Trial 158 finished with value: 0.8698540235455918 and parameters: {'penalty': 'elasticnet', 'l1_ratio': 0.5963869650704607, 'C': 2.226923689241673}. Best is trial 140 with value: 0.8705335594774373.\u001b[0m\n",
      "\u001b[32m[I 2022-03-29 21:53:41,519]\u001b[0m Trial 159 finished with value: 0.8700626102914448 and parameters: {'penalty': 'elasticnet', 'l1_ratio': 0.5943078913040679, 'C': 3.0285969767534375}. Best is trial 140 with value: 0.8705335594774373.\u001b[0m\n",
      "\u001b[32m[I 2022-03-29 21:53:44,465]\u001b[0m Trial 160 finished with value: 0.8700077090596033 and parameters: {'penalty': 'elasticnet', 'l1_ratio': 0.6001938383380926, 'C': 3.0912155401918793}. Best is trial 140 with value: 0.8705335594774373.\u001b[0m\n",
      "\u001b[32m[I 2022-03-29 21:53:52,612]\u001b[0m Trial 161 finished with value: 0.8703753580839623 and parameters: {'penalty': 'elasticnet', 'l1_ratio': 0.6972809954365873, 'C': 2.9590466844848935}. Best is trial 140 with value: 0.8705335594774373.\u001b[0m\n",
      "\u001b[32m[I 2022-03-29 21:53:55,976]\u001b[0m Trial 162 finished with value: 0.8702238573771136 and parameters: {'penalty': 'elasticnet', 'l1_ratio': 0.6900392976458303, 'C': 3.094498962415411}. Best is trial 140 with value: 0.8705335594774373.\u001b[0m\n",
      "\u001b[32m[I 2022-03-29 21:53:57,062]\u001b[0m Trial 163 finished with value: 0.8703750037646228 and parameters: {'penalty': 'elasticnet', 'l1_ratio': 0.7014603688480564, 'C': 2.9954784517584403}. Best is trial 140 with value: 0.8705335594774373.\u001b[0m\n",
      "\u001b[32m[I 2022-03-29 21:53:59,224]\u001b[0m Trial 164 finished with value: 0.870211961866575 and parameters: {'penalty': 'elasticnet', 'l1_ratio': 0.7000103081950206, 'C': 3.0928618084675388}. Best is trial 140 with value: 0.8705335594774373.\u001b[0m\n",
      "\u001b[32m[I 2022-03-29 21:54:02,015]\u001b[0m Trial 165 finished with value: 0.8701774677746638 and parameters: {'penalty': 'elasticnet', 'l1_ratio': 0.6949321923793481, 'C': 3.136757980937391}. Best is trial 140 with value: 0.8705335594774373.\u001b[0m\n",
      "\u001b[32m[I 2022-03-29 21:54:03,689]\u001b[0m Trial 166 finished with value: 0.8692641815400748 and parameters: {'penalty': 'elasticnet', 'l1_ratio': 0.4745517612859702, 'C': 3.1293720563562304}. Best is trial 140 with value: 0.8705335594774373.\u001b[0m\n",
      "\u001b[32m[I 2022-03-29 21:54:09,827]\u001b[0m Trial 168 finished with value: 0.8702305811231533 and parameters: {'penalty': 'elasticnet', 'l1_ratio': 0.5503468862687451, 'C': 2.4190822616860914}. Best is trial 140 with value: 0.8705335594774373.\u001b[0m\n",
      "\u001b[32m[I 2022-03-29 21:54:14,663]\u001b[0m Trial 167 finished with value: 0.8704726083249502 and parameters: {'penalty': 'elasticnet', 'l1_ratio': 0.6986198093716065, 'C': 2.708495880300134}. Best is trial 140 with value: 0.8705335594774373.\u001b[0m\n",
      "\u001b[32m[I 2022-03-29 21:54:23,153]\u001b[0m Trial 169 finished with value: 0.8705057962147128 and parameters: {'penalty': 'elasticnet', 'l1_ratio': 0.6385829693072576, 'C': 2.7200537515577516}. Best is trial 140 with value: 0.8705335594774373.\u001b[0m\n",
      "\u001b[32m[I 2022-03-29 21:54:26,185]\u001b[0m Trial 170 finished with value: 0.8704836360041797 and parameters: {'penalty': 'elasticnet', 'l1_ratio': 0.634427785931848, 'C': 2.6693510452764997}. Best is trial 140 with value: 0.8705335594774373.\u001b[0m\n",
      "\u001b[32m[I 2022-03-29 21:54:28,028]\u001b[0m Trial 171 finished with value: 0.8704693816556269 and parameters: {'penalty': 'elasticnet', 'l1_ratio': 0.6371502188563017, 'C': 2.6918044556377922}. Best is trial 140 with value: 0.8705335594774373.\u001b[0m\n",
      "\u001b[32m[I 2022-03-29 21:54:56,948]\u001b[0m Trial 172 finished with value: 0.8649134332248845 and parameters: {'penalty': 'l1', 'C': 2.678496762579233}. Best is trial 140 with value: 0.8705335594774373.\u001b[0m\n",
      "\u001b[32m[I 2022-03-29 21:54:58,416]\u001b[0m Trial 178 finished with value: 0.8704753421470826 and parameters: {'penalty': 'elasticnet', 'l1_ratio': 0.6399897510436403, 'C': 2.7292436382536738}. Best is trial 140 with value: 0.8705335594774373.\u001b[0m\n",
      "\u001b[32m[I 2022-03-29 21:54:59,941]\u001b[0m Trial 173 finished with value: 0.8649592157844724 and parameters: {'penalty': 'l1', 'C': 2.7260962221382026}. Best is trial 140 with value: 0.8705335594774373.\u001b[0m\n",
      "\u001b[32m[I 2022-03-29 21:55:01,106]\u001b[0m Trial 174 finished with value: 0.8649676729364387 and parameters: {'penalty': 'l1', 'C': 2.7222243939362856}. Best is trial 140 with value: 0.8705335594774373.\u001b[0m\n",
      "\u001b[32m[I 2022-03-29 21:55:07,152]\u001b[0m Trial 175 finished with value: 0.8649319615014726 and parameters: {'penalty': 'l1', 'C': 2.670757622510516}. Best is trial 140 with value: 0.8705335594774373.\u001b[0m\n",
      "\u001b[32m[I 2022-03-29 21:55:12,002]\u001b[0m Trial 176 finished with value: 0.864887121346375 and parameters: {'penalty': 'l1', 'C': 2.6957282843670747}. Best is trial 140 with value: 0.8705335594774373.\u001b[0m\n",
      "\u001b[32m[I 2022-03-29 21:55:21,461]\u001b[0m Trial 177 finished with value: 0.8649378574676251 and parameters: {'penalty': 'l1', 'C': 2.7372854011742094}. Best is trial 140 with value: 0.8705335594774373.\u001b[0m\n",
      "\u001b[32m[I 2022-03-29 21:55:25,955]\u001b[0m Trial 180 finished with value: 0.8703233785787993 and parameters: {'penalty': 'elasticnet', 'l1_ratio': 0.6324077438710761, 'C': 2.4406874570823747}. Best is trial 140 with value: 0.8705335594774373.\u001b[0m\n",
      "\u001b[32m[I 2022-03-29 21:55:26,653]\u001b[0m Trial 179 finished with value: 0.8649413852548508 and parameters: {'penalty': 'l1', 'C': 2.7407893186822703}. Best is trial 140 with value: 0.8705335594774373.\u001b[0m\n",
      "\u001b[32m[I 2022-03-29 21:55:27,717]\u001b[0m Trial 181 finished with value: 0.8703164016786943 and parameters: {'penalty': 'elasticnet', 'l1_ratio': 0.6420829834929997, 'C': 2.445487002686913}. Best is trial 140 with value: 0.8705335594774373.\u001b[0m\n",
      "\u001b[32m[I 2022-03-29 21:55:29,530]\u001b[0m Trial 182 finished with value: 0.870261946883154 and parameters: {'penalty': 'elasticnet', 'l1_ratio': 0.6553578326455051, 'C': 2.4271285955281203}. Best is trial 140 with value: 0.8705335594774373.\u001b[0m\n",
      "\u001b[32m[I 2022-03-29 21:55:30,845]\u001b[0m Trial 183 finished with value: 0.8703885438042066 and parameters: {'penalty': 'elasticnet', 'l1_ratio': 0.6364053353935585, 'C': 2.471684207753221}. Best is trial 140 with value: 0.8705335594774373.\u001b[0m\n",
      "\u001b[32m[I 2022-03-29 21:55:36,175]\u001b[0m Trial 184 finished with value: 0.8703297659803592 and parameters: {'penalty': 'elasticnet', 'l1_ratio': 0.6336442823658239, 'C': 2.4357284795813285}. Best is trial 140 with value: 0.8705335594774373.\u001b[0m\n",
      "\u001b[32m[I 2022-03-29 21:55:41,299]\u001b[0m Trial 185 finished with value: 0.870319520100133 and parameters: {'penalty': 'elasticnet', 'l1_ratio': 0.637159701823438, 'C': 2.4192618168416886}. Best is trial 140 with value: 0.8705335594774373.\u001b[0m\n",
      "\u001b[32m[I 2022-03-29 21:55:50,231]\u001b[0m Trial 186 finished with value: 0.8703346361969496 and parameters: {'penalty': 'elasticnet', 'l1_ratio': 0.6383057490750403, 'C': 2.426691954198742}. Best is trial 140 with value: 0.8705335594774373.\u001b[0m\n",
      "\u001b[32m[I 2022-03-29 21:55:54,661]\u001b[0m Trial 187 finished with value: 0.8701807862683486 and parameters: {'penalty': 'elasticnet', 'l1_ratio': 0.6555568560684407, 'C': 2.4020784570037974}. Best is trial 140 with value: 0.8705335594774373.\u001b[0m\n",
      "\u001b[32m[I 2022-03-29 21:55:55,395]\u001b[0m Trial 188 finished with value: 0.8703856795191474 and parameters: {'penalty': 'elasticnet', 'l1_ratio': 0.6551905816159472, 'C': 2.4988573344397675}. Best is trial 140 with value: 0.8705335594774373.\u001b[0m\n",
      "\u001b[32m[I 2022-03-29 21:56:01,459]\u001b[0m Trial 189 finished with value: 0.8704096638402484 and parameters: {'penalty': 'elasticnet', 'l1_ratio': 0.6538790579779066, 'C': 2.928361837547166}. Best is trial 140 with value: 0.8705335594774373.\u001b[0m\n",
      "\u001b[32m[I 2022-03-29 21:56:03,146]\u001b[0m Trial 190 finished with value: 0.870330177052677 and parameters: {'penalty': 'elasticnet', 'l1_ratio': 0.665740855316143, 'C': 2.9453823224129354}. Best is trial 140 with value: 0.8705335594774373.\u001b[0m\n",
      "\u001b[32m[I 2022-03-29 21:56:04,534]\u001b[0m Trial 191 finished with value: 0.8703252288681682 and parameters: {'penalty': 'elasticnet', 'l1_ratio': 0.6609005635112742, 'C': 2.967258582006804}. Best is trial 140 with value: 0.8705335594774373.\u001b[0m\n",
      "\u001b[32m[I 2022-03-29 21:56:10,015]\u001b[0m Trial 192 finished with value: 0.8703656760925024 and parameters: {'penalty': 'elasticnet', 'l1_ratio': 0.6657569900053553, 'C': 2.9333581711382903}. Best is trial 140 with value: 0.8705335594774373.\u001b[0m\n",
      "\u001b[32m[I 2022-03-29 21:56:14,851]\u001b[0m Trial 193 finished with value: 0.8703776199968841 and parameters: {'penalty': 'elasticnet', 'l1_ratio': 0.659874695942084, 'C': 2.9452610174863656}. Best is trial 140 with value: 0.8705335594774373.\u001b[0m\n",
      "\u001b[32m[I 2022-03-29 21:56:22,854]\u001b[0m Trial 194 finished with value: 0.8703486945749584 and parameters: {'penalty': 'elasticnet', 'l1_ratio': 0.6642429041268667, 'C': 2.948010126672327}. Best is trial 140 with value: 0.8705335594774373.\u001b[0m\n",
      "\u001b[32m[I 2022-03-29 21:56:26,662]\u001b[0m Trial 195 finished with value: 0.8703677350886019 and parameters: {'penalty': 'elasticnet', 'l1_ratio': 0.667851136403426, 'C': 2.9287605656249838}. Best is trial 140 with value: 0.8705335594774373.\u001b[0m\n",
      "\u001b[32m[I 2022-03-29 21:56:27,731]\u001b[0m Trial 196 finished with value: 0.8703509155904761 and parameters: {'penalty': 'elasticnet', 'l1_ratio': 0.6697837639634286, 'C': 2.944402359237416}. Best is trial 140 with value: 0.8705335594774373.\u001b[0m\n",
      "\u001b[32m[I 2022-03-29 21:56:28,752]\u001b[0m Trial 198 finished with value: 0.8702163547978755 and parameters: {'penalty': 'elasticnet', 'l1_ratio': 0.5648485512637448, 'C': 2.7962237552533535}. Best is trial 140 with value: 0.8705335594774373.\u001b[0m\n",
      "\u001b[32m[I 2022-03-29 21:56:29,220]\u001b[0m Trial 199 finished with value: 0.8701858650725884 and parameters: {'penalty': 'elasticnet', 'l1_ratio': 0.5585017590531296, 'C': 2.8098106167748584}. Best is trial 140 with value: 0.8705335594774373.\u001b[0m\n",
      "\u001b[32m[I 2022-03-29 21:56:31,227]\u001b[0m Trial 197 finished with value: 0.8703364918634723 and parameters: {'penalty': 'elasticnet', 'l1_ratio': 0.671580991642122, 'C': 2.9609896651324834}. Best is trial 140 with value: 0.8705335594774373.\u001b[0m\n"
     ]
    }
   ],
   "source": [
    "# Define objective we want to optimize\n",
    "def objective(trial, X_train = X_train, y_train = y_train, X_test = X_test, y_test = y_test):\n",
    "\n",
    "    # Suggest penalty parameter for objective\n",
    "    penalty_dummy = trial.suggest_categorical('penalty', ['l1', 'l2', 'elasticnet', 'none'])\n",
    "\n",
    "    # Model requires a l1_ratio if its penalty is 'elasticnet'\n",
    "    if penalty_dummy == 'elasticnet':\n",
    "\n",
    "        l1_ratio = trial.suggest_uniform('l1_ratio', 0, 1)\n",
    "\n",
    "    else:\n",
    "\n",
    "        l1_ratio = None\n",
    "\n",
    "    # Define paramters we want to adjust\n",
    "    obj_params = {\n",
    "        'penalty' : penalty_dummy,\n",
    "        'C' : trial.suggest_uniform('C', 0, 7),\n",
    "        'l1_ratio' : l1_ratio,\n",
    "\n",
    "        'solver' : 'saga',\n",
    "        'random_state' : p.RANDOM_STATE\n",
    "    }\n",
    "\n",
    "    # Create objective model\n",
    "    nb_obj = LogisticRegression(**obj_params)\n",
    "    nb_obj.fit(X_train, y_train)\n",
    "\n",
    "    # Make predictions from fitted model\n",
    "    y_pred = nb_obj.predict_proba(X_test)\n",
    "\n",
    "    # Calculate roc score for model predictions\n",
    "    roc = roc_auc_score(y_true = y_test, y_score = y_pred, average = 'macro', multi_class='ovr')\n",
    "    \n",
    "    # Return roc - metric to be maximized\n",
    "    return roc\n",
    "\n",
    "# Create optuna study to maximise objective\n",
    "study = optuna.create_study(direction='maximize')\n",
    "\n",
    "# Optimize objective for this study over 200 trails\n",
    "study.optimize(objective, n_trials = 200, n_jobs = -1)"
   ]
  },
  {
   "cell_type": "code",
   "execution_count": 84,
   "metadata": {},
   "outputs": [
    {
     "data": {
      "text/plain": [
       "{'penalty': 'elasticnet',\n",
       " 'l1_ratio': 0.6507787244533247,\n",
       " 'C': 2.671023931664704,\n",
       " 'solver': 'saga',\n",
       " 'random_state': 73}"
      ]
     },
     "execution_count": 84,
     "metadata": {},
     "output_type": "execute_result"
    }
   ],
   "source": [
    "# Copy best parameters for LR model\n",
    "lr_tuned_params = study.best_params.copy()\n",
    "lr_tuned_params['solver'] = 'saga'\n",
    "lr_tuned_params['random_state'] = p.RANDOM_STATE\n",
    "lr_tuned_params"
   ]
  },
  {
   "cell_type": "code",
   "execution_count": 85,
   "metadata": {},
   "outputs": [],
   "source": [
    "# Create tuned LR model\n",
    "lr_tuned = LogisticRegression(**lr_tuned_params).fit(**train_data)"
   ]
  },
  {
   "cell_type": "markdown",
   "metadata": {},
   "source": [
    "#### Overall Evaluation"
   ]
  },
  {
   "cell_type": "code",
   "execution_count": 86,
   "metadata": {},
   "outputs": [
    {
     "data": {
      "text/html": [
       "<div>\n",
       "<style scoped>\n",
       "    .dataframe tbody tr th:only-of-type {\n",
       "        vertical-align: middle;\n",
       "    }\n",
       "\n",
       "    .dataframe tbody tr th {\n",
       "        vertical-align: top;\n",
       "    }\n",
       "\n",
       "    .dataframe thead th {\n",
       "        text-align: right;\n",
       "    }\n",
       "</style>\n",
       "<table border=\"1\" class=\"dataframe\">\n",
       "  <thead>\n",
       "    <tr style=\"text-align: right;\">\n",
       "      <th></th>\n",
       "      <th>ROC</th>\n",
       "      <th>Accuracy</th>\n",
       "      <th>Precision</th>\n",
       "      <th>Recall</th>\n",
       "    </tr>\n",
       "  </thead>\n",
       "  <tbody>\n",
       "    <tr>\n",
       "      <th>Train</th>\n",
       "      <td>0.978525</td>\n",
       "      <td>0.876161</td>\n",
       "      <td>0.887635</td>\n",
       "      <td>0.801738</td>\n",
       "    </tr>\n",
       "    <tr>\n",
       "      <th>Test</th>\n",
       "      <td>0.870534</td>\n",
       "      <td>0.744330</td>\n",
       "      <td>0.740172</td>\n",
       "      <td>0.653939</td>\n",
       "    </tr>\n",
       "    <tr>\n",
       "      <th>Validation</th>\n",
       "      <td>0.858454</td>\n",
       "      <td>0.764706</td>\n",
       "      <td>0.755081</td>\n",
       "      <td>0.657873</td>\n",
       "    </tr>\n",
       "  </tbody>\n",
       "</table>\n",
       "</div>"
      ],
      "text/plain": [
       "                 ROC  Accuracy  Precision    Recall\n",
       "Train       0.978525  0.876161   0.887635  0.801738\n",
       "Test        0.870534  0.744330   0.740172  0.653939\n",
       "Validation  0.858454  0.764706   0.755081  0.657873"
      ]
     },
     "execution_count": 86,
     "metadata": {},
     "output_type": "execute_result"
    }
   ],
   "source": [
    "model = lr_tuned\n",
    "\n",
    "# Calculate model metrics for each dataset\n",
    "model_metrics = {\n",
    "    'Train' : f.evaluate_model(model, **train_data),\n",
    "    'Test' : f.evaluate_model(model, **test_data),\n",
    "    'Validation' : f.evaluate_model(model, **val_data)\n",
    "}\n",
    "\n",
    "# Display metrics in a dataframe\n",
    "pd.DataFrame(model_metrics).T"
   ]
  },
  {
   "cell_type": "markdown",
   "metadata": {},
   "source": [
    "This suggests the model is heavily over fit."
   ]
  },
  {
   "cell_type": "markdown",
   "metadata": {},
   "source": [
    "### Confusion Matrix"
   ]
  },
  {
   "cell_type": "code",
   "execution_count": 87,
   "metadata": {},
   "outputs": [
    {
     "data": {
      "image/png": "[encoded data removed]",
      "text/plain": [
       "<Figure size 576x576 with 2 Axes>"
      ]
     },
     "metadata": {
      "needs_background": "light"
     },
     "output_type": "display_data"
    }
   ],
   "source": [
    "def create_confusion_matrix(model, model_name: str):\n",
    "    \"\"\"Calculates and displays a confusion matrix for model\n",
    "\n",
    "    Args:\n",
    "        model: model to evaluate\n",
    "        model_name (str): name of model\n",
    "    \"\"\"\n",
    "\n",
    "    # Create figure and axis to display plot\n",
    "    fig, ax = plt.subplots(1, 1, figsize=(8, 8))\n",
    "\n",
    "    # Calculates confusion matrix\n",
    "    plot_confusion_matrix(model, X_test, y_test, cmap=\"Blues\", ax=ax)\n",
    "\n",
    "    # Sets title for plot\n",
    "    plt.title(f\"Confusion Matrix for {model_name} Model\")\n",
    "\n",
    "    # Shows plot\n",
    "    plt.show()\n",
    "\n",
    "# Calculate confusion matrix for Tuned LR model\n",
    "create_confusion_matrix(lr_tuned, \"Tuned Linear Regression\")"
   ]
  },
  {
   "cell_type": "markdown",
   "metadata": {},
   "source": [
    "### Feature Importances"
   ]
  },
  {
   "cell_type": "code",
   "execution_count": 88,
   "metadata": {},
   "outputs": [
    {
     "data": {
      "image/png": "[encoded data removed]",
      "text/plain": [
       "<Figure size 720x1728 with 3 Axes>"
      ]
     },
     "metadata": {
      "needs_background": "light"
     },
     "output_type": "display_data"
    }
   ],
   "source": [
    "def plot_feature_importance(model, model_name: str, class_label: int):\n",
    "    \"\"\"Plots feature importances for the specified class label\n",
    "\n",
    "    Args:\n",
    "        model: model we want importances for\n",
    "        model_name (str): name of model\n",
    "        class_label (int): class we want to analyse (one of 0, 1 or 2)\n",
    "    \"\"\"\n",
    "\n",
    "    # Create figure and axis to display plot\n",
    "    fig, ax = plt.subplots(nrows = 3, ncols = 1, figsize=(10, 24))\n",
    "\n",
    "    for idx, cl in enumerate([0, 1, 2]):\n",
    "        # Retrive feature coefficients from model for class label\n",
    "        coefs = model.coef_[cl]\n",
    "\n",
    "        # Plot coefficients as a horizontal bar plot\n",
    "        pd.Series(coefs, index=model.feature_names_in_).nlargest(10).sort_values(ascending=True).plot(\n",
    "            kind=\"barh\", ax=ax[idx], title=f\"{model_name} Model - Feature Importance (Top 10) for Group {cl}\"\n",
    "        )\n",
    "\n",
    "    # Show plot\n",
    "    plt.show()\n",
    "\n",
    "\n",
    "# Call function for Tuned LR model\n",
    "plot_feature_importance(lr_tuned, \"Tuned Logistic Regression\", 1)\n"
   ]
  }
 ],
 "metadata": {
  "interpreter": {
   "hash": "1c31da5edd4aad8fb53d12d73a780cc43060c0f39f08ff1fc327c1bcdbfa7e83"
  },
  "kernelspec": {
   "display_name": "Python 3.9.10 ('data_analytics')",
   "language": "python",
   "name": "python3"
  },
  "language_info": {
   "codemirror_mode": {
    "name": "ipython",
    "version": 3
   },
   "file_extension": ".py",
   "mimetype": "text/x-python",
   "name": "python",
   "nbconvert_exporter": "python",
   "pygments_lexer": "ipython3",
   "version": "3.9.10"
  },
  "orig_nbformat": 4
 },
 "nbformat": 4,
 "nbformat_minor": 2
}
