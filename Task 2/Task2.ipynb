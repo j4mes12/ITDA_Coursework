{
 "cells": [
  {
   "cell_type": "markdown",
   "id": "7a2ee115-d861-43eb-8006-f4728256c5c4",
   "metadata": {},
   "source": [
    "# SEC Filings"
   ]
  },
  {
   "cell_type": "markdown",
   "id": "7d151a51-ff84-4583-b58b-87d9bbac18f9",
   "metadata": {},
   "source": [
    "The data is provided in zipped text files. Unzip the file and place the 'SEC-filings' directory into the './data' directory. \n",
    "\n",
    "A related dataset in similar format is the conll2003 dataset, available from [HuggingFace](https://huggingface.co/datasets/conll2003). This could be used as a source of additional training data, but note it contains a different kind of text (different 'domain'). "
   ]
  },
  {
   "cell_type": "code",
   "execution_count": 25,
   "metadata": {},
   "outputs": [],
   "source": [
    "# Data Extraction\n",
    "import re\n",
    "import numpy as np\n",
    "\n",
    "from sklearn.model_selection import train_test_split\n",
    "\n",
    "# Other\n",
    "import nltk"
   ]
  },
  {
   "cell_type": "code",
   "execution_count": 2,
   "id": "642cdd01-b294-4f81-be43-b3ee23e8c090",
   "metadata": {},
   "outputs": [],
   "source": [
    "def read_sec_filings(split):\n",
    "    # Use this function to load the SEC filings data from text files\n",
    "    \n",
    "    if split == 'train':\n",
    "        with open('./data/SEC-filings/train/FIN5.txt') as fp:\n",
    "            lines = fp.readlines()\n",
    "    else:\n",
    "        with open('./data/SEC-filings/test/FIN3.txt') as fp:\n",
    "            lines = fp.readlines()\n",
    "   \n",
    "    # store the tokens and labels for all sentences\n",
    "    sentences = []\n",
    "    labels = []\n",
    "\n",
    "    # the tokens and labels for the current sentence\n",
    "    current_sen = []\n",
    "    current_labels = []\n",
    "\n",
    "    for i in range(2, len(lines)):\n",
    "        # print(f'This is line {i}')\n",
    "        # print(lines[i])\n",
    "\n",
    "        if len(lines[i]) > 1:  # Line with some data on: The data consists of tokens and tags.\n",
    "            data = re.split(' ', lines[i])  # tokenise the line\n",
    "            # print(data)\n",
    "            current_sen.append(data[0])  # append the token \n",
    "            \n",
    "            # data[1] contains POS tags -- you can also use these in your model.\n",
    "            \n",
    "            current_labels.append(data[3].strip())  # append the NER tag\n",
    "        elif len(current_sen) > 1:  # this marks the end of a sentence\n",
    "            # end of sentence\n",
    "            sentences.append(current_sen)  # save the tokens for this sentence\n",
    "            current_sen = []  # reset\n",
    "\n",
    "            labels.append(current_labels)  # save the tags for this sentence\n",
    "            current_labels = []\n",
    "\n",
    "    if len(current_sen) > 1:  # save the last sentence\n",
    "        sentences.append(current_sen)\n",
    "        labels.append(current_labels)\n",
    "    \n",
    "    print(f'Number of sentences loaded = {len(sentences)}')\n",
    "    print(f'Number of unique labels: {np.unique(np.concatenate(labels))}')\n",
    "    \n",
    "    return sentences, labels"
   ]
  },
  {
   "cell_type": "code",
   "execution_count": 3,
   "id": "7d887df3-fd4b-448c-8545-01ff6c874665",
   "metadata": {},
   "outputs": [
    {
     "name": "stdout",
     "output_type": "stream",
     "text": [
      "Loading the original training set: \n",
      "Number of sentences loaded = 1152\n",
      "Number of unique labels: ['I-LOC' 'I-MISC' 'I-ORG' 'I-PER' 'O']\n",
      "\n",
      "Loading the test set: \n",
      "Number of sentences loaded = 303\n",
      "Number of unique labels: ['I-LOC' 'I-MISC' 'I-ORG' 'I-PER' 'O']\n"
     ]
    }
   ],
   "source": [
    "print('Loading the original training set: ')\n",
    "sentences_ner, labels_ner = read_sec_filings('train')\n",
    "\n",
    "print('\\nLoading the test set: ')\n",
    "test_sentences_ner, test_labels_ner = read_sec_filings('test')"
   ]
  },
  {
   "cell_type": "markdown",
   "id": "4643a66d-d58b-4f3a-88ab-cb4963e75fe0",
   "metadata": {},
   "source": [
    "As before, we could create a validation split from the training set:"
   ]
  },
  {
   "cell_type": "code",
   "execution_count": 4,
   "id": "9b753112-467c-42e0-8f22-3e733da33c29",
   "metadata": {},
   "outputs": [
    {
     "name": "stdout",
     "output_type": "stream",
     "text": [
      "Number of training sentences = 921\n",
      "Number of validation sentences = 231\n"
     ]
    }
   ],
   "source": [
    "train_sentences_ner, val_sentences_ner, train_labels_ner, val_labels_ner = train_test_split(\n",
    "    sentences_ner, \n",
    "    labels_ner, \n",
    "    test_size=0.2,\n",
    "    random_state=73\n",
    "    # stratify=labels_ner  # there are too few examples of some classes to stratify\n",
    ")\n",
    "\n",
    "print(f'Number of training sentences = {len(train_sentences_ner)}')\n",
    "print(f'Number of validation sentences = {len(val_sentences_ner)}')"
   ]
  },
  {
   "cell_type": "markdown",
   "metadata": {},
   "source": [
    "# Task 2 Answer"
   ]
  },
  {
   "cell_type": "code",
   "execution_count": 46,
   "metadata": {},
   "outputs": [],
   "source": [
    "train_set = []\n",
    "for x, y in zip(train_sentences_ner, train_labels_ner):\n",
    "    temp = []\n",
    "    for x_1, y_1 in zip(x,y):\n",
    "        temp.append((x_1, y_1))\n",
    "    train_set.append(temp)"
   ]
  },
  {
   "cell_type": "code",
   "execution_count": 47,
   "metadata": {},
   "outputs": [],
   "source": [
    "test_set = []\n",
    "for x, y in zip(test_sentences_ner, test_labels_ner):\n",
    "    temp = []\n",
    "    for x_1, y_1 in zip(x,y):\n",
    "        temp.append((x_1, y_1))\n",
    "    test_set.append(temp)"
   ]
  },
  {
   "cell_type": "code",
   "execution_count": 48,
   "metadata": {},
   "outputs": [],
   "source": [
    "tagger = nltk.tag.CRFTagger()\n",
    "tagger.train(train_data=train_set, model_file='model.crf.tagger')\n",
    "predicted_tags = tagger.tag_sents(test_sentences_ner)"
   ]
  }
 ],
 "metadata": {
  "interpreter": {
   "hash": "1c31da5edd4aad8fb53d12d73a780cc43060c0f39f08ff1fc327c1bcdbfa7e83"
  },
  "kernelspec": {
   "display_name": "Python 3.9.10 ('data_analytics')",
   "language": "python",
   "name": "python3"
  },
  "language_info": {
   "codemirror_mode": {
    "name": "ipython",
    "version": 3
   },
   "file_extension": ".py",
   "mimetype": "text/x-python",
   "name": "python",
   "nbconvert_exporter": "python",
   "pygments_lexer": "ipython3",
   "version": "3.9.10"
  },
  "orig_nbformat": 4
 },
 "nbformat": 4,
 "nbformat_minor": 2
}
