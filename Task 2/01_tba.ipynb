{
 "cells": [
  {
   "cell_type": "code",
   "execution_count": 1,
   "metadata": {},
   "outputs": [],
   "source": [
    "import joblib"
   ]
  },
  {
   "cell_type": "code",
   "execution_count": 3,
   "metadata": {},
   "outputs": [],
   "source": [
    "train_sentences_ner = joblib.load('./data/train_sentences_ner.pkl')\n",
    "train_labels_ner = joblib.load('./data/train_labels_ner.pkl')\n",
    "\n",
    "test_sentences_ner = joblib.load('./data/test_sentences_ner.pkl')\n",
    "test_labels_ner = joblib.load('./data/test_labels_ner.pkl')\n",
    "\n",
    "val_sentences_ner = joblib.load('./data/val_sentences_ner.pkl')\n",
    "val_sentences_ner = joblib.load('./data/val_labels_ner.pkl')"
   ]
  },
  {
   "cell_type": "code",
   "execution_count": null,
   "metadata": {},
   "outputs": [],
   "source": []
  }
 ],
 "metadata": {
  "interpreter": {
   "hash": "1c31da5edd4aad8fb53d12d73a780cc43060c0f39f08ff1fc327c1bcdbfa7e83"
  },
  "kernelspec": {
   "display_name": "Python 3.9.10 ('data_analytics')",
   "language": "python",
   "name": "python3"
  },
  "language_info": {
   "codemirror_mode": {
    "name": "ipython",
    "version": 3
   },
   "file_extension": ".py",
   "mimetype": "text/x-python",
   "name": "python",
   "nbconvert_exporter": "python",
   "pygments_lexer": "ipython3",
   "version": "3.9.10"
  },
  "orig_nbformat": 4
 },
 "nbformat": 4,
 "nbformat_minor": 2
}
