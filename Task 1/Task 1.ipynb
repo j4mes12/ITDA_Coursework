{
 "cells": [
  {
   "cell_type": "markdown",
   "metadata": {},
   "source": [
    "# Task 1 - Sentiment Model"
   ]
  },
  {
   "cell_type": "markdown",
   "metadata": {},
   "source": [
    "## Data Extraction - code from data_loader_demo.ipynb"
   ]
  },
  {
   "cell_type": "code",
   "execution_count": 1,
   "id": "annoying-ethiopia",
   "metadata": {},
   "outputs": [],
   "source": [
    "%load_ext autoreload\n",
    "%autoreload 2\n",
    "\n",
    "import warnings\n",
    "\n",
    "# Use HuggingFace's datasets library to access the financial_phrasebank dataset\n",
    "from datasets import load_dataset\n",
    "from sklearn.model_selection import train_test_split\n",
    "\n",
    "# Exploration\n",
    "import matplotlib.pyplot as plt\n",
    "import seaborn as sns\n",
    "\n",
    "# Feature Engineering\n",
    "import numpy as np\n",
    "import pandas as pd\n",
    "\n",
    "import nltk\n",
    "import re\n",
    "from sklearn.feature_extraction.text import TfidfVectorizer\n",
    "\n",
    "# Modelling\n",
    "import params as p\n",
    "import functions as f\n",
    "\n",
    "from sklearn.naive_bayes import MultinomialNB\n",
    "from sklearn.metrics import roc_auc_score, plot_confusion_matrix\n",
    "\n",
    "import optuna"
   ]
  },
  {
   "cell_type": "code",
   "execution_count": 2,
   "metadata": {},
   "outputs": [
    {
     "name": "stderr",
     "output_type": "stream",
     "text": [
      "[nltk_data] Downloading package wordnet to\n",
      "[nltk_data]     /Users/jamesstephenson/nltk_data...\n",
      "[nltk_data]   Package wordnet is already up-to-date!\n",
      "[nltk_data] Downloading package averaged_perceptron_tagger to\n",
      "[nltk_data]     /Users/jamesstephenson/nltk_data...\n",
      "[nltk_data]   Package averaged_perceptron_tagger is already up-to-\n",
      "[nltk_data]       date!\n"
     ]
    },
    {
     "data": {
      "text/plain": [
       "True"
      ]
     },
     "execution_count": 2,
     "metadata": {},
     "output_type": "execute_result"
    }
   ],
   "source": [
    "nltk.download('wordnet')\n",
    "nltk.download('averaged_perceptron_tagger')"
   ]
  },
  {
   "cell_type": "markdown",
   "metadata": {},
   "source": [
    "### Settings"
   ]
  },
  {
   "cell_type": "code",
   "execution_count": 3,
   "metadata": {},
   "outputs": [],
   "source": [
    "warnings.simplefilter(action='ignore', category=FutureWarning)"
   ]
  },
  {
   "cell_type": "markdown",
   "metadata": {},
   "source": [
    "### Import Data"
   ]
  },
  {
   "cell_type": "code",
   "execution_count": 4,
   "id": "a8502fa6",
   "metadata": {},
   "outputs": [
    {
     "name": "stderr",
     "output_type": "stream",
     "text": [
      "Reusing dataset financial_phrasebank (/Users/jamesstephenson/.cache/huggingface/datasets/financial_phrasebank/sentences_50agree/1.0.0/a6d468761d4e0c8ae215c77367e1092bead39deb08fbf4bffd7c0a6991febbf0)\n",
      "100%|██████████| 1/1 [00:00<00:00, 27.43it/s]"
     ]
    },
    {
     "name": "stdout",
     "output_type": "stream",
     "text": [
      "The dataset is a dictionary with two splits: \n",
      "\n",
      "DatasetDict({\n",
      "    train: Dataset({\n",
      "        features: ['sentence', 'label'],\n",
      "        num_rows: 4846\n",
      "    })\n",
      "})\n"
     ]
    },
    {
     "name": "stderr",
     "output_type": "stream",
     "text": [
      "\n"
     ]
    }
   ],
   "source": [
    "# The financial_phrasebank dataset is available in four variations. It has no predefined train/validation/test splits.\n",
    "# Each data point was annotated by 5-8 people, then their annotations were combined. \n",
    "# Each variation of the dataset contains examples with different levels of agreement. \n",
    "# Let's use the one containing all data points where at least 50% of the annotators agreed on the label.\n",
    "dataset = load_dataset(\n",
    "    \"financial_phrasebank\", \n",
    "    'sentences_50agree' # Select variation of the dataset\n",
    ")\n",
    "\n",
    "print(f'The dataset is a dictionary with two splits: \\n\\n{dataset}')"
   ]
  },
  {
   "cell_type": "code",
   "execution_count": 5,
   "id": "ca009bab",
   "metadata": {},
   "outputs": [],
   "source": [
    "# Split test data from training data\n",
    "train_sentences, test_sentences, train_labels, test_labels = train_test_split(\n",
    "    dataset[\"train\"]['sentence'], \n",
    "    dataset[\"train\"]['label'], \n",
    "    test_size=0.2, \n",
    "    stratify=dataset[\"train\"]['label']  # make sure the same proportion of labels is in the test set and training set\n",
    ")"
   ]
  },
  {
   "cell_type": "code",
   "execution_count": 6,
   "id": "7b3af369",
   "metadata": {},
   "outputs": [
    {
     "name": "stdout",
     "output_type": "stream",
     "text": [
      "How many instances in the train dataset? \n",
      "\n",
      "3876\n",
      "\n",
      "What does one instance look like? \n",
      "\n",
      "In October , UPM reported a third-quarter net loss of euro86 million $ 110 million compared with a net profit of euro120 million in 2007 .\n"
     ]
    }
   ],
   "source": [
    "# label 0 = negative, 1 = neutral, 2 = positive\n",
    "print(f'How many instances in the train dataset? \\n\\n{len(train_sentences)}')\n",
    "print('')\n",
    "print(f'What does one instance look like? \\n\\n{train_sentences[234]}')"
   ]
  },
  {
   "cell_type": "markdown",
   "id": "b58ea906-8488-43a9-90dd-94695d700d19",
   "metadata": {},
   "source": [
    "It may also be necessary to create a _validation_ set (also called 'development' set or 'devset'). The validation set can be used to compute performance of your model when tuning hyperparameters,  optimising combinations of features, or looking at the errors your model makes before improving it. This allows you to hold out the test set to give a fair evaluation of the model and how well it generalises to new examples. This avoids tuning the model to specifso it gets good performance on the test set examples. "
   ]
  },
  {
   "cell_type": "code",
   "execution_count": 7,
   "id": "3c873dbe-b6a6-41ed-9f03-b52a5e0a85c7",
   "metadata": {},
   "outputs": [],
   "source": [
    "train_sentences, val_sentences, train_labels, val_labels = train_test_split(train_sentences, train_labels, test_size=0.25, stratify=train_labels)\n"
   ]
  },
  {
   "cell_type": "code",
   "execution_count": 8,
   "id": "57d10fa5",
   "metadata": {},
   "outputs": [
    {
     "name": "stdout",
     "output_type": "stream",
     "text": [
      "How many instances in the validation dataset? \n",
      "\n",
      "969\n",
      "\n",
      "How many instances in the test dataset? \n",
      "\n",
      "970\n"
     ]
    }
   ],
   "source": [
    "print(f'How many instances in the validation dataset? \\n\\n{len(val_sentences)}\\n')\n",
    "print(f'How many instances in the test dataset? \\n\\n{len(test_sentences)}')"
   ]
  },
  {
   "cell_type": "markdown",
   "metadata": {},
   "source": [
    "## Data Exploration"
   ]
  },
  {
   "cell_type": "code",
   "execution_count": 9,
   "metadata": {},
   "outputs": [],
   "source": [
    "train = pd.DataFrame({'sentences' : train_sentences, 'labels' : train_labels})"
   ]
  },
  {
   "cell_type": "markdown",
   "metadata": {},
   "source": [
    "### Very Brief Response Analysis"
   ]
  },
  {
   "cell_type": "markdown",
   "metadata": {},
   "source": [
    "Should only need to do this for train due to random split. So would expect to see the same structure for test and val"
   ]
  },
  {
   "cell_type": "code",
   "execution_count": 10,
   "metadata": {},
   "outputs": [
    {
     "data": {
      "image/png": "[encoded data removed]",
      "text/plain": [
       "<Figure size 1080x576 with 1 Axes>"
      ]
     },
     "metadata": {
      "needs_background": "light"
     },
     "output_type": "display_data"
    }
   ],
   "source": [
    "# Make figure and axis\n",
    "fig, ax = plt.subplots(nrows = 1, ncols = 1, figsize = (15, 8))\n",
    "\n",
    "# Create plot of label counts\n",
    "ax = sns.countplot(data = train, x = 'labels').set(title = 'Label Counts for Train Data')\n",
    "\n",
    "# Edit plot to show correct labels\n",
    "plt.xlabel(\"Labels\")\n",
    "plt.ylabel(\"Frequency\")\n",
    "plt.xticks(rotation = 0)\n",
    "\n",
    "# Show Plot\n",
    "plt.show()"
   ]
  },
  {
   "cell_type": "markdown",
   "metadata": {},
   "source": [
    "There is a slight imbalance in labels, but nothing that should be an issue. If we find this is an issue later on, we can perform some over or under sampling."
   ]
  },
  {
   "cell_type": "markdown",
   "metadata": {},
   "source": [
    "# Featuring Engineering"
   ]
  },
  {
   "cell_type": "markdown",
   "metadata": {},
   "source": [
    "### Sentence Processing"
   ]
  },
  {
   "cell_type": "code",
   "execution_count": 11,
   "metadata": {},
   "outputs": [],
   "source": [
    "# Remove some stopwords to capture negation in n-grams if possible\n",
    "stop_words = nltk.corpus.stopwords.words('english')\n",
    "stop_words.remove('no')\n",
    "stop_words.remove('not')\n",
    "stop_words.remove('but')\n",
    "\n",
    "# Load up a WordNet Lemmatizer\n",
    "wnl = nltk.stem.WordNetLemmatizer()\n",
    "\n",
    "# Define a function to get the position tag for each word - this helps to lemmatize words correctly with context\n",
    "def get_wordnet_pos(word: str):\n",
    "        '''Map POS tag to first character lemmatize() accepts\n",
    "        \n",
    "        Arguments:\n",
    "            word (str): word to find wordnet position tag for'''\n",
    "        \n",
    "        # Get first letter of pos_tag\n",
    "        tag = nltk.pos_tag([word])[0][1][0].upper()\n",
    "\n",
    "        # Translate letter into wordnet position tag\n",
    "        tag_dict = {\n",
    "            'J': nltk.corpus.wordnet.ADJ,\n",
    "            'N': nltk.corpus.wordnet.NOUN,\n",
    "            'V': nltk.corpus.wordnet.VERB,\n",
    "            'R': nltk.corpus.wordnet.ADV\n",
    "            }\n",
    "\n",
    "        return tag_dict.get(tag, nltk.corpus.wordnet.NOUN)\n",
    "\n",
    "def text_preprocess(sentence: str):\n",
    "    '''Preprocesses the inputted sentence and does the following: sets to lowercase,\n",
    "    removes unwanted characters, lemmatizes and removes stopwords\n",
    "    \n",
    "    Arguments:\n",
    "        sentence (str): sentence to be processed\n",
    "\n",
    "    Returns:\n",
    "        sentence (str): processed sentence'''\n",
    "\n",
    "    # Set to lower case\n",
    "    sentence = str(sentence).lower()\n",
    "    \n",
    "    # Remove non-letter characters and replace the abbreviation 'mn' for million\n",
    "    sentence = re.sub(r'[^a-zA-Z]',r' ', sentence)\n",
    "    sentence = re.sub('mn', 'million', sentence)\n",
    "\n",
    "    sentence_tokenize = nltk.word_tokenize(sentence)\n",
    "\n",
    "    # Wordnet lemmatizer with position tagging to give context\n",
    "    sentence = ' '.join([wnl.lemmatize(word, get_wordnet_pos(word)) for word in sentence_tokenize])\n",
    "    \n",
    "    # Removal of Stopwords\n",
    "    sentence = ' '.join([word for word in sentence_tokenize if word not in stop_words])\n",
    "    \n",
    "    return sentence\n",
    "\n",
    "# Turn the above function into a vectorized function to work on columns for sentences\n",
    "vect_text_preprocess = np.vectorize(text_preprocess)"
   ]
  },
  {
   "cell_type": "code",
   "execution_count": 12,
   "metadata": {},
   "outputs": [],
   "source": [
    "# Clean train, test and validation sentences using the vectorised text_processor\n",
    "clean_train_sentences = vect_text_preprocess(train_sentences)\n",
    "clean_test_sentences = vect_text_preprocess(test_sentences)\n",
    "clean_val_sentences = vect_text_preprocess(val_sentences)"
   ]
  },
  {
   "cell_type": "markdown",
   "metadata": {},
   "source": [
    "#### TF-IDF Vectorizer\n",
    "\n",
    "We will be using a TF-IDF Vectorizer to vectorize our sentences before modelling. We will be setting the `ngram_range = (1, 1)` so we can also build columns for bi-grams."
   ]
  },
  {
   "cell_type": "code",
   "execution_count": 13,
   "metadata": {},
   "outputs": [],
   "source": [
    "# Define TFIDF Vectorizer\n",
    "tfidf = TfidfVectorizer(min_df = 0.0, max_df = 1.0, ngram_range = (1, 1))"
   ]
  },
  {
   "cell_type": "code",
   "execution_count": 14,
   "metadata": {},
   "outputs": [],
   "source": [
    "# Fit and transform the clean sentences to the TFIDF Vectorizer for each train, test and validation\n",
    "X_train = tfidf.fit_transform(clean_train_sentences).toarray()\n",
    "X_train = pd.DataFrame(X_train, columns = tfidf.get_feature_names_out())\n",
    "\n",
    "X_test = tfidf.transform(clean_test_sentences).toarray()\n",
    "X_test = pd.DataFrame(X_test, columns = tfidf.get_feature_names_out())\n",
    "\n",
    "X_val = tfidf.transform(clean_val_sentences).toarray()\n",
    "X_val = pd.DataFrame(X_val, columns = tfidf.get_feature_names_out())"
   ]
  },
  {
   "cell_type": "markdown",
   "metadata": {},
   "source": [
    "## Modelling\n",
    "\n",
    "We will be using the ROC AUC Score as our evaluation metric since is provides a good balance between True Negative and False Positives in one score. This is preferred to Accuracy due to our imbalance and Precision and Recall since we require a balance of the both to get a good model. Since ROC score uses predicted probabilities as its input, we don't have to tune the threshold."
   ]
  },
  {
   "cell_type": "code",
   "execution_count": 15,
   "metadata": {},
   "outputs": [],
   "source": [
    "# Assign train, text and validation labels to the y variable\n",
    "y_train = train_labels\n",
    "y_test = test_labels\n",
    "y_val = val_labels"
   ]
  },
  {
   "cell_type": "code",
   "execution_count": 16,
   "metadata": {},
   "outputs": [],
   "source": [
    "# Make a dictionary for each train, tes and validation to make fitting and evaluation cleaner.\n",
    "train_data = {'X' : X_train, 'y' : y_train}\n",
    "test_data = {'X' : X_test, 'y' : y_test}\n",
    "val_data = {'X' : X_val, 'y' : y_val}"
   ]
  },
  {
   "cell_type": "markdown",
   "metadata": {},
   "source": [
    "### Initial Model - Naive Bayes\n",
    "\n",
    "We have a Naive Bayes Multinomial Classifier since it does not take long to train and tune, but does have a reliable performance. "
   ]
  },
  {
   "cell_type": "code",
   "execution_count": 17,
   "metadata": {},
   "outputs": [
    {
     "name": "stdout",
     "output_type": "stream",
     "text": [
      " --- Classification Report --- \n",
      "              precision    recall  f1-score   support\n",
      "\n",
      "           0       0.50      0.01      0.02       121\n",
      "           1       0.68      0.97      0.80       576\n",
      "           2       0.62      0.33      0.43       273\n",
      "\n",
      "    accuracy                           0.67       970\n",
      "   macro avg       0.60      0.44      0.42       970\n",
      "weighted avg       0.64      0.67      0.60       970\n",
      "\n",
      "\n",
      " --- MACRO METRICS --- \n",
      "ROC: 0.80427\n",
      "ACCURACY: 0.6701\n",
      "PRECISION: 0.60113\n",
      "RECALL: 0.43614\n"
     ]
    }
   ],
   "source": [
    "nb = MultinomialNB().fit(**train_data)\n",
    "f.evaluate_model(nb, **test_data, c_report = True, print_metrics = True)"
   ]
  },
  {
   "cell_type": "markdown",
   "metadata": {},
   "source": [
    "### Model Tuning - Naive Bayes"
   ]
  },
  {
   "cell_type": "code",
   "execution_count": 18,
   "metadata": {},
   "outputs": [
    {
     "name": "stderr",
     "output_type": "stream",
     "text": [
      "\u001b[32m[I 2022-03-28 22:32:33,231]\u001b[0m A new study created in memory with name: no-name-d47c2750-5204-4e57-8b00-a043a66a9cc5\u001b[0m\n",
      "\u001b[32m[I 2022-03-28 22:32:34,339]\u001b[0m Trial 4 finished with value: 0.8251775453630666 and parameters: {'alpha': 0.18043814996683608, 'fit_prior': False}. Best is trial 4 with value: 0.8251775453630666.\u001b[0m\n",
      "\u001b[32m[I 2022-03-28 22:32:34,404]\u001b[0m Trial 1 finished with value: 0.8053631318301155 and parameters: {'alpha': 0.9345497517541227, 'fit_prior': True}. Best is trial 4 with value: 0.8251775453630666.\u001b[0m\n",
      "\u001b[32m[I 2022-03-28 22:32:34,528]\u001b[0m Trial 5 finished with value: 0.8231496409708349 and parameters: {'alpha': 0.12560002219122282, 'fit_prior': False}. Best is trial 4 with value: 0.8251775453630666.\u001b[0m\n",
      "\u001b[32m[I 2022-03-28 22:32:34,693]\u001b[0m Trial 2 finished with value: 0.8210883865061799 and parameters: {'alpha': 0.5752145491405182, 'fit_prior': False}. Best is trial 4 with value: 0.8251775453630666.\u001b[0m\n",
      "\u001b[32m[I 2022-03-28 22:32:34,749]\u001b[0m Trial 8 finished with value: 0.8003758059435743 and parameters: {'alpha': 1.8878181503758011, 'fit_prior': False}. Best is trial 4 with value: 0.8251775453630666.\u001b[0m\n",
      "\u001b[32m[I 2022-03-28 22:32:34,759]\u001b[0m Trial 9 finished with value: 0.8036536538160054 and parameters: {'alpha': 1.0313238832061853, 'fit_prior': True}. Best is trial 4 with value: 0.8251775453630666.\u001b[0m\n",
      "\u001b[32m[I 2022-03-28 22:32:34,760]\u001b[0m Trial 6 finished with value: 0.8205413711830126 and parameters: {'alpha': 0.30696072252241885, 'fit_prior': True}. Best is trial 4 with value: 0.8251775453630666.\u001b[0m\n",
      "\u001b[32m[I 2022-03-28 22:32:34,764]\u001b[0m Trial 0 finished with value: 0.8041692613361318 and parameters: {'alpha': 1.0050474216274061, 'fit_prior': True}. Best is trial 4 with value: 0.8251775453630666.\u001b[0m\n",
      "\u001b[32m[I 2022-03-28 22:32:34,768]\u001b[0m Trial 3 finished with value: 0.815305848835529 and parameters: {'alpha': 0.4992388562774689, 'fit_prior': True}. Best is trial 4 with value: 0.8251775453630666.\u001b[0m\n",
      "\u001b[32m[I 2022-03-28 22:32:34,931]\u001b[0m Trial 7 finished with value: 0.8258235035256879 and parameters: {'alpha': 0.2765275344476865, 'fit_prior': False}. Best is trial 7 with value: 0.8258235035256879.\u001b[0m\n",
      "\u001b[32m[I 2022-03-28 22:32:35,032]\u001b[0m Trial 10 finished with value: 0.8236260733619191 and parameters: {'alpha': 0.13389563032479973, 'fit_prior': False}. Best is trial 7 with value: 0.8258235035256879.\u001b[0m\n",
      "\u001b[32m[I 2022-03-28 22:32:35,154]\u001b[0m Trial 11 finished with value: 0.8147701998181415 and parameters: {'alpha': 0.521992028629318, 'fit_prior': True}. Best is trial 7 with value: 0.8258235035256879.\u001b[0m\n",
      "\u001b[32m[I 2022-03-28 22:32:35,161]\u001b[0m Trial 14 finished with value: 0.815000076927448 and parameters: {'alpha': 0.8892889764077114, 'fit_prior': False}. Best is trial 7 with value: 0.8258235035256879.\u001b[0m\n",
      "\u001b[32m[I 2022-03-28 22:32:35,271]\u001b[0m Trial 12 finished with value: 0.8258659368810818 and parameters: {'alpha': 0.2518602584947849, 'fit_prior': False}. Best is trial 12 with value: 0.8258659368810818.\u001b[0m\n",
      "\u001b[32m[I 2022-03-28 22:32:35,272]\u001b[0m Trial 15 finished with value: 0.8079125465390445 and parameters: {'alpha': 0.8008555641061524, 'fit_prior': True}. Best is trial 12 with value: 0.8258659368810818.\u001b[0m\n",
      "\u001b[32m[I 2022-03-28 22:32:35,314]\u001b[0m Trial 13 finished with value: 0.8021169860810264 and parameters: {'alpha': 1.7359866005439772, 'fit_prior': False}. Best is trial 12 with value: 0.8258659368810818.\u001b[0m\n",
      "\u001b[32m[I 2022-03-28 22:32:35,524]\u001b[0m Trial 16 finished with value: 0.8039862266909098 and parameters: {'alpha': 1.579550311020809, 'fit_prior': False}. Best is trial 12 with value: 0.8258659368810818.\u001b[0m\n",
      "\u001b[32m[I 2022-03-28 22:32:35,529]\u001b[0m Trial 18 finished with value: 0.8017979683630974 and parameters: {'alpha': 0.010654247026867736, 'fit_prior': False}. Best is trial 12 with value: 0.8258659368810818.\u001b[0m\n",
      "\u001b[32m[I 2022-03-28 22:32:35,567]\u001b[0m Trial 17 finished with value: 0.8190180310358864 and parameters: {'alpha': 0.6833472473152573, 'fit_prior': False}. Best is trial 12 with value: 0.8258659368810818.\u001b[0m\n",
      "\u001b[32m[I 2022-03-28 22:32:35,746]\u001b[0m Trial 20 finished with value: 0.8021964486716763 and parameters: {'alpha': 1.7292710961194793, 'fit_prior': False}. Best is trial 12 with value: 0.8258659368810818.\u001b[0m\n",
      "\u001b[32m[I 2022-03-28 22:32:35,790]\u001b[0m Trial 19 finished with value: 0.805662497721214 and parameters: {'alpha': 1.461788963011955, 'fit_prior': False}. Best is trial 12 with value: 0.8258659368810818.\u001b[0m\n",
      "\u001b[32m[I 2022-03-28 22:32:35,859]\u001b[0m Trial 22 finished with value: 0.8080096700880217 and parameters: {'alpha': 1.2992976825450209, 'fit_prior': False}. Best is trial 12 with value: 0.8258659368810818.\u001b[0m\n",
      "\u001b[32m[I 2022-03-28 22:32:35,967]\u001b[0m Trial 24 finished with value: 0.8251934799926343 and parameters: {'alpha': 0.3352208586675413, 'fit_prior': False}. Best is trial 12 with value: 0.8258659368810818.\u001b[0m\n",
      "\u001b[32m[I 2022-03-28 22:32:35,969]\u001b[0m Trial 21 finished with value: 0.8079593863492486 and parameters: {'alpha': 1.3034011697432195, 'fit_prior': False}. Best is trial 12 with value: 0.8258659368810818.\u001b[0m\n",
      "\u001b[32m[I 2022-03-28 22:32:35,974]\u001b[0m Trial 23 finished with value: 0.80738437047192 and parameters: {'alpha': 1.3458347381299633, 'fit_prior': False}. Best is trial 12 with value: 0.8258659368810818.\u001b[0m\n",
      "\u001b[32m[I 2022-03-28 22:32:36,020]\u001b[0m Trial 25 finished with value: 0.8081800383973832 and parameters: {'alpha': 1.290139079233308, 'fit_prior': False}. Best is trial 12 with value: 0.8258659368810818.\u001b[0m\n",
      "\u001b[32m[I 2022-03-28 22:32:36,187]\u001b[0m Trial 26 finished with value: 0.8090967784344375 and parameters: {'alpha': 1.240830415372405, 'fit_prior': False}. Best is trial 12 with value: 0.8258659368810818.\u001b[0m\n",
      "\u001b[32m[I 2022-03-28 22:32:36,226]\u001b[0m Trial 28 finished with value: 0.8250443800024446 and parameters: {'alpha': 0.3494834003710058, 'fit_prior': False}. Best is trial 12 with value: 0.8258659368810818.\u001b[0m\n",
      "\u001b[32m[I 2022-03-28 22:32:36,238]\u001b[0m Trial 27 finished with value: 0.8090982472255637 and parameters: {'alpha': 1.2408800208171527, 'fit_prior': False}. Best is trial 12 with value: 0.8258659368810818.\u001b[0m\n",
      "\u001b[32m[I 2022-03-28 22:32:36,427]\u001b[0m Trial 29 finished with value: 0.8252020923740084 and parameters: {'alpha': 0.32551255409303315, 'fit_prior': False}. Best is trial 12 with value: 0.8258659368810818.\u001b[0m\n",
      "\u001b[32m[I 2022-03-28 22:32:36,567]\u001b[0m Trial 31 finished with value: 0.8250446092354741 and parameters: {'alpha': 0.35330408613835645, 'fit_prior': False}. Best is trial 12 with value: 0.8258659368810818.\u001b[0m\n",
      "\u001b[32m[I 2022-03-28 22:32:36,583]\u001b[0m Trial 32 finished with value: 0.8250667862838957 and parameters: {'alpha': 0.34976793173924736, 'fit_prior': False}. Best is trial 12 with value: 0.8258659368810818.\u001b[0m\n",
      "\u001b[32m[I 2022-03-28 22:32:36,627]\u001b[0m Trial 30 finished with value: 0.8252359471606746 and parameters: {'alpha': 0.3214120323432975, 'fit_prior': False}. Best is trial 12 with value: 0.8258659368810818.\u001b[0m\n",
      "\u001b[32m[I 2022-03-28 22:32:36,687]\u001b[0m Trial 33 finished with value: 0.8249077058731885 and parameters: {'alpha': 0.3599743441705081, 'fit_prior': False}. Best is trial 12 with value: 0.8258659368810818.\u001b[0m\n",
      "\u001b[32m[I 2022-03-28 22:32:36,703]\u001b[0m Trial 34 finished with value: 0.8249183430058622 and parameters: {'alpha': 0.359602091179601, 'fit_prior': False}. Best is trial 12 with value: 0.8258659368810818.\u001b[0m\n",
      "\u001b[32m[I 2022-03-28 22:32:36,819]\u001b[0m Trial 35 finished with value: 0.8249822679667442 and parameters: {'alpha': 0.35473854974986196, 'fit_prior': False}. Best is trial 12 with value: 0.8258659368810818.\u001b[0m\n",
      "\u001b[32m[I 2022-03-28 22:32:36,885]\u001b[0m Trial 36 finished with value: 0.8248529377931187 and parameters: {'alpha': 0.3630641375665036, 'fit_prior': False}. Best is trial 12 with value: 0.8258659368810818.\u001b[0m\n",
      "\u001b[32m[I 2022-03-28 22:32:36,919]\u001b[0m Trial 37 finished with value: 0.8240253539357787 and parameters: {'alpha': 0.4183260500420005, 'fit_prior': False}. Best is trial 12 with value: 0.8258659368810818.\u001b[0m\n",
      "\u001b[32m[I 2022-03-28 22:32:37,071]\u001b[0m Trial 38 finished with value: 0.8258771189458844 and parameters: {'alpha': 0.23012619534936277, 'fit_prior': False}. Best is trial 38 with value: 0.8258771189458844.\u001b[0m\n",
      "\u001b[32m[I 2022-03-28 22:32:37,104]\u001b[0m Trial 39 finished with value: 0.8230048266781975 and parameters: {'alpha': 0.4815440433921041, 'fit_prior': False}. Best is trial 38 with value: 0.8258771189458844.\u001b[0m\n",
      "\u001b[32m[I 2022-03-28 22:32:37,177]\u001b[0m Trial 40 finished with value: 0.795863176745538 and parameters: {'alpha': 0.004234227926708856, 'fit_prior': True}. Best is trial 38 with value: 0.8258771189458844.\u001b[0m\n",
      "\u001b[32m[I 2022-03-28 22:32:37,230]\u001b[0m Trial 42 finished with value: 0.8113281005722408 and parameters: {'alpha': 0.6514936779469779, 'fit_prior': True}. Best is trial 38 with value: 0.8258771189458844.\u001b[0m\n",
      "\u001b[32m[I 2022-03-28 22:32:37,261]\u001b[0m Trial 41 finished with value: 0.8109366034979404 and parameters: {'alpha': 0.6637114601093632, 'fit_prior': True}. Best is trial 38 with value: 0.8258771189458844.\u001b[0m\n",
      "\u001b[32m[I 2022-03-28 22:32:37,431]\u001b[0m Trial 43 finished with value: 0.8124729295738565 and parameters: {'alpha': 0.6063679176817227, 'fit_prior': True}. Best is trial 38 with value: 0.8258771189458844.\u001b[0m\n",
      "\u001b[32m[I 2022-03-28 22:32:37,433]\u001b[0m Trial 45 finished with value: 0.811921533926297 and parameters: {'alpha': 0.6258737229390049, 'fit_prior': True}. Best is trial 38 with value: 0.8258771189458844.\u001b[0m\n",
      "\u001b[32m[I 2022-03-28 22:32:37,449]\u001b[0m Trial 44 finished with value: 0.8117805595527984 and parameters: {'alpha': 0.6317181340367293, 'fit_prior': True}. Best is trial 38 with value: 0.8258771189458844.\u001b[0m\n",
      "\u001b[32m[I 2022-03-28 22:32:37,658]\u001b[0m Trial 46 finished with value: 0.800195155394186 and parameters: {'alpha': 0.007526336194314587, 'fit_prior': True}. Best is trial 38 with value: 0.8258771189458844.\u001b[0m\n",
      "\u001b[32m[I 2022-03-28 22:32:37,795]\u001b[0m Trial 49 finished with value: 0.8258123197947626 and parameters: {'alpha': 0.21392718884829964, 'fit_prior': False}. Best is trial 38 with value: 0.8258771189458844.\u001b[0m\n",
      "\u001b[32m[I 2022-03-28 22:32:37,805]\u001b[0m Trial 47 finished with value: 0.8227331667995159 and parameters: {'alpha': 0.21022455166668264, 'fit_prior': True}. Best is trial 38 with value: 0.8258771189458844.\u001b[0m\n",
      "\u001b[32m[I 2022-03-28 22:32:37,806]\u001b[0m Trial 48 finished with value: 0.825303741827628 and parameters: {'alpha': 0.1853294321438512, 'fit_prior': False}. Best is trial 38 with value: 0.8258771189458844.\u001b[0m\n",
      "\u001b[32m[I 2022-03-28 22:32:37,812]\u001b[0m Trial 50 finished with value: 0.8258792301627174 and parameters: {'alpha': 0.21748845767804897, 'fit_prior': False}. Best is trial 50 with value: 0.8258792301627174.\u001b[0m\n",
      "\u001b[32m[I 2022-03-28 22:32:37,979]\u001b[0m Trial 52 finished with value: 0.8249977725517117 and parameters: {'alpha': 0.1717470188594009, 'fit_prior': False}. Best is trial 50 with value: 0.8258792301627174.\u001b[0m\n",
      "\u001b[32m[I 2022-03-28 22:32:37,983]\u001b[0m Trial 51 finished with value: 0.8258895366039507 and parameters: {'alpha': 0.21886951774192626, 'fit_prior': False}. Best is trial 51 with value: 0.8258895366039507.\u001b[0m\n",
      "\u001b[32m[I 2022-03-28 22:32:38,027]\u001b[0m Trial 53 finished with value: 0.8258812891588169 and parameters: {'alpha': 0.21722801733996966, 'fit_prior': False}. Best is trial 51 with value: 0.8258895366039507.\u001b[0m\n",
      "\u001b[32m[I 2022-03-28 22:32:38,214]\u001b[0m Trial 54 finished with value: 0.8253159271322028 and parameters: {'alpha': 0.18709049333416172, 'fit_prior': False}. Best is trial 51 with value: 0.8258895366039507.\u001b[0m\n",
      "\u001b[32m[I 2022-03-28 22:32:38,331]\u001b[0m Trial 58 finished with value: 0.8257953436543719 and parameters: {'alpha': 0.21352224963598596, 'fit_prior': False}. Best is trial 51 with value: 0.8258895366039507.\u001b[0m\n",
      "\u001b[32m[I 2022-03-28 22:32:38,374]\u001b[0m Trial 57 finished with value: 0.8258185157402353 and parameters: {'alpha': 0.2233191408494669, 'fit_prior': False}. Best is trial 51 with value: 0.8258895366039507.\u001b[0m\n",
      "\u001b[32m[I 2022-03-28 22:32:38,399]\u001b[0m Trial 56 finished with value: 0.8254774439166889 and parameters: {'alpha': 0.1988109399508713, 'fit_prior': False}. Best is trial 51 with value: 0.8258895366039507.\u001b[0m\n",
      "\u001b[32m[I 2022-03-28 22:32:38,440]\u001b[0m Trial 55 finished with value: 0.8256690100737426 and parameters: {'alpha': 0.20854847887363734, 'fit_prior': False}. Best is trial 51 with value: 0.8258895366039507.\u001b[0m\n",
      "\u001b[32m[I 2022-03-28 22:32:38,546]\u001b[0m Trial 60 finished with value: 0.8217974779681274 and parameters: {'alpha': 0.10569991142824979, 'fit_prior': False}. Best is trial 51 with value: 0.8258895366039507.\u001b[0m\n",
      "\u001b[32m[I 2022-03-28 22:32:38,608]\u001b[0m Trial 59 finished with value: 0.8258603230751206 and parameters: {'alpha': 0.24120789265060624, 'fit_prior': False}. Best is trial 51 with value: 0.8258895366039507.\u001b[0m\n",
      "\u001b[32m[I 2022-03-28 22:32:38,620]\u001b[0m Trial 61 finished with value: 0.8217108212741012 and parameters: {'alpha': 0.10366904062922841, 'fit_prior': False}. Best is trial 51 with value: 0.8258895366039507.\u001b[0m\n",
      "\u001b[32m[I 2022-03-28 22:32:38,627]\u001b[0m Trial 62 finished with value: 0.820494133307804 and parameters: {'alpha': 0.08806464170007033, 'fit_prior': False}. Best is trial 51 with value: 0.8258895366039507.\u001b[0m\n",
      "\u001b[32m[I 2022-03-28 22:32:38,861]\u001b[0m Trial 63 finished with value: 0.822496093878765 and parameters: {'alpha': 0.11624842235622986, 'fit_prior': False}. Best is trial 51 with value: 0.8258895366039507.\u001b[0m\n",
      "\u001b[32m[I 2022-03-28 22:32:38,929]\u001b[0m Trial 64 finished with value: 0.8195391055196857 and parameters: {'alpha': 0.07841671436190067, 'fit_prior': False}. Best is trial 51 with value: 0.8258895366039507.\u001b[0m\n",
      "\u001b[32m[I 2022-03-28 22:32:38,966]\u001b[0m Trial 66 finished with value: 0.8190853544854861 and parameters: {'alpha': 0.07427432495431471, 'fit_prior': False}. Best is trial 51 with value: 0.8258895366039507.\u001b[0m\n",
      "\u001b[32m[I 2022-03-28 22:32:38,981]\u001b[0m Trial 65 finished with value: 0.8205357421223166 and parameters: {'alpha': 0.08861560836633783, 'fit_prior': False}. Best is trial 51 with value: 0.8258895366039507.\u001b[0m\n",
      "\u001b[32m[I 2022-03-28 22:32:39,064]\u001b[0m Trial 67 finished with value: 0.8221850820387858 and parameters: {'alpha': 0.5247863545491567, 'fit_prior': False}. Best is trial 51 with value: 0.8258895366039507.\u001b[0m\n",
      "\u001b[32m[I 2022-03-28 22:32:39,111]\u001b[0m Trial 69 finished with value: 0.8236399809220782 and parameters: {'alpha': 0.4471862520479151, 'fit_prior': False}. Best is trial 51 with value: 0.8258895366039507.\u001b[0m\n",
      "\u001b[32m[I 2022-03-28 22:32:39,148]\u001b[0m Trial 70 finished with value: 0.8233018470924649 and parameters: {'alpha': 0.4657623468978884, 'fit_prior': False}. Best is trial 51 with value: 0.8258895366039507.\u001b[0m\n",
      "\u001b[32m[I 2022-03-28 22:32:39,241]\u001b[0m Trial 68 finished with value: 0.8218124435062616 and parameters: {'alpha': 0.10551441720872584, 'fit_prior': False}. Best is trial 51 with value: 0.8258895366039507.\u001b[0m\n",
      "\u001b[32m[I 2022-03-28 22:32:39,264]\u001b[0m Trial 72 finished with value: 0.8233148020283426 and parameters: {'alpha': 0.46424902968137305, 'fit_prior': False}. Best is trial 51 with value: 0.8258895366039507.\u001b[0m\n",
      "\u001b[32m[I 2022-03-28 22:32:39,379]\u001b[0m Trial 71 finished with value: 0.8233160120123643 and parameters: {'alpha': 0.4648495593155284, 'fit_prior': False}. Best is trial 51 with value: 0.8258895366039507.\u001b[0m\n",
      "\u001b[32m[I 2022-03-28 22:32:39,420]\u001b[0m Trial 73 finished with value: 0.8232693152089668 and parameters: {'alpha': 0.46695922798820827, 'fit_prior': False}. Best is trial 51 with value: 0.8258895366039507.\u001b[0m\n",
      "\u001b[32m[I 2022-03-28 22:32:39,481]\u001b[0m Trial 74 finished with value: 0.825816189144132 and parameters: {'alpha': 0.2771345633795949, 'fit_prior': False}. Best is trial 51 with value: 0.8258895366039507.\u001b[0m\n",
      "\u001b[32m[I 2022-03-28 22:32:39,607]\u001b[0m Trial 75 finished with value: 0.8258556298708261 and parameters: {'alpha': 0.25603372520265805, 'fit_prior': False}. Best is trial 51 with value: 0.8258895366039507.\u001b[0m\n",
      "\u001b[32m[I 2022-03-28 22:32:39,709]\u001b[0m Trial 76 finished with value: 0.8256262225159429 and parameters: {'alpha': 0.2902090719613301, 'fit_prior': False}. Best is trial 51 with value: 0.8258895366039507.\u001b[0m\n",
      "\u001b[32m[I 2022-03-28 22:32:39,868]\u001b[0m Trial 77 finished with value: 0.8256200112828443 and parameters: {'alpha': 0.2942022331465446, 'fit_prior': False}. Best is trial 51 with value: 0.8258895366039507.\u001b[0m\n",
      "\u001b[32m[I 2022-03-28 22:32:39,884]\u001b[0m Trial 79 finished with value: 0.8259040644572012 and parameters: {'alpha': 0.267447108896732, 'fit_prior': False}. Best is trial 79 with value: 0.8259040644572012.\u001b[0m\n",
      "\u001b[32m[I 2022-03-28 22:32:39,928]\u001b[0m Trial 78 finished with value: 0.8258147311073126 and parameters: {'alpha': 0.2750006168997545, 'fit_prior': False}. Best is trial 79 with value: 0.8259040644572012.\u001b[0m\n",
      "\u001b[32m[I 2022-03-28 22:32:40,026]\u001b[0m Trial 80 finished with value: 0.8257761641591775 and parameters: {'alpha': 0.2824910075227835, 'fit_prior': False}. Best is trial 79 with value: 0.8259040644572012.\u001b[0m\n",
      "\u001b[32m[I 2022-03-28 22:32:40,074]\u001b[0m Trial 81 finished with value: 0.8258106131151134 and parameters: {'alpha': 0.27477080508996643, 'fit_prior': False}. Best is trial 79 with value: 0.8259040644572012.\u001b[0m\n",
      "\u001b[32m[I 2022-03-28 22:32:40,214]\u001b[0m Trial 82 finished with value: 0.8258806632757142 and parameters: {'alpha': 0.2646602568811778, 'fit_prior': False}. Best is trial 79 with value: 0.8259040644572012.\u001b[0m\n",
      "\u001b[32m[I 2022-03-28 22:32:40,217]\u001b[0m Trial 84 finished with value: 0.825769975003715 and parameters: {'alpha': 0.2783637138707254, 'fit_prior': False}. Best is trial 79 with value: 0.8259040644572012.\u001b[0m\n",
      "\u001b[32m[I 2022-03-28 22:32:40,219]\u001b[0m Trial 83 finished with value: 0.8257651895450527 and parameters: {'alpha': 0.2809577541198595, 'fit_prior': False}. Best is trial 79 with value: 0.8259040644572012.\u001b[0m\n",
      "\u001b[32m[I 2022-03-28 22:32:40,492]\u001b[0m Trial 87 finished with value: 0.8242922658298654 and parameters: {'alpha': 0.39950201956749787, 'fit_prior': False}. Best is trial 79 with value: 0.8259040644572012.\u001b[0m\n",
      "\u001b[32m[I 2022-03-28 22:32:40,503]\u001b[0m Trial 86 finished with value: 0.8182001987981877 and parameters: {'alpha': 0.7246519386382464, 'fit_prior': False}. Best is trial 79 with value: 0.8259040644572012.\u001b[0m\n",
      "\u001b[32m[I 2022-03-28 22:32:40,508]\u001b[0m Trial 85 finished with value: 0.8214551822798897 and parameters: {'alpha': 0.5587307841392726, 'fit_prior': False}. Best is trial 79 with value: 0.8259040644572012.\u001b[0m\n",
      "\u001b[32m[I 2022-03-28 22:32:40,607]\u001b[0m Trial 88 finished with value: 0.8179698251366401 and parameters: {'alpha': 0.7334262562385053, 'fit_prior': False}. Best is trial 79 with value: 0.8259040644572012.\u001b[0m\n",
      "\u001b[32m[I 2022-03-28 22:32:40,636]\u001b[0m Trial 89 finished with value: 0.8243190112710835 and parameters: {'alpha': 0.3971707758370562, 'fit_prior': False}. Best is trial 79 with value: 0.8259040644572012.\u001b[0m\n",
      "\u001b[32m[I 2022-03-28 22:32:40,754]\u001b[0m Trial 90 finished with value: 0.8182417834157789 and parameters: {'alpha': 0.7222632029964082, 'fit_prior': False}. Best is trial 79 with value: 0.8259040644572012.\u001b[0m\n",
      "\u001b[32m[I 2022-03-28 22:32:40,756]\u001b[0m Trial 91 finished with value: 0.8179280657634447 and parameters: {'alpha': 0.7356049978260351, 'fit_prior': False}. Best is trial 79 with value: 0.8259040644572012.\u001b[0m\n",
      "\u001b[32m[I 2022-03-28 22:32:40,873]\u001b[0m Trial 92 finished with value: 0.8242182771033945 and parameters: {'alpha': 0.40744123413382305, 'fit_prior': False}. Best is trial 79 with value: 0.8259040644572012.\u001b[0m\n",
      "\u001b[32m[I 2022-03-28 22:32:40,891]\u001b[0m Trial 93 finished with value: 0.8171997618638644 and parameters: {'alpha': 0.777756784224471, 'fit_prior': False}. Best is trial 79 with value: 0.8259040644572012.\u001b[0m\n",
      "\u001b[32m[I 2022-03-28 22:32:41,079]\u001b[0m Trial 94 finished with value: 0.8113895680274471 and parameters: {'alpha': 1.096045892918022, 'fit_prior': False}. Best is trial 79 with value: 0.8259040644572012.\u001b[0m\n",
      "\u001b[32m[I 2022-03-28 22:32:41,090]\u001b[0m Trial 96 finished with value: 0.8241988679289828 and parameters: {'alpha': 0.14864191497856832, 'fit_prior': False}. Best is trial 79 with value: 0.8259040644572012.\u001b[0m\n",
      "\u001b[32m[I 2022-03-28 22:32:41,092]\u001b[0m Trial 98 finished with value: 0.7996091709820298 and parameters: {'alpha': 1.9585489022220655, 'fit_prior': False}. Best is trial 79 with value: 0.8259040644572012.\u001b[0m\n",
      "\u001b[32m[I 2022-03-28 22:32:41,094]\u001b[0m Trial 95 finished with value: 0.8119512592245272 and parameters: {'alpha': 1.0650695413899183, 'fit_prior': False}. Best is trial 79 with value: 0.8259040644572012.\u001b[0m\n",
      "\u001b[32m[I 2022-03-28 22:32:41,110]\u001b[0m Trial 97 finished with value: 0.7991564176741172 and parameters: {'alpha': 1.9998546893834386, 'fit_prior': False}. Best is trial 79 with value: 0.8259040644572012.\u001b[0m\n",
      "\u001b[32m[I 2022-03-28 22:32:41,403]\u001b[0m Trial 100 finished with value: 0.8145864882690829 and parameters: {'alpha': 0.9145884234442844, 'fit_prior': False}. Best is trial 79 with value: 0.8259040644572012.\u001b[0m\n",
      "\u001b[32m[I 2022-03-28 22:32:41,416]\u001b[0m Trial 101 finished with value: 0.812043814573551 and parameters: {'alpha': 1.0600429383321477, 'fit_prior': False}. Best is trial 79 with value: 0.8259040644572012.\u001b[0m\n",
      "\u001b[32m[I 2022-03-28 22:32:41,485]\u001b[0m Trial 99 finished with value: 0.8243925165726291 and parameters: {'alpha': 0.15489197535208052, 'fit_prior': False}. Best is trial 79 with value: 0.8259040644572012.\u001b[0m\n",
      "\u001b[32m[I 2022-03-28 22:32:41,573]\u001b[0m Trial 102 finished with value: 0.8152024111978986 and parameters: {'alpha': 0.0470376557922004, 'fit_prior': False}. Best is trial 79 with value: 0.8259040644572012.\u001b[0m\n",
      "\u001b[32m[I 2022-03-28 22:32:41,698]\u001b[0m Trial 104 finished with value: 0.8258445676730585 and parameters: {'alpha': 0.2391552652231851, 'fit_prior': False}. Best is trial 79 with value: 0.8259040644572012.\u001b[0m\n",
      "\u001b[32m[I 2022-03-28 22:32:41,715]\u001b[0m Trial 103 finished with value: 0.8258504562801781 and parameters: {'alpha': 0.24039860071332766, 'fit_prior': False}. Best is trial 79 with value: 0.8259040644572012.\u001b[0m\n",
      "\u001b[32m[I 2022-03-28 22:32:41,749]\u001b[0m Trial 106 finished with value: 0.8156776173366319 and parameters: {'alpha': 0.04942763281351681, 'fit_prior': False}. Best is trial 79 with value: 0.8259040644572012.\u001b[0m\n",
      "\u001b[32m[I 2022-03-28 22:32:41,891]\u001b[0m Trial 105 finished with value: 0.8258589026778377 and parameters: {'alpha': 0.24087151498011905, 'fit_prior': False}. Best is trial 79 with value: 0.8259040644572012.\u001b[0m\n",
      "\u001b[32m[I 2022-03-28 22:32:41,899]\u001b[0m Trial 107 finished with value: 0.8258255130103717 and parameters: {'alpha': 0.23589608865984987, 'fit_prior': False}. Best is trial 79 with value: 0.8259040644572012.\u001b[0m\n",
      "\u001b[32m[I 2022-03-28 22:32:41,908]\u001b[0m Trial 108 finished with value: 0.8150652012036881 and parameters: {'alpha': 0.04611994929263247, 'fit_prior': False}. Best is trial 79 with value: 0.8259040644572012.\u001b[0m\n",
      "\u001b[32m[I 2022-03-28 22:32:41,934]\u001b[0m Trial 109 finished with value: 0.8258153799118858 and parameters: {'alpha': 0.2258514471397504, 'fit_prior': False}. Best is trial 79 with value: 0.8259040644572012.\u001b[0m\n",
      "\u001b[32m[I 2022-03-28 22:32:42,057]\u001b[0m Trial 110 finished with value: 0.8258187698766152 and parameters: {'alpha': 0.2248491255183054, 'fit_prior': False}. Best is trial 79 with value: 0.8259040644572012.\u001b[0m\n",
      "\u001b[32m[I 2022-03-28 22:32:42,103]\u001b[0m Trial 113 finished with value: 0.8221755551112638 and parameters: {'alpha': 0.23722295642724867, 'fit_prior': True}. Best is trial 79 with value: 0.8259040644572012.\u001b[0m\n",
      "\u001b[32m[I 2022-03-28 22:32:42,108]\u001b[0m Trial 112 finished with value: 0.8219021932727308 and parameters: {'alpha': 0.2519372388149057, 'fit_prior': True}. Best is trial 79 with value: 0.8259040644572012.\u001b[0m\n",
      "\u001b[32m[I 2022-03-28 22:32:42,163]\u001b[0m Trial 111 finished with value: 0.8258458368052303 and parameters: {'alpha': 0.23710983083717468, 'fit_prior': False}. Best is trial 79 with value: 0.8259040644572012.\u001b[0m\n",
      "\u001b[32m[I 2022-03-28 22:32:42,513]\u001b[0m Trial 119 finished with value: 0.8243924681787861 and parameters: {'alpha': 0.15507537466358706, 'fit_prior': False}. Best is trial 79 with value: 0.8259040644572012.\u001b[0m\n",
      "\u001b[32m[I 2022-03-28 22:32:42,515]\u001b[0m Trial 114 finished with value: 0.8229396213889449 and parameters: {'alpha': 0.14198848544130485, 'fit_prior': True}. Best is trial 79 with value: 0.8259040644572012.\u001b[0m\n",
      "\u001b[32m[I 2022-03-28 22:32:42,516]\u001b[0m Trial 116 finished with value: 0.8231546317452495 and parameters: {'alpha': 0.16809486999309742, 'fit_prior': True}. Best is trial 79 with value: 0.8259040644572012.\u001b[0m\n",
      "\u001b[32m[I 2022-03-28 22:32:42,577]\u001b[0m Trial 115 finished with value: 0.8230810617254782 and parameters: {'alpha': 0.15104449743877058, 'fit_prior': True}. Best is trial 79 with value: 0.8259040644572012.\u001b[0m\n",
      "\u001b[32m[I 2022-03-28 22:32:42,578]\u001b[0m Trial 117 finished with value: 0.825220644847518 and parameters: {'alpha': 0.32294525681565356, 'fit_prior': False}. Best is trial 79 with value: 0.8259040644572012.\u001b[0m\n",
      "\u001b[32m[I 2022-03-28 22:32:42,656]\u001b[0m Trial 118 finished with value: 0.8242684705147004 and parameters: {'alpha': 0.15024005159081755, 'fit_prior': False}. Best is trial 79 with value: 0.8259040644572012.\u001b[0m\n",
      "\u001b[32m[I 2022-03-28 22:32:42,724]\u001b[0m Trial 120 finished with value: 0.8251964296046447 and parameters: {'alpha': 0.3306065187782795, 'fit_prior': False}. Best is trial 79 with value: 0.8259040644572012.\u001b[0m\n",
      "\u001b[32m[I 2022-03-28 22:32:42,888]\u001b[0m Trial 121 finished with value: 0.8250825463566827 and parameters: {'alpha': 0.3460533033593274, 'fit_prior': False}. Best is trial 79 with value: 0.8259040644572012.\u001b[0m\n",
      "\u001b[32m[I 2022-03-28 22:32:43,024]\u001b[0m Trial 122 finished with value: 0.825206302483169 and parameters: {'alpha': 0.3343552588666986, 'fit_prior': False}. Best is trial 79 with value: 0.8259040644572012.\u001b[0m\n",
      "\u001b[32m[I 2022-03-28 22:32:43,035]\u001b[0m Trial 124 finished with value: 0.825194279198012 and parameters: {'alpha': 0.3286752718224398, 'fit_prior': False}. Best is trial 79 with value: 0.8259040644572012.\u001b[0m\n",
      "\u001b[32m[I 2022-03-28 22:32:43,036]\u001b[0m Trial 123 finished with value: 0.8250788680107742 and parameters: {'alpha': 0.34725163122679725, 'fit_prior': False}. Best is trial 79 with value: 0.8259040644572012.\u001b[0m\n",
      "\u001b[32m[I 2022-03-28 22:32:43,053]\u001b[0m Trial 125 finished with value: 0.8251956807755266 and parameters: {'alpha': 0.3257863743295356, 'fit_prior': False}. Best is trial 79 with value: 0.8259040644572012.\u001b[0m\n",
      "\u001b[32m[I 2022-03-28 22:32:43,207]\u001b[0m Trial 127 finished with value: 0.8247727969816995 and parameters: {'alpha': 0.36756597980966865, 'fit_prior': False}. Best is trial 79 with value: 0.8259040644572012.\u001b[0m\n",
      "\u001b[32m[I 2022-03-28 22:32:43,208]\u001b[0m Trial 126 finished with value: 0.824780062969412 and parameters: {'alpha': 0.368746238386828, 'fit_prior': False}. Best is trial 79 with value: 0.8259040644572012.\u001b[0m\n",
      "\u001b[32m[I 2022-03-28 22:32:43,353]\u001b[0m Trial 129 finished with value: 0.8246190519062461 and parameters: {'alpha': 0.376292891967364, 'fit_prior': False}. Best is trial 79 with value: 0.8259040644572012.\u001b[0m\n",
      "\u001b[32m[I 2022-03-28 22:32:43,368]\u001b[0m Trial 128 finished with value: 0.8246422588059318 and parameters: {'alpha': 0.375151437275798, 'fit_prior': False}. Best is trial 79 with value: 0.8259040644572012.\u001b[0m\n",
      "\u001b[32m[I 2022-03-28 22:32:43,574]\u001b[0m Trial 131 finished with value: 0.8254070817475467 and parameters: {'alpha': 0.1954066034308796, 'fit_prior': False}. Best is trial 79 with value: 0.8259040644572012.\u001b[0m\n",
      "\u001b[32m[I 2022-03-28 22:32:43,576]\u001b[0m Trial 132 finished with value: 0.8254044271693203 and parameters: {'alpha': 0.19552136393948544, 'fit_prior': False}. Best is trial 79 with value: 0.8259040644572012.\u001b[0m\n",
      "\u001b[32m[I 2022-03-28 22:32:43,604]\u001b[0m Trial 130 finished with value: 0.8245805010895711 and parameters: {'alpha': 0.3821592049752191, 'fit_prior': False}. Best is trial 79 with value: 0.8259040644572012.\u001b[0m\n",
      "\u001b[32m[I 2022-03-28 22:32:43,705]\u001b[0m Trial 134 finished with value: 0.8253914297857755 and parameters: {'alpha': 0.19089085524490979, 'fit_prior': False}. Best is trial 79 with value: 0.8259040644572012.\u001b[0m\n",
      "\u001b[32m[I 2022-03-28 22:32:43,731]\u001b[0m Trial 133 finished with value: 0.8252958325703738 and parameters: {'alpha': 0.18633378612122733, 'fit_prior': False}. Best is trial 79 with value: 0.8259040644572012.\u001b[0m\n",
      "\u001b[32m[I 2022-03-28 22:32:43,822]\u001b[0m Trial 135 finished with value: 0.8253536848270823 and parameters: {'alpha': 0.18817309689218895, 'fit_prior': False}. Best is trial 79 with value: 0.8259040644572012.\u001b[0m\n",
      "\u001b[32m[I 2022-03-28 22:32:43,915]\u001b[0m Trial 138 finished with value: 0.8258387267533537 and parameters: {'alpha': 0.23573079697986593, 'fit_prior': False}. Best is trial 79 with value: 0.8259040644572012.\u001b[0m\n",
      "\u001b[32m[I 2022-03-28 22:32:44,013]\u001b[0m Trial 137 finished with value: 0.8254306738160979 and parameters: {'alpha': 0.19512168230541688, 'fit_prior': False}. Best is trial 79 with value: 0.8259040644572012.\u001b[0m\n",
      "\u001b[32m[I 2022-03-28 22:32:44,046]\u001b[0m Trial 136 finished with value: 0.825300160975834 and parameters: {'alpha': 0.18658256505085538, 'fit_prior': False}. Best is trial 79 with value: 0.8259040644572012.\u001b[0m\n",
      "\u001b[32m[I 2022-03-28 22:32:44,170]\u001b[0m Trial 139 finished with value: 0.8258343369225795 and parameters: {'alpha': 0.2723040398960889, 'fit_prior': False}. Best is trial 79 with value: 0.8259040644572012.\u001b[0m\n",
      "\u001b[32m[I 2022-03-28 22:32:44,208]\u001b[0m Trial 142 finished with value: 0.8258475942518105 and parameters: {'alpha': 0.25942095444571645, 'fit_prior': False}. Best is trial 79 with value: 0.8259040644572012.\u001b[0m\n",
      "\u001b[32m[I 2022-03-28 22:32:44,310]\u001b[0m Trial 140 finished with value: 0.8258713165090136 and parameters: {'alpha': 0.24394665085327266, 'fit_prior': False}. Best is trial 79 with value: 0.8259040644572012.\u001b[0m\n",
      "\u001b[32m[I 2022-03-28 22:32:44,352]\u001b[0m Trial 141 finished with value: 0.8258476041622828 and parameters: {'alpha': 0.2478557063917235, 'fit_prior': False}. Best is trial 79 with value: 0.8259040644572012.\u001b[0m\n",
      "\u001b[32m[I 2022-03-28 22:32:44,427]\u001b[0m Trial 143 finished with value: 0.8258506574893957 and parameters: {'alpha': 0.25595818213073807, 'fit_prior': False}. Best is trial 79 with value: 0.8259040644572012.\u001b[0m\n",
      "\u001b[32m[I 2022-03-28 22:32:44,554]\u001b[0m Trial 144 finished with value: 0.8258513214237159 and parameters: {'alpha': 0.23890679967197592, 'fit_prior': False}. Best is trial 79 with value: 0.8259040644572012.\u001b[0m\n",
      "\u001b[32m[I 2022-03-28 22:32:44,576]\u001b[0m Trial 146 finished with value: 0.8258620990671943 and parameters: {'alpha': 0.2411318866947578, 'fit_prior': False}. Best is trial 79 with value: 0.8259040644572012.\u001b[0m\n",
      "\u001b[32m[I 2022-03-28 22:32:44,584]\u001b[0m Trial 145 finished with value: 0.8258423006572585 and parameters: {'alpha': 0.27098117243494896, 'fit_prior': False}. Best is trial 79 with value: 0.8259040644572012.\u001b[0m\n",
      "\u001b[32m[I 2022-03-28 22:32:44,738]\u001b[0m Trial 148 finished with value: 0.8258618430858041 and parameters: {'alpha': 0.2513392494138749, 'fit_prior': False}. Best is trial 79 with value: 0.8259040644572012.\u001b[0m\n",
      "\u001b[32m[I 2022-03-28 22:32:44,745]\u001b[0m Trial 147 finished with value: 0.8258719846819051 and parameters: {'alpha': 0.24404152215494335, 'fit_prior': False}. Best is trial 79 with value: 0.8259040644572012.\u001b[0m\n",
      "\u001b[32m[I 2022-03-28 22:32:44,791]\u001b[0m Trial 149 finished with value: 0.8258664000178655 and parameters: {'alpha': 0.2509235837874084, 'fit_prior': False}. Best is trial 79 with value: 0.8259040644572012.\u001b[0m\n",
      "\u001b[32m[I 2022-03-28 22:32:44,936]\u001b[0m Trial 151 finished with value: 0.8226498464506573 and parameters: {'alpha': 0.1186388383615363, 'fit_prior': False}. Best is trial 79 with value: 0.8259040644572012.\u001b[0m\n",
      "\u001b[32m[I 2022-03-28 22:32:44,937]\u001b[0m Trial 150 finished with value: 0.8258792264726962 and parameters: {'alpha': 0.2436447630144069, 'fit_prior': False}. Best is trial 79 with value: 0.8259040644572012.\u001b[0m\n",
      "\u001b[32m[I 2022-03-28 22:32:45,004]\u001b[0m Trial 152 finished with value: 0.8230207307798975 and parameters: {'alpha': 0.12315364862473062, 'fit_prior': False}. Best is trial 79 with value: 0.8259040644572012.\u001b[0m\n",
      "\u001b[32m[I 2022-03-28 22:32:45,193]\u001b[0m Trial 155 finished with value: 0.8231768690750337 and parameters: {'alpha': 0.12637236005385816, 'fit_prior': False}. Best is trial 79 with value: 0.8259040644572012.\u001b[0m\n",
      "\u001b[32m[I 2022-03-28 22:32:45,194]\u001b[0m Trial 153 finished with value: 0.8054159485375106 and parameters: {'alpha': 1.47895580697865, 'fit_prior': False}. Best is trial 79 with value: 0.8259040644572012.\u001b[0m\n",
      "\u001b[32m[I 2022-03-28 22:32:45,197]\u001b[0m Trial 154 finished with value: 0.8217537429439039 and parameters: {'alpha': 0.10499631798936654, 'fit_prior': False}. Best is trial 79 with value: 0.8259040644572012.\u001b[0m\n",
      "\u001b[32m[I 2022-03-28 22:32:45,220]\u001b[0m Trial 157 finished with value: 0.822343988248877 and parameters: {'alpha': 0.1147128021500454, 'fit_prior': False}. Best is trial 79 with value: 0.8259040644572012.\u001b[0m\n",
      "\u001b[32m[I 2022-03-28 22:32:45,247]\u001b[0m Trial 156 finished with value: 0.822866978208005 and parameters: {'alpha': 0.12129300825204414, 'fit_prior': False}. Best is trial 79 with value: 0.8259040644572012.\u001b[0m\n",
      "\u001b[32m[I 2022-03-28 22:32:45,407]\u001b[0m Trial 158 finished with value: 0.8254591548800635 and parameters: {'alpha': 0.3059306817856497, 'fit_prior': False}. Best is trial 79 with value: 0.8259040644572012.\u001b[0m\n",
      "\u001b[32m[I 2022-03-28 22:32:45,561]\u001b[0m Trial 160 finished with value: 0.8255310005589348 and parameters: {'alpha': 0.3004518862300206, 'fit_prior': False}. Best is trial 79 with value: 0.8259040644572012.\u001b[0m\n",
      "\u001b[32m[I 2022-03-28 22:32:45,700]\u001b[0m Trial 159 finished with value: 0.803031593824788 and parameters: {'alpha': 1.6562906433737372, 'fit_prior': False}. Best is trial 79 with value: 0.8259040644572012.\u001b[0m\n",
      "\u001b[32m[I 2022-03-28 22:32:45,723]\u001b[0m Trial 162 finished with value: 0.8255280092056859 and parameters: {'alpha': 0.30144989032186886, 'fit_prior': False}. Best is trial 79 with value: 0.8259040644572012.\u001b[0m\n",
      "\u001b[32m[I 2022-03-28 22:32:45,764]\u001b[0m Trial 161 finished with value: 0.8255031056947016 and parameters: {'alpha': 0.30502458111181563, 'fit_prior': False}. Best is trial 79 with value: 0.8259040644572012.\u001b[0m\n",
      "\u001b[32m[I 2022-03-28 22:32:45,767]\u001b[0m Trial 164 finished with value: 0.8238893250579435 and parameters: {'alpha': 0.4294069321272178, 'fit_prior': False}. Best is trial 79 with value: 0.8259040644572012.\u001b[0m\n",
      "\u001b[32m[I 2022-03-28 22:32:45,803]\u001b[0m Trial 163 finished with value: 0.8252556436800457 and parameters: {'alpha': 0.31735302771112106, 'fit_prior': False}. Best is trial 79 with value: 0.8259040644572012.\u001b[0m\n",
      "\u001b[32m[I 2022-03-28 22:32:45,829]\u001b[0m Trial 165 finished with value: 0.8253392403943548 and parameters: {'alpha': 0.3122980285111862, 'fit_prior': False}. Best is trial 79 with value: 0.8259040644572012.\u001b[0m\n",
      "\u001b[32m[I 2022-03-28 22:32:46,030]\u001b[0m Trial 166 finished with value: 0.8238907938490697 and parameters: {'alpha': 0.42945515872544815, 'fit_prior': False}. Best is trial 79 with value: 0.8259040644572012.\u001b[0m\n",
      "\u001b[32m[I 2022-03-28 22:32:46,045]\u001b[0m Trial 167 finished with value: 0.823915264503774 and parameters: {'alpha': 0.4280371256053985, 'fit_prior': False}. Best is trial 79 with value: 0.8259040644572012.\u001b[0m\n",
      "\u001b[32m[I 2022-03-28 22:32:46,215]\u001b[0m Trial 168 finished with value: 0.8255028710845189 and parameters: {'alpha': 0.3040107499910535, 'fit_prior': False}. Best is trial 79 with value: 0.8259040644572012.\u001b[0m\n",
      "\u001b[32m[I 2022-03-28 22:32:46,253]\u001b[0m Trial 169 finished with value: 0.8258950991903543 and parameters: {'alpha': 0.21894469070662925, 'fit_prior': False}. Best is trial 79 with value: 0.8259040644572012.\u001b[0m\n",
      "\u001b[32m[I 2022-03-28 22:32:46,296]\u001b[0m Trial 173 finished with value: 0.8258269144504804 and parameters: {'alpha': 0.22528176755548818, 'fit_prior': False}. Best is trial 79 with value: 0.8259040644572012.\u001b[0m\n",
      "\u001b[32m[I 2022-03-28 22:32:46,449]\u001b[0m Trial 170 finished with value: 0.825829900426576 and parameters: {'alpha': 0.22556477752611773, 'fit_prior': False}. Best is trial 79 with value: 0.8259040644572012.\u001b[0m\n",
      "\u001b[32m[I 2022-03-28 22:32:46,458]\u001b[0m Trial 172 finished with value: 0.825876444689411 and parameters: {'alpha': 0.22835884731966996, 'fit_prior': False}. Best is trial 79 with value: 0.8259040644572012.\u001b[0m\n",
      "\u001b[32m[I 2022-03-28 22:32:46,464]\u001b[0m Trial 171 finished with value: 0.8258767799141703 and parameters: {'alpha': 0.21607863080425135, 'fit_prior': False}. Best is trial 79 with value: 0.8259040644572012.\u001b[0m\n",
      "\u001b[32m[I 2022-03-28 22:32:46,640]\u001b[0m Trial 175 finished with value: 0.8258821146804017 and parameters: {'alpha': 0.2193238174794796, 'fit_prior': False}. Best is trial 79 with value: 0.8259040644572012.\u001b[0m\n",
      "\u001b[32m[I 2022-03-28 22:32:46,653]\u001b[0m Trial 174 finished with value: 0.8258860565041394 and parameters: {'alpha': 0.21682301034988574, 'fit_prior': False}. Best is trial 79 with value: 0.8259040644572012.\u001b[0m\n",
      "\u001b[32m[I 2022-03-28 22:32:46,685]\u001b[0m Trial 176 finished with value: 0.8258190037803693 and parameters: {'alpha': 0.22385912774124786, 'fit_prior': False}. Best is trial 79 with value: 0.8259040644572012.\u001b[0m\n",
      "\u001b[32m[I 2022-03-28 22:32:46,734]\u001b[0m Trial 177 finished with value: 0.8247598422645805 and parameters: {'alpha': 0.16426144547012955, 'fit_prior': False}. Best is trial 79 with value: 0.8259040644572012.\u001b[0m\n",
      "\u001b[32m[I 2022-03-28 22:32:46,831]\u001b[0m Trial 178 finished with value: 0.8246531205827999 and parameters: {'alpha': 0.16179216578007805, 'fit_prior': False}. Best is trial 79 with value: 0.8259040644572012.\u001b[0m\n",
      "\u001b[32m[I 2022-03-28 22:32:46,956]\u001b[0m Trial 179 finished with value: 0.8244664959576505 and parameters: {'alpha': 0.15638295518203144, 'fit_prior': False}. Best is trial 79 with value: 0.8259040644572012.\u001b[0m\n",
      "\u001b[32m[I 2022-03-28 22:32:47,009]\u001b[0m Trial 181 finished with value: 0.8246542579760572 and parameters: {'alpha': 0.16165959969810073, 'fit_prior': False}. Best is trial 79 with value: 0.8259040644572012.\u001b[0m\n",
      "\u001b[32m[I 2022-03-28 22:32:47,079]\u001b[0m Trial 180 finished with value: 0.8246528133818525 and parameters: {'alpha': 0.16194002516283354, 'fit_prior': False}. Best is trial 79 with value: 0.8259040644572012.\u001b[0m\n",
      "\u001b[32m[I 2022-03-28 22:32:47,240]\u001b[0m Trial 183 finished with value: 0.8252445901582443 and parameters: {'alpha': 0.18291404896025412, 'fit_prior': False}. Best is trial 79 with value: 0.8259040644572012.\u001b[0m\n",
      "\u001b[32m[I 2022-03-28 22:32:47,246]\u001b[0m Trial 186 finished with value: 0.8252273847848243 and parameters: {'alpha': 0.18212214048273528, 'fit_prior': False}. Best is trial 79 with value: 0.8259040644572012.\u001b[0m\n",
      "\u001b[32m[I 2022-03-28 22:32:47,247]\u001b[0m Trial 184 finished with value: 0.8250287146594758 and parameters: {'alpha': 0.172531271399521, 'fit_prior': False}. Best is trial 79 with value: 0.8259040644572012.\u001b[0m\n",
      "\u001b[32m[I 2022-03-28 22:32:47,281]\u001b[0m Trial 182 finished with value: 0.8248754184343566 and parameters: {'alpha': 0.16751093534023892, 'fit_prior': False}. Best is trial 79 with value: 0.8259040644572012.\u001b[0m\n",
      "\u001b[32m[I 2022-03-28 22:32:47,350]\u001b[0m Trial 185 finished with value: 0.8247589932525027 and parameters: {'alpha': 0.16388802481607156, 'fit_prior': False}. Best is trial 79 with value: 0.8259040644572012.\u001b[0m\n",
      "\u001b[32m[I 2022-03-28 22:32:47,500]\u001b[0m Trial 187 finished with value: 0.8171799659342062 and parameters: {'alpha': 0.059016408232617334, 'fit_prior': False}. Best is trial 79 with value: 0.8259040644572012.\u001b[0m\n",
      "\u001b[32m[I 2022-03-28 22:32:47,570]\u001b[0m Trial 188 finished with value: 0.8135556126916238 and parameters: {'alpha': 0.9794953950819746, 'fit_prior': False}. Best is trial 79 with value: 0.8259040644572012.\u001b[0m\n",
      "\u001b[32m[I 2022-03-28 22:32:47,650]\u001b[0m Trial 189 finished with value: 0.8135244420572589 and parameters: {'alpha': 0.9812152916080288, 'fit_prior': False}. Best is trial 79 with value: 0.8259040644572012.\u001b[0m\n",
      "\u001b[32m[I 2022-03-28 22:32:47,807]\u001b[0m Trial 190 finished with value: 0.8258087288746182 and parameters: {'alpha': 0.2736430933449701, 'fit_prior': False}. Best is trial 79 with value: 0.8259040644572012.\u001b[0m\n",
      "\u001b[32m[I 2022-03-28 22:32:47,813]\u001b[0m Trial 191 finished with value: 0.8258241582559646 and parameters: {'alpha': 0.27393391732069444, 'fit_prior': False}. Best is trial 79 with value: 0.8259040644572012.\u001b[0m\n",
      "\u001b[32m[I 2022-03-28 22:32:47,844]\u001b[0m Trial 194 finished with value: 0.813533634595728 and parameters: {'alpha': 0.9823199210588527, 'fit_prior': False}. Best is trial 79 with value: 0.8259040644572012.\u001b[0m\n",
      "\u001b[32m[I 2022-03-28 22:32:47,900]\u001b[0m Trial 193 finished with value: 0.8178987979608401 and parameters: {'alpha': 0.06450370856666562, 'fit_prior': False}. Best is trial 79 with value: 0.8259040644572012.\u001b[0m\n",
      "\u001b[32m[I 2022-03-28 22:32:47,950]\u001b[0m Trial 192 finished with value: 0.8257686924289285 and parameters: {'alpha': 0.27914803397021426, 'fit_prior': False}. Best is trial 79 with value: 0.8259040644572012.\u001b[0m\n",
      "\u001b[32m[I 2022-03-28 22:32:47,959]\u001b[0m Trial 195 finished with value: 0.810609063179787 and parameters: {'alpha': 1.1430639617078513, 'fit_prior': False}. Best is trial 79 with value: 0.8259040644572012.\u001b[0m\n",
      "\u001b[32m[I 2022-03-28 22:32:47,971]\u001b[0m Trial 196 finished with value: 0.8258734456818448 and parameters: {'alpha': 0.26428099735686034, 'fit_prior': False}. Best is trial 79 with value: 0.8259040644572012.\u001b[0m\n",
      "\u001b[32m[I 2022-03-28 22:32:47,974]\u001b[0m Trial 197 finished with value: 0.8257498153475602 and parameters: {'alpha': 0.2839144420971445, 'fit_prior': False}. Best is trial 79 with value: 0.8259040644572012.\u001b[0m\n",
      "\u001b[32m[I 2022-03-28 22:32:48,039]\u001b[0m Trial 198 finished with value: 0.8258776174450405 and parameters: {'alpha': 0.26397783393113905, 'fit_prior': False}. Best is trial 79 with value: 0.8259040644572012.\u001b[0m\n",
      "\u001b[32m[I 2022-03-28 22:32:48,043]\u001b[0m Trial 199 finished with value: 0.8258857735001136 and parameters: {'alpha': 0.21675876420856013, 'fit_prior': False}. Best is trial 79 with value: 0.8259040644572012.\u001b[0m\n"
     ]
    }
   ],
   "source": [
    "# Define objective we want to optimize\n",
    "def nb_objective(trial, X_train = X_train, y_train = y_train, X_test = X_test, y_test = y_test):\n",
    "\n",
    "    # Define paramters we want to adjust\n",
    "    obj_params = {\n",
    "        'alpha' : trial.suggest_uniform('alpha', 1e-3, 2),\n",
    "        'fit_prior' : trial.suggest_categorical('fit_prior', [True, False])\n",
    "    }\n",
    "\n",
    "    # Create objective model\n",
    "    nb_obj = MultinomialNB(**obj_params)\n",
    "    nb_obj.fit(X_train, y_train)\n",
    "\n",
    "    # Make predictions from fitted model\n",
    "    y_pred = nb_obj.predict_proba(X_test)\n",
    "\n",
    "    # Calculate roc score for model predictions\n",
    "    roc = roc_auc_score(y_true = y_test, y_score = y_pred, average = 'macro', multi_class='ovr')\n",
    "    \n",
    "    # Return roc - metric to be maximized\n",
    "    return roc\n",
    "\n",
    "# Create optuna study to maximise objective\n",
    "nb_study = optuna.create_study(direction='maximize')\n",
    "\n",
    "# Optimize objective for this study over 200 trails\n",
    "nb_study.optimize(nb_objective, n_trials = 200, n_jobs = -1)"
   ]
  },
  {
   "cell_type": "code",
   "execution_count": 19,
   "metadata": {},
   "outputs": [],
   "source": [
    "# Copy best parameters for NB model\n",
    "nb_tuned_params = nb_study.best_params.copy()"
   ]
  },
  {
   "cell_type": "code",
   "execution_count": 20,
   "metadata": {},
   "outputs": [],
   "source": [
    "# Create tuned NB model\n",
    "nb_tuned = MultinomialNB(**nb_tuned_params).fit(**train_data)"
   ]
  },
  {
   "cell_type": "markdown",
   "metadata": {},
   "source": [
    "#### Overall Evaluation"
   ]
  },
  {
   "cell_type": "code",
   "execution_count": 21,
   "metadata": {},
   "outputs": [
    {
     "data": {
      "text/html": [
       "<div>\n",
       "<style scoped>\n",
       "    .dataframe tbody tr th:only-of-type {\n",
       "        vertical-align: middle;\n",
       "    }\n",
       "\n",
       "    .dataframe tbody tr th {\n",
       "        vertical-align: top;\n",
       "    }\n",
       "\n",
       "    .dataframe thead th {\n",
       "        text-align: right;\n",
       "    }\n",
       "</style>\n",
       "<table border=\"1\" class=\"dataframe\">\n",
       "  <thead>\n",
       "    <tr style=\"text-align: right;\">\n",
       "      <th></th>\n",
       "      <th>ROC</th>\n",
       "      <th>Accuracy</th>\n",
       "      <th>Precision</th>\n",
       "      <th>Recall</th>\n",
       "    </tr>\n",
       "  </thead>\n",
       "  <tbody>\n",
       "    <tr>\n",
       "      <th>Train</th>\n",
       "      <td>0.986797</td>\n",
       "      <td>0.920537</td>\n",
       "      <td>0.875362</td>\n",
       "      <td>0.929445</td>\n",
       "    </tr>\n",
       "    <tr>\n",
       "      <th>Test</th>\n",
       "      <td>0.825904</td>\n",
       "      <td>0.690722</td>\n",
       "      <td>0.622757</td>\n",
       "      <td>0.639616</td>\n",
       "    </tr>\n",
       "    <tr>\n",
       "      <th>Validation</th>\n",
       "      <td>0.843725</td>\n",
       "      <td>0.698658</td>\n",
       "      <td>0.634600</td>\n",
       "      <td>0.659299</td>\n",
       "    </tr>\n",
       "  </tbody>\n",
       "</table>\n",
       "</div>"
      ],
      "text/plain": [
       "                 ROC  Accuracy  Precision    Recall\n",
       "Train       0.986797  0.920537   0.875362  0.929445\n",
       "Test        0.825904  0.690722   0.622757  0.639616\n",
       "Validation  0.843725  0.698658   0.634600  0.659299"
      ]
     },
     "execution_count": 21,
     "metadata": {},
     "output_type": "execute_result"
    }
   ],
   "source": [
    "# Calculate model metrics for each dataset\n",
    "model_metrics = {\n",
    "    'Train' : f.evaluate_model(nb_tuned, **train_data),\n",
    "    'Test' : f.evaluate_model(nb_tuned, **test_data),\n",
    "    'Validation' : f.evaluate_model(nb_tuned, **val_data)\n",
    "}\n",
    "\n",
    "# Display metrics in a dataframe\n",
    "pd.DataFrame(model_metrics).T"
   ]
  },
  {
   "cell_type": "markdown",
   "metadata": {},
   "source": [
    "This suggests the model is heavily over fit."
   ]
  },
  {
   "cell_type": "markdown",
   "metadata": {},
   "source": [
    "### Confusion Matrix"
   ]
  },
  {
   "cell_type": "code",
   "execution_count": 22,
   "metadata": {},
   "outputs": [
    {
     "data": {
      "image/png": "[encoded data removed]",
      "text/plain": [
       "<Figure size 576x576 with 2 Axes>"
      ]
     },
     "metadata": {
      "needs_background": "light"
     },
     "output_type": "display_data"
    }
   ],
   "source": [
    "def create_confusion_matrix(model, model_name: str):\n",
    "    \"\"\"Calculates and displays a confusion matrix for model\n",
    "\n",
    "    Args:\n",
    "        model: model to evaluate\n",
    "        model_name (str): name of model\n",
    "    \"\"\"\n",
    "\n",
    "    # Create figure and axis to display plot\n",
    "    fig, ax = plt.subplots(1, 1, figsize=(8, 8))\n",
    "\n",
    "    # Calculates confusion matrix\n",
    "    plot_confusion_matrix(model, X_test, y_test, cmap=\"Blues\", ax=ax)\n",
    "\n",
    "    # Sets title for plot\n",
    "    plt.title(f\"Confusion Matrix for {model_name} Model\")\n",
    "\n",
    "    # Shows plot\n",
    "    plt.show()\n",
    "\n",
    "# Calculate confusion matrix for Tuned NB model\n",
    "create_confusion_matrix(nb_tuned, \"Naive Bayes\")"
   ]
  }
 ],
 "metadata": {
  "interpreter": {
   "hash": "1c31da5edd4aad8fb53d12d73a780cc43060c0f39f08ff1fc327c1bcdbfa7e83"
  },
  "kernelspec": {
   "display_name": "Python 3.9.10 ('data_analytics')",
   "language": "python",
   "name": "python3"
  },
  "language_info": {
   "codemirror_mode": {
    "name": "ipython",
    "version": 3
   },
   "file_extension": ".py",
   "mimetype": "text/x-python",
   "name": "python",
   "nbconvert_exporter": "python",
   "pygments_lexer": "ipython3",
   "version": "3.9.10"
  },
  "orig_nbformat": 4
 },
 "nbformat": 4,
 "nbformat_minor": 2
}
