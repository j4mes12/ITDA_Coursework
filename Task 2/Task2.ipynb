{
 "cells": [
  {
   "cell_type": "markdown",
   "id": "7a2ee115-d861-43eb-8006-f4728256c5c4",
   "metadata": {},
   "source": [
    "# SEC Filings"
   ]
  },
  {
   "cell_type": "markdown",
   "id": "7d151a51-ff84-4583-b58b-87d9bbac18f9",
   "metadata": {},
   "source": [
    "The data is provided in zipped text files. Unzip the file and place the 'SEC-filings' directory into the './data' directory. \n",
    "\n",
    "A related dataset in similar format is the conll2003 dataset, available from [HuggingFace](https://huggingface.co/datasets/conll2003). This could be used as a source of additional training data, but note it contains a different kind of text (different 'domain'). "
   ]
  },
  {
   "cell_type": "code",
   "execution_count": 2,
   "metadata": {},
   "outputs": [
    {
     "name": "stderr",
     "output_type": "stream",
     "text": [
      "/opt/anaconda3/envs/data_analytics/lib/python3.9/site-packages/xgboost/compat.py:36: FutureWarning: pandas.Int64Index is deprecated and will be removed from pandas in a future version. Use pandas.Index with the appropriate dtype instead.\n",
      "  from pandas import MultiIndex, Int64Index\n"
     ]
    }
   ],
   "source": [
    "%load_ext autoreload\n",
    "%autoreload 2\n",
    "\n",
    "# Data Extraction\n",
    "import sys\n",
    "sys.path.append('..')\n",
    "\n",
    "import data_loader\n",
    "import warnings\n",
    "import functions as f\n",
    "import params as p\n",
    "import eli5\n",
    "import seaborn as sns\n",
    "\n",
    "# Other\n",
    "import matplotlib.pyplot as plt\n",
    "import nltk\n",
    "from sklearn.exceptions import UndefinedMetricWarning\n",
    "from sklearn_crfsuite import CRF\n",
    "from sklearn_crfsuite.metrics import flat_classification_report, flat_f1_score\n",
    "from sklearn.metrics import make_scorer, confusion_matrix, ConfusionMatrixDisplay\n",
    "from sklearn.model_selection import RandomizedSearchCV\n",
    "from collections import Counter\n",
    "\n",
    "import optuna"
   ]
  },
  {
   "cell_type": "markdown",
   "metadata": {},
   "source": [
    "## Settings"
   ]
  },
  {
   "cell_type": "code",
   "execution_count": 3,
   "metadata": {},
   "outputs": [],
   "source": [
    "warnings.simplefilter(action='ignore', category=FutureWarning)\n",
    "warnings.simplefilter(action = 'ignore', category = UndefinedMetricWarning)"
   ]
  },
  {
   "cell_type": "markdown",
   "metadata": {},
   "source": [
    "## Import Data"
   ]
  },
  {
   "cell_type": "code",
   "execution_count": 4,
   "metadata": {},
   "outputs": [
    {
     "name": "stdout",
     "output_type": "stream",
     "text": [
      "Loading the original training set: \n",
      "Number of sentences loaded = 1152\n",
      "Number of unique labels: ['I-LOC' 'I-MISC' 'I-ORG' 'I-PER' 'O']\n",
      "\n",
      "Loading the test set: \n",
      "Number of sentences loaded = 303\n",
      "Number of unique labels: ['I-LOC' 'I-MISC' 'I-ORG' 'I-PER' 'O']\n"
     ]
    }
   ],
   "source": [
    "(\n",
    "    train_sentences_ner, train_labels_ner, test_sentences_ner, test_labels_ner, val_sentences_ner, val_labels_ner,\n",
    "    ) = data_loader.import_task2_data()"
   ]
  },
  {
   "cell_type": "markdown",
   "metadata": {},
   "source": [
    "# Task 2 Answer"
   ]
  },
  {
   "cell_type": "markdown",
   "metadata": {},
   "source": [
    "### Clean Data"
   ]
  },
  {
   "cell_type": "code",
   "execution_count": 5,
   "metadata": {},
   "outputs": [],
   "source": [
    "def crf_word_preprocessing(word, ref):\n",
    "\n",
    "    word_features = {\n",
    "        'bias' : 1.0,\n",
    "        f'word_{ref}_lower' : word.lower(),\n",
    "        f'word_{ref}_end3' : word[-3:],\n",
    "        f'word_{ref}_end2' : word[-2:],\n",
    "        f'word_{ref}_beg' : word[:3],\n",
    "        f'word_{ref}_isupper' : word.isupper(),\n",
    "        f'word_{ref}_istitle' : word.istitle(),\n",
    "        f'word_{ref}_isdigit' : word.isdigit(),\n",
    "        f'word_{ref}_postag' : nltk.pos_tag([word])[0][1]\n",
    "        }\n",
    "\n",
    "    return word_features"
   ]
  },
  {
   "cell_type": "code",
   "execution_count": 6,
   "metadata": {},
   "outputs": [],
   "source": [
    "def crf_sentence_preprocessing(sentence):\n",
    "\n",
    "    sentence_features = []\n",
    "\n",
    "    for idx in range(len(sentence)):\n",
    "\n",
    "        word = sentence[idx]\n",
    "\n",
    "        word_features = crf_word_preprocessing(word, 0)\n",
    "\n",
    "        if idx > 0:\n",
    "            word_features = {\n",
    "                **word_features,\n",
    "                **crf_word_preprocessing(sentence[idx - 1], -1)\n",
    "                }\n",
    "        else:\n",
    "            word_features['BOS'] = True\n",
    "\n",
    "        if idx < len(sentence) - 1:\n",
    "            word_features = {\n",
    "                **word_features,\n",
    "                **crf_word_preprocessing(sentence[idx + 1], +1)\n",
    "            }\n",
    "        else:\n",
    "            word_features['EOS'] = True\n",
    "\n",
    "        sentence_features.append(word_features)\n",
    "\n",
    "    return sentence_features"
   ]
  },
  {
   "cell_type": "code",
   "execution_count": 7,
   "metadata": {},
   "outputs": [],
   "source": [
    "def crf_data_preprocessing(data):\n",
    "    opt = [crf_sentence_preprocessing(sentence) for sentence in data]\n",
    "    print('data:', len(data), 'out:', len(opt))\n",
    "    return opt"
   ]
  },
  {
   "cell_type": "markdown",
   "metadata": {},
   "source": [
    "### Preprocess Data"
   ]
  },
  {
   "cell_type": "code",
   "execution_count": 8,
   "metadata": {},
   "outputs": [
    {
     "name": "stdout",
     "output_type": "stream",
     "text": [
      "data: 864 out: 864\n",
      "data: 303 out: 303\n",
      "data: 288 out: 288\n"
     ]
    }
   ],
   "source": [
    "X_train = crf_data_preprocessing(train_sentences_ner)\n",
    "X_test = crf_data_preprocessing(test_sentences_ner)\n",
    "X_val = crf_data_preprocessing(val_sentences_ner)"
   ]
  },
  {
   "cell_type": "markdown",
   "metadata": {},
   "source": [
    "### NER Modelling"
   ]
  },
  {
   "cell_type": "code",
   "execution_count": 9,
   "metadata": {},
   "outputs": [
    {
     "data": {
      "text/plain": [
       "CRF(keep_tempfiles=None)"
      ]
     },
     "execution_count": 9,
     "metadata": {},
     "output_type": "execute_result"
    }
   ],
   "source": [
    "tagger = CRF()\n",
    "tagger.fit(\n",
    "    X = X_train,\n",
    "    y = train_labels_ner,\n",
    ")"
   ]
  },
  {
   "cell_type": "code",
   "execution_count": 10,
   "metadata": {},
   "outputs": [
    {
     "data": {
      "text/html": [
       "<div>\n",
       "<style scoped>\n",
       "    .dataframe tbody tr th:only-of-type {\n",
       "        vertical-align: middle;\n",
       "    }\n",
       "\n",
       "    .dataframe tbody tr th {\n",
       "        vertical-align: top;\n",
       "    }\n",
       "\n",
       "    .dataframe thead th {\n",
       "        text-align: right;\n",
       "    }\n",
       "</style>\n",
       "<table border=\"1\" class=\"dataframe\">\n",
       "  <thead>\n",
       "    <tr style=\"text-align: right;\">\n",
       "      <th></th>\n",
       "      <th>F1 Score</th>\n",
       "      <th>Accuracy</th>\n",
       "      <th>Precision</th>\n",
       "      <th>Recall</th>\n",
       "    </tr>\n",
       "  </thead>\n",
       "  <tbody>\n",
       "    <tr>\n",
       "      <th>Train</th>\n",
       "      <td>0.973249</td>\n",
       "      <td>0.998070</td>\n",
       "      <td>0.996275</td>\n",
       "      <td>0.951807</td>\n",
       "    </tr>\n",
       "    <tr>\n",
       "      <th>Validation</th>\n",
       "      <td>0.908929</td>\n",
       "      <td>0.994802</td>\n",
       "      <td>0.956850</td>\n",
       "      <td>0.875000</td>\n",
       "    </tr>\n",
       "  </tbody>\n",
       "</table>\n",
       "</div>"
      ],
      "text/plain": [
       "            F1 Score  Accuracy  Precision    Recall\n",
       "Train       0.973249  0.998070   0.996275  0.951807\n",
       "Validation  0.908929  0.994802   0.956850  0.875000"
      ]
     },
     "execution_count": 10,
     "metadata": {},
     "output_type": "execute_result"
    }
   ],
   "source": [
    "f.evaluate_model(\n",
    "    tagger,\n",
    "    X_train = X_train,\n",
    "    X_val = X_val,\n",
    "    y_train = train_labels_ner,\n",
    "    y_val=val_labels_ner,)"
   ]
  },
  {
   "cell_type": "code",
   "execution_count": 11,
   "metadata": {},
   "outputs": [],
   "source": [
    "y_pred = tagger.predict(X_val)"
   ]
  },
  {
   "cell_type": "code",
   "execution_count": 12,
   "metadata": {},
   "outputs": [
    {
     "data": {
      "text/plain": [
       "['I-PER', 'I-ORG', 'I-LOC', 'I-MISC']"
      ]
     },
     "execution_count": 12,
     "metadata": {},
     "output_type": "execute_result"
    }
   ],
   "source": [
    "labels = list(tagger.classes_)\n",
    "labels.remove('O')\n",
    "labels"
   ]
  },
  {
   "cell_type": "code",
   "execution_count": 13,
   "metadata": {},
   "outputs": [
    {
     "name": "stdout",
     "output_type": "stream",
     "text": [
      "F1 Score (train): 0.9732491978487775\n",
      "F1 Score (validation): 0.9089286487839587\n"
     ]
    }
   ],
   "source": [
    "print('F1 Score (train):', flat_f1_score(train_labels_ner, tagger.predict(X_train), average='weighted', labels=labels))\n",
    "print('F1 Score (validation):', flat_f1_score(val_labels_ner, tagger.predict(X_val), average='weighted', labels=labels))"
   ]
  },
  {
   "cell_type": "markdown",
   "metadata": {},
   "source": [
    "### Improving Robustness of Model"
   ]
  },
  {
   "cell_type": "code",
   "execution_count": 14,
   "metadata": {},
   "outputs": [
    {
     "data": {
      "text/plain": [
       "CRF(c1=1, c2=0.0001, keep_tempfiles=None)"
      ]
     },
     "execution_count": 14,
     "metadata": {},
     "output_type": "execute_result"
    }
   ],
   "source": [
    "tuned_crf = CRF(\n",
    "    c1 = 1,\n",
    "    c2 = 0.0001\n",
    ")\n",
    "\n",
    "tuned_crf.fit(X_train, train_labels_ner)"
   ]
  },
  {
   "cell_type": "code",
   "execution_count": 15,
   "metadata": {},
   "outputs": [
    {
     "data": {
      "text/html": [
       "<div>\n",
       "<style scoped>\n",
       "    .dataframe tbody tr th:only-of-type {\n",
       "        vertical-align: middle;\n",
       "    }\n",
       "\n",
       "    .dataframe tbody tr th {\n",
       "        vertical-align: top;\n",
       "    }\n",
       "\n",
       "    .dataframe thead th {\n",
       "        text-align: right;\n",
       "    }\n",
       "</style>\n",
       "<table border=\"1\" class=\"dataframe\">\n",
       "  <thead>\n",
       "    <tr style=\"text-align: right;\">\n",
       "      <th></th>\n",
       "      <th>F1 Score</th>\n",
       "      <th>Accuracy</th>\n",
       "      <th>Precision</th>\n",
       "      <th>Recall</th>\n",
       "    </tr>\n",
       "  </thead>\n",
       "  <tbody>\n",
       "    <tr>\n",
       "      <th>Train</th>\n",
       "      <td>0.912832</td>\n",
       "      <td>0.994209</td>\n",
       "      <td>0.974026</td>\n",
       "      <td>0.863167</td>\n",
       "    </tr>\n",
       "    <tr>\n",
       "      <th>Validation</th>\n",
       "      <td>0.904823</td>\n",
       "      <td>0.994711</td>\n",
       "      <td>0.949426</td>\n",
       "      <td>0.869565</td>\n",
       "    </tr>\n",
       "    <tr>\n",
       "      <th>Test</th>\n",
       "      <td>0.705176</td>\n",
       "      <td>0.986564</td>\n",
       "      <td>0.882777</td>\n",
       "      <td>0.619266</td>\n",
       "    </tr>\n",
       "  </tbody>\n",
       "</table>\n",
       "</div>"
      ],
      "text/plain": [
       "            F1 Score  Accuracy  Precision    Recall\n",
       "Train       0.912832  0.994209   0.974026  0.863167\n",
       "Validation  0.904823  0.994711   0.949426  0.869565\n",
       "Test        0.705176  0.986564   0.882777  0.619266"
      ]
     },
     "execution_count": 15,
     "metadata": {},
     "output_type": "execute_result"
    }
   ],
   "source": [
    "eval_results = f.evaluate_model(\n",
    "    tuned_crf,\n",
    "    X_train = X_train,\n",
    "    X_val = X_val,\n",
    "    y_train = train_labels_ner,\n",
    "    y_val = val_labels_ner,\n",
    "    X_test = X_test,\n",
    "    y_test = test_labels_ner)\n",
    "\n",
    "eval_results"
   ]
  },
  {
   "cell_type": "code",
   "execution_count": 16,
   "metadata": {},
   "outputs": [
    {
     "data": {
      "image/png": "[encoded data removed]",
      "text/plain": [
       "<Figure size 1080x576 with 1 Axes>"
      ]
     },
     "metadata": {
      "needs_background": "light"
     },
     "output_type": "display_data"
    }
   ],
   "source": [
    "melt_data = eval_results.reset_index().melt(id_vars = 'index')\n",
    "\n",
    "fig, ax = plt.subplots(1,1,figsize=(15, 8))\n",
    "\n",
    "sns.barplot(\n",
    "    ax = ax,\n",
    "    data = melt_data,\n",
    "    x = 'variable',\n",
    "    y = 'value',\n",
    "    hue = 'index'\n",
    ").set(label = 'Datasets')\n",
    "\n",
    "plt.legend(loc = 'upper right')\n",
    "plt.xlabel('Performance Metric')\n",
    "plt.ylabel('Value')\n",
    "plt.ylim(0.6, 1)\n",
    "plt.title('Figure 1: Performance Metrics for each Dataset', fontsize = 16)\n",
    "plt.savefig('./final_metrics.png')\n",
    "plt.show()"
   ]
  },
  {
   "cell_type": "markdown",
   "metadata": {},
   "source": [
    "### Displaying Results"
   ]
  },
  {
   "cell_type": "code",
   "execution_count": 17,
   "metadata": {},
   "outputs": [
    {
     "data": {
      "image/png": "[encoded data removed]",
      "text/plain": [
       "<Figure size 576x576 with 2 Axes>"
      ]
     },
     "metadata": {
      "needs_background": "light"
     },
     "output_type": "display_data"
    }
   ],
   "source": [
    "def create_confusion_matrix(y_true, y_pred, ner_labels):\n",
    "\n",
    "    ner_labels.append('O')\n",
    "\n",
    "    fig, ax = plt.subplots(1, 1, figsize = (8, 8))\n",
    "\n",
    "    true = [label for sent_list in y_true for label in sent_list]\n",
    "    pred = [label for sent_list in y_pred for label in sent_list]\n",
    "\n",
    "    cm = confusion_matrix(true, pred, ner_labels)\n",
    "\n",
    "    disp = ConfusionMatrixDisplay(confusion_matrix=cm, display_labels=ner_labels)\n",
    "    disp.plot(cmap = 'Blues', ax = ax)\n",
    "\n",
    "    plt.title('Figure 2: Tuned CRF Tagger\\nConfusion Matrix', fontdict={'fontsize' : 18})\n",
    "\n",
    "    plt.savefig('./crf_confusion_matrix.png')\n",
    "\n",
    "    plt.show()\n",
    "\n",
    "create_confusion_matrix(\n",
    "    y_pred = tuned_crf.predict(X_test),\n",
    "    y_true = test_labels_ner,\n",
    "    ner_labels = labels\n",
    ")"
   ]
  },
  {
   "cell_type": "code",
   "execution_count": 18,
   "metadata": {},
   "outputs": [
    {
     "name": "stdout",
     "output_type": "stream",
     "text": [
      "              precision    recall  f1-score   support\n",
      "\n",
      "       I-PER       1.00      0.89      0.94       236\n",
      "       I-ORG       0.64      0.24      0.35       114\n",
      "       I-LOC       0.87      0.42      0.56        79\n",
      "      I-MISC       1.00      0.14      0.25         7\n",
      "           O       0.99      1.00      0.99     12812\n",
      "\n",
      "    accuracy                           0.99     13248\n",
      "   macro avg       0.90      0.54      0.62     13248\n",
      "weighted avg       0.98      0.99      0.98     13248\n",
      "\n"
     ]
    }
   ],
   "source": [
    "print(flat_classification_report(\n",
    "    y_true=test_labels_ner,\n",
    "    y_pred=tuned_crf.predict(X_test),\n",
    "    labels = labels\n",
    "))"
   ]
  },
  {
   "cell_type": "markdown",
   "metadata": {},
   "source": [
    "### Eli5"
   ]
  },
  {
   "cell_type": "code",
   "execution_count": 45,
   "metadata": {},
   "outputs": [
    {
     "data": {
      "image/png": "[encoded data removed]",
      "text/plain": [
       "<Figure size 720x576 with 1 Axes>"
      ]
     },
     "metadata": {
      "needs_background": "light"
     },
     "output_type": "display_data"
    }
   ],
   "source": [
    "test = eli5.formatters.explain_weights_dfs(tuned_crf)['targets']\n",
    "test['weight_sort'] = abs(test['weight'])\n",
    "test = test.nlargest(10, columns = 'weight_sort')\n",
    "\n",
    "fig, ax = plt.subplots(1,1, figsize = (10, 8))\n",
    "\n",
    "sns.barplot(\n",
    "    ax = ax,\n",
    "    data = test,\n",
    "    y = 'feature',\n",
    "    x = 'weight',\n",
    "    hue = 'target',\n",
    "    dodge=False\n",
    ")\n",
    "plt.legend(loc = 'lower right')\n",
    "plt.title('Figure 3: Feature Importance plot of CRF Tagger (10 Largest Impacts)')\n",
    "plt.ylabel('Feature')\n",
    "plt.xlabel('Weight')\n",
    "plt.show()"
   ]
  },
  {
   "cell_type": "markdown",
   "metadata": {},
   "source": [
    "## Financial Phrasebank"
   ]
  },
  {
   "cell_type": "code",
   "execution_count": 46,
   "metadata": {},
   "outputs": [
    {
     "name": "stderr",
     "output_type": "stream",
     "text": [
      "Reusing dataset financial_phrasebank (/Users/jamesstephenson/.cache/huggingface/datasets/financial_phrasebank/sentences_50agree/1.0.0/a6d468761d4e0c8ae215c77367e1092bead39deb08fbf4bffd7c0a6991febbf0)\n",
      "100%|██████████| 1/1 [00:00<00:00, 41.28it/s]"
     ]
    },
    {
     "name": "stdout",
     "output_type": "stream",
     "text": [
      "The dataset is a dictionary with two splits: \n",
      "\n",
      "DatasetDict({\n",
      "    train: Dataset({\n",
      "        features: ['sentence', 'label'],\n",
      "        num_rows: 4846\n",
      "    })\n",
      "})\n",
      "How many instances in the train dataset? \n",
      "\n",
      "3876\n",
      "\n",
      "What does one instance look like? \n",
      "\n",
      "a January 11 , 2010 EPHC board of directors has approved an increase in the quarterly dividend from $ 0.03 to $ 0.05 per share .\n",
      "instances in the validation dataset \n",
      "\n",
      "969\n",
      "\n",
      "instances in the test dataset \n",
      "\n",
      "970\n"
     ]
    },
    {
     "name": "stderr",
     "output_type": "stream",
     "text": [
      "\n"
     ]
    }
   ],
   "source": [
    "(train_sentences_fp, test_sentences_fp, val_sentences_fp, train_labels_fp, test_labels_fp, val_labels_fp,\n",
    "    ) = data_loader.import_task1_data()\n",
    "\n",
    "sentences_fp = train_sentences_fp + test_sentences_fp + val_sentences_fp\n",
    "labels_fp = train_labels_fp + test_labels_fp + val_labels_fp"
   ]
  },
  {
   "cell_type": "markdown",
   "metadata": {},
   "source": [
    "### Process Data"
   ]
  },
  {
   "cell_type": "code",
   "execution_count": 47,
   "metadata": {},
   "outputs": [],
   "source": [
    "def vectorise_data(lst):\n",
    "\n",
    "    return [nltk.word_tokenize(sentence) for sentence in lst]"
   ]
  },
  {
   "cell_type": "code",
   "execution_count": 48,
   "metadata": {},
   "outputs": [],
   "source": [
    "sentences_fp = vectorise_data(sentences_fp)"
   ]
  },
  {
   "cell_type": "code",
   "execution_count": 49,
   "metadata": {},
   "outputs": [],
   "source": [
    "labels_sent_scores = list(map(lambda x: {0: -1, 1: 0, 2: 1}[x], labels_fp))"
   ]
  },
  {
   "cell_type": "code",
   "execution_count": 50,
   "metadata": {},
   "outputs": [
    {
     "name": "stdout",
     "output_type": "stream",
     "text": [
      "data: 4846 out: 4846\n"
     ]
    }
   ],
   "source": [
    "sentences_fp_pp = crf_data_preprocessing(sentences_fp)"
   ]
  },
  {
   "cell_type": "code",
   "execution_count": 51,
   "metadata": {},
   "outputs": [],
   "source": [
    "fp_preds = tuned_crf.predict(sentences_fp_pp)"
   ]
  },
  {
   "cell_type": "code",
   "execution_count": 69,
   "metadata": {},
   "outputs": [
    {
     "data": {
      "text/plain": [
       "{'Bank': 14,\n",
       " 'Group': 3,\n",
       " 'Nordea': 4,\n",
       " 'Sampo': 2,\n",
       " 'YIT': 3,\n",
       " 'Corporation': 25,\n",
       " 'Hamina': 0,\n",
       " 'Terminal': 0,\n",
       " 'Services': 1,\n",
       " 'Ltd': 0,\n",
       " 'and': 2,\n",
       " 'Kaukomarkkinat': 0,\n",
       " 'Ltd.': 0,\n",
       " 'Finnish': 6,\n",
       " 'Ahlstrom': 2,\n",
       " 'Kaleva': 0,\n",
       " 'Kustannus': 0,\n",
       " 'Oy': 0,\n",
       " 'Rapala': -2,\n",
       " 'VMC': -2,\n",
       " 'National': 2,\n",
       " 'Fund': 0,\n",
       " 'Componenta': 0,\n",
       " 'HKScan': 0,\n",
       " 'John': 0,\n",
       " 'F': 0,\n",
       " 'Kennedy': 0,\n",
       " 'Stewart': 0,\n",
       " 'International': 2,\n",
       " 'Nokia': 2,\n",
       " 'Corp.': 2,\n",
       " 'Goldman': -1,\n",
       " 'Sachs': -1,\n",
       " \"'\": -1,\n",
       " 'Whitehall': 0,\n",
       " 'Street': 0,\n",
       " 'Real': 0,\n",
       " 'Estate': 0,\n",
       " 'Funds': 0,\n",
       " 'U.S.': 2,\n",
       " 'Securities': 0,\n",
       " 'Exchange': 0,\n",
       " 'Commission': 0,\n",
       " 'Neste': 0,\n",
       " 'Oil': 0,\n",
       " 'of': 3,\n",
       " 'Glaston': 0,\n",
       " 'Technologies': -1,\n",
       " 'Big': 1,\n",
       " 'Bear': 1,\n",
       " 'Erdenet': 1,\n",
       " 'Mining': 1,\n",
       " 'Pohjola': 2,\n",
       " 'Italy': 0,\n",
       " 'Global': 1,\n",
       " 'Research': 0,\n",
       " 'Pohjoa': 0,\n",
       " 'M.': 0,\n",
       " 'Danske': 2,\n",
       " 'bank': 3,\n",
       " 'financial': 1,\n",
       " 'solutions': 2,\n",
       " 'developer': 2,\n",
       " 'Basware': 3,\n",
       " 'London': -1,\n",
       " 'Monday': -1,\n",
       " 'Economic': 0,\n",
       " 'Affairs': 0,\n",
       " 'Minister': 0,\n",
       " 'Trojan': 0,\n",
       " 'United': -1,\n",
       " 'Corp': -2,\n",
       " 'Paris': 0,\n",
       " 'Hilton': 0,\n",
       " 'Prom': 0,\n",
       " 'Stonesoft': 0,\n",
       " 'Food': -1,\n",
       " 'Workers': -1,\n",
       " 'Union': 0,\n",
       " 'SEL': -1,\n",
       " 'Tesoro': 0,\n",
       " 'Africa': 0,\n",
       " 'Logistics': 0,\n",
       " 'terminal': 0,\n",
       " 'Societe': 0,\n",
       " \"d'Exploitation\": 0,\n",
       " 'du': 0,\n",
       " 'Kazakhstan': 1,\n",
       " \"'s\": 1,\n",
       " 'Ordabasy': 1,\n",
       " 'Dubbed': 1,\n",
       " 'Money': 1,\n",
       " 'Solutions': 0,\n",
       " 'Done': 0,\n",
       " 'Incap': 1,\n",
       " 'Stock': 1,\n",
       " 'Amer': 0,\n",
       " 'Sports': 0,\n",
       " 'Timber': 0,\n",
       " 'Exporters': 0,\n",
       " 'Shanghai': 1,\n",
       " 'Industrial': 0,\n",
       " 'Investment': 1,\n",
       " 'Holdings': 1,\n",
       " 'Co': 1,\n",
       " 'Tectia': 1,\n",
       " 'HELSINKI': -2,\n",
       " 'Thomson': -2,\n",
       " 'Financial': -2,\n",
       " 'TELECOMWORLDWIRE-7': 1,\n",
       " 'April': 1,\n",
       " '2006-TJ': 1,\n",
       " 'Plc': 1,\n",
       " 'Chairman': 0,\n",
       " 'Michael': 0,\n",
       " 'Hornborg': 0,\n",
       " 'Microsoft': 0,\n",
       " 'Eastern': 1,\n",
       " 'Europe': 0,\n",
       " 'Mustonen': 0,\n",
       " 'Tuomas': 0,\n",
       " 'M': 1,\n",
       " 'OYJ': 0,\n",
       " 'Swedish': 1,\n",
       " 'retail': 0,\n",
       " 'Danish': 1,\n",
       " 'Fiskars': 0,\n",
       " 'Loudeye': 0,\n",
       " 'Simon': 1,\n",
       " 'Button': 1,\n",
       " 'China': 0,\n",
       " 'State': 0,\n",
       " 'Construction': 1,\n",
       " 'Engineering': 0,\n",
       " 'Washington': 0,\n",
       " 'News': 0,\n",
       " 'NORDIC': 1,\n",
       " 'BUSINESS': 1,\n",
       " 'REPORT-26': 1,\n",
       " 'June': 1,\n",
       " '2006-Metso': 1,\n",
       " 'Metso': 1,\n",
       " 'Shares': 1,\n",
       " 'Seppo': 0,\n",
       " 'Parvi': 0,\n",
       " 'headquarters': 0,\n",
       " 'Marimekko': -1,\n",
       " 'Chief': 0,\n",
       " 'Officer': 0,\n",
       " 'Jim': 0,\n",
       " 'Heindlmeyer': 0,\n",
       " 'Business': 0,\n",
       " 'Human': 0,\n",
       " 'Resources': 0,\n",
       " 'NSN': 0,\n",
       " 'Marubeni': 2,\n",
       " 'Von': 0,\n",
       " 'Koskull': 0,\n",
       " 'Shavlik': -1,\n",
       " 'LLC': -1,\n",
       " 'Sanoma': 0,\n",
       " 'Magazines': 0,\n",
       " 'Service': 0,\n",
       " 'Credit': 1,\n",
       " 'automation': 0,\n",
       " 'Cencorp': 0,\n",
       " 'Royal': 1,\n",
       " 'Suominen': 3,\n",
       " 'ABB': 1,\n",
       " 'Deutsche': 1,\n",
       " 'Norwegian': 1,\n",
       " 'Scandinavian': 1,\n",
       " 'Electric': 1,\n",
       " 'Systems': 1,\n",
       " 'Nordic': 0,\n",
       " 'commercial': 1,\n",
       " 'AB': 1,\n",
       " 'Rautaruukki': 2,\n",
       " 'Tieto': 0,\n",
       " 'T': 0,\n",
       " 'Kemira': 0,\n",
       " 'Chemicals': 1,\n",
       " 'Inc.': 0,\n",
       " 'FIM': 0,\n",
       " 'Swiss': 0,\n",
       " 'Suisse': 0,\n",
       " 'District': 0,\n",
       " 'Judge': 0,\n",
       " 'Douglas': 0,\n",
       " 'P.': 0,\n",
       " 'Woodlock': 0,\n",
       " 'Central': 1,\n",
       " 'Corporate': 1,\n",
       " 'Teleste': 0,\n",
       " 'Finland': 1,\n",
       " 'Digia': 0,\n",
       " 'USA': 0,\n",
       " 'Wartsila': 0,\n",
       " 'Uponor': 1,\n",
       " 'Raute': 0,\n",
       " 'STOCK': -1,\n",
       " 'Elisa': 0,\n",
       " 'Decker': 0,\n",
       " 'Ryobi': 0,\n",
       " 'OKO': 1,\n",
       " 'Refining': 0,\n",
       " 'Operation': 0,\n",
       " 'Asset': 0,\n",
       " 'Summary': 0,\n",
       " 'Report': 0,\n",
       " 'Assets': 0,\n",
       " 'Welsh': 0,\n",
       " 'player': 0,\n",
       " 'Becky': 0,\n",
       " 'Brewerton': 0,\n",
       " 'Verizon': 0,\n",
       " 'Communications': 0,\n",
       " 'NTT': 0,\n",
       " 'Japan': 0,\n",
       " 'A-S': 1,\n",
       " 'Helsinki': 0,\n",
       " 'Branch': 0,\n",
       " 'Non-Food': 0,\n",
       " 'Center': 0,\n",
       " 'KY': 0,\n",
       " 'Competing': 0,\n",
       " 'Vie': 0,\n",
       " 'Aktia': 1,\n",
       " 'K': 0,\n",
       " 'Muling': 0,\n",
       " 'Kemian': 0,\n",
       " 'Wood': 0,\n",
       " 'Products': 1,\n",
       " 'Co.': 0,\n",
       " 'Alma': 0,\n",
       " 'Media': 0,\n",
       " 'PRESS': 0,\n",
       " 'RELEASE': -1,\n",
       " 'March': 0,\n",
       " 'American': 1,\n",
       " 'Airlines': 1,\n",
       " 'Inc': 1,\n",
       " 'Kesko': -1,\n",
       " 'Westpac': 0,\n",
       " 'Banking': 0,\n",
       " 'Canadian': 0,\n",
       " 'group': 0,\n",
       " 'Belvedere': 0,\n",
       " 'Tulikivi': 0,\n",
       " 'Altia': 0,\n",
       " 'Los': 0,\n",
       " 'Angeles-based': 0,\n",
       " 'Pacific': 0,\n",
       " 'Office': 0,\n",
       " 'Properties': 0,\n",
       " 'Trust': 0,\n",
       " 'Motorola': 0,\n",
       " 'Mr.': 0,\n",
       " 'Kari': 0,\n",
       " 'Stadigh': 0,\n",
       " 'M-real': 1,\n",
       " 'Release': 0,\n",
       " 'Sappi': 0,\n",
       " 'Green': 0,\n",
       " 'Building': 0,\n",
       " 'Council': 0,\n",
       " 'messaging': 1,\n",
       " 'Tecnomen': 1,\n",
       " 'Meadville': 0,\n",
       " 'Limited': 1,\n",
       " 'British': 0,\n",
       " 'Airways': 0,\n",
       " 'COMPTEL': 0,\n",
       " 'CORPORATION': 1,\n",
       " 'Sami': 0,\n",
       " 'Ervio': 0,\n",
       " 'President': 0,\n",
       " 'South': 1,\n",
       " 'African': 1,\n",
       " 'Mutual': 1,\n",
       " '&': 1,\n",
       " 'Federal': 1,\n",
       " 'Insurance': 1,\n",
       " 'Company': 2,\n",
       " 'Hong': 1,\n",
       " 'Kong-listed': 1,\n",
       " 'Standard': 1,\n",
       " 'Chartered': 1,\n",
       " 'Estonia': 1,\n",
       " 'Vahur': 1,\n",
       " 'Kraft': 1,\n",
       " 'Reuters': 0,\n",
       " 'European': 2,\n",
       " 'Executive': 0,\n",
       " 'Vice': 0,\n",
       " 'Mr': 0,\n",
       " 'K.R': 0,\n",
       " 'KESKO': 1,\n",
       " 'Cablevision': 0,\n",
       " 'CVC': 0,\n",
       " 'Their': 0,\n",
       " 'Madison': 0,\n",
       " 'Square': 0,\n",
       " 'Garden': 0,\n",
       " 'Avalon': 0,\n",
       " 'Minerals': 0,\n",
       " 'ASX': 0,\n",
       " 'Fitness': 1,\n",
       " 'Press': 0,\n",
       " 'Intel': 1,\n",
       " 'Absolut': 0,\n",
       " 'Jaston': 0,\n",
       " 'Groep': 0,\n",
       " 'B.V.': 0,\n",
       " 'Post': 1,\n",
       " 'L': 0,\n",
       " 'INCAP': 0,\n",
       " \"'S\": 0,\n",
       " 'DIRECTED': 0,\n",
       " 'SHARE': 0,\n",
       " 'ISSUE': 0,\n",
       " 'WAS': 0,\n",
       " 'SUBSCRIBED': 0,\n",
       " 'IN': 0,\n",
       " 'FULL': 0,\n",
       " 'The': 0,\n",
       " 'Board': 0,\n",
       " 'Video': 0,\n",
       " 'Internal': 0,\n",
       " 'Revenue': 0,\n",
       " 'Chinese': 0,\n",
       " 'investor': 0,\n",
       " 'Biotie': 0,\n",
       " 'Therapies': 0,\n",
       " 'Koistinen': 0,\n",
       " 'Siemens': 0,\n",
       " 'Networks': 0,\n",
       " 'Vietnam': 2,\n",
       " 'Chemical': 2,\n",
       " 'System': 0,\n",
       " 'Nokian': 1,\n",
       " 'Z': 1,\n",
       " 'G2': 1,\n",
       " 'Ahold': 0,\n",
       " 'Orion': -1,\n",
       " 'Cargotec': 2,\n",
       " 'Gansu': 0,\n",
       " 'Hualu': 0,\n",
       " 'Aluminum': 0,\n",
       " 'Brian': 0,\n",
       " 'Burton': 0,\n",
       " 'Synosia': 0,\n",
       " 'Therapeutics': 0,\n",
       " 'Holding': 0,\n",
       " 'AG': 0,\n",
       " 'Buyer': 0,\n",
       " ':': 0,\n",
       " 'Deal': 0,\n",
       " 'HEL': 0,\n",
       " 'Anne': 0,\n",
       " 'Pirila': 0,\n",
       " 'Director': 0,\n",
       " 'Main': 0,\n",
       " 'Northern': 1,\n",
       " 'H1': 0,\n",
       " \"'08\": 0,\n",
       " \"'07\": 0,\n",
       " 'Q2': 0,\n",
       " 'EXCHANGE': -1,\n",
       " 'ANNOUNCEMENT': 0,\n",
       " '23.4.2007': 0,\n",
       " 'India': 1,\n",
       " 'Comptel': 1,\n",
       " 'Headquarters': 0,\n",
       " 'P': 0,\n",
       " 'P-1': 0,\n",
       " 'George': 0,\n",
       " 'Adams': 0,\n",
       " ';': 0,\n",
       " 'Establishes': 0,\n",
       " 'Sales': 0,\n",
       " 'Marketing': 0,\n",
       " 'to': 0,\n",
       " 'Drive': 0,\n",
       " 'Worldwide': 0,\n",
       " 'Programs': 0,\n",
       " 'Supporting': 0,\n",
       " 'SSH': 0,\n",
       " 'Enterprise': 0,\n",
       " 'Security': 0,\n",
       " 'October': -1,\n",
       " 'Asahi': 0,\n",
       " 'Kasei': 0,\n",
       " 'Buckeye': 0,\n",
       " 'E72': 0,\n",
       " 'E63': 0,\n",
       " 'Vaahto': -1,\n",
       " 'Oyj': -1,\n",
       " 'Tim': 1,\n",
       " 'Cockroft': 1,\n",
       " 'Alandsbanken': 0,\n",
       " 'Kyro': 0,\n",
       " 'Tuesday': 0,\n",
       " 'KEMIRA': 1,\n",
       " 'Intertek': 0,\n",
       " 'PLC': 0,\n",
       " 'House': 0,\n",
       " 'Gas': 0,\n",
       " 'KONE': 1,\n",
       " 'FCC': 0,\n",
       " 'Kevin': 0,\n",
       " 'Martin': 0,\n",
       " 'Renesas': 0,\n",
       " 'Electronics': 0,\n",
       " 'Wipro': 1,\n",
       " 'Acacia': 0,\n",
       " 'lenders': 0}"
      ]
     },
     "execution_count": 69,
     "metadata": {},
     "output_type": "execute_result"
    }
   ],
   "source": [
    "fp_preds_and_scores = []\n",
    "\n",
    "for sentence, labels, sentiment in zip(sentences_fp, fp_preds, labels_sent_scores):\n",
    "\n",
    "    for word, label in zip(sentence, labels):\n",
    "\n",
    "        if label != 'O':\n",
    "            fp_preds_and_scores.append((word, label, sentiment))\n",
    "\n",
    "scores = {}\n",
    "\n",
    "for word, lab, sent in fp_preds_and_scores:\n",
    "    if lab == 'I-ORG':\n",
    "        if word in scores.keys():\n",
    "            scores[word] += sent\n",
    "        else:\n",
    "            scores[word] = sent\n",
    "\n",
    "scores"
   ]
  },
  {
   "cell_type": "code",
   "execution_count": 52,
   "metadata": {},
   "outputs": [
    {
     "data": {
      "text/plain": [
       "['O', 'I-PER', 'I-ORG', 'I-LOC', 'I-MISC']"
      ]
     },
     "execution_count": 52,
     "metadata": {},
     "output_type": "execute_result"
    }
   ],
   "source": [
    "labels = tuned_crf.classes_\n",
    "labels"
   ]
  }
 ],
 "metadata": {
  "interpreter": {
   "hash": "1c31da5edd4aad8fb53d12d73a780cc43060c0f39f08ff1fc327c1bcdbfa7e83"
  },
  "kernelspec": {
   "display_name": "Python 3.9.10 ('data_analytics')",
   "language": "python",
   "name": "python3"
  },
  "language_info": {
   "codemirror_mode": {
    "name": "ipython",
    "version": 3
   },
   "file_extension": ".py",
   "mimetype": "text/x-python",
   "name": "python",
   "nbconvert_exporter": "python",
   "pygments_lexer": "ipython3",
   "version": "3.9.10"
  },
  "orig_nbformat": 4
 },
 "nbformat": 4,
 "nbformat_minor": 2
}
