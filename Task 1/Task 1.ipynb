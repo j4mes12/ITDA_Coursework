{
 "cells": [
  {
   "cell_type": "markdown",
   "metadata": {},
   "source": [
    "# Data Extraction\n",
    "### code from `data_loader_demo.ipynb`"
   ]
  },
  {
   "cell_type": "code",
   "execution_count": 147,
   "id": "annoying-ethiopia",
   "metadata": {},
   "outputs": [
    {
     "name": "stdout",
     "output_type": "stream",
     "text": [
      "The autoreload extension is already loaded. To reload it, use:\n",
      "  %reload_ext autoreload\n"
     ]
    }
   ],
   "source": [
    "%load_ext autoreload\n",
    "%autoreload 2\n",
    "\n",
    "import warnings\n",
    "\n",
    "# Use HuggingFace's datasets library to access the financial_phrasebank dataset\n",
    "from datasets import load_dataset\n",
    "from sklearn.model_selection import train_test_split\n",
    "\n",
    "# Exploration\n",
    "import matplotlib.pyplot as plt\n",
    "import seaborn as sns\n",
    "\n",
    "# Feature Engineering\n",
    "import numpy as np\n",
    "import pandas as pd\n",
    "\n",
    "import nltk\n",
    "import re\n",
    "from sklearn.feature_extraction.text import TfidfVectorizer\n",
    "\n",
    "# Modelling\n",
    "import params as p\n",
    "\n",
    "from sklearn.naive_bayes import MultinomialNB\n",
    "from sklearn.metrics import accuracy_score, precision_score, recall_score, f1_score, classification_report, roc_auc_score, plot_confusion_matrix\n",
    "\n",
    "from xgboost import XGBClassifier\n",
    "\n",
    "import optuna\n",
    "from optuna.integration import XGBoostPruningCallback"
   ]
  },
  {
   "cell_type": "markdown",
   "metadata": {},
   "source": [
    "### Settings"
   ]
  },
  {
   "cell_type": "code",
   "execution_count": 148,
   "metadata": {},
   "outputs": [],
   "source": [
    "warnings.simplefilter(action='ignore', category=FutureWarning)"
   ]
  },
  {
   "cell_type": "markdown",
   "id": "34f4a2e7-8a1f-4fed-a323-1b82d7080e03",
   "metadata": {},
   "source": [
    "# Financial Phrasebank"
   ]
  },
  {
   "cell_type": "code",
   "execution_count": 149,
   "id": "a8502fa6",
   "metadata": {},
   "outputs": [
    {
     "name": "stderr",
     "output_type": "stream",
     "text": [
      "Reusing dataset financial_phrasebank (/Users/jamesstephenson/.cache/huggingface/datasets/financial_phrasebank/sentences_50agree/1.0.0/a6d468761d4e0c8ae215c77367e1092bead39deb08fbf4bffd7c0a6991febbf0)\n",
      "100%|██████████| 1/1 [00:00<00:00, 47.45it/s]"
     ]
    },
    {
     "name": "stdout",
     "output_type": "stream",
     "text": [
      "The dataset is a dictionary with two splits: \n",
      "\n",
      "DatasetDict({\n",
      "    train: Dataset({\n",
      "        features: ['sentence', 'label'],\n",
      "        num_rows: 4846\n",
      "    })\n",
      "})\n"
     ]
    },
    {
     "name": "stderr",
     "output_type": "stream",
     "text": [
      "\n"
     ]
    }
   ],
   "source": [
    "# The financial_phrasebank dataset is available in four variations. It has no predefined train/validation/test splits.\n",
    "# Each data point was annotated by 5-8 people, then their annotations were combined. \n",
    "# Each variation of the dataset contains examples with different levels of agreement. \n",
    "# Let's use the one containing all data points where at least 50% of the annotators agreed on the label.\n",
    "dataset = load_dataset(\n",
    "    \"financial_phrasebank\", \n",
    "    'sentences_50agree' # Select variation of the dataset\n",
    ")\n",
    "\n",
    "print(f'The dataset is a dictionary with two splits: \\n\\n{dataset}')"
   ]
  },
  {
   "cell_type": "code",
   "execution_count": 150,
   "id": "ca009bab",
   "metadata": {},
   "outputs": [],
   "source": [
    "# Split test data from training data\n",
    "train_sentences, test_sentences, train_labels, test_labels = train_test_split(\n",
    "    dataset[\"train\"]['sentence'], \n",
    "    dataset[\"train\"]['label'], \n",
    "    test_size=0.2, \n",
    "    stratify=dataset[\"train\"]['label']  # make sure the same proportion of labels is in the test set and training set\n",
    ")"
   ]
  },
  {
   "cell_type": "code",
   "execution_count": 151,
   "id": "7b3af369",
   "metadata": {},
   "outputs": [
    {
     "name": "stdout",
     "output_type": "stream",
     "text": [
      "How many instances in the train dataset? \n",
      "\n",
      "3876\n",
      "\n",
      "What does one instance look like? \n",
      "\n",
      "The annual value of the contracts is estimated at USD 2mn over the next three years .\n"
     ]
    }
   ],
   "source": [
    "# label 0 = negative, 1 = neutral, 2 = positive\n",
    "print(f'How many instances in the train dataset? \\n\\n{len(train_sentences)}')\n",
    "print('')\n",
    "print(f'What does one instance look like? \\n\\n{train_sentences[234]}')"
   ]
  },
  {
   "cell_type": "markdown",
   "id": "b58ea906-8488-43a9-90dd-94695d700d19",
   "metadata": {},
   "source": [
    "It may also be necessary to create a _validation_ set (also called 'development' set or 'devset'). The validation set can be used to compute performance of your model when tuning hyperparameters,  optimising combinations of features, or looking at the errors your model makes before improving it. This allows you to hold out the test set to give a fair evaluation of the model and how well it generalises to new examples. This avoids tuning the model to specifso it gets good performance on the test set examples. "
   ]
  },
  {
   "cell_type": "code",
   "execution_count": 152,
   "id": "3c873dbe-b6a6-41ed-9f03-b52a5e0a85c7",
   "metadata": {},
   "outputs": [],
   "source": [
    "train_sentences, val_sentences, train_labels, val_labels = train_test_split(train_sentences, train_labels, test_size=0.25, stratify=train_labels)\n"
   ]
  },
  {
   "cell_type": "code",
   "execution_count": 153,
   "id": "57d10fa5",
   "metadata": {},
   "outputs": [
    {
     "name": "stdout",
     "output_type": "stream",
     "text": [
      "How many instances in the validation dataset? \n",
      "\n",
      "969\n",
      "\n",
      "How many instances in the test dataset? \n",
      "\n",
      "970\n"
     ]
    }
   ],
   "source": [
    "print(f'How many instances in the validation dataset? \\n\\n{len(val_sentences)}\\n')\n",
    "print(f'How many instances in the test dataset? \\n\\n{len(test_sentences)}')"
   ]
  },
  {
   "cell_type": "markdown",
   "metadata": {},
   "source": [
    "# Data Exploration"
   ]
  },
  {
   "cell_type": "code",
   "execution_count": 154,
   "metadata": {},
   "outputs": [],
   "source": [
    "train = pd.DataFrame({'sentences' : train_sentences, 'labels' : train_labels})"
   ]
  },
  {
   "cell_type": "markdown",
   "metadata": {},
   "source": [
    "## Very Brief Response Analysis"
   ]
  },
  {
   "cell_type": "markdown",
   "metadata": {},
   "source": [
    "Should only need to do this for train due to random split. So would expect to see the same structure for test and val"
   ]
  },
  {
   "cell_type": "code",
   "execution_count": 155,
   "metadata": {},
   "outputs": [
    {
     "data": {
      "image/png": "[encoded data removed]",
      "text/plain": [
       "<Figure size 1080x576 with 1 Axes>"
      ]
     },
     "metadata": {
      "needs_background": "light"
     },
     "output_type": "display_data"
    }
   ],
   "source": [
    "fig, ax = plt.subplots(nrows = 1, ncols = 1, figsize = (15, 8))\n",
    "\n",
    "ax = sns.countplot(data = train, x = 'labels').set(title = 'Label Counts for Train Data')\n",
    "\n",
    "plt.xlabel(\"Labels\")\n",
    "plt.ylabel(\"Frequency\")\n",
    "plt.xticks(rotation = 0)\n",
    "\n",
    "plt.show()"
   ]
  },
  {
   "cell_type": "markdown",
   "metadata": {},
   "source": [
    "Slight Imbalance of labels, but nothing that will be an issue"
   ]
  },
  {
   "cell_type": "markdown",
   "metadata": {},
   "source": [
    "# Featuring Engineering"
   ]
  },
  {
   "cell_type": "markdown",
   "metadata": {},
   "source": [
    "### Sentence Processing"
   ]
  },
  {
   "cell_type": "code",
   "execution_count": 156,
   "metadata": {},
   "outputs": [],
   "source": [
    "# remove some stopwords to capture negation in n-grams if possible\n",
    "stop_words = nltk.corpus.stopwords.words('english')\n",
    "stop_words.remove('no')\n",
    "stop_words.remove('not')\n",
    "stop_words.remove('but')\n",
    "\n",
    "# load up a simple porter stemmer\n",
    "ps = nltk.porter.PorterStemmer()\n",
    "\n",
    "def simple_text_preprocessor(document): \n",
    "    # lower case\n",
    "    document = str(document).lower()\n",
    "    \n",
    "    # remove unnecessary characters\n",
    "    document = re.sub(r'[^a-zA-Z]',r' ', document)\n",
    "    \n",
    "    # simple porter stemming\n",
    "    document = ' '.join([ps.stem(word) for word in document.split()])\n",
    "    \n",
    "    # stopwords removal\n",
    "    document = ' '.join([word for word in document.split() if word not in stop_words])\n",
    "    \n",
    "    return document\n",
    "\n",
    "stp = np.vectorize(simple_text_preprocessor)"
   ]
  },
  {
   "cell_type": "code",
   "execution_count": 157,
   "metadata": {},
   "outputs": [],
   "source": [
    "clean_train_sentences = stp(train_sentences)\n",
    "clean_test_sentences = stp(test_sentences)\n",
    "clean_val_sentences = stp(val_sentences)"
   ]
  },
  {
   "cell_type": "code",
   "execution_count": 158,
   "metadata": {},
   "outputs": [],
   "source": [
    "tfidf = TfidfVectorizer(min_df = 0.0, max_df = 1.0, ngram_range = (1, 2))"
   ]
  },
  {
   "cell_type": "code",
   "execution_count": 159,
   "metadata": {},
   "outputs": [],
   "source": [
    "X_train = tfidf.fit_transform(clean_train_sentences).toarray()\n",
    "X_train = pd.DataFrame(X_train, columns = tfidf.get_feature_names_out())\n",
    "\n",
    "X_test = tfidf.transform(clean_test_sentences).toarray()\n",
    "X_test = pd.DataFrame(X_test, columns = tfidf.get_feature_names_out())\n",
    "\n",
    "X_val = tfidf.transform(clean_val_sentences).toarray()\n",
    "X_val = pd.DataFrame(X_val, columns = tfidf.get_feature_names_out())"
   ]
  },
  {
   "cell_type": "code",
   "execution_count": 160,
   "metadata": {},
   "outputs": [
    {
     "data": {
      "text/html": [
       "<div>\n",
       "<style scoped>\n",
       "    .dataframe tbody tr th:only-of-type {\n",
       "        vertical-align: middle;\n",
       "    }\n",
       "\n",
       "    .dataframe tbody tr th {\n",
       "        vertical-align: top;\n",
       "    }\n",
       "\n",
       "    .dataframe thead th {\n",
       "        text-align: right;\n",
       "    }\n",
       "</style>\n",
       "<table border=\"1\" class=\"dataframe\">\n",
       "  <thead>\n",
       "    <tr style=\"text-align: right;\">\n",
       "      <th></th>\n",
       "      <th>aaland</th>\n",
       "      <th>aaland island</th>\n",
       "      <th>aalborg</th>\n",
       "      <th>aalborg northern</th>\n",
       "      <th>aaron</th>\n",
       "      <th>aaron moss</th>\n",
       "      <th>ab</th>\n",
       "      <th>ab crown</th>\n",
       "      <th>ab decemb</th>\n",
       "      <th>ab lindex</th>\n",
       "      <th>...</th>\n",
       "      <th>zinc stream</th>\n",
       "      <th>zinc use</th>\n",
       "      <th>zloti</th>\n",
       "      <th>zloti mln</th>\n",
       "      <th>zone</th>\n",
       "      <th>zone neudorf</th>\n",
       "      <th>zone sriperumbudur</th>\n",
       "      <th>zone villag</th>\n",
       "      <th>zoo</th>\n",
       "      <th>zoo poland</th>\n",
       "    </tr>\n",
       "  </thead>\n",
       "  <tbody>\n",
       "    <tr>\n",
       "      <th>0</th>\n",
       "      <td>0.0</td>\n",
       "      <td>0.0</td>\n",
       "      <td>0.0</td>\n",
       "      <td>0.0</td>\n",
       "      <td>0.0</td>\n",
       "      <td>0.0</td>\n",
       "      <td>0.0</td>\n",
       "      <td>0.0</td>\n",
       "      <td>0.0</td>\n",
       "      <td>0.0</td>\n",
       "      <td>...</td>\n",
       "      <td>0.0</td>\n",
       "      <td>0.0</td>\n",
       "      <td>0.0</td>\n",
       "      <td>0.0</td>\n",
       "      <td>0.0</td>\n",
       "      <td>0.0</td>\n",
       "      <td>0.0</td>\n",
       "      <td>0.0</td>\n",
       "      <td>0.0</td>\n",
       "      <td>0.0</td>\n",
       "    </tr>\n",
       "    <tr>\n",
       "      <th>1</th>\n",
       "      <td>0.0</td>\n",
       "      <td>0.0</td>\n",
       "      <td>0.0</td>\n",
       "      <td>0.0</td>\n",
       "      <td>0.0</td>\n",
       "      <td>0.0</td>\n",
       "      <td>0.0</td>\n",
       "      <td>0.0</td>\n",
       "      <td>0.0</td>\n",
       "      <td>0.0</td>\n",
       "      <td>...</td>\n",
       "      <td>0.0</td>\n",
       "      <td>0.0</td>\n",
       "      <td>0.0</td>\n",
       "      <td>0.0</td>\n",
       "      <td>0.0</td>\n",
       "      <td>0.0</td>\n",
       "      <td>0.0</td>\n",
       "      <td>0.0</td>\n",
       "      <td>0.0</td>\n",
       "      <td>0.0</td>\n",
       "    </tr>\n",
       "    <tr>\n",
       "      <th>2</th>\n",
       "      <td>0.0</td>\n",
       "      <td>0.0</td>\n",
       "      <td>0.0</td>\n",
       "      <td>0.0</td>\n",
       "      <td>0.0</td>\n",
       "      <td>0.0</td>\n",
       "      <td>0.0</td>\n",
       "      <td>0.0</td>\n",
       "      <td>0.0</td>\n",
       "      <td>0.0</td>\n",
       "      <td>...</td>\n",
       "      <td>0.0</td>\n",
       "      <td>0.0</td>\n",
       "      <td>0.0</td>\n",
       "      <td>0.0</td>\n",
       "      <td>0.0</td>\n",
       "      <td>0.0</td>\n",
       "      <td>0.0</td>\n",
       "      <td>0.0</td>\n",
       "      <td>0.0</td>\n",
       "      <td>0.0</td>\n",
       "    </tr>\n",
       "    <tr>\n",
       "      <th>3</th>\n",
       "      <td>0.0</td>\n",
       "      <td>0.0</td>\n",
       "      <td>0.0</td>\n",
       "      <td>0.0</td>\n",
       "      <td>0.0</td>\n",
       "      <td>0.0</td>\n",
       "      <td>0.0</td>\n",
       "      <td>0.0</td>\n",
       "      <td>0.0</td>\n",
       "      <td>0.0</td>\n",
       "      <td>...</td>\n",
       "      <td>0.0</td>\n",
       "      <td>0.0</td>\n",
       "      <td>0.0</td>\n",
       "      <td>0.0</td>\n",
       "      <td>0.0</td>\n",
       "      <td>0.0</td>\n",
       "      <td>0.0</td>\n",
       "      <td>0.0</td>\n",
       "      <td>0.0</td>\n",
       "      <td>0.0</td>\n",
       "    </tr>\n",
       "    <tr>\n",
       "      <th>4</th>\n",
       "      <td>0.0</td>\n",
       "      <td>0.0</td>\n",
       "      <td>0.0</td>\n",
       "      <td>0.0</td>\n",
       "      <td>0.0</td>\n",
       "      <td>0.0</td>\n",
       "      <td>0.0</td>\n",
       "      <td>0.0</td>\n",
       "      <td>0.0</td>\n",
       "      <td>0.0</td>\n",
       "      <td>...</td>\n",
       "      <td>0.0</td>\n",
       "      <td>0.0</td>\n",
       "      <td>0.0</td>\n",
       "      <td>0.0</td>\n",
       "      <td>0.0</td>\n",
       "      <td>0.0</td>\n",
       "      <td>0.0</td>\n",
       "      <td>0.0</td>\n",
       "      <td>0.0</td>\n",
       "      <td>0.0</td>\n",
       "    </tr>\n",
       "  </tbody>\n",
       "</table>\n",
       "<p>5 rows × 29418 columns</p>\n",
       "</div>"
      ],
      "text/plain": [
       "   aaland  aaland island  aalborg  aalborg northern  aaron  aaron moss   ab  \\\n",
       "0     0.0            0.0      0.0               0.0    0.0         0.0  0.0   \n",
       "1     0.0            0.0      0.0               0.0    0.0         0.0  0.0   \n",
       "2     0.0            0.0      0.0               0.0    0.0         0.0  0.0   \n",
       "3     0.0            0.0      0.0               0.0    0.0         0.0  0.0   \n",
       "4     0.0            0.0      0.0               0.0    0.0         0.0  0.0   \n",
       "\n",
       "   ab crown  ab decemb  ab lindex  ...  zinc stream  zinc use  zloti  \\\n",
       "0       0.0        0.0        0.0  ...          0.0       0.0    0.0   \n",
       "1       0.0        0.0        0.0  ...          0.0       0.0    0.0   \n",
       "2       0.0        0.0        0.0  ...          0.0       0.0    0.0   \n",
       "3       0.0        0.0        0.0  ...          0.0       0.0    0.0   \n",
       "4       0.0        0.0        0.0  ...          0.0       0.0    0.0   \n",
       "\n",
       "   zloti mln  zone  zone neudorf  zone sriperumbudur  zone villag  zoo  \\\n",
       "0        0.0   0.0           0.0                 0.0          0.0  0.0   \n",
       "1        0.0   0.0           0.0                 0.0          0.0  0.0   \n",
       "2        0.0   0.0           0.0                 0.0          0.0  0.0   \n",
       "3        0.0   0.0           0.0                 0.0          0.0  0.0   \n",
       "4        0.0   0.0           0.0                 0.0          0.0  0.0   \n",
       "\n",
       "   zoo poland  \n",
       "0         0.0  \n",
       "1         0.0  \n",
       "2         0.0  \n",
       "3         0.0  \n",
       "4         0.0  \n",
       "\n",
       "[5 rows x 29418 columns]"
      ]
     },
     "execution_count": 160,
     "metadata": {},
     "output_type": "execute_result"
    }
   ],
   "source": [
    "X_train.head()"
   ]
  },
  {
   "cell_type": "markdown",
   "metadata": {},
   "source": [
    "# Modelling"
   ]
  },
  {
   "cell_type": "code",
   "execution_count": 161,
   "metadata": {},
   "outputs": [],
   "source": [
    "y_train = train_labels\n",
    "y_test = test_labels\n",
    "y_val = val_labels"
   ]
  },
  {
   "cell_type": "code",
   "execution_count": 162,
   "metadata": {},
   "outputs": [],
   "source": [
    "train_data = {'X' : X_train, 'y' : y_train}\n",
    "test_data = {'X' : X_test, 'y' : y_test}\n",
    "val_data = {'X' : X_val, 'y' : y_val}"
   ]
  },
  {
   "cell_type": "code",
   "execution_count": 163,
   "metadata": {},
   "outputs": [],
   "source": [
    "def evaluate_model(model, X, y):\n",
    "\n",
    "    y_pred = model.predict(X)\n",
    "    y_pred_probs = model.predict_proba(X)\n",
    "\n",
    "    print('ROC AUC Score:\\t', roc_auc_score(y, y_pred_probs, average = 'macro', multi_class='ovr'))\n",
    "\n",
    "    print('--- MACRO ---')\n",
    "    print(f'Accuracy:\\t', accuracy_score(y, y_pred))\n",
    "    print(f'Precision:\\t', precision_score(y, y_pred, average='macro'))\n",
    "    print(f'Recall:\\t\\t', recall_score(y, y_pred, average='macro'))\n",
    "    print(f'F1 score:\\t', f1_score(y, y_pred, average='macro'))\n",
    "\n",
    "    # We can get all of these with a per-class breakdown using classification_report:\n",
    "    print(classification_report(y, y_pred))"
   ]
  },
  {
   "cell_type": "markdown",
   "metadata": {},
   "source": [
    "### Naive Bayes"
   ]
  },
  {
   "cell_type": "code",
   "execution_count": 164,
   "metadata": {},
   "outputs": [],
   "source": [
    "nb = MultinomialNB().fit(**train_data)"
   ]
  },
  {
   "cell_type": "code",
   "execution_count": 165,
   "metadata": {},
   "outputs": [
    {
     "name": "stdout",
     "output_type": "stream",
     "text": [
      "ROC AUC Score:\t 0.7904683635062145\n",
      "--- MACRO ---\n",
      "Accuracy:\t 0.6577319587628866\n",
      "Precision:\t 0.7523964863992388\n",
      "Recall:\t\t 0.41724142860506497\n",
      "F1 score:\t 0.39266576688910465\n",
      "              precision    recall  f1-score   support\n",
      "\n",
      "           0       1.00      0.02      0.03       121\n",
      "           1       0.67      0.99      0.79       576\n",
      "           2       0.59      0.25      0.35       273\n",
      "\n",
      "    accuracy                           0.66       970\n",
      "   macro avg       0.75      0.42      0.39       970\n",
      "weighted avg       0.69      0.66      0.57       970\n",
      "\n"
     ]
    }
   ],
   "source": [
    "evaluate_model(nb, **test_data)"
   ]
  },
  {
   "cell_type": "code",
   "execution_count": 166,
   "metadata": {},
   "outputs": [],
   "source": [
    "# xgb = XGBClassifier(random_state = p.RANDOM_STATE).fit(**train_data)"
   ]
  },
  {
   "cell_type": "code",
   "execution_count": 167,
   "metadata": {},
   "outputs": [],
   "source": [
    "# evaluate_model(xgb, **test_data)"
   ]
  },
  {
   "cell_type": "code",
   "execution_count": 168,
   "metadata": {},
   "outputs": [],
   "source": [
    "# xgb_base_params = {\n",
    "#     'objective' : 'multi:softprob', \n",
    "#     'learning_rate' : 0.1,\n",
    "#     'verbosity' : 0,\n",
    "#     'n_jobs' : -1,\n",
    "#     'random_state' : p.RANDOM_STATE,\n",
    "#     }\n",
    "\n",
    "# def xgb_objective(trial, X_train = X_train, y_train = y_train, X_test = X_test, y_test = y_test, base_params = xgb_base_params):\n",
    "\n",
    "#     obj_params = {\n",
    "#         'max_depth' : trial.suggest_int('max_depth', 2, 7),\n",
    "#         'min_child_weight' : trial.suggest_int('min_child_weight', 1, 10),\n",
    "#         'n_estimators' : trial.suggest_int('n_estimators', 50, 1000),\n",
    "#         'subsample' : trial.suggest_float('subsample', 0.1, 1),\n",
    "\n",
    "#         **base_params\n",
    "#         }\n",
    "\n",
    "#     pruning_callback = XGBoostPruningCallback(trial, observation_key = 'validation_1-auc')\n",
    "\n",
    "#     xgb_obj = XGBClassifier(**obj_params)\n",
    "#     xgb_obj.fit(\n",
    "#         X_train,\n",
    "#         y_train,\n",
    "#         eval_metric = 'auc',\n",
    "#         eval_set = [(X_train, y_train), (X_test, y_test)],\n",
    "#         early_stopping_rounds = obj_params['n_estimators'] * 0.1,\n",
    "#         verbose = 0,\n",
    "#         callbacks = [pruning_callback]\n",
    "#         )\n",
    "\n",
    "#     y_pred = xgb_obj.predict_proba(X_test)\n",
    "\n",
    "#     roc = roc_auc_score(y_true=y_test, y_score=y_pred, multi_class='ovr')\n",
    "    \n",
    "#     return roc\n",
    "\n",
    "# xgb_study = optuna.create_study(direction = 'maximize')\n",
    "# xgb_study.optimize(xgb_objective, n_trials = 200, n_jobs = -1)"
   ]
  },
  {
   "cell_type": "code",
   "execution_count": 169,
   "metadata": {},
   "outputs": [],
   "source": [
    "# xgb_tuned_params = {**xgb_study.best_params, **xgb_base_params}\n",
    "# xgb_tuned_params\n"
   ]
  },
  {
   "cell_type": "code",
   "execution_count": 170,
   "metadata": {},
   "outputs": [],
   "source": [
    "# xgb_tuned = XGBClassifier(**xgb_tuned_params)\n",
    "# xgb_tuned.fit(\n",
    "#     **train_data,\n",
    "#     eval_metric = 'auc',\n",
    "#     eval_set = [(X_train, y_train), (X_test, y_test)],\n",
    "#     early_stopping_rounds = xgb_tuned_params['n_estimators'] * 0.1,\n",
    "#     verbose = 0\n",
    "#     )\n"
   ]
  },
  {
   "cell_type": "code",
   "execution_count": 171,
   "metadata": {},
   "outputs": [],
   "source": [
    "# evaluate_model(xgb_tuned, **test_data)"
   ]
  },
  {
   "cell_type": "markdown",
   "metadata": {},
   "source": [
    "## NB"
   ]
  },
  {
   "cell_type": "code",
   "execution_count": 176,
   "metadata": {},
   "outputs": [
    {
     "name": "stderr",
     "output_type": "stream",
     "text": [
      "\u001b[32m[I 2022-03-26 12:10:31,144]\u001b[0m A new study created in memory with name: no-name-786dd108-dac1-458e-859d-57f2c59fbd83\u001b[0m\n",
      "\u001b[32m[I 2022-03-26 12:10:33,191]\u001b[0m Trial 1 finished with value: 0.7849826240790184 and parameters: {'alpha': 1.9180133999876379, 'fit_prior': False}. Best is trial 1 with value: 0.7849826240790184.\u001b[0m\n",
      "\u001b[32m[I 2022-03-26 12:10:33,207]\u001b[0m Trial 2 finished with value: 0.7953083423961856 and parameters: {'alpha': 0.7733854125749329, 'fit_prior': True}. Best is trial 2 with value: 0.7953083423961856.\u001b[0m\n",
      "\u001b[32m[I 2022-03-26 12:10:33,302]\u001b[0m Trial 4 finished with value: 0.7915627906204389 and parameters: {'alpha': 1.4210610476895136, 'fit_prior': False}. Best is trial 2 with value: 0.7953083423961856.\u001b[0m\n",
      "\u001b[32m[I 2022-03-26 12:10:34,956]\u001b[0m Trial 3 finished with value: 0.7921263022396765 and parameters: {'alpha': 1.3834066407440966, 'fit_prior': False}. Best is trial 2 with value: 0.7953083423961856.\u001b[0m\n",
      "\u001b[32m[I 2022-03-26 12:10:34,987]\u001b[0m Trial 0 finished with value: 0.7945160703821644 and parameters: {'alpha': 0.8055931842856754, 'fit_prior': True}. Best is trial 2 with value: 0.7953083423961856.\u001b[0m\n",
      "\u001b[32m[I 2022-03-26 12:10:35,214]\u001b[0m Trial 7 finished with value: 0.8068997375272596 and parameters: {'alpha': 0.3848765278564017, 'fit_prior': True}. Best is trial 7 with value: 0.8068997375272596.\u001b[0m\n",
      "\u001b[32m[I 2022-03-26 12:10:35,552]\u001b[0m Trial 5 finished with value: 0.8138468253199088 and parameters: {'alpha': 0.224407608412019, 'fit_prior': True}. Best is trial 5 with value: 0.8138468253199088.\u001b[0m\n",
      "\u001b[32m[I 2022-03-26 12:10:35,630]\u001b[0m Trial 8 finished with value: 0.7951163044786766 and parameters: {'alpha': 1.1995667315536942, 'fit_prior': False}. Best is trial 5 with value: 0.8138468253199088.\u001b[0m\n",
      "\u001b[32m[I 2022-03-26 12:10:35,701]\u001b[0m Trial 9 finished with value: 0.8008574857770082 and parameters: {'alpha': 0.8935598981846451, 'fit_prior': False}. Best is trial 5 with value: 0.8138468253199088.\u001b[0m\n",
      "\u001b[32m[I 2022-03-26 12:10:35,772]\u001b[0m Trial 6 finished with value: 0.7928727182492347 and parameters: {'alpha': 0.8805284756765193, 'fit_prior': True}. Best is trial 5 with value: 0.8138468253199088.\u001b[0m\n",
      "\u001b[32m[I 2022-03-26 12:10:36,461]\u001b[0m Trial 10 finished with value: 0.7923817803363383 and parameters: {'alpha': 0.904374018242021, 'fit_prior': True}. Best is trial 5 with value: 0.8138468253199088.\u001b[0m\n",
      "\u001b[32m[I 2022-03-26 12:10:36,698]\u001b[0m Trial 12 finished with value: 0.8133855347728263 and parameters: {'alpha': 0.23389400435896243, 'fit_prior': True}. Best is trial 5 with value: 0.8138468253199088.\u001b[0m\n",
      "\u001b[32m[I 2022-03-26 12:10:36,718]\u001b[0m Trial 11 finished with value: 0.8006026444114532 and parameters: {'alpha': 0.571135300339153, 'fit_prior': True}. Best is trial 5 with value: 0.8138468253199088.\u001b[0m\n",
      "\u001b[32m[I 2022-03-26 12:10:36,743]\u001b[0m Trial 13 finished with value: 0.821442301665596 and parameters: {'alpha': 0.2028217431624249, 'fit_prior': False}. Best is trial 13 with value: 0.821442301665596.\u001b[0m\n",
      "\u001b[32m[I 2022-03-26 12:10:37,743]\u001b[0m Trial 14 finished with value: 0.7952175643260361 and parameters: {'alpha': 1.1909935758483057, 'fit_prior': False}. Best is trial 13 with value: 0.821442301665596.\u001b[0m\n",
      "\u001b[32m[I 2022-03-26 12:10:37,776]\u001b[0m Trial 15 finished with value: 0.8099547480541177 and parameters: {'alpha': 0.30876283137458305, 'fit_prior': True}. Best is trial 13 with value: 0.821442301665596.\u001b[0m\n",
      "\u001b[32m[I 2022-03-26 12:10:37,785]\u001b[0m Trial 17 finished with value: 0.8080039653505846 and parameters: {'alpha': 0.356735740548508, 'fit_prior': True}. Best is trial 13 with value: 0.821442301665596.\u001b[0m\n",
      "\u001b[32m[I 2022-03-26 12:10:37,787]\u001b[0m Trial 16 finished with value: 0.8146531695678453 and parameters: {'alpha': 0.20810495961196496, 'fit_prior': True}. Best is trial 13 with value: 0.821442301665596.\u001b[0m\n",
      "\u001b[32m[I 2022-03-26 12:10:38,791]\u001b[0m Trial 18 finished with value: 0.8136802617182172 and parameters: {'alpha': 0.2282185060341685, 'fit_prior': True}. Best is trial 13 with value: 0.821442301665596.\u001b[0m\n",
      "\u001b[32m[I 2022-03-26 12:10:38,913]\u001b[0m Trial 19 finished with value: 0.8195758397384717 and parameters: {'alpha': 0.2605219844783305, 'fit_prior': False}. Best is trial 13 with value: 0.821442301665596.\u001b[0m\n",
      "\u001b[32m[I 2022-03-26 12:10:39,359]\u001b[0m Trial 23 finished with value: 0.8076380954533323 and parameters: {'alpha': 0.6321999840914976, 'fit_prior': False}. Best is trial 13 with value: 0.821442301665596.\u001b[0m\n",
      "\u001b[32m[I 2022-03-26 12:10:39,567]\u001b[0m Trial 21 finished with value: 0.821170445551297 and parameters: {'alpha': 0.2123314606982542, 'fit_prior': False}. Best is trial 13 with value: 0.821442301665596.\u001b[0m\n",
      "\u001b[32m[I 2022-03-26 12:10:39,642]\u001b[0m Trial 20 finished with value: 0.8129931335381752 and parameters: {'alpha': 0.454563823825629, 'fit_prior': False}. Best is trial 13 with value: 0.821442301665596.\u001b[0m\n",
      "\u001b[32m[I 2022-03-26 12:10:39,864]\u001b[0m Trial 22 finished with value: 0.8214214125691143 and parameters: {'alpha': 0.2034035324678127, 'fit_prior': False}. Best is trial 13 with value: 0.821442301665596.\u001b[0m\n",
      "\u001b[32m[I 2022-03-26 12:10:40,124]\u001b[0m Trial 24 finished with value: 0.8096114941456864 and parameters: {'alpha': 0.562664058727198, 'fit_prior': False}. Best is trial 13 with value: 0.821442301665596.\u001b[0m\n",
      "\u001b[32m[I 2022-03-26 12:10:40,196]\u001b[0m Trial 25 finished with value: 0.8081349139078867 and parameters: {'alpha': 0.6158407321751098, 'fit_prior': False}. Best is trial 13 with value: 0.821442301665596.\u001b[0m\n",
      "\u001b[32m[I 2022-03-26 12:10:40,552]\u001b[0m Trial 27 finished with value: 0.8088026734698647 and parameters: {'alpha': 0.5891491863545518, 'fit_prior': False}. Best is trial 13 with value: 0.821442301665596.\u001b[0m\n",
      "\u001b[32m[I 2022-03-26 12:10:40,619]\u001b[0m Trial 26 finished with value: 0.8092136238188695 and parameters: {'alpha': 0.575279006144986, 'fit_prior': False}. Best is trial 13 with value: 0.821442301665596.\u001b[0m\n",
      "\u001b[32m[I 2022-03-26 12:10:40,983]\u001b[0m Trial 28 finished with value: 0.8134263819202096 and parameters: {'alpha': 0.4414407935576249, 'fit_prior': False}. Best is trial 13 with value: 0.821442301665596.\u001b[0m\n",
      "\u001b[32m[I 2022-03-26 12:10:41,295]\u001b[0m Trial 29 finished with value: 0.8114660517893082 and parameters: {'alpha': 0.5005997021138324, 'fit_prior': False}. Best is trial 13 with value: 0.821442301665596.\u001b[0m\n",
      "\u001b[32m[I 2022-03-26 12:10:41,500]\u001b[0m Trial 30 finished with value: 0.8108508883921539 and parameters: {'alpha': 0.518423007345548, 'fit_prior': False}. Best is trial 13 with value: 0.821442301665596.\u001b[0m\n",
      "\u001b[32m[I 2022-03-26 12:10:41,976]\u001b[0m Trial 31 finished with value: 0.8093234678863848 and parameters: {'alpha': 0.5721142534654697, 'fit_prior': False}. Best is trial 13 with value: 0.821442301665596.\u001b[0m\n",
      "\u001b[32m[I 2022-03-26 12:10:41,991]\u001b[0m Trial 34 finished with value: 0.8136847251560407 and parameters: {'alpha': 0.4340077115921362, 'fit_prior': False}. Best is trial 13 with value: 0.821442301665596.\u001b[0m\n",
      "\u001b[32m[I 2022-03-26 12:10:42,146]\u001b[0m Trial 32 finished with value: 0.8138270096965211 and parameters: {'alpha': 0.43011775044326195, 'fit_prior': False}. Best is trial 13 with value: 0.821442301665596.\u001b[0m\n",
      "\u001b[32m[I 2022-03-26 12:10:42,244]\u001b[0m Trial 33 finished with value: 0.8126396886235154 and parameters: {'alpha': 0.46319723766871385, 'fit_prior': False}. Best is trial 13 with value: 0.821442301665596.\u001b[0m\n",
      "\u001b[32m[I 2022-03-26 12:10:42,464]\u001b[0m Trial 35 finished with value: 0.8139460704994272 and parameters: {'alpha': 0.42497965823413875, 'fit_prior': False}. Best is trial 13 with value: 0.821442301665596.\u001b[0m\n",
      "\u001b[32m[I 2022-03-26 12:10:43,132]\u001b[0m Trial 36 finished with value: 0.7865171564811376 and parameters: {'alpha': 1.792974086360976, 'fit_prior': False}. Best is trial 13 with value: 0.821442301665596.\u001b[0m\n",
      "\u001b[32m[I 2022-03-26 12:10:43,175]\u001b[0m Trial 38 finished with value: 0.816909346960812 and parameters: {'alpha': 0.3377755409612833, 'fit_prior': False}. Best is trial 13 with value: 0.821442301665596.\u001b[0m\n",
      "\u001b[32m[I 2022-03-26 12:10:43,380]\u001b[0m Trial 40 finished with value: 0.8168625237956532 and parameters: {'alpha': 0.3396064173756257, 'fit_prior': False}. Best is trial 13 with value: 0.821442301665596.\u001b[0m\n",
      "\u001b[32m[I 2022-03-26 12:10:43,664]\u001b[0m Trial 37 finished with value: 0.7857664651204113 and parameters: {'alpha': 1.8520256630575849, 'fit_prior': False}. Best is trial 13 with value: 0.821442301665596.\u001b[0m\n",
      "\u001b[32m[I 2022-03-26 12:10:44,041]\u001b[0m Trial 39 finished with value: 0.8051304111125468 and parameters: {'alpha': 0.7192845509294569, 'fit_prior': False}. Best is trial 13 with value: 0.821442301665596.\u001b[0m\n",
      "\u001b[32m[I 2022-03-26 12:10:44,367]\u001b[0m Trial 41 finished with value: 0.7866669247816249 and parameters: {'alpha': 1.7786568687998987, 'fit_prior': False}. Best is trial 13 with value: 0.821442301665596.\u001b[0m\n",
      "\u001b[32m[I 2022-03-26 12:10:44,392]\u001b[0m Trial 42 finished with value: 0.7859178231966327 and parameters: {'alpha': 1.839712173954768, 'fit_prior': False}. Best is trial 13 with value: 0.821442301665596.\u001b[0m\n",
      "\u001b[32m[I 2022-03-26 12:10:44,426]\u001b[0m Trial 44 finished with value: 0.8047885652617847 and parameters: {'alpha': 0.7312985169468209, 'fit_prior': False}. Best is trial 13 with value: 0.821442301665596.\u001b[0m\n",
      "\u001b[32m[I 2022-03-26 12:10:44,454]\u001b[0m Trial 43 finished with value: 0.7885870084851919 and parameters: {'alpha': 1.6282089024827955, 'fit_prior': False}. Best is trial 13 with value: 0.821442301665596.\u001b[0m\n",
      "\u001b[32m[I 2022-03-26 12:10:45,320]\u001b[0m Trial 46 finished with value: 0.8029078301668763 and parameters: {'alpha': 0.8019648295723577, 'fit_prior': False}. Best is trial 13 with value: 0.821442301665596.\u001b[0m\n",
      "\u001b[32m[I 2022-03-26 12:10:45,374]\u001b[0m Trial 45 finished with value: 0.8057794017041718 and parameters: {'alpha': 0.6968446384456985, 'fit_prior': False}. Best is trial 13 with value: 0.821442301665596.\u001b[0m\n",
      "\u001b[32m[I 2022-03-26 12:10:45,397]\u001b[0m Trial 47 finished with value: 0.8045606115682805 and parameters: {'alpha': 0.7403076515315428, 'fit_prior': False}. Best is trial 13 with value: 0.821442301665596.\u001b[0m\n",
      "\u001b[32m[I 2022-03-26 12:10:45,520]\u001b[0m Trial 48 finished with value: 0.8176761992635709 and parameters: {'alpha': 0.31609067632197857, 'fit_prior': False}. Best is trial 13 with value: 0.821442301665596.\u001b[0m\n",
      "\u001b[32m[I 2022-03-26 12:10:45,784]\u001b[0m Trial 49 finished with value: 0.8181108512049998 and parameters: {'alpha': 0.30303047833597185, 'fit_prior': False}. Best is trial 13 with value: 0.821442301665596.\u001b[0m\n",
      "\u001b[32m[I 2022-03-26 12:10:46,230]\u001b[0m Trial 50 finished with value: 0.8187139583476485 and parameters: {'alpha': 0.28636354420982596, 'fit_prior': False}. Best is trial 13 with value: 0.821442301665596.\u001b[0m\n",
      "\u001b[32m[I 2022-03-26 12:10:46,286]\u001b[0m Trial 51 finished with value: 0.8186371395809183 and parameters: {'alpha': 0.2887922122990362, 'fit_prior': False}. Best is trial 13 with value: 0.821442301665596.\u001b[0m\n",
      "\u001b[32m[I 2022-03-26 12:10:46,476]\u001b[0m Trial 52 finished with value: 0.8180991788439087 and parameters: {'alpha': 0.30466164158572956, 'fit_prior': False}. Best is trial 13 with value: 0.821442301665596.\u001b[0m\n",
      "\u001b[32m[I 2022-03-26 12:10:46,726]\u001b[0m Trial 54 finished with value: 0.8178306569414628 and parameters: {'alpha': 0.3114603960919183, 'fit_prior': False}. Best is trial 13 with value: 0.821442301665596.\u001b[0m\n",
      "\u001b[32m[I 2022-03-26 12:10:47,282]\u001b[0m Trial 53 finished with value: 0.8172003874948329 and parameters: {'alpha': 0.3293961496211087, 'fit_prior': False}. Best is trial 13 with value: 0.821442301665596.\u001b[0m\n",
      "\u001b[32m[I 2022-03-26 12:10:47,565]\u001b[0m Trial 55 finished with value: 0.8189151370258593 and parameters: {'alpha': 0.28001071475588823, 'fit_prior': False}. Best is trial 13 with value: 0.821442301665596.\u001b[0m\n",
      "\u001b[32m[I 2022-03-26 12:10:47,698]\u001b[0m Trial 56 finished with value: 0.8191710932629954 and parameters: {'alpha': 0.2722029982921405, 'fit_prior': False}. Best is trial 13 with value: 0.821442301665596.\u001b[0m\n",
      "\u001b[32m[I 2022-03-26 12:10:47,784]\u001b[0m Trial 57 finished with value: 0.8200175836184372 and parameters: {'alpha': 0.24747257829523672, 'fit_prior': False}. Best is trial 13 with value: 0.821442301665596.\u001b[0m\n",
      "\u001b[32m[I 2022-03-26 12:10:48,217]\u001b[0m Trial 60 finished with value: 0.8198105613316765 and parameters: {'alpha': 0.2548023737302134, 'fit_prior': False}. Best is trial 13 with value: 0.821442301665596.\u001b[0m\n",
      "\u001b[32m[I 2022-03-26 12:10:48,301]\u001b[0m Trial 58 finished with value: 0.8214397008583662 and parameters: {'alpha': 0.20302425041528355, 'fit_prior': False}. Best is trial 13 with value: 0.821442301665596.\u001b[0m\n",
      "\u001b[32m[I 2022-03-26 12:10:48,642]\u001b[0m Trial 59 finished with value: 0.8215036621833335 and parameters: {'alpha': 0.20126706334971034, 'fit_prior': False}. Best is trial 59 with value: 0.8215036621833335.\u001b[0m\n",
      "\u001b[32m[I 2022-03-26 12:10:49,050]\u001b[0m Trial 61 finished with value: 0.8211486294748193 and parameters: {'alpha': 0.212950051153337, 'fit_prior': False}. Best is trial 59 with value: 0.8215036621833335.\u001b[0m\n",
      "\u001b[32m[I 2022-03-26 12:10:49,226]\u001b[0m Trial 63 finished with value: 0.8147060057200052 and parameters: {'alpha': 0.2070217553260499, 'fit_prior': True}. Best is trial 59 with value: 0.8215036621833335.\u001b[0m\n",
      "\u001b[32m[I 2022-03-26 12:10:49,234]\u001b[0m Trial 62 finished with value: 0.8150980983764323 and parameters: {'alpha': 0.2000142511986288, 'fit_prior': True}. Best is trial 59 with value: 0.8215036621833335.\u001b[0m\n",
      "\u001b[32m[I 2022-03-26 12:10:49,499]\u001b[0m Trial 66 finished with value: 0.8150078547470305 and parameters: {'alpha': 0.2016135511815849, 'fit_prior': True}. Best is trial 59 with value: 0.8215036621833335.\u001b[0m\n",
      "\u001b[32m[I 2022-03-26 12:10:50,048]\u001b[0m Trial 65 finished with value: 0.7911083927742796 and parameters: {'alpha': 0.96893265768627, 'fit_prior': True}. Best is trial 59 with value: 0.8215036621833335.\u001b[0m\n",
      "\u001b[32m[I 2022-03-26 12:10:50,118]\u001b[0m Trial 67 finished with value: 0.7906469550637878 and parameters: {'alpha': 0.9909709976631502, 'fit_prior': True}. Best is trial 59 with value: 0.8215036621833335.\u001b[0m\n",
      "\u001b[32m[I 2022-03-26 12:10:50,165]\u001b[0m Trial 64 finished with value: 0.8145106914519923 and parameters: {'alpha': 0.21070615713105273, 'fit_prior': True}. Best is trial 59 with value: 0.8215036621833335.\u001b[0m\n",
      "\u001b[32m[I 2022-03-26 12:10:50,490]\u001b[0m Trial 69 finished with value: 0.8158917980460183 and parameters: {'alpha': 0.36657667598572125, 'fit_prior': False}. Best is trial 59 with value: 0.8215036621833335.\u001b[0m\n",
      "\u001b[32m[I 2022-03-26 12:10:50,494]\u001b[0m Trial 68 finished with value: 0.8139248493999359 and parameters: {'alpha': 0.22275432859149136, 'fit_prior': True}. Best is trial 59 with value: 0.8215036621833335.\u001b[0m\n",
      "\u001b[32m[I 2022-03-26 12:10:50,838]\u001b[0m Trial 71 finished with value: 0.7981996049496428 and parameters: {'alpha': 1.0234674760774005, 'fit_prior': False}. Best is trial 59 with value: 0.8215036621833335.\u001b[0m\n",
      "\u001b[32m[I 2022-03-26 12:10:51,354]\u001b[0m Trial 72 finished with value: 0.7979007069474847 and parameters: {'alpha': 1.03688248853835, 'fit_prior': False}. Best is trial 59 with value: 0.8215036621833335.\u001b[0m\n",
      "\u001b[32m[I 2022-03-26 12:10:51,367]\u001b[0m Trial 70 finished with value: 0.7958264855031598 and parameters: {'alpha': 1.1551056936345487, 'fit_prior': False}. Best is trial 59 with value: 0.8215036621833335.\u001b[0m\n",
      "\u001b[32m[I 2022-03-26 12:10:51,850]\u001b[0m Trial 73 finished with value: 0.8160824041168585 and parameters: {'alpha': 0.3611668089136175, 'fit_prior': False}. Best is trial 59 with value: 0.8215036621833335.\u001b[0m\n",
      "\u001b[32m[I 2022-03-26 12:10:51,934]\u001b[0m Trial 75 finished with value: 0.8153003706234937 and parameters: {'alpha': 0.3832308207144749, 'fit_prior': False}. Best is trial 59 with value: 0.8215036621833335.\u001b[0m\n",
      "\u001b[32m[I 2022-03-26 12:10:52,108]\u001b[0m Trial 74 finished with value: 0.7929031119035397 and parameters: {'alpha': 1.3387467641215733, 'fit_prior': False}. Best is trial 59 with value: 0.8215036621833335.\u001b[0m\n",
      "\u001b[32m[I 2022-03-26 12:10:52,476]\u001b[0m Trial 77 finished with value: 0.8157924943234901 and parameters: {'alpha': 0.37064588305917, 'fit_prior': False}. Best is trial 59 with value: 0.8215036621833335.\u001b[0m\n",
      "\u001b[32m[I 2022-03-26 12:10:52,629]\u001b[0m Trial 76 finished with value: 0.8111074905871397 and parameters: {'alpha': 0.5086673145464906, 'fit_prior': False}. Best is trial 59 with value: 0.8215036621833335.\u001b[0m\n",
      "\u001b[32m[I 2022-03-26 12:10:52,725]\u001b[0m Trial 79 finished with value: 0.8155337006870619 and parameters: {'alpha': 0.3770996682405195, 'fit_prior': False}. Best is trial 59 with value: 0.8215036621833335.\u001b[0m\n",
      "\u001b[32m[I 2022-03-26 12:10:53,068]\u001b[0m Trial 78 finished with value: 0.8159158835318566 and parameters: {'alpha': 0.3657362564781289, 'fit_prior': False}. Best is trial 59 with value: 0.8215036621833335.\u001b[0m\n",
      "\u001b[32m[I 2022-03-26 12:10:53,677]\u001b[0m Trial 82 finished with value: 0.7934373740620154 and parameters: {'alpha': 1.3045813123024865, 'fit_prior': False}. Best is trial 59 with value: 0.8215036621833335.\u001b[0m\n",
      "\u001b[32m[I 2022-03-26 12:10:53,806]\u001b[0m Trial 83 finished with value: 0.8111900178282315 and parameters: {'alpha': 0.5065000070578127, 'fit_prior': False}. Best is trial 59 with value: 0.8215036621833335.\u001b[0m\n",
      "\u001b[32m[I 2022-03-26 12:10:53,854]\u001b[0m Trial 80 finished with value: 0.8149844258720599 and parameters: {'alpha': 0.3940813388492407, 'fit_prior': False}. Best is trial 59 with value: 0.8215036621833335.\u001b[0m\n",
      "\u001b[32m[I 2022-03-26 12:10:54,071]\u001b[0m Trial 84 finished with value: 0.8199518167273213 and parameters: {'alpha': 0.24932828019763353, 'fit_prior': False}. Best is trial 59 with value: 0.8215036621833335.\u001b[0m\n",
      "\u001b[32m[I 2022-03-26 12:10:54,074]\u001b[0m Trial 81 finished with value: 0.8146711148972048 and parameters: {'alpha': 0.40306154988045495, 'fit_prior': False}. Best is trial 59 with value: 0.8215036621833335.\u001b[0m\n",
      "\u001b[32m[I 2022-03-26 12:10:54,375]\u001b[0m Trial 85 finished with value: 0.819742169436409 and parameters: {'alpha': 0.2561788220351866, 'fit_prior': False}. Best is trial 59 with value: 0.8215036621833335.\u001b[0m\n",
      "\u001b[32m[I 2022-03-26 12:10:55,066]\u001b[0m Trial 86 finished with value: 0.820344561425717 and parameters: {'alpha': 0.2384445360495241, 'fit_prior': False}. Best is trial 59 with value: 0.8215036621833335.\u001b[0m\n",
      "\u001b[32m[I 2022-03-26 12:10:55,095]\u001b[0m Trial 89 finished with value: 0.8197573695847259 and parameters: {'alpha': 0.2556390472093364, 'fit_prior': False}. Best is trial 59 with value: 0.8215036621833335.\u001b[0m\n",
      "\u001b[32m[I 2022-03-26 12:10:55,327]\u001b[0m Trial 88 finished with value: 0.8199101111251225 and parameters: {'alpha': 0.2506684113614536, 'fit_prior': False}. Best is trial 59 with value: 0.8215036621833335.\u001b[0m\n",
      "\u001b[32m[I 2022-03-26 12:10:55,357]\u001b[0m Trial 87 finished with value: 0.8193261203442127 and parameters: {'alpha': 0.2674097423728272, 'fit_prior': False}. Best is trial 59 with value: 0.8215036621833335.\u001b[0m\n",
      "\u001b[32m[I 2022-03-26 12:10:56,036]\u001b[0m Trial 91 finished with value: 0.8197509042152479 and parameters: {'alpha': 0.25568519645480564, 'fit_prior': False}. Best is trial 59 with value: 0.8215036621833335.\u001b[0m\n",
      "\u001b[32m[I 2022-03-26 12:10:56,068]\u001b[0m Trial 90 finished with value: 0.8198737576960659 and parameters: {'alpha': 0.25271951463774994, 'fit_prior': False}. Best is trial 59 with value: 0.8215036621833335.\u001b[0m\n",
      "\u001b[32m[I 2022-03-26 12:10:56,144]\u001b[0m Trial 92 finished with value: 0.8197952885925948 and parameters: {'alpha': 0.25513408191728015, 'fit_prior': False}. Best is trial 59 with value: 0.8215036621833335.\u001b[0m\n",
      "\u001b[32m[I 2022-03-26 12:10:56,155]\u001b[0m Trial 93 finished with value: 0.8197952885925948 and parameters: {'alpha': 0.2551347537515872, 'fit_prior': False}. Best is trial 59 with value: 0.8215036621833335.\u001b[0m\n",
      "\u001b[32m[I 2022-03-26 12:10:56,926]\u001b[0m Trial 96 finished with value: 0.8176266616656075 and parameters: {'alpha': 0.3180217571913329, 'fit_prior': False}. Best is trial 59 with value: 0.8215036621833335.\u001b[0m\n",
      "\u001b[32m[I 2022-03-26 12:10:56,957]\u001b[0m Trial 95 finished with value: 0.8127878019165369 and parameters: {'alpha': 0.459857429476931, 'fit_prior': False}. Best is trial 59 with value: 0.8215036621833335.\u001b[0m\n",
      "\u001b[32m[I 2022-03-26 12:10:57,048]\u001b[0m Trial 94 finished with value: 0.8130754672038943 and parameters: {'alpha': 0.4520939384606796, 'fit_prior': False}. Best is trial 59 with value: 0.8215036621833335.\u001b[0m\n",
      "\u001b[32m[I 2022-03-26 12:10:57,054]\u001b[0m Trial 97 finished with value: 0.7895087888237166 and parameters: {'alpha': 1.563176820662853, 'fit_prior': False}. Best is trial 59 with value: 0.8215036621833335.\u001b[0m\n",
      "\u001b[32m[I 2022-03-26 12:10:57,905]\u001b[0m Trial 99 finished with value: 0.8131015686691428 and parameters: {'alpha': 0.4517277085725291, 'fit_prior': False}. Best is trial 59 with value: 0.8215036621833335.\u001b[0m\n",
      "\u001b[32m[I 2022-03-26 12:10:57,919]\u001b[0m Trial 100 finished with value: 0.8123167750379752 and parameters: {'alpha': 0.4731871529274284, 'fit_prior': False}. Best is trial 59 with value: 0.8215036621833335.\u001b[0m\n",
      "\u001b[32m[I 2022-03-26 12:10:58,025]\u001b[0m Trial 101 finished with value: 0.8172876686386323 and parameters: {'alpha': 0.3271363132272938, 'fit_prior': False}. Best is trial 59 with value: 0.8215036621833335.\u001b[0m\n",
      "\u001b[32m[I 2022-03-26 12:10:58,485]\u001b[0m Trial 98 finished with value: 0.8126484475992757 and parameters: {'alpha': 0.462946850667527, 'fit_prior': False}. Best is trial 59 with value: 0.8215036621833335.\u001b[0m\n",
      "\u001b[32m[I 2022-03-26 12:10:58,943]\u001b[0m Trial 103 finished with value: 0.817406024335539 and parameters: {'alpha': 0.32387780102772845, 'fit_prior': False}. Best is trial 59 with value: 0.8215036621833335.\u001b[0m\n",
      "\u001b[32m[I 2022-03-26 12:10:58,949]\u001b[0m Trial 102 finished with value: 0.7841543583318967 and parameters: {'alpha': 1.993091273489369, 'fit_prior': False}. Best is trial 59 with value: 0.8215036621833335.\u001b[0m\n",
      "\u001b[32m[I 2022-03-26 12:10:59,429]\u001b[0m Trial 104 finished with value: 0.816980199858933 and parameters: {'alpha': 0.3347641080066903, 'fit_prior': False}. Best is trial 59 with value: 0.8215036621833335.\u001b[0m\n",
      "\u001b[32m[I 2022-03-26 12:10:59,687]\u001b[0m Trial 105 finished with value: 0.817500493499133 and parameters: {'alpha': 0.3213707515070717, 'fit_prior': False}. Best is trial 59 with value: 0.8215036621833335.\u001b[0m\n",
      "\u001b[32m[I 2022-03-26 12:10:59,808]\u001b[0m Trial 106 finished with value: 0.8170112979025334 and parameters: {'alpha': 0.3339798702336821, 'fit_prior': False}. Best is trial 59 with value: 0.8215036621833335.\u001b[0m\n",
      "\u001b[32m[I 2022-03-26 12:10:59,817]\u001b[0m Trial 107 finished with value: 0.8170013531396726 and parameters: {'alpha': 0.33418517915124796, 'fit_prior': False}. Best is trial 59 with value: 0.8215036621833335.\u001b[0m\n",
      "\u001b[32m[I 2022-03-26 12:10:59,913]\u001b[0m Trial 108 finished with value: 0.8206247657371323 and parameters: {'alpha': 0.22981970354903242, 'fit_prior': False}. Best is trial 59 with value: 0.8215036621833335.\u001b[0m\n",
      "\u001b[32m[I 2022-03-26 12:11:00,272]\u001b[0m Trial 109 finished with value: 0.8207448537029943 and parameters: {'alpha': 0.2248483802330402, 'fit_prior': False}. Best is trial 59 with value: 0.8215036621833335.\u001b[0m\n",
      "\u001b[32m[I 2022-03-26 12:11:00,474]\u001b[0m Trial 111 finished with value: 0.8214993337778731 and parameters: {'alpha': 0.2007793136049255, 'fit_prior': False}. Best is trial 59 with value: 0.8215036621833335.\u001b[0m\n",
      "\u001b[32m[I 2022-03-26 12:11:00,803]\u001b[0m Trial 112 finished with value: 0.8205344744203157 and parameters: {'alpha': 0.23348640884871813, 'fit_prior': False}. Best is trial 59 with value: 0.8215036621833335.\u001b[0m\n",
      "\u001b[32m[I 2022-03-26 12:11:01,230]\u001b[0m Trial 110 finished with value: 0.8208829234635893 and parameters: {'alpha': 0.22030350749117722, 'fit_prior': False}. Best is trial 59 with value: 0.8215036621833335.\u001b[0m\n",
      "\u001b[32m[I 2022-03-26 12:11:01,372]\u001b[0m Trial 115 finished with value: 0.8206132016244626 and parameters: {'alpha': 0.23124893203307417, 'fit_prior': False}. Best is trial 59 with value: 0.8215036621833335.\u001b[0m\n",
      "\u001b[32m[I 2022-03-26 12:11:01,475]\u001b[0m Trial 113 finished with value: 0.8204245093681926 and parameters: {'alpha': 0.2361875177130826, 'fit_prior': False}. Best is trial 59 with value: 0.8215036621833335.\u001b[0m\n",
      "\u001b[32m[I 2022-03-26 12:11:02,122]\u001b[0m Trial 114 finished with value: 0.8206597471627489 and parameters: {'alpha': 0.2288135996305088, 'fit_prior': False}. Best is trial 59 with value: 0.8215036621833335.\u001b[0m\n",
      "\u001b[32m[I 2022-03-26 12:11:02,135]\u001b[0m Trial 117 finished with value: 0.8205394468017461 and parameters: {'alpha': 0.23342169856453374, 'fit_prior': False}. Best is trial 59 with value: 0.8215036621833335.\u001b[0m\n",
      "\u001b[32m[I 2022-03-26 12:11:02,178]\u001b[0m Trial 118 finished with value: 0.8213503311443922 and parameters: {'alpha': 0.20663214343842598, 'fit_prior': False}. Best is trial 59 with value: 0.8215036621833335.\u001b[0m\n",
      "\u001b[32m[I 2022-03-26 12:11:02,259]\u001b[0m Trial 116 finished with value: 0.82146872915156 and parameters: {'alpha': 0.20265780424819782, 'fit_prior': False}. Best is trial 59 with value: 0.8215036621833335.\u001b[0m\n",
      "\u001b[32m[I 2022-03-26 12:11:02,404]\u001b[0m Trial 119 finished with value: 0.8211395149042682 and parameters: {'alpha': 0.2131833503855636, 'fit_prior': False}. Best is trial 59 with value: 0.8215036621833335.\u001b[0m\n",
      "\u001b[32m[I 2022-03-26 12:11:03,059]\u001b[0m Trial 120 finished with value: 0.8214000845327704 and parameters: {'alpha': 0.20452427838460308, 'fit_prior': False}. Best is trial 59 with value: 0.8215036621833335.\u001b[0m\n",
      "\u001b[32m[I 2022-03-26 12:11:03,153]\u001b[0m Trial 121 finished with value: 0.8211818644824372 and parameters: {'alpha': 0.21016570138577303, 'fit_prior': False}. Best is trial 59 with value: 0.8215036621833335.\u001b[0m\n",
      "\u001b[32m[I 2022-03-26 12:11:03,336]\u001b[0m Trial 122 finished with value: 0.8212025431656578 and parameters: {'alpha': 0.21101501114986357, 'fit_prior': False}. Best is trial 59 with value: 0.8215036621833335.\u001b[0m\n",
      "\u001b[32m[I 2022-03-26 12:11:04,023]\u001b[0m Trial 123 finished with value: 0.8184447145013145 and parameters: {'alpha': 0.2934537609312618, 'fit_prior': False}. Best is trial 59 with value: 0.8215036621833335.\u001b[0m\n",
      "\u001b[32m[I 2022-03-26 12:11:04,168]\u001b[0m Trial 125 finished with value: 0.8214687533484817 and parameters: {'alpha': 0.20251219700187192, 'fit_prior': False}. Best is trial 59 with value: 0.8215036621833335.\u001b[0m\n",
      "\u001b[32m[I 2022-03-26 12:11:04,171]\u001b[0m Trial 126 finished with value: 0.8186013521599138 and parameters: {'alpha': 0.29020519913232595, 'fit_prior': False}. Best is trial 59 with value: 0.8215036621833335.\u001b[0m\n",
      "\u001b[32m[I 2022-03-26 12:11:04,831]\u001b[0m Trial 127 finished with value: 0.8214225983562145 and parameters: {'alpha': 0.20335171189322543, 'fit_prior': False}. Best is trial 59 with value: 0.8215036621833335.\u001b[0m\n",
      "\u001b[32m[I 2022-03-26 12:11:04,860]\u001b[0m Trial 124 finished with value: 0.821442301665596 and parameters: {'alpha': 0.2028163370874402, 'fit_prior': False}. Best is trial 59 with value: 0.8215036621833335.\u001b[0m\n",
      "\u001b[32m[I 2022-03-26 12:11:04,990]\u001b[0m Trial 128 finished with value: 0.8184350043486367 and parameters: {'alpha': 0.2939324558972331, 'fit_prior': False}. Best is trial 59 with value: 0.8215036621833335.\u001b[0m\n",
      "\u001b[32m[I 2022-03-26 12:11:05,002]\u001b[0m Trial 130 finished with value: 0.8183484747228 and parameters: {'alpha': 0.2970692591190185, 'fit_prior': False}. Best is trial 59 with value: 0.8215036621833335.\u001b[0m\n",
      "\u001b[32m[I 2022-03-26 12:11:05,501]\u001b[0m Trial 129 finished with value: 0.8215019103881814 and parameters: {'alpha': 0.20121312015607015, 'fit_prior': False}. Best is trial 59 with value: 0.8215036621833335.\u001b[0m\n",
      "\u001b[32m[I 2022-03-26 12:11:05,725]\u001b[0m Trial 132 finished with value: 0.8213962441674436 and parameters: {'alpha': 0.20509142682937148, 'fit_prior': False}. Best is trial 59 with value: 0.8215036621833335.\u001b[0m\n",
      "\u001b[32m[I 2022-03-26 12:11:06,021]\u001b[0m Trial 133 finished with value: 0.8215016273841557 and parameters: {'alpha': 0.2005655526497986, 'fit_prior': False}. Best is trial 59 with value: 0.8215036621833335.\u001b[0m\n",
      "\u001b[32m[I 2022-03-26 12:11:06,246]\u001b[0m Trial 134 finished with value: 0.8186192848543751 and parameters: {'alpha': 0.28927605230062126, 'fit_prior': False}. Best is trial 59 with value: 0.8215036621833335.\u001b[0m\n",
      "\u001b[32m[I 2022-03-26 12:11:06,405]\u001b[0m Trial 131 finished with value: 0.8187481095809556 and parameters: {'alpha': 0.2849710127648003, 'fit_prior': False}. Best is trial 59 with value: 0.8215036621833335.\u001b[0m\n",
      "\u001b[32m[I 2022-03-26 12:11:06,933]\u001b[0m Trial 136 finished with value: 0.8214205339829616 and parameters: {'alpha': 0.20393129137489904, 'fit_prior': False}. Best is trial 59 with value: 0.8215036621833335.\u001b[0m\n",
      "\u001b[32m[I 2022-03-26 12:11:06,950]\u001b[0m Trial 135 finished with value: 0.8214984309947989 and parameters: {'alpha': 0.2010106699977804, 'fit_prior': False}. Best is trial 59 with value: 0.8215036621833335.\u001b[0m\n",
      "\u001b[32m[I 2022-03-26 12:11:07,375]\u001b[0m Trial 138 finished with value: 0.8188805165721867 and parameters: {'alpha': 0.28094305988540097, 'fit_prior': False}. Best is trial 59 with value: 0.8215036621833335.\u001b[0m\n",
      "\u001b[32m[I 2022-03-26 12:11:07,428]\u001b[0m Trial 139 finished with value: 0.8214003675367962 and parameters: {'alpha': 0.20465304183947522, 'fit_prior': False}. Best is trial 59 with value: 0.8215036621833335.\u001b[0m\n",
      "\u001b[32m[I 2022-03-26 12:11:07,749]\u001b[0m Trial 137 finished with value: 0.8214402668664181 and parameters: {'alpha': 0.20287570573231528, 'fit_prior': False}. Best is trial 59 with value: 0.8215036621833335.\u001b[0m\n",
      "\u001b[32m[I 2022-03-26 12:11:07,975]\u001b[0m Trial 141 finished with value: 0.8214999239828465 and parameters: {'alpha': 0.20106492020274302, 'fit_prior': False}. Best is trial 59 with value: 0.8215036621833335.\u001b[0m\n",
      "\u001b[32m[I 2022-03-26 12:11:08,119]\u001b[0m Trial 140 finished with value: 0.8191455389860307 and parameters: {'alpha': 0.27342420844319787, 'fit_prior': False}. Best is trial 59 with value: 0.8215036621833335.\u001b[0m\n",
      "\u001b[32m[I 2022-03-26 12:11:08,169]\u001b[0m Trial 144 finished with value: 0.8147441665958016 and parameters: {'alpha': 0.40021229140001546, 'fit_prior': False}. Best is trial 59 with value: 0.8215036621833335.\u001b[0m\n",
      "\u001b[32m[I 2022-03-26 12:11:08,759]\u001b[0m Trial 142 finished with value: 0.8214199195810665 and parameters: {'alpha': 0.20346147530327177, 'fit_prior': False}. Best is trial 59 with value: 0.8215036621833335.\u001b[0m\n",
      "\u001b[32m[I 2022-03-26 12:11:08,828]\u001b[0m Trial 145 finished with value: 0.8116301213837535 and parameters: {'alpha': 0.271321425654811, 'fit_prior': True}. Best is trial 59 with value: 0.8215036621833335.\u001b[0m\n",
      "\u001b[32m[I 2022-03-26 12:11:08,870]\u001b[0m Trial 143 finished with value: 0.8215013443801297 and parameters: {'alpha': 0.20062288573182033, 'fit_prior': False}. Best is trial 59 with value: 0.8215036621833335.\u001b[0m\n",
      "\u001b[32m[I 2022-03-26 12:11:09,458]\u001b[0m Trial 147 finished with value: 0.8140945185855916 and parameters: {'alpha': 0.4200120916549589, 'fit_prior': False}. Best is trial 59 with value: 0.8215036621833335.\u001b[0m\n",
      "\u001b[32m[I 2022-03-26 12:11:09,821]\u001b[0m Trial 146 finished with value: 0.8116086904761414 and parameters: {'alpha': 0.27184833485267246, 'fit_prior': True}. Best is trial 59 with value: 0.8215036621833335.\u001b[0m\n",
      "\u001b[32m[I 2022-03-26 12:11:10,091]\u001b[0m Trial 151 finished with value: 0.8164395273774269 and parameters: {'alpha': 0.3522023892426771, 'fit_prior': False}. Best is trial 59 with value: 0.8215036621833335.\u001b[0m\n",
      "\u001b[32m[I 2022-03-26 12:11:10,281]\u001b[0m Trial 148 finished with value: 0.8117951443099828 and parameters: {'alpha': 0.2683301261903947, 'fit_prior': True}. Best is trial 59 with value: 0.8215036621833335.\u001b[0m\n",
      "\u001b[32m[I 2022-03-26 12:11:10,300]\u001b[0m Trial 150 finished with value: 0.8117329831740108 and parameters: {'alpha': 0.2696983993960177, 'fit_prior': True}. Best is trial 59 with value: 0.8215036621833335.\u001b[0m\n",
      "\u001b[32m[I 2022-03-26 12:11:10,445]\u001b[0m Trial 149 finished with value: 0.8115835939588069 and parameters: {'alpha': 0.2727244789711367, 'fit_prior': True}. Best is trial 59 with value: 0.8215036621833335.\u001b[0m\n",
      "\u001b[32m[I 2022-03-26 12:11:10,484]\u001b[0m Trial 152 finished with value: 0.8019152702274237 and parameters: {'alpha': 0.8470695311116324, 'fit_prior': False}. Best is trial 59 with value: 0.8215036621833335.\u001b[0m\n",
      "\u001b[32m[I 2022-03-26 12:11:10,803]\u001b[0m Trial 155 finished with value: 0.8017942337734896 and parameters: {'alpha': 0.850595352032569, 'fit_prior': False}. Best is trial 59 with value: 0.8215036621833335.\u001b[0m\n",
      "\u001b[32m[I 2022-03-26 12:11:10,827]\u001b[0m Trial 153 finished with value: 0.8165105846052274 and parameters: {'alpha': 0.349380216046971, 'fit_prior': False}. Best is trial 59 with value: 0.8215036621833335.\u001b[0m\n",
      "\u001b[32m[I 2022-03-26 12:11:11,479]\u001b[0m Trial 154 finished with value: 0.815963698908743 and parameters: {'alpha': 0.3646116779236312, 'fit_prior': False}. Best is trial 59 with value: 0.8215036621833335.\u001b[0m\n",
      "\u001b[32m[I 2022-03-26 12:11:11,708]\u001b[0m Trial 156 finished with value: 0.819556750830985 and parameters: {'alpha': 0.2614151163299452, 'fit_prior': False}. Best is trial 59 with value: 0.8215036621833335.\u001b[0m\n",
      "\u001b[32m[I 2022-03-26 12:11:12,367]\u001b[0m Trial 157 finished with value: 0.8179144647754616 and parameters: {'alpha': 0.3092878444494067, 'fit_prior': False}. Best is trial 59 with value: 0.8215036621833335.\u001b[0m\n",
      "\u001b[32m[I 2022-03-26 12:11:12,406]\u001b[0m Trial 159 finished with value: 0.8215089417657113 and parameters: {'alpha': 0.20023952734891623, 'fit_prior': False}. Best is trial 159 with value: 0.8215089417657113.\u001b[0m\n",
      "\u001b[32m[I 2022-03-26 12:11:12,418]\u001b[0m Trial 158 finished with value: 0.8177323097730055 and parameters: {'alpha': 0.31389986318448215, 'fit_prior': False}. Best is trial 159 with value: 0.8215089417657113.\u001b[0m\n",
      "\u001b[32m[I 2022-03-26 12:11:12,498]\u001b[0m Trial 161 finished with value: 0.8202126505400811 and parameters: {'alpha': 0.24218210306508792, 'fit_prior': False}. Best is trial 159 with value: 0.8215089417657113.\u001b[0m\n",
      "\u001b[32m[I 2022-03-26 12:11:13,106]\u001b[0m Trial 160 finished with value: 0.8214828698745379 and parameters: {'alpha': 0.2023492479568708, 'fit_prior': False}. Best is trial 159 with value: 0.8215089417657113.\u001b[0m\n",
      "\u001b[32m[I 2022-03-26 12:11:13,278]\u001b[0m Trial 162 finished with value: 0.821491116613243 and parameters: {'alpha': 0.20091347751645064, 'fit_prior': False}. Best is trial 159 with value: 0.8215089417657113.\u001b[0m\n",
      "\u001b[32m[I 2022-03-26 12:11:13,487]\u001b[0m Trial 163 finished with value: 0.8214998755890034 and parameters: {'alpha': 0.20059092776398035, 'fit_prior': False}. Best is trial 159 with value: 0.8215089417657113.\u001b[0m\n",
      "\u001b[32m[I 2022-03-26 12:11:13,612]\u001b[0m Trial 164 finished with value: 0.8176891300025272 and parameters: {'alpha': 0.3159037609600889, 'fit_prior': False}. Best is trial 159 with value: 0.8215089417657113.\u001b[0m\n",
      "\u001b[32m[I 2022-03-26 12:11:14,369]\u001b[0m Trial 166 finished with value: 0.8215074487776636 and parameters: {'alpha': 0.20018174903755726, 'fit_prior': False}. Best is trial 159 with value: 0.8215089417657113.\u001b[0m\n",
      "\u001b[32m[I 2022-03-26 12:11:14,422]\u001b[0m Trial 165 finished with value: 0.8214895698541987 and parameters: {'alpha': 0.20217460185826738, 'fit_prior': False}. Best is trial 159 with value: 0.8215089417657113.\u001b[0m\n",
      "\u001b[32m[I 2022-03-26 12:11:14,455]\u001b[0m Trial 170 finished with value: 0.8202340868248467 and parameters: {'alpha': 0.2413942318127384, 'fit_prior': False}. Best is trial 159 with value: 0.8215089417657113.\u001b[0m\n",
      "\u001b[32m[I 2022-03-26 12:11:14,489]\u001b[0m Trial 169 finished with value: 0.8214214125691143 and parameters: {'alpha': 0.20339735307259996, 'fit_prior': False}. Best is trial 159 with value: 0.8215089417657113.\u001b[0m\n",
      "\u001b[32m[I 2022-03-26 12:11:14,496]\u001b[0m Trial 167 finished with value: 0.8202423281863984 and parameters: {'alpha': 0.24150829952909258, 'fit_prior': False}. Best is trial 159 with value: 0.8215089417657113.\u001b[0m\n",
      "\u001b[32m[I 2022-03-26 12:11:15,118]\u001b[0m Trial 168 finished with value: 0.8215019103881814 and parameters: {'alpha': 0.20121945805528263, 'fit_prior': False}. Best is trial 159 with value: 0.8215089417657113.\u001b[0m\n",
      "\u001b[32m[I 2022-03-26 12:11:15,435]\u001b[0m Trial 172 finished with value: 0.8200272695741936 and parameters: {'alpha': 0.24740312653273377, 'fit_prior': False}. Best is trial 159 with value: 0.8215089417657113.\u001b[0m\n",
      "\u001b[32m[I 2022-03-26 12:11:15,562]\u001b[0m Trial 171 finished with value: 0.820116639994596 and parameters: {'alpha': 0.24535015722490341, 'fit_prior': False}. Best is trial 159 with value: 0.8215089417657113.\u001b[0m\n",
      "\u001b[32m[I 2022-03-26 12:11:16,404]\u001b[0m Trial 173 finished with value: 0.8200048821125107 and parameters: {'alpha': 0.24806208648963385, 'fit_prior': False}. Best is trial 159 with value: 0.8215089417657113.\u001b[0m\n",
      "\u001b[32m[I 2022-03-26 12:11:16,435]\u001b[0m Trial 176 finished with value: 0.8201573514031879 and parameters: {'alpha': 0.2434139317970322, 'fit_prior': False}. Best is trial 159 with value: 0.8215089417657113.\u001b[0m\n",
      "\u001b[32m[I 2022-03-26 12:11:16,708]\u001b[0m Trial 177 finished with value: 0.8201001814684142 and parameters: {'alpha': 0.24543345799557223, 'fit_prior': False}. Best is trial 159 with value: 0.8215089417657113.\u001b[0m\n",
      "\u001b[32m[I 2022-03-26 12:11:16,969]\u001b[0m Trial 174 finished with value: 0.8200846983160716 and parameters: {'alpha': 0.24578527376713977, 'fit_prior': False}. Best is trial 159 with value: 0.8215089417657113.\u001b[0m\n",
      "\u001b[32m[I 2022-03-26 12:11:16,972]\u001b[0m Trial 178 finished with value: 0.82012540434751 and parameters: {'alpha': 0.2448235430876186, 'fit_prior': False}. Best is trial 159 with value: 0.8215089417657113.\u001b[0m\n",
      "\u001b[32m[I 2022-03-26 12:11:16,984]\u001b[0m Trial 175 finished with value: 0.8198948814027306 and parameters: {'alpha': 0.2522780724841725, 'fit_prior': False}. Best is trial 159 with value: 0.8215089417657113.\u001b[0m\n",
      "\u001b[32m[I 2022-03-26 12:11:17,006]\u001b[0m Trial 180 finished with value: 0.8215089175687899 and parameters: {'alpha': 0.2001959362402649, 'fit_prior': False}. Best is trial 159 with value: 0.8215089417657113.\u001b[0m\n",
      "\u001b[32m[I 2022-03-26 12:11:17,335]\u001b[0m Trial 179 finished with value: 0.8201405802989051 and parameters: {'alpha': 0.24435532705208923, 'fit_prior': False}. Best is trial 159 with value: 0.8215089417657113.\u001b[0m\n",
      "\u001b[32m[I 2022-03-26 12:11:18,016]\u001b[0m Trial 181 finished with value: 0.8184447145013145 and parameters: {'alpha': 0.293433660693638, 'fit_prior': False}. Best is trial 159 with value: 0.8215089417657113.\u001b[0m\n",
      "\u001b[32m[I 2022-03-26 12:11:18,266]\u001b[0m Trial 182 finished with value: 0.8215010613761037 and parameters: {'alpha': 0.20067438313068922, 'fit_prior': False}. Best is trial 159 with value: 0.8215089417657113.\u001b[0m\n",
      "\u001b[32m[I 2022-03-26 12:11:18,645]\u001b[0m Trial 183 finished with value: 0.8215089417657113 and parameters: {'alpha': 0.20026891303018476, 'fit_prior': False}. Best is trial 159 with value: 0.8215089417657113.\u001b[0m\n",
      "\u001b[32m[I 2022-03-26 12:11:18,714]\u001b[0m Trial 184 finished with value: 0.8183885609751901 and parameters: {'alpha': 0.29592674216563136, 'fit_prior': False}. Best is trial 159 with value: 0.8215089417657113.\u001b[0m\n",
      "\u001b[32m[I 2022-03-26 12:11:18,785]\u001b[0m Trial 185 finished with value: 0.8189151370258593 and parameters: {'alpha': 0.28000984594441597, 'fit_prior': False}. Best is trial 159 with value: 0.8215089417657113.\u001b[0m\n",
      "\u001b[32m[I 2022-03-26 12:11:19,211]\u001b[0m Trial 187 finished with value: 0.8214402668664181 and parameters: {'alpha': 0.2029512167920478, 'fit_prior': False}. Best is trial 159 with value: 0.8215089417657113.\u001b[0m\n",
      "\u001b[32m[I 2022-03-26 12:11:19,220]\u001b[0m Trial 186 finished with value: 0.8215230098979246 and parameters: {'alpha': 0.20004588083672956, 'fit_prior': False}. Best is trial 186 with value: 0.8215230098979246.\u001b[0m\n",
      "\u001b[32m[I 2022-03-26 12:11:19,277]\u001b[0m Trial 188 finished with value: 0.8214962940307813 and parameters: {'alpha': 0.20196506127233824, 'fit_prior': False}. Best is trial 186 with value: 0.8215230098979246.\u001b[0m\n",
      "\u001b[32m[I 2022-03-26 12:11:19,872]\u001b[0m Trial 189 finished with value: 0.8214350114809618 and parameters: {'alpha': 0.20314789150919363, 'fit_prior': False}. Best is trial 186 with value: 0.8215230098979246.\u001b[0m\n",
      "\u001b[32m[I 2022-03-26 12:11:19,969]\u001b[0m Trial 191 finished with value: 0.8215013685770511 and parameters: {'alpha': 0.20080527402502982, 'fit_prior': False}. Best is trial 186 with value: 0.8215230098979246.\u001b[0m\n",
      "\u001b[32m[I 2022-03-26 12:11:20,819]\u001b[0m Trial 190 finished with value: 0.8214961131915949 and parameters: {'alpha': 0.20092553277237762, 'fit_prior': False}. Best is trial 186 with value: 0.8215230098979246.\u001b[0m\n",
      "\u001b[32m[I 2022-03-26 12:11:20,827]\u001b[0m Trial 193 finished with value: 0.821181985467045 and parameters: {'alpha': 0.21169730150153682, 'fit_prior': False}. Best is trial 186 with value: 0.8215230098979246.\u001b[0m\n",
      "\u001b[32m[I 2022-03-26 12:11:20,847]\u001b[0m Trial 192 finished with value: 0.821493717420473 and parameters: {'alpha': 0.20142407632930903, 'fit_prior': False}. Best is trial 186 with value: 0.8215230098979246.\u001b[0m\n",
      "\u001b[32m[I 2022-03-26 12:11:20,849]\u001b[0m Trial 195 finished with value: 0.8184388635337315 and parameters: {'alpha': 0.2930497274932954, 'fit_prior': False}. Best is trial 186 with value: 0.8215230098979246.\u001b[0m\n",
      "\u001b[32m[I 2022-03-26 12:11:20,861]\u001b[0m Trial 194 finished with value: 0.8215074729745852 and parameters: {'alpha': 0.20039169522133488, 'fit_prior': False}. Best is trial 186 with value: 0.8215230098979246.\u001b[0m\n",
      "\u001b[32m[I 2022-03-26 12:11:20,866]\u001b[0m Trial 196 finished with value: 0.8214948252396551 and parameters: {'alpha': 0.20187281970550194, 'fit_prior': False}. Best is trial 186 with value: 0.8215230098979246.\u001b[0m\n",
      "\u001b[32m[I 2022-03-26 12:11:21,342]\u001b[0m Trial 197 finished with value: 0.8187973211582033 and parameters: {'alpha': 0.2821968188344628, 'fit_prior': False}. Best is trial 186 with value: 0.8215230098979246.\u001b[0m\n",
      "\u001b[32m[I 2022-03-26 12:11:21,345]\u001b[0m Trial 198 finished with value: 0.8206103124360536 and parameters: {'alpha': 0.2315745526662666, 'fit_prior': False}. Best is trial 186 with value: 0.8215230098979246.\u001b[0m\n",
      "\u001b[32m[I 2022-03-26 12:11:21,357]\u001b[0m Trial 199 finished with value: 0.8187533703435652 and parameters: {'alpha': 0.28432171315584187, 'fit_prior': False}. Best is trial 186 with value: 0.8215230098979246.\u001b[0m\n"
     ]
    }
   ],
   "source": [
    "def nb_objective(trial, X_train = X_train, y_train = y_train, X_test = X_test, y_test = y_test):\n",
    "\n",
    "    obj_params = {\n",
    "        'alpha' : trial.suggest_uniform('alpha', 0.2, 2),\n",
    "        'fit_prior' : trial.suggest_categorical('fit_prior', [True, False])\n",
    "    }\n",
    "\n",
    "    nb_obj = MultinomialNB(**obj_params)\n",
    "    nb_obj.fit(X_train, y_train)\n",
    "\n",
    "    y_pred = nb_obj.predict_proba(X_test)\n",
    "\n",
    "    roc = roc_auc_score(y_true = y_test, y_score = y_pred, average = 'macro', multi_class='ovr')\n",
    "    \n",
    "    return roc\n",
    "\n",
    "nb_study = optuna.create_study(direction='maximize')\n",
    "nb_study.optimize(nb_objective, n_trials = 200, n_jobs = -1)"
   ]
  },
  {
   "cell_type": "code",
   "execution_count": 23,
   "metadata": {},
   "outputs": [],
   "source": [
    "nb_tuned_params = nb_study.best_params.copy()"
   ]
  },
  {
   "cell_type": "code",
   "execution_count": 24,
   "metadata": {},
   "outputs": [],
   "source": [
    "nb_tuned = MultinomialNB(**nb_tuned_params).fit(**train_data)"
   ]
  },
  {
   "cell_type": "code",
   "execution_count": 25,
   "metadata": {},
   "outputs": [
    {
     "name": "stdout",
     "output_type": "stream",
     "text": [
      "ROC AUC Score:\t 0.8400634937370027\n",
      "--- MACRO ---\n",
      "Accuracy:\t 0.7134020618556701\n",
      "Precision:\t 0.6582304164815089\n",
      "Recall:\t\t 0.6116433545410818\n",
      "F1 score:\t 0.6293978414038203\n",
      "              precision    recall  f1-score   support\n",
      "\n",
      "           0       0.59      0.42      0.49       121\n",
      "           1       0.77      0.84      0.81       576\n",
      "           2       0.61      0.57      0.59       273\n",
      "\n",
      "    accuracy                           0.71       970\n",
      "   macro avg       0.66      0.61      0.63       970\n",
      "weighted avg       0.70      0.71      0.71       970\n",
      "\n"
     ]
    }
   ],
   "source": [
    "evaluate_model(nb_tuned, **test_data)"
   ]
  },
  {
   "cell_type": "markdown",
   "metadata": {},
   "source": [
    "### Post-tuned Performance"
   ]
  },
  {
   "cell_type": "code",
   "execution_count": 26,
   "metadata": {},
   "outputs": [
    {
     "name": "stdout",
     "output_type": "stream",
     "text": [
      "ROC AUC Score:\t 0.7960796704420791\n",
      "--- MACRO ---\n",
      "Accuracy:\t 0.6780185758513931\n",
      "Precision:\t 0.7838902839482326\n",
      "Recall:\t\t 0.4562995710221646\n",
      "F1 score:\t 0.45830992391549846\n",
      "              precision    recall  f1-score   support\n",
      "\n",
      "           0       1.00      0.08      0.15       121\n",
      "           1       0.67      0.98      0.80       576\n",
      "           2       0.68      0.31      0.42       272\n",
      "\n",
      "    accuracy                           0.68       969\n",
      "   macro avg       0.78      0.46      0.46       969\n",
      "weighted avg       0.72      0.68      0.61       969\n",
      "\n"
     ]
    }
   ],
   "source": [
    "evaluate_model(nb, **val_data)"
   ]
  },
  {
   "cell_type": "markdown",
   "metadata": {},
   "source": [
    "### Confusion Matrix"
   ]
  },
  {
   "cell_type": "code",
   "execution_count": 68,
   "metadata": {},
   "outputs": [
    {
     "data": {
      "image/png": "[encoded data removed]",
      "text/plain": [
       "<Figure size 576x576 with 2 Axes>"
      ]
     },
     "metadata": {
      "needs_background": "light"
     },
     "output_type": "display_data"
    }
   ],
   "source": [
    "def create_confusion_matrix(model, model_name):\n",
    "    fig, ax = plt.subplots(1, 1, figsize = (8,8))\n",
    "    plot_confusion_matrix(model, X_test, y_test, cmap = 'Blues', ax = ax)\n",
    "    plt.title(f'Confusion Matrix for {model_name} Model')\n",
    "    plt.show()\n",
    "\n",
    "create_confusion_matrix(nb_tuned, 'Naive Bayes')"
   ]
  },
  {
   "cell_type": "markdown",
   "metadata": {},
   "source": [
    "### Feature Importance"
   ]
  },
  {
   "cell_type": "code",
   "execution_count": null,
   "metadata": {},
   "outputs": [],
   "source": [
    "fi = pd.DataFrame(nb_tuned.coef_, columns = X_val.columns).T\n",
    "\n",
    "fig, ax = plt.subplots(nrows = 1, ncols = 3, figsize=(20, 8))\n",
    "\n",
    "for idx, col in enumerate(fi.columns):\n",
    "    fi_sort = fi.sort_values(col, ascending = False).head(10)\n",
    "    sns.barplot(ax = ax[idx], data = fi, x = col, y = fi.index)\n",
    "plt.show()"
   ]
  }
 ],
 "metadata": {
  "interpreter": {
   "hash": "1c31da5edd4aad8fb53d12d73a780cc43060c0f39f08ff1fc327c1bcdbfa7e83"
  },
  "kernelspec": {
   "display_name": "Python 3.9.10 ('data_analytics')",
   "language": "python",
   "name": "python3"
  },
  "language_info": {
   "codemirror_mode": {
    "name": "ipython",
    "version": 3
   },
   "file_extension": ".py",
   "mimetype": "text/x-python",
   "name": "python",
   "nbconvert_exporter": "python",
   "pygments_lexer": "ipython3",
   "version": "3.9.10"
  },
  "orig_nbformat": 4
 },
 "nbformat": 4,
 "nbformat_minor": 2
}
