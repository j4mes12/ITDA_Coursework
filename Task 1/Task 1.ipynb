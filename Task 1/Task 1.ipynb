{
 "cells": [
  {
   "cell_type": "markdown",
   "metadata": {},
   "source": [
    "# Task 1 - Sentiment Model"
   ]
  },
  {
   "cell_type": "markdown",
   "metadata": {},
   "source": [
    "## Data Extraction - code from data_loader_demo.ipynb"
   ]
  },
  {
   "cell_type": "code",
   "execution_count": 26,
   "id": "annoying-ethiopia",
   "metadata": {},
   "outputs": [
    {
     "name": "stdout",
     "output_type": "stream",
     "text": [
      "The autoreload extension is already loaded. To reload it, use:\n",
      "  %reload_ext autoreload\n"
     ]
    }
   ],
   "source": [
    "%load_ext autoreload\n",
    "%autoreload 2\n",
    "\n",
    "import warnings\n",
    "import joblib\n",
    "\n",
    "# Exploration\n",
    "import matplotlib.pyplot as plt\n",
    "import seaborn as sns\n",
    "\n",
    "# Feature Engineering\n",
    "import numpy as np\n",
    "import pandas as pd\n",
    "\n",
    "import nltk\n",
    "import re\n",
    "from sklearn.feature_extraction.text import CountVectorizer, TfidfTransformer\n",
    "from nltk.sentiment.vader import SentimentIntensityAnalyzer\n",
    "from scipy.sparse import hstack\n",
    "\n",
    "# Modelling\n",
    "import params as p\n",
    "import functions as f\n",
    "\n",
    "from imblearn.over_sampling import RandomOverSampler\n",
    "\n",
    "from sklearn.linear_model import LogisticRegression\n",
    "from sklearn.metrics import plot_confusion_matrix, classification_report\n",
    "\n",
    "import optuna\n",
    "\n",
    "import sys\n",
    "sys.path.append('..')\n",
    "\n",
    "import data_loader"
   ]
  },
  {
   "cell_type": "code",
   "execution_count": 2,
   "metadata": {},
   "outputs": [
    {
     "name": "stderr",
     "output_type": "stream",
     "text": [
      "[nltk_data] Downloading package wordnet to\n",
      "[nltk_data]     /Users/jamesstephenson/nltk_data...\n",
      "[nltk_data]   Package wordnet is already up-to-date!\n",
      "[nltk_data] Downloading package averaged_perceptron_tagger to\n",
      "[nltk_data]     /Users/jamesstephenson/nltk_data...\n",
      "[nltk_data]   Package averaged_perceptron_tagger is already up-to-\n",
      "[nltk_data]       date!\n",
      "[nltk_data] Downloading package vader_lexicon to\n",
      "[nltk_data]     /Users/jamesstephenson/nltk_data...\n",
      "[nltk_data]   Package vader_lexicon is already up-to-date!\n"
     ]
    },
    {
     "data": {
      "text/plain": [
       "True"
      ]
     },
     "execution_count": 2,
     "metadata": {},
     "output_type": "execute_result"
    }
   ],
   "source": [
    "nltk.download('wordnet')\n",
    "nltk.download('averaged_perceptron_tagger')\n",
    "nltk.download('vader_lexicon')"
   ]
  },
  {
   "cell_type": "markdown",
   "metadata": {},
   "source": [
    "### Settings"
   ]
  },
  {
   "cell_type": "code",
   "execution_count": 3,
   "metadata": {},
   "outputs": [],
   "source": [
    "warnings.simplefilter(action='ignore', category=FutureWarning)\n",
    "warnings.simplefilter(action='ignore', category=UserWarning)"
   ]
  },
  {
   "cell_type": "markdown",
   "metadata": {},
   "source": [
    "### Import Data"
   ]
  },
  {
   "cell_type": "code",
   "execution_count": 4,
   "metadata": {},
   "outputs": [
    {
     "name": "stderr",
     "output_type": "stream",
     "text": [
      "Reusing dataset financial_phrasebank (/Users/jamesstephenson/.cache/huggingface/datasets/financial_phrasebank/sentences_50agree/1.0.0/a6d468761d4e0c8ae215c77367e1092bead39deb08fbf4bffd7c0a6991febbf0)\n",
      "100%|██████████| 1/1 [00:00<00:00, 172.95it/s]"
     ]
    },
    {
     "name": "stdout",
     "output_type": "stream",
     "text": [
      "The dataset is a dictionary with two splits: \n",
      "\n",
      "DatasetDict({\n",
      "    train: Dataset({\n",
      "        features: ['sentence', 'label'],\n",
      "        num_rows: 4846\n",
      "    })\n",
      "})\n",
      "How many instances in the train dataset? \n",
      "\n",
      "3876\n",
      "\n",
      "What does one instance look like? \n",
      "\n",
      "In his current position , Manty has worked since 1996 .\n",
      "instances in the validation dataset \n",
      "\n",
      "969\n",
      "\n",
      "instances in the test dataset \n",
      "\n",
      "970\n"
     ]
    },
    {
     "name": "stderr",
     "output_type": "stream",
     "text": [
      "\n"
     ]
    }
   ],
   "source": [
    "(\n",
    "    train_sentences, test_sentences, val_sentences, train_labels, test_labels, val_labels,\n",
    "    ) = data_loader.import_task1_data()"
   ]
  },
  {
   "cell_type": "markdown",
   "metadata": {},
   "source": [
    "## Data Exploration"
   ]
  },
  {
   "cell_type": "code",
   "execution_count": 5,
   "metadata": {},
   "outputs": [],
   "source": [
    "train = pd.DataFrame({'sentences' : train_sentences, 'labels' : train_labels})"
   ]
  },
  {
   "cell_type": "markdown",
   "metadata": {},
   "source": [
    "### Very Brief Response Analysis"
   ]
  },
  {
   "cell_type": "markdown",
   "metadata": {},
   "source": [
    "Should only need to do this for train due to random split. So would expect to see the same structure for test and val"
   ]
  },
  {
   "cell_type": "code",
   "execution_count": 6,
   "metadata": {},
   "outputs": [
    {
     "data": {
      "image/png": "[encoded data removed]",
      "text/plain": [
       "<Figure size 1080x576 with 1 Axes>"
      ]
     },
     "metadata": {
      "needs_background": "light"
     },
     "output_type": "display_data"
    }
   ],
   "source": [
    "# Make figure and axis\n",
    "fig, ax = plt.subplots(nrows = 1, ncols = 1, figsize = (15, 8))\n",
    "\n",
    "# Create plot of label counts\n",
    "ax = sns.countplot(data = train, x = 'labels').set(title = 'Label Counts for Train Data')\n",
    "\n",
    "# Edit plot to show correct labels\n",
    "plt.xlabel(\"Labels\")\n",
    "plt.ylabel(\"Frequency\")\n",
    "plt.xticks(rotation = 0)\n",
    "\n",
    "# Show Plot\n",
    "plt.show()"
   ]
  },
  {
   "cell_type": "markdown",
   "metadata": {},
   "source": [
    "There is a slight imbalance in labels, but nothing that should be an issue. If we find this is an issue later on, we can perform some over or under sampling."
   ]
  },
  {
   "cell_type": "markdown",
   "metadata": {},
   "source": [
    "# Featuring Engineering"
   ]
  },
  {
   "cell_type": "markdown",
   "metadata": {},
   "source": [
    "### Sentence Processing"
   ]
  },
  {
   "cell_type": "code",
   "execution_count": 7,
   "metadata": {},
   "outputs": [],
   "source": [
    "# Remove some stopwords to capture negation in n-grams if possible\n",
    "stop_words = nltk.corpus.stopwords.words('english')\n",
    "stop_words.remove('no')\n",
    "stop_words.remove('not')\n",
    "stop_words.remove('but')\n",
    "\n",
    "# Define a function to get the position tag for each word - this helps to lemmatize words correctly with context\n",
    "def get_wordnet_pos(word: str):\n",
    "        '''Map POS tag to first character lemmatize() accepts\n",
    "        \n",
    "        Arguments:\n",
    "            word (str): word to find wordnet position tag for'''\n",
    "        \n",
    "        # Get first letter of pos_tag\n",
    "        tag = nltk.pos_tag([word])[0][1][0].upper()\n",
    "\n",
    "        # Translate letter into wordnet position tag\n",
    "        tag_dict = {\n",
    "            'J': nltk.corpus.wordnet.ADJ,\n",
    "            'N': nltk.corpus.wordnet.NOUN,\n",
    "            'V': nltk.corpus.wordnet.VERB,\n",
    "            'R': nltk.corpus.wordnet.ADV\n",
    "            }\n",
    "\n",
    "        return tag_dict.get(tag, nltk.corpus.wordnet.NOUN)\n",
    "\n",
    "def text_preprocess(sentence: str):\n",
    "    '''Preprocesses the inputted sentence and does the following: sets to lowercase,\n",
    "    removes unwanted characters, lemmatizes and removes stopwords\n",
    "    \n",
    "    Arguments:\n",
    "        sentence (str): sentence to be processed\n",
    "\n",
    "    Returns:\n",
    "        sentence (str): processed sentence'''\n",
    "\n",
    "    # Set to lower case\n",
    "    sentence = str(sentence).lower()\n",
    "    \n",
    "    # Remove non-letter characters and replace the abbreviation 'mn' for million\n",
    "    sentence = re.sub(r'[^a-zA-Z\\s]',r'', sentence)\n",
    "    sentence = re.sub('mn', 'million', sentence)\n",
    "\n",
    "    # Load up a WordNet Lemmatizer\n",
    "    wnl = nltk.stem.WordNetLemmatizer()\n",
    "\n",
    "    # Wordnet lemmatizer with position tagging to give context\n",
    "    sentence = ' '.join([wnl.lemmatize(word, get_wordnet_pos(word)) for word in nltk.word_tokenize(sentence)])\n",
    "    \n",
    "    # Removal of Stopwords\n",
    "    sentence = ' '.join([word for word in nltk.word_tokenize(sentence) if word not in stop_words])\n",
    "    \n",
    "    return sentence\n",
    "\n",
    "# Turn the above function into a vectorized function to work on columns for sentences\n",
    "vect_text_preprocess = np.vectorize(text_preprocess)"
   ]
  },
  {
   "cell_type": "markdown",
   "metadata": {},
   "source": [
    "### Create Modelling Features"
   ]
  },
  {
   "cell_type": "code",
   "execution_count": 8,
   "metadata": {},
   "outputs": [],
   "source": [
    "def get_lexicon_scores(cvec: CountVectorizer):\n",
    "\n",
    "    sia = SentimentIntensityAnalyzer()\n",
    "\n",
    "    vocab = cvec.vocabulary_\n",
    "\n",
    "    lex_pos_scores = np.zeros((1, len(vocab)))\n",
    "    lex_neg_scores = np.zeros((1, len(vocab)))\n",
    "\n",
    "    for i, word in enumerate(vocab):\n",
    "        if word in sia.lexicon and sia.lexicon[word] > 0:\n",
    "            lex_pos_scores[0, i] = 1\n",
    "        elif word in sia.lexicon and sia.lexicon[word] < 0:\n",
    "            lex_neg_scores[0, i] = 1\n",
    "\n",
    "    return lex_pos_scores, lex_neg_scores\n",
    "\n",
    "\n",
    "def create_lexicon_feature(data, cvec):\n",
    "\n",
    "    lex_pos_scores, lex_neg_scores = get_lexicon_scores(cvec)\n",
    "\n",
    "    lex_pos = np.sum(data.multiply(lex_pos_scores), axis=1)\n",
    "    lex_neg = np.sum(data.multiply(lex_neg_scores), axis=1)\n",
    "\n",
    "    return np.concatenate((lex_pos, lex_neg), axis = 1)\n",
    "\n",
    "def generate_data_columns(cvec: CountVectorizer):\n",
    "\n",
    "    opt = cvec.get_feature_names()\n",
    "    opt.append('negative_lexicon')\n",
    "    opt.append('positive_lexicon')\n",
    "\n",
    "    return opt\n",
    "\n",
    "\n",
    "def create_modelling_feature(train, test, val):\n",
    "\n",
    "    cvec = CountVectorizer(ngram_range = (1, 2))\n",
    "\n",
    "    cvec_train = cvec.fit_transform(train)\n",
    "    cvec_test = cvec.transform(test)\n",
    "    cvec_val = cvec.transform(val)\n",
    "\n",
    "    tfidf = TfidfTransformer()\n",
    "\n",
    "    tfidf_train = tfidf.fit_transform(cvec_train)\n",
    "    tfidf_test = tfidf.transform(cvec_test)\n",
    "    tfidf_val = tfidf.transform(cvec_val)\n",
    "\n",
    "    lex_train = create_lexicon_feature(cvec_train, cvec)\n",
    "    lex_test = create_lexicon_feature(cvec_test, cvec)\n",
    "    lex_val = create_lexicon_feature(cvec_val, cvec)\n",
    "\n",
    "    X_train = hstack((tfidf_train, lex_train))\n",
    "    X_test = hstack((tfidf_test, lex_test))\n",
    "    X_val = hstack((tfidf_val, lex_val))\n",
    "\n",
    "    Xcols = generate_data_columns(cvec)\n",
    "\n",
    "    print(X_train.shape, X_test.shape, X_val.shape)\n",
    "\n",
    "    return X_train, X_test, X_val, Xcols"
   ]
  },
  {
   "cell_type": "code",
   "execution_count": 9,
   "metadata": {},
   "outputs": [
    {
     "name": "stdout",
     "output_type": "stream",
     "text": [
      "(2907, 29387) (970, 29387) (969, 29387)\n"
     ]
    }
   ],
   "source": [
    "# Clean train, test and validation sentences using the vectorized text_processor\n",
    "clean_train_sentences = vect_text_preprocess(train_sentences)\n",
    "clean_test_sentences = vect_text_preprocess(test_sentences)\n",
    "clean_val_sentences = vect_text_preprocess(val_sentences)\n",
    "\n",
    "# Create \n",
    "X_train, X_test, X_val, Xcols = create_modelling_feature(\n",
    "    clean_train_sentences,\n",
    "    clean_test_sentences,\n",
    "    clean_val_sentences\n",
    "    )"
   ]
  },
  {
   "cell_type": "markdown",
   "metadata": {},
   "source": [
    "## Modelling\n",
    "\n",
    "We will be using the ROC AUC Score as our evaluation metric since is provides a good balance between True Negative and False Positives in one score. This is preferred to Accuracy due to our imbalance and Precision and Recall since we require a balance of the both to get a good model. Since ROC score uses predicted probabilities as its input, we don't have to tune the threshold."
   ]
  },
  {
   "cell_type": "markdown",
   "metadata": {},
   "source": [
    "### Baseline Model - Linear Regression and a TF-IDF Vectorizer\n",
    "\n",
    "We are using a Logistic Regressor since it is a robust model across a wide state space so should be able to deal with our sentences effectively. We will be using a TF-IDF Vectorizer to vectorize our sentences before modelling."
   ]
  },
  {
   "cell_type": "code",
   "execution_count": 17,
   "metadata": {},
   "outputs": [],
   "source": [
    "# Make a dictionary for each train, test and validation to make fitting and evaluation cleaner.\n",
    "train_data = {'X' : X_train.tocsr(), 'y' : train_labels}\n",
    "test_data = {'X' : X_test.tocsr(), 'y' : test_labels}\n",
    "val_data = {'X' : X_val.tocsr(), 'y' : val_labels}\n",
    "\n",
    "datasets = {\n",
    "    'train' : train_data,\n",
    "    'test' : test_data,\n",
    "    'val' : val_data\n",
    "    }"
   ]
  },
  {
   "cell_type": "code",
   "execution_count": 18,
   "metadata": {},
   "outputs": [
    {
     "name": "stdout",
     "output_type": "stream",
     "text": [
      "--- Model Metrics for Datasets --- \n"
     ]
    },
    {
     "data": {
      "text/html": [
       "<div>\n",
       "<style scoped>\n",
       "    .dataframe tbody tr th:only-of-type {\n",
       "        vertical-align: middle;\n",
       "    }\n",
       "\n",
       "    .dataframe tbody tr th {\n",
       "        vertical-align: top;\n",
       "    }\n",
       "\n",
       "    .dataframe thead th {\n",
       "        text-align: right;\n",
       "    }\n",
       "</style>\n",
       "<table border=\"1\" class=\"dataframe\">\n",
       "  <thead>\n",
       "    <tr style=\"text-align: right;\">\n",
       "      <th></th>\n",
       "      <th>ROC</th>\n",
       "      <th>Accuracy</th>\n",
       "      <th>Precision</th>\n",
       "      <th>Recall</th>\n",
       "    </tr>\n",
       "  </thead>\n",
       "  <tbody>\n",
       "    <tr>\n",
       "      <th>Train</th>\n",
       "      <td>0.993692</td>\n",
       "      <td>0.863433</td>\n",
       "      <td>0.913949</td>\n",
       "      <td>0.741468</td>\n",
       "    </tr>\n",
       "    <tr>\n",
       "      <th>Test</th>\n",
       "      <td>0.859479</td>\n",
       "      <td>0.710309</td>\n",
       "      <td>0.685781</td>\n",
       "      <td>0.535305</td>\n",
       "    </tr>\n",
       "  </tbody>\n",
       "</table>\n",
       "</div>"
      ],
      "text/plain": [
       "            ROC  Accuracy  Precision    Recall\n",
       "Train  0.993692  0.863433   0.913949  0.741468\n",
       "Test   0.859479  0.710309   0.685781  0.535305"
      ]
     },
     "execution_count": 18,
     "metadata": {},
     "output_type": "execute_result"
    }
   ],
   "source": [
    "baseline_lr = LogisticRegression()\n",
    "\n",
    "baseline_lr.fit(**train_data)\n",
    "\n",
    "f.evaluate_model_on_ttv(baseline_lr, datasets)"
   ]
  },
  {
   "cell_type": "markdown",
   "metadata": {},
   "source": [
    "### Model Tuning - Logistic Regression"
   ]
  },
  {
   "cell_type": "code",
   "execution_count": 19,
   "metadata": {},
   "outputs": [
    {
     "name": "stderr",
     "output_type": "stream",
     "text": [
      "\u001b[32m[I 2022-04-17 17:51:14,177]\u001b[0m A new study created in memory with name: T1_HyperParam_CV\u001b[0m\n",
      "/var/folders/2f/cwgmhyzx4fn5cwp5j_dpmsd00000gn/T/ipykernel_85602/3449259455.py:16: ExperimentalWarning: OptunaSearchCV is experimental (supported from v0.17.0). The interface can change in the future.\n",
      "  oscv = optuna.integration.OptunaSearchCV(\n",
      "\u001b[32m[I 2022-04-17 17:51:14,197]\u001b[0m Searching the best hyperparameters using 2907 samples...\u001b[0m\n",
      "\u001b[32m[I 2022-04-17 17:51:14,880]\u001b[0m Trial 4 finished with value: 0.5 and parameters: {'C': 0.002609658652589337}. Best is trial 4 with value: 0.5.\u001b[0m\n",
      "\u001b[32m[I 2022-04-17 17:51:14,994]\u001b[0m Trial 5 finished with value: 0.5 and parameters: {'C': 0.0018307710409670535}. Best is trial 4 with value: 0.5.\u001b[0m\n",
      "\u001b[32m[I 2022-04-17 17:51:15,026]\u001b[0m Trial 0 finished with value: 0.5 and parameters: {'C': 0.005151460396953906}. Best is trial 4 with value: 0.5.\u001b[0m\n",
      "\u001b[32m[I 2022-04-17 17:51:15,088]\u001b[0m Trial 7 finished with value: 0.5 and parameters: {'C': 0.0006995813429418889}. Best is trial 4 with value: 0.5.\u001b[0m\n",
      "\u001b[32m[I 2022-04-17 17:51:15,185]\u001b[0m Trial 2 finished with value: 0.5 and parameters: {'C': 0.004743106486110853}. Best is trial 4 with value: 0.5.\u001b[0m\n",
      "\u001b[32m[I 2022-04-17 17:51:15,215]\u001b[0m Trial 1 finished with value: 0.5 and parameters: {'C': 0.019729565817109117}. Best is trial 4 with value: 0.5.\u001b[0m\n",
      "\u001b[32m[I 2022-04-17 17:51:15,325]\u001b[0m Trial 8 finished with value: 0.5 and parameters: {'C': 0.0001151225728591812}. Best is trial 4 with value: 0.5.\u001b[0m\n",
      "\u001b[32m[I 2022-04-17 17:51:15,546]\u001b[0m Trial 13 finished with value: 0.5 and parameters: {'C': 0.0002861735021677386}. Best is trial 4 with value: 0.5.\u001b[0m\n",
      "\u001b[32m[I 2022-04-17 17:51:15,769]\u001b[0m Trial 14 finished with value: 0.5 and parameters: {'C': 0.000109310653964382}. Best is trial 4 with value: 0.5.\u001b[0m\n",
      "\u001b[32m[I 2022-04-17 17:51:16,000]\u001b[0m Trial 15 finished with value: 0.5 and parameters: {'C': 0.0019289262483864688}. Best is trial 4 with value: 0.5.\u001b[0m\n",
      "\u001b[32m[I 2022-04-17 17:51:16,104]\u001b[0m Trial 16 finished with value: 0.5 and parameters: {'C': 0.00012976391284547876}. Best is trial 4 with value: 0.5.\u001b[0m\n",
      "\u001b[32m[I 2022-04-17 17:51:18,745]\u001b[0m Trial 9 finished with value: 0.6014474761950745 and parameters: {'C': 0.09033971527315092}. Best is trial 9 with value: 0.6014474761950745.\u001b[0m\n",
      "\u001b[32m[I 2022-04-17 17:51:18,937]\u001b[0m Trial 6 finished with value: 0.6240814487445133 and parameters: {'C': 0.14219177278299555}. Best is trial 6 with value: 0.6240814487445133.\u001b[0m\n",
      "\u001b[32m[I 2022-04-17 17:51:19,662]\u001b[0m Trial 10 finished with value: 0.6030317848576777 and parameters: {'C': 0.13057234347927663}. Best is trial 6 with value: 0.6240814487445133.\u001b[0m\n",
      "\u001b[32m[I 2022-04-17 17:51:19,695]\u001b[0m Trial 12 finished with value: 0.6024780345640576 and parameters: {'C': 0.06756343067768279}. Best is trial 6 with value: 0.6240814487445133.\u001b[0m\n",
      "\u001b[32m[I 2022-04-17 17:51:20,387]\u001b[0m Trial 11 finished with value: 0.6024637231166172 and parameters: {'C': 0.059210382379324536}. Best is trial 6 with value: 0.6240814487445133.\u001b[0m\n",
      "\u001b[32m[I 2022-04-17 17:51:21,784]\u001b[0m Trial 3 finished with value: 0.6583939605728956 and parameters: {'C': 0.18814539485081155}. Best is trial 3 with value: 0.6583939605728956.\u001b[0m\n",
      "\u001b[32m[I 2022-04-17 17:51:22,362]\u001b[0m Trial 18 finished with value: 0.6024601126951026 and parameters: {'C': 0.053500261706851744}. Best is trial 3 with value: 0.6583939605728956.\u001b[0m\n",
      "\u001b[32m[I 2022-04-17 17:51:24,572]\u001b[0m Trial 17 finished with value: 0.6703907161044244 and parameters: {'C': 0.2464586138228781}. Best is trial 17 with value: 0.6703907161044244.\u001b[0m\n",
      "\u001b[32m[I 2022-04-17 17:51:26,986]\u001b[0m Trial 20 finished with value: 0.6611262669137767 and parameters: {'C': 0.19360793414166616}. Best is trial 17 with value: 0.6703907161044244.\u001b[0m\n",
      "\u001b[32m[I 2022-04-17 17:51:27,171]\u001b[0m Trial 19 finished with value: 0.6653609291535609 and parameters: {'C': 0.2145032430452157}. Best is trial 17 with value: 0.6703907161044244.\u001b[0m\n",
      "\u001b[32m[I 2022-04-17 17:51:56,462]\u001b[0m Trial 23 finished with value: 0.7942625188984564 and parameters: {'C': 0.8236887677546229}. Best is trial 23 with value: 0.7942625188984564.\u001b[0m\n",
      "\u001b[32m[I 2022-04-17 17:51:57,207]\u001b[0m Trial 21 finished with value: 0.7978765545347364 and parameters: {'C': 0.851315635922839}. Best is trial 21 with value: 0.7978765545347364.\u001b[0m\n",
      "\u001b[32m[I 2022-04-17 17:51:57,656]\u001b[0m Trial 28 finished with value: 0.7882165185492861 and parameters: {'C': 0.7647953593123541}. Best is trial 21 with value: 0.7978765545347364.\u001b[0m\n",
      "\u001b[32m[I 2022-04-17 17:51:58,722]\u001b[0m Trial 26 finished with value: 0.792934709648269 and parameters: {'C': 0.8123044547405994}. Best is trial 21 with value: 0.7978765545347364.\u001b[0m\n",
      "\u001b[32m[I 2022-04-17 17:52:02,298]\u001b[0m Trial 22 finished with value: 0.8037950068529873 and parameters: {'C': 0.9219191665408041}. Best is trial 22 with value: 0.8037950068529873.\u001b[0m\n",
      "\u001b[32m[I 2022-04-17 17:52:03,893]\u001b[0m Trial 25 finished with value: 0.8036600300328139 and parameters: {'C': 0.9213311939660056}. Best is trial 22 with value: 0.8037950068529873.\u001b[0m\n",
      "\u001b[32m[I 2022-04-17 17:52:03,960]\u001b[0m Trial 24 finished with value: 0.8036819071577052 and parameters: {'C': 0.9214739331423852}. Best is trial 22 with value: 0.8037950068529873.\u001b[0m\n",
      "\u001b[32m[I 2022-04-17 17:52:06,304]\u001b[0m Trial 27 finished with value: 0.8019054305382506 and parameters: {'C': 0.8961003390929049}. Best is trial 22 with value: 0.8037950068529873.\u001b[0m\n",
      "\u001b[32m[I 2022-04-17 17:52:14,403]\u001b[0m Trial 34 finished with value: 0.7092680332623098 and parameters: {'C': 0.35733701205759766}. Best is trial 22 with value: 0.8037950068529873.\u001b[0m\n",
      "\u001b[32m[I 2022-04-17 17:52:14,869]\u001b[0m Trial 37 finished with value: 0.5 and parameters: {'C': 0.022850765886956163}. Best is trial 22 with value: 0.8037950068529873.\u001b[0m\n",
      "\u001b[32m[I 2022-04-17 17:52:17,806]\u001b[0m Trial 36 finished with value: 0.7214091558894417 and parameters: {'C': 0.4102928846769229}. Best is trial 22 with value: 0.8037950068529873.\u001b[0m\n",
      "\u001b[32m[I 2022-04-17 17:52:21,486]\u001b[0m Trial 35 finished with value: 0.7372029536838038 and parameters: {'C': 0.4672276578472173}. Best is trial 22 with value: 0.8037950068529873.\u001b[0m\n",
      "\u001b[32m[I 2022-04-17 17:52:21,946]\u001b[0m Trial 33 finished with value: 0.7489724516242229 and parameters: {'C': 0.5310899755426803}. Best is trial 22 with value: 0.8037950068529873.\u001b[0m\n",
      "\u001b[32m[I 2022-04-17 17:52:22,489]\u001b[0m Trial 41 finished with value: 0.5 and parameters: {'C': 0.024451924803680105}. Best is trial 22 with value: 0.8037950068529873.\u001b[0m\n",
      "\u001b[32m[I 2022-04-17 17:52:26,153]\u001b[0m Trial 38 finished with value: 0.7153839854275157 and parameters: {'C': 0.38670626803817565}. Best is trial 22 with value: 0.8037950068529873.\u001b[0m\n",
      "\u001b[32m[I 2022-04-17 17:52:26,416]\u001b[0m Trial 32 finished with value: 0.7793653956984631 and parameters: {'C': 0.6994692173339486}. Best is trial 22 with value: 0.8037950068529873.\u001b[0m\n",
      "\u001b[32m[I 2022-04-17 17:52:31,708]\u001b[0m Trial 39 finished with value: 0.7251035902913282 and parameters: {'C': 0.4228128788603347}. Best is trial 22 with value: 0.8037950068529873.\u001b[0m\n",
      "\u001b[32m[I 2022-04-17 17:52:32,144]\u001b[0m Trial 45 finished with value: 0.5 and parameters: {'C': 0.009082160054789143}. Best is trial 22 with value: 0.8037950068529873.\u001b[0m\n",
      "\u001b[32m[I 2022-04-17 17:52:33,437]\u001b[0m Trial 42 finished with value: 0.7100390939914093 and parameters: {'C': 0.3611882965875801}. Best is trial 22 with value: 0.8037950068529873.\u001b[0m\n",
      "\u001b[32m[I 2022-04-17 17:52:34,640]\u001b[0m Trial 30 finished with value: 0.7982753115573326 and parameters: {'C': 0.8563753186532915}. Best is trial 22 with value: 0.8037950068529873.\u001b[0m\n",
      "\u001b[32m[I 2022-04-17 17:52:35,313]\u001b[0m Trial 44 finished with value: 0.6810814850645628 and parameters: {'C': 0.27624526887886885}. Best is trial 22 with value: 0.8037950068529873.\u001b[0m\n",
      "\u001b[32m[I 2022-04-17 17:52:36,464]\u001b[0m Trial 29 finished with value: 0.8021573737121168 and parameters: {'C': 0.8995306987205357}. Best is trial 22 with value: 0.8037950068529873.\u001b[0m\n",
      "\u001b[32m[I 2022-04-17 17:52:36,648]\u001b[0m Trial 31 finished with value: 0.8005168068829367 and parameters: {'C': 0.8803918098352452}. Best is trial 22 with value: 0.8037950068529873.\u001b[0m\n",
      "\u001b[32m[I 2022-04-17 17:52:39,389]\u001b[0m Trial 40 finished with value: 0.733782586427107 and parameters: {'C': 0.4554104188582047}. Best is trial 22 with value: 0.8037950068529873.\u001b[0m\n",
      "\u001b[32m[I 2022-04-17 17:52:41,185]\u001b[0m Trial 46 finished with value: 0.6779138161981687 and parameters: {'C': 0.26773076442293386}. Best is trial 22 with value: 0.8037950068529873.\u001b[0m\n",
      "\u001b[32m[I 2022-04-17 17:52:41,718]\u001b[0m Trial 51 finished with value: 0.6018474648058435 and parameters: {'C': 0.12218118345681958}. Best is trial 22 with value: 0.8037950068529873.\u001b[0m\n",
      "\u001b[32m[I 2022-04-17 17:52:43,375]\u001b[0m Trial 52 finished with value: 0.6015353924424822 and parameters: {'C': 0.12587681976599685}. Best is trial 22 with value: 0.8037950068529873.\u001b[0m\n",
      "\u001b[32m[I 2022-04-17 17:52:45,092]\u001b[0m Trial 53 finished with value: 0.6015435310088451 and parameters: {'C': 0.12964777000541652}. Best is trial 22 with value: 0.8037950068529873.\u001b[0m\n",
      "\u001b[32m[I 2022-04-17 17:52:46,145]\u001b[0m Trial 54 finished with value: 0.6175724209367679 and parameters: {'C': 0.14028718950025446}. Best is trial 22 with value: 0.8037950068529873.\u001b[0m\n",
      "\u001b[32m[I 2022-04-17 17:52:46,343]\u001b[0m Trial 57 finished with value: 0.5 and parameters: {'C': 0.0008655564025309937}. Best is trial 22 with value: 0.8037950068529873.\u001b[0m\n",
      "\u001b[32m[I 2022-04-17 17:53:05,335]\u001b[0m Trial 56 finished with value: 0.7511872247648407 and parameters: {'C': 0.5382634273531138}. Best is trial 22 with value: 0.8037950068529873.\u001b[0m\n",
      "\u001b[32m[I 2022-04-17 17:53:06,014]\u001b[0m Trial 55 finished with value: 0.7596171486315147 and parameters: {'C': 0.5826133074999309}. Best is trial 22 with value: 0.8037950068529873.\u001b[0m\n",
      "\u001b[32m[I 2022-04-17 17:53:09,947]\u001b[0m Trial 58 finished with value: 0.7664257210470499 and parameters: {'C': 0.616420765654829}. Best is trial 22 with value: 0.8037950068529873.\u001b[0m\n",
      "\u001b[32m[I 2022-04-17 17:53:15,332]\u001b[0m Trial 43 finished with value: 0.8081820356681207 and parameters: {'C': 0.9824725514521083}. Best is trial 43 with value: 0.8081820356681207.\u001b[0m\n",
      "\u001b[32m[I 2022-04-17 17:53:16,736]\u001b[0m Trial 49 finished with value: 0.8028708736829536 and parameters: {'C': 0.9075137252265901}. Best is trial 43 with value: 0.8081820356681207.\u001b[0m\n",
      "\u001b[32m[I 2022-04-17 17:53:22,423]\u001b[0m Trial 47 finished with value: 0.8082720464696251 and parameters: {'C': 0.9842572894771109}. Best is trial 47 with value: 0.8082720464696251.\u001b[0m\n",
      "\u001b[32m[I 2022-04-17 17:53:24,514]\u001b[0m Trial 48 finished with value: 0.8086334795771632 and parameters: {'C': 0.9881079020526534}. Best is trial 48 with value: 0.8086334795771632.\u001b[0m\n",
      "\u001b[32m[I 2022-04-17 17:53:25,031]\u001b[0m Trial 62 finished with value: 0.6951874337833968 and parameters: {'C': 0.30211069591946005}. Best is trial 48 with value: 0.8086334795771632.\u001b[0m\n",
      "\u001b[32m[I 2022-04-17 17:53:27,751]\u001b[0m Trial 50 finished with value: 0.8093164187551309 and parameters: {'C': 0.9995260908318777}. Best is trial 50 with value: 0.8093164187551309.\u001b[0m\n",
      "\u001b[32m[I 2022-04-17 17:53:31,781]\u001b[0m Trial 64 finished with value: 0.6867928543762123 and parameters: {'C': 0.28442395495084977}. Best is trial 50 with value: 0.8093164187551309.\u001b[0m\n",
      "\u001b[32m[I 2022-04-17 17:53:34,985]\u001b[0m Trial 65 finished with value: 0.6990381412747699 and parameters: {'C': 0.3232346591851602}. Best is trial 50 with value: 0.8093164187551309.\u001b[0m\n",
      "\u001b[32m[I 2022-04-17 17:53:43,215]\u001b[0m Trial 67 finished with value: 0.5117684744242309 and parameters: {'C': 0.0341687269095293}. Best is trial 50 with value: 0.8093164187551309.\u001b[0m\n",
      "\u001b[32m[I 2022-04-17 17:53:47,451]\u001b[0m Trial 66 finished with value: 0.5461694998440824 and parameters: {'C': 0.03516103136851247}. Best is trial 50 with value: 0.8093164187551309.\u001b[0m\n",
      "\u001b[32m[I 2022-04-17 17:57:00,986]\u001b[0m Trial 60 finished with value: 0.8075269221743978 and parameters: {'C': 0.9765347655679711}. Best is trial 50 with value: 0.8093164187551309.\u001b[0m\n",
      "\u001b[32m[I 2022-04-17 17:57:02,117]\u001b[0m Trial 59 finished with value: 0.8089066871465096 and parameters: {'C': 0.9915287182174675}. Best is trial 50 with value: 0.8093164187551309.\u001b[0m\n",
      "\u001b[32m[I 2022-04-17 17:57:03,265]\u001b[0m Trial 68 finished with value: 0.7635570140051525 and parameters: {'C': 0.6015538408960083}. Best is trial 50 with value: 0.8093164187551309.\u001b[0m\n",
      "\u001b[32m[I 2022-04-17 17:57:04,886]\u001b[0m Trial 61 finished with value: 0.8081276358654886 and parameters: {'C': 0.9818329136583026}. Best is trial 50 with value: 0.8093164187551309.\u001b[0m\n",
      "\u001b[32m[I 2022-04-17 17:57:05,867]\u001b[0m Trial 69 finished with value: 0.7670633516885322 and parameters: {'C': 0.6225478663092704}. Best is trial 50 with value: 0.8093164187551309.\u001b[0m\n",
      "\u001b[32m[I 2022-04-17 17:57:09,805]\u001b[0m Trial 63 finished with value: 0.8068173886589494 and parameters: {'C': 0.968616943058114}. Best is trial 50 with value: 0.8093164187551309.\u001b[0m\n",
      "\u001b[32m[I 2022-04-17 17:57:10,505]\u001b[0m Trial 75 finished with value: 0.6647132540868863 and parameters: {'C': 0.2099122600176512}. Best is trial 50 with value: 0.8093164187551309.\u001b[0m\n",
      "\u001b[32m[I 2022-04-17 17:57:11,344]\u001b[0m Trial 76 finished with value: 0.6641537801572814 and parameters: {'C': 0.20905275166525042}. Best is trial 50 with value: 0.8093164187551309.\u001b[0m\n",
      "\u001b[32m[I 2022-04-17 17:57:12,525]\u001b[0m Trial 70 finished with value: 0.76826228472937 and parameters: {'C': 0.6301510344286972}. Best is trial 50 with value: 0.8093164187551309.\u001b[0m\n",
      "\u001b[32m[I 2022-04-17 17:57:15,381]\u001b[0m Trial 71 finished with value: 0.7686847666109358 and parameters: {'C': 0.6324223947869426}. Best is trial 50 with value: 0.8093164187551309.\u001b[0m\n",
      "\u001b[32m[I 2022-04-17 17:57:15,707]\u001b[0m Trial 77 finished with value: 0.6499829833861365 and parameters: {'C': 0.177795396907802}. Best is trial 50 with value: 0.8093164187551309.\u001b[0m\n",
      "\u001b[32m[I 2022-04-17 17:57:22,072]\u001b[0m Trial 72 finished with value: 0.7687890427418506 and parameters: {'C': 0.6335886171706935}. Best is trial 50 with value: 0.8093164187551309.\u001b[0m\n",
      "\u001b[32m[I 2022-04-17 17:57:22,306]\u001b[0m Trial 83 finished with value: 0.5 and parameters: {'C': 0.004086287190159229}. Best is trial 50 with value: 0.8093164187551309.\u001b[0m\n",
      "\u001b[32m[I 2022-04-17 17:57:22,877]\u001b[0m Trial 73 finished with value: 0.7690502109577523 and parameters: {'C': 0.637648855834815}. Best is trial 50 with value: 0.8093164187551309.\u001b[0m\n",
      "\u001b[32m[I 2022-04-17 17:57:24,073]\u001b[0m Trial 74 finished with value: 0.7703690712845109 and parameters: {'C': 0.645295301012662}. Best is trial 50 with value: 0.8093164187551309.\u001b[0m\n",
      "\u001b[32m[I 2022-04-17 17:57:31,245]\u001b[0m Trial 78 finished with value: 0.7713234020314517 and parameters: {'C': 0.6544978950684482}. Best is trial 50 with value: 0.8093164187551309.\u001b[0m\n",
      "\u001b[32m[I 2022-04-17 17:57:32,400]\u001b[0m Trial 79 finished with value: 0.7731718155505292 and parameters: {'C': 0.6668452140547622}. Best is trial 50 with value: 0.8093164187551309.\u001b[0m\n",
      "\u001b[32m[I 2022-04-17 17:57:33,668]\u001b[0m Trial 80 finished with value: 0.7713841052121374 and parameters: {'C': 0.6550253565755124}. Best is trial 50 with value: 0.8093164187551309.\u001b[0m\n",
      "\u001b[32m[I 2022-04-17 17:57:37,381]\u001b[0m Trial 84 finished with value: 0.7420723093030013 and parameters: {'C': 0.49671426881644154}. Best is trial 50 with value: 0.8093164187551309.\u001b[0m\n",
      "\u001b[32m[I 2022-04-17 17:57:52,312]\u001b[0m Trial 82 finished with value: 0.805037823635994 and parameters: {'C': 0.9435363720345702}. Best is trial 50 with value: 0.8093164187551309.\u001b[0m\n",
      "\u001b[32m[I 2022-04-17 17:57:54,415]\u001b[0m Trial 81 finished with value: 0.8073617359644869 and parameters: {'C': 0.9745036843988241}. Best is trial 50 with value: 0.8093164187551309.\u001b[0m\n",
      "\u001b[32m[I 2022-04-17 17:58:02,099]\u001b[0m Trial 85 finished with value: 0.8064072242033783 and parameters: {'C': 0.9607038315222123}. Best is trial 50 with value: 0.8093164187551309.\u001b[0m\n",
      "\u001b[32m[I 2022-04-17 17:58:06,498]\u001b[0m Trial 86 finished with value: 0.8089631544832943 and parameters: {'C': 0.9936681035149488}. Best is trial 50 with value: 0.8093164187551309.\u001b[0m\n",
      "\u001b[32m[I 2022-04-17 17:58:09,129]\u001b[0m Trial 92 finished with value: 0.7336939735169342 and parameters: {'C': 0.4548537613747022}. Best is trial 50 with value: 0.8093164187551309.\u001b[0m\n",
      "\u001b[32m[I 2022-04-17 17:58:10,053]\u001b[0m Trial 89 finished with value: 0.8038992252444963 and parameters: {'C': 0.922594949524397}. Best is trial 50 with value: 0.8093164187551309.\u001b[0m\n",
      "\u001b[32m[I 2022-04-17 17:58:11,389]\u001b[0m Trial 88 finished with value: 0.8053559142481876 and parameters: {'C': 0.9477135906329623}. Best is trial 50 with value: 0.8093164187551309.\u001b[0m\n",
      "\u001b[32m[I 2022-04-17 17:58:13,068]\u001b[0m Trial 87 finished with value: 0.80823125039572 and parameters: {'C': 0.9829876876840569}. Best is trial 50 with value: 0.8093164187551309.\u001b[0m\n",
      "\u001b[32m[I 2022-04-17 17:58:14,953]\u001b[0m Trial 93 finished with value: 0.7257250039430156 and parameters: {'C': 0.4279566798790618}. Best is trial 50 with value: 0.8093164187551309.\u001b[0m\n",
      "\u001b[32m[I 2022-04-17 17:58:18,067]\u001b[0m Trial 90 finished with value: 0.8067783967013517 and parameters: {'C': 0.9667622510351518}. Best is trial 50 with value: 0.8093164187551309.\u001b[0m\n",
      "\u001b[32m[I 2022-04-17 17:58:19,671]\u001b[0m Trial 96 finished with value: 0.7121344770126417 and parameters: {'C': 0.3702191506450546}. Best is trial 50 with value: 0.8093164187551309.\u001b[0m\n",
      "\u001b[32m[I 2022-04-17 17:58:19,691]\u001b[0m Trial 95 finished with value: 0.7208051011259496 and parameters: {'C': 0.4092606939309178}. Best is trial 50 with value: 0.8093164187551309.\u001b[0m\n",
      "\u001b[32m[I 2022-04-17 17:58:20,723]\u001b[0m Trial 94 finished with value: 0.7323666996078675 and parameters: {'C': 0.45097993494917593}. Best is trial 50 with value: 0.8093164187551309.\u001b[0m\n",
      "\u001b[32m[I 2022-04-17 17:58:21,057]\u001b[0m Trial 97 finished with value: 0.716764698083858 and parameters: {'C': 0.39279942815123164}. Best is trial 50 with value: 0.8093164187551309.\u001b[0m\n",
      "\u001b[32m[I 2022-04-17 17:58:25,940]\u001b[0m Trial 91 finished with value: 0.8028784849317766 and parameters: {'C': 0.9071825856751835}. Best is trial 50 with value: 0.8093164187551309.\u001b[0m\n",
      "\u001b[32m[I 2022-04-17 17:58:32,887]\u001b[0m Trial 98 finished with value: 0.7883597431660301 and parameters: {'C': 0.765885926577805}. Best is trial 50 with value: 0.8093164187551309.\u001b[0m\n",
      "\u001b[32m[I 2022-04-17 17:58:34,353]\u001b[0m Trial 99 finished with value: 0.7890989130441056 and parameters: {'C': 0.7775619081990368}. Best is trial 50 with value: 0.8093164187551309.\u001b[0m\n",
      "\u001b[32m[I 2022-04-17 17:58:34,355]\u001b[0m Finished hyperparemeter search!\u001b[0m\n",
      "\u001b[32m[I 2022-04-17 17:58:34,358]\u001b[0m Refitting the estimator using 2907 samples...\u001b[0m\n",
      "\u001b[32m[I 2022-04-17 17:58:37,923]\u001b[0m Finished refitting! (elapsed time: 3.562 sec.)\u001b[0m\n"
     ]
    },
    {
     "data": {
      "text/plain": [
       "OptunaSearchCV(cv=10,\n",
       "               estimator=LogisticRegression(max_iter=100000, penalty='l1',\n",
       "                                            random_state=73, solver='saga'),\n",
       "               n_jobs=-1, n_trials=100,\n",
       "               param_distributions={'C': LogUniformDistribution(high=1.0, low=0.0001)},\n",
       "               random_state=73, scoring='roc_auc_ovr',\n",
       "               study=<optuna.study.study.Study object at 0x17fb97910>,\n",
       "               verbose=1)"
      ]
     },
     "execution_count": 19,
     "metadata": {},
     "output_type": "execute_result"
    }
   ],
   "source": [
    "# sampler = optuna.samplers.TPESampler(seed=p.RANDOM_STATE)\n",
    "# study = optuna.create_study(sampler = sampler, direction = 'maximize', study_name = 'T1_HyperParam_CV')\n",
    "\n",
    "\n",
    "# oscv_base_params = {\n",
    "#     'random_state' : p.RANDOM_STATE,\n",
    "#     'solver' : 'saga',\n",
    "#     'penalty' : 'l1',\n",
    "#     'max_iter' : 100000\n",
    "# }\n",
    "\n",
    "# oscv_params = {\n",
    "#     'C': optuna.distributions.LogUniformDistribution(1e-4, 1),\n",
    "# }\n",
    "\n",
    "# oscv = optuna.integration.OptunaSearchCV(\n",
    "#     study = study,\n",
    "#     estimator = LogisticRegression(**oscv_base_params),\n",
    "#     param_distributions = oscv_params,\n",
    "#     cv = 10,\n",
    "#     n_jobs = -1,\n",
    "#     n_trials = 100,\n",
    "#     random_state = p.RANDOM_STATE,\n",
    "#     refit = True,\n",
    "#     scoring = 'roc_auc_ovr',\n",
    "#     verbose = 1\n",
    "# )\n",
    "\n",
    "# oscv.fit(**train_data)"
   ]
  },
  {
   "cell_type": "code",
   "execution_count": 20,
   "metadata": {},
   "outputs": [
    {
     "name": "stdout",
     "output_type": "stream",
     "text": [
      "--- Model Metrics for Datasets --- \n"
     ]
    },
    {
     "data": {
      "text/html": [
       "<div>\n",
       "<style scoped>\n",
       "    .dataframe tbody tr th:only-of-type {\n",
       "        vertical-align: middle;\n",
       "    }\n",
       "\n",
       "    .dataframe tbody tr th {\n",
       "        vertical-align: top;\n",
       "    }\n",
       "\n",
       "    .dataframe thead th {\n",
       "        text-align: right;\n",
       "    }\n",
       "</style>\n",
       "<table border=\"1\" class=\"dataframe\">\n",
       "  <thead>\n",
       "    <tr style=\"text-align: right;\">\n",
       "      <th></th>\n",
       "      <th>ROC</th>\n",
       "      <th>Accuracy</th>\n",
       "      <th>Precision</th>\n",
       "      <th>Recall</th>\n",
       "    </tr>\n",
       "  </thead>\n",
       "  <tbody>\n",
       "    <tr>\n",
       "      <th>Train</th>\n",
       "      <td>0.856585</td>\n",
       "      <td>0.744410</td>\n",
       "      <td>0.789578</td>\n",
       "      <td>0.600893</td>\n",
       "    </tr>\n",
       "    <tr>\n",
       "      <th>Test</th>\n",
       "      <td>0.822775</td>\n",
       "      <td>0.720619</td>\n",
       "      <td>0.686031</td>\n",
       "      <td>0.585152</td>\n",
       "    </tr>\n",
       "  </tbody>\n",
       "</table>\n",
       "</div>"
      ],
      "text/plain": [
       "            ROC  Accuracy  Precision    Recall\n",
       "Train  0.856585  0.744410   0.789578  0.600893\n",
       "Test   0.822775  0.720619   0.686031  0.585152"
      ]
     },
     "execution_count": 20,
     "metadata": {},
     "output_type": "execute_result"
    }
   ],
   "source": [
    "# f.evaluate_model_on_ttv(oscv.best_estimator_, datasets)"
   ]
  },
  {
   "cell_type": "code",
   "execution_count": 21,
   "metadata": {},
   "outputs": [],
   "source": [
    "# # Create tuned LR model\n",
    "# lr_tuned = oscv.best_estimator_"
   ]
  },
  {
   "cell_type": "code",
   "execution_count": 22,
   "metadata": {},
   "outputs": [
    {
     "data": {
      "text/plain": [
       "{'C': 0.9995260908318777}"
      ]
     },
     "execution_count": 22,
     "metadata": {},
     "output_type": "execute_result"
    }
   ],
   "source": [
    "# oscv.best_params_"
   ]
  },
  {
   "cell_type": "code",
   "execution_count": 27,
   "metadata": {},
   "outputs": [
    {
     "data": {
      "text/plain": [
       "['xgb_model.pkl']"
      ]
     },
     "execution_count": 27,
     "metadata": {},
     "output_type": "execute_result"
    }
   ],
   "source": [
    "joblib.dump(oscv.best_estimator_, 'xgb_model.pkl')"
   ]
  },
  {
   "cell_type": "markdown",
   "metadata": {},
   "source": [
    "#### Overall Evaluation"
   ]
  },
  {
   "cell_type": "code",
   "execution_count": 28,
   "metadata": {},
   "outputs": [],
   "source": [
    "best_model = joblib.load('xgb_model.pkl')"
   ]
  },
  {
   "cell_type": "code",
   "execution_count": 23,
   "metadata": {},
   "outputs": [
    {
     "data": {
      "text/html": [
       "<div>\n",
       "<style scoped>\n",
       "    .dataframe tbody tr th:only-of-type {\n",
       "        vertical-align: middle;\n",
       "    }\n",
       "\n",
       "    .dataframe tbody tr th {\n",
       "        vertical-align: top;\n",
       "    }\n",
       "\n",
       "    .dataframe thead th {\n",
       "        text-align: right;\n",
       "    }\n",
       "</style>\n",
       "<table border=\"1\" class=\"dataframe\">\n",
       "  <thead>\n",
       "    <tr style=\"text-align: right;\">\n",
       "      <th></th>\n",
       "      <th>ROC</th>\n",
       "      <th>Accuracy</th>\n",
       "      <th>Precision</th>\n",
       "      <th>Recall</th>\n",
       "    </tr>\n",
       "  </thead>\n",
       "  <tbody>\n",
       "    <tr>\n",
       "      <th>Train</th>\n",
       "      <td>0.856585</td>\n",
       "      <td>0.744410</td>\n",
       "      <td>0.789578</td>\n",
       "      <td>0.600893</td>\n",
       "    </tr>\n",
       "    <tr>\n",
       "      <th>Test</th>\n",
       "      <td>0.822775</td>\n",
       "      <td>0.720619</td>\n",
       "      <td>0.686031</td>\n",
       "      <td>0.585152</td>\n",
       "    </tr>\n",
       "    <tr>\n",
       "      <th>Validation</th>\n",
       "      <td>0.841010</td>\n",
       "      <td>0.730650</td>\n",
       "      <td>0.715350</td>\n",
       "      <td>0.593966</td>\n",
       "    </tr>\n",
       "  </tbody>\n",
       "</table>\n",
       "</div>"
      ],
      "text/plain": [
       "                 ROC  Accuracy  Precision    Recall\n",
       "Train       0.856585  0.744410   0.789578  0.600893\n",
       "Test        0.822775  0.720619   0.686031  0.585152\n",
       "Validation  0.841010  0.730650   0.715350  0.593966"
      ]
     },
     "execution_count": 23,
     "metadata": {},
     "output_type": "execute_result"
    }
   ],
   "source": [
    "# Calculate model metrics for each dataset\n",
    "model_metrics = {\n",
    "    'Train' : f.evaluate_model(best_model, **train_data),\n",
    "    'Test' : f.evaluate_model(best_model, **test_data),\n",
    "    'Validation' : f.evaluate_model(best_model, **val_data)\n",
    "}\n",
    "\n",
    "# Display metrics in a dataframe\n",
    "pd.DataFrame(model_metrics).T"
   ]
  },
  {
   "cell_type": "markdown",
   "metadata": {},
   "source": [
    "### Confusion Matrix"
   ]
  },
  {
   "cell_type": "code",
   "execution_count": 24,
   "metadata": {},
   "outputs": [
    {
     "name": "stdout",
     "output_type": "stream",
     "text": [
      "              precision    recall  f1-score   support\n",
      "\n",
      "           0       0.69      0.40      0.51       121\n",
      "           1       0.74      0.94      0.82       576\n",
      "           2       0.72      0.44      0.55       272\n",
      "\n",
      "    accuracy                           0.73       969\n",
      "   macro avg       0.72      0.59      0.63       969\n",
      "weighted avg       0.73      0.73      0.71       969\n",
      "\n"
     ]
    }
   ],
   "source": [
    "print(classification_report(y_true = val_labels, y_pred = best_model.predict(X_val)))"
   ]
  },
  {
   "cell_type": "code",
   "execution_count": 25,
   "metadata": {},
   "outputs": [
    {
     "data": {
      "image/png": "[encoded data removed]",
      "text/plain": [
       "<Figure size 576x576 with 2 Axes>"
      ]
     },
     "metadata": {
      "needs_background": "light"
     },
     "output_type": "display_data"
    }
   ],
   "source": [
    "def create_confusion_matrix(model, model_name: str):\n",
    "    \"\"\"Calculates and displays a confusion matrix for model\n",
    "\n",
    "    Args:\n",
    "        model: model to evaluate\n",
    "        model_name (str): name of model\n",
    "    \"\"\"\n",
    "\n",
    "    # Create figure and axis to display plot\n",
    "    fig, ax = plt.subplots(1, 1, figsize=(8, 8))\n",
    "\n",
    "    # Calculates confusion matrix\n",
    "    plot_confusion_matrix(model, X_val, val_labels, cmap = \"Blues\", ax = ax, display_labels = ['Negative', \"Neutral\", 'Positive'])\n",
    "\n",
    "    # Sets title for plot\n",
    "    plt.title(f\"Confusion Matrix for {model_name} Model\", fontdict= {'fontsize' : 14})\n",
    "\n",
    "    plt.savefig('Confusion Matrix.png')\n",
    "\n",
    "    # Shows plot\n",
    "    plt.show()\n",
    "\n",
    "# Calculate confusion matrix for Tuned LR model\n",
    "create_confusion_matrix(best_model, \"Tuned Linear Regression\")"
   ]
  },
  {
   "cell_type": "markdown",
   "metadata": {},
   "source": [
    "### Feature Importances"
   ]
  },
  {
   "cell_type": "code",
   "execution_count": 23,
   "metadata": {},
   "outputs": [
    {
     "data": {
      "image/png": "[encoded data removed]",
      "text/plain": [
       "<Figure size 720x864 with 3 Axes>"
      ]
     },
     "metadata": {
      "needs_background": "light"
     },
     "output_type": "display_data"
    }
   ],
   "source": [
    "def plot_feature_importance(model, model_name: str):\n",
    "    \"\"\"Plots feature importances for the specified class label\n",
    "\n",
    "    Args:\n",
    "        model: model we want importances for\n",
    "        model_name (str): name of model\n",
    "        class_label (int): class we want to analyse (one of 0, 1 or 2)\n",
    "    \"\"\"\n",
    "\n",
    "    class_dict = {0 : 'Negative', 1 : 'Neutral', 2 : 'Positive'}\n",
    "\n",
    "    # Create figure and axis to display plot\n",
    "    fig, ax = plt.subplots(nrows = 3, ncols = 1, figsize=(10, 12))\n",
    "\n",
    "    for idx, cl in enumerate([0, 1, 2]):\n",
    "        # Retrive feature coefficients from model for class label\n",
    "        coefs = model.coef_[cl]\n",
    "\n",
    "        # Plot coefficients as a horizontal bar plot\n",
    "        pd.Series(coefs, index=Xcols).nlargest(5).sort_values(ascending=True).plot(\n",
    "            kind=\"barh\", ax=ax[idx], title=f\"Feature Importance (Top 5) for Group {cl}, {class_dict[cl]}\"\n",
    "        )\n",
    "\n",
    "    # Show plot\n",
    "    plt.show()\n",
    "\n",
    "\n",
    "# Call function for Tuned LR model\n",
    "plot_feature_importance(best_model, \"Tuned Logistic Regression\")\n"
   ]
  },
  {
   "cell_type": "code",
   "execution_count": null,
   "metadata": {},
   "outputs": [],
   "source": []
  }
 ],
 "metadata": {
  "interpreter": {
   "hash": "1c31da5edd4aad8fb53d12d73a780cc43060c0f39f08ff1fc327c1bcdbfa7e83"
  },
  "kernelspec": {
   "display_name": "Python 3.9.10 ('data_analytics')",
   "language": "python",
   "name": "python3"
  },
  "language_info": {
   "codemirror_mode": {
    "name": "ipython",
    "version": 3
   },
   "file_extension": ".py",
   "mimetype": "text/x-python",
   "name": "python",
   "nbconvert_exporter": "python",
   "pygments_lexer": "ipython3",
   "version": "3.9.10"
  },
  "orig_nbformat": 4
 },
 "nbformat": 4,
 "nbformat_minor": 2
}
