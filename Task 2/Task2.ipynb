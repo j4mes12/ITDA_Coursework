{
 "cells": [
  {
   "cell_type": "markdown",
   "id": "7a2ee115-d861-43eb-8006-f4728256c5c4",
   "metadata": {},
   "source": [
    "# SEC Filings"
   ]
  },
  {
   "cell_type": "markdown",
   "id": "7d151a51-ff84-4583-b58b-87d9bbac18f9",
   "metadata": {},
   "source": [
    "The data is provided in zipped text files. Unzip the file and place the 'SEC-filings' directory into the './data' directory. \n",
    "\n",
    "A related dataset in similar format is the conll2003 dataset, available from [HuggingFace](https://huggingface.co/datasets/conll2003). This could be used as a source of additional training data, but note it contains a different kind of text (different 'domain'). "
   ]
  },
  {
   "cell_type": "code",
   "execution_count": 1,
   "metadata": {},
   "outputs": [],
   "source": [
    "# Data Extraction\n",
    "import data_loader\n",
    "import warnings\n",
    "import params as p\n",
    "\n",
    "from sklearn.model_selection import train_test_split\n",
    "\n",
    "# Other\n",
    "import matplotlib.pyplot as plt\n",
    "import nltk\n",
    "from sklearn.exceptions import UndefinedMetricWarning\n",
    "from sklearn_crfsuite import CRF\n",
    "from sklearn_crfsuite.metrics import flat_classification_report, flat_f1_score\n",
    "from sklearn.metrics import make_scorer, confusion_matrix, ConfusionMatrixDisplay\n",
    "from sklearn.model_selection import RandomizedSearchCV\n",
    "from collections import Counter\n",
    "\n",
    "import optuna"
   ]
  },
  {
   "cell_type": "markdown",
   "metadata": {},
   "source": [
    "## Settings"
   ]
  },
  {
   "cell_type": "code",
   "execution_count": 2,
   "metadata": {},
   "outputs": [],
   "source": [
    "warnings.simplefilter(action='ignore', category=FutureWarning)"
   ]
  },
  {
   "cell_type": "markdown",
   "metadata": {},
   "source": [
    "## Import Data"
   ]
  },
  {
   "cell_type": "code",
   "execution_count": null,
   "metadata": {},
   "outputs": [],
   "source": [
    "(\n",
    "    train_sentences_ner, train_labels_ner, test_sentences_ner, test_labels_ner, val_sentences_ner, val_labels_ner,\n",
    "    ) = data_loader.import_task2_data()"
   ]
  },
  {
   "cell_type": "markdown",
   "metadata": {},
   "source": [
    "# Task 2 Answer"
   ]
  },
  {
   "cell_type": "markdown",
   "metadata": {},
   "source": [
    "### Clean Data"
   ]
  },
  {
   "cell_type": "code",
   "execution_count": 6,
   "metadata": {},
   "outputs": [],
   "source": [
    "def crf_word_preprocessing(word, ref):\n",
    "\n",
    "    word_features = {\n",
    "        'bias' : 1.0,\n",
    "        f'word_{ref}_lower' : word.lower(),\n",
    "        f'word_{ref}_end3' : word[-3:],\n",
    "        f'word_{ref}_end2' : word[-2:],\n",
    "        f'word_{ref}_beg' : word[:3],\n",
    "        f'word_{ref}_isupper' : word.isupper(),\n",
    "        f'word_{ref}_istitle' : word.istitle(),\n",
    "        f'word_{ref}_isdigit' : word.isdigit(),\n",
    "        f'word_{ref}_postag' : nltk.pos_tag([word])[0][1]\n",
    "        }\n",
    "\n",
    "    return word_features"
   ]
  },
  {
   "cell_type": "code",
   "execution_count": 7,
   "metadata": {},
   "outputs": [],
   "source": [
    "def crf_sentence_preprocessing(sentence):\n",
    "\n",
    "    sentence_features = []\n",
    "\n",
    "    for idx in range(len(sentence)):\n",
    "\n",
    "        word = sentence[idx]\n",
    "\n",
    "        word_features = crf_word_preprocessing(word, 0)\n",
    "\n",
    "        if idx > 0:\n",
    "            word_features = {\n",
    "                **word_features,\n",
    "                **crf_word_preprocessing(sentence[idx - 1], -1)\n",
    "                }\n",
    "        else:\n",
    "            word_features['BOS'] = True\n",
    "\n",
    "        if idx < len(sentence) - 1:\n",
    "            word_features = {\n",
    "                **word_features,\n",
    "                **crf_word_preprocessing(sentence[idx + 1], +1)\n",
    "            }\n",
    "        else:\n",
    "            word_features['EOS'] = True\n",
    "\n",
    "        sentence_features.append(word_features)\n",
    "\n",
    "    return sentence_features"
   ]
  },
  {
   "cell_type": "code",
   "execution_count": 8,
   "metadata": {},
   "outputs": [],
   "source": [
    "def crf_data_preprocessing(data):\n",
    "    opt = [crf_sentence_preprocessing(sentence) for sentence in data]\n",
    "    print('data:', len(data), 'out:', len(opt))\n",
    "    return opt"
   ]
  },
  {
   "cell_type": "markdown",
   "metadata": {},
   "source": [
    "### Preprocess Data"
   ]
  },
  {
   "cell_type": "code",
   "execution_count": 9,
   "metadata": {},
   "outputs": [
    {
     "name": "stdout",
     "output_type": "stream",
     "text": [
      "data: 921 out: 921\n",
      "data: 303 out: 303\n",
      "data: 231 out: 231\n"
     ]
    }
   ],
   "source": [
    "X_train = crf_data_preprocessing(train_sentences_ner)\n",
    "X_test = crf_data_preprocessing(test_sentences_ner)\n",
    "X_val = crf_data_preprocessing(val_sentences_ner)"
   ]
  },
  {
   "cell_type": "markdown",
   "metadata": {},
   "source": [
    "### NER Modelling"
   ]
  },
  {
   "cell_type": "code",
   "execution_count": 10,
   "metadata": {},
   "outputs": [
    {
     "data": {
      "text/plain": [
       "CRF(keep_tempfiles=None)"
      ]
     },
     "execution_count": 10,
     "metadata": {},
     "output_type": "execute_result"
    }
   ],
   "source": [
    "tagger = CRF()\n",
    "tagger.fit(\n",
    "    X = X_train,\n",
    "    y = train_labels_ner,\n",
    ")"
   ]
  },
  {
   "cell_type": "code",
   "execution_count": 11,
   "metadata": {},
   "outputs": [],
   "source": [
    "y_pred = tagger.predict(X_test)"
   ]
  },
  {
   "cell_type": "code",
   "execution_count": 12,
   "metadata": {},
   "outputs": [
    {
     "data": {
      "text/plain": [
       "['I-PER', 'I-ORG', 'I-LOC', 'I-MISC']"
      ]
     },
     "execution_count": 12,
     "metadata": {},
     "output_type": "execute_result"
    }
   ],
   "source": [
    "labels = list(tagger.classes_)\n",
    "labels.remove('O')\n",
    "labels"
   ]
  },
  {
   "cell_type": "code",
   "execution_count": 13,
   "metadata": {},
   "outputs": [
    {
     "name": "stdout",
     "output_type": "stream",
     "text": [
      "F1 Score (train): 0.9743416791115298\n",
      "F1 Score (test): 0.672484905956292\n"
     ]
    }
   ],
   "source": [
    "print('F1 Score (train):', flat_f1_score(train_labels_ner, tagger.predict(X_train), average='weighted', labels=labels))\n",
    "print('F1 Score (test):', flat_f1_score(test_labels_ner, tagger.predict(X_test), average='weighted', labels=labels))"
   ]
  },
  {
   "cell_type": "markdown",
   "metadata": {},
   "source": [
    "### Tuning"
   ]
  },
  {
   "cell_type": "code",
   "execution_count": 39,
   "metadata": {},
   "outputs": [],
   "source": [
    "warnings.simplefilter(action = 'ignore', category = UndefinedMetricWarning)"
   ]
  },
  {
   "cell_type": "code",
   "execution_count": 36,
   "metadata": {},
   "outputs": [
    {
     "name": "stderr",
     "output_type": "stream",
     "text": [
      "\u001b[32m[I 2022-04-17 12:21:47,658]\u001b[0m A new study created in memory with name: NER_HyperParam_CV\u001b[0m\n",
      "/var/folders/2f/cwgmhyzx4fn5cwp5j_dpmsd00000gn/T/ipykernel_82357/4254402327.py:15: ExperimentalWarning: OptunaSearchCV is experimental (supported from v0.17.0). The interface can change in the future.\n",
      "  oscv = optuna.integration.OptunaSearchCV(\n",
      "\u001b[32m[I 2022-04-17 12:21:47,732]\u001b[0m Searching the best hyperparameters using 921 samples...\u001b[0m\n",
      "/opt/anaconda3/envs/data_analytics/lib/python3.9/site-packages/sklearn/metrics/_classification.py:1464: UndefinedMetricWarning: F-score is ill-defined and being set to 0.0 in labels with no true nor predicted samples. Use `zero_division` parameter to control this behavior.\n",
      "  _warn_prf(\n",
      "\u001b[32m[I 2022-04-17 14:52:52,292]\u001b[0m Trial 3 finished with value: 0.8336594825444632 and parameters: {'c2': 0.1202253479621472}. Best is trial 3 with value: 0.8336594825444632.\u001b[0m\n",
      "/opt/anaconda3/envs/data_analytics/lib/python3.9/site-packages/sklearn/metrics/_classification.py:1464: UndefinedMetricWarning: F-score is ill-defined and being set to 0.0 in labels with no true nor predicted samples. Use `zero_division` parameter to control this behavior.\n",
      "  _warn_prf(\n",
      "\u001b[32m[I 2022-04-17 16:59:44,101]\u001b[0m Trial 2 finished with value: 0.8388754536557927 and parameters: {'c2': 0.015676433965381733}. Best is trial 2 with value: 0.8388754536557927.\u001b[0m\n",
      "/opt/anaconda3/envs/data_analytics/lib/python3.9/site-packages/sklearn/metrics/_classification.py:1464: UndefinedMetricWarning: F-score is ill-defined and being set to 0.0 in labels with no true nor predicted samples. Use `zero_division` parameter to control this behavior.\n",
      "  _warn_prf(\n",
      "\u001b[32m[I 2022-04-17 17:00:10,340]\u001b[0m Trial 1 finished with value: 0.8421725365472368 and parameters: {'c2': 0.0003624507304991767}. Best is trial 1 with value: 0.8421725365472368.\u001b[0m\n",
      "/opt/anaconda3/envs/data_analytics/lib/python3.9/site-packages/sklearn/metrics/_classification.py:1464: UndefinedMetricWarning: F-score is ill-defined and being set to 0.0 in labels with no true nor predicted samples. Use `zero_division` parameter to control this behavior.\n",
      "  _warn_prf(\n",
      "\u001b[32m[I 2022-04-17 17:00:40,640]\u001b[0m Trial 6 finished with value: 0.8421725365472368 and parameters: {'c2': 0.0018203399857288783}. Best is trial 1 with value: 0.8421725365472368.\u001b[0m\n",
      "/opt/anaconda3/envs/data_analytics/lib/python3.9/site-packages/sklearn/metrics/_classification.py:1464: UndefinedMetricWarning: F-score is ill-defined and being set to 0.0 in labels with no true nor predicted samples. Use `zero_division` parameter to control this behavior.\n",
      "  _warn_prf(\n",
      "\u001b[32m[I 2022-04-17 17:00:50,666]\u001b[0m Trial 4 finished with value: 0.8421725365472368 and parameters: {'c2': 0.0012696647944037986}. Best is trial 1 with value: 0.8421725365472368.\u001b[0m\n",
      "\u001b[32m[I 2022-04-17 17:00:53,290]\u001b[0m Trial 5 finished with value: 0.8421725365472368 and parameters: {'c2': 0.0024866934367383203}. Best is trial 1 with value: 0.8421725365472368.\u001b[0m\n",
      "/opt/anaconda3/envs/data_analytics/lib/python3.9/site-packages/sklearn/metrics/_classification.py:1464: UndefinedMetricWarning: F-score is ill-defined and being set to 0.0 in labels with no true nor predicted samples. Use `zero_division` parameter to control this behavior.\n",
      "  _warn_prf(\n",
      "\u001b[32m[I 2022-04-17 17:18:05,781]\u001b[0m Trial 7 finished with value: 0.8421725365472368 and parameters: {'c2': 0.00015295161906214125}. Best is trial 1 with value: 0.8421725365472368.\u001b[0m\n",
      "/opt/anaconda3/envs/data_analytics/lib/python3.9/site-packages/sklearn/metrics/_classification.py:1464: UndefinedMetricWarning: F-score is ill-defined and being set to 0.0 in labels with no true nor predicted samples. Use `zero_division` parameter to control this behavior.\n",
      "  _warn_prf(\n",
      "\u001b[32m[I 2022-04-17 17:19:13,324]\u001b[0m Trial 0 finished with value: 0.8421725365472368 and parameters: {'c2': 0.002141128880556194}. Best is trial 1 with value: 0.8421725365472368.\u001b[0m\n",
      "/opt/anaconda3/envs/data_analytics/lib/python3.9/site-packages/sklearn/metrics/_classification.py:1464: UndefinedMetricWarning: F-score is ill-defined and being set to 0.0 in labels with no true nor predicted samples. Use `zero_division` parameter to control this behavior.\n",
      "  _warn_prf(\n",
      "\u001b[32m[I 2022-04-17 17:40:31,445]\u001b[0m Trial 9 finished with value: 0.8194848254388474 and parameters: {'c2': 0.5441891525766096}. Best is trial 1 with value: 0.8421725365472368.\u001b[0m\n",
      "/opt/anaconda3/envs/data_analytics/lib/python3.9/site-packages/sklearn/metrics/_classification.py:1464: UndefinedMetricWarning: F-score is ill-defined and being set to 0.0 in labels with no true nor predicted samples. Use `zero_division` parameter to control this behavior.\n",
      "  _warn_prf(\n",
      "\u001b[32m[I 2022-04-17 17:42:09,937]\u001b[0m Trial 11 finished with value: 0.8190919623475749 and parameters: {'c2': 0.603655622798453}. Best is trial 1 with value: 0.8421725365472368.\u001b[0m\n",
      "/opt/anaconda3/envs/data_analytics/lib/python3.9/site-packages/sklearn/metrics/_classification.py:1464: UndefinedMetricWarning: F-score is ill-defined and being set to 0.0 in labels with no true nor predicted samples. Use `zero_division` parameter to control this behavior.\n",
      "  _warn_prf(\n",
      "\u001b[32m[I 2022-04-17 17:44:10,185]\u001b[0m Trial 14 finished with value: 0.8230635948536437 and parameters: {'c2': 0.49496794023270796}. Best is trial 1 with value: 0.8421725365472368.\u001b[0m\n",
      "/opt/anaconda3/envs/data_analytics/lib/python3.9/site-packages/sklearn/metrics/_classification.py:1464: UndefinedMetricWarning: F-score is ill-defined and being set to 0.0 in labels with no true nor predicted samples. Use `zero_division` parameter to control this behavior.\n",
      "  _warn_prf(\n",
      "\u001b[32m[I 2022-04-17 17:57:05,062]\u001b[0m Trial 8 finished with value: 0.8403124311158454 and parameters: {'c2': 0.008770740070402624}. Best is trial 1 with value: 0.8421725365472368.\u001b[0m\n",
      "/opt/anaconda3/envs/data_analytics/lib/python3.9/site-packages/sklearn/metrics/_classification.py:1464: UndefinedMetricWarning: F-score is ill-defined and being set to 0.0 in labels with no true nor predicted samples. Use `zero_division` parameter to control this behavior.\n",
      "  _warn_prf(\n",
      "\u001b[32m[I 2022-04-17 20:24:14,395]\u001b[0m Trial 10 finished with value: 0.8376676823223939 and parameters: {'c2': 0.07444845550048926}. Best is trial 1 with value: 0.8421725365472368.\u001b[0m\n",
      "/opt/anaconda3/envs/data_analytics/lib/python3.9/site-packages/sklearn/metrics/_classification.py:1464: UndefinedMetricWarning: F-score is ill-defined and being set to 0.0 in labels with no true nor predicted samples. Use `zero_division` parameter to control this behavior.\n",
      "  _warn_prf(\n",
      "\u001b[32m[I 2022-04-17 20:24:53,503]\u001b[0m Trial 12 finished with value: 0.8376676823223939 and parameters: {'c2': 0.06936384061470544}. Best is trial 1 with value: 0.8421725365472368.\u001b[0m\n",
      "/opt/anaconda3/envs/data_analytics/lib/python3.9/site-packages/sklearn/metrics/_classification.py:1464: UndefinedMetricWarning: F-score is ill-defined and being set to 0.0 in labels with no true nor predicted samples. Use `zero_division` parameter to control this behavior.\n",
      "  _warn_prf(\n",
      "\u001b[32m[I 2022-04-17 23:11:19,519]\u001b[0m Trial 15 finished with value: 0.8380812222290956 and parameters: {'c2': 0.027256770498183192}. Best is trial 1 with value: 0.8421725365472368.\u001b[0m\n",
      "/opt/anaconda3/envs/data_analytics/lib/python3.9/site-packages/sklearn/metrics/_classification.py:1464: UndefinedMetricWarning: F-score is ill-defined and being set to 0.0 in labels with no true nor predicted samples. Use `zero_division` parameter to control this behavior.\n",
      "  _warn_prf(\n",
      "\u001b[32m[I 2022-04-17 23:25:55,130]\u001b[0m Trial 13 finished with value: 0.8421725365472368 and parameters: {'c2': 0.0021298841984040986}. Best is trial 1 with value: 0.8421725365472368.\u001b[0m\n",
      "/opt/anaconda3/envs/data_analytics/lib/python3.9/site-packages/sklearn/metrics/_classification.py:1464: UndefinedMetricWarning: F-score is ill-defined and being set to 0.0 in labels with no true nor predicted samples. Use `zero_division` parameter to control this behavior.\n",
      "  _warn_prf(\n",
      "\u001b[32m[I 2022-04-18 08:28:14,257]\u001b[0m Trial 16 finished with value: 0.8373008561660938 and parameters: {'c2': 0.05244551513937239}. Best is trial 1 with value: 0.8421725365472368.\u001b[0m\n",
      "/opt/anaconda3/envs/data_analytics/lib/python3.9/site-packages/sklearn/metrics/_classification.py:1464: UndefinedMetricWarning: F-score is ill-defined and being set to 0.0 in labels with no true nor predicted samples. Use `zero_division` parameter to control this behavior.\n",
      "  _warn_prf(\n",
      "\u001b[32m[I 2022-04-18 08:48:16,112]\u001b[0m Trial 17 finished with value: 0.8366346280942647 and parameters: {'c2': 0.020347858589335292}. Best is trial 1 with value: 0.8421725365472368.\u001b[0m\n",
      "/opt/anaconda3/envs/data_analytics/lib/python3.9/site-packages/sklearn/metrics/_classification.py:1464: UndefinedMetricWarning: F-score is ill-defined and being set to 0.0 in labels with no true nor predicted samples. Use `zero_division` parameter to control this behavior.\n",
      "  _warn_prf(\n",
      "\u001b[32m[I 2022-04-18 09:18:14,751]\u001b[0m Trial 18 finished with value: 0.8418953362700365 and parameters: {'c2': 0.00010411106881750477}. Best is trial 1 with value: 0.8421725365472368.\u001b[0m\n",
      "/opt/anaconda3/envs/data_analytics/lib/python3.9/site-packages/sklearn/metrics/_classification.py:1464: UndefinedMetricWarning: F-score is ill-defined and being set to 0.0 in labels with no true nor predicted samples. Use `zero_division` parameter to control this behavior.\n",
      "  _warn_prf(\n"
     ]
    }
   ],
   "source": [
    "sampler = optuna.samplers.TPESampler(seed=p.RANDOM_STATE)\n",
    "study = optuna.create_study(sampler = sampler, direction = 'maximize', study_name = 'NER_HyperParam_CV')\n",
    "\n",
    "oscv_params = {\n",
    "    'c2' : optuna.distributions.LogUniformDistribution(1e-4, 1)\n",
    "}\n",
    "\n",
    "# use the same metric for evaluation\n",
    "f1_scorer = make_scorer(\n",
    "    score_func = flat_f1_score,\n",
    "    average = 'weighted',\n",
    "    labels = labels\n",
    "    )\n",
    "\n",
    "oscv = optuna.integration.OptunaSearchCV(\n",
    "    study = study,\n",
    "    estimator = CRF(c1 = 1),\n",
    "    param_distributions = oscv_params,\n",
    "    cv = 10,\n",
    "    n_jobs = -1,\n",
    "    n_trials = 100,\n",
    "    random_state = p.RANDOM_STATE,\n",
    "    refit = True,\n",
    "    scoring = f1_scorer,\n",
    "    verbose = 1\n",
    ")\n",
    "\n",
    "oscv.fit(X_train, train_labels_ner)"
   ]
  },
  {
   "cell_type": "code",
   "execution_count": null,
   "metadata": {},
   "outputs": [],
   "source": [
    "tuned_crf = oscv.best_estimator_"
   ]
  },
  {
   "cell_type": "code",
   "execution_count": null,
   "metadata": {},
   "outputs": [
    {
     "name": "stdout",
     "output_type": "stream",
     "text": [
      "F1 Score (train): 0.9972332141235233\n",
      "F1 Score (test): 0.6885407988576319\n"
     ]
    }
   ],
   "source": [
    "print('F1 Score (train):', flat_f1_score(train_labels_ner, tuned_crf.predict(X_train), average='weighted', labels=labels))\n",
    "print('F1 Score (test):', flat_f1_score(test_labels_ner, tuned_crf.predict(X_test), average='weighted', labels=labels))"
   ]
  },
  {
   "cell_type": "markdown",
   "metadata": {},
   "source": [
    "### Displaying Results"
   ]
  },
  {
   "cell_type": "code",
   "execution_count": 126,
   "metadata": {},
   "outputs": [
    {
     "data": {
      "image/png": "[encoded data removed]",
      "text/plain": [
       "<Figure size 576x576 with 2 Axes>"
      ]
     },
     "metadata": {
      "needs_background": "light"
     },
     "output_type": "display_data"
    }
   ],
   "source": [
    "def create_confusion_matrix(y_true, y_pred, ner_labels):\n",
    "\n",
    "    fig, ax = plt.subplots(1, 1, figsize = (8, 8))\n",
    "\n",
    "    true = [label for sent_list in y_true for label in sent_list]\n",
    "    pred = [label for sent_list in y_pred for label in sent_list]\n",
    "\n",
    "    cm = confusion_matrix(true, pred, ner_labels)\n",
    "\n",
    "    disp = ConfusionMatrixDisplay(confusion_matrix=cm, display_labels=ner_labels)\n",
    "    disp.plot(cmap = 'Blues', ax = ax)\n",
    "\n",
    "    plt.title('Tuned CRF Tagger Confusion Matrix', fontdict={'fontsize' : 18})\n",
    "\n",
    "    plt.show()\n",
    "\n",
    "create_confusion_matrix(\n",
    "    y_pred=tuned_crf.predict(X_val),\n",
    "    y_true=val_labels_ner,\n",
    "    ner_labels = labels\n",
    ")"
   ]
  },
  {
   "cell_type": "markdown",
   "metadata": {},
   "source": [
    "### Feature Importance"
   ]
  },
  {
   "cell_type": "code",
   "execution_count": 130,
   "metadata": {},
   "outputs": [
    {
     "name": "stdout",
     "output_type": "stream",
     "text": [
      "Top positive:\n",
      "13.091088 I-ORG    word_0_lower:bank\n",
      "12.299236 I-PER    word_0_lower:borrower\n",
      "11.672579 I-PER    word_0_lower:lender\n",
      "9.572515 I-ORG    word_0_beg:Biz\n",
      "8.576968 O        bias\n",
      "8.524362 I-ORG    word_0_lower:vringo\n",
      "7.845858 I-LOC    word_0_lower:commonwealth\n",
      "6.755236 I-LOC    word_0_lower:massachusetts\n",
      "6.593633 I-LOC    word_0_lower:northwest\n",
      "6.074537 I-LOC    word_0_lower:east\n",
      "\n",
      "Top negative:\n",
      "-2.894897 O        word_0_beg:Air\n",
      "-3.380172 O        word_0_end3:wer\n",
      "-3.441826 I-LOC    word_1_end2:),\n",
      "-3.537018 O        word_0_end2:an\n",
      "-3.589350 O        word_0_end2:na\n",
      "-3.611924 O        word_1_lower:corporation\n",
      "-3.729980 O        word_0_beg:nor\n",
      "-4.439450 O        word_0_istitle\n",
      "-4.585986 O        word_0_beg:sou\n",
      "-4.810937 O        word_0_postag:NNP\n"
     ]
    }
   ],
   "source": [
    "def print_state_features(state_features):\n",
    "    for (attr, label), weight in state_features:\n",
    "        print(\"%0.6f %-8s %s\" % (weight, label, attr))\n",
    "\n",
    "print(\"Top positive:\")\n",
    "print_state_features(Counter(tuned_crf.state_features_).most_common(10))\n",
    "\n",
    "print(\"\\nTop negative:\")\n",
    "print_state_features(Counter(tuned_crf.state_features_).most_common()[-10:])"
   ]
  }
 ],
 "metadata": {
  "interpreter": {
   "hash": "1c31da5edd4aad8fb53d12d73a780cc43060c0f39f08ff1fc327c1bcdbfa7e83"
  },
  "kernelspec": {
   "display_name": "Python 3.9.10 ('data_analytics')",
   "language": "python",
   "name": "python3"
  },
  "language_info": {
   "codemirror_mode": {
    "name": "ipython",
    "version": 3
   },
   "file_extension": ".py",
   "mimetype": "text/x-python",
   "name": "python",
   "nbconvert_exporter": "python",
   "pygments_lexer": "ipython3",
   "version": "3.9.10"
  },
  "orig_nbformat": 4
 },
 "nbformat": 4,
 "nbformat_minor": 2
}
