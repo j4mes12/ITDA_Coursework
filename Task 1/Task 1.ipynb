{
 "cells": [
  {
   "cell_type": "markdown",
   "metadata": {},
   "source": [
    "# Task 1 - Sentiment Model"
   ]
  },
  {
   "cell_type": "markdown",
   "metadata": {},
   "source": [
    "## Data Extraction - code from data_loader_demo.ipynb"
   ]
  },
  {
   "cell_type": "code",
   "execution_count": 1,
   "id": "annoying-ethiopia",
   "metadata": {},
   "outputs": [],
   "source": [
    "%load_ext autoreload\n",
    "%autoreload 2\n",
    "\n",
    "import warnings\n",
    "\n",
    "# Use HuggingFace's datasets library to access the financial_phrasebank dataset\n",
    "from datasets import load_dataset\n",
    "from sklearn.model_selection import train_test_split\n",
    "\n",
    "# Exploration\n",
    "import matplotlib.pyplot as plt\n",
    "import seaborn as sns\n",
    "\n",
    "# Feature Engineering\n",
    "import numpy as np\n",
    "import pandas as pd\n",
    "\n",
    "import nltk\n",
    "import re\n",
    "from sklearn.feature_extraction.text import TfidfVectorizer\n",
    "\n",
    "# Modelling\n",
    "import params as p\n",
    "import functions as f\n",
    "\n",
    "from sklearn.naive_bayes import MultinomialNB, ComplementNB, CategoricalNB\n",
    "from sklearn.metrics import accuracy_score, precision_score, recall_score, f1_score, classification_report, roc_auc_score, plot_confusion_matrix\n",
    "\n",
    "from sklearn.ensemble import RandomForestClassifier\n",
    "\n",
    "import optuna"
   ]
  },
  {
   "cell_type": "code",
   "execution_count": 2,
   "metadata": {},
   "outputs": [
    {
     "name": "stderr",
     "output_type": "stream",
     "text": [
      "[nltk_data] Downloading package wordnet to\n",
      "[nltk_data]     /Users/jamesstephenson/nltk_data...\n",
      "[nltk_data]   Package wordnet is already up-to-date!\n",
      "[nltk_data] Downloading package averaged_perceptron_tagger to\n",
      "[nltk_data]     /Users/jamesstephenson/nltk_data...\n",
      "[nltk_data]   Package averaged_perceptron_tagger is already up-to-\n",
      "[nltk_data]       date!\n"
     ]
    },
    {
     "data": {
      "text/plain": [
       "True"
      ]
     },
     "execution_count": 2,
     "metadata": {},
     "output_type": "execute_result"
    }
   ],
   "source": [
    "nltk.download('wordnet')\n",
    "nltk.download('averaged_perceptron_tagger')"
   ]
  },
  {
   "cell_type": "markdown",
   "metadata": {},
   "source": [
    "### Settings"
   ]
  },
  {
   "cell_type": "code",
   "execution_count": 3,
   "metadata": {},
   "outputs": [],
   "source": [
    "warnings.simplefilter(action='ignore', category=FutureWarning)"
   ]
  },
  {
   "cell_type": "markdown",
   "metadata": {},
   "source": [
    "### Import Data"
   ]
  },
  {
   "cell_type": "code",
   "execution_count": 4,
   "id": "a8502fa6",
   "metadata": {},
   "outputs": [
    {
     "name": "stderr",
     "output_type": "stream",
     "text": [
      "Reusing dataset financial_phrasebank (/Users/jamesstephenson/.cache/huggingface/datasets/financial_phrasebank/sentences_50agree/1.0.0/a6d468761d4e0c8ae215c77367e1092bead39deb08fbf4bffd7c0a6991febbf0)\n",
      "100%|██████████| 1/1 [00:00<00:00, 148.10it/s]"
     ]
    },
    {
     "name": "stdout",
     "output_type": "stream",
     "text": [
      "The dataset is a dictionary with two splits: \n",
      "\n",
      "DatasetDict({\n",
      "    train: Dataset({\n",
      "        features: ['sentence', 'label'],\n",
      "        num_rows: 4846\n",
      "    })\n",
      "})\n"
     ]
    },
    {
     "name": "stderr",
     "output_type": "stream",
     "text": [
      "\n"
     ]
    }
   ],
   "source": [
    "# The financial_phrasebank dataset is available in four variations. It has no predefined train/validation/test splits.\n",
    "# Each data point was annotated by 5-8 people, then their annotations were combined. \n",
    "# Each variation of the dataset contains examples with different levels of agreement. \n",
    "# Let's use the one containing all data points where at least 50% of the annotators agreed on the label.\n",
    "dataset = load_dataset(\n",
    "    \"financial_phrasebank\", \n",
    "    'sentences_50agree' # Select variation of the dataset\n",
    ")\n",
    "\n",
    "print(f'The dataset is a dictionary with two splits: \\n\\n{dataset}')"
   ]
  },
  {
   "cell_type": "code",
   "execution_count": 5,
   "id": "ca009bab",
   "metadata": {},
   "outputs": [],
   "source": [
    "# Split test data from training data\n",
    "train_sentences, test_sentences, train_labels, test_labels = train_test_split(\n",
    "    dataset[\"train\"]['sentence'], \n",
    "    dataset[\"train\"]['label'], \n",
    "    test_size=0.2, \n",
    "    stratify=dataset[\"train\"]['label']  # make sure the same proportion of labels is in the test set and training set\n",
    ")"
   ]
  },
  {
   "cell_type": "code",
   "execution_count": 6,
   "id": "7b3af369",
   "metadata": {},
   "outputs": [
    {
     "name": "stdout",
     "output_type": "stream",
     "text": [
      "How many instances in the train dataset? \n",
      "\n",
      "3876\n",
      "\n",
      "What does one instance look like? \n",
      "\n",
      "With Aldata , we can help retailers ensure that their merchandising and selections reflect customer demand and their evolving shopping behavior . ''\n"
     ]
    }
   ],
   "source": [
    "# label 0 = negative, 1 = neutral, 2 = positive\n",
    "print(f'How many instances in the train dataset? \\n\\n{len(train_sentences)}')\n",
    "print('')\n",
    "print(f'What does one instance look like? \\n\\n{train_sentences[234]}')"
   ]
  },
  {
   "cell_type": "markdown",
   "id": "b58ea906-8488-43a9-90dd-94695d700d19",
   "metadata": {},
   "source": [
    "It may also be necessary to create a _validation_ set (also called 'development' set or 'devset'). The validation set can be used to compute performance of your model when tuning hyperparameters,  optimising combinations of features, or looking at the errors your model makes before improving it. This allows you to hold out the test set to give a fair evaluation of the model and how well it generalises to new examples. This avoids tuning the model to specifso it gets good performance on the test set examples. "
   ]
  },
  {
   "cell_type": "code",
   "execution_count": 7,
   "id": "3c873dbe-b6a6-41ed-9f03-b52a5e0a85c7",
   "metadata": {},
   "outputs": [],
   "source": [
    "train_sentences, val_sentences, train_labels, val_labels = train_test_split(train_sentences, train_labels, test_size=0.25, stratify=train_labels)\n"
   ]
  },
  {
   "cell_type": "code",
   "execution_count": 8,
   "id": "57d10fa5",
   "metadata": {},
   "outputs": [
    {
     "name": "stdout",
     "output_type": "stream",
     "text": [
      "How many instances in the validation dataset? \n",
      "\n",
      "969\n",
      "\n",
      "How many instances in the test dataset? \n",
      "\n",
      "970\n"
     ]
    }
   ],
   "source": [
    "print(f'How many instances in the validation dataset? \\n\\n{len(val_sentences)}\\n')\n",
    "print(f'How many instances in the test dataset? \\n\\n{len(test_sentences)}')"
   ]
  },
  {
   "cell_type": "markdown",
   "metadata": {},
   "source": [
    "## Data Exploration"
   ]
  },
  {
   "cell_type": "code",
   "execution_count": 9,
   "metadata": {},
   "outputs": [],
   "source": [
    "train = pd.DataFrame({'sentences' : train_sentences, 'labels' : train_labels})"
   ]
  },
  {
   "cell_type": "markdown",
   "metadata": {},
   "source": [
    "### Very Brief Response Analysis"
   ]
  },
  {
   "cell_type": "markdown",
   "metadata": {},
   "source": [
    "Should only need to do this for train due to random split. So would expect to see the same structure for test and val"
   ]
  },
  {
   "cell_type": "code",
   "execution_count": 10,
   "metadata": {},
   "outputs": [
    {
     "data": {
      "image/png": "[encoded data removed]",
      "text/plain": [
       "<Figure size 1080x576 with 1 Axes>"
      ]
     },
     "metadata": {
      "needs_background": "light"
     },
     "output_type": "display_data"
    }
   ],
   "source": [
    "fig, ax = plt.subplots(nrows = 1, ncols = 1, figsize = (15, 8))\n",
    "\n",
    "ax = sns.countplot(data = train, x = 'labels').set(title = 'Label Counts for Train Data')\n",
    "\n",
    "plt.xlabel(\"Labels\")\n",
    "plt.ylabel(\"Frequency\")\n",
    "plt.xticks(rotation = 0)\n",
    "\n",
    "plt.show()"
   ]
  },
  {
   "cell_type": "markdown",
   "metadata": {},
   "source": [
    "There is a slight imbalance in labels, but nothing that should be an issue. If we find this is an issue later on, we can perform some over or under sampling."
   ]
  },
  {
   "cell_type": "markdown",
   "metadata": {},
   "source": [
    "# Featuring Engineering"
   ]
  },
  {
   "cell_type": "markdown",
   "metadata": {},
   "source": [
    "### Sentence Processing"
   ]
  },
  {
   "cell_type": "code",
   "execution_count": 11,
   "metadata": {},
   "outputs": [],
   "source": [
    "# Remove some stopwords to capture negation in n-grams if possible\n",
    "stop_words = nltk.corpus.stopwords.words('english')\n",
    "stop_words.remove('no')\n",
    "stop_words.remove('not')\n",
    "stop_words.remove('but')\n",
    "\n",
    "# Load up a WordNet Lemmatizer\n",
    "wnl = nltk.stem.WordNetLemmatizer()\n",
    "\n",
    "# Define a function to get the position tag for each word - this helps to lemmatize words correctly with context\n",
    "def get_wordnet_pos(word: str):\n",
    "        '''Map POS tag to first character lemmatize() accepts\n",
    "        \n",
    "        Arguments:\n",
    "            word (str): word to find wordnet position tag for'''\n",
    "        \n",
    "        tag = nltk.pos_tag([word])[0][1][0].upper()\n",
    "\n",
    "        tag_dict = {\n",
    "            'J': nltk.corpus.wordnet.ADJ,\n",
    "            'N': nltk.corpus.wordnet.NOUN,\n",
    "            'V': nltk.corpus.wordnet.VERB,\n",
    "            'R': nltk.corpus.wordnet.ADV\n",
    "            }\n",
    "\n",
    "        return tag_dict.get(tag, nltk.corpus.wordnet.NOUN)\n",
    "\n",
    "def text_preprocess(sentence: str):\n",
    "    '''Preprocesses the inputted sentence and does the following: sets to lowercase,\n",
    "    removes unwanted characters, lemmatizes and removes stopwords\n",
    "    \n",
    "    Arguments:\n",
    "        sentence (str): sentence to be processed\n",
    "\n",
    "    Returns:\n",
    "        sentence (str): processed sentence'''\n",
    "\n",
    "    # Set to lower case\n",
    "    sentence = str(sentence).lower()\n",
    "    \n",
    "    # Remove non-letter characters and replace the abbreviation 'mn' for million\n",
    "    sentence = re.sub(r'[^a-zA-Z]',r' ', sentence)\n",
    "    sentence = re.sub('mn', 'million', sentence)\n",
    "\n",
    "    sentence_tokenize = nltk.word_tokenize(sentence)\n",
    "\n",
    "    # Wordnet lemmatizer with position tagging to give context\n",
    "    sentence = ' '.join([wnl.lemmatize(word, get_wordnet_pos(word)) for word in sentence_tokenize])\n",
    "    \n",
    "    # Removal of Stopwords\n",
    "    sentence = ' '.join([word for word in sentence_tokenize if word not in stop_words])\n",
    "    \n",
    "    return sentence\n",
    "\n",
    "# Turn the above function into a vectorized function to work on columns for sentences\n",
    "vect_text_preprocess = np.vectorize(text_preprocess)"
   ]
  },
  {
   "cell_type": "code",
   "execution_count": 12,
   "metadata": {},
   "outputs": [],
   "source": [
    "clean_train_sentences = vect_text_preprocess(train_sentences)\n",
    "clean_test_sentences = vect_text_preprocess(test_sentences)\n",
    "clean_val_sentences = vect_text_preprocess(val_sentences)"
   ]
  },
  {
   "cell_type": "markdown",
   "metadata": {},
   "source": [
    "#### TF-IDF Vectorizer\n",
    "\n",
    "We will be using a TF-IDF Vectorizer to vectorize our sentences before modelling. We will be setting the `ngram_range = (1, 1)` so we can also build columns for bi-grams."
   ]
  },
  {
   "cell_type": "code",
   "execution_count": 13,
   "metadata": {},
   "outputs": [],
   "source": [
    "tfidf = TfidfVectorizer(min_df = 0.0, max_df = 1.0, ngram_range = (1, 1))"
   ]
  },
  {
   "cell_type": "code",
   "execution_count": 14,
   "metadata": {},
   "outputs": [],
   "source": [
    "X_train = tfidf.fit_transform(clean_train_sentences).toarray()\n",
    "X_train = pd.DataFrame(X_train, columns = tfidf.get_feature_names_out())\n",
    "\n",
    "X_test = tfidf.transform(clean_test_sentences).toarray()\n",
    "X_test = pd.DataFrame(X_test, columns = tfidf.get_feature_names_out())\n",
    "\n",
    "X_val = tfidf.transform(clean_val_sentences).toarray()\n",
    "X_val = pd.DataFrame(X_val, columns = tfidf.get_feature_names_out())"
   ]
  },
  {
   "cell_type": "markdown",
   "metadata": {},
   "source": [
    "## Modelling\n",
    "\n",
    "We will be using the ROC AUC Score as our evaluation metric since is provides a good balance between True Negative and False Positives in one score. This is preferred to Accuracy due to our imbalance and Precision and Recall since we require a balance of the both to get a good model. Since ROC score uses predicted probabilities as its input, we don't have to tune the threshold."
   ]
  },
  {
   "cell_type": "code",
   "execution_count": 15,
   "metadata": {},
   "outputs": [],
   "source": [
    "# Assign train, text and validation labels to the y variable\n",
    "y_train = train_labels\n",
    "y_test = test_labels\n",
    "y_val = val_labels"
   ]
  },
  {
   "cell_type": "code",
   "execution_count": 16,
   "metadata": {},
   "outputs": [],
   "source": [
    "# Make a dictionary for each train, tes and validation to make fitting and evaluation cleaner.\n",
    "train_data = {'X' : X_train, 'y' : y_train}\n",
    "test_data = {'X' : X_test, 'y' : y_test}\n",
    "val_data = {'X' : X_val, 'y' : y_val}"
   ]
  },
  {
   "cell_type": "markdown",
   "metadata": {},
   "source": [
    "#### Evaluation Functions"
   ]
  },
  {
   "cell_type": "markdown",
   "metadata": {},
   "source": [
    "### Initial Model - Naive Bayes\n",
    "\n",
    "We have a Naive Bayes Multinomial Classifier since it does not take long to train and tune, but does have a reliable performance. "
   ]
  },
  {
   "cell_type": "code",
   "execution_count": 17,
   "metadata": {},
   "outputs": [
    {
     "name": "stdout",
     "output_type": "stream",
     "text": [
      " --- Classification Report --- \n",
      "              precision    recall  f1-score   support\n",
      "\n",
      "           0       0.78      0.06      0.11       121\n",
      "           1       0.69      0.96      0.80       576\n",
      "           2       0.65      0.38      0.48       273\n",
      "\n",
      "    accuracy                           0.68       970\n",
      "   macro avg       0.71      0.47      0.46       970\n",
      "weighted avg       0.69      0.68      0.62       970\n",
      "\n",
      "\n",
      " --- MACRO METRICS --- \n",
      "ROC: 0.80235\n",
      "ACCURACY: 0.68351\n",
      "PRECISION: 0.70503\n",
      "RECALL: 0.46507\n"
     ]
    }
   ],
   "source": [
    "nb = MultinomialNB().fit(**train_data)\n",
    "f.evaluate_model(nb, **test_data, c_report = True, print_metrics = True)"
   ]
  },
  {
   "cell_type": "markdown",
   "metadata": {},
   "source": [
    "### Model Tuning - Naive Bayes"
   ]
  },
  {
   "cell_type": "code",
   "execution_count": 156,
   "metadata": {},
   "outputs": [
    {
     "name": "stderr",
     "output_type": "stream",
     "text": [
      "\u001b[32m[I 2022-03-27 16:58:41,283]\u001b[0m A new study created in memory with name: no-name-db3e2bad-2ada-4b07-937b-179250f71263\u001b[0m\n",
      "\u001b[32m[I 2022-03-27 16:58:42,056]\u001b[0m Trial 3 finished with value: 0.8123374361917418 and parameters: {'alpha': 0.29365473900291694, 'fit_prior': True}. Best is trial 3 with value: 0.8123374361917418.\u001b[0m\n",
      "\u001b[32m[I 2022-03-27 16:58:42,576]\u001b[0m Trial 1 finished with value: 0.8122356806327544 and parameters: {'alpha': 1.1287445706978736, 'fit_prior': False}. Best is trial 3 with value: 0.8123374361917418.\u001b[0m\n",
      "\u001b[32m[I 2022-03-27 16:58:42,803]\u001b[0m Trial 6 finished with value: 0.8053879358876906 and parameters: {'alpha': 1.7197121337076053, 'fit_prior': False}. Best is trial 3 with value: 0.8123374361917418.\u001b[0m\n",
      "\u001b[32m[I 2022-03-27 16:58:42,837]\u001b[0m Trial 0 finished with value: 0.809351046617051 and parameters: {'alpha': 1.3765214396152645, 'fit_prior': False}. Best is trial 3 with value: 0.8123374361917418.\u001b[0m\n",
      "\u001b[32m[I 2022-03-27 16:58:42,987]\u001b[0m Trial 4 finished with value: 0.8034219478951602 and parameters: {'alpha': 0.8189303331324852, 'fit_prior': True}. Best is trial 3 with value: 0.8123374361917418.\u001b[0m\n",
      "\u001b[32m[I 2022-03-27 16:58:43,055]\u001b[0m Trial 7 finished with value: 0.8146914647117459 and parameters: {'alpha': 0.9399855153730587, 'fit_prior': False}. Best is trial 7 with value: 0.8146914647117459.\u001b[0m\n",
      "\u001b[32m[I 2022-03-27 16:58:43,058]\u001b[0m Trial 8 finished with value: 0.8102914440917944 and parameters: {'alpha': 1.2937056729070417, 'fit_prior': False}. Best is trial 7 with value: 0.8146914647117459.\u001b[0m\n",
      "\u001b[32m[I 2022-03-27 16:58:43,128]\u001b[0m Trial 9 finished with value: 0.8102832269271644 and parameters: {'alpha': 1.2918367466393912, 'fit_prior': False}. Best is trial 7 with value: 0.8146914647117459.\u001b[0m\n",
      "\u001b[32m[I 2022-03-27 16:58:43,132]\u001b[0m Trial 11 finished with value: 0.7936605966161587 and parameters: {'alpha': 1.5793836789000237, 'fit_prior': True}. Best is trial 7 with value: 0.8146914647117459.\u001b[0m\n",
      "\u001b[32m[I 2022-03-27 16:58:43,133]\u001b[0m Trial 5 finished with value: 0.8123312192867426 and parameters: {'alpha': 0.23123090464741225, 'fit_prior': True}. Best is trial 7 with value: 0.8146914647117459.\u001b[0m\n",
      "\u001b[32m[I 2022-03-27 16:58:43,134]\u001b[0m Trial 2 finished with value: 0.7901618375527173 and parameters: {'alpha': 1.9329266169259778, 'fit_prior': True}. Best is trial 7 with value: 0.8146914647117459.\u001b[0m\n",
      "\u001b[32m[I 2022-03-27 16:58:43,168]\u001b[0m Trial 10 finished with value: 0.8074459827328256 and parameters: {'alpha': 0.5849957476097375, 'fit_prior': True}. Best is trial 7 with value: 0.8146914647117459.\u001b[0m\n",
      "\u001b[32m[I 2022-03-27 16:58:43,438]\u001b[0m Trial 13 finished with value: 0.805748184870993 and parameters: {'alpha': 0.680768380079743, 'fit_prior': True}. Best is trial 7 with value: 0.8146914647117459.\u001b[0m\n",
      "\u001b[32m[I 2022-03-27 16:58:43,460]\u001b[0m Trial 12 finished with value: 0.7901459692315088 and parameters: {'alpha': 1.9341041015884486, 'fit_prior': True}. Best is trial 7 with value: 0.8146914647117459.\u001b[0m\n",
      "\u001b[32m[I 2022-03-27 16:58:43,471]\u001b[0m Trial 14 finished with value: 0.7921712381805023 and parameters: {'alpha': 1.7065696955827616, 'fit_prior': True}. Best is trial 7 with value: 0.8146914647117459.\u001b[0m\n",
      "\u001b[32m[I 2022-03-27 16:58:43,666]\u001b[0m Trial 17 finished with value: 0.8081857446461508 and parameters: {'alpha': 0.08595743721931923, 'fit_prior': False}. Best is trial 7 with value: 0.8146914647117459.\u001b[0m\n",
      "\u001b[32m[I 2022-03-27 16:58:43,695]\u001b[0m Trial 15 finished with value: 0.8203772499324522 and parameters: {'alpha': 0.4367560012078774, 'fit_prior': False}. Best is trial 15 with value: 0.8203772499324522.\u001b[0m\n",
      "\u001b[32m[I 2022-03-27 16:58:43,696]\u001b[0m Trial 16 finished with value: 0.8170558314513818 and parameters: {'alpha': 0.18783230938715462, 'fit_prior': False}. Best is trial 15 with value: 0.8203772499324522.\u001b[0m\n",
      "\u001b[32m[I 2022-03-27 16:58:43,733]\u001b[0m Trial 18 finished with value: 0.8072073453880265 and parameters: {'alpha': 0.07985685834153355, 'fit_prior': False}. Best is trial 15 with value: 0.8203772499324522.\u001b[0m\n",
      "\u001b[32m[I 2022-03-27 16:58:43,856]\u001b[0m Trial 21 finished with value: 0.792926472940194 and parameters: {'alpha': 0.023141592042670855, 'fit_prior': False}. Best is trial 15 with value: 0.8203772499324522.\u001b[0m\n",
      "\u001b[32m[I 2022-03-27 16:58:43,860]\u001b[0m Trial 19 finished with value: 0.8171449323103733 and parameters: {'alpha': 0.18926262489973994, 'fit_prior': False}. Best is trial 15 with value: 0.8203772499324522.\u001b[0m\n",
      "\u001b[32m[I 2022-03-27 16:58:44,035]\u001b[0m Trial 20 finished with value: 0.8026335735986777 and parameters: {'alpha': 0.05515365075308454, 'fit_prior': False}. Best is trial 15 with value: 0.8203772499324522.\u001b[0m\n",
      "\u001b[32m[I 2022-03-27 16:58:44,104]\u001b[0m Trial 22 finished with value: 0.7986909750197366 and parameters: {'alpha': 0.039598315104304116, 'fit_prior': False}. Best is trial 15 with value: 0.8203772499324522.\u001b[0m\n",
      "\u001b[32m[I 2022-03-27 16:58:44,275]\u001b[0m Trial 24 finished with value: 0.8202091818814408 and parameters: {'alpha': 0.4734073965626945, 'fit_prior': False}. Best is trial 15 with value: 0.8203772499324522.\u001b[0m\n",
      "\u001b[32m[I 2022-03-27 16:58:44,408]\u001b[0m Trial 23 finished with value: 0.8202052440219992 and parameters: {'alpha': 0.4708327664508156, 'fit_prior': False}. Best is trial 15 with value: 0.8203772499324522.\u001b[0m\n",
      "\u001b[32m[I 2022-03-27 16:58:44,424]\u001b[0m Trial 26 finished with value: 0.8204456215950943 and parameters: {'alpha': 0.41592263021167397, 'fit_prior': False}. Best is trial 26 with value: 0.8204456215950943.\u001b[0m\n",
      "\u001b[32m[I 2022-03-27 16:58:44,433]\u001b[0m Trial 28 finished with value: 0.8204354321741727 and parameters: {'alpha': 0.4268426284689901, 'fit_prior': False}. Best is trial 26 with value: 0.8204456215950943.\u001b[0m\n",
      "\u001b[32m[I 2022-03-27 16:58:44,476]\u001b[0m Trial 27 finished with value: 0.8204629674793189 and parameters: {'alpha': 0.42886285598462875, 'fit_prior': False}. Best is trial 27 with value: 0.8204629674793189.\u001b[0m\n",
      "\u001b[32m[I 2022-03-27 16:58:44,541]\u001b[0m Trial 25 finished with value: 0.8203211306505906 and parameters: {'alpha': 0.4563451234427949, 'fit_prior': False}. Best is trial 27 with value: 0.8204629674793189.\u001b[0m\n",
      "\u001b[32m[I 2022-03-27 16:58:44,557]\u001b[0m Trial 29 finished with value: 0.820451583499407 and parameters: {'alpha': 0.42777149381174595, 'fit_prior': False}. Best is trial 27 with value: 0.8204629674793189.\u001b[0m\n",
      "\u001b[32m[I 2022-03-27 16:58:44,617]\u001b[0m Trial 30 finished with value: 0.820446299815864 and parameters: {'alpha': 0.4063985097615915, 'fit_prior': False}. Best is trial 27 with value: 0.8204629674793189.\u001b[0m\n",
      "\u001b[32m[I 2022-03-27 16:58:44,817]\u001b[0m Trial 32 finished with value: 0.820224794083853 and parameters: {'alpha': 0.4826365996865159, 'fit_prior': False}. Best is trial 27 with value: 0.8204629674793189.\u001b[0m\n",
      "\u001b[32m[I 2022-03-27 16:58:44,822]\u001b[0m Trial 31 finished with value: 0.8205355356721746 and parameters: {'alpha': 0.3685156336673807, 'fit_prior': False}. Best is trial 31 with value: 0.8205355356721746.\u001b[0m\n",
      "\u001b[32m[I 2022-03-27 16:58:45,008]\u001b[0m Trial 34 finished with value: 0.8178606552101669 and parameters: {'alpha': 0.7151573780300962, 'fit_prior': False}. Best is trial 31 with value: 0.8205355356721746.\u001b[0m\n",
      "\u001b[32m[I 2022-03-27 16:58:45,053]\u001b[0m Trial 33 finished with value: 0.8177238068943291 and parameters: {'alpha': 0.727455921838114, 'fit_prior': False}. Best is trial 31 with value: 0.8205355356721746.\u001b[0m\n",
      "\u001b[32m[I 2022-03-27 16:58:45,055]\u001b[0m Trial 39 finished with value: 0.8174929041578375 and parameters: {'alpha': 0.7411100401162543, 'fit_prior': False}. Best is trial 31 with value: 0.8205355356721746.\u001b[0m\n",
      "\u001b[32m[I 2022-03-27 16:58:45,131]\u001b[0m Trial 36 finished with value: 0.8180658228305075 and parameters: {'alpha': 0.6952219480537645, 'fit_prior': False}. Best is trial 31 with value: 0.8205355356721746.\u001b[0m\n",
      "\u001b[32m[I 2022-03-27 16:58:45,161]\u001b[0m Trial 38 finished with value: 0.8180305718434799 and parameters: {'alpha': 0.6995319827617961, 'fit_prior': False}. Best is trial 31 with value: 0.8205355356721746.\u001b[0m\n",
      "\u001b[32m[I 2022-03-27 16:58:45,163]\u001b[0m Trial 35 finished with value: 0.8174141581339223 and parameters: {'alpha': 0.7461987355946011, 'fit_prior': False}. Best is trial 31 with value: 0.8205355356721746.\u001b[0m\n",
      "\u001b[32m[I 2022-03-27 16:58:45,204]\u001b[0m Trial 37 finished with value: 0.8177432271996848 and parameters: {'alpha': 0.7253970729027477, 'fit_prior': False}. Best is trial 31 with value: 0.8205355356721746.\u001b[0m\n",
      "\u001b[32m[I 2022-03-27 16:58:45,427]\u001b[0m Trial 40 finished with value: 0.8178788951055758 and parameters: {'alpha': 0.7110265419119597, 'fit_prior': False}. Best is trial 31 with value: 0.8205355356721746.\u001b[0m\n",
      "\u001b[32m[I 2022-03-27 16:58:45,513]\u001b[0m Trial 41 finished with value: 0.8131310470658727 and parameters: {'alpha': 1.0561881033901699, 'fit_prior': False}. Best is trial 31 with value: 0.8205355356721746.\u001b[0m\n",
      "\u001b[32m[I 2022-03-27 16:58:45,522]\u001b[0m Trial 43 finished with value: 0.820154448343066 and parameters: {'alpha': 0.30864730653522987, 'fit_prior': False}. Best is trial 31 with value: 0.8205355356721746.\u001b[0m\n",
      "\u001b[32m[I 2022-03-27 16:58:45,656]\u001b[0m Trial 42 finished with value: 0.8147992874226984 and parameters: {'alpha': 0.9322708734427414, 'fit_prior': False}. Best is trial 31 with value: 0.8205355356721746.\u001b[0m\n",
      "\u001b[32m[I 2022-03-27 16:58:45,657]\u001b[0m Trial 45 finished with value: 0.8200860611185234 and parameters: {'alpha': 0.3046361365602844, 'fit_prior': False}. Best is trial 31 with value: 0.8205355356721746.\u001b[0m\n",
      "\u001b[32m[I 2022-03-27 16:58:45,663]\u001b[0m Trial 46 finished with value: 0.8140096323468303 and parameters: {'alpha': 0.9935255197356643, 'fit_prior': False}. Best is trial 31 with value: 0.8205355356721746.\u001b[0m\n",
      "\u001b[32m[I 2022-03-27 16:58:45,665]\u001b[0m Trial 44 finished with value: 0.820452891410771 and parameters: {'alpha': 0.343248430377885, 'fit_prior': False}. Best is trial 31 with value: 0.8205355356721746.\u001b[0m\n",
      "\u001b[32m[I 2022-03-27 16:58:45,803]\u001b[0m Trial 47 finished with value: 0.8141655998506582 and parameters: {'alpha': 0.9828379153078239, 'fit_prior': False}. Best is trial 31 with value: 0.8205355356721746.\u001b[0m\n",
      "\u001b[32m[I 2022-03-27 16:58:45,835]\u001b[0m Trial 48 finished with value: 0.8202547322470268 and parameters: {'alpha': 0.328258580713103, 'fit_prior': False}. Best is trial 31 with value: 0.8205355356721746.\u001b[0m\n",
      "\u001b[32m[I 2022-03-27 16:58:46,013]\u001b[0m Trial 49 finished with value: 0.8198809539223207 and parameters: {'alpha': 0.2822134301709505, 'fit_prior': False}. Best is trial 31 with value: 0.8205355356721746.\u001b[0m\n",
      "\u001b[32m[I 2022-03-27 16:58:46,039]\u001b[0m Trial 50 finished with value: 0.8199885495195293 and parameters: {'alpha': 0.3008354676725832, 'fit_prior': False}. Best is trial 31 with value: 0.8205355356721746.\u001b[0m\n",
      "\u001b[32m[I 2022-03-27 16:58:46,169]\u001b[0m Trial 52 finished with value: 0.8078033602671795 and parameters: {'alpha': 0.5630355568570172, 'fit_prior': True}. Best is trial 31 with value: 0.8205355356721746.\u001b[0m\n",
      "\u001b[32m[I 2022-03-27 16:58:46,175]\u001b[0m Trial 54 finished with value: 0.8074682142586722 and parameters: {'alpha': 0.5826672650885236, 'fit_prior': True}. Best is trial 31 with value: 0.8205355356721746.\u001b[0m\n",
      "\u001b[32m[I 2022-03-27 16:58:46,176]\u001b[0m Trial 53 finished with value: 0.8069875195376941 and parameters: {'alpha': 0.6071123118815002, 'fit_prior': True}. Best is trial 31 with value: 0.8205355356721746.\u001b[0m\n",
      "\u001b[32m[I 2022-03-27 16:58:46,249]\u001b[0m Trial 51 finished with value: 0.81931261084038 and parameters: {'alpha': 0.5820114766570946, 'fit_prior': False}. Best is trial 31 with value: 0.8205355356721746.\u001b[0m\n",
      "\u001b[32m[I 2022-03-27 16:58:46,501]\u001b[0m Trial 58 finished with value: 0.8072175221794194 and parameters: {'alpha': 0.5962677629169845, 'fit_prior': True}. Best is trial 31 with value: 0.8205355356721746.\u001b[0m\n",
      "\u001b[32m[I 2022-03-27 16:58:46,512]\u001b[0m Trial 55 finished with value: 0.8072080950307675 and parameters: {'alpha': 0.5965435446894909, 'fit_prior': True}. Best is trial 31 with value: 0.8205355356721746.\u001b[0m\n",
      "\u001b[32m[I 2022-03-27 16:58:46,573]\u001b[0m Trial 57 finished with value: 0.8076907042727445 and parameters: {'alpha': 0.5664375802585091, 'fit_prior': True}. Best is trial 31 with value: 0.8205355356721746.\u001b[0m\n",
      "\u001b[32m[I 2022-03-27 16:58:46,607]\u001b[0m Trial 56 finished with value: 0.807965631827496 and parameters: {'alpha': 0.5567671173421491, 'fit_prior': True}. Best is trial 31 with value: 0.8205355356721746.\u001b[0m\n",
      "\u001b[32m[I 2022-03-27 16:58:46,664]\u001b[0m Trial 59 finished with value: 0.8205476241885264 and parameters: {'alpha': 0.3944979817654732, 'fit_prior': False}. Best is trial 59 with value: 0.8205476241885264.\u001b[0m\n",
      "\u001b[32m[I 2022-03-27 16:58:46,693]\u001b[0m Trial 61 finished with value: 0.8205529104240457 and parameters: {'alpha': 0.3721491917171023, 'fit_prior': False}. Best is trial 61 with value: 0.8205529104240457.\u001b[0m\n",
      "\u001b[32m[I 2022-03-27 16:58:46,771]\u001b[0m Trial 60 finished with value: 0.8156131244083356 and parameters: {'alpha': 0.16255465540700653, 'fit_prior': False}. Best is trial 61 with value: 0.8205529104240457.\u001b[0m\n",
      "\u001b[32m[I 2022-03-27 16:58:46,807]\u001b[0m Trial 62 finished with value: 0.8162357966062528 and parameters: {'alpha': 0.1734979017386863, 'fit_prior': False}. Best is trial 61 with value: 0.8205529104240457.\u001b[0m\n",
      "\u001b[32m[I 2022-03-27 16:58:47,014]\u001b[0m Trial 63 finished with value: 0.820574651927342 and parameters: {'alpha': 0.3846167864387671, 'fit_prior': False}. Best is trial 63 with value: 0.820574651927342.\u001b[0m\n",
      "\u001b[32m[I 2022-03-27 16:58:47,020]\u001b[0m Trial 66 finished with value: 0.8159990287531347 and parameters: {'alpha': 0.17005352410627533, 'fit_prior': False}. Best is trial 63 with value: 0.820574651927342.\u001b[0m\n",
      "\u001b[32m[I 2022-03-27 16:58:47,045]\u001b[0m Trial 67 finished with value: 0.8156443979139686 and parameters: {'alpha': 0.16334269100595505, 'fit_prior': False}. Best is trial 63 with value: 0.820574651927342.\u001b[0m\n",
      "\u001b[32m[I 2022-03-27 16:58:47,053]\u001b[0m Trial 64 finished with value: 0.8205339371240136 and parameters: {'alpha': 0.3742656598154971, 'fit_prior': False}. Best is trial 63 with value: 0.820574651927342.\u001b[0m\n",
      "\u001b[32m[I 2022-03-27 16:58:47,181]\u001b[0m Trial 65 finished with value: 0.8143219087306882 and parameters: {'alpha': 0.14402555840735687, 'fit_prior': False}. Best is trial 63 with value: 0.820574651927342.\u001b[0m\n",
      "\u001b[32m[I 2022-03-27 16:58:47,217]\u001b[0m Trial 68 finished with value: 0.8148072008495154 and parameters: {'alpha': 0.15016421822055942, 'fit_prior': False}. Best is trial 63 with value: 0.820574651927342.\u001b[0m\n",
      "\u001b[32m[I 2022-03-27 16:58:47,345]\u001b[0m Trial 69 finished with value: 0.8205264452985451 and parameters: {'alpha': 0.3679317742017583, 'fit_prior': False}. Best is trial 63 with value: 0.820574651927342.\u001b[0m\n",
      "\u001b[32m[I 2022-03-27 16:58:47,346]\u001b[0m Trial 70 finished with value: 0.8205785030469754 and parameters: {'alpha': 0.3793322108539253, 'fit_prior': False}. Best is trial 70 with value: 0.8205785030469754.\u001b[0m\n",
      "\u001b[32m[I 2022-03-27 16:58:47,541]\u001b[0m Trial 71 finished with value: 0.820547857386389 and parameters: {'alpha': 0.3618655554635772, 'fit_prior': False}. Best is trial 70 with value: 0.8205785030469754.\u001b[0m\n",
      "\u001b[32m[I 2022-03-27 16:58:47,552]\u001b[0m Trial 72 finished with value: 0.8205624350668125 and parameters: {'alpha': 0.3786845594322011, 'fit_prior': False}. Best is trial 70 with value: 0.8205785030469754.\u001b[0m\n",
      "\u001b[32m[I 2022-03-27 16:58:47,553]\u001b[0m Trial 73 finished with value: 0.8205676985182672 and parameters: {'alpha': 0.36059361059737277, 'fit_prior': False}. Best is trial 70 with value: 0.8205785030469754.\u001b[0m\n",
      "\u001b[32m[I 2022-03-27 16:58:47,727]\u001b[0m Trial 74 finished with value: 0.8205607155345804 and parameters: {'alpha': 0.36113687693577223, 'fit_prior': False}. Best is trial 70 with value: 0.8205785030469754.\u001b[0m\n",
      "\u001b[32m[I 2022-03-27 16:58:47,761]\u001b[0m Trial 75 finished with value: 0.8205761442094982 and parameters: {'alpha': 0.35894418622944796, 'fit_prior': False}. Best is trial 70 with value: 0.8205785030469754.\u001b[0m\n",
      "\u001b[32m[I 2022-03-27 16:58:47,845]\u001b[0m Trial 76 finished with value: 0.8205367268364284 and parameters: {'alpha': 0.3676423302407752, 'fit_prior': False}. Best is trial 70 with value: 0.8205785030469754.\u001b[0m\n",
      "\u001b[32m[I 2022-03-27 16:58:47,871]\u001b[0m Trial 78 finished with value: 0.8189671582780016 and parameters: {'alpha': 0.235360332367665, 'fit_prior': False}. Best is trial 70 with value: 0.8205785030469754.\u001b[0m\n",
      "\u001b[32m[I 2022-03-27 16:58:47,920]\u001b[0m Trial 77 finished with value: 0.8205684043306952 and parameters: {'alpha': 0.3711970020053482, 'fit_prior': False}. Best is trial 70 with value: 0.8205785030469754.\u001b[0m\n",
      "\u001b[32m[I 2022-03-27 16:58:48,026]\u001b[0m Trial 81 finished with value: 0.818886239632412 and parameters: {'alpha': 0.23338967011494166, 'fit_prior': False}. Best is trial 70 with value: 0.8205785030469754.\u001b[0m\n",
      "\u001b[32m[I 2022-03-27 16:58:48,035]\u001b[0m Trial 80 finished with value: 0.8191312805404422 and parameters: {'alpha': 0.24281976947492684, 'fit_prior': False}. Best is trial 70 with value: 0.8205785030469754.\u001b[0m\n",
      "\u001b[32m[I 2022-03-27 16:58:48,100]\u001b[0m Trial 79 finished with value: 0.8192315906237413 and parameters: {'alpha': 0.24705638585572112, 'fit_prior': False}. Best is trial 70 with value: 0.8205785030469754.\u001b[0m\n",
      "\u001b[32m[I 2022-03-27 16:58:48,184]\u001b[0m Trial 82 finished with value: 0.8192208506197994 and parameters: {'alpha': 0.24582154139525847, 'fit_prior': False}. Best is trial 70 with value: 0.8205785030469754.\u001b[0m\n",
      "\u001b[32m[I 2022-03-27 16:58:48,346]\u001b[0m Trial 84 finished with value: 0.8201196474592036 and parameters: {'alpha': 0.5043364886403718, 'fit_prior': False}. Best is trial 70 with value: 0.8205785030469754.\u001b[0m\n",
      "\u001b[32m[I 2022-03-27 16:58:48,377]\u001b[0m Trial 86 finished with value: 0.8201823181439227 and parameters: {'alpha': 0.48806868146967985, 'fit_prior': False}. Best is trial 70 with value: 0.8205785030469754.\u001b[0m\n",
      "\u001b[32m[I 2022-03-27 16:58:48,486]\u001b[0m Trial 83 finished with value: 0.8194410066992074 and parameters: {'alpha': 0.25825569962323014, 'fit_prior': False}. Best is trial 70 with value: 0.8205785030469754.\u001b[0m\n",
      "\u001b[32m[I 2022-03-27 16:58:48,531]\u001b[0m Trial 85 finished with value: 0.820050166564522 and parameters: {'alpha': 0.5127042210939005, 'fit_prior': False}. Best is trial 70 with value: 0.8205785030469754.\u001b[0m\n",
      "\u001b[32m[I 2022-03-27 16:58:48,534]\u001b[0m Trial 87 finished with value: 0.8201547962813914 and parameters: {'alpha': 0.49903982272234193, 'fit_prior': False}. Best is trial 70 with value: 0.8205785030469754.\u001b[0m\n",
      "\u001b[32m[I 2022-03-27 16:58:48,537]\u001b[0m Trial 88 finished with value: 0.8200694900821915 and parameters: {'alpha': 0.5111619472353499, 'fit_prior': False}. Best is trial 70 with value: 0.8205785030469754.\u001b[0m\n",
      "\u001b[32m[I 2022-03-27 16:58:48,648]\u001b[0m Trial 90 finished with value: 0.8202297422683617 and parameters: {'alpha': 0.48450712298351584, 'fit_prior': False}. Best is trial 70 with value: 0.8205785030469754.\u001b[0m\n",
      "\u001b[32m[I 2022-03-27 16:58:48,653]\u001b[0m Trial 91 finished with value: 0.8200292183198905 and parameters: {'alpha': 0.522566257694644, 'fit_prior': False}. Best is trial 70 with value: 0.8205785030469754.\u001b[0m\n",
      "\u001b[32m[I 2022-03-27 16:58:48,689]\u001b[0m Trial 89 finished with value: 0.8201287190130647 and parameters: {'alpha': 0.5037579718389209, 'fit_prior': False}. Best is trial 70 with value: 0.8205785030469754.\u001b[0m\n",
      "\u001b[32m[I 2022-03-27 16:58:48,833]\u001b[0m Trial 92 finished with value: 0.8200192493601083 and parameters: {'alpha': 0.5227402520706386, 'fit_prior': False}. Best is trial 70 with value: 0.8205785030469754.\u001b[0m\n",
      "\u001b[32m[I 2022-03-27 16:58:49,000]\u001b[0m Trial 96 finished with value: 0.8164140207661644 and parameters: {'alpha': 0.8168813173219269, 'fit_prior': False}. Best is trial 70 with value: 0.8205785030469754.\u001b[0m\n",
      "\u001b[32m[I 2022-03-27 16:58:49,100]\u001b[0m Trial 93 finished with value: 0.8088508981611516 and parameters: {'alpha': 0.09084782634999816, 'fit_prior': False}. Best is trial 70 with value: 0.8205785030469754.\u001b[0m\n",
      "\u001b[32m[I 2022-03-27 16:58:49,122]\u001b[0m Trial 98 finished with value: 0.8037579702709307 and parameters: {'alpha': 1.8675163095409086, 'fit_prior': False}. Best is trial 70 with value: 0.8205785030469754.\u001b[0m\n",
      "\u001b[32m[I 2022-03-27 16:58:49,180]\u001b[0m Trial 97 finished with value: 0.8088416745269447 and parameters: {'alpha': 1.4165039477628771, 'fit_prior': False}. Best is trial 70 with value: 0.8205785030469754.\u001b[0m\n",
      "\u001b[32m[I 2022-03-27 16:58:49,245]\u001b[0m Trial 94 finished with value: 0.8102197439786072 and parameters: {'alpha': 0.10229547036646436, 'fit_prior': False}. Best is trial 70 with value: 0.8205785030469754.\u001b[0m\n",
      "\u001b[32m[I 2022-03-27 16:58:49,302]\u001b[0m Trial 95 finished with value: 0.815910986270381 and parameters: {'alpha': 0.8520805810739411, 'fit_prior': False}. Best is trial 70 with value: 0.8205785030469754.\u001b[0m\n",
      "\u001b[32m[I 2022-03-27 16:58:49,319]\u001b[0m Trial 99 finished with value: 0.8205231427795155 and parameters: {'alpha': 0.3988777726084932, 'fit_prior': False}. Best is trial 70 with value: 0.8205785030469754.\u001b[0m\n",
      "\u001b[32m[I 2022-03-27 16:58:49,550]\u001b[0m Trial 100 finished with value: 0.8205184238280362 and parameters: {'alpha': 0.40042330980993857, 'fit_prior': False}. Best is trial 70 with value: 0.8205785030469754.\u001b[0m\n",
      "\u001b[32m[I 2022-03-27 16:58:49,553]\u001b[0m Trial 101 finished with value: 0.8091637498547137 and parameters: {'alpha': 1.391830312996944, 'fit_prior': False}. Best is trial 70 with value: 0.8205785030469754.\u001b[0m\n",
      "\u001b[32m[I 2022-03-27 16:58:49,691]\u001b[0m Trial 102 finished with value: 0.8082145685008597 and parameters: {'alpha': 1.4644086188338292, 'fit_prior': False}. Best is trial 70 with value: 0.8205785030469754.\u001b[0m\n",
      "\u001b[32m[I 2022-03-27 16:58:49,778]\u001b[0m Trial 103 finished with value: 0.8204991056875203 and parameters: {'alpha': 0.4017616981009911, 'fit_prior': False}. Best is trial 70 with value: 0.8205785030469754.\u001b[0m\n",
      "\u001b[32m[I 2022-03-27 16:58:49,810]\u001b[0m Trial 104 finished with value: 0.8204341354503427 and parameters: {'alpha': 0.4153488162455305, 'fit_prior': False}. Best is trial 70 with value: 0.8205785030469754.\u001b[0m\n",
      "\u001b[32m[I 2022-03-27 16:58:49,838]\u001b[0m Trial 105 finished with value: 0.820329482949409 and parameters: {'alpha': 0.4418464954443949, 'fit_prior': False}. Best is trial 70 with value: 0.8205785030469754.\u001b[0m\n",
      "\u001b[32m[I 2022-03-27 16:58:49,889]\u001b[0m Trial 106 finished with value: 0.8186274469519191 and parameters: {'alpha': 0.6329675811034333, 'fit_prior': False}. Best is trial 70 with value: 0.8205785030469754.\u001b[0m\n",
      "\u001b[32m[I 2022-03-27 16:58:49,966]\u001b[0m Trial 108 finished with value: 0.8202881373395243 and parameters: {'alpha': 0.3311845543609286, 'fit_prior': False}. Best is trial 70 with value: 0.8205785030469754.\u001b[0m\n",
      "\u001b[32m[I 2022-03-27 16:58:50,006]\u001b[0m Trial 107 finished with value: 0.8203441601063638 and parameters: {'alpha': 0.4431361685551054, 'fit_prior': False}. Best is trial 70 with value: 0.8205785030469754.\u001b[0m\n",
      "\u001b[32m[I 2022-03-27 16:58:50,201]\u001b[0m Trial 111 finished with value: 0.8185255908160044 and parameters: {'alpha': 0.6424091014405083, 'fit_prior': False}. Best is trial 70 with value: 0.8205785030469754.\u001b[0m\n",
      "\u001b[32m[I 2022-03-27 16:58:50,203]\u001b[0m Trial 109 finished with value: 0.8204263072825424 and parameters: {'alpha': 0.34162116067267384, 'fit_prior': False}. Best is trial 70 with value: 0.8205785030469754.\u001b[0m\n",
      "\u001b[32m[I 2022-03-27 16:58:50,211]\u001b[0m Trial 110 finished with value: 0.8205437098201149 and parameters: {'alpha': 0.3619892304077642, 'fit_prior': False}. Best is trial 70 with value: 0.8205785030469754.\u001b[0m\n",
      "\u001b[32m[I 2022-03-27 16:58:50,416]\u001b[0m Trial 113 finished with value: 0.8204614507275769 and parameters: {'alpha': 0.34500274335576, 'fit_prior': False}. Best is trial 70 with value: 0.8205785030469754.\u001b[0m\n",
      "\u001b[32m[I 2022-03-27 16:58:50,419]\u001b[0m Trial 112 finished with value: 0.8205164487471045 and parameters: {'alpha': 0.34935309646933466, 'fit_prior': False}. Best is trial 70 with value: 0.8205785030469754.\u001b[0m\n",
      "\u001b[32m[I 2022-03-27 16:58:50,429]\u001b[0m Trial 114 finished with value: 0.8204239357083418 and parameters: {'alpha': 0.34138087293700187, 'fit_prior': False}. Best is trial 70 with value: 0.8205785030469754.\u001b[0m\n",
      "\u001b[32m[I 2022-03-27 16:58:50,589]\u001b[0m Trial 115 finished with value: 0.8108257768591552 and parameters: {'alpha': 1.243430932108085, 'fit_prior': False}. Best is trial 70 with value: 0.8205785030469754.\u001b[0m\n",
      "\u001b[32m[I 2022-03-27 16:58:50,633]\u001b[0m Trial 116 finished with value: 0.8203614136004257 and parameters: {'alpha': 0.33781238321598256, 'fit_prior': False}. Best is trial 70 with value: 0.8205785030469754.\u001b[0m\n",
      "\u001b[32m[I 2022-03-27 16:58:50,768]\u001b[0m Trial 118 finished with value: 0.8197659243718056 and parameters: {'alpha': 0.2756835054178831, 'fit_prior': False}. Best is trial 70 with value: 0.8205785030469754.\u001b[0m\n",
      "\u001b[32m[I 2022-03-27 16:58:50,784]\u001b[0m Trial 117 finished with value: 0.8202504280384879 and parameters: {'alpha': 0.32661484305801386, 'fit_prior': False}. Best is trial 70 with value: 0.8205785030469754.\u001b[0m\n",
      "\u001b[32m[I 2022-03-27 16:58:50,937]\u001b[0m Trial 119 finished with value: 0.8199665768007868 and parameters: {'alpha': 0.3002355735790164, 'fit_prior': False}. Best is trial 70 with value: 0.8205785030469754.\u001b[0m\n",
      "\u001b[32m[I 2022-03-27 16:58:50,948]\u001b[0m Trial 121 finished with value: 0.8199184581872491 and parameters: {'alpha': 0.2853031185651541, 'fit_prior': False}. Best is trial 70 with value: 0.8205785030469754.\u001b[0m\n",
      "\u001b[32m[I 2022-03-27 16:58:50,953]\u001b[0m Trial 120 finished with value: 0.8199019512672242 and parameters: {'alpha': 0.2841540616420087, 'fit_prior': False}. Best is trial 70 with value: 0.8205785030469754.\u001b[0m\n",
      "\u001b[32m[I 2022-03-27 16:58:51,073]\u001b[0m Trial 122 finished with value: 0.8198648025970865 and parameters: {'alpha': 0.28192164565821676, 'fit_prior': False}. Best is trial 70 with value: 0.8205785030469754.\u001b[0m\n",
      "\u001b[32m[I 2022-03-27 16:58:51,115]\u001b[0m Trial 123 finished with value: 0.8198841503116774 and parameters: {'alpha': 0.28157504019551616, 'fit_prior': False}. Best is trial 70 with value: 0.8205785030469754.\u001b[0m\n",
      "\u001b[32m[I 2022-03-27 16:58:51,125]\u001b[0m Trial 124 finished with value: 0.8199011560261429 and parameters: {'alpha': 0.28099165680696425, 'fit_prior': False}. Best is trial 70 with value: 0.8205785030469754.\u001b[0m\n",
      "\u001b[32m[I 2022-03-27 16:58:51,213]\u001b[0m Trial 126 finished with value: 0.819967448596929 and parameters: {'alpha': 0.28708906871634676, 'fit_prior': False}. Best is trial 70 with value: 0.8205785030469754.\u001b[0m\n",
      "\u001b[32m[I 2022-03-27 16:58:51,262]\u001b[0m Trial 125 finished with value: 0.8199084065888241 and parameters: {'alpha': 0.2932171474903132, 'fit_prior': False}. Best is trial 70 with value: 0.8205785030469754.\u001b[0m\n",
      "\u001b[32m[I 2022-03-27 16:58:51,425]\u001b[0m Trial 128 finished with value: 0.8174921143402241 and parameters: {'alpha': 0.19800513500080424, 'fit_prior': False}. Best is trial 70 with value: 0.8205785030469754.\u001b[0m\n",
      "\u001b[32m[I 2022-03-27 16:58:51,524]\u001b[0m Trial 127 finished with value: 0.8205990553684347 and parameters: {'alpha': 0.3808097640650894, 'fit_prior': False}. Best is trial 127 with value: 0.8205990553684347.\u001b[0m\n",
      "\u001b[32m[I 2022-03-27 16:58:51,580]\u001b[0m Trial 129 finished with value: 0.8182506406598349 and parameters: {'alpha': 0.21569489884024684, 'fit_prior': False}. Best is trial 127 with value: 0.8205990553684347.\u001b[0m\n",
      "\u001b[32m[I 2022-03-27 16:58:51,646]\u001b[0m Trial 130 finished with value: 0.8121305785927718 and parameters: {'alpha': 0.19689001699694703, 'fit_prior': True}. Best is trial 127 with value: 0.8205990553684347.\u001b[0m\n",
      "\u001b[32m[I 2022-03-27 16:58:51,705]\u001b[0m Trial 133 finished with value: 0.8123170571925572 and parameters: {'alpha': 0.20768062840852847, 'fit_prior': True}. Best is trial 127 with value: 0.8205990553684347.\u001b[0m\n",
      "\u001b[32m[I 2022-03-27 16:58:51,769]\u001b[0m Trial 131 finished with value: 0.8174681794130682 and parameters: {'alpha': 0.1967517618258236, 'fit_prior': False}. Best is trial 127 with value: 0.8205990553684347.\u001b[0m\n",
      "\u001b[32m[I 2022-03-27 16:58:51,816]\u001b[0m Trial 132 finished with value: 0.812298305060093 and parameters: {'alpha': 0.20900807646190517, 'fit_prior': True}. Best is trial 127 with value: 0.8205990553684347.\u001b[0m\n",
      "\u001b[32m[I 2022-03-27 16:58:51,923]\u001b[0m Trial 134 finished with value: 0.8111262489759272 and parameters: {'alpha': 0.37701620705375705, 'fit_prior': True}. Best is trial 127 with value: 0.8205990553684347.\u001b[0m\n",
      "\u001b[32m[I 2022-03-27 16:58:51,996]\u001b[0m Trial 135 finished with value: 0.8111434597265005 and parameters: {'alpha': 0.3799709143440683, 'fit_prior': True}. Best is trial 127 with value: 0.8205990553684347.\u001b[0m\n",
      "\u001b[32m[I 2022-03-27 16:58:52,057]\u001b[0m Trial 138 finished with value: 0.8205559239917993 and parameters: {'alpha': 0.3843306135174808, 'fit_prior': False}. Best is trial 127 with value: 0.8205990553684347.\u001b[0m\n",
      "\u001b[32m[I 2022-03-27 16:58:52,086]\u001b[0m Trial 136 finished with value: 0.820523348385183 and parameters: {'alpha': 0.37479106874257945, 'fit_prior': False}. Best is trial 127 with value: 0.8205990553684347.\u001b[0m\n",
      "\u001b[32m[I 2022-03-27 16:58:52,189]\u001b[0m Trial 137 finished with value: 0.8109523715617023 and parameters: {'alpha': 0.3960880430410821, 'fit_prior': True}. Best is trial 127 with value: 0.8205990553684347.\u001b[0m\n",
      "\u001b[32m[I 2022-03-27 16:58:52,282]\u001b[0m Trial 141 finished with value: 0.8206003977977997 and parameters: {'alpha': 0.3822518171051433, 'fit_prior': False}. Best is trial 141 with value: 0.8206003977977997.\u001b[0m\n",
      "\u001b[32m[I 2022-03-27 16:58:52,288]\u001b[0m Trial 140 finished with value: 0.8205725741114742 and parameters: {'alpha': 0.3833440543896632, 'fit_prior': False}. Best is trial 141 with value: 0.8206003977977997.\u001b[0m\n",
      "\u001b[32m[I 2022-03-27 16:58:52,289]\u001b[0m Trial 139 finished with value: 0.820549605216708 and parameters: {'alpha': 0.39647202761648265, 'fit_prior': False}. Best is trial 141 with value: 0.8206003977977997.\u001b[0m\n",
      "\u001b[32m[I 2022-03-27 16:58:52,291]\u001b[0m Trial 142 finished with value: 0.8203349971419697 and parameters: {'alpha': 0.4420892508079324, 'fit_prior': False}. Best is trial 141 with value: 0.8206003977977997.\u001b[0m\n",
      "\u001b[32m[I 2022-03-27 16:58:52,624]\u001b[0m Trial 145 finished with value: 0.8203578780209396 and parameters: {'alpha': 0.4381215681761464, 'fit_prior': False}. Best is trial 141 with value: 0.8206003977977997.\u001b[0m\n",
      "\u001b[32m[I 2022-03-27 16:58:52,670]\u001b[0m Trial 143 finished with value: 0.8203116497309422 and parameters: {'alpha': 0.45816870895888456, 'fit_prior': False}. Best is trial 141 with value: 0.8206003977977997.\u001b[0m\n",
      "\u001b[32m[I 2022-03-27 16:58:52,717]\u001b[0m Trial 146 finished with value: 0.8203518972963216 and parameters: {'alpha': 0.44810031083973423, 'fit_prior': False}. Best is trial 141 with value: 0.8206003977977997.\u001b[0m\n",
      "\u001b[32m[I 2022-03-27 16:58:52,760]\u001b[0m Trial 144 finished with value: 0.8203231304985404 and parameters: {'alpha': 0.4622906551903389, 'fit_prior': False}. Best is trial 141 with value: 0.8206003977977997.\u001b[0m\n",
      "\u001b[32m[I 2022-03-27 16:58:52,801]\u001b[0m Trial 148 finished with value: 0.8203122695099904 and parameters: {'alpha': 0.45364476477514026, 'fit_prior': False}. Best is trial 141 with value: 0.8206003977977997.\u001b[0m\n",
      "\u001b[32m[I 2022-03-27 16:58:52,902]\u001b[0m Trial 149 finished with value: 0.8203499680572571 and parameters: {'alpha': 0.44136847696491066, 'fit_prior': False}. Best is trial 141 with value: 0.8206003977977997.\u001b[0m\n",
      "\u001b[32m[I 2022-03-27 16:58:52,904]\u001b[0m Trial 147 finished with value: 0.8203256614038507 and parameters: {'alpha': 0.44378486972036596, 'fit_prior': False}. Best is trial 141 with value: 0.8206003977977997.\u001b[0m\n",
      "\u001b[32m[I 2022-03-27 16:58:52,916]\u001b[0m Trial 150 finished with value: 0.8203302102699134 and parameters: {'alpha': 0.460748289794584, 'fit_prior': False}. Best is trial 141 with value: 0.8206003977977997.\u001b[0m\n",
      "\u001b[32m[I 2022-03-27 16:58:53,117]\u001b[0m Trial 152 finished with value: 0.8202629799648246 and parameters: {'alpha': 0.46625321759740945, 'fit_prior': False}. Best is trial 141 with value: 0.8206003977977997.\u001b[0m\n",
      "\u001b[32m[I 2022-03-27 16:58:53,203]\u001b[0m Trial 151 finished with value: 0.8202914422499666 and parameters: {'alpha': 0.4643194571497724, 'fit_prior': False}. Best is trial 141 with value: 0.8206003977977997.\u001b[0m\n",
      "\u001b[32m[I 2022-03-27 16:58:53,206]\u001b[0m Trial 154 finished with value: 0.8204583829555993 and parameters: {'alpha': 0.413712786607797, 'fit_prior': False}. Best is trial 141 with value: 0.8206003977977997.\u001b[0m\n",
      "\u001b[32m[I 2022-03-27 16:58:53,361]\u001b[0m Trial 153 finished with value: 0.8196245632549473 and parameters: {'alpha': 0.5566669997407161, 'fit_prior': False}. Best is trial 141 with value: 0.8206003977977997.\u001b[0m\n",
      "\u001b[32m[I 2022-03-27 16:58:53,400]\u001b[0m Trial 155 finished with value: 0.8205020674666942 and parameters: {'alpha': 0.4022846413498222, 'fit_prior': False}. Best is trial 141 with value: 0.8206003977977997.\u001b[0m\n",
      "\u001b[32m[I 2022-03-27 16:58:53,511]\u001b[0m Trial 157 finished with value: 0.8196889454064369 and parameters: {'alpha': 0.547411902286864, 'fit_prior': False}. Best is trial 141 with value: 0.8206003977977997.\u001b[0m\n",
      "\u001b[32m[I 2022-03-27 16:58:53,517]\u001b[0m Trial 156 finished with value: 0.8205396052705307 and parameters: {'alpha': 0.3689051763172367, 'fit_prior': False}. Best is trial 141 with value: 0.8206003977977997.\u001b[0m\n",
      "\u001b[32m[I 2022-03-27 16:58:53,522]\u001b[0m Trial 158 finished with value: 0.8197070401203163 and parameters: {'alpha': 0.5440727677326598, 'fit_prior': False}. Best is trial 141 with value: 0.8206003977977997.\u001b[0m\n",
      "\u001b[32m[I 2022-03-27 16:58:53,546]\u001b[0m Trial 159 finished with value: 0.8204949876953211 and parameters: {'alpha': 0.4031696209630558, 'fit_prior': False}. Best is trial 141 with value: 0.8206003977977997.\u001b[0m\n",
      "\u001b[32m[I 2022-03-27 16:58:53,683]\u001b[0m Trial 160 finished with value: 0.8205243863024455 and parameters: {'alpha': 0.3670477916289974, 'fit_prior': False}. Best is trial 141 with value: 0.8206003977977997.\u001b[0m\n",
      "\u001b[32m[I 2022-03-27 16:58:53,871]\u001b[0m Trial 161 finished with value: 0.819794771664713 and parameters: {'alpha': 0.5370905307108074, 'fit_prior': False}. Best is trial 141 with value: 0.8206003977977997.\u001b[0m\n",
      "\u001b[32m[I 2022-03-27 16:58:53,879]\u001b[0m Trial 163 finished with value: 0.8205543469527887 and parameters: {'alpha': 0.3626247414862892, 'fit_prior': False}. Best is trial 141 with value: 0.8206003977977997.\u001b[0m\n",
      "\u001b[32m[I 2022-03-27 16:58:53,895]\u001b[0m Trial 162 finished with value: 0.8205631596995455 and parameters: {'alpha': 0.3593983190139891, 'fit_prior': False}. Best is trial 141 with value: 0.8206003977977997.\u001b[0m\n",
      "\u001b[32m[I 2022-03-27 16:58:54,027]\u001b[0m Trial 164 finished with value: 0.8205272512939331 and parameters: {'alpha': 0.36458982052990585, 'fit_prior': False}. Best is trial 141 with value: 0.8206003977977997.\u001b[0m\n",
      "\u001b[32m[I 2022-03-27 16:58:54,048]\u001b[0m Trial 165 finished with value: 0.8203165223631768 and parameters: {'alpha': 0.3334668730501411, 'fit_prior': False}. Best is trial 141 with value: 0.8206003977977997.\u001b[0m\n",
      "\u001b[32m[I 2022-03-27 16:58:54,062]\u001b[0m Trial 166 finished with value: 0.8202592219654767 and parameters: {'alpha': 0.3250880037008917, 'fit_prior': False}. Best is trial 141 with value: 0.8206003977977997.\u001b[0m\n",
      "\u001b[32m[I 2022-03-27 16:58:54,066]\u001b[0m Trial 168 finished with value: 0.8202584213472423 and parameters: {'alpha': 0.3246229142570497, 'fit_prior': False}. Best is trial 141 with value: 0.8206003977977997.\u001b[0m\n",
      "\u001b[32m[I 2022-03-27 16:58:54,103]\u001b[0m Trial 167 finished with value: 0.8202468276604975 and parameters: {'alpha': 0.32591886687401694, 'fit_prior': False}. Best is trial 141 with value: 0.8206003977977997.\u001b[0m\n",
      "\u001b[32m[I 2022-03-27 16:58:54,242]\u001b[0m Trial 169 finished with value: 0.8202602269133905 and parameters: {'alpha': 0.3241782416525447, 'fit_prior': False}. Best is trial 141 with value: 0.8206003977977997.\u001b[0m\n",
      "\u001b[32m[I 2022-03-27 16:58:54,576]\u001b[0m Trial 170 finished with value: 0.8202515412348236 and parameters: {'alpha': 0.326366852212889, 'fit_prior': False}. Best is trial 141 with value: 0.8206003977977997.\u001b[0m\n",
      "\u001b[32m[I 2022-03-27 16:58:54,676]\u001b[0m Trial 171 finished with value: 0.8202713863309978 and parameters: {'alpha': 0.3204554778910096, 'fit_prior': False}. Best is trial 141 with value: 0.8206003977977997.\u001b[0m\n",
      "\u001b[32m[I 2022-03-27 16:58:54,687]\u001b[0m Trial 174 finished with value: 0.8125384788548174 and parameters: {'alpha': 1.1131589495631138, 'fit_prior': False}. Best is trial 141 with value: 0.8206003977977997.\u001b[0m\n",
      "\u001b[32m[I 2022-03-27 16:58:54,750]\u001b[0m Trial 172 finished with value: 0.8192777947162803 and parameters: {'alpha': 0.25059122197344774, 'fit_prior': False}. Best is trial 141 with value: 0.8206003977977997.\u001b[0m\n",
      "\u001b[32m[I 2022-03-27 16:58:54,792]\u001b[0m Trial 173 finished with value: 0.8194064944939564 and parameters: {'alpha': 0.25645665835282594, 'fit_prior': False}. Best is trial 141 with value: 0.8206003977977997.\u001b[0m\n",
      "\u001b[32m[I 2022-03-27 16:58:54,797]\u001b[0m Trial 177 finished with value: 0.8205117534224504 and parameters: {'alpha': 0.4020619728376626, 'fit_prior': False}. Best is trial 141 with value: 0.8206003977977997.\u001b[0m\n",
      "\u001b[32m[I 2022-03-27 16:58:54,808]\u001b[0m Trial 176 finished with value: 0.8205140174546579 and parameters: {'alpha': 0.4011351274856413, 'fit_prior': False}. Best is trial 141 with value: 0.8206003977977997.\u001b[0m\n",
      "\u001b[32m[I 2022-03-27 16:58:54,853]\u001b[0m Trial 175 finished with value: 0.8204433326595367 and parameters: {'alpha': 0.4079516098924973, 'fit_prior': False}. Best is trial 141 with value: 0.8206003977977997.\u001b[0m\n",
      "\u001b[32m[I 2022-03-27 16:58:55,024]\u001b[0m Trial 178 finished with value: 0.820462065265804 and parameters: {'alpha': 0.4044826852460035, 'fit_prior': False}. Best is trial 141 with value: 0.8206003977977997.\u001b[0m\n",
      "\u001b[32m[I 2022-03-27 16:58:55,087]\u001b[0m Trial 180 finished with value: 0.8205325215343243 and parameters: {'alpha': 0.3982901385244141, 'fit_prior': False}. Best is trial 141 with value: 0.8206003977977997.\u001b[0m\n",
      "\u001b[32m[I 2022-03-27 16:58:55,111]\u001b[0m Trial 181 finished with value: 0.8204603080934986 and parameters: {'alpha': 0.40505229343879234, 'fit_prior': False}. Best is trial 141 with value: 0.8206003977977997.\u001b[0m\n",
      "\u001b[32m[I 2022-03-27 16:58:55,158]\u001b[0m Trial 179 finished with value: 0.820460030466626 and parameters: {'alpha': 0.4044151030161446, 'fit_prior': False}. Best is trial 141 with value: 0.8206003977977997.\u001b[0m\n",
      "\u001b[32m[I 2022-03-27 16:58:55,413]\u001b[0m Trial 183 finished with value: 0.8205622945560078 and parameters: {'alpha': 0.37092234142832736, 'fit_prior': False}. Best is trial 141 with value: 0.8206003977977997.\u001b[0m\n",
      "\u001b[32m[I 2022-03-27 16:58:55,419]\u001b[0m Trial 182 finished with value: 0.8205523928098369 and parameters: {'alpha': 0.3722496133417033, 'fit_prior': False}. Best is trial 141 with value: 0.8206003977977997.\u001b[0m\n",
      "\u001b[32m[I 2022-03-27 16:58:55,445]\u001b[0m Trial 185 finished with value: 0.8205283207666133 and parameters: {'alpha': 0.37517671830207333, 'fit_prior': False}. Best is trial 141 with value: 0.8206003977977997.\u001b[0m\n",
      "\u001b[32m[I 2022-03-27 16:58:55,464]\u001b[0m Trial 184 finished with value: 0.8205119973746197 and parameters: {'alpha': 0.3661207475244229, 'fit_prior': False}. Best is trial 141 with value: 0.8206003977977997.\u001b[0m\n",
      "\u001b[32m[I 2022-03-27 16:58:55,647]\u001b[0m Trial 186 finished with value: 0.8205700942893892 and parameters: {'alpha': 0.3604153800778676, 'fit_prior': False}. Best is trial 141 with value: 0.8206003977977997.\u001b[0m\n",
      "\u001b[32m[I 2022-03-27 16:58:55,812]\u001b[0m Trial 187 finished with value: 0.8205695282813373 and parameters: {'alpha': 0.3598175465986327, 'fit_prior': False}. Best is trial 141 with value: 0.8206003977977997.\u001b[0m\n",
      "\u001b[32m[I 2022-03-27 16:58:55,832]\u001b[0m Trial 189 finished with value: 0.8205488892195327 and parameters: {'alpha': 0.37257035203041977, 'fit_prior': False}. Best is trial 141 with value: 0.8206003977977997.\u001b[0m\n",
      "\u001b[32m[I 2022-03-27 16:58:55,863]\u001b[0m Trial 188 finished with value: 0.8205305390938228 and parameters: {'alpha': 0.36832163642728916, 'fit_prior': False}. Best is trial 141 with value: 0.8206003977977997.\u001b[0m\n",
      "\u001b[32m[I 2022-03-27 16:58:55,966]\u001b[0m Trial 191 finished with value: 0.8201740525854494 and parameters: {'alpha': 0.4886749769211606, 'fit_prior': False}. Best is trial 141 with value: 0.8206003977977997.\u001b[0m\n",
      "\u001b[32m[I 2022-03-27 16:58:55,980]\u001b[0m Trial 190 finished with value: 0.8205637391502122 and parameters: {'alpha': 0.37100898847894254, 'fit_prior': False}. Best is trial 141 with value: 0.8206003977977997.\u001b[0m\n",
      "\u001b[32m[I 2022-03-27 16:58:55,991]\u001b[0m Trial 192 finished with value: 0.8199575099176504 and parameters: {'alpha': 0.29755453816640015, 'fit_prior': False}. Best is trial 141 with value: 0.8206003977977997.\u001b[0m\n",
      "\u001b[32m[I 2022-03-27 16:58:55,992]\u001b[0m Trial 193 finished with value: 0.8199665768007868 and parameters: {'alpha': 0.3002347201373482, 'fit_prior': False}. Best is trial 141 with value: 0.8206003977977997.\u001b[0m\n",
      "\u001b[32m[I 2022-03-27 16:58:56,150]\u001b[0m Trial 194 finished with value: 0.8201841425298396 and parameters: {'alpha': 0.4936758866071107, 'fit_prior': False}. Best is trial 141 with value: 0.8206003977977997.\u001b[0m\n",
      "\u001b[32m[I 2022-03-27 16:58:56,159]\u001b[0m Trial 195 finished with value: 0.8199698753549831 and parameters: {'alpha': 0.2994173952092869, 'fit_prior': False}. Best is trial 141 with value: 0.8206003977977997.\u001b[0m\n",
      "\u001b[32m[I 2022-03-27 16:58:56,205]\u001b[0m Trial 196 finished with value: 0.820123126852586 and parameters: {'alpha': 0.5019236021764857, 'fit_prior': False}. Best is trial 141 with value: 0.8206003977977997.\u001b[0m\n",
      "\u001b[32m[I 2022-03-27 16:58:56,211]\u001b[0m Trial 197 finished with value: 0.8201225608445343 and parameters: {'alpha': 0.5012191914966576, 'fit_prior': False}. Best is trial 141 with value: 0.8206003977977997.\u001b[0m\n",
      "\u001b[32m[I 2022-03-27 16:58:56,243]\u001b[0m Trial 198 finished with value: 0.8199531035442718 and parameters: {'alpha': 0.2953712113240003, 'fit_prior': False}. Best is trial 141 with value: 0.8206003977977997.\u001b[0m\n",
      "\u001b[32m[I 2022-03-27 16:58:56,254]\u001b[0m Trial 199 finished with value: 0.8201588282402109 and parameters: {'alpha': 0.49125354151148815, 'fit_prior': False}. Best is trial 141 with value: 0.8206003977977997.\u001b[0m\n"
     ]
    }
   ],
   "source": [
    "def nb_objective(trial, X_train = X_train, y_train = y_train, X_test = X_test, y_test = y_test):\n",
    "\n",
    "    obj_params = {\n",
    "        'alpha' : trial.suggest_uniform('alpha', 1e-3, 2),\n",
    "        'fit_prior' : trial.suggest_categorical('fit_prior', [True, False])\n",
    "    }\n",
    "\n",
    "    nb_obj = MultinomialNB(**obj_params)\n",
    "    nb_obj.fit(X_train, y_train)\n",
    "\n",
    "    y_pred = nb_obj.predict_proba(X_test)\n",
    "\n",
    "    roc = roc_auc_score(y_true = y_test, y_score = y_pred, average = 'macro', multi_class='ovr')\n",
    "    \n",
    "    return roc\n",
    "\n",
    "nb_study = optuna.create_study(direction='maximize')\n",
    "nb_study.optimize(nb_objective, n_trials = 200, n_jobs = -1)"
   ]
  },
  {
   "cell_type": "code",
   "execution_count": 157,
   "metadata": {},
   "outputs": [],
   "source": [
    "nb_tuned_params = nb_study.best_params.copy()"
   ]
  },
  {
   "cell_type": "code",
   "execution_count": 158,
   "metadata": {},
   "outputs": [],
   "source": [
    "nb_tuned = MultinomialNB(**nb_tuned_params).fit(**train_data)"
   ]
  },
  {
   "cell_type": "markdown",
   "metadata": {},
   "source": [
    "#### Overall Evaluation"
   ]
  },
  {
   "cell_type": "code",
   "execution_count": 159,
   "metadata": {},
   "outputs": [
    {
     "data": {
      "text/html": [
       "<div>\n",
       "<style scoped>\n",
       "    .dataframe tbody tr th:only-of-type {\n",
       "        vertical-align: middle;\n",
       "    }\n",
       "\n",
       "    .dataframe tbody tr th {\n",
       "        vertical-align: top;\n",
       "    }\n",
       "\n",
       "    .dataframe thead th {\n",
       "        text-align: right;\n",
       "    }\n",
       "</style>\n",
       "<table border=\"1\" class=\"dataframe\">\n",
       "  <thead>\n",
       "    <tr style=\"text-align: right;\">\n",
       "      <th></th>\n",
       "      <th>roc</th>\n",
       "      <th>accuracy</th>\n",
       "      <th>precision</th>\n",
       "      <th>recall</th>\n",
       "    </tr>\n",
       "  </thead>\n",
       "  <tbody>\n",
       "    <tr>\n",
       "      <th>train</th>\n",
       "      <td>0.982753</td>\n",
       "      <td>0.908153</td>\n",
       "      <td>0.862713</td>\n",
       "      <td>0.914184</td>\n",
       "    </tr>\n",
       "    <tr>\n",
       "      <th>test</th>\n",
       "      <td>0.820600</td>\n",
       "      <td>0.693814</td>\n",
       "      <td>0.636362</td>\n",
       "      <td>0.656441</td>\n",
       "    </tr>\n",
       "    <tr>\n",
       "      <th>val</th>\n",
       "      <td>0.819881</td>\n",
       "      <td>0.681115</td>\n",
       "      <td>0.593423</td>\n",
       "      <td>0.592060</td>\n",
       "    </tr>\n",
       "  </tbody>\n",
       "</table>\n",
       "</div>"
      ],
      "text/plain": [
       "            roc  accuracy  precision    recall\n",
       "train  0.982753  0.908153   0.862713  0.914184\n",
       "test   0.820600  0.693814   0.636362  0.656441\n",
       "val    0.819881  0.681115   0.593423  0.592060"
      ]
     },
     "execution_count": 159,
     "metadata": {},
     "output_type": "execute_result"
    }
   ],
   "source": [
    "model_metrics = {\n",
    "    'train' : get_model_metrics(nb_tuned, **train_data),\n",
    "    'test' : get_model_metrics(nb_tuned, **test_data),\n",
    "    'val' : get_model_metrics(nb_tuned, **val_data)\n",
    "}\n",
    "\n",
    "pd.DataFrame(model_metrics).T"
   ]
  },
  {
   "cell_type": "markdown",
   "metadata": {},
   "source": [
    "This suggests the model is heavily over fit."
   ]
  },
  {
   "cell_type": "markdown",
   "metadata": {},
   "source": [
    "### Confusion Matrix"
   ]
  },
  {
   "cell_type": "code",
   "execution_count": 30,
   "metadata": {},
   "outputs": [
    {
     "data": {
      "image/png": "[encoded data removed]",
      "text/plain": [
       "<Figure size 576x576 with 2 Axes>"
      ]
     },
     "metadata": {
      "needs_background": "light"
     },
     "output_type": "display_data"
    }
   ],
   "source": [
    "def create_confusion_matrix(model, model_name):\n",
    "    fig, ax = plt.subplots(1, 1, figsize = (8,8))\n",
    "    plot_confusion_matrix(model, X_test, y_test, cmap = 'Blues', ax = ax)\n",
    "    plt.title(f'Confusion Matrix for {model_name} Model')\n",
    "    plt.show()\n",
    "\n",
    "create_confusion_matrix(nb_tuned, 'Naive Bayes')"
   ]
  }
 ],
 "metadata": {
  "interpreter": {
   "hash": "1c31da5edd4aad8fb53d12d73a780cc43060c0f39f08ff1fc327c1bcdbfa7e83"
  },
  "kernelspec": {
   "display_name": "Python 3.9.10 ('data_analytics')",
   "language": "python",
   "name": "python3"
  },
  "language_info": {
   "codemirror_mode": {
    "name": "ipython",
    "version": 3
   },
   "file_extension": ".py",
   "mimetype": "text/x-python",
   "name": "python",
   "nbconvert_exporter": "python",
   "pygments_lexer": "ipython3",
   "version": "3.9.10"
  },
  "orig_nbformat": 4
 },
 "nbformat": 4,
 "nbformat_minor": 2
}
