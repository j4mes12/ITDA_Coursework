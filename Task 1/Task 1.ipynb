{
 "cells": [
  {
   "cell_type": "markdown",
   "metadata": {},
   "source": [
    "# Task 1 - Sentiment Model"
   ]
  },
  {
   "cell_type": "markdown",
   "metadata": {},
   "source": [
    "## Data Extraction - code from data_loader_demo.ipynb"
   ]
  },
  {
   "cell_type": "code",
   "execution_count": 80,
   "id": "annoying-ethiopia",
   "metadata": {},
   "outputs": [
    {
     "name": "stdout",
     "output_type": "stream",
     "text": [
      "The autoreload extension is already loaded. To reload it, use:\n",
      "  %reload_ext autoreload\n"
     ]
    }
   ],
   "source": [
    "%load_ext autoreload\n",
    "%autoreload 2\n",
    "\n",
    "import warnings\n",
    "\n",
    "# Use HuggingFace's datasets library to access the financial_phrasebank dataset\n",
    "from datasets import load_dataset\n",
    "from sklearn.model_selection import train_test_split\n",
    "\n",
    "# Exploration\n",
    "import matplotlib.pyplot as plt\n",
    "import seaborn as sns\n",
    "\n",
    "# Feature Engineering\n",
    "import numpy as np\n",
    "import pandas as pd\n",
    "\n",
    "import nltk\n",
    "import re\n",
    "from sklearn.feature_extraction.text import TfidfVectorizer\n",
    "\n",
    "# Modelling\n",
    "import params as p\n",
    "\n",
    "from sklearn.naive_bayes import MultinomialNB\n",
    "from sklearn.metrics import accuracy_score, precision_score, recall_score, f1_score, classification_report, roc_auc_score, plot_confusion_matrix\n",
    "\n",
    "from sklearn.ensemble import RandomForestClassifier\n",
    "\n",
    "import optuna"
   ]
  },
  {
   "cell_type": "code",
   "execution_count": 81,
   "metadata": {},
   "outputs": [
    {
     "name": "stderr",
     "output_type": "stream",
     "text": [
      "[nltk_data] Downloading package wordnet to\n",
      "[nltk_data]     /Users/jamesstephenson/nltk_data...\n",
      "[nltk_data]   Package wordnet is already up-to-date!\n",
      "[nltk_data] Downloading package averaged_perceptron_tagger to\n",
      "[nltk_data]     /Users/jamesstephenson/nltk_data...\n",
      "[nltk_data]   Package averaged_perceptron_tagger is already up-to-\n",
      "[nltk_data]       date!\n"
     ]
    },
    {
     "data": {
      "text/plain": [
       "True"
      ]
     },
     "execution_count": 81,
     "metadata": {},
     "output_type": "execute_result"
    }
   ],
   "source": [
    "nltk.download('wordnet')\n",
    "nltk.download('averaged_perceptron_tagger')"
   ]
  },
  {
   "cell_type": "markdown",
   "metadata": {},
   "source": [
    "### Settings"
   ]
  },
  {
   "cell_type": "code",
   "execution_count": 82,
   "metadata": {},
   "outputs": [],
   "source": [
    "warnings.simplefilter(action='ignore', category=FutureWarning)"
   ]
  },
  {
   "cell_type": "markdown",
   "metadata": {},
   "source": [
    "### Import Data"
   ]
  },
  {
   "cell_type": "code",
   "execution_count": 83,
   "id": "a8502fa6",
   "metadata": {},
   "outputs": [
    {
     "name": "stderr",
     "output_type": "stream",
     "text": [
      "Reusing dataset financial_phrasebank (/Users/jamesstephenson/.cache/huggingface/datasets/financial_phrasebank/sentences_50agree/1.0.0/a6d468761d4e0c8ae215c77367e1092bead39deb08fbf4bffd7c0a6991febbf0)\n",
      "100%|██████████| 1/1 [00:00<00:00, 42.85it/s]"
     ]
    },
    {
     "name": "stdout",
     "output_type": "stream",
     "text": [
      "The dataset is a dictionary with two splits: \n",
      "\n",
      "DatasetDict({\n",
      "    train: Dataset({\n",
      "        features: ['sentence', 'label'],\n",
      "        num_rows: 4846\n",
      "    })\n",
      "})\n"
     ]
    },
    {
     "name": "stderr",
     "output_type": "stream",
     "text": [
      "\n"
     ]
    }
   ],
   "source": [
    "# The financial_phrasebank dataset is available in four variations. It has no predefined train/validation/test splits.\n",
    "# Each data point was annotated by 5-8 people, then their annotations were combined. \n",
    "# Each variation of the dataset contains examples with different levels of agreement. \n",
    "# Let's use the one containing all data points where at least 50% of the annotators agreed on the label.\n",
    "dataset = load_dataset(\n",
    "    \"financial_phrasebank\", \n",
    "    'sentences_50agree' # Select variation of the dataset\n",
    ")\n",
    "\n",
    "print(f'The dataset is a dictionary with two splits: \\n\\n{dataset}')"
   ]
  },
  {
   "cell_type": "code",
   "execution_count": 84,
   "id": "ca009bab",
   "metadata": {},
   "outputs": [],
   "source": [
    "# Split test data from training data\n",
    "train_sentences, test_sentences, train_labels, test_labels = train_test_split(\n",
    "    dataset[\"train\"]['sentence'], \n",
    "    dataset[\"train\"]['label'], \n",
    "    test_size=0.2, \n",
    "    stratify=dataset[\"train\"]['label']  # make sure the same proportion of labels is in the test set and training set\n",
    ")"
   ]
  },
  {
   "cell_type": "code",
   "execution_count": 85,
   "id": "7b3af369",
   "metadata": {},
   "outputs": [
    {
     "name": "stdout",
     "output_type": "stream",
     "text": [
      "How many instances in the train dataset? \n",
      "\n",
      "3876\n",
      "\n",
      "What does one instance look like? \n",
      "\n",
      "Under the agreement Ponsse will provide forest machine maintenance services to Stora Enso 's Russian wood procurement operations .\n"
     ]
    }
   ],
   "source": [
    "# label 0 = negative, 1 = neutral, 2 = positive\n",
    "print(f'How many instances in the train dataset? \\n\\n{len(train_sentences)}')\n",
    "print('')\n",
    "print(f'What does one instance look like? \\n\\n{train_sentences[234]}')"
   ]
  },
  {
   "cell_type": "markdown",
   "id": "b58ea906-8488-43a9-90dd-94695d700d19",
   "metadata": {},
   "source": [
    "It may also be necessary to create a _validation_ set (also called 'development' set or 'devset'). The validation set can be used to compute performance of your model when tuning hyperparameters,  optimising combinations of features, or looking at the errors your model makes before improving it. This allows you to hold out the test set to give a fair evaluation of the model and how well it generalises to new examples. This avoids tuning the model to specifso it gets good performance on the test set examples. "
   ]
  },
  {
   "cell_type": "code",
   "execution_count": 86,
   "id": "3c873dbe-b6a6-41ed-9f03-b52a5e0a85c7",
   "metadata": {},
   "outputs": [],
   "source": [
    "train_sentences, val_sentences, train_labels, val_labels = train_test_split(train_sentences, train_labels, test_size=0.25, stratify=train_labels)\n"
   ]
  },
  {
   "cell_type": "code",
   "execution_count": 87,
   "id": "57d10fa5",
   "metadata": {},
   "outputs": [
    {
     "name": "stdout",
     "output_type": "stream",
     "text": [
      "How many instances in the validation dataset? \n",
      "\n",
      "969\n",
      "\n",
      "How many instances in the test dataset? \n",
      "\n",
      "970\n"
     ]
    }
   ],
   "source": [
    "print(f'How many instances in the validation dataset? \\n\\n{len(val_sentences)}\\n')\n",
    "print(f'How many instances in the test dataset? \\n\\n{len(test_sentences)}')"
   ]
  },
  {
   "cell_type": "markdown",
   "metadata": {},
   "source": [
    "## Data Exploration"
   ]
  },
  {
   "cell_type": "code",
   "execution_count": 88,
   "metadata": {},
   "outputs": [],
   "source": [
    "train = pd.DataFrame({'sentences' : train_sentences, 'labels' : train_labels})"
   ]
  },
  {
   "cell_type": "markdown",
   "metadata": {},
   "source": [
    "### Very Brief Response Analysis"
   ]
  },
  {
   "cell_type": "markdown",
   "metadata": {},
   "source": [
    "Should only need to do this for train due to random split. So would expect to see the same structure for test and val"
   ]
  },
  {
   "cell_type": "code",
   "execution_count": 89,
   "metadata": {},
   "outputs": [
    {
     "data": {
      "image/png": "[encoded data removed]",
      "text/plain": [
       "<Figure size 1080x576 with 1 Axes>"
      ]
     },
     "metadata": {
      "needs_background": "light"
     },
     "output_type": "display_data"
    }
   ],
   "source": [
    "fig, ax = plt.subplots(nrows = 1, ncols = 1, figsize = (15, 8))\n",
    "\n",
    "ax = sns.countplot(data = train, x = 'labels').set(title = 'Label Counts for Train Data')\n",
    "\n",
    "plt.xlabel(\"Labels\")\n",
    "plt.ylabel(\"Frequency\")\n",
    "plt.xticks(rotation = 0)\n",
    "\n",
    "plt.show()"
   ]
  },
  {
   "cell_type": "markdown",
   "metadata": {},
   "source": [
    "There is a slight imbalance in labels, but nothing that should be an issue. If we find this is an issue later on, we can perform some over or under sampling."
   ]
  },
  {
   "cell_type": "markdown",
   "metadata": {},
   "source": [
    "# Featuring Engineering"
   ]
  },
  {
   "cell_type": "markdown",
   "metadata": {},
   "source": [
    "### Sentence Processing"
   ]
  },
  {
   "cell_type": "code",
   "execution_count": 90,
   "metadata": {},
   "outputs": [],
   "source": [
    "# Remove some stopwords to capture negation in n-grams if possible\n",
    "stop_words = nltk.corpus.stopwords.words('english')\n",
    "stop_words.remove('no')\n",
    "stop_words.remove('not')\n",
    "stop_words.remove('but')\n",
    "\n",
    "# Load up a WordNet Lemmatizer\n",
    "wnl = nltk.stem.WordNetLemmatizer()\n",
    "\n",
    "# Define a function to get the position tag for each word - this helps to lemmatize words correctly with context\n",
    "def get_wordnet_pos(word: str):\n",
    "        '''Map POS tag to first character lemmatize() accepts\n",
    "        \n",
    "        Arguments:\n",
    "            word (str): word to find wordnet position tag for'''\n",
    "        \n",
    "        tag = nltk.pos_tag([word])[0][1][0].upper()\n",
    "\n",
    "        tag_dict = {\n",
    "            'J': nltk.corpus.wordnet.ADJ,\n",
    "            'N': nltk.corpus.wordnet.NOUN,\n",
    "            'V': nltk.corpus.wordnet.VERB,\n",
    "            'R': nltk.corpus.wordnet.ADV\n",
    "            }\n",
    "\n",
    "        return tag_dict.get(tag, nltk.corpus.wordnet.NOUN)\n",
    "\n",
    "def text_preprocess(sentence: str):\n",
    "    '''Preprocesses the inputted sentence and does the following: sets to lowercase,\n",
    "    removes unwanted characters, lemmatizes and removes stopwords\n",
    "    \n",
    "    Arguments:\n",
    "        sentence (str): sentence to be processed\n",
    "\n",
    "    Returns:\n",
    "        sentence (str): processed sentence'''\n",
    "\n",
    "    # Set to lower case\n",
    "    sentence = str(sentence).lower()\n",
    "    \n",
    "    # Remove non-letter characters and replace the abbreviation 'mn' for million\n",
    "    sentence = re.sub(r'[^a-zA-Z]',r' ', sentence)\n",
    "    sentence = re.sub('mn', 'million', sentence)\n",
    "\n",
    "    sentence_tokenize = nltk.word_tokenize(sentence)\n",
    "\n",
    "    # Wordnet lemmatizer with position tagging to give context\n",
    "    sentence = ' '.join([wnl.lemmatize(word, get_wordnet_pos(word)) for word in sentence_tokenize])\n",
    "    \n",
    "    # Removal of Stopwords\n",
    "    sentence = ' '.join([word for word in sentence_tokenize if word not in stop_words])\n",
    "    \n",
    "    return sentence\n",
    "\n",
    "# Turn the above function into a vectorized function to work on columns for sentences\n",
    "vect_text_preprocess = np.vectorize(text_preprocess)"
   ]
  },
  {
   "cell_type": "code",
   "execution_count": 91,
   "metadata": {},
   "outputs": [],
   "source": [
    "clean_train_sentences = vect_text_preprocess(train_sentences)\n",
    "clean_test_sentences = vect_text_preprocess(test_sentences)\n",
    "clean_val_sentences = vect_text_preprocess(val_sentences)"
   ]
  },
  {
   "cell_type": "markdown",
   "metadata": {},
   "source": [
    "#### TF-IDF Vectorizer\n",
    "\n",
    "We will be using a TF-IDF Vectorizer to vectorize our sentences before modelling. We will be setting the `ngram_range = (1, 2)` so we can also build columns for bi-grams."
   ]
  },
  {
   "cell_type": "code",
   "execution_count": 92,
   "metadata": {},
   "outputs": [],
   "source": [
    "tfidf = TfidfVectorizer(min_df = 0.0, max_df = 1.0, ngram_range = (1, 2))"
   ]
  },
  {
   "cell_type": "code",
   "execution_count": 93,
   "metadata": {},
   "outputs": [],
   "source": [
    "X_train = tfidf.fit_transform(clean_train_sentences).toarray()\n",
    "X_train = pd.DataFrame(X_train, columns = tfidf.get_feature_names_out())\n",
    "\n",
    "X_test = tfidf.transform(clean_test_sentences).toarray()\n",
    "X_test = pd.DataFrame(X_test, columns = tfidf.get_feature_names_out())\n",
    "\n",
    "X_val = tfidf.transform(clean_val_sentences).toarray()\n",
    "X_val = pd.DataFrame(X_val, columns = tfidf.get_feature_names_out())"
   ]
  },
  {
   "cell_type": "markdown",
   "metadata": {},
   "source": [
    "## Modelling\n",
    "\n",
    "We will be using the ROC AUC Score as our evaluation metric since is provides a good balance between True Negative and False Positives in one score. This is preferred to Accuracy due to our imbalance and Precision and Recall since we require a balance of the both to get a good model. Since ROC score uses predicted probabilities as its input, we don't have to tune the threshold."
   ]
  },
  {
   "cell_type": "code",
   "execution_count": 94,
   "metadata": {},
   "outputs": [],
   "source": [
    "# Assign train, text and validation labels to the y variable\n",
    "y_train = train_labels\n",
    "y_test = test_labels\n",
    "y_val = val_labels"
   ]
  },
  {
   "cell_type": "code",
   "execution_count": 95,
   "metadata": {},
   "outputs": [],
   "source": [
    "# Make a dictionary for each train, tes and validation to make fitting and evaluation cleaner.\n",
    "train_data = {'X' : X_train, 'y' : y_train}\n",
    "test_data = {'X' : X_test, 'y' : y_test}\n",
    "val_data = {'X' : X_val, 'y' : y_val}"
   ]
  },
  {
   "cell_type": "code",
   "execution_count": 114,
   "metadata": {},
   "outputs": [],
   "source": [
    "def evaluate_model(model, X: pd.DataFrame, y):\n",
    "    '''Produces performance statistics for inputted model\n",
    "    \n",
    "    Arguments:\n",
    "        model: model to evaluate\n",
    "        X (pd.DataFrame): dataframe to create predictions\n",
    "        y : used to compare prediction against these true values\n",
    "    '''\n",
    "\n",
    "    # Calculate predictions\n",
    "    y_pred = model.predict(X)\n",
    "    y_pred_probs = model.predict_proba(X)\n",
    "\n",
    "    print('--- MACRO Metrics ---')\n",
    "    print('ROC AUC Score:\\t', roc_auc_score(y, y_pred_probs, average = 'macro', multi_class='ovr'))\n",
    "    print(f'Accuracy:\\t', accuracy_score(y, y_pred))\n",
    "\n",
    "    print(f'Precision:\\t', precision_score(y, y_pred, average='macro'))\n",
    "    print(f'Recall:\\t\\t', recall_score(y, y_pred, average='macro'))\n",
    "    print(f'F1 score:\\t', f1_score(y, y_pred, average='macro'))\n",
    "\n",
    "    print('\\n--- Classification Report ---')\n",
    "    # We can get all of these with a per-class breakdown using classification_report:\n",
    "    print(classification_report(y, y_pred))\n",
    "\n",
    "def get_model_metrics(model, X: pd.DataFrame, y):\n",
    "    '''Produces dictionary of the model metrics that we will be using for comparison\n",
    "    \n",
    "    Arguments:\n",
    "        model: model to evaluate\n",
    "        X (pd.DataFrame): dataframe to create predictions\n",
    "        y : used to compare prediction against these true values\n",
    "\n",
    "    Returns:\n",
    "        metrics (dict): dictionary of model metrics\n",
    "    '''\n",
    "\n",
    "    y_pred = model.predict(X)\n",
    "    y_pred_probs = model.predict_proba(X)\n",
    "\n",
    "    metrics = {\n",
    "        'roc' : roc_auc_score(y, y_pred_probs, average = 'macro', multi_class='ovr'),\n",
    "        'accuracy' : accuracy_score(y, y_pred),\n",
    "        'precision' : precision_score(y, y_pred, average='macro'),\n",
    "        'recall' : recall_score(y, y_pred, average='macro'),\n",
    "    }\n",
    "\n",
    "    return metrics\n",
    "\n"
   ]
  },
  {
   "cell_type": "markdown",
   "metadata": {},
   "source": [
    "### Initial Models - Naive Bayes and Random Forest\n",
    "\n",
    "We will start with the Naive bayes since it does not take long to train and tune, but does have a reliable performance. The Random Forest will take longer to train and tune, but it does have more parameters to tune so has the scope to become the better performing model."
   ]
  },
  {
   "cell_type": "code",
   "execution_count": 97,
   "metadata": {},
   "outputs": [
    {
     "name": "stdout",
     "output_type": "stream",
     "text": [
      "--- MACRO Metrics ---\n",
      "ROC AUC Score:\t 0.7885460212137912\n",
      "Accuracy:\t 0.6628865979381443\n",
      "Precision:\t 0.7611310505383645\n",
      "Recall:\t\t 0.4268071469776015\n",
      "F1 score:\t 0.40778285659880037\n",
      "\n",
      "--- Classification Report ---\n",
      "              precision    recall  f1-score   support\n",
      "\n",
      "           0       1.00      0.02      0.05       121\n",
      "           1       0.67      0.98      0.80       576\n",
      "           2       0.61      0.27      0.38       273\n",
      "\n",
      "    accuracy                           0.66       970\n",
      "   macro avg       0.76      0.43      0.41       970\n",
      "weighted avg       0.69      0.66      0.59       970\n",
      "\n"
     ]
    }
   ],
   "source": [
    "nb = MultinomialNB().fit(**train_data)\n",
    "evaluate_model(nb, **test_data)"
   ]
  },
  {
   "cell_type": "code",
   "execution_count": 98,
   "metadata": {},
   "outputs": [
    {
     "name": "stdout",
     "output_type": "stream",
     "text": [
      "--- MACRO Metrics ---\n",
      "ROC AUC Score:\t 0.8420832313393877\n",
      "Accuracy:\t 0.722680412371134\n",
      "Precision:\t 0.7310122841949491\n",
      "Recall:\t\t 0.5642987063441608\n",
      "F1 score:\t 0.600152535438073\n",
      "\n",
      "--- Classification Report ---\n",
      "              precision    recall  f1-score   support\n",
      "\n",
      "           0       0.77      0.30      0.43       121\n",
      "           1       0.72      0.94      0.82       576\n",
      "           2       0.70      0.46      0.55       273\n",
      "\n",
      "    accuracy                           0.72       970\n",
      "   macro avg       0.73      0.56      0.60       970\n",
      "weighted avg       0.72      0.72      0.69       970\n",
      "\n"
     ]
    }
   ],
   "source": [
    "rf = RandomForestClassifier(random_state=p.RANDOM_STATE).fit(**train_data)\n",
    "evaluate_model(rf, **test_data)"
   ]
  },
  {
   "cell_type": "markdown",
   "metadata": {},
   "source": [
    "### Model Tuning - Naive Bayes"
   ]
  },
  {
   "cell_type": "code",
   "execution_count": 99,
   "metadata": {},
   "outputs": [
    {
     "name": "stderr",
     "output_type": "stream",
     "text": [
      "\u001b[32m[I 2022-03-27 14:16:41,281]\u001b[0m A new study created in memory with name: no-name-14c4c06c-40dc-44e3-bab3-95bf1161014d\u001b[0m\n",
      "\u001b[32m[I 2022-03-27 14:16:43,138]\u001b[0m Trial 2 finished with value: 0.7932047115812549 and parameters: {'alpha': 1.2838606662721888, 'fit_prior': False}. Best is trial 2 with value: 0.7932047115812549.\u001b[0m\n",
      "\u001b[32m[I 2022-03-27 14:16:43,218]\u001b[0m Trial 7 finished with value: 0.8158964073943623 and parameters: {'alpha': 0.36724155910235634, 'fit_prior': False}. Best is trial 7 with value: 0.8158964073943623.\u001b[0m\n",
      "\u001b[32m[I 2022-03-27 14:16:44,224]\u001b[0m Trial 1 finished with value: 0.7842519806902916 and parameters: {'alpha': 1.9695818265778757, 'fit_prior': False}. Best is trial 7 with value: 0.8158964073943623.\u001b[0m\n",
      "\u001b[32m[I 2022-03-27 14:16:44,269]\u001b[0m Trial 0 finished with value: 0.7834085523944396 and parameters: {'alpha': 1.288447907014397, 'fit_prior': True}. Best is trial 7 with value: 0.8158964073943623.\u001b[0m\n",
      "\u001b[32m[I 2022-03-27 14:16:44,551]\u001b[0m Trial 6 finished with value: 0.7913071219771067 and parameters: {'alpha': 0.871179972175002, 'fit_prior': True}. Best is trial 7 with value: 0.8158964073943623.\u001b[0m\n",
      "\u001b[32m[I 2022-03-27 14:16:44,629]\u001b[0m Trial 3 finished with value: 0.7828201749042911 and parameters: {'alpha': 1.325238446636394, 'fit_prior': True}. Best is trial 7 with value: 0.8158964073943623.\u001b[0m\n",
      "\u001b[32m[I 2022-03-27 14:16:44,806]\u001b[0m Trial 4 finished with value: 0.7916483826288546 and parameters: {'alpha': 1.3866797167762985, 'fit_prior': False}. Best is trial 7 with value: 0.8158964073943623.\u001b[0m\n",
      "\u001b[32m[I 2022-03-27 14:16:45,034]\u001b[0m Trial 5 finished with value: 0.8149265865470873 and parameters: {'alpha': 0.39834147227014105, 'fit_prior': False}. Best is trial 7 with value: 0.8158964073943623.\u001b[0m\n",
      "\u001b[32m[I 2022-03-27 14:16:45,259]\u001b[0m Trial 8 finished with value: 0.7900813280553439 and parameters: {'alpha': 0.9319159938399053, 'fit_prior': True}. Best is trial 7 with value: 0.8158964073943623.\u001b[0m\n",
      "\u001b[32m[I 2022-03-27 14:16:45,482]\u001b[0m Trial 9 finished with value: 0.8042822550679681 and parameters: {'alpha': 0.43769291850551506, 'fit_prior': True}. Best is trial 7 with value: 0.8158964073943623.\u001b[0m\n",
      "\u001b[32m[I 2022-03-27 14:16:46,851]\u001b[0m Trial 14 finished with value: 0.8098156919454924 and parameters: {'alpha': 0.5494672581810308, 'fit_prior': False}. Best is trial 7 with value: 0.8158964073943623.\u001b[0m\n",
      "\u001b[32m[I 2022-03-27 14:16:46,878]\u001b[0m Trial 11 finished with value: 0.7847406450521749 and parameters: {'alpha': 1.1973670504930074, 'fit_prior': True}. Best is trial 7 with value: 0.8158964073943623.\u001b[0m\n",
      "\u001b[32m[I 2022-03-27 14:16:46,972]\u001b[0m Trial 10 finished with value: 0.7922278048795617 and parameters: {'alpha': 1.3461242407805016, 'fit_prior': False}. Best is trial 7 with value: 0.8158964073943623.\u001b[0m\n",
      "\u001b[32m[I 2022-03-27 14:16:47,363]\u001b[0m Trial 16 finished with value: 0.7781968994282339 and parameters: {'alpha': 1.678189012132165, 'fit_prior': True}. Best is trial 7 with value: 0.8158964073943623.\u001b[0m\n",
      "\u001b[32m[I 2022-03-27 14:16:47,379]\u001b[0m Trial 13 finished with value: 0.7849954302602269 and parameters: {'alpha': 1.896279873729711, 'fit_prior': False}. Best is trial 7 with value: 0.8158964073943623.\u001b[0m\n",
      "\u001b[32m[I 2022-03-27 14:16:47,460]\u001b[0m Trial 12 finished with value: 0.7769410636308792 and parameters: {'alpha': 1.777699017170739, 'fit_prior': True}. Best is trial 7 with value: 0.8158964073943623.\u001b[0m\n",
      "\u001b[32m[I 2022-03-27 14:16:47,478]\u001b[0m Trial 15 finished with value: 0.7894807012079577 and parameters: {'alpha': 1.5215686312638932, 'fit_prior': False}. Best is trial 7 with value: 0.8158964073943623.\u001b[0m\n",
      "\u001b[32m[I 2022-03-27 14:16:47,492]\u001b[0m Trial 17 finished with value: 0.8071136286564261 and parameters: {'alpha': 0.6396401185077307, 'fit_prior': False}. Best is trial 7 with value: 0.8158964073943623.\u001b[0m\n",
      "\u001b[32m[I 2022-03-27 14:16:48,742]\u001b[0m Trial 18 finished with value: 0.8202765037119567 and parameters: {'alpha': 0.24206564659138255, 'fit_prior': False}. Best is trial 18 with value: 0.8202765037119567.\u001b[0m\n",
      "\u001b[32m[I 2022-03-27 14:16:48,850]\u001b[0m Trial 20 finished with value: 0.8189510165034245 and parameters: {'alpha': 0.2854206717962101, 'fit_prior': False}. Best is trial 18 with value: 0.8202765037119567.\u001b[0m\n",
      "\u001b[32m[I 2022-03-27 14:16:48,868]\u001b[0m Trial 19 finished with value: 0.8206420665801741 and parameters: {'alpha': 0.2302996119959397, 'fit_prior': False}. Best is trial 19 with value: 0.8206420665801741.\u001b[0m\n",
      "\u001b[32m[I 2022-03-27 14:16:49,621]\u001b[0m Trial 21 finished with value: 0.8213557159689211 and parameters: {'alpha': 0.20451854418200577, 'fit_prior': False}. Best is trial 21 with value: 0.8213557159689211.\u001b[0m\n",
      "\u001b[32m[I 2022-03-27 14:16:49,731]\u001b[0m Trial 23 finished with value: 0.8213562335831299 and parameters: {'alpha': 0.2050634686532366, 'fit_prior': False}. Best is trial 23 with value: 0.8213562335831299.\u001b[0m\n",
      "\u001b[32m[I 2022-03-27 14:16:49,767]\u001b[0m Trial 22 finished with value: 0.8209685280486964 and parameters: {'alpha': 0.2199234327364573, 'fit_prior': False}. Best is trial 23 with value: 0.8213562335831299.\u001b[0m\n",
      "\u001b[32m[I 2022-03-27 14:16:49,816]\u001b[0m Trial 25 finished with value: 0.8213896917401953 and parameters: {'alpha': 0.20335583820911166, 'fit_prior': False}. Best is trial 25 with value: 0.8213896917401953.\u001b[0m\n",
      "\u001b[32m[I 2022-03-27 14:16:49,976]\u001b[0m Trial 24 finished with value: 0.8186422276468083 and parameters: {'alpha': 0.29447584857048625, 'fit_prior': False}. Best is trial 25 with value: 0.8213896917401953.\u001b[0m\n",
      "\u001b[32m[I 2022-03-27 14:16:50,773]\u001b[0m Trial 27 finished with value: 0.8212785046742924 and parameters: {'alpha': 0.2096847687000326, 'fit_prior': False}. Best is trial 25 with value: 0.8213896917401953.\u001b[0m\n",
      "\u001b[32m[I 2022-03-27 14:16:50,840]\u001b[0m Trial 28 finished with value: 0.821279787249079 and parameters: {'alpha': 0.20917638921888812, 'fit_prior': False}. Best is trial 25 with value: 0.8213896917401953.\u001b[0m\n",
      "\u001b[32m[I 2022-03-27 14:16:51,534]\u001b[0m Trial 26 finished with value: 0.8201055505747753 and parameters: {'alpha': 0.24785436813173517, 'fit_prior': False}. Best is trial 25 with value: 0.8213896917401953.\u001b[0m\n",
      "\u001b[32m[I 2022-03-27 14:16:51,943]\u001b[0m Trial 31 finished with value: 0.8088654231424875 and parameters: {'alpha': 0.5826478614251364, 'fit_prior': False}. Best is trial 25 with value: 0.8213896917401953.\u001b[0m\n",
      "\u001b[32m[I 2022-03-27 14:16:52,091]\u001b[0m Trial 33 finished with value: 0.805614471620142 and parameters: {'alpha': 0.6904850467570731, 'fit_prior': False}. Best is trial 25 with value: 0.8213896917401953.\u001b[0m\n",
      "\u001b[32m[I 2022-03-27 14:16:52,494]\u001b[0m Trial 29 finished with value: 0.8208867073264609 and parameters: {'alpha': 0.22262742328432214, 'fit_prior': False}. Best is trial 25 with value: 0.8213896917401953.\u001b[0m\n",
      "\u001b[32m[I 2022-03-27 14:16:52,579]\u001b[0m Trial 35 finished with value: 0.805972470778555 and parameters: {'alpha': 0.6774990150999127, 'fit_prior': False}. Best is trial 25 with value: 0.8213896917401953.\u001b[0m\n",
      "\u001b[32m[I 2022-03-27 14:16:52,617]\u001b[0m Trial 32 finished with value: 0.805798967916295 and parameters: {'alpha': 0.6847909899432858, 'fit_prior': False}. Best is trial 25 with value: 0.8213896917401953.\u001b[0m\n",
      "\u001b[32m[I 2022-03-27 14:16:52,620]\u001b[0m Trial 30 finished with value: 0.8068190651433103 and parameters: {'alpha': 0.6500781590326703, 'fit_prior': False}. Best is trial 25 with value: 0.8213896917401953.\u001b[0m\n",
      "\u001b[32m[I 2022-03-27 14:16:52,623]\u001b[0m Trial 34 finished with value: 0.8066391318628005 and parameters: {'alpha': 0.6551438134681402, 'fit_prior': False}. Best is trial 25 with value: 0.8213896917401953.\u001b[0m\n",
      "\u001b[32m[I 2022-03-27 14:16:53,562]\u001b[0m Trial 36 finished with value: 0.8038731966774201 and parameters: {'alpha': 0.7578030253935659, 'fit_prior': False}. Best is trial 25 with value: 0.8213896917401953.\u001b[0m\n",
      "\u001b[32m[I 2022-03-27 14:16:54,192]\u001b[0m Trial 40 finished with value: 0.811871745947767 and parameters: {'alpha': 0.48490394051494123, 'fit_prior': False}. Best is trial 25 with value: 0.8213896917401953.\u001b[0m\n",
      "\u001b[32m[I 2022-03-27 14:16:54,286]\u001b[0m Trial 38 finished with value: 0.8122975898131637 and parameters: {'alpha': 0.4716219372107759, 'fit_prior': False}. Best is trial 25 with value: 0.8213896917401953.\u001b[0m\n",
      "\u001b[32m[I 2022-03-27 14:16:54,385]\u001b[0m Trial 37 finished with value: 0.8049537374895183 and parameters: {'alpha': 0.715731087151807, 'fit_prior': False}. Best is trial 25 with value: 0.8213896917401953.\u001b[0m\n",
      "\u001b[32m[I 2022-03-27 14:16:54,465]\u001b[0m Trial 39 finished with value: 0.8121277875118542 and parameters: {'alpha': 0.4769849481482382, 'fit_prior': False}. Best is trial 25 with value: 0.8213896917401953.\u001b[0m\n",
      "\u001b[32m[I 2022-03-27 14:16:54,624]\u001b[0m Trial 42 finished with value: 0.8123768830253626 and parameters: {'alpha': 0.46897017040788647, 'fit_prior': False}. Best is trial 25 with value: 0.8213896917401953.\u001b[0m\n",
      "\u001b[32m[I 2022-03-27 14:16:54,747]\u001b[0m Trial 41 finished with value: 0.8129746957301615 and parameters: {'alpha': 0.44954880260317903, 'fit_prior': False}. Best is trial 25 with value: 0.8213896917401953.\u001b[0m\n",
      "\u001b[32m[I 2022-03-27 14:16:55,639]\u001b[0m Trial 43 finished with value: 0.8131799682036499 and parameters: {'alpha': 0.4448596846842957, 'fit_prior': False}. Best is trial 25 with value: 0.8213896917401953.\u001b[0m\n",
      "\u001b[32m[I 2022-03-27 14:16:55,721]\u001b[0m Trial 45 finished with value: 0.8151794498351576 and parameters: {'alpha': 0.3898588766232278, 'fit_prior': False}. Best is trial 25 with value: 0.8213896917401953.\u001b[0m\n",
      "\u001b[32m[I 2022-03-27 14:16:55,736]\u001b[0m Trial 44 finished with value: 0.8114449132659164 and parameters: {'alpha': 0.4961151658284222, 'fit_prior': False}. Best is trial 25 with value: 0.8213896917401953.\u001b[0m\n",
      "\u001b[32m[I 2022-03-27 14:16:56,417]\u001b[0m Trial 46 finished with value: 0.8162350742626788 and parameters: {'alpha': 0.36007532982104673, 'fit_prior': False}. Best is trial 25 with value: 0.8213896917401953.\u001b[0m\n",
      "\u001b[32m[I 2022-03-27 14:16:57,068]\u001b[0m Trial 48 finished with value: 0.815203818325022 and parameters: {'alpha': 0.38939736662669366, 'fit_prior': False}. Best is trial 25 with value: 0.8213896917401953.\u001b[0m\n",
      "\u001b[32m[I 2022-03-27 14:16:57,206]\u001b[0m Trial 49 finished with value: 0.8163477779445284 and parameters: {'alpha': 0.356285726527013, 'fit_prior': False}. Best is trial 25 with value: 0.8213896917401953.\u001b[0m\n",
      "\u001b[32m[I 2022-03-27 14:16:57,277]\u001b[0m Trial 47 finished with value: 0.8170804190214591 and parameters: {'alpha': 0.33812726166265616, 'fit_prior': False}. Best is trial 25 with value: 0.8213896917401953.\u001b[0m\n",
      "\u001b[32m[I 2022-03-27 14:16:57,929]\u001b[0m Trial 50 finished with value: 0.8168321422395252 and parameters: {'alpha': 0.34560885949424947, 'fit_prior': False}. Best is trial 25 with value: 0.8213896917401953.\u001b[0m\n",
      "\u001b[32m[I 2022-03-27 14:16:57,938]\u001b[0m Trial 51 finished with value: 0.8074569849543624 and parameters: {'alpha': 0.3627904111663478, 'fit_prior': True}. Best is trial 25 with value: 0.8213896917401953.\u001b[0m\n",
      "\u001b[32m[I 2022-03-27 14:16:57,954]\u001b[0m Trial 52 finished with value: 0.810259048573267 and parameters: {'alpha': 0.3039324821318927, 'fit_prior': True}. Best is trial 25 with value: 0.8213896917401953.\u001b[0m\n",
      "\u001b[32m[I 2022-03-27 14:16:57,967]\u001b[0m Trial 54 finished with value: 0.8089012254706427 and parameters: {'alpha': 0.3311943591413399, 'fit_prior': True}. Best is trial 25 with value: 0.8213896917401953.\u001b[0m\n",
      "\u001b[32m[I 2022-03-27 14:16:58,684]\u001b[0m Trial 53 finished with value: 0.8077009091339145 and parameters: {'alpha': 0.3572952376329156, 'fit_prior': True}. Best is trial 25 with value: 0.8213896917401953.\u001b[0m\n",
      "\u001b[32m[I 2022-03-27 14:16:59,498]\u001b[0m Trial 55 finished with value: 0.7893020842743937 and parameters: {'alpha': 0.9639968971191404, 'fit_prior': True}. Best is trial 25 with value: 0.8213896917401953.\u001b[0m\n",
      "\u001b[32m[I 2022-03-27 14:16:59,535]\u001b[0m Trial 56 finished with value: 0.7880398811706982 and parameters: {'alpha': 1.0256164890691606, 'fit_prior': True}. Best is trial 25 with value: 0.8213896917401953.\u001b[0m\n",
      "\u001b[32m[I 2022-03-27 14:17:00,177]\u001b[0m Trial 57 finished with value: 0.8099299553105831 and parameters: {'alpha': 0.3100096323058759, 'fit_prior': True}. Best is trial 25 with value: 0.8213896917401953.\u001b[0m\n",
      "\u001b[32m[I 2022-03-27 14:17:00,194]\u001b[0m Trial 59 finished with value: 0.8213608933864593 and parameters: {'alpha': 0.205360194524794, 'fit_prior': False}. Best is trial 25 with value: 0.8213896917401953.\u001b[0m\n",
      "\u001b[32m[I 2022-03-27 14:17:00,202]\u001b[0m Trial 58 finished with value: 0.7872833280880824 and parameters: {'alpha': 1.0660288988312157, 'fit_prior': True}. Best is trial 25 with value: 0.8213896917401953.\u001b[0m\n",
      "\u001b[32m[I 2022-03-27 14:17:00,250]\u001b[0m Trial 61 finished with value: 0.8202634950050826 and parameters: {'alpha': 0.2427512520531474, 'fit_prior': False}. Best is trial 25 with value: 0.8213896917401953.\u001b[0m\n",
      "\u001b[32m[I 2022-03-27 14:17:00,312]\u001b[0m Trial 60 finished with value: 0.8214755766836334 and parameters: {'alpha': 0.20031295063189405, 'fit_prior': False}. Best is trial 60 with value: 0.8214755766836334.\u001b[0m\n",
      "\u001b[32m[I 2022-03-27 14:17:00,785]\u001b[0m Trial 62 finished with value: 0.8213035056793916 and parameters: {'alpha': 0.20695911018448157, 'fit_prior': False}. Best is trial 60 with value: 0.8214755766836334.\u001b[0m\n",
      "\u001b[32m[I 2022-03-27 14:17:02,016]\u001b[0m Trial 67 finished with value: 0.8209211523181006 and parameters: {'alpha': 0.2209755071092965, 'fit_prior': False}. Best is trial 60 with value: 0.8214755766836334.\u001b[0m\n",
      "\u001b[32m[I 2022-03-27 14:17:02,158]\u001b[0m Trial 65 finished with value: 0.8211062320292166 and parameters: {'alpha': 0.2157043286595792, 'fit_prior': False}. Best is trial 60 with value: 0.8214755766836334.\u001b[0m\n",
      "\u001b[32m[I 2022-03-27 14:17:02,247]\u001b[0m Trial 64 finished with value: 0.8211622833905013 and parameters: {'alpha': 0.21459220048404218, 'fit_prior': False}. Best is trial 60 with value: 0.8214755766836334.\u001b[0m\n",
      "\u001b[32m[I 2022-03-27 14:17:02,451]\u001b[0m Trial 63 finished with value: 0.8205078170896866 and parameters: {'alpha': 0.2346076267729331, 'fit_prior': False}. Best is trial 60 with value: 0.8214755766836334.\u001b[0m\n",
      "\u001b[32m[I 2022-03-27 14:17:02,571]\u001b[0m Trial 69 finished with value: 0.82143565315709 and parameters: {'alpha': 0.20229840749429556, 'fit_prior': False}. Best is trial 60 with value: 0.8214755766836334.\u001b[0m\n",
      "\u001b[32m[I 2022-03-27 14:17:02,613]\u001b[0m Trial 66 finished with value: 0.8212945181770303 and parameters: {'alpha': 0.2079170445415582, 'fit_prior': False}. Best is trial 60 with value: 0.8214755766836334.\u001b[0m\n",
      "\u001b[32m[I 2022-03-27 14:17:02,619]\u001b[0m Trial 68 finished with value: 0.8212918394018823 and parameters: {'alpha': 0.20841296164602657, 'fit_prior': False}. Best is trial 60 with value: 0.8214755766836334.\u001b[0m\n",
      "\u001b[32m[I 2022-03-27 14:17:02,644]\u001b[0m Trial 70 finished with value: 0.8212820324615181 and parameters: {'alpha': 0.20979852299983406, 'fit_prior': False}. Best is trial 60 with value: 0.8214755766836334.\u001b[0m\n",
      "\u001b[32m[I 2022-03-27 14:17:04,132]\u001b[0m Trial 73 finished with value: 0.8090332074825076 and parameters: {'alpha': 0.5774387464793658, 'fit_prior': False}. Best is trial 60 with value: 0.8214755766836334.\u001b[0m\n",
      "\u001b[32m[I 2022-03-27 14:17:04,312]\u001b[0m Trial 72 finished with value: 0.819047435708268 and parameters: {'alpha': 0.2817968111945, 'fit_prior': False}. Best is trial 60 with value: 0.8214755766836334.\u001b[0m\n",
      "\u001b[32m[I 2022-03-27 14:17:04,322]\u001b[0m Trial 75 finished with value: 0.8097272841627423 and parameters: {'alpha': 0.5512803488393085, 'fit_prior': False}. Best is trial 60 with value: 0.8214755766836334.\u001b[0m\n",
      "\u001b[32m[I 2022-03-27 14:17:04,507]\u001b[0m Trial 76 finished with value: 0.8190881901335497 and parameters: {'alpha': 0.28084786706228787, 'fit_prior': False}. Best is trial 60 with value: 0.8214755766836334.\u001b[0m\n",
      "\u001b[32m[I 2022-03-27 14:17:04,541]\u001b[0m Trial 71 finished with value: 0.8190429809410466 and parameters: {'alpha': 0.28210779810392106, 'fit_prior': False}. Best is trial 60 with value: 0.8214755766836334.\u001b[0m\n",
      "\u001b[32m[I 2022-03-27 14:17:04,694]\u001b[0m Trial 74 finished with value: 0.8190123225437369 and parameters: {'alpha': 0.2832797696645401, 'fit_prior': False}. Best is trial 60 with value: 0.8214755766836334.\u001b[0m\n",
      "\u001b[32m[I 2022-03-27 14:17:04,771]\u001b[0m Trial 77 finished with value: 0.8186006544899525 and parameters: {'alpha': 0.2958715680020775, 'fit_prior': False}. Best is trial 60 with value: 0.8214755766836334.\u001b[0m\n",
      "\u001b[32m[I 2022-03-27 14:17:04,989]\u001b[0m Trial 78 finished with value: 0.8188717105550394 and parameters: {'alpha': 0.2875260728600761, 'fit_prior': False}. Best is trial 60 with value: 0.8214755766836334.\u001b[0m\n",
      "\u001b[32m[I 2022-03-27 14:17:06,586]\u001b[0m Trial 82 finished with value: 0.8143321537596765 and parameters: {'alpha': 0.4137889783450457, 'fit_prior': False}. Best is trial 60 with value: 0.8214755766836334.\u001b[0m\n",
      "\u001b[32m[I 2022-03-27 14:17:06,671]\u001b[0m Trial 83 finished with value: 0.7950238876380533 and parameters: {'alpha': 1.1689086732298284, 'fit_prior': False}. Best is trial 60 with value: 0.8214755766836334.\u001b[0m\n",
      "\u001b[32m[I 2022-03-27 14:17:06,798]\u001b[0m Trial 81 finished with value: 0.7909212188113766 and parameters: {'alpha': 1.4260919679888011, 'fit_prior': False}. Best is trial 60 with value: 0.8214755766836334.\u001b[0m\n",
      "\u001b[32m[I 2022-03-27 14:17:06,801]\u001b[0m Trial 79 finished with value: 0.8190271126198381 and parameters: {'alpha': 0.28241808657969114, 'fit_prior': False}. Best is trial 60 with value: 0.8214755766836334.\u001b[0m\n",
      "\u001b[32m[I 2022-03-27 14:17:06,903]\u001b[0m Trial 80 finished with value: 0.8189371829813942 and parameters: {'alpha': 0.2860027347337931, 'fit_prior': False}. Best is trial 60 with value: 0.8214755766836334.\u001b[0m\n",
      "\u001b[32m[I 2022-03-27 14:17:07,033]\u001b[0m Trial 84 finished with value: 0.8145269335755921 and parameters: {'alpha': 0.40984426513606775, 'fit_prior': False}. Best is trial 60 with value: 0.8214755766836334.\u001b[0m\n",
      "\u001b[32m[I 2022-03-27 14:17:07,040]\u001b[0m Trial 85 finished with value: 0.7942349209677019 and parameters: {'alpha': 1.2178272202438405, 'fit_prior': False}. Best is trial 60 with value: 0.8214755766836334.\u001b[0m\n",
      "\u001b[32m[I 2022-03-27 14:17:07,521]\u001b[0m Trial 86 finished with value: 0.7907015844473423 and parameters: {'alpha': 1.4390479986326306, 'fit_prior': False}. Best is trial 60 with value: 0.8214755766836334.\u001b[0m\n",
      "\u001b[32m[I 2022-03-27 14:17:08,583]\u001b[0m Trial 90 finished with value: 0.814409244776126 and parameters: {'alpha': 0.4116615966386156, 'fit_prior': False}. Best is trial 60 with value: 0.8214755766836334.\u001b[0m\n",
      "\u001b[32m[I 2022-03-27 14:17:08,676]\u001b[0m Trial 92 finished with value: 0.8213501533825175 and parameters: {'alpha': 0.20474131593997036, 'fit_prior': False}. Best is trial 60 with value: 0.8214755766836334.\u001b[0m\n",
      "\u001b[32m[I 2022-03-27 14:17:08,720]\u001b[0m Trial 91 finished with value: 0.8145413331056744 and parameters: {'alpha': 0.40921977371970963, 'fit_prior': False}. Best is trial 60 with value: 0.8214755766836334.\u001b[0m\n",
      "\u001b[32m[I 2022-03-27 14:17:09,032]\u001b[0m Trial 88 finished with value: 0.8026614723007276 and parameters: {'alpha': 0.8078452515605239, 'fit_prior': False}. Best is trial 60 with value: 0.8214755766836334.\u001b[0m\n",
      "\u001b[32m[I 2022-03-27 14:17:09,064]\u001b[0m Trial 87 finished with value: 0.8142795468405462 and parameters: {'alpha': 0.4162914401817617, 'fit_prior': False}. Best is trial 60 with value: 0.8214755766836334.\u001b[0m\n",
      "\u001b[32m[I 2022-03-27 14:17:09,192]\u001b[0m Trial 89 finished with value: 0.8143103860770419 and parameters: {'alpha': 0.41435507087682455, 'fit_prior': False}. Best is trial 60 with value: 0.8214755766836334.\u001b[0m\n",
      "\u001b[32m[I 2022-03-27 14:17:09,229]\u001b[0m Trial 94 finished with value: 0.8029051134762538 and parameters: {'alpha': 0.7986293048977353, 'fit_prior': False}. Best is trial 60 with value: 0.8214755766836334.\u001b[0m\n",
      "\u001b[32m[I 2022-03-27 14:17:09,456]\u001b[0m Trial 93 finished with value: 0.8214741078925072 and parameters: {'alpha': 0.20068486714006684, 'fit_prior': False}. Best is trial 60 with value: 0.8214755766836334.\u001b[0m\n",
      "\u001b[32m[I 2022-03-27 14:17:10,243]\u001b[0m Trial 96 finished with value: 0.819959109127108 and parameters: {'alpha': 0.2520094557552935, 'fit_prior': False}. Best is trial 60 with value: 0.8214755766836334.\u001b[0m\n",
      "\u001b[32m[I 2022-03-27 14:17:10,582]\u001b[0m Trial 98 finished with value: 0.8214183644385985 and parameters: {'alpha': 0.20290129315831942, 'fit_prior': False}. Best is trial 60 with value: 0.8214755766836334.\u001b[0m\n",
      "\u001b[32m[I 2022-03-27 14:17:10,587]\u001b[0m Trial 95 finished with value: 0.8200025792606453 and parameters: {'alpha': 0.2505358907328561, 'fit_prior': False}. Best is trial 60 with value: 0.8214755766836334.\u001b[0m\n",
      "\u001b[32m[I 2022-03-27 14:17:10,622]\u001b[0m Trial 97 finished with value: 0.8199308760749954 and parameters: {'alpha': 0.252560964278391, 'fit_prior': False}. Best is trial 60 with value: 0.8214755766836334.\u001b[0m\n",
      "\u001b[32m[I 2022-03-27 14:17:11,338]\u001b[0m Trial 101 finished with value: 0.8198912651265529 and parameters: {'alpha': 0.25353513999086075, 'fit_prior': False}. Best is trial 60 with value: 0.8214755766836334.\u001b[0m\n",
      "\u001b[32m[I 2022-03-27 14:17:11,340]\u001b[0m Trial 100 finished with value: 0.8201243511010826 and parameters: {'alpha': 0.2476676754849424, 'fit_prior': False}. Best is trial 60 with value: 0.8214755766836334.\u001b[0m\n",
      "\u001b[32m[I 2022-03-27 14:17:11,405]\u001b[0m Trial 99 finished with value: 0.8214643977398294 and parameters: {'alpha': 0.2004817908274342, 'fit_prior': False}. Best is trial 60 with value: 0.8214755766836334.\u001b[0m\n",
      "\u001b[32m[I 2022-03-27 14:17:11,721]\u001b[0m Trial 102 finished with value: 0.8198511251031663 and parameters: {'alpha': 0.25448788284304974, 'fit_prior': False}. Best is trial 60 with value: 0.8214755766836334.\u001b[0m\n",
      "\u001b[32m[I 2022-03-27 14:17:12,544]\u001b[0m Trial 103 finished with value: 0.7843474924413361 and parameters: {'alpha': 1.9603932137948508, 'fit_prior': False}. Best is trial 60 with value: 0.8214755766836334.\u001b[0m\n",
      "\u001b[32m[I 2022-03-27 14:17:12,552]\u001b[0m Trial 105 finished with value: 0.8174028592854684 and parameters: {'alpha': 0.32824899585539774, 'fit_prior': False}. Best is trial 60 with value: 0.8214755766836334.\u001b[0m\n",
      "\u001b[32m[I 2022-03-27 14:17:12,663]\u001b[0m Trial 104 finished with value: 0.8176911812849822 and parameters: {'alpha': 0.3214986943611955, 'fit_prior': False}. Best is trial 60 with value: 0.8214755766836334.\u001b[0m\n",
      "\u001b[32m[I 2022-03-27 14:17:12,665]\u001b[0m Trial 106 finished with value: 0.7849894825049576 and parameters: {'alpha': 1.8988881320582065, 'fit_prior': False}. Best is trial 60 with value: 0.8214755766836334.\u001b[0m\n",
      "\u001b[32m[I 2022-03-27 14:17:12,685]\u001b[0m Trial 108 finished with value: 0.8172683698076445 and parameters: {'alpha': 0.3313609398510604, 'fit_prior': False}. Best is trial 60 with value: 0.8214755766836334.\u001b[0m\n",
      "\u001b[32m[I 2022-03-27 14:17:13,279]\u001b[0m Trial 107 finished with value: 0.817580318826938 and parameters: {'alpha': 0.32408440153583995, 'fit_prior': False}. Best is trial 60 with value: 0.8214755766836334.\u001b[0m\n",
      "\u001b[32m[I 2022-03-27 14:17:13,436]\u001b[0m Trial 109 finished with value: 0.8172610016550923 and parameters: {'alpha': 0.33190240324703124, 'fit_prior': False}. Best is trial 60 with value: 0.8214755766836334.\u001b[0m\n",
      "\u001b[32m[I 2022-03-27 14:17:14,266]\u001b[0m Trial 114 finished with value: 0.8158582537763107 and parameters: {'alpha': 0.3684343329959483, 'fit_prior': False}. Best is trial 60 with value: 0.8214755766836334.\u001b[0m\n",
      "\u001b[32m[I 2022-03-27 14:17:14,284]\u001b[0m Trial 110 finished with value: 0.817088045981116 and parameters: {'alpha': 0.3379583138802641, 'fit_prior': False}. Best is trial 60 with value: 0.8214755766836334.\u001b[0m\n",
      "\u001b[32m[I 2022-03-27 14:17:14,858]\u001b[0m Trial 112 finished with value: 0.8169209950457189 and parameters: {'alpha': 0.3423194324621973, 'fit_prior': False}. Best is trial 60 with value: 0.8214755766836334.\u001b[0m\n",
      "\u001b[32m[I 2022-03-27 14:17:14,967]\u001b[0m Trial 111 finished with value: 0.8174128578193255 and parameters: {'alpha': 0.3279380829703162, 'fit_prior': False}. Best is trial 60 with value: 0.8214755766836334.\u001b[0m\n",
      "\u001b[32m[I 2022-03-27 14:17:14,969]\u001b[0m Trial 113 finished with value: 0.8213842078281383 and parameters: {'alpha': 0.20397841477512382, 'fit_prior': False}. Best is trial 60 with value: 0.8214755766836334.\u001b[0m\n",
      "\u001b[32m[I 2022-03-27 14:17:14,977]\u001b[0m Trial 115 finished with value: 0.8213827390370119 and parameters: {'alpha': 0.20402632435134255, 'fit_prior': False}. Best is trial 60 with value: 0.8214755766836334.\u001b[0m\n",
      "\u001b[32m[I 2022-03-27 14:17:14,995]\u001b[0m Trial 116 finished with value: 0.8213562335831299 and parameters: {'alpha': 0.20506110187951995, 'fit_prior': False}. Best is trial 60 with value: 0.8214755766836334.\u001b[0m\n",
      "\u001b[32m[I 2022-03-27 14:17:15,586]\u001b[0m Trial 117 finished with value: 0.8213648359166256 and parameters: {'alpha': 0.20439021366493026, 'fit_prior': False}. Best is trial 60 with value: 0.8214755766836334.\u001b[0m\n",
      "\u001b[32m[I 2022-03-27 14:17:16,198]\u001b[0m Trial 118 finished with value: 0.8214419134904601 and parameters: {'alpha': 0.2014652992540495, 'fit_prior': False}. Best is trial 60 with value: 0.8214755766836334.\u001b[0m\n",
      "\u001b[32m[I 2022-03-27 14:17:16,206]\u001b[0m Trial 120 finished with value: 0.8212622995780615 and parameters: {'alpha': 0.21029658411271202, 'fit_prior': False}. Best is trial 60 with value: 0.8214755766836334.\u001b[0m\n",
      "\u001b[32m[I 2022-03-27 14:17:16,236]\u001b[0m Trial 119 finished with value: 0.8214434064785078 and parameters: {'alpha': 0.20148110959715054, 'fit_prior': False}. Best is trial 60 with value: 0.8214755766836334.\u001b[0m\n",
      "\u001b[32m[I 2022-03-27 14:17:17,034]\u001b[0m Trial 121 finished with value: 0.8197386809348495 and parameters: {'alpha': 0.2588209512136352, 'fit_prior': False}. Best is trial 60 with value: 0.8214755766836334.\u001b[0m\n",
      "\u001b[32m[I 2022-03-27 14:17:17,277]\u001b[0m Trial 122 finished with value: 0.8213906973945377 and parameters: {'alpha': 0.20390080840924124, 'fit_prior': False}. Best is trial 60 with value: 0.8214755766836334.\u001b[0m\n",
      "\u001b[32m[I 2022-03-27 14:17:17,428]\u001b[0m Trial 125 finished with value: 0.8214321495667858 and parameters: {'alpha': 0.2023548146930274, 'fit_prior': False}. Best is trial 60 with value: 0.8214755766836334.\u001b[0m\n",
      "\u001b[32m[I 2022-03-27 14:17:17,862]\u001b[0m Trial 124 finished with value: 0.8214316857235735 and parameters: {'alpha': 0.20163091066727004, 'fit_prior': False}. Best is trial 60 with value: 0.8214755766836334.\u001b[0m\n",
      "\u001b[32m[I 2022-03-27 14:17:17,904]\u001b[0m Trial 123 finished with value: 0.82137774245866 and parameters: {'alpha': 0.204129363637477, 'fit_prior': False}. Best is trial 60 with value: 0.8214755766836334.\u001b[0m\n",
      "\u001b[32m[I 2022-03-27 14:17:17,944]\u001b[0m Trial 128 finished with value: 0.8197103941117404 and parameters: {'alpha': 0.2605442530870762, 'fit_prior': False}. Best is trial 60 with value: 0.8214755766836334.\u001b[0m\n",
      "\u001b[32m[I 2022-03-27 14:17:17,947]\u001b[0m Trial 127 finished with value: 0.7879066008735487 and parameters: {'alpha': 1.6391720314154536, 'fit_prior': False}. Best is trial 60 with value: 0.8214755766836334.\u001b[0m\n",
      "\u001b[32m[I 2022-03-27 14:17:17,967]\u001b[0m Trial 126 finished with value: 0.8196900468263889 and parameters: {'alpha': 0.2612902392860817, 'fit_prior': False}. Best is trial 60 with value: 0.8214755766836334.\u001b[0m\n",
      "\u001b[32m[I 2022-03-27 14:17:19,105]\u001b[0m Trial 129 finished with value: 0.7870578440724033 and parameters: {'alpha': 1.7042629169283645, 'fit_prior': False}. Best is trial 60 with value: 0.8214755766836334.\u001b[0m\n",
      "\u001b[32m[I 2022-03-27 14:17:19,129]\u001b[0m Trial 130 finished with value: 0.7867489301294769 and parameters: {'alpha': 1.7341697906589142, 'fit_prior': False}. Best is trial 60 with value: 0.8214755766836334.\u001b[0m\n",
      "\u001b[32m[I 2022-03-27 14:17:19,278]\u001b[0m Trial 131 finished with value: 0.8195242058750138 and parameters: {'alpha': 0.2666677512950136, 'fit_prior': False}. Best is trial 60 with value: 0.8214755766836334.\u001b[0m\n",
      "\u001b[32m[I 2022-03-27 14:17:19,821]\u001b[0m Trial 133 finished with value: 0.8103917520111391 and parameters: {'alpha': 0.3003851120709209, 'fit_prior': True}. Best is trial 60 with value: 0.8214755766836334.\u001b[0m\n",
      "\u001b[32m[I 2022-03-27 14:17:19,861]\u001b[0m Trial 132 finished with value: 0.7886014190238684 and parameters: {'alpha': 1.5860686582767756, 'fit_prior': False}. Best is trial 60 with value: 0.8214755766836334.\u001b[0m\n",
      "\u001b[32m[I 2022-03-27 14:17:20,156]\u001b[0m Trial 134 finished with value: 0.8104305200310858 and parameters: {'alpha': 0.29971787682087664, 'fit_prior': True}. Best is trial 60 with value: 0.8214755766836334.\u001b[0m\n",
      "\u001b[32m[I 2022-03-27 14:17:20,174]\u001b[0m Trial 136 finished with value: 0.8111578123296107 and parameters: {'alpha': 0.2860832545424875, 'fit_prior': True}. Best is trial 60 with value: 0.8214755766836334.\u001b[0m\n",
      "\u001b[32m[I 2022-03-27 14:17:20,408]\u001b[0m Trial 135 finished with value: 0.8107569721581583 and parameters: {'alpha': 0.2935538807982613, 'fit_prior': True}. Best is trial 60 with value: 0.8214755766836334.\u001b[0m\n",
      "\u001b[32m[I 2022-03-27 14:17:21,177]\u001b[0m Trial 137 finished with value: 0.8185585879158094 and parameters: {'alpha': 0.296942038746665, 'fit_prior': False}. Best is trial 60 with value: 0.8214755766836334.\u001b[0m\n",
      "\u001b[32m[I 2022-03-27 14:17:21,188]\u001b[0m Trial 138 finished with value: 0.8181585424164157 and parameters: {'alpha': 0.30758662862076036, 'fit_prior': False}. Best is trial 60 with value: 0.8214755766836334.\u001b[0m\n",
      "\u001b[32m[I 2022-03-27 14:17:21,344]\u001b[0m Trial 140 finished with value: 0.8202367119243279 and parameters: {'alpha': 0.2445763732641874, 'fit_prior': False}. Best is trial 60 with value: 0.8214755766836334.\u001b[0m\n",
      "\u001b[32m[I 2022-03-27 14:17:21,372]\u001b[0m Trial 139 finished with value: 0.818516545538588 and parameters: {'alpha': 0.2987769893731569, 'fit_prior': False}. Best is trial 60 with value: 0.8214755766836334.\u001b[0m\n",
      "\u001b[32m[I 2022-03-27 14:17:21,813]\u001b[0m Trial 141 finished with value: 0.820411216339228 and parameters: {'alpha': 0.2360605034239052, 'fit_prior': False}. Best is trial 60 with value: 0.8214755766836334.\u001b[0m\n",
      "\u001b[32m[I 2022-03-27 14:17:22,671]\u001b[0m Trial 146 finished with value: 0.8206286592618195 and parameters: {'alpha': 0.23192217159081074, 'fit_prior': False}. Best is trial 60 with value: 0.8214755766836334.\u001b[0m\n",
      "\u001b[32m[I 2022-03-27 14:17:22,748]\u001b[0m Trial 142 finished with value: 0.8205304095874774 and parameters: {'alpha': 0.2342155070607461, 'fit_prior': False}. Best is trial 60 with value: 0.8214755766836334.\u001b[0m\n",
      "\u001b[32m[I 2022-03-27 14:17:22,765]\u001b[0m Trial 144 finished with value: 0.8204772662343699 and parameters: {'alpha': 0.2349608053037219, 'fit_prior': False}. Best is trial 60 with value: 0.8214755766836334.\u001b[0m\n",
      "\u001b[32m[I 2022-03-27 14:17:22,782]\u001b[0m Trial 143 finished with value: 0.8204044437688024 and parameters: {'alpha': 0.23666995045959285, 'fit_prior': False}. Best is trial 60 with value: 0.8214755766836334.\u001b[0m\n",
      "\u001b[32m[I 2022-03-27 14:17:22,830]\u001b[0m Trial 147 finished with value: 0.8204355848290925 and parameters: {'alpha': 0.23544207397279993, 'fit_prior': False}. Best is trial 60 with value: 0.8214755766836334.\u001b[0m\n",
      "\u001b[32m[I 2022-03-27 14:17:22,873]\u001b[0m Trial 145 finished with value: 0.8200711647312854 and parameters: {'alpha': 0.24832709150687016, 'fit_prior': False}. Best is trial 60 with value: 0.8214755766836334.\u001b[0m\n",
      "\u001b[32m[I 2022-03-27 14:17:24,289]\u001b[0m Trial 149 finished with value: 0.8214727715467243 and parameters: {'alpha': 0.20105823915560528, 'fit_prior': False}. Best is trial 60 with value: 0.8214755766836334.\u001b[0m\n",
      "\u001b[32m[I 2022-03-27 14:17:24,500]\u001b[0m Trial 148 finished with value: 0.8213025786993957 and parameters: {'alpha': 0.20718405338362755, 'fit_prior': False}. Best is trial 60 with value: 0.8214755766836334.\u001b[0m\n",
      "\u001b[32m[I 2022-03-27 14:17:24,514]\u001b[0m Trial 153 finished with value: 0.8213218423624867 and parameters: {'alpha': 0.20646506797508923, 'fit_prior': False}. Best is trial 60 with value: 0.8214755766836334.\u001b[0m\n",
      "\u001b[32m[I 2022-03-27 14:17:24,529]\u001b[0m Trial 151 finished with value: 0.8156622236479917 and parameters: {'alpha': 0.3747872951411152, 'fit_prior': False}. Best is trial 60 with value: 0.8214755766836334.\u001b[0m\n",
      "\u001b[32m[I 2022-03-27 14:17:24,532]\u001b[0m Trial 152 finished with value: 0.821427123414359 and parameters: {'alpha': 0.20268513046580997, 'fit_prior': False}. Best is trial 60 with value: 0.8214755766836334.\u001b[0m\n",
      "\u001b[32m[I 2022-03-27 14:17:24,545]\u001b[0m Trial 150 finished with value: 0.821382456032986 and parameters: {'alpha': 0.20395820670398043, 'fit_prior': False}. Best is trial 60 with value: 0.8214755766836334.\u001b[0m\n",
      "\u001b[32m[I 2022-03-27 14:17:25,140]\u001b[0m Trial 154 finished with value: 0.8213667443540423 and parameters: {'alpha': 0.20514160155864222, 'fit_prior': False}. Best is trial 60 with value: 0.8214755766836334.\u001b[0m\n",
      "\u001b[32m[I 2022-03-27 14:17:25,905]\u001b[0m Trial 155 finished with value: 0.821477635679733 and parameters: {'alpha': 0.2006322601875497, 'fit_prior': False}. Best is trial 155 with value: 0.821477635679733.\u001b[0m\n",
      "\u001b[32m[I 2022-03-27 14:17:26,705]\u001b[0m Trial 160 finished with value: 0.8214690091493155 and parameters: {'alpha': 0.201001668150955, 'fit_prior': False}. Best is trial 155 with value: 0.821477635679733.\u001b[0m\n",
      "\u001b[32m[I 2022-03-27 14:17:26,712]\u001b[0m Trial 158 finished with value: 0.8214693943181812 and parameters: {'alpha': 0.20042835583338342, 'fit_prior': False}. Best is trial 155 with value: 0.821477635679733.\u001b[0m\n",
      "\u001b[32m[I 2022-03-27 14:17:26,715]\u001b[0m Trial 156 finished with value: 0.8213777182617386 and parameters: {'alpha': 0.2040857223324784, 'fit_prior': False}. Best is trial 155 with value: 0.821477635679733.\u001b[0m\n",
      "\u001b[32m[I 2022-03-27 14:17:26,736]\u001b[0m Trial 161 finished with value: 0.819510757521849 and parameters: {'alpha': 0.26612750291916315, 'fit_prior': False}. Best is trial 155 with value: 0.821477635679733.\u001b[0m\n",
      "\u001b[32m[I 2022-03-27 14:17:26,743]\u001b[0m Trial 159 finished with value: 0.8193908699219071 and parameters: {'alpha': 0.27199464834931264, 'fit_prior': False}. Best is trial 155 with value: 0.821477635679733.\u001b[0m\n",
      "\u001b[32m[I 2022-03-27 14:17:26,802]\u001b[0m Trial 157 finished with value: 0.8156248222543313 and parameters: {'alpha': 0.37740054948391943, 'fit_prior': False}. Best is trial 155 with value: 0.821477635679733.\u001b[0m\n",
      "\u001b[32m[I 2022-03-27 14:17:27,431]\u001b[0m Trial 162 finished with value: 0.8194945988375818 and parameters: {'alpha': 0.2696877594108319, 'fit_prior': False}. Best is trial 155 with value: 0.821477635679733.\u001b[0m\n",
      "\u001b[32m[I 2022-03-27 14:17:27,522]\u001b[0m Trial 163 finished with value: 0.8195139781081272 and parameters: {'alpha': 0.26626800564736913, 'fit_prior': False}. Best is trial 155 with value: 0.821477635679733.\u001b[0m\n",
      "\u001b[32m[I 2022-03-27 14:17:28,668]\u001b[0m Trial 164 finished with value: 0.8194405580785533 and parameters: {'alpha': 0.2706544989305565, 'fit_prior': False}. Best is trial 155 with value: 0.821477635679733.\u001b[0m\n",
      "\u001b[32m[I 2022-03-27 14:17:28,786]\u001b[0m Trial 165 finished with value: 0.8195218880718098 and parameters: {'alpha': 0.26585430312122416, 'fit_prior': False}. Best is trial 155 with value: 0.821477635679733.\u001b[0m\n",
      "\u001b[32m[I 2022-03-27 14:17:28,985]\u001b[0m Trial 168 finished with value: 0.8198055495615658 and parameters: {'alpha': 0.25696219860061104, 'fit_prior': False}. Best is trial 155 with value: 0.821477635679733.\u001b[0m\n",
      "\u001b[32m[I 2022-03-27 14:17:29,044]\u001b[0m Trial 167 finished with value: 0.8200255811242233 and parameters: {'alpha': 0.2499670979110802, 'fit_prior': False}. Best is trial 155 with value: 0.821477635679733.\u001b[0m\n",
      "\u001b[32m[I 2022-03-27 14:17:29,116]\u001b[0m Trial 166 finished with value: 0.8195162717144097 and parameters: {'alpha': 0.2668182184837605, 'fit_prior': False}. Best is trial 155 with value: 0.821477635679733.\u001b[0m\n",
      "\u001b[32m[I 2022-03-27 14:17:29,139]\u001b[0m Trial 169 finished with value: 0.8195130269312099 and parameters: {'alpha': 0.2668901054727703, 'fit_prior': False}. Best is trial 155 with value: 0.821477635679733.\u001b[0m\n",
      "\u001b[32m[I 2022-03-27 14:17:29,148]\u001b[0m Trial 170 finished with value: 0.8202334429442065 and parameters: {'alpha': 0.24467886924278914, 'fit_prior': False}. Best is trial 155 with value: 0.821477635679733.\u001b[0m\n",
      "\u001b[32m[I 2022-03-27 14:17:31,092]\u001b[0m Trial 171 finished with value: 0.8203309645910788 and parameters: {'alpha': 0.24070015557592336, 'fit_prior': False}. Best is trial 155 with value: 0.821477635679733.\u001b[0m\n",
      "\u001b[32m[I 2022-03-27 14:17:31,296]\u001b[0m Trial 173 finished with value: 0.8203785338970472 and parameters: {'alpha': 0.23696657702266757, 'fit_prior': False}. Best is trial 155 with value: 0.821477635679733.\u001b[0m\n",
      "\u001b[32m[I 2022-03-27 14:17:31,732]\u001b[0m Trial 172 finished with value: 0.8203362737475315 and parameters: {'alpha': 0.24015354330882333, 'fit_prior': False}. Best is trial 155 with value: 0.821477635679733.\u001b[0m\n",
      "\u001b[32m[I 2022-03-27 14:17:32,010]\u001b[0m Trial 176 finished with value: 0.8178136205918823 and parameters: {'alpha': 0.31764562395931434, 'fit_prior': False}. Best is trial 155 with value: 0.821477635679733.\u001b[0m\n",
      "\u001b[32m[I 2022-03-27 14:17:32,018]\u001b[0m Trial 174 finished with value: 0.8178776356878462 and parameters: {'alpha': 0.31582937799664434, 'fit_prior': False}. Best is trial 155 with value: 0.821477635679733.\u001b[0m\n",
      "\u001b[32m[I 2022-03-27 14:17:32,362]\u001b[0m Trial 175 finished with value: 0.8179803051781819 and parameters: {'alpha': 0.3133375596132367, 'fit_prior': False}. Best is trial 155 with value: 0.821477635679733.\u001b[0m\n",
      "\u001b[32m[I 2022-03-27 14:17:32,441]\u001b[0m Trial 178 finished with value: 0.8214337205227515 and parameters: {'alpha': 0.2017879319477874, 'fit_prior': False}. Best is trial 155 with value: 0.821477635679733.\u001b[0m\n",
      "\u001b[32m[I 2022-03-27 14:17:32,470]\u001b[0m Trial 177 finished with value: 0.8213025786993957 and parameters: {'alpha': 0.20718506207510684, 'fit_prior': False}. Best is trial 155 with value: 0.821477635679733.\u001b[0m\n",
      "\u001b[32m[I 2022-03-27 14:17:33,663]\u001b[0m Trial 180 finished with value: 0.8213830462379595 and parameters: {'alpha': 0.20418076819133868, 'fit_prior': False}. Best is trial 155 with value: 0.821477635679733.\u001b[0m\n",
      "\u001b[32m[I 2022-03-27 14:17:33,734]\u001b[0m Trial 181 finished with value: 0.8214351893138776 and parameters: {'alpha': 0.2017552976045284, 'fit_prior': False}. Best is trial 155 with value: 0.821477635679733.\u001b[0m\n",
      "\u001b[32m[I 2022-03-27 14:17:33,880]\u001b[0m Trial 183 finished with value: 0.8212560204249231 and parameters: {'alpha': 0.21133836871215134, 'fit_prior': False}. Best is trial 155 with value: 0.821477635679733.\u001b[0m\n",
      "\u001b[32m[I 2022-03-27 14:17:34,150]\u001b[0m Trial 179 finished with value: 0.8214477886549648 and parameters: {'alpha': 0.2011610688274169, 'fit_prior': False}. Best is trial 155 with value: 0.821477635679733.\u001b[0m\n",
      "\u001b[32m[I 2022-03-27 14:17:34,231]\u001b[0m Trial 182 finished with value: 0.8214336425548335 and parameters: {'alpha': 0.20203833423402662, 'fit_prior': False}. Best is trial 155 with value: 0.821477635679733.\u001b[0m\n",
      "\u001b[32m[I 2022-03-27 14:17:34,288]\u001b[0m Trial 184 finished with value: 0.8212221038017989 and parameters: {'alpha': 0.21281137633966385, 'fit_prior': False}. Best is trial 155 with value: 0.821477635679733.\u001b[0m\n",
      "\u001b[32m[I 2022-03-27 14:17:35,164]\u001b[0m Trial 185 finished with value: 0.8214215608279551 and parameters: {'alpha': 0.20306848695434496, 'fit_prior': False}. Best is trial 155 with value: 0.821477635679733.\u001b[0m\n",
      "\u001b[32m[I 2022-03-27 14:17:35,328]\u001b[0m Trial 186 finished with value: 0.8213186459731302 and parameters: {'alpha': 0.20636293543383366, 'fit_prior': False}. Best is trial 155 with value: 0.821477635679733.\u001b[0m\n",
      "\u001b[32m[I 2022-03-27 14:17:35,636]\u001b[0m Trial 187 finished with value: 0.820565108009068 and parameters: {'alpha': 0.2336605376637163, 'fit_prior': False}. Best is trial 155 with value: 0.821477635679733.\u001b[0m\n",
      "\u001b[32m[I 2022-03-27 14:17:35,796]\u001b[0m Trial 189 finished with value: 0.8214166126434463 and parameters: {'alpha': 0.20288395822226202, 'fit_prior': False}. Best is trial 155 with value: 0.821477635679733.\u001b[0m\n",
      "\u001b[32m[I 2022-03-27 14:17:35,872]\u001b[0m Trial 188 finished with value: 0.8214691113141552 and parameters: {'alpha': 0.20071892494141128, 'fit_prior': False}. Best is trial 155 with value: 0.821477635679733.\u001b[0m\n",
      "\u001b[32m[I 2022-03-27 14:17:36,237]\u001b[0m Trial 190 finished with value: 0.8204934659534473 and parameters: {'alpha': 0.23472582644352996, 'fit_prior': False}. Best is trial 155 with value: 0.821477635679733.\u001b[0m\n",
      "\u001b[32m[I 2022-03-27 14:17:37,566]\u001b[0m Trial 196 finished with value: 0.8182965005333155 and parameters: {'alpha': 0.3041311029178143, 'fit_prior': False}. Best is trial 155 with value: 0.821477635679733.\u001b[0m\n",
      "\u001b[32m[I 2022-03-27 14:17:37,573]\u001b[0m Trial 192 finished with value: 0.818829878591079 and parameters: {'alpha': 0.28887152912469427, 'fit_prior': False}. Best is trial 155 with value: 0.821477635679733.\u001b[0m\n",
      "\u001b[32m[I 2022-03-27 14:17:37,575]\u001b[0m Trial 191 finished with value: 0.8188283802258781 and parameters: {'alpha': 0.2892442303254391, 'fit_prior': False}. Best is trial 155 with value: 0.821477635679733.\u001b[0m\n",
      "\u001b[32m[I 2022-03-27 14:17:37,586]\u001b[0m Trial 193 finished with value: 0.8185147937434358 and parameters: {'alpha': 0.29885489848638497, 'fit_prior': False}. Best is trial 155 with value: 0.821477635679733.\u001b[0m\n",
      "\u001b[32m[I 2022-03-27 14:17:37,720]\u001b[0m Trial 195 finished with value: 0.818726150381833 and parameters: {'alpha': 0.29191374506940293, 'fit_prior': False}. Best is trial 155 with value: 0.821477635679733.\u001b[0m\n",
      "\u001b[32m[I 2022-03-27 14:17:37,733]\u001b[0m Trial 194 finished with value: 0.8187661767796447 and parameters: {'alpha': 0.2906747154483709, 'fit_prior': False}. Best is trial 155 with value: 0.821477635679733.\u001b[0m\n",
      "\u001b[32m[I 2022-03-27 14:17:37,783]\u001b[0m Trial 197 finished with value: 0.8190811533788663 and parameters: {'alpha': 0.28110091453615793, 'fit_prior': False}. Best is trial 155 with value: 0.821477635679733.\u001b[0m\n",
      "\u001b[32m[I 2022-03-27 14:17:37,846]\u001b[0m Trial 198 finished with value: 0.8186156979960045 and parameters: {'alpha': 0.29507033562866813, 'fit_prior': False}. Best is trial 155 with value: 0.821477635679733.\u001b[0m\n",
      "\u001b[32m[I 2022-03-27 14:17:38,258]\u001b[0m Trial 199 finished with value: 0.8202572158519441 and parameters: {'alpha': 0.24297165123405556, 'fit_prior': False}. Best is trial 155 with value: 0.821477635679733.\u001b[0m\n"
     ]
    }
   ],
   "source": [
    "def nb_objective(trial, X_train = X_train, y_train = y_train, X_test = X_test, y_test = y_test):\n",
    "\n",
    "    obj_params = {\n",
    "        'alpha' : trial.suggest_uniform('alpha', 0.2, 2),\n",
    "        'fit_prior' : trial.suggest_categorical('fit_prior', [True, False])\n",
    "    }\n",
    "\n",
    "    nb_obj = MultinomialNB(**obj_params)\n",
    "    nb_obj.fit(X_train, y_train)\n",
    "\n",
    "    y_pred = nb_obj.predict_proba(X_test)\n",
    "\n",
    "    roc = roc_auc_score(y_true = y_test, y_score = y_pred, average = 'macro', multi_class='ovr')\n",
    "    \n",
    "    return roc\n",
    "\n",
    "nb_study = optuna.create_study(direction='maximize')\n",
    "nb_study.optimize(nb_objective, n_trials = 200, n_jobs = -1)"
   ]
  },
  {
   "cell_type": "code",
   "execution_count": 100,
   "metadata": {},
   "outputs": [],
   "source": [
    "nb_tuned_params = nb_study.best_params.copy()"
   ]
  },
  {
   "cell_type": "code",
   "execution_count": 101,
   "metadata": {},
   "outputs": [],
   "source": [
    "nb_tuned = MultinomialNB(**nb_tuned_params).fit(**train_data)"
   ]
  },
  {
   "cell_type": "markdown",
   "metadata": {},
   "source": [
    "#### Evaluate Model on test data"
   ]
  },
  {
   "cell_type": "code",
   "execution_count": 102,
   "metadata": {},
   "outputs": [
    {
     "name": "stdout",
     "output_type": "stream",
     "text": [
      "--- MACRO Metrics ---\n",
      "ROC AUC Score:\t 0.821477635679733\n",
      "Accuracy:\t 0.7030927835051546\n",
      "Precision:\t 0.6486611931816167\n",
      "Recall:\t\t 0.6251921479194206\n",
      "F1 score:\t 0.635494023537274\n",
      "\n",
      "--- Classification Report ---\n",
      "              precision    recall  f1-score   support\n",
      "\n",
      "           0       0.58      0.49      0.53       121\n",
      "           1       0.77      0.81      0.79       576\n",
      "           2       0.60      0.58      0.59       273\n",
      "\n",
      "    accuracy                           0.70       970\n",
      "   macro avg       0.65      0.63      0.64       970\n",
      "weighted avg       0.70      0.70      0.70       970\n",
      "\n"
     ]
    }
   ],
   "source": [
    "evaluate_model(nb_tuned, **test_data)"
   ]
  },
  {
   "cell_type": "markdown",
   "metadata": {},
   "source": [
    "#### Overall Evaluation"
   ]
  },
  {
   "cell_type": "code",
   "execution_count": 117,
   "metadata": {},
   "outputs": [
    {
     "data": {
      "text/html": [
       "<div>\n",
       "<style scoped>\n",
       "    .dataframe tbody tr th:only-of-type {\n",
       "        vertical-align: middle;\n",
       "    }\n",
       "\n",
       "    .dataframe tbody tr th {\n",
       "        vertical-align: top;\n",
       "    }\n",
       "\n",
       "    .dataframe thead th {\n",
       "        text-align: right;\n",
       "    }\n",
       "</style>\n",
       "<table border=\"1\" class=\"dataframe\">\n",
       "  <thead>\n",
       "    <tr style=\"text-align: right;\">\n",
       "      <th></th>\n",
       "      <th>roc</th>\n",
       "      <th>accuracy</th>\n",
       "      <th>precision</th>\n",
       "      <th>recall</th>\n",
       "    </tr>\n",
       "  </thead>\n",
       "  <tbody>\n",
       "    <tr>\n",
       "      <th>train</th>\n",
       "      <td>0.998450</td>\n",
       "      <td>0.976608</td>\n",
       "      <td>0.957051</td>\n",
       "      <td>0.978050</td>\n",
       "    </tr>\n",
       "    <tr>\n",
       "      <th>test</th>\n",
       "      <td>0.821478</td>\n",
       "      <td>0.703093</td>\n",
       "      <td>0.648661</td>\n",
       "      <td>0.625192</td>\n",
       "    </tr>\n",
       "    <tr>\n",
       "      <th>val</th>\n",
       "      <td>0.849605</td>\n",
       "      <td>0.724458</td>\n",
       "      <td>0.673295</td>\n",
       "      <td>0.615779</td>\n",
       "    </tr>\n",
       "  </tbody>\n",
       "</table>\n",
       "</div>"
      ],
      "text/plain": [
       "            roc  accuracy  precision    recall\n",
       "train  0.998450  0.976608   0.957051  0.978050\n",
       "test   0.821478  0.703093   0.648661  0.625192\n",
       "val    0.849605  0.724458   0.673295  0.615779"
      ]
     },
     "execution_count": 117,
     "metadata": {},
     "output_type": "execute_result"
    }
   ],
   "source": [
    "model_metrics = {\n",
    "    'train' :get_model_metrics(nb_tuned, **train_data),\n",
    "    'test' : get_model_metrics(nb_tuned, **test_data),\n",
    "    'val' : get_model_metrics(nb_tuned, **val_data)\n",
    "}\n",
    "\n",
    "pd.DataFrame(model_metrics).T"
   ]
  },
  {
   "cell_type": "markdown",
   "metadata": {},
   "source": [
    "This suggests the model is heavily over fit."
   ]
  },
  {
   "cell_type": "markdown",
   "metadata": {},
   "source": [
    "### Model Tuning - Random Forest"
   ]
  },
  {
   "cell_type": "code",
   "execution_count": 22,
   "metadata": {},
   "outputs": [],
   "source": [
    "# rf_base_params = {\n",
    "#     'verbose' : 0,\n",
    "#     'random_state' : p.RANDOM_STATE,\n",
    "#     }\n",
    "\n",
    "# def rf_objective(trial, X_train = X_train, y_train = y_train, X_test = X_test, y_test = y_test, base_params = rf_base_params):\n",
    "\n",
    "#     obj_params = {\n",
    "#         'max_depth' : trial.suggest_int('max_depth', 2, 20),\n",
    "#         'max_features' : trial.suggest_categorical('max_features', ['auto', 'sqrt']),\n",
    "#         'n_estimators' : trial.suggest_int('n_estimators', 50, 1000),\n",
    "#         'bootstrap' : trial.suggest_categorical('bootstrap', [True, False]),\n",
    "#         'min_samples_leaf' : trial.suggest_float('min_samples_leaf', 0, 0.5),\n",
    "#         'min_samples_split' : trial.suggest_float('min_samples_split', 0, 0.5),\n",
    "\n",
    "#         **base_params\n",
    "#     }\n",
    "\n",
    "#     rf_obj = RandomForestClassifier(**obj_params)\n",
    "#     rf_obj.fit(X_train, y_train)\n",
    "\n",
    "#     y_pred = rf_obj.predict_proba(X_test)\n",
    "\n",
    "#     roc = roc_auc_score(y_true = y_test, y_score = y_pred, average = 'macro', multi_class='ovr')\n",
    "    \n",
    "#     return roc\n",
    "\n",
    "# rf_study = optuna.create_study(direction='minimize')\n",
    "# rf_study.optimize(rf_objective, n_trials = 200, n_jobs = -1)"
   ]
  },
  {
   "cell_type": "code",
   "execution_count": 23,
   "metadata": {},
   "outputs": [],
   "source": [
    "# rf_tuned_params = {**rf_study.best_params, **rf_base_params}\n",
    "# rf_tuned_params"
   ]
  },
  {
   "cell_type": "code",
   "execution_count": 24,
   "metadata": {},
   "outputs": [],
   "source": [
    "# rf_tuned = RandomForestClassifier(**rf_tuned).fit(**train_data)"
   ]
  },
  {
   "cell_type": "markdown",
   "metadata": {},
   "source": [
    "#### Evaluate Model on test data"
   ]
  },
  {
   "cell_type": "code",
   "execution_count": null,
   "metadata": {},
   "outputs": [],
   "source": [
    "# evaluate_model(rf_tuned, **test_data)"
   ]
  },
  {
   "cell_type": "markdown",
   "metadata": {},
   "source": [
    "#### Overall Evaluation"
   ]
  },
  {
   "cell_type": "code",
   "execution_count": null,
   "metadata": {},
   "outputs": [],
   "source": [
    "# model_metrics = {\n",
    "#     'train' :get_model_metrics(rf_tuned, **train_data),\n",
    "#     'test' : get_model_metrics(rf_tuned, **test_data),\n",
    "#     'val' : get_model_metrics(rf_tuned, **val_data)\n",
    "# }\n",
    "\n",
    "# pd.DataFrame(model_metrics).T"
   ]
  },
  {
   "cell_type": "markdown",
   "metadata": {},
   "source": [
    "### Confusion Matrix"
   ]
  },
  {
   "cell_type": "code",
   "execution_count": 30,
   "metadata": {},
   "outputs": [
    {
     "data": {
      "image/png": "[encoded data removed]",
      "text/plain": [
       "<Figure size 576x576 with 2 Axes>"
      ]
     },
     "metadata": {
      "needs_background": "light"
     },
     "output_type": "display_data"
    }
   ],
   "source": [
    "def create_confusion_matrix(model, model_name):\n",
    "    fig, ax = plt.subplots(1, 1, figsize = (8,8))\n",
    "    plot_confusion_matrix(model, X_test, y_test, cmap = 'Blues', ax = ax)\n",
    "    plt.title(f'Confusion Matrix for {model_name} Model')\n",
    "    plt.show()\n",
    "\n",
    "create_confusion_matrix(nb_tuned, 'Naive Bayes')"
   ]
  }
 ],
 "metadata": {
  "interpreter": {
   "hash": "1c31da5edd4aad8fb53d12d73a780cc43060c0f39f08ff1fc327c1bcdbfa7e83"
  },
  "kernelspec": {
   "display_name": "Python 3.9.10 ('data_analytics')",
   "language": "python",
   "name": "python3"
  },
  "language_info": {
   "codemirror_mode": {
    "name": "ipython",
    "version": 3
   },
   "file_extension": ".py",
   "mimetype": "text/x-python",
   "name": "python",
   "nbconvert_exporter": "python",
   "pygments_lexer": "ipython3",
   "version": "3.9.10"
  },
  "orig_nbformat": 4
 },
 "nbformat": 4,
 "nbformat_minor": 2
}
