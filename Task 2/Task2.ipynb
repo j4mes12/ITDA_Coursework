{
 "cells": [
  {
   "cell_type": "markdown",
   "id": "7a2ee115-d861-43eb-8006-f4728256c5c4",
   "metadata": {},
   "source": [
    "# SEC Filings"
   ]
  },
  {
   "cell_type": "markdown",
   "id": "7d151a51-ff84-4583-b58b-87d9bbac18f9",
   "metadata": {},
   "source": [
    "The data is provided in zipped text files. Unzip the file and place the 'SEC-filings' directory into the './data' directory. \n",
    "\n",
    "A related dataset in similar format is the conll2003 dataset, available from [HuggingFace](https://huggingface.co/datasets/conll2003). This could be used as a source of additional training data, but note it contains a different kind of text (different 'domain'). "
   ]
  },
  {
   "cell_type": "code",
   "execution_count": 1,
   "metadata": {},
   "outputs": [
    {
     "name": "stderr",
     "output_type": "stream",
     "text": [
      "/opt/anaconda3/envs/data_analytics/lib/python3.9/site-packages/xgboost/compat.py:36: FutureWarning: pandas.Int64Index is deprecated and will be removed from pandas in a future version. Use pandas.Index with the appropriate dtype instead.\n",
      "  from pandas import MultiIndex, Int64Index\n"
     ]
    }
   ],
   "source": [
    "%load_ext autoreload\n",
    "%autoreload 2\n",
    "\n",
    "# Data Extraction\n",
    "import sys\n",
    "sys.path.append('..')\n",
    "\n",
    "import data_loader\n",
    "import warnings\n",
    "import functions as f\n",
    "import params as p\n",
    "import eli5\n",
    "import seaborn as sns\n",
    "from string import punctuation\n",
    "\n",
    "# Other\n",
    "import matplotlib.pyplot as plt\n",
    "import nltk\n",
    "from sklearn.exceptions import UndefinedMetricWarning\n",
    "from sklearn_crfsuite import CRF\n",
    "from sklearn_crfsuite.metrics import flat_classification_report, flat_f1_score\n",
    "from sklearn.metrics import make_scorer, confusion_matrix, ConfusionMatrixDisplay\n",
    "from sklearn.model_selection import RandomizedSearchCV\n",
    "from collections import Counter\n",
    "\n",
    "import optuna"
   ]
  },
  {
   "cell_type": "markdown",
   "metadata": {},
   "source": [
    "## Settings"
   ]
  },
  {
   "cell_type": "code",
   "execution_count": 2,
   "metadata": {},
   "outputs": [
    {
     "name": "stderr",
     "output_type": "stream",
     "text": [
      "[nltk_data] Downloading package stopwords to\n",
      "[nltk_data]     /Users/jamesstephenson/nltk_data...\n",
      "[nltk_data]   Package stopwords is already up-to-date!\n"
     ]
    },
    {
     "data": {
      "text/plain": [
       "True"
      ]
     },
     "execution_count": 2,
     "metadata": {},
     "output_type": "execute_result"
    }
   ],
   "source": [
    "warnings.simplefilter(action='ignore', category=FutureWarning)\n",
    "warnings.simplefilter(action = 'ignore', category = UndefinedMetricWarning)\n",
    "\n",
    "nltk.download('stopwords')"
   ]
  },
  {
   "cell_type": "markdown",
   "metadata": {},
   "source": [
    "## Import Data"
   ]
  },
  {
   "cell_type": "code",
   "execution_count": 3,
   "metadata": {},
   "outputs": [
    {
     "name": "stdout",
     "output_type": "stream",
     "text": [
      "Loading the original training set: \n",
      "Number of sentences loaded = 1152\n",
      "Number of unique labels: ['I-LOC' 'I-MISC' 'I-ORG' 'I-PER' 'O']\n",
      "\n",
      "Loading the test set: \n",
      "Number of sentences loaded = 303\n",
      "Number of unique labels: ['I-LOC' 'I-MISC' 'I-ORG' 'I-PER' 'O']\n"
     ]
    }
   ],
   "source": [
    "(\n",
    "    train_sentences_ner, train_labels_ner, test_sentences_ner, test_labels_ner, val_sentences_ner, val_labels_ner,\n",
    "    ) = data_loader.import_task2_data()"
   ]
  },
  {
   "cell_type": "markdown",
   "metadata": {},
   "source": [
    "# Task 2 Answer"
   ]
  },
  {
   "cell_type": "markdown",
   "metadata": {},
   "source": [
    "### Clean and Process Data"
   ]
  },
  {
   "cell_type": "code",
   "execution_count": 4,
   "metadata": {},
   "outputs": [],
   "source": [
    "def crf_word_preprocessing(word, ref):\n",
    "\n",
    "    word_features = {\n",
    "        'bias' : 1,\n",
    "        f'word{ref}_lower' : word.lower(),\n",
    "        f'word{ref}_end3' : word[-3:],\n",
    "        f'word{ref}_end2' : word[-2:],\n",
    "        f'word{ref}_beg' : word[:3],\n",
    "        f'word{ref}_isupper' : word.isupper(),\n",
    "        f'word{ref}_istitle' : word.istitle(),\n",
    "        f'word{ref}_isdigit' : word.isdigit(),\n",
    "        f'word{ref}_ispunctuation' : word in punctuation,\n",
    "        f'word{ref}_isstopword' : word in nltk.corpus.stopwords.words('english'),\n",
    "        f'word{ref}_postag' : nltk.pos_tag([word])[0][1],\n",
    "        }\n",
    "\n",
    "    return word_features"
   ]
  },
  {
   "cell_type": "code",
   "execution_count": 5,
   "metadata": {},
   "outputs": [],
   "source": [
    "def crf_sentence_preprocessing(sentence):\n",
    "\n",
    "    sentence_features = []\n",
    "\n",
    "    for idx in range(len(sentence)):\n",
    "\n",
    "        word = sentence[idx]\n",
    "\n",
    "        word_features = crf_word_preprocessing(word, 0)\n",
    "\n",
    "        if idx > 0:\n",
    "            word_features = {\n",
    "                **word_features,\n",
    "                **crf_word_preprocessing(sentence[idx - 1], -1)\n",
    "                }\n",
    "        else:\n",
    "            word_features['BOS'] = True\n",
    "\n",
    "        if idx < len(sentence) - 1:\n",
    "            word_features = {\n",
    "                **word_features,\n",
    "                **crf_word_preprocessing(sentence[idx + 1], +1)\n",
    "            }\n",
    "        else:\n",
    "            word_features['EOS'] = True\n",
    "\n",
    "        sentence_features.append(word_features)\n",
    "\n",
    "    return sentence_features"
   ]
  },
  {
   "cell_type": "code",
   "execution_count": 6,
   "metadata": {},
   "outputs": [],
   "source": [
    "def crf_data_preprocessing(data):\n",
    "    opt = [crf_sentence_preprocessing(sentence) for sentence in data]\n",
    "    print('data:', len(data), 'out:', len(opt))\n",
    "    return opt"
   ]
  },
  {
   "cell_type": "markdown",
   "metadata": {},
   "source": [
    "### Preprocess Data"
   ]
  },
  {
   "cell_type": "code",
   "execution_count": 7,
   "metadata": {},
   "outputs": [
    {
     "name": "stdout",
     "output_type": "stream",
     "text": [
      "data: 864 out: 864\n",
      "data: 303 out: 303\n",
      "data: 288 out: 288\n"
     ]
    }
   ],
   "source": [
    "X_train = crf_data_preprocessing(train_sentences_ner)\n",
    "X_test = crf_data_preprocessing(test_sentences_ner)\n",
    "X_val = crf_data_preprocessing(val_sentences_ner)"
   ]
  },
  {
   "cell_type": "markdown",
   "metadata": {},
   "source": [
    "### NER Modelling"
   ]
  },
  {
   "cell_type": "code",
   "execution_count": 11,
   "metadata": {},
   "outputs": [
    {
     "data": {
      "text/plain": [
       "CRF(keep_tempfiles=None)"
      ]
     },
     "execution_count": 11,
     "metadata": {},
     "output_type": "execute_result"
    }
   ],
   "source": [
    "base_crf = CRF()\n",
    "base_crf.fit(\n",
    "    X = X_train,\n",
    "    y = train_labels_ner,\n",
    ")"
   ]
  },
  {
   "cell_type": "code",
   "execution_count": 16,
   "metadata": {},
   "outputs": [
    {
     "data": {
      "text/plain": [
       "Train         0.976994\n",
       "Validation    0.802105\n",
       "Name: F1 Score, dtype: float64"
      ]
     },
     "execution_count": 16,
     "metadata": {},
     "output_type": "execute_result"
    }
   ],
   "source": [
    "f.evaluate_model(\n",
    "    base_crf,\n",
    "    X_train = X_train,\n",
    "    X_val = X_val,\n",
    "    y_train = train_labels_ner,\n",
    "    y_val = val_labels_ner,)"
   ]
  },
  {
   "cell_type": "markdown",
   "metadata": {},
   "source": [
    "### Basic Tuning"
   ]
  },
  {
   "cell_type": "code",
   "execution_count": 20,
   "metadata": {},
   "outputs": [
    {
     "name": "stdout",
     "output_type": "stream",
     "text": [
      "c2: 0.1; train/test f1: [0.9025036  0.83709574]\n",
      "c2: 0.01; train/test f1: [0.91062764 0.85469132]\n",
      "c2: 0.001; train/test f1: [0.9169519  0.85265549]\n",
      "c2: 0.0001; train/test f1: [0.9169519  0.85265549]\n"
     ]
    }
   ],
   "source": [
    "c2_params = [0.1, 0.01, 0.001, 0.0001]\n",
    "\n",
    "for c2 in c2_params:\n",
    "\n",
    "    tuning_crf = CRF(\n",
    "        c1 = 1,\n",
    "        c2 = c2\n",
    "        ).fit(X_train, train_labels_ner)\n",
    "\n",
    "    evaluate = f.evaluate_model(\n",
    "        tuning_crf,\n",
    "        X_train = X_train,\n",
    "        X_val = X_val,\n",
    "        y_train = train_labels_ner,\n",
    "        y_val = val_labels_ner,)\n",
    "\n",
    "    print(f'c2: {c2}; train/test f1: {evaluate.loc[:, \"F1 Score\"].values}')"
   ]
  },
  {
   "cell_type": "code",
   "execution_count": 21,
   "metadata": {},
   "outputs": [
    {
     "data": {
      "text/plain": [
       "CRF(c1=1, c2=0.01, keep_tempfiles=None)"
      ]
     },
     "execution_count": 21,
     "metadata": {},
     "output_type": "execute_result"
    }
   ],
   "source": [
    "tuned_crf = CRF(\n",
    "    c1 = 1,\n",
    "    c2 = 0.01\n",
    ")\n",
    "\n",
    "tuned_crf.fit(X_train, train_labels_ner)"
   ]
  },
  {
   "cell_type": "markdown",
   "metadata": {},
   "source": [
    "### Evaluate Final Model"
   ]
  },
  {
   "cell_type": "code",
   "execution_count": 22,
   "metadata": {},
   "outputs": [
    {
     "data": {
      "text/html": [
       "<div>\n",
       "<style scoped>\n",
       "    .dataframe tbody tr th:only-of-type {\n",
       "        vertical-align: middle;\n",
       "    }\n",
       "\n",
       "    .dataframe tbody tr th {\n",
       "        vertical-align: top;\n",
       "    }\n",
       "\n",
       "    .dataframe thead th {\n",
       "        text-align: right;\n",
       "    }\n",
       "</style>\n",
       "<table border=\"1\" class=\"dataframe\">\n",
       "  <thead>\n",
       "    <tr style=\"text-align: right;\">\n",
       "      <th></th>\n",
       "      <th>F1 Score</th>\n",
       "      <th>Accuracy</th>\n",
       "      <th>Precision</th>\n",
       "      <th>Recall</th>\n",
       "    </tr>\n",
       "  </thead>\n",
       "  <tbody>\n",
       "    <tr>\n",
       "      <th>Train</th>\n",
       "      <td>0.910628</td>\n",
       "      <td>0.994595</td>\n",
       "      <td>0.980444</td>\n",
       "      <td>0.857904</td>\n",
       "    </tr>\n",
       "    <tr>\n",
       "      <th>Validation</th>\n",
       "      <td>0.854691</td>\n",
       "      <td>0.989931</td>\n",
       "      <td>0.951616</td>\n",
       "      <td>0.779703</td>\n",
       "    </tr>\n",
       "    <tr>\n",
       "      <th>Test</th>\n",
       "      <td>0.695791</td>\n",
       "      <td>0.985356</td>\n",
       "      <td>0.857593</td>\n",
       "      <td>0.610092</td>\n",
       "    </tr>\n",
       "  </tbody>\n",
       "</table>\n",
       "</div>"
      ],
      "text/plain": [
       "            F1 Score  Accuracy  Precision    Recall\n",
       "Train       0.910628  0.994595   0.980444  0.857904\n",
       "Validation  0.854691  0.989931   0.951616  0.779703\n",
       "Test        0.695791  0.985356   0.857593  0.610092"
      ]
     },
     "execution_count": 22,
     "metadata": {},
     "output_type": "execute_result"
    }
   ],
   "source": [
    "eval_results = f.evaluate_model(\n",
    "    tuned_crf,\n",
    "    X_train = X_train,\n",
    "    X_val = X_val,\n",
    "    y_train = train_labels_ner,\n",
    "    y_val = val_labels_ner,\n",
    "    X_test = X_test,\n",
    "    y_test = test_labels_ner)\n",
    "\n",
    "eval_results"
   ]
  },
  {
   "cell_type": "code",
   "execution_count": 23,
   "metadata": {},
   "outputs": [
    {
     "data": {
      "image/png": "[encoded data removed]",
      "text/plain": [
       "<Figure size 1080x576 with 1 Axes>"
      ]
     },
     "metadata": {
      "needs_background": "light"
     },
     "output_type": "display_data"
    }
   ],
   "source": [
    "melt_data = eval_results.reset_index().melt(id_vars = 'index')\n",
    "\n",
    "fig, ax = plt.subplots(1,1,figsize=(15, 8))\n",
    "\n",
    "sns.barplot(\n",
    "    ax = ax,\n",
    "    data = melt_data,\n",
    "    x = 'variable',\n",
    "    y = 'value',\n",
    "    hue = 'index'\n",
    ").set(label = 'Datasets')\n",
    "\n",
    "plt.legend(loc = 'upper right')\n",
    "plt.xlabel('Performance Metric')\n",
    "plt.ylabel('Value')\n",
    "plt.ylim(0.6, 1)\n",
    "plt.title('Figure 1: Performance Metrics for each Dataset', fontsize = 16)\n",
    "plt.savefig('./final_metrics.png')\n",
    "plt.show()"
   ]
  },
  {
   "cell_type": "markdown",
   "metadata": {},
   "source": [
    "### Displaying Results"
   ]
  },
  {
   "cell_type": "code",
   "execution_count": 151,
   "metadata": {},
   "outputs": [
    {
     "data": {
      "image/png": "[encoded data removed]",
      "text/plain": [
       "<Figure size 576x576 with 2 Axes>"
      ]
     },
     "metadata": {
      "needs_background": "light"
     },
     "output_type": "display_data"
    }
   ],
   "source": [
    "def create_confusion_matrix(model, X, y):\n",
    "\n",
    "    y_pred = model.predict(X)\n",
    "    ner_labels = model.classes_\n",
    "\n",
    "    fig, ax = plt.subplots(1, 1, figsize = (8, 8))\n",
    "\n",
    "    true = [label for sent_list in y for label in sent_list]\n",
    "    pred = [label for sent_list in y_pred for label in sent_list]\n",
    "\n",
    "    cm = confusion_matrix(true, pred, ner_labels)\n",
    "\n",
    "    disp = ConfusionMatrixDisplay(confusion_matrix=cm, display_labels=ner_labels)\n",
    "    disp.plot(cmap = 'Greys', ax = ax)\n",
    "\n",
    "    plt.title('Figure 2: Tuned CRF Tagger\\nConfusion Matrix', fontdict={'fontsize' : 18})\n",
    "\n",
    "    plt.savefig('./crf_confusion_matrix.png')\n",
    "\n",
    "    plt.show()\n",
    "\n",
    "create_confusion_matrix(\n",
    "    model = tuned_crf,\n",
    "    X = X_test,\n",
    "    y = test_labels_ner\n",
    ")"
   ]
  },
  {
   "cell_type": "code",
   "execution_count": 25,
   "metadata": {},
   "outputs": [
    {
     "name": "stdout",
     "output_type": "stream",
     "text": [
      "              precision    recall  f1-score   support\n",
      "\n",
      "       I-ORG       0.69      0.25      0.37       114\n",
      "       I-PER       1.00      0.84      0.91       236\n",
      "       I-LOC       0.66      0.47      0.55        79\n",
      "      I-MISC       1.00      0.14      0.25         7\n",
      "\n",
      "   micro avg       0.89      0.61      0.72       436\n",
      "   macro avg       0.84      0.43      0.52       436\n",
      "weighted avg       0.86      0.61      0.70       436\n",
      "\n"
     ]
    }
   ],
   "source": [
    "print(flat_classification_report(\n",
    "    y_true=test_labels_ner,\n",
    "    y_pred=tuned_crf.predict(X_test),\n",
    "    labels = ['I-ORG', 'I-PER', 'I-LOC', 'I-MISC']\n",
    "))"
   ]
  },
  {
   "cell_type": "markdown",
   "metadata": {},
   "source": [
    "### Eli5"
   ]
  },
  {
   "cell_type": "code",
   "execution_count": 26,
   "metadata": {},
   "outputs": [
    {
     "data": {
      "image/png": "[encoded data removed]",
      "text/plain": [
       "<Figure size 720x576 with 1 Axes>"
      ]
     },
     "metadata": {
      "needs_background": "light"
     },
     "output_type": "display_data"
    }
   ],
   "source": [
    "test = eli5.formatters.explain_weights_dfs(tuned_crf)['targets']\n",
    "test['weight_sort'] = abs(test['weight'])\n",
    "test = test.nlargest(10, columns = 'weight_sort')\n",
    "\n",
    "fig, ax = plt.subplots(1,1, figsize = (10, 8))\n",
    "\n",
    "sns.barplot(\n",
    "    ax = ax,\n",
    "    data = test,\n",
    "    y = 'feature',\n",
    "    x = 'weight',\n",
    "    hue = 'target',\n",
    "    dodge=False\n",
    ")\n",
    "plt.legend(loc = 'lower right')\n",
    "plt.title('Figure 3: Feature Importance plot of CRF Tagger (10 Largest Impacts)')\n",
    "plt.ylabel('Feature')\n",
    "plt.xlabel('Weight')\n",
    "plt.show()"
   ]
  },
  {
   "cell_type": "markdown",
   "metadata": {},
   "source": [
    "## Financial Phrasebank"
   ]
  },
  {
   "cell_type": "code",
   "execution_count": 32,
   "metadata": {},
   "outputs": [
    {
     "name": "stderr",
     "output_type": "stream",
     "text": [
      "Reusing dataset financial_phrasebank (/Users/jamesstephenson/.cache/huggingface/datasets/financial_phrasebank/sentences_50agree/1.0.0/a6d468761d4e0c8ae215c77367e1092bead39deb08fbf4bffd7c0a6991febbf0)\n",
      "100%|██████████| 1/1 [00:00<00:00, 29.00it/s]"
     ]
    },
    {
     "name": "stdout",
     "output_type": "stream",
     "text": [
      "The dataset is a dictionary with two splits: \n",
      "\n",
      "DatasetDict({\n",
      "    train: Dataset({\n",
      "        features: ['sentence', 'label'],\n",
      "        num_rows: 4846\n",
      "    })\n",
      "})\n",
      "How many instances in the train dataset? \n",
      "\n",
      "3876\n",
      "\n",
      "What does one instance look like? \n",
      "\n",
      "The Lemminkainen Group , headquartered in Helsinki , Finland , operates in all sectors of the construction industry : civil engineering , building contracting , technical building services and the building materials industry .\n",
      "instances in the validation dataset \n",
      "\n",
      "969\n",
      "\n",
      "instances in the test dataset \n",
      "\n",
      "970\n"
     ]
    },
    {
     "name": "stderr",
     "output_type": "stream",
     "text": [
      "\n"
     ]
    }
   ],
   "source": [
    "(train_sentences_fp, test_sentences_fp, val_sentences_fp, train_labels_fp, test_labels_fp, val_labels_fp,\n",
    "    ) = data_loader.import_task1_data()\n",
    "\n",
    "sentences_fp = train_sentences_fp + test_sentences_fp + val_sentences_fp\n",
    "labels_fp = train_labels_fp + test_labels_fp + val_labels_fp"
   ]
  },
  {
   "cell_type": "markdown",
   "metadata": {},
   "source": [
    "### Process Data"
   ]
  },
  {
   "cell_type": "code",
   "execution_count": 33,
   "metadata": {},
   "outputs": [],
   "source": [
    "def vectorise_data(lst):\n",
    "\n",
    "    return [nltk.word_tokenize(sentence) for sentence in lst]"
   ]
  },
  {
   "cell_type": "code",
   "execution_count": 34,
   "metadata": {},
   "outputs": [],
   "source": [
    "sentences_fp = vectorise_data(sentences_fp)"
   ]
  },
  {
   "cell_type": "code",
   "execution_count": 35,
   "metadata": {},
   "outputs": [],
   "source": [
    "labels_sent_scores = list(map(lambda x: {0: -1, 1: 0, 2: 1}[x], labels_fp))"
   ]
  },
  {
   "cell_type": "code",
   "execution_count": 36,
   "metadata": {},
   "outputs": [
    {
     "name": "stdout",
     "output_type": "stream",
     "text": [
      "data: 4846 out: 4846\n"
     ]
    }
   ],
   "source": [
    "sentences_fp_pp = crf_data_preprocessing(sentences_fp)"
   ]
  },
  {
   "cell_type": "code",
   "execution_count": 37,
   "metadata": {},
   "outputs": [],
   "source": [
    "fp_preds = tuned_crf.predict(sentences_fp_pp)"
   ]
  },
  {
   "cell_type": "code",
   "execution_count": 145,
   "metadata": {},
   "outputs": [],
   "source": [
    "fp_preds_and_scores = []\n",
    "\n",
    "for sentence, labels, sentiment in zip(sentences_fp, fp_preds, labels_sent_scores):\n",
    "\n",
    "    sentence_info = []\n",
    "\n",
    "    for word, label in zip(sentence, labels):\n",
    "\n",
    "        if sentence_info == []:\n",
    "\n",
    "            sentence_info.append([word, label, sentiment])\n",
    "\n",
    "        elif sentence_info[-1][1] == label:\n",
    "\n",
    "            sentence_info[-1][0] += ' ' + word\n",
    "\n",
    "        else:\n",
    "            \n",
    "            sentence_info.append([word, label, sentiment])\n",
    "\n",
    "    if len(sentence_info) > 2:\n",
    "        fp_preds_and_scores.append(sentence_info)\n",
    "\n",
    "for sentence in fp_preds_and_scores:\n",
    "\n",
    "    for breaks in sentence:\n",
    "\n",
    "        if breaks[1] == 'O':\n",
    "\n",
    "            sentence.remove(breaks)"
   ]
  },
  {
   "cell_type": "code",
   "execution_count": 146,
   "metadata": {},
   "outputs": [],
   "source": [
    "scores = {}\n",
    "for entry in fp_preds_and_scores:\n",
    "\n",
    "    word, lab, sent = entry[0][0], entry[0][1], entry[0][2]\n",
    "\n",
    "    if lab == 'I-ORG':\n",
    "        if word in scores.keys():\n",
    "            scores[word] += sent\n",
    "        else:\n",
    "            scores[word] = sent"
   ]
  },
  {
   "cell_type": "code",
   "execution_count": 149,
   "metadata": {},
   "outputs": [
    {
     "name": "stdout",
     "output_type": "stream",
     "text": [
      "Bank 5\n",
      "Suominen Corporation 4\n",
      "Nokia Siemens Networks 2\n",
      "Incap Corporation of Finland 1\n",
      "KONE Corporation 1\n",
      "Raute Corporation -1\n",
      "Marimekko Corporation -1\n",
      "Rapala VMC Corporation STOCK EXCHANGE RELEASE October -1\n",
      "Burrill Life Sciences Capital Fund -1\n",
      "bank -1\n"
     ]
    }
   ],
   "source": [
    "for k in sorted(scores, key = scores.get, reverse=True)[:5]:\n",
    "\n",
    "    print(k, scores[k])\n",
    "\n",
    "for k in sorted(scores, key = scores.get, reverse=False)[:5]:\n",
    "\n",
    "    print(k, scores[k])"
   ]
  }
 ],
 "metadata": {
  "interpreter": {
   "hash": "1c31da5edd4aad8fb53d12d73a780cc43060c0f39f08ff1fc327c1bcdbfa7e83"
  },
  "kernelspec": {
   "display_name": "Python 3.9.10 ('data_analytics')",
   "language": "python",
   "name": "python3"
  },
  "language_info": {
   "codemirror_mode": {
    "name": "ipython",
    "version": 3
   },
   "file_extension": ".py",
   "mimetype": "text/x-python",
   "name": "python",
   "nbconvert_exporter": "python",
   "pygments_lexer": "ipython3",
   "version": "3.9.10"
  },
  "orig_nbformat": 4
 },
 "nbformat": 4,
 "nbformat_minor": 2
}
