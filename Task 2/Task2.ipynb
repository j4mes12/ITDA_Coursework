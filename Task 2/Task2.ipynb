{
 "cells": [
  {
   "cell_type": "markdown",
   "id": "7a2ee115-d861-43eb-8006-f4728256c5c4",
   "metadata": {},
   "source": [
    "# SEC Filings"
   ]
  },
  {
   "cell_type": "markdown",
   "id": "7d151a51-ff84-4583-b58b-87d9bbac18f9",
   "metadata": {},
   "source": [
    "The data is provided in zipped text files. Unzip the file and place the 'SEC-filings' directory into the './data' directory. \n",
    "\n",
    "A related dataset in similar format is the conll2003 dataset, available from [HuggingFace](https://huggingface.co/datasets/conll2003). This could be used as a source of additional training data, but note it contains a different kind of text (different 'domain'). "
   ]
  },
  {
   "cell_type": "code",
   "execution_count": 1,
   "metadata": {},
   "outputs": [],
   "source": [
    "# Data Extraction\n",
    "import re\n",
    "import numpy as np\n",
    "import warnings\n",
    "import params as p\n",
    "\n",
    "from sklearn.model_selection import train_test_split\n",
    "\n",
    "# Other\n",
    "import matplotlib.pyplot as plt\n",
    "import nltk\n",
    "from sklearn_crfsuite import CRF\n",
    "from sklearn_crfsuite.metrics import flat_classification_report, flat_f1_score\n",
    "from sklearn.metrics import make_scorer, confusion_matrix, ConfusionMatrixDisplay\n",
    "from sklearn.model_selection import RandomizedSearchCV\n",
    "from collections import Counter\n",
    "\n",
    "import optuna"
   ]
  },
  {
   "cell_type": "markdown",
   "metadata": {},
   "source": [
    "## Settings"
   ]
  },
  {
   "cell_type": "code",
   "execution_count": 2,
   "metadata": {},
   "outputs": [],
   "source": [
    "warnings.simplefilter(action='ignore', category=FutureWarning)"
   ]
  },
  {
   "cell_type": "markdown",
   "metadata": {},
   "source": [
    "## Import Data"
   ]
  },
  {
   "cell_type": "code",
   "execution_count": 3,
   "id": "642cdd01-b294-4f81-be43-b3ee23e8c090",
   "metadata": {},
   "outputs": [],
   "source": [
    "def read_sec_filings(split):\n",
    "    # Use this function to load the SEC filings data from text files\n",
    "    \n",
    "    if split == 'train':\n",
    "        with open('./data/SEC-filings/train/FIN5.txt') as fp:\n",
    "            lines = fp.readlines()\n",
    "    else:\n",
    "        with open('./data/SEC-filings/test/FIN3.txt') as fp:\n",
    "            lines = fp.readlines()\n",
    "   \n",
    "    # store the tokens and labels for all sentences\n",
    "    sentences = []\n",
    "    labels = []\n",
    "\n",
    "    # the tokens and labels for the current sentence\n",
    "    current_sen = []\n",
    "    current_labels = []\n",
    "\n",
    "    for i in range(2, len(lines)):\n",
    "        # print(f'This is line {i}')\n",
    "        # print(lines[i])\n",
    "\n",
    "        if len(lines[i]) > 1:  # Line with some data on: The data consists of tokens and tags.\n",
    "            data = re.split(' ', lines[i])  # tokenise the line\n",
    "            # print(data)\n",
    "            current_sen.append(data[0])  # append the token \n",
    "            \n",
    "            # data[1] contains POS tags -- you can also use these in your model.\n",
    "            \n",
    "            current_labels.append(data[3].strip())  # append the NER tag\n",
    "        elif len(current_sen) > 1:  # this marks the end of a sentence\n",
    "            # end of sentence\n",
    "            sentences.append(current_sen)  # save the tokens for this sentence\n",
    "            current_sen = []  # reset\n",
    "\n",
    "            labels.append(current_labels)  # save the tags for this sentence\n",
    "            current_labels = []\n",
    "\n",
    "    if len(current_sen) > 1:  # save the last sentence\n",
    "        sentences.append(current_sen)\n",
    "        labels.append(current_labels)\n",
    "    \n",
    "    print(f'Number of sentences loaded = {len(sentences)}')\n",
    "    print(f'Number of unique labels: {np.unique(np.concatenate(labels))}')\n",
    "    \n",
    "    return sentences, labels"
   ]
  },
  {
   "cell_type": "code",
   "execution_count": 4,
   "id": "7d887df3-fd4b-448c-8545-01ff6c874665",
   "metadata": {},
   "outputs": [
    {
     "name": "stdout",
     "output_type": "stream",
     "text": [
      "Loading the original training set: \n",
      "Number of sentences loaded = 1152\n",
      "Number of unique labels: ['I-LOC' 'I-MISC' 'I-ORG' 'I-PER' 'O']\n",
      "\n",
      "Loading the test set: \n",
      "Number of sentences loaded = 303\n",
      "Number of unique labels: ['I-LOC' 'I-MISC' 'I-ORG' 'I-PER' 'O']\n"
     ]
    }
   ],
   "source": [
    "print('Loading the original training set: ')\n",
    "sentences_ner, labels_ner = read_sec_filings('train')\n",
    "\n",
    "print('\\nLoading the test set: ')\n",
    "test_sentences_ner, test_labels_ner = read_sec_filings('test')"
   ]
  },
  {
   "cell_type": "markdown",
   "id": "4643a66d-d58b-4f3a-88ab-cb4963e75fe0",
   "metadata": {},
   "source": [
    "As before, we could create a validation split from the training set:"
   ]
  },
  {
   "cell_type": "code",
   "execution_count": 5,
   "id": "9b753112-467c-42e0-8f22-3e733da33c29",
   "metadata": {},
   "outputs": [
    {
     "name": "stdout",
     "output_type": "stream",
     "text": [
      "Number of training sentences = 921\n",
      "Number of validation sentences = 231\n"
     ]
    }
   ],
   "source": [
    "train_sentences_ner, val_sentences_ner, train_labels_ner, val_labels_ner = train_test_split(\n",
    "    sentences_ner, \n",
    "    labels_ner, \n",
    "    test_size=0.2,\n",
    "    random_state=73\n",
    "    # stratify=labels_ner  # there are too few examples of some classes to stratify\n",
    ")\n",
    "\n",
    "print(f'Number of training sentences = {len(train_sentences_ner)}')\n",
    "print(f'Number of validation sentences = {len(val_sentences_ner)}')"
   ]
  },
  {
   "cell_type": "markdown",
   "metadata": {},
   "source": [
    "# Task 2 Answer"
   ]
  },
  {
   "cell_type": "markdown",
   "metadata": {},
   "source": [
    "### Clean Data"
   ]
  },
  {
   "cell_type": "code",
   "execution_count": 6,
   "metadata": {},
   "outputs": [],
   "source": [
    "def crf_word_preprocessing(word, ref):\n",
    "\n",
    "    word_features = {\n",
    "        'bias' : 1.0,\n",
    "        f'word_{ref}_lower' : word.lower(),\n",
    "        f'word_{ref}_end3' : word[-3:],\n",
    "        f'word_{ref}_end2' : word[-2:],\n",
    "        f'word_{ref}_beg' : word[:3],\n",
    "        f'word_{ref}_isupper' : word.isupper(),\n",
    "        f'word_{ref}_istitle' : word.istitle(),\n",
    "        f'word_{ref}_isdigit' : word.isdigit(),\n",
    "        f'word_{ref}_postag' : nltk.pos_tag([word])[0][1]\n",
    "        }\n",
    "\n",
    "    return word_features"
   ]
  },
  {
   "cell_type": "code",
   "execution_count": 7,
   "metadata": {},
   "outputs": [],
   "source": [
    "def crf_sentence_preprocessing(sentence):\n",
    "\n",
    "    sentence_features = []\n",
    "\n",
    "    for idx in range(len(sentence)):\n",
    "\n",
    "        word = sentence[idx]\n",
    "\n",
    "        word_features = crf_word_preprocessing(word, 0)\n",
    "\n",
    "        if idx > 0:\n",
    "            word_features = {\n",
    "                **word_features,\n",
    "                **crf_word_preprocessing(sentence[idx - 1], -1)\n",
    "                }\n",
    "        else:\n",
    "            word_features['BOS'] = True\n",
    "\n",
    "        if idx < len(sentence) - 1:\n",
    "            word_features = {\n",
    "                **word_features,\n",
    "                **crf_word_preprocessing(sentence[idx + 1], +1)\n",
    "            }\n",
    "        else:\n",
    "            word_features['EOS'] = True\n",
    "\n",
    "        sentence_features.append(word_features)\n",
    "\n",
    "    return sentence_features"
   ]
  },
  {
   "cell_type": "code",
   "execution_count": 8,
   "metadata": {},
   "outputs": [],
   "source": [
    "def crf_data_preprocessing(data):\n",
    "    opt = [crf_sentence_preprocessing(sentence) for sentence in data]\n",
    "    print('data:', len(data), 'out:', len(opt))\n",
    "    return opt"
   ]
  },
  {
   "cell_type": "markdown",
   "metadata": {},
   "source": [
    "### Preprocess Train Data"
   ]
  },
  {
   "cell_type": "code",
   "execution_count": 9,
   "metadata": {},
   "outputs": [
    {
     "name": "stdout",
     "output_type": "stream",
     "text": [
      "data: 921 out: 921\n",
      "data: 303 out: 303\n",
      "data: 231 out: 231\n"
     ]
    }
   ],
   "source": [
    "X_train = crf_data_preprocessing(train_sentences_ner)\n",
    "X_test = crf_data_preprocessing(test_sentences_ner)\n",
    "X_val = crf_data_preprocessing(val_sentences_ner)"
   ]
  },
  {
   "cell_type": "markdown",
   "metadata": {},
   "source": [
    "### NER Modelling"
   ]
  },
  {
   "cell_type": "code",
   "execution_count": 10,
   "metadata": {},
   "outputs": [
    {
     "data": {
      "text/plain": [
       "CRF(keep_tempfiles=None)"
      ]
     },
     "execution_count": 10,
     "metadata": {},
     "output_type": "execute_result"
    }
   ],
   "source": [
    "tagger = CRF()\n",
    "tagger.fit(\n",
    "    X = X_train,\n",
    "    y = train_labels_ner,\n",
    ")"
   ]
  },
  {
   "cell_type": "code",
   "execution_count": 11,
   "metadata": {},
   "outputs": [],
   "source": [
    "y_pred = tagger.predict(X_test)"
   ]
  },
  {
   "cell_type": "code",
   "execution_count": 12,
   "metadata": {},
   "outputs": [
    {
     "data": {
      "text/plain": [
       "['I-PER', 'I-ORG', 'I-LOC', 'I-MISC']"
      ]
     },
     "execution_count": 12,
     "metadata": {},
     "output_type": "execute_result"
    }
   ],
   "source": [
    "labels = list(tagger.classes_)\n",
    "labels.remove('O')\n",
    "labels"
   ]
  },
  {
   "cell_type": "code",
   "execution_count": 13,
   "metadata": {},
   "outputs": [
    {
     "name": "stdout",
     "output_type": "stream",
     "text": [
      "F1 Score (train): 0.9743416791115298\n",
      "F1 Score (test): 0.672484905956292\n"
     ]
    }
   ],
   "source": [
    "print('F1 Score (train):', flat_f1_score(train_labels_ner, tagger.predict(X_train), average='weighted', labels=labels))\n",
    "print('F1 Score (test):', flat_f1_score(test_labels_ner, tagger.predict(X_test), average='weighted', labels=labels))"
   ]
  },
  {
   "cell_type": "code",
   "execution_count": 14,
   "metadata": {},
   "outputs": [
    {
     "name": "stdout",
     "output_type": "stream",
     "text": [
      "              precision    recall  f1-score   support\n",
      "\n",
      "       I-LOC     0.8095    0.4304    0.5620        79\n",
      "      I-MISC     0.0000    0.0000    0.0000         7\n",
      "       I-ORG     0.7500    0.2105    0.3288       114\n",
      "       I-PER     0.9657    0.8347    0.8955       236\n",
      "\n",
      "   micro avg     0.9173    0.5849    0.7143       436\n",
      "   macro avg     0.6313    0.3689    0.4466       436\n",
      "weighted avg     0.8655    0.5849    0.6725       436\n",
      "\n"
     ]
    },
    {
     "name": "stderr",
     "output_type": "stream",
     "text": [
      "/opt/anaconda3/envs/data_analytics/lib/python3.9/site-packages/sklearn/metrics/_classification.py:1221: UndefinedMetricWarning: Precision and F-score are ill-defined and being set to 0.0 in labels with no predicted samples. Use `zero_division` parameter to control this behavior.\n",
      "  _warn_prf(average, modifier, msg_start, len(result))\n"
     ]
    }
   ],
   "source": [
    "sorted_labels = sorted(labels, key=lambda name: (name[1:], name[0]))\n",
    "print(flat_classification_report(y_pred= tagger.predict(X_test), y_true = test_labels_ner, labels=sorted_labels, digits=4))"
   ]
  },
  {
   "cell_type": "markdown",
   "metadata": {},
   "source": [
    "### Tuning"
   ]
  },
  {
   "cell_type": "code",
   "execution_count": 15,
   "metadata": {},
   "outputs": [
    {
     "name": "stderr",
     "output_type": "stream",
     "text": [
      "\u001b[32m[I 2022-04-10 19:28:44,149]\u001b[0m A new study created in memory with name: NER_yperParam_CV\u001b[0m\n",
      "/var/folders/2f/cwgmhyzx4fn5cwp5j_dpmsd00000gn/T/ipykernel_73762/756603221.py:16: ExperimentalWarning: OptunaSearchCV is experimental (supported from v0.17.0). The interface can change in the future.\n",
      "  oscv = optuna.integration.OptunaSearchCV(\n",
      "\u001b[32m[I 2022-04-10 19:28:44,162]\u001b[0m Searching the best hyperparameters using 921 samples...\u001b[0m\n",
      "/opt/anaconda3/envs/data_analytics/lib/python3.9/site-packages/sklearn/metrics/_classification.py:1464: UndefinedMetricWarning: F-score is ill-defined and being set to 0.0 in labels with no true nor predicted samples. Use `zero_division` parameter to control this behavior.\n",
      "  _warn_prf(\n",
      "\u001b[32m[I 2022-04-10 19:29:45,594]\u001b[0m Trial 5 finished with value: 0.0 and parameters: {'c1': 1160.0193702418346, 'c2': 0.0005989451796748623}. Best is trial 5 with value: 0.0.\u001b[0m\n",
      "\u001b[32m[I 2022-04-10 19:29:47,072]\u001b[0m Trial 6 finished with value: 0.053681954377600614 and parameters: {'c1': 0.00016665818294447796, 'c2': 480.08728811138883}. Best is trial 6 with value: 0.053681954377600614.\u001b[0m\n",
      "\u001b[32m[I 2022-04-10 19:29:47,418]\u001b[0m Trial 4 finished with value: 0.0 and parameters: {'c1': 1452.2195914424283, 'c2': 2.7533496018302794}. Best is trial 6 with value: 0.053681954377600614.\u001b[0m\n",
      "\u001b[32m[I 2022-04-10 19:29:47,981]\u001b[0m Trial 3 finished with value: 0.0 and parameters: {'c1': 861.5101677123635, 'c2': 148.7808198279675}. Best is trial 6 with value: 0.053681954377600614.\u001b[0m\n",
      "/opt/anaconda3/envs/data_analytics/lib/python3.9/site-packages/sklearn/metrics/_classification.py:1464: UndefinedMetricWarning: F-score is ill-defined and being set to 0.0 in labels with no true nor predicted samples. Use `zero_division` parameter to control this behavior.\n",
      "  _warn_prf(\n",
      "\u001b[32m[I 2022-04-10 19:30:53,668]\u001b[0m Trial 7 finished with value: 0.7009772377043879 and parameters: {'c1': 2.2567245038377655, 'c2': 4.906101762014065}. Best is trial 7 with value: 0.7009772377043879.\u001b[0m\n",
      "\u001b[32m[I 2022-04-10 19:31:05,635]\u001b[0m Trial 9 finished with value: 0.0 and parameters: {'c1': 7441.057105236377, 'c2': 0.0039057081849323163}. Best is trial 7 with value: 0.7009772377043879.\u001b[0m\n",
      "\u001b[32m[I 2022-04-10 19:31:06,198]\u001b[0m Trial 11 finished with value: 0.0 and parameters: {'c1': 3436.6247402652016, 'c2': 27.15376713803226}. Best is trial 7 with value: 0.7009772377043879.\u001b[0m\n",
      "\u001b[32m[I 2022-04-10 19:31:22,834]\u001b[0m Trial 10 finished with value: 0.6493744361666118 and parameters: {'c1': 4.2807644951641635, 'c2': 19.72368988193457}. Best is trial 7 with value: 0.7009772377043879.\u001b[0m\n",
      "\u001b[32m[I 2022-04-10 19:31:22,866]\u001b[0m Trial 8 finished with value: 0.665059227836309 and parameters: {'c1': 0.5591082207499618, 'c2': 15.963115376467798}. Best is trial 7 with value: 0.7009772377043879.\u001b[0m\n",
      "/opt/anaconda3/envs/data_analytics/lib/python3.9/site-packages/sklearn/metrics/_classification.py:1464: UndefinedMetricWarning: F-score is ill-defined and being set to 0.0 in labels with no true nor predicted samples. Use `zero_division` parameter to control this behavior.\n",
      "  _warn_prf(\n",
      "\u001b[32m[I 2022-04-10 19:32:10,779]\u001b[0m Trial 14 finished with value: 0.42330368738758944 and parameters: {'c1': 0.014156764390878717, 'c2': 104.56982444348559}. Best is trial 7 with value: 0.7009772377043879.\u001b[0m\n",
      "\u001b[32m[I 2022-04-10 19:32:14,999]\u001b[0m Trial 13 finished with value: 0.5773985905739257 and parameters: {'c1': 0.07633824628221589, 'c2': 37.40625666956456}. Best is trial 7 with value: 0.7009772377043879.\u001b[0m\n",
      "\u001b[32m[I 2022-04-10 19:32:20,025]\u001b[0m Trial 12 finished with value: 0.4143871328548932 and parameters: {'c1': 115.45587691408207, 'c2': 0.004386882302461488}. Best is trial 7 with value: 0.7009772377043879.\u001b[0m\n",
      "\u001b[32m[I 2022-04-10 19:32:20,732]\u001b[0m Trial 15 finished with value: 0.0 and parameters: {'c1': 1018.2184563834825, 'c2': 29.756801840429496}. Best is trial 7 with value: 0.7009772377043879.\u001b[0m\n",
      "/opt/anaconda3/envs/data_analytics/lib/python3.9/site-packages/sklearn/metrics/_classification.py:1464: UndefinedMetricWarning: F-score is ill-defined and being set to 0.0 in labels with no true nor predicted samples. Use `zero_division` parameter to control this behavior.\n",
      "  _warn_prf(\n",
      "\u001b[32m[I 2022-04-10 19:33:31,416]\u001b[0m Trial 16 finished with value: 0.49301632246166693 and parameters: {'c1': 54.40022547187216, 'c2': 0.0001629728128689765}. Best is trial 7 with value: 0.7009772377043879.\u001b[0m\n",
      "\u001b[32m[I 2022-04-10 19:33:46,427]\u001b[0m Trial 20 finished with value: 0.0 and parameters: {'c1': 3.66039502283928, 'c2': 4804.57251065463}. Best is trial 7 with value: 0.7009772377043879.\u001b[0m\n",
      "/opt/anaconda3/envs/data_analytics/lib/python3.9/site-packages/sklearn/metrics/_classification.py:1464: UndefinedMetricWarning: F-score is ill-defined and being set to 0.0 in labels with no true nor predicted samples. Use `zero_division` parameter to control this behavior.\n",
      "  _warn_prf(\n",
      "\u001b[32m[I 2022-04-10 19:34:52,737]\u001b[0m Trial 21 finished with value: 0.0 and parameters: {'c1': 0.4169330360397801, 'c2': 8236.288302274394}. Best is trial 7 with value: 0.7009772377043879.\u001b[0m\n",
      "/opt/anaconda3/envs/data_analytics/lib/python3.9/site-packages/sklearn/metrics/_classification.py:1464: UndefinedMetricWarning: F-score is ill-defined and being set to 0.0 in labels with no true nor predicted samples. Use `zero_division` parameter to control this behavior.\n",
      "  _warn_prf(\n",
      "\u001b[32m[I 2022-04-10 19:38:25,059]\u001b[0m Trial 17 finished with value: 0.6964125880840731 and parameters: {'c1': 7.68438603386784, 'c2': 0.04626694832069545}. Best is trial 7 with value: 0.7009772377043879.\u001b[0m\n",
      "/opt/anaconda3/envs/data_analytics/lib/python3.9/site-packages/sklearn/metrics/_classification.py:1464: UndefinedMetricWarning: F-score is ill-defined and being set to 0.0 in labels with no true nor predicted samples. Use `zero_division` parameter to control this behavior.\n",
      "  _warn_prf(\n",
      "\u001b[32m[I 2022-04-10 19:39:12,772]\u001b[0m Trial 19 finished with value: 0.7316593843592216 and parameters: {'c1': 3.6554491601596513, 'c2': 0.33642740995895803}. Best is trial 19 with value: 0.7316593843592216.\u001b[0m\n",
      "\u001b[32m[I 2022-04-10 19:39:20,443]\u001b[0m Trial 18 finished with value: 0.7304911303909677 and parameters: {'c1': 3.7543431333960546, 'c2': 0.2607109559862421}. Best is trial 19 with value: 0.7316593843592216.\u001b[0m\n",
      "/opt/anaconda3/envs/data_analytics/lib/python3.9/site-packages/sklearn/metrics/_classification.py:1464: UndefinedMetricWarning: F-score is ill-defined and being set to 0.0 in labels with no true nor predicted samples. Use `zero_division` parameter to control this behavior.\n",
      "  _warn_prf(\n",
      "\u001b[32m[I 2022-04-10 19:40:51,941]\u001b[0m Trial 23 finished with value: 0.8472107962841904 and parameters: {'c1': 0.005195630023579108, 'c2': 0.24293978333067548}. Best is trial 23 with value: 0.8472107962841904.\u001b[0m\n",
      "\u001b[32m[I 2022-04-10 19:42:02,459]\u001b[0m Trial 22 finished with value: 0.8570097790047981 and parameters: {'c1': 0.20620067512848622, 'c2': 0.1739301989690144}. Best is trial 22 with value: 0.8570097790047981.\u001b[0m\n",
      "\u001b[32m[I 2022-04-10 19:42:06,913]\u001b[0m Trial 24 finished with value: 0.6697839398716587 and parameters: {'c1': 18.241196593605327, 'c2': 0.0984981666354216}. Best is trial 22 with value: 0.8570097790047981.\u001b[0m\n",
      "/opt/anaconda3/envs/data_analytics/lib/python3.9/site-packages/sklearn/metrics/_classification.py:1464: UndefinedMetricWarning: F-score is ill-defined and being set to 0.0 in labels with no true nor predicted samples. Use `zero_division` parameter to control this behavior.\n",
      "  _warn_prf(\n",
      "\u001b[32m[I 2022-04-10 19:45:46,015]\u001b[0m Trial 25 finished with value: 0.8430538610980965 and parameters: {'c1': 0.0045493448694898676, 'c2': 0.3097550007683874}. Best is trial 22 with value: 0.8570097790047981.\u001b[0m\n",
      "\u001b[32m[I 2022-04-10 19:46:47,330]\u001b[0m Trial 26 finished with value: 0.8496821362412369 and parameters: {'c1': 0.0032898889829064454, 'c2': 0.1711768002382627}. Best is trial 22 with value: 0.8570097790047981.\u001b[0m\n",
      "\u001b[32m[I 2022-04-10 19:47:04,154]\u001b[0m Trial 1 finished with value: 0.8450486302975575 and parameters: {'c1': 0.5556554066091264, 'c2': 0.001211995626208451}. Best is trial 22 with value: 0.8570097790047981.\u001b[0m\n",
      "/opt/anaconda3/envs/data_analytics/lib/python3.9/site-packages/sklearn/metrics/_classification.py:1464: UndefinedMetricWarning: F-score is ill-defined and being set to 0.0 in labels with no true nor predicted samples. Use `zero_division` parameter to control this behavior.\n",
      "  _warn_prf(\n",
      "\u001b[32m[I 2022-04-10 19:47:54,066]\u001b[0m Trial 27 finished with value: 0.8472107962841904 and parameters: {'c1': 0.0030491940036621932, 'c2': 0.23774506931957082}. Best is trial 22 with value: 0.8570097790047981.\u001b[0m\n",
      "\u001b[32m[I 2022-04-10 19:48:32,867]\u001b[0m Trial 29 finished with value: 0.8429842698083896 and parameters: {'c1': 0.011361814344123719, 'c2': 0.48376759438340516}. Best is trial 22 with value: 0.8570097790047981.\u001b[0m\n",
      "\u001b[32m[I 2022-04-10 19:50:11,561]\u001b[0m Trial 28 finished with value: 0.8496821362412369 and parameters: {'c1': 0.006224141606378878, 'c2': 0.19797402317209742}. Best is trial 22 with value: 0.8570097790047981.\u001b[0m\n",
      "\u001b[32m[I 2022-04-10 19:50:33,931]\u001b[0m Trial 2 finished with value: 0.8594415014286374 and parameters: {'c1': 0.33181698319799807, 'c2': 0.0007405838192540642}. Best is trial 2 with value: 0.8594415014286374.\u001b[0m\n",
      "/opt/anaconda3/envs/data_analytics/lib/python3.9/site-packages/sklearn/metrics/_classification.py:1464: UndefinedMetricWarning: F-score is ill-defined and being set to 0.0 in labels with no true nor predicted samples. Use `zero_division` parameter to control this behavior.\n",
      "  _warn_prf(\n",
      "\u001b[32m[I 2022-04-10 19:52:33,381]\u001b[0m Trial 33 finished with value: 0.810516709635287 and parameters: {'c1': 0.00015361901235972443, 'c2': 2.315294125156816}. Best is trial 2 with value: 0.8594415014286374.\u001b[0m\n",
      "/opt/anaconda3/envs/data_analytics/lib/python3.9/site-packages/sklearn/metrics/_classification.py:1464: UndefinedMetricWarning: F-score is ill-defined and being set to 0.0 in labels with no true nor predicted samples. Use `zero_division` parameter to control this behavior.\n",
      "  _warn_prf(\n",
      "\u001b[32m[I 2022-04-10 19:59:06,508]\u001b[0m Trial 30 finished with value: 0.8590823303727774 and parameters: {'c1': 0.0020526835149294684, 'c2': 0.02241575913303687}. Best is trial 2 with value: 0.8594415014286374.\u001b[0m\n",
      "\u001b[32m[I 2022-04-10 19:59:37,454]\u001b[0m Trial 32 finished with value: 0.8575569677524818 and parameters: {'c1': 0.0012160452821904733, 'c2': 0.020390167675475513}. Best is trial 2 with value: 0.8594415014286374.\u001b[0m\n",
      "\u001b[32m[I 2022-04-10 19:59:43,285]\u001b[0m Trial 31 finished with value: 0.8575551477664023 and parameters: {'c1': 0.0008743835360215301, 'c2': 0.017421364303950804}. Best is trial 2 with value: 0.8594415014286374.\u001b[0m\n",
      "\u001b[32m[I 2022-04-10 20:00:34,379]\u001b[0m Trial 0 finished with value: 0.8708106378724964 and parameters: {'c1': 0.00025952868898717447, 'c2': 0.0002920384883090363}. Best is trial 0 with value: 0.8708106378724964.\u001b[0m\n",
      "\u001b[32m[I 2022-04-10 20:01:39,641]\u001b[0m Trial 34 finished with value: 0.8570897962605123 and parameters: {'c1': 0.0003272351811928128, 'c2': 0.023226047659726048}. Best is trial 0 with value: 0.8708106378724964.\u001b[0m\n",
      "\u001b[32m[I 2022-04-10 20:03:11,050]\u001b[0m Trial 35 finished with value: 0.8570897962605123 and parameters: {'c1': 0.00038197475284996736, 'c2': 0.020272508904978396}. Best is trial 0 with value: 0.8708106378724964.\u001b[0m\n",
      "/opt/anaconda3/envs/data_analytics/lib/python3.9/site-packages/sklearn/metrics/_classification.py:1464: UndefinedMetricWarning: F-score is ill-defined and being set to 0.0 in labels with no true nor predicted samples. Use `zero_division` parameter to control this behavior.\n",
      "  _warn_prf(\n",
      "\u001b[32m[I 2022-04-10 20:12:05,849]\u001b[0m Trial 37 finished with value: 0.8669240280719386 and parameters: {'c1': 0.09471340340930316, 'c2': 0.03164222011497463}. Best is trial 0 with value: 0.8708106378724964.\u001b[0m\n",
      "\u001b[32m[I 2022-04-10 20:12:07,534]\u001b[0m Trial 36 finished with value: 0.8666484154228267 and parameters: {'c1': 0.1000703984204039, 'c2': 0.02284029392074551}. Best is trial 0 with value: 0.8708106378724964.\u001b[0m\n",
      "\u001b[32m[I 2022-04-10 20:12:29,080]\u001b[0m Trial 39 finished with value: 0.8570897962605123 and parameters: {'c1': 0.0008694273578279766, 'c2': 0.022085218048149165}. Best is trial 0 with value: 0.8708106378724964.\u001b[0m\n",
      "\u001b[32m[I 2022-04-10 20:13:08,969]\u001b[0m Trial 40 finished with value: 0.8570897962605123 and parameters: {'c1': 0.0004659352639310305, 'c2': 0.019675456140887365}. Best is trial 0 with value: 0.8708106378724964.\u001b[0m\n",
      "/opt/anaconda3/envs/data_analytics/lib/python3.9/site-packages/sklearn/metrics/_classification.py:1464: UndefinedMetricWarning: F-score is ill-defined and being set to 0.0 in labels with no true nor predicted samples. Use `zero_division` parameter to control this behavior.\n",
      "  _warn_prf(\n",
      "\u001b[32m[I 2022-04-10 20:23:30,795]\u001b[0m Trial 38 finished with value: 0.8666484154228267 and parameters: {'c1': 0.10529494326191341, 'c2': 0.02216940912286508}. Best is trial 0 with value: 0.8708106378724964.\u001b[0m\n",
      "/opt/anaconda3/envs/data_analytics/lib/python3.9/site-packages/sklearn/metrics/_classification.py:1464: UndefinedMetricWarning: F-score is ill-defined and being set to 0.0 in labels with no true nor predicted samples. Use `zero_division` parameter to control this behavior.\n",
      "  _warn_prf(\n",
      "\u001b[32m[I 2022-04-10 20:40:05,913]\u001b[0m Trial 41 finished with value: 0.8703743842557117 and parameters: {'c1': 0.0006565441775483867, 'c2': 0.0006298136530092552}. Best is trial 0 with value: 0.8708106378724964.\u001b[0m\n",
      "\u001b[32m[I 2022-04-10 20:41:15,714]\u001b[0m Trial 42 finished with value: 0.8690630115977769 and parameters: {'c1': 0.0007222194456506105, 'c2': 0.0005601674133135998}. Best is trial 0 with value: 0.8708106378724964.\u001b[0m\n",
      "\u001b[32m[I 2022-04-10 21:34:53,330]\u001b[0m Trial 43 finished with value: 0.868509065270757 and parameters: {'c1': 0.0519504931023351, 'c2': 0.0005897612997585434}. Best is trial 0 with value: 0.8708106378724964.\u001b[0m\n",
      "/opt/anaconda3/envs/data_analytics/lib/python3.9/site-packages/sklearn/metrics/_classification.py:1464: UndefinedMetricWarning: F-score is ill-defined and being set to 0.0 in labels with no true nor predicted samples. Use `zero_division` parameter to control this behavior.\n",
      "  _warn_prf(\n",
      "\u001b[32m[I 2022-04-10 22:27:05,857]\u001b[0m Trial 47 finished with value: 0.8681744344223038 and parameters: {'c1': 0.08578222284198289, 'c2': 0.0009918079964468926}. Best is trial 0 with value: 0.8708106378724964.\u001b[0m\n",
      "\u001b[32m[I 2022-04-10 22:27:11,936]\u001b[0m Trial 46 finished with value: 0.868509065270757 and parameters: {'c1': 0.048467109818005845, 'c2': 0.0007157607886612996}. Best is trial 0 with value: 0.8708106378724964.\u001b[0m\n",
      "\u001b[32m[I 2022-04-10 22:54:43,512]\u001b[0m Trial 44 finished with value: 0.8708284976247385 and parameters: {'c1': 0.040610971337535086, 'c2': 0.0006190894347877335}. Best is trial 44 with value: 0.8708284976247385.\u001b[0m\n",
      "\u001b[32m[I 2022-04-10 22:55:36,735]\u001b[0m Trial 45 finished with value: 0.868509065270757 and parameters: {'c1': 0.04696141950669011, 'c2': 0.0005518359860413089}. Best is trial 44 with value: 0.8708284976247385.\u001b[0m\n",
      "/opt/anaconda3/envs/data_analytics/lib/python3.9/site-packages/sklearn/metrics/_classification.py:1464: UndefinedMetricWarning: F-score is ill-defined and being set to 0.0 in labels with no true nor predicted samples. Use `zero_division` parameter to control this behavior.\n",
      "  _warn_prf(\n",
      "\u001b[32m[I 2022-04-10 23:01:23,422]\u001b[0m Trial 48 finished with value: 0.868509065270757 and parameters: {'c1': 0.04908292919397514, 'c2': 0.0006360360025265194}. Best is trial 44 with value: 0.8708284976247385.\u001b[0m\n",
      "/opt/anaconda3/envs/data_analytics/lib/python3.9/site-packages/sklearn/metrics/_classification.py:1464: UndefinedMetricWarning: F-score is ill-defined and being set to 0.0 in labels with no true nor predicted samples. Use `zero_division` parameter to control this behavior.\n",
      "  _warn_prf(\n",
      "\u001b[32m[I 2022-04-10 23:13:42,286]\u001b[0m Trial 49 finished with value: 0.8743697205905281 and parameters: {'c1': 0.029763419118826642, 'c2': 0.0017658295717426806}. Best is trial 49 with value: 0.8743697205905281.\u001b[0m\n",
      "/opt/anaconda3/envs/data_analytics/lib/python3.9/site-packages/sklearn/metrics/_classification.py:1464: UndefinedMetricWarning: F-score is ill-defined and being set to 0.0 in labels with no true nor predicted samples. Use `zero_division` parameter to control this behavior.\n",
      "  _warn_prf(\n",
      "\u001b[32m[I 2022-04-10 23:26:30,459]\u001b[0m Trial 50 finished with value: 0.8706070784181351 and parameters: {'c1': 0.02981488478004368, 'c2': 0.00012713336552711032}. Best is trial 49 with value: 0.8743697205905281.\u001b[0m\n",
      "\u001b[32m[I 2022-04-10 23:29:10,814]\u001b[0m Trial 51 finished with value: 0.8682158973786072 and parameters: {'c1': 0.03199937183497114, 'c2': 0.0001134279605697914}. Best is trial 49 with value: 0.8743697205905281.\u001b[0m\n",
      "/opt/anaconda3/envs/data_analytics/lib/python3.9/site-packages/sklearn/metrics/_classification.py:1464: UndefinedMetricWarning: F-score is ill-defined and being set to 0.0 in labels with no true nor predicted samples. Use `zero_division` parameter to control this behavior.\n",
      "  _warn_prf(\n",
      "\u001b[32m[I 2022-04-10 23:33:22,568]\u001b[0m Trial 55 finished with value: 0.8731984774839102 and parameters: {'c1': 0.00010775643477857027, 'c2': 0.00010129090506746111}. Best is trial 49 with value: 0.8743697205905281.\u001b[0m\n",
      "\u001b[32m[I 2022-04-10 23:35:17,689]\u001b[0m Trial 53 finished with value: 0.8690131296761455 and parameters: {'c1': 0.028781550673417207, 'c2': 0.0002429272987975871}. Best is trial 49 with value: 0.8743697205905281.\u001b[0m\n",
      "\u001b[32m[I 2022-04-10 23:35:30,365]\u001b[0m Trial 52 finished with value: 0.8703380596481344 and parameters: {'c1': 0.03414540159862762, 'c2': 0.00036465502347896505}. Best is trial 49 with value: 0.8743697205905281.\u001b[0m\n",
      "/opt/anaconda3/envs/data_analytics/lib/python3.9/site-packages/sklearn/metrics/_classification.py:1464: UndefinedMetricWarning: F-score is ill-defined and being set to 0.0 in labels with no true nor predicted samples. Use `zero_division` parameter to control this behavior.\n",
      "  _warn_prf(\n",
      "\u001b[32m[I 2022-04-10 23:39:47,244]\u001b[0m Trial 54 finished with value: 0.8690131296761455 and parameters: {'c1': 0.028632623790631622, 'c2': 0.0002134164617517343}. Best is trial 49 with value: 0.8743697205905281.\u001b[0m\n",
      "/opt/anaconda3/envs/data_analytics/lib/python3.9/site-packages/sklearn/metrics/_classification.py:1464: UndefinedMetricWarning: F-score is ill-defined and being set to 0.0 in labels with no true nor predicted samples. Use `zero_division` parameter to control this behavior.\n",
      "  _warn_prf(\n",
      "\u001b[32m[I 2022-04-10 23:45:33,994]\u001b[0m Trial 56 finished with value: 0.8713923533913446 and parameters: {'c1': 0.018727459219958303, 'c2': 0.0001667343320830136}. Best is trial 49 with value: 0.8743697205905281.\u001b[0m\n",
      "/opt/anaconda3/envs/data_analytics/lib/python3.9/site-packages/sklearn/metrics/_classification.py:1464: UndefinedMetricWarning: F-score is ill-defined and being set to 0.0 in labels with no true nor predicted samples. Use `zero_division` parameter to control this behavior.\n",
      "  _warn_prf(\n",
      "\u001b[32m[I 2022-04-10 23:47:46,418]\u001b[0m Trial 59 finished with value: 0.8642951280946101 and parameters: {'c1': 0.00010279534061344734, 'c2': 0.0030195174621722417}. Best is trial 49 with value: 0.8743697205905281.\u001b[0m\n",
      "/opt/anaconda3/envs/data_analytics/lib/python3.9/site-packages/sklearn/metrics/_classification.py:1464: UndefinedMetricWarning: F-score is ill-defined and being set to 0.0 in labels with no true nor predicted samples. Use `zero_division` parameter to control this behavior.\n",
      "  _warn_prf(\n",
      "\u001b[32m[I 2022-04-10 23:50:33,590]\u001b[0m Trial 60 finished with value: 0.8642951280946101 and parameters: {'c1': 0.00011393147074265153, 'c2': 0.0031479554032311356}. Best is trial 49 with value: 0.8743697205905281.\u001b[0m\n",
      "/opt/anaconda3/envs/data_analytics/lib/python3.9/site-packages/sklearn/metrics/_classification.py:1464: UndefinedMetricWarning: F-score is ill-defined and being set to 0.0 in labels with no true nor predicted samples. Use `zero_division` parameter to control this behavior.\n",
      "  _warn_prf(\n",
      "\u001b[32m[I 2022-04-10 23:50:40,276]\u001b[0m Trial 57 finished with value: 0.8690184455197649 and parameters: {'c1': 0.00011128220583927349, 'c2': 0.00013735294076018767}. Best is trial 49 with value: 0.8743697205905281.\u001b[0m\n",
      "\u001b[32m[I 2022-04-10 23:53:04,981]\u001b[0m Trial 62 finished with value: 0.8660119870870109 and parameters: {'c1': 0.0002259740314616185, 'c2': 0.0025139408251307004}. Best is trial 49 with value: 0.8743697205905281.\u001b[0m\n",
      "/opt/anaconda3/envs/data_analytics/lib/python3.9/site-packages/sklearn/metrics/_classification.py:1464: UndefinedMetricWarning: F-score is ill-defined and being set to 0.0 in labels with no true nor predicted samples. Use `zero_division` parameter to control this behavior.\n",
      "  _warn_prf(\n",
      "\u001b[32m[I 2022-04-10 23:57:58,590]\u001b[0m Trial 61 finished with value: 0.8737515660137353 and parameters: {'c1': 0.011592822448986118, 'c2': 0.0020755395567945713}. Best is trial 49 with value: 0.8743697205905281.\u001b[0m\n",
      "\u001b[32m[I 2022-04-10 23:58:58,180]\u001b[0m Trial 63 finished with value: 0.8660119870870109 and parameters: {'c1': 0.00011280168024879422, 'c2': 0.0024242548396068643}. Best is trial 49 with value: 0.8743697205905281.\u001b[0m\n",
      "\u001b[32m[I 2022-04-11 00:00:28,858]\u001b[0m Trial 58 finished with value: 0.8701185257987889 and parameters: {'c1': 0.02309718527790482, 'c2': 0.00015224208523313798}. Best is trial 49 with value: 0.8743697205905281.\u001b[0m\n",
      "/opt/anaconda3/envs/data_analytics/lib/python3.9/site-packages/sklearn/metrics/_classification.py:1464: UndefinedMetricWarning: F-score is ill-defined and being set to 0.0 in labels with no true nor predicted samples. Use `zero_division` parameter to control this behavior.\n",
      "  _warn_prf(\n",
      "\u001b[32m[I 2022-04-11 00:02:53,207]\u001b[0m Trial 64 finished with value: 0.8433250519855431 and parameters: {'c1': 0.9976040460795316, 'c2': 0.00320690590637}. Best is trial 49 with value: 0.8743697205905281.\u001b[0m\n",
      "/opt/anaconda3/envs/data_analytics/lib/python3.9/site-packages/sklearn/metrics/_classification.py:1464: UndefinedMetricWarning: F-score is ill-defined and being set to 0.0 in labels with no true nor predicted samples. Use `zero_division` parameter to control this behavior.\n",
      "  _warn_prf(\n",
      "\u001b[32m[I 2022-04-11 00:09:03,441]\u001b[0m Trial 67 finished with value: 0.8475543945373921 and parameters: {'c1': 0.9232865833723042, 'c2': 0.0014351013369203042}. Best is trial 49 with value: 0.8743697205905281.\u001b[0m\n",
      "/opt/anaconda3/envs/data_analytics/lib/python3.9/site-packages/sklearn/metrics/_classification.py:1464: UndefinedMetricWarning: F-score is ill-defined and being set to 0.0 in labels with no true nor predicted samples. Use `zero_division` parameter to control this behavior.\n",
      "  _warn_prf(\n",
      "\u001b[32m[I 2022-04-11 00:27:40,209]\u001b[0m Trial 65 finished with value: 0.8604034945519968 and parameters: {'c1': 0.26084902618403544, 'c2': 0.002106759395293048}. Best is trial 49 with value: 0.8743697205905281.\u001b[0m\n",
      "\u001b[32m[I 2022-04-11 00:29:41,140]\u001b[0m Trial 66 finished with value: 0.8593186329798177 and parameters: {'c1': 0.24981208190641685, 'c2': 0.001804764051699224}. Best is trial 49 with value: 0.8743697205905281.\u001b[0m\n",
      "\u001b[32m[I 2022-04-11 00:47:36,953]\u001b[0m Trial 70 finished with value: 0.8451681406792456 and parameters: {'c1': 0.9704405156004162, 'c2': 0.001528703164135436}. Best is trial 49 with value: 0.8743697205905281.\u001b[0m\n",
      "\u001b[32m[I 2022-04-11 00:47:49,959]\u001b[0m Trial 69 finished with value: 0.8460622225541978 and parameters: {'c1': 0.7458409864971703, 'c2': 0.00148080731092796}. Best is trial 49 with value: 0.8743697205905281.\u001b[0m\n",
      "\u001b[32m[I 2022-04-11 00:48:39,394]\u001b[0m Trial 71 finished with value: 0.848252058283055 and parameters: {'c1': 0.8618361164984821, 'c2': 0.009376754359781964}. Best is trial 49 with value: 0.8743697205905281.\u001b[0m\n",
      "\u001b[32m[I 2022-04-11 00:48:40,522]\u001b[0m Trial 68 finished with value: 0.8728972533570787 and parameters: {'c1': 0.014359370631493706, 'c2': 0.0014380806363640261}. Best is trial 49 with value: 0.8743697205905281.\u001b[0m\n",
      "/opt/anaconda3/envs/data_analytics/lib/python3.9/site-packages/sklearn/metrics/_classification.py:1464: UndefinedMetricWarning: F-score is ill-defined and being set to 0.0 in labels with no true nor predicted samples. Use `zero_division` parameter to control this behavior.\n",
      "  _warn_prf(\n",
      "\u001b[32m[I 2022-04-11 00:54:29,518]\u001b[0m Trial 73 finished with value: 0.8735384321971242 and parameters: {'c1': 0.00986101038165658, 'c2': 0.006927792447253244}. Best is trial 49 with value: 0.8743697205905281.\u001b[0m\n",
      "\u001b[32m[I 2022-04-11 00:55:39,082]\u001b[0m Trial 74 finished with value: 0.8687568393741852 and parameters: {'c1': 0.010583669624350683, 'c2': 0.010033053818051026}. Best is trial 49 with value: 0.8743697205905281.\u001b[0m\n",
      "/opt/anaconda3/envs/data_analytics/lib/python3.9/site-packages/sklearn/metrics/_classification.py:1464: UndefinedMetricWarning: F-score is ill-defined and being set to 0.0 in labels with no true nor predicted samples. Use `zero_division` parameter to control this behavior.\n",
      "  _warn_prf(\n",
      "\u001b[32m[I 2022-04-11 00:58:14,337]\u001b[0m Trial 75 finished with value: 0.8730322850310455 and parameters: {'c1': 0.012745367774689332, 'c2': 0.00885751176140835}. Best is trial 49 with value: 0.8743697205905281.\u001b[0m\n",
      "\u001b[32m[I 2022-04-11 00:58:37,645]\u001b[0m Trial 72 finished with value: 0.8591715511264647 and parameters: {'c1': 0.19801353305397237, 'c2': 0.00810065631401155}. Best is trial 49 with value: 0.8743697205905281.\u001b[0m\n",
      "\u001b[32m[I 2022-04-11 01:01:09,799]\u001b[0m Trial 77 finished with value: 0.8735384321971242 and parameters: {'c1': 0.009354500308758259, 'c2': 0.006900369154595161}. Best is trial 49 with value: 0.8743697205905281.\u001b[0m\n",
      "\u001b[32m[I 2022-04-11 01:02:11,088]\u001b[0m Trial 78 finished with value: 0.8730322850310455 and parameters: {'c1': 0.01157610118963922, 'c2': 0.0074375213227093825}. Best is trial 49 with value: 0.8743697205905281.\u001b[0m\n",
      "/opt/anaconda3/envs/data_analytics/lib/python3.9/site-packages/sklearn/metrics/_classification.py:1464: UndefinedMetricWarning: F-score is ill-defined and being set to 0.0 in labels with no true nor predicted samples. Use `zero_division` parameter to control this behavior.\n",
      "  _warn_prf(\n",
      "\u001b[32m[I 2022-04-11 01:07:01,844]\u001b[0m Trial 81 finished with value: 0.8611951357299589 and parameters: {'c1': 0.0016316194881397796, 'c2': 0.006818739499546673}. Best is trial 49 with value: 0.8743697205905281.\u001b[0m\n",
      "/opt/anaconda3/envs/data_analytics/lib/python3.9/site-packages/sklearn/metrics/_classification.py:1464: UndefinedMetricWarning: F-score is ill-defined and being set to 0.0 in labels with no true nor predicted samples. Use `zero_division` parameter to control this behavior.\n",
      "  _warn_prf(\n",
      "\u001b[32m[I 2022-04-11 01:08:01,579]\u001b[0m Trial 80 finished with value: 0.8730322850310455 and parameters: {'c1': 0.01234297454231006, 'c2': 0.008098850916194925}. Best is trial 49 with value: 0.8743697205905281.\u001b[0m\n",
      "\u001b[32m[I 2022-04-11 01:08:46,746]\u001b[0m Trial 84 finished with value: 0.8568119249688992 and parameters: {'c1': 0.007766365255236869, 'c2': 0.06619887206174085}. Best is trial 49 with value: 0.8743697205905281.\u001b[0m\n",
      "/opt/anaconda3/envs/data_analytics/lib/python3.9/site-packages/sklearn/metrics/_classification.py:1464: UndefinedMetricWarning: F-score is ill-defined and being set to 0.0 in labels with no true nor predicted samples. Use `zero_division` parameter to control this behavior.\n",
      "  _warn_prf(\n",
      "\u001b[32m[I 2022-04-11 01:10:47,627]\u001b[0m Trial 82 finished with value: 0.8689725245674154 and parameters: {'c1': 0.008351227651248481, 'c2': 0.007754333878505416}. Best is trial 49 with value: 0.8743697205905281.\u001b[0m\n",
      "/opt/anaconda3/envs/data_analytics/lib/python3.9/site-packages/sklearn/metrics/_classification.py:1464: UndefinedMetricWarning: F-score is ill-defined and being set to 0.0 in labels with no true nor predicted samples. Use `zero_division` parameter to control this behavior.\n",
      "  _warn_prf(\n",
      "\u001b[32m[I 2022-04-11 01:12:40,989]\u001b[0m Trial 83 finished with value: 0.8741181423420518 and parameters: {'c1': 0.009138247803481837, 'c2': 0.0056694666350292425}. Best is trial 49 with value: 0.8743697205905281.\u001b[0m\n",
      "\u001b[32m[I 2022-04-11 01:14:25,443]\u001b[0m Trial 86 finished with value: 0.8568119249688992 and parameters: {'c1': 0.006896602187030472, 'c2': 0.06532053984515944}. Best is trial 49 with value: 0.8743697205905281.\u001b[0m\n",
      "\u001b[32m[I 2022-04-11 01:14:50,252]\u001b[0m Trial 76 finished with value: 0.8767555666007082 and parameters: {'c1': 0.011472283277326023, 'c2': 0.0003227919650931104}. Best is trial 76 with value: 0.8767555666007082.\u001b[0m\n",
      "\u001b[32m[I 2022-04-11 01:15:34,661]\u001b[0m Trial 87 finished with value: 0.8561769936691379 and parameters: {'c1': 0.00844525395222342, 'c2': 0.07916075143435372}. Best is trial 76 with value: 0.8767555666007082.\u001b[0m\n",
      "\u001b[32m[I 2022-04-11 01:16:26,192]\u001b[0m Trial 85 finished with value: 0.8731196927296487 and parameters: {'c1': 0.009646186224563055, 'c2': 0.005563372904746405}. Best is trial 76 with value: 0.8767555666007082.\u001b[0m\n",
      "/opt/anaconda3/envs/data_analytics/lib/python3.9/site-packages/sklearn/metrics/_classification.py:1464: UndefinedMetricWarning: F-score is ill-defined and being set to 0.0 in labels with no true nor predicted samples. Use `zero_division` parameter to control this behavior.\n",
      "  _warn_prf(\n",
      "\u001b[32m[I 2022-04-11 01:17:17,137]\u001b[0m Trial 79 finished with value: 0.8758689841919655 and parameters: {'c1': 0.011502010588223399, 'c2': 0.00035197377928571755}. Best is trial 76 with value: 0.8767555666007082.\u001b[0m\n",
      "/opt/anaconda3/envs/data_analytics/lib/python3.9/site-packages/sklearn/metrics/_classification.py:1464: UndefinedMetricWarning: F-score is ill-defined and being set to 0.0 in labels with no true nor predicted samples. Use `zero_division` parameter to control this behavior.\n",
      "  _warn_prf(\n",
      "\u001b[32m[I 2022-04-11 01:22:54,172]\u001b[0m Trial 88 finished with value: 0.867944189744257 and parameters: {'c1': 0.0029136816780874703, 'c2': 0.004692430668443627}. Best is trial 76 with value: 0.8767555666007082.\u001b[0m\n",
      "/opt/anaconda3/envs/data_analytics/lib/python3.9/site-packages/sklearn/metrics/_classification.py:1464: UndefinedMetricWarning: F-score is ill-defined and being set to 0.0 in labels with no true nor predicted samples. Use `zero_division` parameter to control this behavior.\n",
      "  _warn_prf(\n",
      "\u001b[32m[I 2022-04-11 01:24:18,656]\u001b[0m Trial 89 finished with value: 0.867944189744257 and parameters: {'c1': 0.003450442930583669, 'c2': 0.004996635300054406}. Best is trial 76 with value: 0.8767555666007082.\u001b[0m\n",
      "/opt/anaconda3/envs/data_analytics/lib/python3.9/site-packages/sklearn/metrics/_classification.py:1464: UndefinedMetricWarning: F-score is ill-defined and being set to 0.0 in labels with no true nor predicted samples. Use `zero_division` parameter to control this behavior.\n",
      "  _warn_prf(\n",
      "\u001b[32m[I 2022-04-11 01:27:11,641]\u001b[0m Trial 90 finished with value: 0.867944189744257 and parameters: {'c1': 0.002569729898501922, 'c2': 0.00483619427016742}. Best is trial 76 with value: 0.8767555666007082.\u001b[0m\n",
      "\u001b[32m[I 2022-04-11 01:29:17,922]\u001b[0m Trial 91 finished with value: 0.867944189744257 and parameters: {'c1': 0.002903445260802628, 'c2': 0.004488691821705268}. Best is trial 76 with value: 0.8767555666007082.\u001b[0m\n",
      "\u001b[32m[I 2022-04-11 01:29:24,370]\u001b[0m Trial 92 finished with value: 0.867944189744257 and parameters: {'c1': 0.002726308820537023, 'c2': 0.004827297209856907}. Best is trial 76 with value: 0.8767555666007082.\u001b[0m\n",
      "\u001b[32m[I 2022-04-11 01:30:20,949]\u001b[0m Trial 94 finished with value: 0.8683067306885915 and parameters: {'c1': 0.004051750524861391, 'c2': 0.004619289791982913}. Best is trial 76 with value: 0.8767555666007082.\u001b[0m\n",
      "\u001b[32m[I 2022-04-11 01:30:31,321]\u001b[0m Trial 93 finished with value: 0.86785072368527 and parameters: {'c1': 0.0032646071392674002, 'c2': 0.004084221469372417}. Best is trial 76 with value: 0.8767555666007082.\u001b[0m\n",
      "/opt/anaconda3/envs/data_analytics/lib/python3.9/site-packages/sklearn/metrics/_classification.py:1464: UndefinedMetricWarning: F-score is ill-defined and being set to 0.0 in labels with no true nor predicted samples. Use `zero_division` parameter to control this behavior.\n",
      "  _warn_prf(\n",
      "\u001b[32m[I 2022-04-11 01:37:56,633]\u001b[0m Trial 97 finished with value: 0.806705869177174 and parameters: {'c1': 1.9535687350577362, 'c2': 0.0003245673855336998}. Best is trial 76 with value: 0.8767555666007082.\u001b[0m\n",
      "\u001b[32m[I 2022-04-11 01:38:34,004]\u001b[0m Trial 98 finished with value: 0.860675977949995 and parameters: {'c1': 0.0018485881023366268, 'c2': 0.013265979129462846}. Best is trial 76 with value: 0.8767555666007082.\u001b[0m\n",
      "/opt/anaconda3/envs/data_analytics/lib/python3.9/site-packages/sklearn/metrics/_classification.py:1464: UndefinedMetricWarning: F-score is ill-defined and being set to 0.0 in labels with no true nor predicted samples. Use `zero_division` parameter to control this behavior.\n",
      "  _warn_prf(\n",
      "\u001b[32m[I 2022-04-11 01:50:37,641]\u001b[0m Trial 95 finished with value: 0.8756682283064376 and parameters: {'c1': 0.0038026849846989007, 'c2': 0.00033221497562414365}. Best is trial 76 with value: 0.8767555666007082.\u001b[0m\n",
      "/opt/anaconda3/envs/data_analytics/lib/python3.9/site-packages/sklearn/metrics/_classification.py:1464: UndefinedMetricWarning: F-score is ill-defined and being set to 0.0 in labels with no true nor predicted samples. Use `zero_division` parameter to control this behavior.\n",
      "  _warn_prf(\n",
      "\u001b[32m[I 2022-04-11 01:54:40,359]\u001b[0m Trial 101 finished with value: 0.8725995969847788 and parameters: {'c1': 0.0014778890543290849, 'c2': 0.0009576374252772332}. Best is trial 76 with value: 0.8767555666007082.\u001b[0m\n",
      "/opt/anaconda3/envs/data_analytics/lib/python3.9/site-packages/sklearn/metrics/_classification.py:1464: UndefinedMetricWarning: F-score is ill-defined and being set to 0.0 in labels with no true nor predicted samples. Use `zero_division` parameter to control this behavior.\n",
      "  _warn_prf(\n",
      "\u001b[32m[I 2022-04-11 01:59:30,462]\u001b[0m Trial 96 finished with value: 0.8756682283064376 and parameters: {'c1': 0.003956565865274898, 'c2': 0.00028394754919797876}. Best is trial 76 with value: 0.8767555666007082.\u001b[0m\n",
      "\u001b[32m[I 2022-04-11 02:03:27,704]\u001b[0m Trial 99 finished with value: 0.8762975104615297 and parameters: {'c1': 0.0050275713689520015, 'c2': 0.00034343503680349917}. Best is trial 76 with value: 0.8767555666007082.\u001b[0m\n",
      "\u001b[32m[I 2022-04-11 02:04:09,869]\u001b[0m Trial 103 finished with value: 0.8730091596237708 and parameters: {'c1': 0.001395707999574228, 'c2': 0.0009538162390118741}. Best is trial 76 with value: 0.8767555666007082.\u001b[0m\n",
      "\u001b[32m[I 2022-04-11 02:04:43,689]\u001b[0m Trial 100 finished with value: 0.8756682283064376 and parameters: {'c1': 0.004740113758688198, 'c2': 0.00035065503671655217}. Best is trial 76 with value: 0.8767555666007082.\u001b[0m\n",
      "/opt/anaconda3/envs/data_analytics/lib/python3.9/site-packages/sklearn/metrics/_classification.py:1464: UndefinedMetricWarning: F-score is ill-defined and being set to 0.0 in labels with no true nor predicted samples. Use `zero_division` parameter to control this behavior.\n",
      "  _warn_prf(\n",
      "\u001b[32m[I 2022-04-11 02:07:25,562]\u001b[0m Trial 104 finished with value: 0.8740281279415282 and parameters: {'c1': 0.019349485168844476, 'c2': 0.0009540548894266746}. Best is trial 76 with value: 0.8767555666007082.\u001b[0m\n",
      "\u001b[32m[I 2022-04-11 02:08:07,454]\u001b[0m Trial 102 finished with value: 0.8798371258539477 and parameters: {'c1': 0.0013645977625495267, 'c2': 0.0003036441905061846}. Best is trial 102 with value: 0.8798371258539477.\u001b[0m\n",
      "/opt/anaconda3/envs/data_analytics/lib/python3.9/site-packages/sklearn/metrics/_classification.py:1464: UndefinedMetricWarning: F-score is ill-defined and being set to 0.0 in labels with no true nor predicted samples. Use `zero_division` parameter to control this behavior.\n",
      "  _warn_prf(\n",
      "\u001b[32m[I 2022-04-11 02:16:52,926]\u001b[0m Trial 105 finished with value: 0.8774153174899769 and parameters: {'c1': 0.0053173592235133136, 'c2': 0.001038500672489341}. Best is trial 102 with value: 0.8798371258539477.\u001b[0m\n",
      "/opt/anaconda3/envs/data_analytics/lib/python3.9/site-packages/sklearn/metrics/_classification.py:1464: UndefinedMetricWarning: F-score is ill-defined and being set to 0.0 in labels with no true nor predicted samples. Use `zero_division` parameter to control this behavior.\n",
      "  _warn_prf(\n",
      "\u001b[32m[I 2022-04-11 02:25:26,264]\u001b[0m Trial 106 finished with value: 0.8741574246372343 and parameters: {'c1': 0.018311328393857226, 'c2': 0.0003581593946246926}. Best is trial 102 with value: 0.8798371258539477.\u001b[0m\n",
      "/opt/anaconda3/envs/data_analytics/lib/python3.9/site-packages/sklearn/metrics/_classification.py:1464: UndefinedMetricWarning: F-score is ill-defined and being set to 0.0 in labels with no true nor predicted samples. Use `zero_division` parameter to control this behavior.\n",
      "  _warn_prf(\n",
      "\u001b[32m[I 2022-04-11 02:49:49,781]\u001b[0m Trial 107 finished with value: 0.8762975104615297 and parameters: {'c1': 0.005230320400710969, 'c2': 0.0003583152225414565}. Best is trial 102 with value: 0.8798371258539477.\u001b[0m\n",
      "\u001b[32m[I 2022-04-11 02:51:30,769]\u001b[0m Trial 108 finished with value: 0.8713923533913446 and parameters: {'c1': 0.019594812882705682, 'c2': 0.00024155408693539193}. Best is trial 102 with value: 0.8798371258539477.\u001b[0m\n",
      "/opt/anaconda3/envs/data_analytics/lib/python3.9/site-packages/sklearn/metrics/_classification.py:1464: UndefinedMetricWarning: F-score is ill-defined and being set to 0.0 in labels with no true nor predicted samples. Use `zero_division` parameter to control this behavior.\n",
      "  _warn_prf(\n",
      "\u001b[32m[I 2022-04-11 02:53:32,595]\u001b[0m Trial 109 finished with value: 0.8766195840054744 and parameters: {'c1': 0.005786018919190722, 'c2': 0.00038513160889131143}. Best is trial 102 with value: 0.8798371258539477.\u001b[0m\n",
      "\u001b[32m[I 2022-04-11 02:55:20,266]\u001b[0m Trial 110 finished with value: 0.8756682283064376 and parameters: {'c1': 0.004788277461991092, 'c2': 0.00041998505055587806}. Best is trial 102 with value: 0.8798371258539477.\u001b[0m\n",
      "\u001b[32m[I 2022-04-11 02:59:47,595]\u001b[0m Trial 112 finished with value: 0.8756682283064376 and parameters: {'c1': 0.005125394721094048, 'c2': 0.0003705729800032788}. Best is trial 102 with value: 0.8798371258539477.\u001b[0m\n",
      "/opt/anaconda3/envs/data_analytics/lib/python3.9/site-packages/sklearn/metrics/_classification.py:1464: UndefinedMetricWarning: F-score is ill-defined and being set to 0.0 in labels with no true nor predicted samples. Use `zero_division` parameter to control this behavior.\n",
      "  _warn_prf(\n",
      "\u001b[32m[I 2022-04-11 03:00:54,857]\u001b[0m Trial 111 finished with value: 0.8746843988865673 and parameters: {'c1': 0.005845828190952963, 'c2': 0.00024379382608320565}. Best is trial 102 with value: 0.8798371258539477.\u001b[0m\n",
      "\u001b[32m[I 2022-04-11 03:02:07,888]\u001b[0m Trial 113 finished with value: 0.8728759737266387 and parameters: {'c1': 0.018412354392875648, 'c2': 0.00040187203065350274}. Best is trial 102 with value: 0.8798371258539477.\u001b[0m\n",
      "/opt/anaconda3/envs/data_analytics/lib/python3.9/site-packages/sklearn/metrics/_classification.py:1464: UndefinedMetricWarning: F-score is ill-defined and being set to 0.0 in labels with no true nor predicted samples. Use `zero_division` parameter to control this behavior.\n",
      "  _warn_prf(\n",
      "\u001b[32m[I 2022-04-11 03:13:48,934]\u001b[0m Trial 114 finished with value: 0.8756682283064376 and parameters: {'c1': 0.00557959827573639, 'c2': 0.00040177209390686666}. Best is trial 102 with value: 0.8798371258539477.\u001b[0m\n",
      "/opt/anaconda3/envs/data_analytics/lib/python3.9/site-packages/sklearn/metrics/_classification.py:1464: UndefinedMetricWarning: F-score is ill-defined and being set to 0.0 in labels with no true nor predicted samples. Use `zero_division` parameter to control this behavior.\n",
      "  _warn_prf(\n",
      "\u001b[32m[I 2022-04-11 03:20:42,079]\u001b[0m Trial 117 finished with value: 0.8688169626765362 and parameters: {'c1': 0.0005523099070576145, 'c2': 0.0004086559880215484}. Best is trial 102 with value: 0.8798371258539477.\u001b[0m\n",
      "\u001b[32m[I 2022-04-11 03:21:07,678]\u001b[0m Trial 115 finished with value: 0.8766195840054744 and parameters: {'c1': 0.006096280413470972, 'c2': 0.00039587970045452074}. Best is trial 102 with value: 0.8798371258539477.\u001b[0m\n",
      "\u001b[32m[I 2022-04-11 03:24:02,201]\u001b[0m Trial 116 finished with value: 0.8762975104615297 and parameters: {'c1': 0.006054159482857967, 'c2': 0.0003954194969310657}. Best is trial 102 with value: 0.8798371258539477.\u001b[0m\n",
      "\u001b[32m[I 2022-04-11 03:27:25,741]\u001b[0m Trial 118 finished with value: 0.8760693463549349 and parameters: {'c1': 0.005635388683800543, 'c2': 0.00043663161417156}. Best is trial 102 with value: 0.8798371258539477.\u001b[0m\n",
      "\u001b[32m[I 2022-04-11 03:32:07,780]\u001b[0m Trial 121 finished with value: 0.872992565401266 and parameters: {'c1': 0.0009719226760790777, 'c2': 0.0004280589245334753}. Best is trial 102 with value: 0.8798371258539477.\u001b[0m\n",
      "\u001b[32m[I 2022-04-11 03:34:03,168]\u001b[0m Trial 119 finished with value: 0.8760693463549349 and parameters: {'c1': 0.005096810054640704, 'c2': 0.0004276625091933592}. Best is trial 102 with value: 0.8798371258539477.\u001b[0m\n",
      "\u001b[32m[I 2022-04-11 03:34:20,073]\u001b[0m Trial 120 finished with value: 0.8760693463549349 and parameters: {'c1': 0.0052243604382956905, 'c2': 0.0004316890159631989}. Best is trial 102 with value: 0.8798371258539477.\u001b[0m\n",
      "/opt/anaconda3/envs/data_analytics/lib/python3.9/site-packages/sklearn/metrics/_classification.py:1464: UndefinedMetricWarning: F-score is ill-defined and being set to 0.0 in labels with no true nor predicted samples. Use `zero_division` parameter to control this behavior.\n",
      "  _warn_prf(\n",
      "\u001b[32m[I 2022-04-11 03:48:54,234]\u001b[0m Trial 122 finished with value: 0.8779744334170984 and parameters: {'c1': 0.004710270062053241, 'c2': 0.00018659984234307582}. Best is trial 102 with value: 0.8798371258539477.\u001b[0m\n",
      "\u001b[32m[I 2022-04-11 03:51:55,639]\u001b[0m Trial 124 finished with value: 0.8782675135658418 and parameters: {'c1': 0.0009594107849614737, 'c2': 0.00026291102079821824}. Best is trial 102 with value: 0.8798371258539477.\u001b[0m\n",
      "/opt/anaconda3/envs/data_analytics/lib/python3.9/site-packages/sklearn/metrics/_classification.py:1464: UndefinedMetricWarning: F-score is ill-defined and being set to 0.0 in labels with no true nor predicted samples. Use `zero_division` parameter to control this behavior.\n",
      "  _warn_prf(\n",
      "\u001b[32m[I 2022-04-11 03:53:20,814]\u001b[0m Trial 123 finished with value: 0.8794568640563499 and parameters: {'c1': 0.0010067586020685118, 'c2': 0.00021043054921761724}. Best is trial 102 with value: 0.8798371258539477.\u001b[0m\n",
      "\u001b[32m[I 2022-04-11 03:53:56,426]\u001b[0m Trial 131 finished with value: 0.08824363226463552 and parameters: {'c1': 199.25096160923624, 'c2': 0.00013828342482836907}. Best is trial 102 with value: 0.8798371258539477.\u001b[0m\n",
      "/opt/anaconda3/envs/data_analytics/lib/python3.9/site-packages/sklearn/metrics/_classification.py:1464: UndefinedMetricWarning: F-score is ill-defined and being set to 0.0 in labels with no true nor predicted samples. Use `zero_division` parameter to control this behavior.\n",
      "  _warn_prf(\n",
      "\u001b[32m[I 2022-04-11 03:57:40,158]\u001b[0m Trial 125 finished with value: 0.8794310117335724 and parameters: {'c1': 0.0007406886090582511, 'c2': 0.0001965645876368458}. Best is trial 102 with value: 0.8798371258539477.\u001b[0m\n",
      "\u001b[32m[I 2022-04-11 03:57:55,361]\u001b[0m Trial 126 finished with value: 0.8797910128807537 and parameters: {'c1': 0.001003055985474921, 'c2': 0.00018824702142107626}. Best is trial 102 with value: 0.8798371258539477.\u001b[0m\n",
      "\u001b[32m[I 2022-04-11 04:22:55,951]\u001b[0m Trial 127 finished with value: 0.8786976245427663 and parameters: {'c1': 0.0054090919706355324, 'c2': 0.00018070066668941784}. Best is trial 102 with value: 0.8798371258539477.\u001b[0m\n",
      "\u001b[32m[I 2022-04-11 04:26:31,286]\u001b[0m Trial 128 finished with value: 0.8798371258539477 and parameters: {'c1': 0.0009890199981230814, 'c2': 0.000205900594926283}. Best is trial 102 with value: 0.8798371258539477.\u001b[0m\n",
      "/opt/anaconda3/envs/data_analytics/lib/python3.9/site-packages/sklearn/metrics/_classification.py:1464: UndefinedMetricWarning: F-score is ill-defined and being set to 0.0 in labels with no true nor predicted samples. Use `zero_division` parameter to control this behavior.\n",
      "  _warn_prf(\n",
      "\u001b[32m[I 2022-04-11 04:29:49,739]\u001b[0m Trial 129 finished with value: 0.8776556732397889 and parameters: {'c1': 0.0024846021347028667, 'c2': 0.00019719792877396085}. Best is trial 102 with value: 0.8798371258539477.\u001b[0m\n",
      "/opt/anaconda3/envs/data_analytics/lib/python3.9/site-packages/sklearn/metrics/_classification.py:1464: UndefinedMetricWarning: F-score is ill-defined and being set to 0.0 in labels with no true nor predicted samples. Use `zero_division` parameter to control this behavior.\n",
      "  _warn_prf(\n",
      "\u001b[32m[I 2022-04-11 04:42:34,410]\u001b[0m Trial 130 finished with value: 0.8789554948264711 and parameters: {'c1': 0.001991677313623599, 'c2': 0.00020442980431808485}. Best is trial 102 with value: 0.8798371258539477.\u001b[0m\n",
      "\u001b[32m[I 2022-04-11 04:42:58,775]\u001b[0m Trial 135 finished with value: 0.8732072139819602 and parameters: {'c1': 0.00024875212159959637, 'c2': 0.0001917583088611059}. Best is trial 102 with value: 0.8798371258539477.\u001b[0m\n",
      "\u001b[32m[I 2022-04-11 04:43:18,034]\u001b[0m Trial 134 finished with value: 0.8732072139819602 and parameters: {'c1': 0.00027007485284622434, 'c2': 0.00018345581901296708}. Best is trial 102 with value: 0.8798371258539477.\u001b[0m\n",
      "\u001b[32m[I 2022-04-11 04:45:03,267]\u001b[0m Trial 133 finished with value: 0.8787659032687181 and parameters: {'c1': 0.0011332593622019882, 'c2': 0.0001597833857495872}. Best is trial 102 with value: 0.8798371258539477.\u001b[0m\n",
      "/opt/anaconda3/envs/data_analytics/lib/python3.9/site-packages/sklearn/metrics/_classification.py:1464: UndefinedMetricWarning: F-score is ill-defined and being set to 0.0 in labels with no true nor predicted samples. Use `zero_division` parameter to control this behavior.\n",
      "  _warn_prf(\n",
      "\u001b[32m[I 2022-04-11 04:45:23,241]\u001b[0m Trial 132 finished with value: 0.8793631633238161 and parameters: {'c1': 0.0010480209353148353, 'c2': 0.0001762570011129525}. Best is trial 102 with value: 0.8798371258539477.\u001b[0m\n",
      "/opt/anaconda3/envs/data_analytics/lib/python3.9/site-packages/sklearn/metrics/_classification.py:1464: UndefinedMetricWarning: F-score is ill-defined and being set to 0.0 in labels with no true nor predicted samples. Use `zero_division` parameter to control this behavior.\n",
      "  _warn_prf(\n",
      "\u001b[32m[I 2022-04-11 04:52:17,897]\u001b[0m Trial 136 finished with value: 0.8728810885937952 and parameters: {'c1': 0.0004183008932244941, 'c2': 0.00017187389028598983}. Best is trial 102 with value: 0.8798371258539477.\u001b[0m\n",
      "\u001b[32m[I 2022-04-11 04:58:36,003]\u001b[0m Trial 138 finished with value: 0.8737150597333626 and parameters: {'c1': 0.000314480027824517, 'c2': 0.00018036513554665472}. Best is trial 102 with value: 0.8798371258539477.\u001b[0m\n",
      "\u001b[32m[I 2022-04-11 04:58:52,327]\u001b[0m Trial 137 finished with value: 0.8714675748872447 and parameters: {'c1': 0.0004615818718332624, 'c2': 0.00019913286858927194}. Best is trial 102 with value: 0.8798371258539477.\u001b[0m\n",
      "/opt/anaconda3/envs/data_analytics/lib/python3.9/site-packages/sklearn/metrics/_classification.py:1464: UndefinedMetricWarning: F-score is ill-defined and being set to 0.0 in labels with no true nor predicted samples. Use `zero_division` parameter to control this behavior.\n",
      "  _warn_prf(\n",
      "\u001b[32m[I 2022-04-11 05:00:32,328]\u001b[0m Trial 146 finished with value: 0.0 and parameters: {'c1': 0.0009888782713067576, 'c2': 729.4940019464048}. Best is trial 102 with value: 0.8798371258539477.\u001b[0m\n",
      "/opt/anaconda3/envs/data_analytics/lib/python3.9/site-packages/sklearn/metrics/_classification.py:1464: UndefinedMetricWarning: F-score is ill-defined and being set to 0.0 in labels with no true nor predicted samples. Use `zero_division` parameter to control this behavior.\n",
      "  _warn_prf(\n",
      "\u001b[32m[I 2022-04-11 05:13:10,439]\u001b[0m Trial 139 finished with value: 0.8727875373393733 and parameters: {'c1': 0.0002775377037370504, 'c2': 0.0001900891495963828}. Best is trial 102 with value: 0.8798371258539477.\u001b[0m\n",
      "/opt/anaconda3/envs/data_analytics/lib/python3.9/site-packages/sklearn/metrics/_classification.py:1464: UndefinedMetricWarning: F-score is ill-defined and being set to 0.0 in labels with no true nor predicted samples. Use `zero_division` parameter to control this behavior.\n",
      "  _warn_prf(\n",
      "\u001b[32m[I 2022-04-11 05:15:29,347]\u001b[0m Trial 140 finished with value: 0.875031849888412 and parameters: {'c1': 0.00045262573185955317, 'c2': 0.0001726984921119389}. Best is trial 102 with value: 0.8798371258539477.\u001b[0m\n",
      "\u001b[32m[I 2022-04-11 05:15:32,342]\u001b[0m Trial 143 finished with value: 0.8787733464870515 and parameters: {'c1': 0.0004073855398214805, 'c2': 0.00012886570406654045}. Best is trial 102 with value: 0.8798371258539477.\u001b[0m\n",
      "\u001b[32m[I 2022-04-11 05:17:31,321]\u001b[0m Trial 142 finished with value: 0.8813393868839929 and parameters: {'c1': 0.0004498010593939451, 'c2': 0.00010777646935350476}. Best is trial 142 with value: 0.8813393868839929.\u001b[0m\n",
      "/opt/anaconda3/envs/data_analytics/lib/python3.9/site-packages/sklearn/metrics/_classification.py:1464: UndefinedMetricWarning: F-score is ill-defined and being set to 0.0 in labels with no true nor predicted samples. Use `zero_division` parameter to control this behavior.\n",
      "  _warn_prf(\n",
      "\u001b[32m[I 2022-04-11 05:20:53,392]\u001b[0m Trial 141 finished with value: 0.8801235513511522 and parameters: {'c1': 0.001130805889195541, 'c2': 0.0001009800442442307}. Best is trial 142 with value: 0.8813393868839929.\u001b[0m\n",
      "/opt/anaconda3/envs/data_analytics/lib/python3.9/site-packages/sklearn/metrics/_classification.py:1464: UndefinedMetricWarning: F-score is ill-defined and being set to 0.0 in labels with no true nor predicted samples. Use `zero_division` parameter to control this behavior.\n",
      "  _warn_prf(\n",
      "\u001b[32m[I 2022-04-11 05:28:48,227]\u001b[0m Trial 144 finished with value: 0.8796101605489307 and parameters: {'c1': 0.0010841788044449673, 'c2': 0.00011766303883429415}. Best is trial 142 with value: 0.8813393868839929.\u001b[0m\n",
      "/opt/anaconda3/envs/data_analytics/lib/python3.9/site-packages/sklearn/metrics/_classification.py:1464: UndefinedMetricWarning: F-score is ill-defined and being set to 0.0 in labels with no true nor predicted samples. Use `zero_division` parameter to control this behavior.\n",
      "  _warn_prf(\n",
      "\u001b[32m[I 2022-04-11 05:34:42,447]\u001b[0m Trial 145 finished with value: 0.8796101605489307 and parameters: {'c1': 0.001009755423072089, 'c2': 0.0001143435048564171}. Best is trial 142 with value: 0.8813393868839929.\u001b[0m\n",
      "/opt/anaconda3/envs/data_analytics/lib/python3.9/site-packages/sklearn/metrics/_classification.py:1464: UndefinedMetricWarning: F-score is ill-defined and being set to 0.0 in labels with no true nor predicted samples. Use `zero_division` parameter to control this behavior.\n",
      "  _warn_prf(\n",
      "\u001b[32m[I 2022-04-11 05:39:57,829]\u001b[0m Trial 147 finished with value: 0.8796101605489307 and parameters: {'c1': 0.0008204295233557113, 'c2': 0.00011724491399182528}. Best is trial 142 with value: 0.8813393868839929.\u001b[0m\n",
      "\u001b[32m[I 2022-04-11 06:26:43,676]\u001b[0m Trial 149 finished with value: 0.8809511320674244 and parameters: {'c1': 0.0006718148431702837, 'c2': 0.0001073650534682583}. Best is trial 142 with value: 0.8813393868839929.\u001b[0m\n",
      "\u001b[32m[I 2022-04-11 06:27:43,547]\u001b[0m Trial 150 finished with value: 0.8809511320674244 and parameters: {'c1': 0.0007053116754046944, 'c2': 0.00012629683035813332}. Best is trial 142 with value: 0.8813393868839929.\u001b[0m\n",
      "\u001b[32m[I 2022-04-11 06:27:56,946]\u001b[0m Trial 148 finished with value: 0.8809511320674244 and parameters: {'c1': 0.0006272664170527053, 'c2': 0.00010538991436564872}. Best is trial 142 with value: 0.8813393868839929.\u001b[0m\n",
      "/opt/anaconda3/envs/data_analytics/lib/python3.9/site-packages/sklearn/metrics/_classification.py:1464: UndefinedMetricWarning: F-score is ill-defined and being set to 0.0 in labels with no true nor predicted samples. Use `zero_division` parameter to control this behavior.\n",
      "  _warn_prf(\n",
      "\u001b[32m[I 2022-04-11 06:31:08,421]\u001b[0m Trial 151 finished with value: 0.8797038612814644 and parameters: {'c1': 0.0007247157823678859, 'c2': 0.000103291143460988}. Best is trial 142 with value: 0.8813393868839929.\u001b[0m\n",
      "\u001b[32m[I 2022-04-11 06:33:52,346]\u001b[0m Trial 152 finished with value: 0.8796101605489307 and parameters: {'c1': 0.0007419693470666664, 'c2': 0.00010078021133097612}. Best is trial 142 with value: 0.8813393868839929.\u001b[0m\n",
      "/opt/anaconda3/envs/data_analytics/lib/python3.9/site-packages/sklearn/metrics/_classification.py:1464: UndefinedMetricWarning: F-score is ill-defined and being set to 0.0 in labels with no true nor predicted samples. Use `zero_division` parameter to control this behavior.\n",
      "  _warn_prf(\n",
      "\u001b[32m[I 2022-04-11 06:44:50,553]\u001b[0m Trial 153 finished with value: 0.8797038612814644 and parameters: {'c1': 0.0007485775825095295, 'c2': 0.00010521544114013431}. Best is trial 142 with value: 0.8813393868839929.\u001b[0m\n",
      "/opt/anaconda3/envs/data_analytics/lib/python3.9/site-packages/sklearn/metrics/_classification.py:1464: UndefinedMetricWarning: F-score is ill-defined and being set to 0.0 in labels with no true nor predicted samples. Use `zero_division` parameter to control this behavior.\n",
      "  _warn_prf(\n",
      "\u001b[32m[I 2022-04-11 06:48:40,267]\u001b[0m Trial 154 finished with value: 0.8796160015478277 and parameters: {'c1': 0.0010789807580764007, 'c2': 0.0001008281051848811}. Best is trial 142 with value: 0.8813393868839929.\u001b[0m\n",
      "/opt/anaconda3/envs/data_analytics/lib/python3.9/site-packages/sklearn/metrics/_classification.py:1464: UndefinedMetricWarning: F-score is ill-defined and being set to 0.0 in labels with no true nor predicted samples. Use `zero_division` parameter to control this behavior.\n",
      "  _warn_prf(\n",
      "\u001b[32m[I 2022-04-11 06:53:56,583]\u001b[0m Trial 155 finished with value: 0.8809511320674244 and parameters: {'c1': 0.0006238053376281244, 'c2': 0.00010149417736298498}. Best is trial 142 with value: 0.8813393868839929.\u001b[0m\n",
      "\u001b[32m[I 2022-04-11 06:59:15,833]\u001b[0m Trial 156 finished with value: 0.8796509893688353 and parameters: {'c1': 0.0006524166190362433, 'c2': 0.00011607845632909166}. Best is trial 142 with value: 0.8813393868839929.\u001b[0m\n",
      "\u001b[32m[I 2022-04-11 06:59:41,273]\u001b[0m Trial 157 finished with value: 0.8800967932473391 and parameters: {'c1': 0.0007144938814671158, 'c2': 0.00010723901653451834}. Best is trial 142 with value: 0.8813393868839929.\u001b[0m\n",
      "\u001b[32m[I 2022-04-11 07:01:54,650]\u001b[0m Trial 158 finished with value: 0.8803230681615408 and parameters: {'c1': 0.0006827468206452702, 'c2': 0.00010473785838827677}. Best is trial 142 with value: 0.8813393868839929.\u001b[0m\n",
      "/opt/anaconda3/envs/data_analytics/lib/python3.9/site-packages/sklearn/metrics/_classification.py:1464: UndefinedMetricWarning: F-score is ill-defined and being set to 0.0 in labels with no true nor predicted samples. Use `zero_division` parameter to control this behavior.\n",
      "  _warn_prf(\n",
      "\u001b[32m[I 2022-04-11 07:03:43,523]\u001b[0m Trial 159 finished with value: 0.8809511320674244 and parameters: {'c1': 0.0006154713116215495, 'c2': 0.0001049329473483599}. Best is trial 142 with value: 0.8813393868839929.\u001b[0m\n",
      "/opt/anaconda3/envs/data_analytics/lib/python3.9/site-packages/sklearn/metrics/_classification.py:1464: UndefinedMetricWarning: F-score is ill-defined and being set to 0.0 in labels with no true nor predicted samples. Use `zero_division` parameter to control this behavior.\n",
      "  _warn_prf(\n",
      "\u001b[32m[I 2022-04-11 07:08:34,658]\u001b[0m Trial 160 finished with value: 0.8802293674290069 and parameters: {'c1': 0.0006930744178303441, 'c2': 0.00010644091159919979}. Best is trial 142 with value: 0.8813393868839929.\u001b[0m\n",
      "/opt/anaconda3/envs/data_analytics/lib/python3.9/site-packages/sklearn/metrics/_classification.py:1464: UndefinedMetricWarning: F-score is ill-defined and being set to 0.0 in labels with no true nor predicted samples. Use `zero_division` parameter to control this behavior.\n",
      "  _warn_prf(\n",
      "\u001b[32m[I 2022-04-11 07:18:22,588]\u001b[0m Trial 161 finished with value: 0.8802293674290069 and parameters: {'c1': 0.0006759714186743852, 'c2': 0.0001049212948354545}. Best is trial 142 with value: 0.8813393868839929.\u001b[0m\n",
      "/opt/anaconda3/envs/data_analytics/lib/python3.9/site-packages/sklearn/metrics/_classification.py:1464: UndefinedMetricWarning: F-score is ill-defined and being set to 0.0 in labels with no true nor predicted samples. Use `zero_division` parameter to control this behavior.\n",
      "  _warn_prf(\n",
      "\u001b[32m[I 2022-04-11 07:20:01,420]\u001b[0m Trial 162 finished with value: 0.8809511320674244 and parameters: {'c1': 0.0005965728548230287, 'c2': 0.00010263370772516907}. Best is trial 142 with value: 0.8813393868839929.\u001b[0m\n",
      "\u001b[32m[I 2022-04-11 07:20:05,791]\u001b[0m Trial 163 finished with value: 0.8750528696837524 and parameters: {'c1': 0.00017118517183918993, 'c2': 0.00010003558893514364}. Best is trial 142 with value: 0.8813393868839929.\u001b[0m\n",
      "/opt/anaconda3/envs/data_analytics/lib/python3.9/site-packages/sklearn/metrics/_classification.py:1464: UndefinedMetricWarning: F-score is ill-defined and being set to 0.0 in labels with no true nor predicted samples. Use `zero_division` parameter to control this behavior.\n",
      "  _warn_prf(\n",
      "\u001b[32m[I 2022-04-11 07:26:36,809]\u001b[0m Trial 164 finished with value: 0.8741009110732572 and parameters: {'c1': 0.00019778868489370301, 'c2': 0.00010186712305621347}. Best is trial 142 with value: 0.8813393868839929.\u001b[0m\n",
      "\u001b[32m[I 2022-04-11 07:26:51,877]\u001b[0m Trial 165 finished with value: 0.8731585923982144 and parameters: {'c1': 0.00016109128253104615, 'c2': 0.00010199745821435544}. Best is trial 142 with value: 0.8813393868839929.\u001b[0m\n",
      "/opt/anaconda3/envs/data_analytics/lib/python3.9/site-packages/sklearn/metrics/_classification.py:1464: UndefinedMetricWarning: F-score is ill-defined and being set to 0.0 in labels with no true nor predicted samples. Use `zero_division` parameter to control this behavior.\n",
      "  _warn_prf(\n",
      "\u001b[32m[I 2022-04-11 07:29:47,589]\u001b[0m Trial 173 finished with value: 0.7440243699013815 and parameters: {'c1': 0.0005890868534897465, 'c2': 6.379878104534984}. Best is trial 142 with value: 0.8813393868839929.\u001b[0m\n",
      "\u001b[32m[I 2022-04-11 07:30:39,816]\u001b[0m Trial 166 finished with value: 0.8800945304695329 and parameters: {'c1': 0.0006245571959888353, 'c2': 0.00012664126859690444}. Best is trial 142 with value: 0.8813393868839929.\u001b[0m\n",
      "/opt/anaconda3/envs/data_analytics/lib/python3.9/site-packages/sklearn/metrics/_classification.py:1464: UndefinedMetricWarning: F-score is ill-defined and being set to 0.0 in labels with no true nor predicted samples. Use `zero_division` parameter to control this behavior.\n",
      "  _warn_prf(\n",
      "\u001b[32m[I 2022-04-11 07:40:19,641]\u001b[0m Trial 168 finished with value: 0.8727675777399238 and parameters: {'c1': 0.00019672532832992322, 'c2': 0.00011032700995326943}. Best is trial 142 with value: 0.8813393868839929.\u001b[0m\n",
      "/opt/anaconda3/envs/data_analytics/lib/python3.9/site-packages/sklearn/metrics/_classification.py:1464: UndefinedMetricWarning: F-score is ill-defined and being set to 0.0 in labels with no true nor predicted samples. Use `zero_division` parameter to control this behavior.\n",
      "  _warn_prf(\n",
      "\u001b[32m[I 2022-04-11 07:42:29,235]\u001b[0m Trial 167 finished with value: 0.8810282021268409 and parameters: {'c1': 0.0006568648699344823, 'c2': 0.00010453046579589636}. Best is trial 142 with value: 0.8813393868839929.\u001b[0m\n",
      "/opt/anaconda3/envs/data_analytics/lib/python3.9/site-packages/sklearn/metrics/_classification.py:1464: UndefinedMetricWarning: F-score is ill-defined and being set to 0.0 in labels with no true nor predicted samples. Use `zero_division` parameter to control this behavior.\n",
      "  _warn_prf(\n",
      "\u001b[32m[I 2022-04-11 07:52:18,527]\u001b[0m Trial 169 finished with value: 0.8729633817176676 and parameters: {'c1': 0.00019468732517980163, 'c2': 0.00011974128018347706}. Best is trial 142 with value: 0.8813393868839929.\u001b[0m\n",
      "\u001b[32m[I 2022-04-11 07:52:18,787]\u001b[0m Trial 170 finished with value: 0.8727675777399238 and parameters: {'c1': 0.000193910094726136, 'c2': 0.00010679625434613131}. Best is trial 142 with value: 0.8813393868839929.\u001b[0m\n",
      "/opt/anaconda3/envs/data_analytics/lib/python3.9/site-packages/sklearn/metrics/_classification.py:1464: UndefinedMetricWarning: F-score is ill-defined and being set to 0.0 in labels with no true nor predicted samples. Use `zero_division` parameter to control this behavior.\n",
      "  _warn_prf(\n",
      "\u001b[32m[I 2022-04-11 07:58:15,810]\u001b[0m Trial 171 finished with value: 0.8807367397210643 and parameters: {'c1': 0.0005237156552353302, 'c2': 0.00010715062508320594}. Best is trial 142 with value: 0.8813393868839929.\u001b[0m\n",
      "/opt/anaconda3/envs/data_analytics/lib/python3.9/site-packages/sklearn/metrics/_classification.py:1464: UndefinedMetricWarning: F-score is ill-defined and being set to 0.0 in labels with no true nor predicted samples. Use `zero_division` parameter to control this behavior.\n",
      "  _warn_prf(\n",
      "\u001b[32m[I 2022-04-11 08:03:39,719]\u001b[0m Trial 175 finished with value: 0.8735672004619621 and parameters: {'c1': 0.00034813390926176287, 'c2': 0.00025558793131936076}. Best is trial 142 with value: 0.8813393868839929.\u001b[0m\n",
      "\u001b[32m[I 2022-04-11 08:07:30,361]\u001b[0m Trial 172 finished with value: 0.8800945304695329 and parameters: {'c1': 0.0005977377273701767, 'c2': 0.00010160658857200452}. Best is trial 142 with value: 0.8813393868839929.\u001b[0m\n",
      "/opt/anaconda3/envs/data_analytics/lib/python3.9/site-packages/sklearn/metrics/_classification.py:1464: UndefinedMetricWarning: F-score is ill-defined and being set to 0.0 in labels with no true nor predicted samples. Use `zero_division` parameter to control this behavior.\n",
      "  _warn_prf(\n",
      "\u001b[32m[I 2022-04-11 08:11:15,195]\u001b[0m Trial 176 finished with value: 0.8784317544443143 and parameters: {'c1': 0.0015491283215964423, 'c2': 0.00024709290400319855}. Best is trial 142 with value: 0.8813393868839929.\u001b[0m\n",
      "/opt/anaconda3/envs/data_analytics/lib/python3.9/site-packages/sklearn/metrics/_classification.py:1464: UndefinedMetricWarning: F-score is ill-defined and being set to 0.0 in labels with no true nor predicted samples. Use `zero_division` parameter to control this behavior.\n",
      "  _warn_prf(\n",
      "\u001b[32m[I 2022-04-11 08:12:47,077]\u001b[0m Trial 182 finished with value: 0.8416956680145464 and parameters: {'c1': 0.001550396828556479, 'c2': 0.5570782601918018}. Best is trial 142 with value: 0.8813393868839929.\u001b[0m\n",
      "\u001b[32m[I 2022-04-11 08:14:15,921]\u001b[0m Trial 177 finished with value: 0.8793631633238161 and parameters: {'c1': 0.001444594645908924, 'c2': 0.00025932202375029956}. Best is trial 142 with value: 0.8813393868839929.\u001b[0m\n",
      "\u001b[32m[I 2022-04-11 08:14:38,361]\u001b[0m Trial 174 finished with value: 0.8792156326185976 and parameters: {'c1': 0.0016869815434608368, 'c2': 0.00013808850616134165}. Best is trial 142 with value: 0.8813393868839929.\u001b[0m\n",
      "/opt/anaconda3/envs/data_analytics/lib/python3.9/site-packages/sklearn/metrics/_classification.py:1464: UndefinedMetricWarning: F-score is ill-defined and being set to 0.0 in labels with no true nor predicted samples. Use `zero_division` parameter to control this behavior.\n",
      "  _warn_prf(\n",
      "\u001b[32m[I 2022-04-11 08:24:54,217]\u001b[0m Trial 178 finished with value: 0.8784317544443143 and parameters: {'c1': 0.0016229334754834562, 'c2': 0.00025514780981266566}. Best is trial 142 with value: 0.8813393868839929.\u001b[0m\n",
      "\u001b[32m[I 2022-04-11 08:27:23,533]\u001b[0m Trial 179 finished with value: 0.8784317544443143 and parameters: {'c1': 0.0016950671696391738, 'c2': 0.00025175441898126215}. Best is trial 142 with value: 0.8813393868839929.\u001b[0m\n",
      "/opt/anaconda3/envs/data_analytics/lib/python3.9/site-packages/sklearn/metrics/_classification.py:1464: UndefinedMetricWarning: F-score is ill-defined and being set to 0.0 in labels with no true nor predicted samples. Use `zero_division` parameter to control this behavior.\n",
      "  _warn_prf(\n",
      "\u001b[32m[I 2022-04-11 08:34:02,775]\u001b[0m Trial 180 finished with value: 0.8784317544443143 and parameters: {'c1': 0.0015750091782389592, 'c2': 0.0002543868339023969}. Best is trial 142 with value: 0.8813393868839929.\u001b[0m\n",
      "/opt/anaconda3/envs/data_analytics/lib/python3.9/site-packages/sklearn/metrics/_classification.py:1464: UndefinedMetricWarning: F-score is ill-defined and being set to 0.0 in labels with no true nor predicted samples. Use `zero_division` parameter to control this behavior.\n",
      "  _warn_prf(\n",
      "\u001b[32m[I 2022-04-11 08:35:06,924]\u001b[0m Trial 181 finished with value: 0.8793631633238161 and parameters: {'c1': 0.0015286998820457885, 'c2': 0.0002694254424092958}. Best is trial 142 with value: 0.8813393868839929.\u001b[0m\n",
      "/opt/anaconda3/envs/data_analytics/lib/python3.9/site-packages/sklearn/metrics/_classification.py:1464: UndefinedMetricWarning: F-score is ill-defined and being set to 0.0 in labels with no true nor predicted samples. Use `zero_division` parameter to control this behavior.\n",
      "  _warn_prf(\n",
      "\u001b[32m[I 2022-04-11 08:46:42,313]\u001b[0m Trial 183 finished with value: 0.8798801381231728 and parameters: {'c1': 0.0005521115638046474, 'c2': 0.0001434497820649175}. Best is trial 142 with value: 0.8813393868839929.\u001b[0m\n",
      "/opt/anaconda3/envs/data_analytics/lib/python3.9/site-packages/sklearn/metrics/_classification.py:1464: UndefinedMetricWarning: F-score is ill-defined and being set to 0.0 in labels with no true nor predicted samples. Use `zero_division` parameter to control this behavior.\n",
      "  _warn_prf(\n",
      "\u001b[32m[I 2022-04-11 08:50:12,353]\u001b[0m Trial 184 finished with value: 0.8774487799631941 and parameters: {'c1': 0.0004948341937647109, 'c2': 0.00014111088918024694}. Best is trial 142 with value: 0.8813393868839929.\u001b[0m\n",
      "\u001b[32m[I 2022-04-11 08:50:39,474]\u001b[0m Trial 185 finished with value: 0.8787733464870515 and parameters: {'c1': 0.0005111473177889283, 'c2': 0.00015706666942344195}. Best is trial 142 with value: 0.8813393868839929.\u001b[0m\n",
      "\u001b[32m[I 2022-04-11 08:50:46,202]\u001b[0m Trial 186 finished with value: 0.8798801381231728 and parameters: {'c1': 0.0005425153343834692, 'c2': 0.00014554258031957906}. Best is trial 142 with value: 0.8813393868839929.\u001b[0m\n",
      "/opt/anaconda3/envs/data_analytics/lib/python3.9/site-packages/sklearn/metrics/_classification.py:1464: UndefinedMetricWarning: F-score is ill-defined and being set to 0.0 in labels with no true nor predicted samples. Use `zero_division` parameter to control this behavior.\n",
      "  _warn_prf(\n",
      "\u001b[32m[I 2022-04-11 09:00:41,981]\u001b[0m Trial 187 finished with value: 0.877854040711644 and parameters: {'c1': 0.000502607573960673, 'c2': 0.00015420469255462656}. Best is trial 142 with value: 0.8813393868839929.\u001b[0m\n",
      "\u001b[32m[I 2022-04-11 09:04:22,383]\u001b[0m Trial 188 finished with value: 0.8784328329231353 and parameters: {'c1': 0.0005358344149176885, 'c2': 0.0001534537540807155}. Best is trial 142 with value: 0.8813393868839929.\u001b[0m\n",
      "/opt/anaconda3/envs/data_analytics/lib/python3.9/site-packages/sklearn/metrics/_classification.py:1464: UndefinedMetricWarning: F-score is ill-defined and being set to 0.0 in labels with no true nor predicted samples. Use `zero_division` parameter to control this behavior.\n",
      "  _warn_prf(\n",
      "\u001b[32m[I 2022-04-11 09:11:09,107]\u001b[0m Trial 190 finished with value: 0.8787733464870515 and parameters: {'c1': 0.0004884388090323189, 'c2': 0.00015598791154052265}. Best is trial 142 with value: 0.8813393868839929.\u001b[0m\n",
      "\u001b[32m[I 2022-04-11 09:11:12,755]\u001b[0m Trial 189 finished with value: 0.8802897007621647 and parameters: {'c1': 0.0005534115853123645, 'c2': 0.00015129141372364948}. Best is trial 142 with value: 0.8813393868839929.\u001b[0m\n",
      "/opt/anaconda3/envs/data_analytics/lib/python3.9/site-packages/sklearn/metrics/_classification.py:1464: UndefinedMetricWarning: F-score is ill-defined and being set to 0.0 in labels with no true nor predicted samples. Use `zero_division` parameter to control this behavior.\n",
      "  _warn_prf(\n",
      "\u001b[32m[I 2022-04-11 10:07:01,542]\u001b[0m Trial 191 finished with value: 0.8806302143260808 and parameters: {'c1': 0.0005187492676236839, 'c2': 0.00015232020360935117}. Best is trial 142 with value: 0.8813393868839929.\u001b[0m\n",
      "\u001b[32m[I 2022-04-11 10:07:18,572]\u001b[0m Trial 194 finished with value: 0.8732994756988154 and parameters: {'c1': 0.0003367425166259501, 'c2': 0.00014412128962465513}. Best is trial 142 with value: 0.8813393868839929.\u001b[0m\n",
      "/opt/anaconda3/envs/data_analytics/lib/python3.9/site-packages/sklearn/metrics/_classification.py:1464: UndefinedMetricWarning: F-score is ill-defined and being set to 0.0 in labels with no true nor predicted samples. Use `zero_division` parameter to control this behavior.\n",
      "  _warn_prf(\n",
      "\u001b[32m[I 2022-04-11 11:10:21,388]\u001b[0m Trial 193 finished with value: 0.8802897007621647 and parameters: {'c1': 0.0005892460472746519, 'c2': 0.00014874651007358412}. Best is trial 142 with value: 0.8813393868839929.\u001b[0m\n",
      "\u001b[32m[I 2022-04-11 11:10:23,000]\u001b[0m Trial 192 finished with value: 0.8784328329231353 and parameters: {'c1': 0.0005152295261706308, 'c2': 0.00015319646475135286}. Best is trial 142 with value: 0.8813393868839929.\u001b[0m\n",
      "\u001b[32m[I 2022-04-11 11:55:54,909]\u001b[0m Trial 195 finished with value: 0.872960442385252 and parameters: {'c1': 0.00031810074604261953, 'c2': 0.00014164614329809417}. Best is trial 142 with value: 0.8813393868839929.\u001b[0m\n",
      "\u001b[32m[I 2022-04-11 11:56:40,970]\u001b[0m Trial 196 finished with value: 0.8703591607816463 and parameters: {'c1': 0.0003480524658830704, 'c2': 0.0006422268329064991}. Best is trial 142 with value: 0.8813393868839929.\u001b[0m\n",
      "\u001b[32m[I 2022-04-11 11:59:06,964]\u001b[0m Trial 197 finished with value: 0.8667260439690552 and parameters: {'c1': 0.0002926280072270786, 'c2': 0.0006041999849126318}. Best is trial 142 with value: 0.8813393868839929.\u001b[0m\n",
      "\u001b[32m[I 2022-04-11 11:59:24,359]\u001b[0m Trial 198 finished with value: 0.8739609540123622 and parameters: {'c1': 0.00031634574986062514, 'c2': 0.00015058894432043354}. Best is trial 142 with value: 0.8813393868839929.\u001b[0m\n",
      "\u001b[32m[I 2022-04-11 12:00:49,808]\u001b[0m Trial 199 finished with value: 0.8723817264000292 and parameters: {'c1': 0.0002886189936128339, 'c2': 0.00014259509197567865}. Best is trial 142 with value: 0.8813393868839929.\u001b[0m\n",
      "\u001b[32m[I 2022-04-11 12:00:49,827]\u001b[0m Finished hyperparemeter search!\u001b[0m\n",
      "\u001b[32m[I 2022-04-11 12:00:49,831]\u001b[0m Refitting the estimator using 921 samples...\u001b[0m\n",
      "\u001b[32m[I 2022-04-11 12:01:50,185]\u001b[0m Finished refitting! (elapsed time: 60.352 sec.)\u001b[0m\n"
     ]
    },
    {
     "data": {
      "text/plain": [
       "OptunaSearchCV(estimator=CRF(keep_tempfiles=None), n_jobs=-1, n_trials=200,\n",
       "               param_distributions={'c1': LogUniformDistribution(high=10000.0, low=0.0001),\n",
       "                                    'c2': LogUniformDistribution(high=10000.0, low=0.0001)},\n",
       "               random_state=73,\n",
       "               scoring=make_scorer(flat_f1_score, average=weighted, labels=['I-PER', 'I-ORG', 'I-LOC', 'I-MISC']),\n",
       "               study=<optuna.study.study.Study object at 0x176aee8e0>,\n",
       "               verbose=1)"
      ]
     },
     "execution_count": 15,
     "metadata": {},
     "output_type": "execute_result"
    }
   ],
   "source": [
    "sampler = optuna.samplers.TPESampler(seed=p.RANDOM_STATE)\n",
    "study = optuna.create_study(sampler = sampler, direction = 'maximize', study_name = 'NER_HyperParam_CV')\n",
    "\n",
    "oscv_params = {\n",
    "    'c1' : optuna.distributions.LogUniformDistribution(1e-4, 1e4),\n",
    "    'c2' : optuna.distributions.LogUniformDistribution(1e-4, 1e4)\n",
    "}\n",
    "\n",
    "# use the same metric for evaluation\n",
    "f1_scorer = make_scorer(\n",
    "    score_func = flat_f1_score,\n",
    "    average = 'weighted',\n",
    "    labels = labels\n",
    "    )\n",
    "\n",
    "oscv = optuna.integration.OptunaSearchCV(\n",
    "    study = study,\n",
    "    estimator = CRF(),\n",
    "    param_distributions = oscv_params,\n",
    "    cv = 5,\n",
    "    n_jobs = -1,\n",
    "    n_trials = 200,\n",
    "    random_state = p.RANDOM_STATE,\n",
    "    refit = True,\n",
    "    scoring = f1_scorer,\n",
    "    verbose = 1\n",
    ")\n",
    "\n",
    "oscv.fit(X_train, train_labels_ner)"
   ]
  },
  {
   "cell_type": "code",
   "execution_count": 84,
   "metadata": {},
   "outputs": [
    {
     "name": "stdout",
     "output_type": "stream",
     "text": [
      "Fitting 3 folds for each of 50 candidates, totalling 150 fits\n"
     ]
    },
    {
     "name": "stderr",
     "output_type": "stream",
     "text": [
      "[Parallel(n_jobs=-1)]: Using backend LokyBackend with 8 concurrent workers.\n",
      "/opt/anaconda3/envs/data_analytics/lib/python3.9/site-packages/sklearn/base.py:209: FutureWarning: From version 0.24, get_params will raise an AttributeError if a parameter cannot be retrieved as an instance attribute. Previously it would return None.\n",
      "  warnings.warn('From version 0.24, get_params will raise an '\n",
      "/opt/anaconda3/envs/data_analytics/lib/python3.9/site-packages/sklearn/base.py:209: FutureWarning: From version 0.24, get_params will raise an AttributeError if a parameter cannot be retrieved as an instance attribute. Previously it would return None.\n",
      "  warnings.warn('From version 0.24, get_params will raise an '\n",
      "/opt/anaconda3/envs/data_analytics/lib/python3.9/site-packages/sklearn/base.py:209: FutureWarning: From version 0.24, get_params will raise an AttributeError if a parameter cannot be retrieved as an instance attribute. Previously it would return None.\n",
      "  warnings.warn('From version 0.24, get_params will raise an '\n",
      "/opt/anaconda3/envs/data_analytics/lib/python3.9/site-packages/sklearn/base.py:209: FutureWarning: From version 0.24, get_params will raise an AttributeError if a parameter cannot be retrieved as an instance attribute. Previously it would return None.\n",
      "  warnings.warn('From version 0.24, get_params will raise an '\n",
      "/opt/anaconda3/envs/data_analytics/lib/python3.9/site-packages/sklearn/base.py:209: FutureWarning: From version 0.24, get_params will raise an AttributeError if a parameter cannot be retrieved as an instance attribute. Previously it would return None.\n",
      "  warnings.warn('From version 0.24, get_params will raise an '\n",
      "/opt/anaconda3/envs/data_analytics/lib/python3.9/site-packages/sklearn/base.py:209: FutureWarning: From version 0.24, get_params will raise an AttributeError if a parameter cannot be retrieved as an instance attribute. Previously it would return None.\n",
      "  warnings.warn('From version 0.24, get_params will raise an '\n",
      "/opt/anaconda3/envs/data_analytics/lib/python3.9/site-packages/sklearn/base.py:209: FutureWarning: From version 0.24, get_params will raise an AttributeError if a parameter cannot be retrieved as an instance attribute. Previously it would return None.\n",
      "  warnings.warn('From version 0.24, get_params will raise an '\n",
      "/opt/anaconda3/envs/data_analytics/lib/python3.9/site-packages/sklearn/base.py:209: FutureWarning: From version 0.24, get_params will raise an AttributeError if a parameter cannot be retrieved as an instance attribute. Previously it would return None.\n",
      "  warnings.warn('From version 0.24, get_params will raise an '\n",
      "[Parallel(n_jobs=-1)]: Done  34 tasks      | elapsed:   44.2s\n",
      "[Parallel(n_jobs=-1)]: Done 150 out of 150 | elapsed:  3.8min finished\n"
     ]
    },
    {
     "data": {
      "text/plain": [
       "RandomizedSearchCV(cv=3, estimator=CRF(keep_tempfiles=None), n_iter=50,\n",
       "                   n_jobs=-1,\n",
       "                   param_distributions={'c1': array([1.00000000e-04, 2.15443469e-04, 4.64158883e-04, 1.00000000e-03,\n",
       "       2.15443469e-03, 4.64158883e-03, 1.00000000e-02, 2.15443469e-02,\n",
       "       4.64158883e-02, 1.00000000e-01, 2.15443469e-01, 4.64158883e-01,\n",
       "       1.00000000e+00, 2.15443469e+00, 4.64158883e+00, 1.00000000e+0...\n",
       "       4.64158883e-02, 1.00000000e-01, 2.15443469e-01, 4.64158883e-01,\n",
       "       1.00000000e+00, 2.15443469e+00, 4.64158883e+00, 1.00000000e+01,\n",
       "       2.15443469e+01, 4.64158883e+01, 1.00000000e+02, 2.15443469e+02,\n",
       "       4.64158883e+02, 1.00000000e+03, 2.15443469e+03, 4.64158883e+03,\n",
       "       1.00000000e+04])},\n",
       "                   scoring=make_scorer(flat_f1_score, average=weighted, labels=['I-PER', 'I-ORG', 'I-LOC', 'I-MISC']),\n",
       "                   verbose=1)"
      ]
     },
     "execution_count": 84,
     "metadata": {},
     "output_type": "execute_result"
    }
   ],
   "source": [
    "tune_tagger = CRF()\n",
    "\n",
    "rs_params = {\n",
    "    'c1': np.logspace(-4, 4, 25),\n",
    "    'c2': np.logspace(-4, 4, 25),\n",
    "}\n",
    "\n",
    "# use the same metric for evaluation\n",
    "f1_scorer = make_scorer(\n",
    "    score_func = flat_f1_score,\n",
    "    average = 'weighted',\n",
    "    labels = labels\n",
    "    )\n",
    "\n",
    "# search\n",
    "rs = RandomizedSearchCV(\n",
    "    estimator = tune_tagger,\n",
    "    param_distributions = rs_params,\n",
    "    cv = 10,\n",
    "    verbose = 1,\n",
    "    n_jobs = -1,\n",
    "    n_iter = 50,\n",
    "    scoring = f1_scorer\n",
    "    )\n",
    "\n",
    "rs.fit(X_train, train_labels_ner)"
   ]
  },
  {
   "cell_type": "code",
   "execution_count": 123,
   "metadata": {},
   "outputs": [
    {
     "name": "stdout",
     "output_type": "stream",
     "text": [
      "Best Parameters: {'c2': 0.00046415888336127773, 'c1': 0.004641588833612777}\n",
      "Best CV Score: 0.8557275746264251\n"
     ]
    }
   ],
   "source": [
    "print('Best Parameters:', rs.best_params_)\n",
    "print('Best CV Score:', rs.best_score_)"
   ]
  },
  {
   "cell_type": "code",
   "execution_count": 18,
   "metadata": {},
   "outputs": [],
   "source": [
    "tuned_crf = oscv.best_estimator_"
   ]
  },
  {
   "cell_type": "code",
   "execution_count": 19,
   "metadata": {},
   "outputs": [
    {
     "name": "stdout",
     "output_type": "stream",
     "text": [
      "F1 Score (train): 0.9972453099683342\n",
      "F1 Score (test): 0.6839502657885984\n"
     ]
    }
   ],
   "source": [
    "print('F1 Score (train):', flat_f1_score(train_labels_ner, tuned_crf.predict(X_train), average='weighted', labels=labels))\n",
    "print('F1 Score (test):', flat_f1_score(test_labels_ner, tuned_crf.predict(X_test), average='weighted', labels=labels))"
   ]
  },
  {
   "cell_type": "markdown",
   "metadata": {},
   "source": [
    "### Displaying Results"
   ]
  },
  {
   "cell_type": "code",
   "execution_count": 126,
   "metadata": {},
   "outputs": [
    {
     "data": {
      "image/png": "[encoded data removed]",
      "text/plain": [
       "<Figure size 576x576 with 2 Axes>"
      ]
     },
     "metadata": {
      "needs_background": "light"
     },
     "output_type": "display_data"
    }
   ],
   "source": [
    "def create_confusion_matrix(y_true, y_pred, ner_labels):\n",
    "\n",
    "    fig, ax = plt.subplots(1, 1, figsize = (8, 8))\n",
    "\n",
    "    true = [label for sent_list in y_true for label in sent_list]\n",
    "    pred = [label for sent_list in y_pred for label in sent_list]\n",
    "\n",
    "    cm = confusion_matrix(true, pred, ner_labels)\n",
    "\n",
    "    disp = ConfusionMatrixDisplay(confusion_matrix=cm, display_labels=ner_labels)\n",
    "    disp.plot(cmap = 'Blues', ax = ax)\n",
    "\n",
    "    plt.title('Tuned CRF Tagger Confusion Matrix', fontdict={'fontsize' : 18})\n",
    "\n",
    "    plt.show()\n",
    "\n",
    "create_confusion_matrix(\n",
    "    y_pred=tuned_crf.predict(X_val),\n",
    "    y_true=val_labels_ner,\n",
    "    ner_labels = labels\n",
    ")"
   ]
  },
  {
   "cell_type": "markdown",
   "metadata": {},
   "source": [
    "### Feature Importance"
   ]
  },
  {
   "cell_type": "code",
   "execution_count": 130,
   "metadata": {},
   "outputs": [
    {
     "name": "stdout",
     "output_type": "stream",
     "text": [
      "Top positive:\n",
      "13.091088 I-ORG    word_0_lower:bank\n",
      "12.299236 I-PER    word_0_lower:borrower\n",
      "11.672579 I-PER    word_0_lower:lender\n",
      "9.572515 I-ORG    word_0_beg:Biz\n",
      "8.576968 O        bias\n",
      "8.524362 I-ORG    word_0_lower:vringo\n",
      "7.845858 I-LOC    word_0_lower:commonwealth\n",
      "6.755236 I-LOC    word_0_lower:massachusetts\n",
      "6.593633 I-LOC    word_0_lower:northwest\n",
      "6.074537 I-LOC    word_0_lower:east\n",
      "\n",
      "Top negative:\n",
      "-2.894897 O        word_0_beg:Air\n",
      "-3.380172 O        word_0_end3:wer\n",
      "-3.441826 I-LOC    word_1_end2:),\n",
      "-3.537018 O        word_0_end2:an\n",
      "-3.589350 O        word_0_end2:na\n",
      "-3.611924 O        word_1_lower:corporation\n",
      "-3.729980 O        word_0_beg:nor\n",
      "-4.439450 O        word_0_istitle\n",
      "-4.585986 O        word_0_beg:sou\n",
      "-4.810937 O        word_0_postag:NNP\n"
     ]
    }
   ],
   "source": [
    "def print_state_features(state_features):\n",
    "    for (attr, label), weight in state_features:\n",
    "        print(\"%0.6f %-8s %s\" % (weight, label, attr))\n",
    "\n",
    "print(\"Top positive:\")\n",
    "print_state_features(Counter(tuned_crf.state_features_).most_common(10))\n",
    "\n",
    "print(\"\\nTop negative:\")\n",
    "print_state_features(Counter(tuned_crf.state_features_).most_common()[-10:])"
   ]
  }
 ],
 "metadata": {
  "interpreter": {
   "hash": "1c31da5edd4aad8fb53d12d73a780cc43060c0f39f08ff1fc327c1bcdbfa7e83"
  },
  "kernelspec": {
   "display_name": "Python 3.9.10 ('data_analytics')",
   "language": "python",
   "name": "python3"
  },
  "language_info": {
   "codemirror_mode": {
    "name": "ipython",
    "version": 3
   },
   "file_extension": ".py",
   "mimetype": "text/x-python",
   "name": "python",
   "nbconvert_exporter": "python",
   "pygments_lexer": "ipython3",
   "version": "3.9.10"
  },
  "orig_nbformat": 4
 },
 "nbformat": 4,
 "nbformat_minor": 2
}
