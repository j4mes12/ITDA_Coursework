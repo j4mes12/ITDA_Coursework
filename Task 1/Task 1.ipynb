{
 "cells": [
  {
   "cell_type": "markdown",
   "metadata": {},
   "source": [
    "# Task 1 - Sentiment Model"
   ]
  },
  {
   "cell_type": "markdown",
   "metadata": {},
   "source": [
    "## Data Extraction - code from data_loader_demo.ipynb"
   ]
  },
  {
   "cell_type": "code",
   "execution_count": 1,
   "id": "annoying-ethiopia",
   "metadata": {},
   "outputs": [],
   "source": [
    "%load_ext autoreload\n",
    "%autoreload 2\n",
    "\n",
    "import warnings\n",
    "\n",
    "# Use HuggingFace's datasets library to access the financial_phrasebank dataset\n",
    "from datasets import load_dataset\n",
    "from sklearn.model_selection import train_test_split\n",
    "\n",
    "# Exploration\n",
    "import matplotlib.pyplot as plt\n",
    "import seaborn as sns\n",
    "\n",
    "# Feature Engineering\n",
    "import numpy as np\n",
    "import pandas as pd\n",
    "\n",
    "import nltk\n",
    "import re\n",
    "from sklearn.feature_extraction.text import TfidfVectorizer\n",
    "\n",
    "# Modelling\n",
    "import params as p\n",
    "import functions as f\n",
    "\n",
    "from sklearn.linear_model import LogisticRegression, LogisticRegressionCV\n",
    "from sklearn.naive_bayes import MultinomialNB\n",
    "from sklearn.metrics import roc_auc_score, plot_confusion_matrix\n",
    "\n",
    "import optuna"
   ]
  },
  {
   "cell_type": "code",
   "execution_count": 2,
   "metadata": {},
   "outputs": [
    {
     "name": "stderr",
     "output_type": "stream",
     "text": [
      "[nltk_data] Downloading package wordnet to\n",
      "[nltk_data]     /Users/jamesstephenson/nltk_data...\n",
      "[nltk_data]   Package wordnet is already up-to-date!\n",
      "[nltk_data] Downloading package averaged_perceptron_tagger to\n",
      "[nltk_data]     /Users/jamesstephenson/nltk_data...\n",
      "[nltk_data]   Package averaged_perceptron_tagger is already up-to-\n",
      "[nltk_data]       date!\n"
     ]
    },
    {
     "data": {
      "text/plain": [
       "True"
      ]
     },
     "execution_count": 2,
     "metadata": {},
     "output_type": "execute_result"
    }
   ],
   "source": [
    "nltk.download('wordnet')\n",
    "nltk.download('averaged_perceptron_tagger')"
   ]
  },
  {
   "cell_type": "markdown",
   "metadata": {},
   "source": [
    "### Settings"
   ]
  },
  {
   "cell_type": "code",
   "execution_count": 3,
   "metadata": {},
   "outputs": [],
   "source": [
    "warnings.simplefilter(action='ignore', category=FutureWarning)"
   ]
  },
  {
   "cell_type": "markdown",
   "metadata": {},
   "source": [
    "### Import Data"
   ]
  },
  {
   "cell_type": "code",
   "execution_count": 4,
   "id": "a8502fa6",
   "metadata": {},
   "outputs": [
    {
     "name": "stderr",
     "output_type": "stream",
     "text": [
      "Reusing dataset financial_phrasebank (/Users/jamesstephenson/.cache/huggingface/datasets/financial_phrasebank/sentences_50agree/1.0.0/a6d468761d4e0c8ae215c77367e1092bead39deb08fbf4bffd7c0a6991febbf0)\n",
      "100%|██████████| 1/1 [00:00<00:00, 49.78it/s]"
     ]
    },
    {
     "name": "stdout",
     "output_type": "stream",
     "text": [
      "The dataset is a dictionary with two splits: \n",
      "\n",
      "DatasetDict({\n",
      "    train: Dataset({\n",
      "        features: ['sentence', 'label'],\n",
      "        num_rows: 4846\n",
      "    })\n",
      "})\n"
     ]
    },
    {
     "name": "stderr",
     "output_type": "stream",
     "text": [
      "\n"
     ]
    }
   ],
   "source": [
    "# The financial_phrasebank dataset is available in four variations. It has no predefined train/validation/test splits.\n",
    "# Each data point was annotated by 5-8 people, then their annotations were combined. \n",
    "# Each variation of the dataset contains examples with different levels of agreement. \n",
    "# Let's use the one containing all data points where at least 50% of the annotators agreed on the label.\n",
    "dataset = load_dataset(\n",
    "    \"financial_phrasebank\", \n",
    "    'sentences_50agree' # Select variation of the dataset\n",
    ")\n",
    "\n",
    "print(f'The dataset is a dictionary with two splits: \\n\\n{dataset}')"
   ]
  },
  {
   "cell_type": "code",
   "execution_count": 5,
   "id": "ca009bab",
   "metadata": {},
   "outputs": [],
   "source": [
    "# Split test data from training data\n",
    "train_sentences, test_sentences, train_labels, test_labels = train_test_split(\n",
    "    dataset[\"train\"]['sentence'], \n",
    "    dataset[\"train\"]['label'], \n",
    "    test_size=0.2, \n",
    "    stratify=dataset[\"train\"]['label']  # make sure the same proportion of labels is in the test set and training set\n",
    ")"
   ]
  },
  {
   "cell_type": "code",
   "execution_count": 6,
   "id": "7b3af369",
   "metadata": {},
   "outputs": [
    {
     "name": "stdout",
     "output_type": "stream",
     "text": [
      "How many instances in the train dataset? \n",
      "\n",
      "3876\n",
      "\n",
      "What does one instance look like? \n",
      "\n",
      "Only L+ñnnen Tehtaat showed a loss , but it has only recently started streamlining measures .\n"
     ]
    }
   ],
   "source": [
    "# label 0 = negative, 1 = neutral, 2 = positive\n",
    "print(f'How many instances in the train dataset? \\n\\n{len(train_sentences)}')\n",
    "print('')\n",
    "print(f'What does one instance look like? \\n\\n{train_sentences[234]}')"
   ]
  },
  {
   "cell_type": "markdown",
   "id": "b58ea906-8488-43a9-90dd-94695d700d19",
   "metadata": {},
   "source": [
    "It may also be necessary to create a _validation_ set (also called 'development' set or 'devset'). The validation set can be used to compute performance of your model when tuning hyperparameters,  optimising combinations of features, or looking at the errors your model makes before improving it. This allows you to hold out the test set to give a fair evaluation of the model and how well it generalises to new examples. This avoids tuning the model to specifso it gets good performance on the test set examples. "
   ]
  },
  {
   "cell_type": "code",
   "execution_count": 7,
   "id": "3c873dbe-b6a6-41ed-9f03-b52a5e0a85c7",
   "metadata": {},
   "outputs": [],
   "source": [
    "train_sentences, val_sentences, train_labels, val_labels = train_test_split(train_sentences, train_labels, test_size=0.25, stratify=train_labels)\n"
   ]
  },
  {
   "cell_type": "code",
   "execution_count": 8,
   "id": "57d10fa5",
   "metadata": {},
   "outputs": [
    {
     "name": "stdout",
     "output_type": "stream",
     "text": [
      "How many instances in the validation dataset? \n",
      "\n",
      "969\n",
      "\n",
      "How many instances in the test dataset? \n",
      "\n",
      "970\n"
     ]
    }
   ],
   "source": [
    "print(f'How many instances in the validation dataset? \\n\\n{len(val_sentences)}\\n')\n",
    "print(f'How many instances in the test dataset? \\n\\n{len(test_sentences)}')"
   ]
  },
  {
   "cell_type": "markdown",
   "metadata": {},
   "source": [
    "## Data Exploration"
   ]
  },
  {
   "cell_type": "code",
   "execution_count": 9,
   "metadata": {},
   "outputs": [],
   "source": [
    "train = pd.DataFrame({'sentences' : train_sentences, 'labels' : train_labels})"
   ]
  },
  {
   "cell_type": "markdown",
   "metadata": {},
   "source": [
    "### Very Brief Response Analysis"
   ]
  },
  {
   "cell_type": "markdown",
   "metadata": {},
   "source": [
    "Should only need to do this for train due to random split. So would expect to see the same structure for test and val"
   ]
  },
  {
   "cell_type": "code",
   "execution_count": 10,
   "metadata": {},
   "outputs": [
    {
     "data": {
      "image/png": "[encoded data removed]",
      "text/plain": [
       "<Figure size 1080x576 with 1 Axes>"
      ]
     },
     "metadata": {
      "needs_background": "light"
     },
     "output_type": "display_data"
    }
   ],
   "source": [
    "# Make figure and axis\n",
    "fig, ax = plt.subplots(nrows = 1, ncols = 1, figsize = (15, 8))\n",
    "\n",
    "# Create plot of label counts\n",
    "ax = sns.countplot(data = train, x = 'labels').set(title = 'Label Counts for Train Data')\n",
    "\n",
    "# Edit plot to show correct labels\n",
    "plt.xlabel(\"Labels\")\n",
    "plt.ylabel(\"Frequency\")\n",
    "plt.xticks(rotation = 0)\n",
    "\n",
    "# Show Plot\n",
    "plt.show()"
   ]
  },
  {
   "cell_type": "markdown",
   "metadata": {},
   "source": [
    "There is a slight imbalance in labels, but nothing that should be an issue. If we find this is an issue later on, we can perform some over or under sampling."
   ]
  },
  {
   "cell_type": "markdown",
   "metadata": {},
   "source": [
    "# Featuring Engineering"
   ]
  },
  {
   "cell_type": "markdown",
   "metadata": {},
   "source": [
    "### Sentence Processing"
   ]
  },
  {
   "cell_type": "code",
   "execution_count": 11,
   "metadata": {},
   "outputs": [],
   "source": [
    "# Remove some stopwords to capture negation in n-grams if possible\n",
    "stop_words = nltk.corpus.stopwords.words('english')\n",
    "stop_words.remove('no')\n",
    "stop_words.remove('not')\n",
    "stop_words.remove('but')\n",
    "\n",
    "# Load up a WordNet Lemmatizer\n",
    "wnl = nltk.stem.WordNetLemmatizer()\n",
    "\n",
    "# Define a function to get the position tag for each word - this helps to lemmatize words correctly with context\n",
    "def get_wordnet_pos(word: str):\n",
    "        '''Map POS tag to first character lemmatize() accepts\n",
    "        \n",
    "        Arguments:\n",
    "            word (str): word to find wordnet position tag for'''\n",
    "        \n",
    "        # Get first letter of pos_tag\n",
    "        tag = nltk.pos_tag([word])[0][1][0].upper()\n",
    "\n",
    "        # Translate letter into wordnet position tag\n",
    "        tag_dict = {\n",
    "            'J': nltk.corpus.wordnet.ADJ,\n",
    "            'N': nltk.corpus.wordnet.NOUN,\n",
    "            'V': nltk.corpus.wordnet.VERB,\n",
    "            'R': nltk.corpus.wordnet.ADV\n",
    "            }\n",
    "\n",
    "        return tag_dict.get(tag, nltk.corpus.wordnet.NOUN)\n",
    "\n",
    "def text_preprocess(sentence: str):\n",
    "    '''Preprocesses the inputted sentence and does the following: sets to lowercase,\n",
    "    removes unwanted characters, lemmatizes and removes stopwords\n",
    "    \n",
    "    Arguments:\n",
    "        sentence (str): sentence to be processed\n",
    "\n",
    "    Returns:\n",
    "        sentence (str): processed sentence'''\n",
    "\n",
    "    # Set to lower case\n",
    "    sentence = str(sentence).lower()\n",
    "    \n",
    "    # Remove non-letter characters and replace the abbreviation 'mn' for million\n",
    "    sentence = re.sub(r'[^a-zA-Z]',r' ', sentence)\n",
    "    sentence = re.sub('mn', 'million', sentence)\n",
    "\n",
    "    # Wordnet lemmatizer with position tagging to give context\n",
    "    sentence = ' '.join([wnl.lemmatize(word, get_wordnet_pos(word)) for word in nltk.word_tokenize(sentence)])\n",
    "    \n",
    "    # Removal of Stopwords\n",
    "    sentence = ' '.join([word for word in nltk.word_tokenize(sentence) if word not in stop_words])\n",
    "    \n",
    "    return sentence\n",
    "\n",
    "# Turn the above function into a vectorized function to work on columns for sentences\n",
    "vect_text_preprocess = np.vectorize(text_preprocess)"
   ]
  },
  {
   "cell_type": "code",
   "execution_count": 12,
   "metadata": {},
   "outputs": [],
   "source": [
    "# Clean train, test and validation sentences using the vectorized text_processor\n",
    "clean_train_sentences = vect_text_preprocess(train_sentences)\n",
    "clean_test_sentences = vect_text_preprocess(test_sentences)\n",
    "clean_val_sentences = vect_text_preprocess(val_sentences)"
   ]
  },
  {
   "cell_type": "markdown",
   "metadata": {},
   "source": [
    "#### TF-IDF Vectorizer\n",
    "\n",
    "We will be using a TF-IDF Vectorizer to vectorize our sentences before modelling. We will be setting the `ngram_range = (1, 1)` so we can also build columns for bi-grams."
   ]
  },
  {
   "cell_type": "code",
   "execution_count": 13,
   "metadata": {},
   "outputs": [],
   "source": [
    "# Define TFIDF Vectorizer\n",
    "tfidf = TfidfVectorizer(min_df = 0.0, max_df = 1.0, ngram_range = (1, 1))"
   ]
  },
  {
   "cell_type": "code",
   "execution_count": 14,
   "metadata": {},
   "outputs": [],
   "source": [
    "# Fit and transform the clean sentences to the TFIDF Vectorizer for each train, test and validation\n",
    "X_train = tfidf.fit_transform(clean_train_sentences).toarray()\n",
    "X_train = pd.DataFrame(X_train, columns = tfidf.get_feature_names_out())\n",
    "\n",
    "X_test = tfidf.transform(clean_test_sentences).toarray()\n",
    "X_test = pd.DataFrame(X_test, columns = tfidf.get_feature_names_out())\n",
    "\n",
    "X_val = tfidf.transform(clean_val_sentences).toarray()\n",
    "X_val = pd.DataFrame(X_val, columns = tfidf.get_feature_names_out())"
   ]
  },
  {
   "cell_type": "markdown",
   "metadata": {},
   "source": [
    "## Modelling\n",
    "\n",
    "We will be using the ROC AUC Score as our evaluation metric since is provides a good balance between True Negative and False Positives in one score. This is preferred to Accuracy due to our imbalance and Precision and Recall since we require a balance of the both to get a good model. Since ROC score uses predicted probabilities as its input, we don't have to tune the threshold."
   ]
  },
  {
   "cell_type": "code",
   "execution_count": 15,
   "metadata": {},
   "outputs": [],
   "source": [
    "# Assign train, text and validation labels to the y variable\n",
    "y_train = train_labels\n",
    "y_test = test_labels\n",
    "y_val = val_labels"
   ]
  },
  {
   "cell_type": "code",
   "execution_count": 16,
   "metadata": {},
   "outputs": [],
   "source": [
    "# Make a dictionary for each train, tes and validation to make fitting and evaluation cleaner.\n",
    "train_data = {'X' : X_train, 'y' : y_train}\n",
    "test_data = {'X' : X_test, 'y' : y_test}\n",
    "val_data = {'X' : X_val, 'y' : y_val}"
   ]
  },
  {
   "cell_type": "markdown",
   "metadata": {},
   "source": [
    "### Baseline Model - Linear Regression\n",
    "\n",
    "We are using a Logistic Regressor since it is a robust model across a wide state space so should be able to deal with our sentences effectively."
   ]
  },
  {
   "cell_type": "code",
   "execution_count": 17,
   "metadata": {},
   "outputs": [
    {
     "name": "stderr",
     "output_type": "stream",
     "text": [
      "/opt/anaconda3/envs/data_analytics/lib/python3.9/site-packages/sklearn/linear_model/_logistic.py:814: ConvergenceWarning: lbfgs failed to converge (status=1):\n",
      "STOP: TOTAL NO. of ITERATIONS REACHED LIMIT.\n",
      "\n",
      "Increase the number of iterations (max_iter) or scale the data as shown in:\n",
      "    https://scikit-learn.org/stable/modules/preprocessing.html\n",
      "Please also refer to the documentation for alternative solver options:\n",
      "    https://scikit-learn.org/stable/modules/linear_model.html#logistic-regression\n",
      "  n_iter_i = _check_optimize_result(\n",
      "/opt/anaconda3/envs/data_analytics/lib/python3.9/site-packages/sklearn/linear_model/_logistic.py:814: ConvergenceWarning: lbfgs failed to converge (status=1):\n",
      "STOP: TOTAL NO. of ITERATIONS REACHED LIMIT.\n",
      "\n",
      "Increase the number of iterations (max_iter) or scale the data as shown in:\n",
      "    https://scikit-learn.org/stable/modules/preprocessing.html\n",
      "Please also refer to the documentation for alternative solver options:\n",
      "    https://scikit-learn.org/stable/modules/linear_model.html#logistic-regression\n",
      "  n_iter_i = _check_optimize_result(\n",
      "/opt/anaconda3/envs/data_analytics/lib/python3.9/site-packages/sklearn/linear_model/_logistic.py:814: ConvergenceWarning: lbfgs failed to converge (status=1):\n",
      "STOP: TOTAL NO. of ITERATIONS REACHED LIMIT.\n",
      "\n",
      "Increase the number of iterations (max_iter) or scale the data as shown in:\n",
      "    https://scikit-learn.org/stable/modules/preprocessing.html\n",
      "Please also refer to the documentation for alternative solver options:\n",
      "    https://scikit-learn.org/stable/modules/linear_model.html#logistic-regression\n",
      "  n_iter_i = _check_optimize_result(\n",
      "/opt/anaconda3/envs/data_analytics/lib/python3.9/site-packages/sklearn/linear_model/_logistic.py:814: ConvergenceWarning: lbfgs failed to converge (status=1):\n",
      "STOP: TOTAL NO. of ITERATIONS REACHED LIMIT.\n",
      "\n",
      "Increase the number of iterations (max_iter) or scale the data as shown in:\n",
      "    https://scikit-learn.org/stable/modules/preprocessing.html\n",
      "Please also refer to the documentation for alternative solver options:\n",
      "    https://scikit-learn.org/stable/modules/linear_model.html#logistic-regression\n",
      "  n_iter_i = _check_optimize_result(\n",
      "/opt/anaconda3/envs/data_analytics/lib/python3.9/site-packages/sklearn/linear_model/_logistic.py:814: ConvergenceWarning: lbfgs failed to converge (status=1):\n",
      "STOP: TOTAL NO. of ITERATIONS REACHED LIMIT.\n",
      "\n",
      "Increase the number of iterations (max_iter) or scale the data as shown in:\n",
      "    https://scikit-learn.org/stable/modules/preprocessing.html\n",
      "Please also refer to the documentation for alternative solver options:\n",
      "    https://scikit-learn.org/stable/modules/linear_model.html#logistic-regression\n",
      "  n_iter_i = _check_optimize_result(\n"
     ]
    },
    {
     "name": "stdout",
     "output_type": "stream",
     "text": [
      " --- Classification Report --- \n",
      "              precision    recall  f1-score   support\n",
      "\n",
      "           0       0.70      0.47      0.56       121\n",
      "           1       0.76      0.91      0.83       576\n",
      "           2       0.71      0.52      0.60       273\n",
      "\n",
      "    accuracy                           0.75       970\n",
      "   macro avg       0.72      0.63      0.66       970\n",
      "weighted avg       0.74      0.75      0.73       970\n",
      "\n",
      "\n",
      " --- MACRO METRICS --- \n",
      "ROC: 0.86738\n",
      "ACCURACY: 0.74536\n",
      "PRECISION: 0.72144\n",
      "RECALL: 0.63365\n"
     ]
    }
   ],
   "source": [
    "baseline_model = LogisticRegressionCV(cv = 5).fit(**train_data)\n",
    "f.evaluate_model(baseline_model, **test_data, c_report = True, print_metrics = True)"
   ]
  },
  {
   "cell_type": "markdown",
   "metadata": {},
   "source": [
    "### Model Tuning - Naive Bayes"
   ]
  },
  {
   "cell_type": "code",
   "execution_count": 18,
   "metadata": {},
   "outputs": [],
   "source": [
    "warnings.simplefilter(action='ignore', category=UserWarning)"
   ]
  },
  {
   "cell_type": "code",
   "execution_count": 19,
   "metadata": {},
   "outputs": [
    {
     "name": "stderr",
     "output_type": "stream",
     "text": [
      "\u001b[32m[I 2022-03-29 22:37:59,051]\u001b[0m A new study created in memory with name: no-name-a95a681a-0c7c-4403-a2f7-0fb4f30c30a9\u001b[0m\n",
      "\u001b[32m[I 2022-03-29 22:38:08,787]\u001b[0m Trial 1 finished with value: 0.8474810181705101 and parameters: {'penalty': 'l2', 'C': 0.28281568119536193}. Best is trial 1 with value: 0.8474810181705101.\u001b[0m\n",
      "\u001b[32m[I 2022-03-29 22:38:15,491]\u001b[0m Trial 7 finished with value: 0.7446986552894016 and parameters: {'penalty': 'elasticnet', 'l1_ratio': 0.9839514167997885, 'C': 0.2217723088231568}. Best is trial 1 with value: 0.8474810181705101.\u001b[0m\n",
      "\u001b[32m[I 2022-03-29 22:38:19,138]\u001b[0m Trial 0 finished with value: 0.8647073181420187 and parameters: {'penalty': 'elasticnet', 'l1_ratio': 0.1644785352149798, 'C': 0.8328482797291842}. Best is trial 0 with value: 0.8647073181420187.\u001b[0m\n",
      "\u001b[32m[I 2022-03-29 22:38:19,242]\u001b[0m Trial 5 finished with value: 0.8628154318803641 and parameters: {'penalty': 'l2', 'C': 6.438944426557235}. Best is trial 0 with value: 0.8647073181420187.\u001b[0m\n",
      "\u001b[32m[I 2022-03-29 22:38:36,927]\u001b[0m Trial 4 finished with value: 0.8662097211103549 and parameters: {'penalty': 'elasticnet', 'l1_ratio': 0.24042923758983725, 'C': 4.766885524345293}. Best is trial 4 with value: 0.8662097211103549.\u001b[0m\n",
      "\u001b[32m[I 2022-03-29 22:38:42,579]\u001b[0m Trial 10 finished with value: 0.8685998296548637 and parameters: {'penalty': 'elasticnet', 'l1_ratio': 0.6222119747315984, 'C': 1.69748471698523}. Best is trial 10 with value: 0.8685998296548637.\u001b[0m\n",
      "\u001b[32m[I 2022-03-29 22:38:44,611]\u001b[0m Trial 2 finished with value: 0.8350460877147134 and parameters: {'penalty': 'none', 'C': 3.1788350664073763}. Best is trial 10 with value: 0.8685998296548637.\u001b[0m\n",
      "\u001b[32m[I 2022-03-29 22:38:44,776]\u001b[0m Trial 3 finished with value: 0.8350460877147134 and parameters: {'penalty': 'none', 'C': 4.239115647525869}. Best is trial 10 with value: 0.8685998296548637.\u001b[0m\n",
      "\u001b[32m[I 2022-03-29 22:38:45,060]\u001b[0m Trial 6 finished with value: 0.8350460877147134 and parameters: {'penalty': 'none', 'C': 2.6997015670714357}. Best is trial 10 with value: 0.8685998296548637.\u001b[0m\n",
      "\u001b[32m[I 2022-03-29 22:38:55,666]\u001b[0m Trial 8 finished with value: 0.8350460877147134 and parameters: {'penalty': 'none', 'C': 6.35888725397156}. Best is trial 10 with value: 0.8685998296548637.\u001b[0m\n",
      "\u001b[32m[I 2022-03-29 22:39:08,824]\u001b[0m Trial 14 finished with value: 0.8706161940720724 and parameters: {'penalty': 'elasticnet', 'l1_ratio': 0.25572365115515994, 'C': 2.050873155063183}. Best is trial 14 with value: 0.8706161940720724.\u001b[0m\n",
      "\u001b[32m[I 2022-03-29 22:39:18,821]\u001b[0m Trial 11 finished with value: 0.8646257252259949 and parameters: {'penalty': 'l1', 'C': 2.4057310742342364}. Best is trial 14 with value: 0.8706161940720724.\u001b[0m\n",
      "\u001b[32m[I 2022-03-29 22:39:28,058]\u001b[0m Trial 9 finished with value: 0.8591971369762899 and parameters: {'penalty': 'elasticnet', 'l1_ratio': 0.830597353158756, 'C': 6.391433466955419}. Best is trial 14 with value: 0.8706161940720724.\u001b[0m\n",
      "\u001b[32m[I 2022-03-29 22:39:29,835]\u001b[0m Trial 16 finished with value: 0.8350460877147134 and parameters: {'penalty': 'none', 'C': 6.536776527974796}. Best is trial 14 with value: 0.8706161940720724.\u001b[0m\n",
      "\u001b[32m[I 2022-03-29 22:39:35,394]\u001b[0m Trial 15 finished with value: 0.8635030278851707 and parameters: {'penalty': 'elasticnet', 'l1_ratio': 0.20482514636702331, 'C': 6.966020732845798}. Best is trial 14 with value: 0.8706161940720724.\u001b[0m\n",
      "\u001b[32m[I 2022-03-29 22:39:36,703]\u001b[0m Trial 12 finished with value: 0.8649034552298844 and parameters: {'penalty': 'l1', 'C': 2.2530728479233004}. Best is trial 14 with value: 0.8706161940720724.\u001b[0m\n",
      "\u001b[32m[I 2022-03-29 22:39:42,225]\u001b[0m Trial 19 finished with value: 0.868381186364512 and parameters: {'penalty': 'elasticnet', 'l1_ratio': 0.6450364014825154, 'C': 1.6717046829017077}. Best is trial 14 with value: 0.8706161940720724.\u001b[0m\n",
      "\u001b[32m[I 2022-03-29 22:39:46,663]\u001b[0m Trial 13 finished with value: 0.8544744198302204 and parameters: {'penalty': 'l1', 'C': 5.480430866671283}. Best is trial 14 with value: 0.8706161940720724.\u001b[0m\n",
      "\u001b[32m[I 2022-03-29 22:39:47,654]\u001b[0m Trial 20 finished with value: 0.8690692025271356 and parameters: {'penalty': 'elasticnet', 'l1_ratio': 0.5271747430866954, 'C': 1.641037244872419}. Best is trial 14 with value: 0.8706161940720724.\u001b[0m\n",
      "\u001b[32m[I 2022-03-29 22:39:51,872]\u001b[0m Trial 21 finished with value: 0.8688878879017364 and parameters: {'penalty': 'elasticnet', 'l1_ratio': 0.5921014058907584, 'C': 1.744119754174313}. Best is trial 14 with value: 0.8706161940720724.\u001b[0m\n",
      "\u001b[32m[I 2022-03-29 22:39:55,067]\u001b[0m Trial 17 finished with value: 0.8647479900448197 and parameters: {'penalty': 'l1', 'C': 1.621849111181439}. Best is trial 14 with value: 0.8706161940720724.\u001b[0m\n",
      "\u001b[32m[I 2022-03-29 22:39:56,924]\u001b[0m Trial 23 finished with value: 0.8684198264724343 and parameters: {'penalty': 'elasticnet', 'l1_ratio': 0.583110510398515, 'C': 1.5905547068149843}. Best is trial 14 with value: 0.8706161940720724.\u001b[0m\n",
      "\u001b[32m[I 2022-03-29 22:39:58,747]\u001b[0m Trial 24 finished with value: 0.8673764718342155 and parameters: {'penalty': 'elasticnet', 'l1_ratio': 0.4800280585025046, 'C': 1.3410623314871213}. Best is trial 14 with value: 0.8706161940720724.\u001b[0m\n",
      "\u001b[32m[I 2022-03-29 22:40:03,797]\u001b[0m Trial 26 finished with value: 0.8676047023107575 and parameters: {'penalty': 'elasticnet', 'l1_ratio': 0.404092539212264, 'C': 1.2523507111528218}. Best is trial 14 with value: 0.8706161940720724.\u001b[0m\n",
      "\u001b[32m[I 2022-03-29 22:40:04,357]\u001b[0m Trial 25 finished with value: 0.8690514854856829 and parameters: {'penalty': 'elasticnet', 'l1_ratio': 0.4784899382822599, 'C': 1.5517273080274392}. Best is trial 14 with value: 0.8706161940720724.\u001b[0m\n",
      "\u001b[32m[I 2022-03-29 22:40:06,209]\u001b[0m Trial 27 finished with value: 0.8661900444307896 and parameters: {'penalty': 'l2', 'C': 3.652996519521197}. Best is trial 14 with value: 0.8706161940720724.\u001b[0m\n",
      "\u001b[32m[I 2022-03-29 22:40:07,136]\u001b[0m Trial 18 finished with value: 0.8654060257361559 and parameters: {'penalty': 'l1', 'C': 1.8655930361590332}. Best is trial 14 with value: 0.8706161940720724.\u001b[0m\n",
      "\u001b[32m[I 2022-03-29 22:40:09,465]\u001b[0m Trial 28 finished with value: 0.861705396432647 and parameters: {'penalty': 'elasticnet', 'l1_ratio': 0.4117330635484188, 'C': 0.9311084024740022}. Best is trial 14 with value: 0.8706161940720724.\u001b[0m\n",
      "\u001b[32m[I 2022-03-29 22:40:17,464]\u001b[0m Trial 31 finished with value: 0.8665182483535512 and parameters: {'penalty': 'l2', 'C': 3.391297612286995}. Best is trial 14 with value: 0.8706161940720724.\u001b[0m\n",
      "\u001b[32m[I 2022-03-29 22:40:18,602]\u001b[0m Trial 32 finished with value: 0.8662423387718189 and parameters: {'penalty': 'l2', 'C': 3.608027901164586}. Best is trial 14 with value: 0.8706161940720724.\u001b[0m\n",
      "\u001b[32m[I 2022-03-29 22:40:25,487]\u001b[0m Trial 33 finished with value: 0.8666338523935563 and parameters: {'penalty': 'elasticnet', 'l1_ratio': 0.01607554132813388, 'C': 0.91421133464039}. Best is trial 14 with value: 0.8706161940720724.\u001b[0m\n",
      "\u001b[32m[I 2022-03-29 22:40:27,700]\u001b[0m Trial 34 finished with value: 0.8654295720185855 and parameters: {'penalty': 'elasticnet', 'l1_ratio': 0.018562325137917224, 'C': 0.7845800443042488}. Best is trial 14 with value: 0.8706161940720724.\u001b[0m\n",
      "\u001b[32m[I 2022-03-29 22:40:31,295]\u001b[0m Trial 29 finished with value: 0.8682009289621969 and parameters: {'penalty': 'elasticnet', 'l1_ratio': 0.3950080694246516, 'C': 3.510452915582375}. Best is trial 14 with value: 0.8706161940720724.\u001b[0m\n",
      "\u001b[32m[I 2022-03-29 22:40:32,971]\u001b[0m Trial 22 finished with value: 0.8650408695448802 and parameters: {'penalty': 'l1', 'C': 1.7926580598854678}. Best is trial 14 with value: 0.8706161940720724.\u001b[0m\n",
      "\u001b[32m[I 2022-03-29 22:40:33,535]\u001b[0m Trial 30 finished with value: 0.8683140911101056 and parameters: {'penalty': 'elasticnet', 'l1_ratio': 0.38477531712127633, 'C': 3.496332485393335}. Best is trial 14 with value: 0.8706161940720724.\u001b[0m\n",
      "\u001b[32m[I 2022-03-29 22:40:38,582]\u001b[0m Trial 36 finished with value: 0.8618796776539278 and parameters: {'penalty': 'elasticnet', 'l1_ratio': 0.016669462300644866, 'C': 0.5928745173701323}. Best is trial 14 with value: 0.8706161940720724.\u001b[0m\n",
      "\u001b[32m[I 2022-03-29 22:40:38,748]\u001b[0m Trial 35 finished with value: 0.8692531690774915 and parameters: {'penalty': 'elasticnet', 'l1_ratio': 0.3274469711147913, 'C': 2.905745624510058}. Best is trial 14 with value: 0.8706161940720724.\u001b[0m\n",
      "\u001b[32m[I 2022-03-29 22:40:41,950]\u001b[0m Trial 37 finished with value: 0.8645287308602029 and parameters: {'penalty': 'elasticnet', 'l1_ratio': 0.05646429037782663, 'C': 0.7275785354249248}. Best is trial 14 with value: 0.8706161940720724.\u001b[0m\n",
      "\u001b[32m[I 2022-03-29 22:40:55,100]\u001b[0m Trial 38 finished with value: 0.8695232015123023 and parameters: {'penalty': 'elasticnet', 'l1_ratio': 0.3837193443327897, 'C': 2.768326103588919}. Best is trial 14 with value: 0.8706161940720724.\u001b[0m\n",
      "\u001b[32m[I 2022-03-29 22:41:07,018]\u001b[0m Trial 44 finished with value: 0.8694011345006754 and parameters: {'penalty': 'elasticnet', 'l1_ratio': 0.26263776374449227, 'C': 2.881676774406851}. Best is trial 14 with value: 0.8706161940720724.\u001b[0m\n",
      "\u001b[32m[I 2022-03-29 22:41:08,395]\u001b[0m Trial 39 finished with value: 0.8676344265371868 and parameters: {'penalty': 'elasticnet', 'l1_ratio': 0.7337400728237162, 'C': 2.7784648280285715}. Best is trial 14 with value: 0.8706161940720724.\u001b[0m\n",
      "\u001b[32m[I 2022-03-29 22:41:08,840]\u001b[0m Trial 42 finished with value: 0.8680547434743736 and parameters: {'penalty': 'elasticnet', 'l1_ratio': 0.697171831794164, 'C': 2.685551814401015}. Best is trial 14 with value: 0.8706161940720724.\u001b[0m\n",
      "\u001b[32m[I 2022-03-29 22:41:10,479]\u001b[0m Trial 45 finished with value: 0.8691544467880469 and parameters: {'penalty': 'elasticnet', 'l1_ratio': 0.29106968737636213, 'C': 2.9531857555618357}. Best is trial 14 with value: 0.8706161940720724.\u001b[0m\n",
      "\u001b[32m[I 2022-03-29 22:41:12,149]\u001b[0m Trial 40 finished with value: 0.8676535228037064 and parameters: {'penalty': 'elasticnet', 'l1_ratio': 0.7315903547985783, 'C': 2.806757520320374}. Best is trial 14 with value: 0.8706161940720724.\u001b[0m\n",
      "\u001b[32m[I 2022-03-29 22:41:13,602]\u001b[0m Trial 41 finished with value: 0.867578733321595 and parameters: {'penalty': 'elasticnet', 'l1_ratio': 0.7269149181596488, 'C': 2.8651971907655325}. Best is trial 14 with value: 0.8706161940720724.\u001b[0m\n",
      "\u001b[32m[I 2022-03-29 22:41:16,406]\u001b[0m Trial 43 finished with value: 0.8678446589501299 and parameters: {'penalty': 'elasticnet', 'l1_ratio': 0.6960001733559663, 'C': 2.9063146315304245}. Best is trial 14 with value: 0.8706161940720724.\u001b[0m\n",
      "\u001b[32m[I 2022-03-29 22:41:36,376]\u001b[0m Trial 48 finished with value: 0.8694717386395703 and parameters: {'penalty': 'elasticnet', 'l1_ratio': 0.28320439176717516, 'C': 2.827082669080497}. Best is trial 14 with value: 0.8706161940720724.\u001b[0m\n",
      "\u001b[32m[I 2022-03-29 22:41:39,991]\u001b[0m Trial 46 finished with value: 0.8350460877147134 and parameters: {'penalty': 'none', 'C': 2.870110026047992}. Best is trial 14 with value: 0.8706161940720724.\u001b[0m\n",
      "\u001b[32m[I 2022-03-29 22:41:52,361]\u001b[0m Trial 47 finished with value: 0.8350460877147134 and parameters: {'penalty': 'none', 'C': 2.9598797765939864}. Best is trial 14 with value: 0.8706161940720724.\u001b[0m\n",
      "\u001b[32m[I 2022-03-29 22:41:55,250]\u001b[0m Trial 49 finished with value: 0.8350460877147134 and parameters: {'penalty': 'none', 'C': 4.161290987185758}. Best is trial 14 with value: 0.8706161940720724.\u001b[0m\n",
      "\u001b[32m[I 2022-03-29 22:41:55,778]\u001b[0m Trial 50 finished with value: 0.8350460877147134 and parameters: {'penalty': 'none', 'C': 4.082929122108759}. Best is trial 14 with value: 0.8706161940720724.\u001b[0m\n",
      "\u001b[32m[I 2022-03-29 22:41:57,852]\u001b[0m Trial 51 finished with value: 0.8350460877147134 and parameters: {'penalty': 'none', 'C': 4.1355671948506645}. Best is trial 14 with value: 0.8706161940720724.\u001b[0m\n",
      "\u001b[32m[I 2022-03-29 22:41:59,675]\u001b[0m Trial 52 finished with value: 0.8350460877147134 and parameters: {'penalty': 'none', 'C': 4.2256257768912455}. Best is trial 14 with value: 0.8706161940720724.\u001b[0m\n",
      "\u001b[32m[I 2022-03-29 22:42:02,238]\u001b[0m Trial 53 finished with value: 0.8350460877147134 and parameters: {'penalty': 'none', 'C': 4.118456949194658}. Best is trial 14 with value: 0.8706161940720724.\u001b[0m\n",
      "\u001b[32m[I 2022-03-29 22:42:08,168]\u001b[0m Trial 56 finished with value: 0.8650831923086676 and parameters: {'penalty': 'l2', 'C': 4.361726666095214}. Best is trial 14 with value: 0.8706161940720724.\u001b[0m\n",
      "\u001b[32m[I 2022-03-29 22:42:08,939]\u001b[0m Trial 57 finished with value: 0.8681452091749843 and parameters: {'penalty': 'l2', 'C': 2.150502631311605}. Best is trial 14 with value: 0.8706161940720724.\u001b[0m\n",
      "\u001b[32m[I 2022-03-29 22:42:21,015]\u001b[0m Trial 58 finished with value: 0.8702663293017038 and parameters: {'penalty': 'elasticnet', 'l1_ratio': 0.2937797935015388, 'C': 2.3803878978843676}. Best is trial 14 with value: 0.8706161940720724.\u001b[0m\n",
      "\u001b[32m[I 2022-03-29 22:42:21,206]\u001b[0m Trial 59 finished with value: 0.8705083901803515 and parameters: {'penalty': 'elasticnet', 'l1_ratio': 0.3029949892134476, 'C': 2.2560256916461516}. Best is trial 14 with value: 0.8706161940720724.\u001b[0m\n",
      "\u001b[32m[I 2022-03-29 22:42:22,167]\u001b[0m Trial 54 finished with value: 0.8350460877147134 and parameters: {'penalty': 'none', 'C': 4.034573028478507}. Best is trial 14 with value: 0.8706161940720724.\u001b[0m\n",
      "\u001b[32m[I 2022-03-29 22:42:22,558]\u001b[0m Trial 60 finished with value: 0.8705968148009898 and parameters: {'penalty': 'elasticnet', 'l1_ratio': 0.3033202472297864, 'C': 2.209934032451538}. Best is trial 14 with value: 0.8706161940720724.\u001b[0m\n",
      "\u001b[32m[I 2022-03-29 22:42:24,858]\u001b[0m Trial 55 finished with value: 0.8350460877147134 and parameters: {'penalty': 'none', 'C': 4.072353470471258}. Best is trial 14 with value: 0.8706161940720724.\u001b[0m\n",
      "\u001b[32m[I 2022-03-29 22:42:25,583]\u001b[0m Trial 61 finished with value: 0.870530463082054 and parameters: {'penalty': 'elasticnet', 'l1_ratio': 0.28571453913278777, 'C': 2.228965613471585}. Best is trial 14 with value: 0.8706161940720724.\u001b[0m\n",
      "\u001b[32m[I 2022-03-29 22:42:31,798]\u001b[0m Trial 62 finished with value: 0.8705063123644837 and parameters: {'penalty': 'elasticnet', 'l1_ratio': 0.2925497785864042, 'C': 2.2537169094728022}. Best is trial 14 with value: 0.8706161940720724.\u001b[0m\n",
      "\u001b[32m[I 2022-03-29 22:42:32,247]\u001b[0m Trial 63 finished with value: 0.8705031570099372 and parameters: {'penalty': 'elasticnet', 'l1_ratio': 0.28700237623071867, 'C': 2.237620939807405}. Best is trial 14 with value: 0.8706161940720724.\u001b[0m\n",
      "\u001b[32m[I 2022-03-29 22:42:46,118]\u001b[0m Trial 64 finished with value: 0.8702629393369744 and parameters: {'penalty': 'elasticnet', 'l1_ratio': 0.3014873604914181, 'C': 2.4293746071433624}. Best is trial 14 with value: 0.8706161940720724.\u001b[0m\n",
      "\u001b[32m[I 2022-03-29 22:42:47,258]\u001b[0m Trial 65 finished with value: 0.869070924096758 and parameters: {'penalty': 'elasticnet', 'l1_ratio': 0.10714028186938834, 'C': 2.3686299090114447}. Best is trial 14 with value: 0.8706161940720724.\u001b[0m\n",
      "\u001b[32m[I 2022-03-29 22:42:49,040]\u001b[0m Trial 66 finished with value: 0.8694741703625596 and parameters: {'penalty': 'elasticnet', 'l1_ratio': 0.14050318278342167, 'C': 2.397606158300471}. Best is trial 14 with value: 0.8706161940720724.\u001b[0m\n",
      "\u001b[32m[I 2022-03-29 22:42:49,223]\u001b[0m Trial 67 finished with value: 0.8694154906018497 and parameters: {'penalty': 'elasticnet', 'l1_ratio': 0.13285796523630997, 'C': 2.3863873059738183}. Best is trial 14 with value: 0.8706161940720724.\u001b[0m\n",
      "\u001b[32m[I 2022-03-29 22:42:50,012]\u001b[0m Trial 68 finished with value: 0.869954121200494 and parameters: {'penalty': 'elasticnet', 'l1_ratio': 0.15479898706726444, 'C': 2.1188463456446422}. Best is trial 14 with value: 0.8706161940720724.\u001b[0m\n",
      "\u001b[32m[I 2022-03-29 22:42:52,724]\u001b[0m Trial 69 finished with value: 0.8695271316010297 and parameters: {'penalty': 'elasticnet', 'l1_ratio': 0.15344471505311746, 'C': 2.4308390055058466}. Best is trial 14 with value: 0.8706161940720724.\u001b[0m\n",
      "\u001b[32m[I 2022-03-29 22:42:57,379]\u001b[0m Trial 71 finished with value: 0.8699838277144574 and parameters: {'penalty': 'elasticnet', 'l1_ratio': 0.15103916388686364, 'C': 2.0242123437033204}. Best is trial 14 with value: 0.8706161940720724.\u001b[0m\n",
      "\u001b[32m[I 2022-03-29 22:42:58,916]\u001b[0m Trial 70 finished with value: 0.8695853132737277 and parameters: {'penalty': 'elasticnet', 'l1_ratio': 0.15848736879027792, 'C': 2.417707373951629}. Best is trial 14 with value: 0.8706161940720724.\u001b[0m\n",
      "\u001b[32m[I 2022-03-29 22:43:10,495]\u001b[0m Trial 72 finished with value: 0.8704895680085616 and parameters: {'penalty': 'elasticnet', 'l1_ratio': 0.21187313317345952, 'C': 2.0343941339287643}. Best is trial 14 with value: 0.8706161940720724.\u001b[0m\n",
      "\u001b[32m[I 2022-03-29 22:43:45,234]\u001b[0m Trial 73 finished with value: 0.8651989039822944 and parameters: {'penalty': 'l1', 'C': 2.0860536040668136}. Best is trial 14 with value: 0.8706161940720724.\u001b[0m\n",
      "\u001b[32m[I 2022-03-29 22:43:47,117]\u001b[0m Trial 75 finished with value: 0.8652381049959272 and parameters: {'penalty': 'l1', 'C': 2.0302411630400155}. Best is trial 14 with value: 0.8706161940720724.\u001b[0m\n",
      "\u001b[32m[I 2022-03-29 22:43:47,481]\u001b[0m Trial 74 finished with value: 0.8653709543222942 and parameters: {'penalty': 'l1', 'C': 1.952386621961242}. Best is trial 14 with value: 0.8706161940720724.\u001b[0m\n",
      "\u001b[32m[I 2022-03-29 22:43:47,733]\u001b[0m Trial 76 finished with value: 0.8653776858579096 and parameters: {'penalty': 'l1', 'C': 1.970974545220752}. Best is trial 14 with value: 0.8706161940720724.\u001b[0m\n",
      "\u001b[32m[I 2022-03-29 22:43:50,809]\u001b[0m Trial 77 finished with value: 0.8653507822147328 and parameters: {'penalty': 'l1', 'C': 1.930385854683274}. Best is trial 14 with value: 0.8706161940720724.\u001b[0m\n",
      "\u001b[32m[I 2022-03-29 22:43:56,614]\u001b[0m Trial 79 finished with value: 0.8620790353932531 and parameters: {'penalty': 'l1', 'C': 1.3558954509022396}. Best is trial 14 with value: 0.8706161940720724.\u001b[0m\n",
      "\u001b[32m[I 2022-03-29 22:43:58,026]\u001b[0m Trial 78 finished with value: 0.8605518710564214 and parameters: {'penalty': 'l1', 'C': 3.2074784583242852}. Best is trial 14 with value: 0.8706161940720724.\u001b[0m\n",
      "\u001b[32m[I 2022-03-29 22:44:05,393]\u001b[0m Trial 81 finished with value: 0.8694744415960001 and parameters: {'penalty': 'elasticnet', 'l1_ratio': 0.22510886388338722, 'C': 1.2856142414965162}. Best is trial 14 with value: 0.8706161940720724.\u001b[0m\n",
      "\u001b[32m[I 2022-03-29 22:44:06,013]\u001b[0m Trial 82 finished with value: 0.8691615447950626 and parameters: {'penalty': 'elasticnet', 'l1_ratio': 0.2368755299839276, 'C': 1.2345011496093328}. Best is trial 14 with value: 0.8706161940720724.\u001b[0m\n",
      "\u001b[32m[I 2022-03-29 22:44:07,061]\u001b[0m Trial 83 finished with value: 0.8699023027157206 and parameters: {'penalty': 'elasticnet', 'l1_ratio': 0.2199204853988482, 'C': 1.363535456496304}. Best is trial 14 with value: 0.8706161940720724.\u001b[0m\n",
      "\u001b[32m[I 2022-03-29 22:44:07,627]\u001b[0m Trial 84 finished with value: 0.8699479393873504 and parameters: {'penalty': 'elasticnet', 'l1_ratio': 0.2088347281565287, 'C': 1.3932306965593049}. Best is trial 14 with value: 0.8706161940720724.\u001b[0m\n",
      "\u001b[32m[I 2022-03-29 22:44:08,141]\u001b[0m Trial 80 finished with value: 0.8615673886540387 and parameters: {'penalty': 'l1', 'C': 1.3341025437291596}. Best is trial 14 with value: 0.8706161940720724.\u001b[0m\n",
      "\u001b[32m[I 2022-03-29 22:44:10,893]\u001b[0m Trial 85 finished with value: 0.8687556191856277 and parameters: {'penalty': 'elasticnet', 'l1_ratio': 0.2067524019945437, 'C': 1.1760915619430674}. Best is trial 14 with value: 0.8706161940720724.\u001b[0m\n",
      "\u001b[32m[I 2022-03-29 22:44:16,815]\u001b[0m Trial 87 finished with value: 0.8684072616908299 and parameters: {'penalty': 'elasticnet', 'l1_ratio': 0.22762590523409826, 'C': 1.141922481560446}. Best is trial 14 with value: 0.8706161940720724.\u001b[0m\n",
      "\u001b[32m[I 2022-03-29 22:44:17,702]\u001b[0m Trial 86 finished with value: 0.8702508457198922 and parameters: {'penalty': 'elasticnet', 'l1_ratio': 0.20703369905029947, 'C': 1.4865206234767852}. Best is trial 14 with value: 0.8706161940720724.\u001b[0m\n",
      "\u001b[32m[I 2022-03-29 22:44:29,912]\u001b[0m Trial 93 finished with value: 0.8707081630246885 and parameters: {'penalty': 'elasticnet', 'l1_ratio': 0.3333076561108449, 'C': 1.7582114033535283}. Best is trial 93 with value: 0.8707081630246885.\u001b[0m\n",
      "\u001b[32m[I 2022-03-29 22:44:31,778]\u001b[0m Trial 88 finished with value: 0.8698155434414149 and parameters: {'penalty': 'elasticnet', 'l1_ratio': 0.325486419019299, 'C': 2.6041373357531015}. Best is trial 93 with value: 0.8707081630246885.\u001b[0m\n",
      "\u001b[32m[I 2022-03-29 22:44:33,152]\u001b[0m Trial 89 finished with value: 0.8697135985832753 and parameters: {'penalty': 'elasticnet', 'l1_ratio': 0.33396688014246484, 'C': 2.6211191722665683}. Best is trial 93 with value: 0.8707081630246885.\u001b[0m\n",
      "\u001b[32m[I 2022-03-29 22:44:33,805]\u001b[0m Trial 91 finished with value: 0.8698837007264993 and parameters: {'penalty': 'elasticnet', 'l1_ratio': 0.33679799393555676, 'C': 2.564465801507254}. Best is trial 93 with value: 0.8707081630246885.\u001b[0m\n",
      "\u001b[32m[I 2022-03-29 22:44:34,507]\u001b[0m Trial 90 finished with value: 0.8697039126275191 and parameters: {'penalty': 'elasticnet', 'l1_ratio': 0.3339576504195629, 'C': 2.6300357309442757}. Best is trial 93 with value: 0.8707081630246885.\u001b[0m\n",
      "\u001b[32m[I 2022-03-29 22:44:35,329]\u001b[0m Trial 92 finished with value: 0.8696877801220531 and parameters: {'penalty': 'elasticnet', 'l1_ratio': 0.3346781530823917, 'C': 2.6360072115345194}. Best is trial 93 with value: 0.8707081630246885.\u001b[0m\n",
      "\u001b[32m[I 2022-03-29 22:44:45,016]\u001b[0m Trial 95 finished with value: 0.8696758973477007 and parameters: {'penalty': 'elasticnet', 'l1_ratio': 0.32857054885379655, 'C': 2.6596620198395047}. Best is trial 93 with value: 0.8707081630246885.\u001b[0m\n",
      "\u001b[32m[I 2022-03-29 22:44:47,804]\u001b[0m Trial 94 finished with value: 0.868798184568777 and parameters: {'penalty': 'elasticnet', 'l1_ratio': 0.35173797643910887, 'C': 3.144471044706162}. Best is trial 93 with value: 0.8707081630246885.\u001b[0m\n",
      "\u001b[32m[I 2022-03-29 22:44:50,573]\u001b[0m Trial 97 finished with value: 0.8707232737443521 and parameters: {'penalty': 'elasticnet', 'l1_ratio': 0.3478614732495287, 'C': 1.746435762262906}. Best is trial 97 with value: 0.8707232737443521.\u001b[0m\n",
      "\u001b[32m[I 2022-03-29 22:44:53,454]\u001b[0m Trial 99 finished with value: 0.8706506656563423 and parameters: {'penalty': 'elasticnet', 'l1_ratio': 0.2907971424724307, 'C': 1.6943389476800426}. Best is trial 97 with value: 0.8707232737443521.\u001b[0m\n",
      "\u001b[32m[I 2022-03-29 22:44:53,695]\u001b[0m Trial 98 finished with value: 0.8707935692689054 and parameters: {'penalty': 'elasticnet', 'l1_ratio': 0.3096967388140358, 'C': 1.8292992676505921}. Best is trial 98 with value: 0.8707935692689054.\u001b[0m\n",
      "\u001b[32m[I 2022-03-29 22:44:56,471]\u001b[0m Trial 101 finished with value: 0.8706712111872542 and parameters: {'penalty': 'elasticnet', 'l1_ratio': 0.2814279554035462, 'C': 1.7686751921051118}. Best is trial 98 with value: 0.8707935692689054.\u001b[0m\n",
      "\u001b[32m[I 2022-03-29 22:44:57,078]\u001b[0m Trial 96 finished with value: 0.8697157005960648 and parameters: {'penalty': 'elasticnet', 'l1_ratio': 0.3385013749177868, 'C': 2.615836852784356}. Best is trial 98 with value: 0.8707935692689054.\u001b[0m\n",
      "\u001b[32m[I 2022-03-29 22:44:57,855]\u001b[0m Trial 100 finished with value: 0.8705291448496104 and parameters: {'penalty': 'elasticnet', 'l1_ratio': 0.29432040110366753, 'C': 2.1974626648779814}. Best is trial 98 with value: 0.8707935692689054.\u001b[0m\n",
      "\u001b[32m[I 2022-03-29 22:45:06,115]\u001b[0m Trial 106 finished with value: 0.8684909491626066 and parameters: {'penalty': 'l2', 'C': 1.7495627667159046}. Best is trial 98 with value: 0.8707935692689054.\u001b[0m\n",
      "\u001b[32m[I 2022-03-29 22:45:09,104]\u001b[0m Trial 102 finished with value: 0.8705103927171463 and parameters: {'penalty': 'elasticnet', 'l1_ratio': 0.2788470814586012, 'C': 2.227321189480891}. Best is trial 98 with value: 0.8707935692689054.\u001b[0m\n",
      "\u001b[32m[I 2022-03-29 22:45:09,208]\u001b[0m Trial 103 finished with value: 0.8707034539831445 and parameters: {'penalty': 'elasticnet', 'l1_ratio': 0.2792382151964893, 'C': 1.7715026485840695}. Best is trial 98 with value: 0.8707935692689054.\u001b[0m\n",
      "\u001b[32m[I 2022-03-29 22:45:10,115]\u001b[0m Trial 104 finished with value: 0.8699412115207469 and parameters: {'penalty': 'elasticnet', 'l1_ratio': 0.4481329194834552, 'C': 1.6980806002741486}. Best is trial 98 with value: 0.8707935692689054.\u001b[0m\n",
      "\u001b[32m[I 2022-03-29 22:45:13,991]\u001b[0m Trial 105 finished with value: 0.8703469318187252 and parameters: {'penalty': 'elasticnet', 'l1_ratio': 0.4495370567153245, 'C': 1.8048926307711033}. Best is trial 98 with value: 0.8707935692689054.\u001b[0m\n",
      "\u001b[32m[I 2022-03-29 22:45:16,731]\u001b[0m Trial 108 finished with value: 0.8699857733420066 and parameters: {'penalty': 'elasticnet', 'l1_ratio': 0.45304721437312057, 'C': 1.7289044906364728}. Best is trial 98 with value: 0.8707935692689054.\u001b[0m\n",
      "\u001b[32m[I 2022-03-29 22:45:16,916]\u001b[0m Trial 107 finished with value: 0.8699752283262941 and parameters: {'penalty': 'elasticnet', 'l1_ratio': 0.46408107787783837, 'C': 1.7481897877657004}. Best is trial 98 with value: 0.8707935692689054.\u001b[0m\n",
      "\u001b[32m[I 2022-03-29 22:45:17,200]\u001b[0m Trial 109 finished with value: 0.8704027673901323 and parameters: {'penalty': 'elasticnet', 'l1_ratio': 0.4230529730805821, 'C': 1.7475065521435367}. Best is trial 98 with value: 0.8707935692689054.\u001b[0m\n",
      "\u001b[32m[I 2022-03-29 22:45:20,686]\u001b[0m Trial 113 finished with value: 0.6942967390553395 and parameters: {'penalty': 'elasticnet', 'l1_ratio': 0.25625287177649914, 'C': 0.03620480727406594}. Best is trial 98 with value: 0.8707935692689054.\u001b[0m\n",
      "\u001b[32m[I 2022-03-29 22:45:23,390]\u001b[0m Trial 110 finished with value: 0.8694821469352557 and parameters: {'penalty': 'elasticnet', 'l1_ratio': 0.41537328091195047, 'C': 1.5509141752753703}. Best is trial 98 with value: 0.8707935692689054.\u001b[0m\n",
      "\u001b[32m[I 2022-03-29 22:45:29,983]\u001b[0m Trial 112 finished with value: 0.8704518834546079 and parameters: {'penalty': 'elasticnet', 'l1_ratio': 0.4455946415939623, 'C': 1.8277024654547507}. Best is trial 98 with value: 0.8707935692689054.\u001b[0m\n",
      "\u001b[32m[I 2022-03-29 22:45:31,173]\u001b[0m Trial 111 finished with value: 0.87065058472423 and parameters: {'penalty': 'elasticnet', 'l1_ratio': 0.25234150297942515, 'C': 1.8331429540795057}. Best is trial 98 with value: 0.8707935692689054.\u001b[0m\n",
      "\u001b[32m[I 2022-03-29 22:45:34,572]\u001b[0m Trial 114 finished with value: 0.8704797553984444 and parameters: {'penalty': 'elasticnet', 'l1_ratio': 0.24663254359592163, 'C': 1.5542626234543728}. Best is trial 98 with value: 0.8707935692689054.\u001b[0m\n",
      "\u001b[32m[I 2022-03-29 22:45:34,854]\u001b[0m Trial 117 finished with value: 0.8665497667403049 and parameters: {'penalty': 'elasticnet', 'l1_ratio': 0.25318791318849154, 'C': 0.9950691110743224}. Best is trial 98 with value: 0.8707935692689054.\u001b[0m\n",
      "\u001b[32m[I 2022-03-29 22:45:37,164]\u001b[0m Trial 116 finished with value: 0.8702496130897489 and parameters: {'penalty': 'elasticnet', 'l1_ratio': 0.25552385708254655, 'C': 1.4869080552500973}. Best is trial 98 with value: 0.8707935692689054.\u001b[0m\n",
      "\u001b[32m[I 2022-03-29 22:45:37,197]\u001b[0m Trial 115 finished with value: 0.8704113629341546 and parameters: {'penalty': 'elasticnet', 'l1_ratio': 0.2580020224923439, 'C': 1.5403003450905652}. Best is trial 98 with value: 0.8707935692689054.\u001b[0m\n",
      "\u001b[32m[I 2022-03-29 22:45:39,301]\u001b[0m Trial 119 finished with value: 0.8650206955847227 and parameters: {'penalty': 'elasticnet', 'l1_ratio': 0.3702488021231537, 'C': 1.0402939858600482}. Best is trial 98 with value: 0.8707935692689054.\u001b[0m\n",
      "\u001b[32m[I 2022-03-29 22:45:40,827]\u001b[0m Trial 118 finished with value: 0.8703608372261656 and parameters: {'penalty': 'elasticnet', 'l1_ratio': 0.2636061735999842, 'C': 1.5211989759689206}. Best is trial 98 with value: 0.8707935692689054.\u001b[0m\n",
      "\u001b[32m[I 2022-03-29 22:45:47,073]\u001b[0m Trial 121 finished with value: 0.8652368935720641 and parameters: {'penalty': 'elasticnet', 'l1_ratio': 0.3777549785401348, 'C': 1.057439317310001}. Best is trial 98 with value: 0.8707935692689054.\u001b[0m\n",
      "\u001b[32m[I 2022-03-29 22:45:48,978]\u001b[0m Trial 125 finished with value: 0.8604285741562543 and parameters: {'penalty': 'l2', 'C': 0.5332787090151858}. Best is trial 98 with value: 0.8707935692689054.\u001b[0m\n",
      "\u001b[32m[I 2022-03-29 22:45:53,167]\u001b[0m Trial 126 finished with value: 0.8681452091749843 and parameters: {'penalty': 'l2', 'C': 2.150652721382154}. Best is trial 98 with value: 0.8707935692689054.\u001b[0m\n",
      "\u001b[32m[I 2022-03-29 22:45:54,234]\u001b[0m Trial 127 finished with value: 0.8681139713270082 and parameters: {'penalty': 'l2', 'C': 2.1836535168372873}. Best is trial 98 with value: 0.8707935692689054.\u001b[0m\n",
      "\u001b[32m[I 2022-03-29 22:45:55,290]\u001b[0m Trial 122 finished with value: 0.8707635198963377 and parameters: {'penalty': 'elasticnet', 'l1_ratio': 0.37437895599715976, 'C': 1.8973405229632883}. Best is trial 98 with value: 0.8707935692689054.\u001b[0m\n",
      "\u001b[32m[I 2022-03-29 22:45:58,411]\u001b[0m Trial 123 finished with value: 0.8705292317273616 and parameters: {'penalty': 'elasticnet', 'l1_ratio': 0.37051806382691155, 'C': 2.199021255459689}. Best is trial 98 with value: 0.8707935692689054.\u001b[0m\n",
      "\u001b[32m[I 2022-03-29 22:46:03,724]\u001b[0m Trial 124 finished with value: 0.8702251812099416 and parameters: {'penalty': 'elasticnet', 'l1_ratio': 0.513968909398946, 'C': 2.2032471168175345}. Best is trial 98 with value: 0.8707935692689054.\u001b[0m\n",
      "\u001b[32m[I 2022-03-29 22:46:10,429]\u001b[0m Trial 120 finished with value: 0.8651744088790139 and parameters: {'penalty': 'elasticnet', 'l1_ratio': 0.2534475209437787, 'C': 5.503918035884986}. Best is trial 98 with value: 0.8707935692689054.\u001b[0m\n",
      "\u001b[32m[I 2022-03-29 22:46:10,691]\u001b[0m Trial 128 finished with value: 0.870532413829732 and parameters: {'penalty': 'elasticnet', 'l1_ratio': 0.2900543324051933, 'C': 2.248756359344216}. Best is trial 98 with value: 0.8707935692689054.\u001b[0m\n",
      "\u001b[32m[I 2022-03-29 22:46:12,310]\u001b[0m Trial 129 finished with value: 0.8706148853179477 and parameters: {'penalty': 'elasticnet', 'l1_ratio': 0.30493482574003494, 'C': 2.200971477095764}. Best is trial 98 with value: 0.8707935692689054.\u001b[0m\n",
      "\u001b[32m[I 2022-03-29 22:46:15,442]\u001b[0m Trial 131 finished with value: 0.8707212393762539 and parameters: {'penalty': 'elasticnet', 'l1_ratio': 0.30319385299872986, 'C': 1.9077900097830096}. Best is trial 98 with value: 0.8707935692689054.\u001b[0m\n",
      "\u001b[32m[I 2022-03-29 22:46:16,707]\u001b[0m Trial 130 finished with value: 0.8704577770255889 and parameters: {'penalty': 'elasticnet', 'l1_ratio': 0.30584601903025627, 'C': 2.3030148243055804}. Best is trial 98 with value: 0.8707935692689054.\u001b[0m\n",
      "\u001b[32m[I 2022-03-29 22:46:24,449]\u001b[0m Trial 133 finished with value: 0.8702761590266693 and parameters: {'penalty': 'elasticnet', 'l1_ratio': 0.18452277658892857, 'C': 1.897760889594924}. Best is trial 98 with value: 0.8707935692689054.\u001b[0m\n",
      "\u001b[32m[I 2022-03-29 22:46:30,590]\u001b[0m Trial 135 finished with value: 0.8707669266989555 and parameters: {'penalty': 'elasticnet', 'l1_ratio': 0.36103828837741786, 'C': 1.8765119623574833}. Best is trial 98 with value: 0.8707935692689054.\u001b[0m\n",
      "\u001b[32m[I 2022-03-29 22:46:36,369]\u001b[0m Trial 136 finished with value: 0.8702200189431598 and parameters: {'penalty': 'elasticnet', 'l1_ratio': 0.17988078473169267, 'C': 1.8903278358976976}. Best is trial 98 with value: 0.8707935692689054.\u001b[0m\n",
      "\u001b[32m[I 2022-03-29 22:46:36,794]\u001b[0m Trial 132 finished with value: 0.8657288671951359 and parameters: {'penalty': 'elasticnet', 'l1_ratio': 0.30774476217740077, 'C': 5.16925396157885}. Best is trial 98 with value: 0.8707935692689054.\u001b[0m\n",
      "\u001b[32m[I 2022-03-29 22:46:37,110]\u001b[0m Trial 138 finished with value: 0.8707346749932321 and parameters: {'penalty': 'elasticnet', 'l1_ratio': 0.3042115563613218, 'C': 1.8846644440023452}. Best is trial 98 with value: 0.8707935692689054.\u001b[0m\n",
      "\u001b[32m[I 2022-03-29 22:46:37,985]\u001b[0m Trial 139 finished with value: 0.8707772041351363 and parameters: {'penalty': 'elasticnet', 'l1_ratio': 0.30984208192743823, 'C': 1.8740989498456833}. Best is trial 98 with value: 0.8707935692689054.\u001b[0m\n",
      "\u001b[32m[I 2022-03-29 22:46:38,157]\u001b[0m Trial 137 finished with value: 0.8702752320466735 and parameters: {'penalty': 'elasticnet', 'l1_ratio': 0.18415780716213842, 'C': 1.9009562362608365}. Best is trial 98 with value: 0.8707935692689054.\u001b[0m\n",
      "\u001b[32m[I 2022-03-29 22:46:45,686]\u001b[0m Trial 140 finished with value: 0.8707831847218114 and parameters: {'penalty': 'elasticnet', 'l1_ratio': 0.3137070103489068, 'C': 1.9669803848182135}. Best is trial 98 with value: 0.8707935692689054.\u001b[0m\n",
      "\u001b[32m[I 2022-03-29 22:46:56,552]\u001b[0m Trial 145 finished with value: 0.8704102444980717 and parameters: {'penalty': 'elasticnet', 'l1_ratio': 0.3591019987884484, 'C': 1.6470513946677114}. Best is trial 98 with value: 0.8707935692689054.\u001b[0m\n",
      "\u001b[32m[I 2022-03-29 22:46:57,026]\u001b[0m Trial 146 finished with value: 0.8705422010887056 and parameters: {'penalty': 'elasticnet', 'l1_ratio': 0.36908677835238085, 'C': 1.705224218982239}. Best is trial 98 with value: 0.8707935692689054.\u001b[0m\n",
      "\u001b[32m[I 2022-03-29 22:46:58,069]\u001b[0m Trial 142 finished with value: 0.8707147168405053 and parameters: {'penalty': 'elasticnet', 'l1_ratio': 0.31100009841946424, 'C': 2.0101703950489918}. Best is trial 98 with value: 0.8707935692689054.\u001b[0m\n",
      "\u001b[32m[I 2022-03-29 22:46:58,938]\u001b[0m Trial 143 finished with value: 0.8707916305504483 and parameters: {'penalty': 'elasticnet', 'l1_ratio': 0.3603452311492691, 'C': 2.024587914349384}. Best is trial 98 with value: 0.8707935692689054.\u001b[0m\n",
      "\u001b[32m[I 2022-03-29 22:46:59,258]\u001b[0m Trial 144 finished with value: 0.8707855395955292 and parameters: {'penalty': 'elasticnet', 'l1_ratio': 0.35876176842296714, 'C': 2.0319297320298464}. Best is trial 98 with value: 0.8707935692689054.\u001b[0m\n",
      "\u001b[32m[I 2022-03-29 22:47:05,179]\u001b[0m Trial 147 finished with value: 0.8704539103268042 and parameters: {'penalty': 'elasticnet', 'l1_ratio': 0.34730287427396905, 'C': 1.6376518473695592}. Best is trial 98 with value: 0.8707935692689054.\u001b[0m\n",
      "\u001b[32m[I 2022-03-29 22:47:05,289]\u001b[0m Trial 134 finished with value: 0.8659832047479465 and parameters: {'penalty': 'elasticnet', 'l1_ratio': 0.9477390219773344, 'C': 1.884060358407503}. Best is trial 98 with value: 0.8707935692689054.\u001b[0m\n",
      "\u001b[32m[I 2022-03-29 22:47:16,604]\u001b[0m Trial 141 finished with value: 0.8667210431835151 and parameters: {'penalty': 'elasticnet', 'l1_ratio': 0.8944166896544252, 'C': 1.8914894661999408}. Best is trial 98 with value: 0.8707935692689054.\u001b[0m\n",
      "\u001b[32m[I 2022-03-29 22:47:18,450]\u001b[0m Trial 148 finished with value: 0.8706202942262808 and parameters: {'penalty': 'elasticnet', 'l1_ratio': 0.40337899054984017, 'C': 2.028430124716055}. Best is trial 98 with value: 0.8707935692689054.\u001b[0m\n",
      "\u001b[32m[I 2022-03-29 22:47:18,618]\u001b[0m Trial 149 finished with value: 0.8706876339178362 and parameters: {'penalty': 'elasticnet', 'l1_ratio': 0.3128487432922692, 'C': 2.033940186704734}. Best is trial 98 with value: 0.8707935692689054.\u001b[0m\n",
      "\u001b[32m[I 2022-03-29 22:47:20,281]\u001b[0m Trial 152 finished with value: 0.8705828464211942 and parameters: {'penalty': 'elasticnet', 'l1_ratio': 0.39617683244823715, 'C': 1.9262860797799106}. Best is trial 98 with value: 0.8707935692689054.\u001b[0m\n",
      "\u001b[32m[I 2022-03-29 22:47:20,511]\u001b[0m Trial 150 finished with value: 0.8706373779086644 and parameters: {'penalty': 'elasticnet', 'l1_ratio': 0.4030543810895517, 'C': 2.0464057863995113}. Best is trial 98 with value: 0.8707935692689054.\u001b[0m\n",
      "\u001b[32m[I 2022-03-29 22:47:20,688]\u001b[0m Trial 151 finished with value: 0.8708071916707092 and parameters: {'penalty': 'elasticnet', 'l1_ratio': 0.352754537856215, 'C': 2.0081631787578766}. Best is trial 151 with value: 0.8708071916707092.\u001b[0m\n",
      "\u001b[32m[I 2022-03-29 22:47:26,466]\u001b[0m Trial 153 finished with value: 0.8706887909752329 and parameters: {'penalty': 'elasticnet', 'l1_ratio': 0.390855639619504, 'C': 1.9733268131481712}. Best is trial 151 with value: 0.8708071916707092.\u001b[0m\n",
      "\u001b[32m[I 2022-03-29 22:47:27,422]\u001b[0m Trial 154 finished with value: 0.8706161224630852 and parameters: {'penalty': 'elasticnet', 'l1_ratio': 0.3996938265588974, 'C': 2.04442625090666}. Best is trial 151 with value: 0.8708071916707092.\u001b[0m\n",
      "\u001b[32m[I 2022-03-29 22:47:37,796]\u001b[0m Trial 155 finished with value: 0.8706758797624737 and parameters: {'penalty': 'elasticnet', 'l1_ratio': 0.39028810762321997, 'C': 2.0142085482658887}. Best is trial 151 with value: 0.8708071916707092.\u001b[0m\n",
      "\u001b[32m[I 2022-03-29 22:47:39,191]\u001b[0m Trial 159 finished with value: 0.8700264646564527 and parameters: {'penalty': 'elasticnet', 'l1_ratio': 0.3222546730394814, 'C': 1.4600008777823392}. Best is trial 151 with value: 0.8708071916707092.\u001b[0m\n",
      "\u001b[32m[I 2022-03-29 22:47:39,666]\u001b[0m Trial 156 finished with value: 0.8707181774141198 and parameters: {'penalty': 'elasticnet', 'l1_ratio': 0.3176955131874916, 'C': 2.02273218091952}. Best is trial 151 with value: 0.8708071916707092.\u001b[0m\n",
      "\u001b[32m[I 2022-03-29 22:47:40,917]\u001b[0m Trial 157 finished with value: 0.8707174386323432 and parameters: {'penalty': 'elasticnet', 'l1_ratio': 0.31867067637811036, 'C': 2.0352357602839204}. Best is trial 151 with value: 0.8708071916707092.\u001b[0m\n",
      "\u001b[32m[I 2022-03-29 22:47:41,107]\u001b[0m Trial 158 finished with value: 0.870706763860133 and parameters: {'penalty': 'elasticnet', 'l1_ratio': 0.3222507145005674, 'C': 2.018129447406186}. Best is trial 151 with value: 0.8708071916707092.\u001b[0m\n",
      "\u001b[32m[I 2022-03-29 22:47:42,934]\u001b[0m Trial 160 finished with value: 0.870690377924716 and parameters: {'penalty': 'elasticnet', 'l1_ratio': 0.3251228062293838, 'C': 2.033662130550204}. Best is trial 151 with value: 0.8708071916707092.\u001b[0m\n",
      "\u001b[32m[I 2022-03-29 22:47:45,694]\u001b[0m Trial 162 finished with value: 0.8696226728911106 and parameters: {'penalty': 'elasticnet', 'l1_ratio': 0.3219956172314535, 'C': 1.3894316868008698}. Best is trial 151 with value: 0.8708071916707092.\u001b[0m\n",
      "\u001b[32m[I 2022-03-29 22:47:49,119]\u001b[0m Trial 161 finished with value: 0.8706400612165942 and parameters: {'penalty': 'elasticnet', 'l1_ratio': 0.3241272205811956, 'C': 2.0612918144045254}. Best is trial 151 with value: 0.8708071916707092.\u001b[0m\n",
      "\u001b[32m[I 2022-03-29 22:48:03,737]\u001b[0m Trial 163 finished with value: 0.8701185144372027 and parameters: {'penalty': 'elasticnet', 'l1_ratio': 0.3197877924264114, 'C': 2.470850895705854}. Best is trial 151 with value: 0.8708071916707092.\u001b[0m\n",
      "\u001b[32m[I 2022-03-29 22:48:05,054]\u001b[0m Trial 164 finished with value: 0.8701055783210933 and parameters: {'penalty': 'elasticnet', 'l1_ratio': 0.3189224885327456, 'C': 2.4950222322437345}. Best is trial 151 with value: 0.8708071916707092.\u001b[0m\n",
      "\u001b[32m[I 2022-03-29 22:48:05,578]\u001b[0m Trial 165 finished with value: 0.8702657767362668 and parameters: {'penalty': 'elasticnet', 'l1_ratio': 0.3578099929297846, 'C': 2.385417355417415}. Best is trial 151 with value: 0.8708071916707092.\u001b[0m\n",
      "\u001b[32m[I 2022-03-29 22:48:06,650]\u001b[0m Trial 166 finished with value: 0.8700813368994186 and parameters: {'penalty': 'elasticnet', 'l1_ratio': 0.3548565189703682, 'C': 2.4639354335777073}. Best is trial 151 with value: 0.8708071916707092.\u001b[0m\n",
      "\u001b[32m[I 2022-03-29 22:48:07,049]\u001b[0m Trial 167 finished with value: 0.8701503485737344 and parameters: {'penalty': 'elasticnet', 'l1_ratio': 0.35618806344649107, 'C': 2.451637511989169}. Best is trial 151 with value: 0.8708071916707092.\u001b[0m\n",
      "\u001b[32m[I 2022-03-29 22:48:09,635]\u001b[0m Trial 168 finished with value: 0.8700341251701205 and parameters: {'penalty': 'elasticnet', 'l1_ratio': 0.3608595337494561, 'C': 2.4995030635717743}. Best is trial 151 with value: 0.8708071916707092.\u001b[0m\n",
      "\u001b[32m[I 2022-03-29 22:48:11,854]\u001b[0m Trial 169 finished with value: 0.8700992642167265 and parameters: {'penalty': 'elasticnet', 'l1_ratio': 0.3524654010629526, 'C': 2.4623288579379525}. Best is trial 151 with value: 0.8708071916707092.\u001b[0m\n",
      "\u001b[32m[I 2022-03-29 22:48:15,518]\u001b[0m Trial 170 finished with value: 0.8700887661820005 and parameters: {'penalty': 'elasticnet', 'l1_ratio': 0.34915659785082204, 'C': 2.486015231911173}. Best is trial 151 with value: 0.8708071916707092.\u001b[0m\n",
      "\u001b[32m[I 2022-03-29 22:48:23,124]\u001b[0m Trial 171 finished with value: 0.8703859285037526 and parameters: {'penalty': 'elasticnet', 'l1_ratio': 0.3476500185386052, 'C': 1.6108295545500637}. Best is trial 151 with value: 0.8708071916707092.\u001b[0m\n",
      "\u001b[32m[I 2022-03-29 22:48:32,423]\u001b[0m Trial 177 finished with value: 0.8705995866764877 and parameters: {'penalty': 'elasticnet', 'l1_ratio': 0.28194176600315374, 'C': 1.6504441516791446}. Best is trial 151 with value: 0.8708071916707092.\u001b[0m\n",
      "\u001b[32m[I 2022-03-29 22:48:51,770]\u001b[0m Trial 172 finished with value: 0.8350460877147134 and parameters: {'penalty': 'none', 'C': 1.6022835022546047}. Best is trial 151 with value: 0.8708071916707092.\u001b[0m\n",
      "\u001b[32m[I 2022-03-29 22:48:52,491]\u001b[0m Trial 173 finished with value: 0.8350460877147134 and parameters: {'penalty': 'none', 'C': 1.6188390325855675}. Best is trial 151 with value: 0.8708071916707092.\u001b[0m\n",
      "\u001b[32m[I 2022-03-29 22:48:53,330]\u001b[0m Trial 174 finished with value: 0.8350460877147134 and parameters: {'penalty': 'none', 'C': 1.6336787686658543}. Best is trial 151 with value: 0.8708071916707092.\u001b[0m\n",
      "\u001b[32m[I 2022-03-29 22:48:53,893]\u001b[0m Trial 175 finished with value: 0.8350460877147134 and parameters: {'penalty': 'none', 'C': 1.6161443474548627}. Best is trial 151 with value: 0.8708071916707092.\u001b[0m\n",
      "\u001b[32m[I 2022-03-29 22:48:57,114]\u001b[0m Trial 176 finished with value: 0.8350460877147134 and parameters: {'penalty': 'none', 'C': 1.6210772912928517}. Best is trial 151 with value: 0.8708071916707092.\u001b[0m\n",
      "\u001b[32m[I 2022-03-29 22:49:02,333]\u001b[0m Trial 178 finished with value: 0.8350460877147134 and parameters: {'penalty': 'none', 'C': 1.6265179205536338}. Best is trial 151 with value: 0.8708071916707092.\u001b[0m\n",
      "\u001b[32m[I 2022-03-29 22:49:10,037]\u001b[0m Trial 179 finished with value: 0.8350460877147134 and parameters: {'penalty': 'none', 'C': 1.8455676013235855}. Best is trial 151 with value: 0.8708071916707092.\u001b[0m\n",
      "\u001b[32m[I 2022-03-29 22:49:13,784]\u001b[0m Trial 181 finished with value: 0.8707766037448786 and parameters: {'penalty': 'elasticnet', 'l1_ratio': 0.2723065695549347, 'C': 1.827200959712088}. Best is trial 151 with value: 0.8708071916707092.\u001b[0m\n",
      "\u001b[32m[I 2022-03-29 22:49:14,426]\u001b[0m Trial 182 finished with value: 0.8707797463632388 and parameters: {'penalty': 'elasticnet', 'l1_ratio': 0.2742509598203824, 'C': 1.8327413793615568}. Best is trial 151 with value: 0.8708071916707092.\u001b[0m\n",
      "\u001b[32m[I 2022-03-29 22:49:15,386]\u001b[0m Trial 183 finished with value: 0.8707700550303293 and parameters: {'penalty': 'elasticnet', 'l1_ratio': 0.2692462772027044, 'C': 1.8167075728996394}. Best is trial 151 with value: 0.8708071916707092.\u001b[0m\n",
      "\u001b[32m[I 2022-03-29 22:49:15,817]\u001b[0m Trial 184 finished with value: 0.870724784001368 and parameters: {'penalty': 'elasticnet', 'l1_ratio': 0.27871368206231195, 'C': 1.8139876073610874}. Best is trial 151 with value: 0.8708071916707092.\u001b[0m\n",
      "\u001b[32m[I 2022-03-29 22:49:18,801]\u001b[0m Trial 180 finished with value: 0.8350460877147134 and parameters: {'penalty': 'none', 'C': 1.9043071466671913}. Best is trial 151 with value: 0.8708071916707092.\u001b[0m\n",
      "\u001b[32m[I 2022-03-29 22:49:19,401]\u001b[0m Trial 185 finished with value: 0.8692624698282699 and parameters: {'penalty': 'elasticnet', 'l1_ratio': 0.5712383630277055, 'C': 1.786602400540048}. Best is trial 151 with value: 0.8708071916707092.\u001b[0m\n",
      "\u001b[32m[I 2022-03-29 22:49:23,162]\u001b[0m Trial 186 finished with value: 0.8704955068356731 and parameters: {'penalty': 'elasticnet', 'l1_ratio': 0.4300776083690582, 'C': 1.840426495039202}. Best is trial 151 with value: 0.8708071916707092.\u001b[0m\n",
      "\u001b[32m[I 2022-03-29 22:49:34,310]\u001b[0m Trial 187 finished with value: 0.8706161725634591 and parameters: {'penalty': 'elasticnet', 'l1_ratio': 0.26916135945883074, 'C': 2.1099622152083257}. Best is trial 151 with value: 0.8708071916707092.\u001b[0m\n",
      "\u001b[32m[I 2022-03-29 22:49:35,542]\u001b[0m Trial 188 finished with value: 0.8707133462504597 and parameters: {'penalty': 'elasticnet', 'l1_ratio': 0.28309560710203774, 'C': 1.820507741740269}. Best is trial 151 with value: 0.8708071916707092.\u001b[0m\n",
      "\u001b[32m[I 2022-03-29 22:49:35,904]\u001b[0m Trial 189 finished with value: 0.8707033288968343 and parameters: {'penalty': 'elasticnet', 'l1_ratio': 0.2822527359752769, 'C': 1.8086116963649865}. Best is trial 151 with value: 0.8708071916707092.\u001b[0m\n",
      "\u001b[32m[I 2022-03-29 22:49:38,506]\u001b[0m Trial 190 finished with value: 0.8696516704700367 and parameters: {'penalty': 'elasticnet', 'l1_ratio': 0.556048357674101, 'C': 1.8419651730543143}. Best is trial 151 with value: 0.8708071916707092.\u001b[0m\n",
      "\u001b[32m[I 2022-03-29 22:49:39,335]\u001b[0m Trial 191 finished with value: 0.8694302117200857 and parameters: {'penalty': 'elasticnet', 'l1_ratio': 0.5803166209060787, 'C': 1.8771095787117669}. Best is trial 151 with value: 0.8708071916707092.\u001b[0m\n",
      "\u001b[32m[I 2022-03-29 22:49:40,545]\u001b[0m Trial 192 finished with value: 0.870774105808917 and parameters: {'penalty': 'elasticnet', 'l1_ratio': 0.2711623380401341, 'C': 1.810165483207307}. Best is trial 151 with value: 0.8708071916707092.\u001b[0m\n",
      "\u001b[32m[I 2022-03-29 22:49:40,883]\u001b[0m Trial 193 finished with value: 0.8707625651867404 and parameters: {'penalty': 'elasticnet', 'l1_ratio': 0.2747024556708114, 'C': 1.8461715290036598}. Best is trial 151 with value: 0.8708071916707092.\u001b[0m\n",
      "\u001b[32m[I 2022-03-29 22:49:44,080]\u001b[0m Trial 194 finished with value: 0.8707511577163355 and parameters: {'penalty': 'elasticnet', 'l1_ratio': 0.2715550537004935, 'C': 1.805584885504973}. Best is trial 151 with value: 0.8708071916707092.\u001b[0m\n",
      "\u001b[32m[I 2022-03-29 22:49:54,536]\u001b[0m Trial 195 finished with value: 0.8705849434884468 and parameters: {'penalty': 'elasticnet', 'l1_ratio': 0.23570470282362257, 'C': 1.828788671900144}. Best is trial 151 with value: 0.8708071916707092.\u001b[0m\n",
      "\u001b[32m[I 2022-03-29 22:49:55,476]\u001b[0m Trial 196 finished with value: 0.870601716574609 and parameters: {'penalty': 'elasticnet', 'l1_ratio': 0.23575671490209715, 'C': 1.8964980594121452}. Best is trial 151 with value: 0.8708071916707092.\u001b[0m\n",
      "\u001b[32m[I 2022-03-29 22:49:56,684]\u001b[0m Trial 197 finished with value: 0.8704478765548692 and parameters: {'penalty': 'elasticnet', 'l1_ratio': 0.2410270002476712, 'C': 2.300224214741804}. Best is trial 151 with value: 0.8708071916707092.\u001b[0m\n",
      "\u001b[32m[I 2022-03-29 22:49:57,936]\u001b[0m Trial 198 finished with value: 0.8705397180265405 and parameters: {'penalty': 'elasticnet', 'l1_ratio': 0.231073483248443, 'C': 2.1056105194310346}. Best is trial 151 with value: 0.8708071916707092.\u001b[0m\n",
      "\u001b[32m[I 2022-03-29 22:49:58,395]\u001b[0m Trial 199 finished with value: 0.870569498544126 and parameters: {'penalty': 'elasticnet', 'l1_ratio': 0.231762733873796, 'C': 2.1230778018309984}. Best is trial 151 with value: 0.8708071916707092.\u001b[0m\n"
     ]
    }
   ],
   "source": [
    "# Define objective we want to optimize\n",
    "def objective(trial, X_train = X_train, y_train = y_train, X_test = X_test, y_test = y_test):\n",
    "\n",
    "    # Suggest penalty parameter for objective\n",
    "    penalty_dummy = trial.suggest_categorical('penalty', ['l1', 'l2', 'elasticnet', 'none'])\n",
    "\n",
    "    # Model requires a l1_ratio if its penalty is 'elasticnet'\n",
    "    if penalty_dummy == 'elasticnet':\n",
    "\n",
    "        l1_ratio = trial.suggest_uniform('l1_ratio', 0, 1)\n",
    "\n",
    "    else:\n",
    "\n",
    "        l1_ratio = None\n",
    "\n",
    "    # Define paramters we want to adjust\n",
    "    obj_params = {\n",
    "        'penalty' : penalty_dummy,\n",
    "        'C' : trial.suggest_uniform('C', 0, 7),\n",
    "        'l1_ratio' : l1_ratio,\n",
    "\n",
    "        'solver' : 'saga',\n",
    "        'random_state' : p.RANDOM_STATE\n",
    "    }\n",
    "\n",
    "    # Create objective model\n",
    "    lr_obj = LogisticRegression(**obj_params)\n",
    "    lr_obj.fit(X_train, y_train)\n",
    "\n",
    "    # Make predictions from fitted model\n",
    "    y_pred = lr_obj.predict_proba(X_test)\n",
    "\n",
    "    # Calculate roc score for model predictions\n",
    "    roc = roc_auc_score(y_true = y_test, y_score = y_pred, average = 'macro', multi_class='ovr')\n",
    "    \n",
    "    # Return roc - metric to be maximized\n",
    "    return roc\n",
    "\n",
    "# Create optuna study to maximise objective\n",
    "study = optuna.create_study(direction='maximize')\n",
    "\n",
    "# Optimize objective for this study over 200 trails\n",
    "study.optimize(objective, n_trials = 200, n_jobs = -1)"
   ]
  },
  {
   "cell_type": "code",
   "execution_count": 20,
   "metadata": {},
   "outputs": [
    {
     "data": {
      "text/plain": [
       "{'penalty': 'elasticnet',\n",
       " 'l1_ratio': 0.352754537856215,\n",
       " 'C': 2.0081631787578766,\n",
       " 'solver': 'saga',\n",
       " 'random_state': 73}"
      ]
     },
     "execution_count": 20,
     "metadata": {},
     "output_type": "execute_result"
    }
   ],
   "source": [
    "# Copy best parameters for LR model\n",
    "lr_tuned_params = study.best_params.copy()\n",
    "lr_tuned_params['solver'] = 'saga'\n",
    "lr_tuned_params['random_state'] = p.RANDOM_STATE\n",
    "lr_tuned_params"
   ]
  },
  {
   "cell_type": "code",
   "execution_count": 21,
   "metadata": {},
   "outputs": [],
   "source": [
    "# Create tuned LR model\n",
    "lr_tuned = LogisticRegression(**lr_tuned_params).fit(**train_data)"
   ]
  },
  {
   "cell_type": "markdown",
   "metadata": {},
   "source": [
    "#### Overall Evaluation"
   ]
  },
  {
   "cell_type": "code",
   "execution_count": 22,
   "metadata": {},
   "outputs": [
    {
     "data": {
      "text/html": [
       "<div>\n",
       "<style scoped>\n",
       "    .dataframe tbody tr th:only-of-type {\n",
       "        vertical-align: middle;\n",
       "    }\n",
       "\n",
       "    .dataframe tbody tr th {\n",
       "        vertical-align: top;\n",
       "    }\n",
       "\n",
       "    .dataframe thead th {\n",
       "        text-align: right;\n",
       "    }\n",
       "</style>\n",
       "<table border=\"1\" class=\"dataframe\">\n",
       "  <thead>\n",
       "    <tr style=\"text-align: right;\">\n",
       "      <th></th>\n",
       "      <th>ROC</th>\n",
       "      <th>Accuracy</th>\n",
       "      <th>Precision</th>\n",
       "      <th>Recall</th>\n",
       "    </tr>\n",
       "  </thead>\n",
       "  <tbody>\n",
       "    <tr>\n",
       "      <th>Train</th>\n",
       "      <td>0.976142</td>\n",
       "      <td>0.858273</td>\n",
       "      <td>0.878045</td>\n",
       "      <td>0.772849</td>\n",
       "    </tr>\n",
       "    <tr>\n",
       "      <th>Test</th>\n",
       "      <td>0.870807</td>\n",
       "      <td>0.749485</td>\n",
       "      <td>0.735084</td>\n",
       "      <td>0.635071</td>\n",
       "    </tr>\n",
       "    <tr>\n",
       "      <th>Validation</th>\n",
       "      <td>0.861372</td>\n",
       "      <td>0.742002</td>\n",
       "      <td>0.733468</td>\n",
       "      <td>0.606739</td>\n",
       "    </tr>\n",
       "  </tbody>\n",
       "</table>\n",
       "</div>"
      ],
      "text/plain": [
       "                 ROC  Accuracy  Precision    Recall\n",
       "Train       0.976142  0.858273   0.878045  0.772849\n",
       "Test        0.870807  0.749485   0.735084  0.635071\n",
       "Validation  0.861372  0.742002   0.733468  0.606739"
      ]
     },
     "execution_count": 22,
     "metadata": {},
     "output_type": "execute_result"
    }
   ],
   "source": [
    "model = lr_tuned\n",
    "\n",
    "# Calculate model metrics for each dataset\n",
    "model_metrics = {\n",
    "    'Train' : f.evaluate_model(model, **train_data),\n",
    "    'Test' : f.evaluate_model(model, **test_data),\n",
    "    'Validation' : f.evaluate_model(model, **val_data)\n",
    "}\n",
    "\n",
    "# Display metrics in a dataframe\n",
    "pd.DataFrame(model_metrics).T"
   ]
  },
  {
   "cell_type": "markdown",
   "metadata": {},
   "source": [
    "This suggests the model is heavily over fit."
   ]
  },
  {
   "cell_type": "markdown",
   "metadata": {},
   "source": [
    "### Confusion Matrix"
   ]
  },
  {
   "cell_type": "code",
   "execution_count": 23,
   "metadata": {},
   "outputs": [
    {
     "data": {
      "image/png": "[encoded data removed]",
      "text/plain": [
       "<Figure size 576x576 with 2 Axes>"
      ]
     },
     "metadata": {
      "needs_background": "light"
     },
     "output_type": "display_data"
    }
   ],
   "source": [
    "def create_confusion_matrix(model, model_name: str):\n",
    "    \"\"\"Calculates and displays a confusion matrix for model\n",
    "\n",
    "    Args:\n",
    "        model: model to evaluate\n",
    "        model_name (str): name of model\n",
    "    \"\"\"\n",
    "\n",
    "    # Create figure and axis to display plot\n",
    "    fig, ax = plt.subplots(1, 1, figsize=(8, 8))\n",
    "\n",
    "    # Calculates confusion matrix\n",
    "    plot_confusion_matrix(model, X_test, y_test, cmap=\"Blues\", ax=ax)\n",
    "\n",
    "    # Sets title for plot\n",
    "    plt.title(f\"Confusion Matrix for {model_name} Model\")\n",
    "\n",
    "    # Shows plot\n",
    "    plt.show()\n",
    "\n",
    "# Calculate confusion matrix for Tuned LR model\n",
    "create_confusion_matrix(lr_tuned, \"Tuned Linear Regression\")"
   ]
  },
  {
   "cell_type": "markdown",
   "metadata": {},
   "source": [
    "### Feature Importances"
   ]
  },
  {
   "cell_type": "code",
   "execution_count": 28,
   "metadata": {},
   "outputs": [
    {
     "data": {
      "image/png": "[encoded data removed]",
      "text/plain": [
       "<Figure size 720x864 with 3 Axes>"
      ]
     },
     "metadata": {
      "needs_background": "light"
     },
     "output_type": "display_data"
    }
   ],
   "source": [
    "def plot_feature_importance(model, model_name: str, class_label: int):\n",
    "    \"\"\"Plots feature importances for the specified class label\n",
    "\n",
    "    Args:\n",
    "        model: model we want importances for\n",
    "        model_name (str): name of model\n",
    "        class_label (int): class we want to analyse (one of 0, 1 or 2)\n",
    "    \"\"\"\n",
    "\n",
    "    class_dict = {0 : 'Negative', 1 : 'Neutral', 2 : 'Positive'}\n",
    "\n",
    "    # Create figure and axis to display plot\n",
    "    fig, ax = plt.subplots(nrows = 3, ncols = 1, figsize=(10, 12))\n",
    "\n",
    "    for idx, cl in enumerate([0, 1, 2]):\n",
    "        # Retrive feature coefficients from model for class label\n",
    "        coefs = model.coef_[cl]\n",
    "\n",
    "        # Plot coefficients as a horizontal bar plot\n",
    "        pd.Series(coefs, index=model.feature_names_in_).nlargest(5).sort_values(ascending=True).plot(\n",
    "            kind=\"barh\", ax=ax[idx], title=f\"Feature Importance (Top 3) for Group {cl}, {class_dict[cl]}\"\n",
    "        )\n",
    "\n",
    "    # Show plot\n",
    "    plt.show()\n",
    "\n",
    "\n",
    "# Call function for Tuned LR model\n",
    "plot_feature_importance(lr_tuned, \"Tuned Logistic Regression\", 1)\n"
   ]
  },
  {
   "cell_type": "markdown",
   "metadata": {},
   "source": [
    "### Histogram of Predicted probabilities"
   ]
  },
  {
   "cell_type": "code",
   "execution_count": null,
   "metadata": {},
   "outputs": [],
   "source": []
  }
 ],
 "metadata": {
  "interpreter": {
   "hash": "1c31da5edd4aad8fb53d12d73a780cc43060c0f39f08ff1fc327c1bcdbfa7e83"
  },
  "kernelspec": {
   "display_name": "Python 3.9.10 ('data_analytics')",
   "language": "python",
   "name": "python3"
  },
  "language_info": {
   "codemirror_mode": {
    "name": "ipython",
    "version": 3
   },
   "file_extension": ".py",
   "mimetype": "text/x-python",
   "name": "python",
   "nbconvert_exporter": "python",
   "pygments_lexer": "ipython3",
   "version": "3.9.10"
  },
  "orig_nbformat": 4
 },
 "nbformat": 4,
 "nbformat_minor": 2
}
